{
 "cells": [
  {
   "cell_type": "code",
   "execution_count": 1,
   "metadata": {
    "slideshow": {
     "slide_type": "skip"
    }
   },
   "outputs": [],
   "source": [
    "import numpy as np\n",
    "import pandas as pd\n",
    "\n",
    "import matplotlib.pyplot as plt"
   ]
  },
  {
   "cell_type": "code",
   "execution_count": 2,
   "metadata": {
    "slideshow": {
     "slide_type": "skip"
    }
   },
   "outputs": [],
   "source": [
    "%matplotlib notebook"
   ]
  },
  {
   "cell_type": "markdown",
   "metadata": {
    "slideshow": {
     "slide_type": "slide"
    }
   },
   "source": [
    "# Construction Zone: Building a Metropolis-Hastings Sampler From Scratch\n",
    "\n",
    "#### Version 0.1\n",
    "\n",
    "-----\n",
    "\n",
    "By AA Miller (Northwestern/Adler Planetarium)\n",
    "\n",
    "27 Aug 2019"
   ]
  },
  {
   "cell_type": "markdown",
   "metadata": {
    "slideshow": {
     "slide_type": "slide"
    }
   },
   "source": [
    "As we just saw, Bayes' Law provides a framework for understanding/inferring model parameters *given* some observations/data:\n",
    "\n",
    "$$P(\\theta\\mid\\mathbf{x}) = \\frac{P(\\mathbf{x}\\mid\\theta)\\;P(\\theta)}{P(\\mathbf{x})},$$\n",
    "\n",
    "where we have used the short-hand notation with $\\theta$ representing the model parameters, and $\\mathbf{x}$ representing the data. "
   ]
  },
  {
   "cell_type": "markdown",
   "metadata": {
    "slideshow": {
     "slide_type": "slide"
    }
   },
   "source": [
    "To redefine some terms,\n",
    "\n",
    "$P(\\mathbf{x}\\mid\\theta)$, the probability of the data given the model parameters, is the *likelihood*, $\\mathcal{L}$.\n",
    "\n",
    "$P(\\theta)$, the probability of the model parameters, is the *prior*.\n",
    "\n",
    "$P(\\mathbf{x})$ the probability of the data, is the *evidence*. (That sounds weird right? More on this in a bit...)\n",
    "\n",
    "Finally, $P(\\theta\\mid\\mathbf{x})$, the probability of the model parameters given the data, is the *posterior*. "
   ]
  },
  {
   "cell_type": "markdown",
   "metadata": {
    "slideshow": {
     "slide_type": "subslide"
    }
   },
   "source": [
    "We typically want to estimate some model parameters, $\\theta$, and thus we need to integrate the posterior, $P(\\theta\\mid\\mathbf{x})$.\n",
    "\n",
    "This is **hard**."
   ]
  },
  {
   "cell_type": "markdown",
   "metadata": {
    "slideshow": {
     "slide_type": "subslide"
    }
   },
   "source": [
    "In particular, how in the world are we supposed to estimate the *probability of data*?!\n",
    "\n",
    "This is –– capital H –– **Hard**.\n",
    "\n",
    "(We will discuss this on Friday)"
   ]
  },
  {
   "cell_type": "markdown",
   "metadata": {
    "slideshow": {
     "slide_type": "subslide"
    }
   },
   "source": [
    "Fortunately, $P(\\mathbf{x})$ simply serves as a normalization term, and, in many applications, can be ignored. \n",
    "\n",
    "Thus, given that the posterior is $\\propto \\mathcal{L}\\;P(\\theta)$, we can maximize the posterior by maximizing the product of the likelihood and the prior. While this still leaves a complicated integral, there are many tools that can approximate that integral rather efficiently..."
   ]
  },
  {
   "cell_type": "markdown",
   "metadata": {
    "slideshow": {
     "slide_type": "subslide"
    }
   },
   "source": [
    "including the Metropolis-Hastings algorithm!"
   ]
  },
  {
   "cell_type": "markdown",
   "metadata": {
    "slideshow": {
     "slide_type": "slide"
    }
   },
   "source": [
    "## Problem 1) Simulate the Observations\n",
    "\n",
    "As we work towards implementing the MH sampler, we will attempt to solve a very common problem in the statistical literature: estimating the slope and intercept of a line from noisy data.\n",
    "\n",
    "Here we will simulate some data with known model parameters so we can later compare our estimates to the correct answer."
   ]
  },
  {
   "cell_type": "markdown",
   "metadata": {
    "slideshow": {
     "slide_type": "slide"
    }
   },
   "source": [
    "**Problem 1a**\n",
    "\n",
    "Draw 40 observations between 0 and 100 from a linear model with slope, $m = 2.3$, and intercept, $b = 15$. Assume that each observation is drawn from a Gaussian distribution with mean $\\mu = 0$ and variance, $\\sigma^2$ = 2500."
   ]
  },
  {
   "cell_type": "code",
   "execution_count": 17,
   "metadata": {
    "slideshow": {
     "slide_type": "subslide"
    }
   },
   "outputs": [],
   "source": [
    "np.random.seed(212)\n",
    "m_true = 2.3\n",
    "b_true = 15\n",
    "x = np.random.uniform(low=0, high=100, size=40)\n",
    "y_true = b_true + m_true*x\n",
    "y_obs = y_true + np.random.normal(0,50,size=40)\n",
    "y_unc = np.ones_like(y_obs)*50"
   ]
  },
  {
   "cell_type": "markdown",
   "metadata": {
    "slideshow": {
     "slide_type": "subslide"
    }
   },
   "source": [
    "**Problem 1b**\n",
    "\n",
    "Plot the observations and the corresponding uncertainties. Overplot a line showing the model from which the data were drawn."
   ]
  },
  {
   "cell_type": "code",
   "execution_count": 19,
   "metadata": {
    "slideshow": {
     "slide_type": "subslide"
    }
   },
   "outputs": [
    {
     "data": {
      "application/javascript": [
       "/* Put everything inside the global mpl namespace */\n",
       "window.mpl = {};\n",
       "\n",
       "\n",
       "mpl.get_websocket_type = function() {\n",
       "    if (typeof(WebSocket) !== 'undefined') {\n",
       "        return WebSocket;\n",
       "    } else if (typeof(MozWebSocket) !== 'undefined') {\n",
       "        return MozWebSocket;\n",
       "    } else {\n",
       "        alert('Your browser does not have WebSocket support.' +\n",
       "              'Please try Chrome, Safari or Firefox ≥ 6. ' +\n",
       "              'Firefox 4 and 5 are also supported but you ' +\n",
       "              'have to enable WebSockets in about:config.');\n",
       "    };\n",
       "}\n",
       "\n",
       "mpl.figure = function(figure_id, websocket, ondownload, parent_element) {\n",
       "    this.id = figure_id;\n",
       "\n",
       "    this.ws = websocket;\n",
       "\n",
       "    this.supports_binary = (this.ws.binaryType != undefined);\n",
       "\n",
       "    if (!this.supports_binary) {\n",
       "        var warnings = document.getElementById(\"mpl-warnings\");\n",
       "        if (warnings) {\n",
       "            warnings.style.display = 'block';\n",
       "            warnings.textContent = (\n",
       "                \"This browser does not support binary websocket messages. \" +\n",
       "                    \"Performance may be slow.\");\n",
       "        }\n",
       "    }\n",
       "\n",
       "    this.imageObj = new Image();\n",
       "\n",
       "    this.context = undefined;\n",
       "    this.message = undefined;\n",
       "    this.canvas = undefined;\n",
       "    this.rubberband_canvas = undefined;\n",
       "    this.rubberband_context = undefined;\n",
       "    this.format_dropdown = undefined;\n",
       "\n",
       "    this.image_mode = 'full';\n",
       "\n",
       "    this.root = $('<div/>');\n",
       "    this._root_extra_style(this.root)\n",
       "    this.root.attr('style', 'display: inline-block');\n",
       "\n",
       "    $(parent_element).append(this.root);\n",
       "\n",
       "    this._init_header(this);\n",
       "    this._init_canvas(this);\n",
       "    this._init_toolbar(this);\n",
       "\n",
       "    var fig = this;\n",
       "\n",
       "    this.waiting = false;\n",
       "\n",
       "    this.ws.onopen =  function () {\n",
       "            fig.send_message(\"supports_binary\", {value: fig.supports_binary});\n",
       "            fig.send_message(\"send_image_mode\", {});\n",
       "            if (mpl.ratio != 1) {\n",
       "                fig.send_message(\"set_dpi_ratio\", {'dpi_ratio': mpl.ratio});\n",
       "            }\n",
       "            fig.send_message(\"refresh\", {});\n",
       "        }\n",
       "\n",
       "    this.imageObj.onload = function() {\n",
       "            if (fig.image_mode == 'full') {\n",
       "                // Full images could contain transparency (where diff images\n",
       "                // almost always do), so we need to clear the canvas so that\n",
       "                // there is no ghosting.\n",
       "                fig.context.clearRect(0, 0, fig.canvas.width, fig.canvas.height);\n",
       "            }\n",
       "            fig.context.drawImage(fig.imageObj, 0, 0);\n",
       "        };\n",
       "\n",
       "    this.imageObj.onunload = function() {\n",
       "        fig.ws.close();\n",
       "    }\n",
       "\n",
       "    this.ws.onmessage = this._make_on_message_function(this);\n",
       "\n",
       "    this.ondownload = ondownload;\n",
       "}\n",
       "\n",
       "mpl.figure.prototype._init_header = function() {\n",
       "    var titlebar = $(\n",
       "        '<div class=\"ui-dialog-titlebar ui-widget-header ui-corner-all ' +\n",
       "        'ui-helper-clearfix\"/>');\n",
       "    var titletext = $(\n",
       "        '<div class=\"ui-dialog-title\" style=\"width: 100%; ' +\n",
       "        'text-align: center; padding: 3px;\"/>');\n",
       "    titlebar.append(titletext)\n",
       "    this.root.append(titlebar);\n",
       "    this.header = titletext[0];\n",
       "}\n",
       "\n",
       "\n",
       "\n",
       "mpl.figure.prototype._canvas_extra_style = function(canvas_div) {\n",
       "\n",
       "}\n",
       "\n",
       "\n",
       "mpl.figure.prototype._root_extra_style = function(canvas_div) {\n",
       "\n",
       "}\n",
       "\n",
       "mpl.figure.prototype._init_canvas = function() {\n",
       "    var fig = this;\n",
       "\n",
       "    var canvas_div = $('<div/>');\n",
       "\n",
       "    canvas_div.attr('style', 'position: relative; clear: both; outline: 0');\n",
       "\n",
       "    function canvas_keyboard_event(event) {\n",
       "        return fig.key_event(event, event['data']);\n",
       "    }\n",
       "\n",
       "    canvas_div.keydown('key_press', canvas_keyboard_event);\n",
       "    canvas_div.keyup('key_release', canvas_keyboard_event);\n",
       "    this.canvas_div = canvas_div\n",
       "    this._canvas_extra_style(canvas_div)\n",
       "    this.root.append(canvas_div);\n",
       "\n",
       "    var canvas = $('<canvas/>');\n",
       "    canvas.addClass('mpl-canvas');\n",
       "    canvas.attr('style', \"left: 0; top: 0; z-index: 0; outline: 0\")\n",
       "\n",
       "    this.canvas = canvas[0];\n",
       "    this.context = canvas[0].getContext(\"2d\");\n",
       "\n",
       "    var backingStore = this.context.backingStorePixelRatio ||\n",
       "\tthis.context.webkitBackingStorePixelRatio ||\n",
       "\tthis.context.mozBackingStorePixelRatio ||\n",
       "\tthis.context.msBackingStorePixelRatio ||\n",
       "\tthis.context.oBackingStorePixelRatio ||\n",
       "\tthis.context.backingStorePixelRatio || 1;\n",
       "\n",
       "    mpl.ratio = (window.devicePixelRatio || 1) / backingStore;\n",
       "\n",
       "    var rubberband = $('<canvas/>');\n",
       "    rubberband.attr('style', \"position: absolute; left: 0; top: 0; z-index: 1;\")\n",
       "\n",
       "    var pass_mouse_events = true;\n",
       "\n",
       "    canvas_div.resizable({\n",
       "        start: function(event, ui) {\n",
       "            pass_mouse_events = false;\n",
       "        },\n",
       "        resize: function(event, ui) {\n",
       "            fig.request_resize(ui.size.width, ui.size.height);\n",
       "        },\n",
       "        stop: function(event, ui) {\n",
       "            pass_mouse_events = true;\n",
       "            fig.request_resize(ui.size.width, ui.size.height);\n",
       "        },\n",
       "    });\n",
       "\n",
       "    function mouse_event_fn(event) {\n",
       "        if (pass_mouse_events)\n",
       "            return fig.mouse_event(event, event['data']);\n",
       "    }\n",
       "\n",
       "    rubberband.mousedown('button_press', mouse_event_fn);\n",
       "    rubberband.mouseup('button_release', mouse_event_fn);\n",
       "    // Throttle sequential mouse events to 1 every 20ms.\n",
       "    rubberband.mousemove('motion_notify', mouse_event_fn);\n",
       "\n",
       "    rubberband.mouseenter('figure_enter', mouse_event_fn);\n",
       "    rubberband.mouseleave('figure_leave', mouse_event_fn);\n",
       "\n",
       "    canvas_div.on(\"wheel\", function (event) {\n",
       "        event = event.originalEvent;\n",
       "        event['data'] = 'scroll'\n",
       "        if (event.deltaY < 0) {\n",
       "            event.step = 1;\n",
       "        } else {\n",
       "            event.step = -1;\n",
       "        }\n",
       "        mouse_event_fn(event);\n",
       "    });\n",
       "\n",
       "    canvas_div.append(canvas);\n",
       "    canvas_div.append(rubberband);\n",
       "\n",
       "    this.rubberband = rubberband;\n",
       "    this.rubberband_canvas = rubberband[0];\n",
       "    this.rubberband_context = rubberband[0].getContext(\"2d\");\n",
       "    this.rubberband_context.strokeStyle = \"#000000\";\n",
       "\n",
       "    this._resize_canvas = function(width, height) {\n",
       "        // Keep the size of the canvas, canvas container, and rubber band\n",
       "        // canvas in synch.\n",
       "        canvas_div.css('width', width)\n",
       "        canvas_div.css('height', height)\n",
       "\n",
       "        canvas.attr('width', width * mpl.ratio);\n",
       "        canvas.attr('height', height * mpl.ratio);\n",
       "        canvas.attr('style', 'width: ' + width + 'px; height: ' + height + 'px;');\n",
       "\n",
       "        rubberband.attr('width', width);\n",
       "        rubberband.attr('height', height);\n",
       "    }\n",
       "\n",
       "    // Set the figure to an initial 600x600px, this will subsequently be updated\n",
       "    // upon first draw.\n",
       "    this._resize_canvas(600, 600);\n",
       "\n",
       "    // Disable right mouse context menu.\n",
       "    $(this.rubberband_canvas).bind(\"contextmenu\",function(e){\n",
       "        return false;\n",
       "    });\n",
       "\n",
       "    function set_focus () {\n",
       "        canvas.focus();\n",
       "        canvas_div.focus();\n",
       "    }\n",
       "\n",
       "    window.setTimeout(set_focus, 100);\n",
       "}\n",
       "\n",
       "mpl.figure.prototype._init_toolbar = function() {\n",
       "    var fig = this;\n",
       "\n",
       "    var nav_element = $('<div/>')\n",
       "    nav_element.attr('style', 'width: 100%');\n",
       "    this.root.append(nav_element);\n",
       "\n",
       "    // Define a callback function for later on.\n",
       "    function toolbar_event(event) {\n",
       "        return fig.toolbar_button_onclick(event['data']);\n",
       "    }\n",
       "    function toolbar_mouse_event(event) {\n",
       "        return fig.toolbar_button_onmouseover(event['data']);\n",
       "    }\n",
       "\n",
       "    for(var toolbar_ind in mpl.toolbar_items) {\n",
       "        var name = mpl.toolbar_items[toolbar_ind][0];\n",
       "        var tooltip = mpl.toolbar_items[toolbar_ind][1];\n",
       "        var image = mpl.toolbar_items[toolbar_ind][2];\n",
       "        var method_name = mpl.toolbar_items[toolbar_ind][3];\n",
       "\n",
       "        if (!name) {\n",
       "            // put a spacer in here.\n",
       "            continue;\n",
       "        }\n",
       "        var button = $('<button/>');\n",
       "        button.addClass('ui-button ui-widget ui-state-default ui-corner-all ' +\n",
       "                        'ui-button-icon-only');\n",
       "        button.attr('role', 'button');\n",
       "        button.attr('aria-disabled', 'false');\n",
       "        button.click(method_name, toolbar_event);\n",
       "        button.mouseover(tooltip, toolbar_mouse_event);\n",
       "\n",
       "        var icon_img = $('<span/>');\n",
       "        icon_img.addClass('ui-button-icon-primary ui-icon');\n",
       "        icon_img.addClass(image);\n",
       "        icon_img.addClass('ui-corner-all');\n",
       "\n",
       "        var tooltip_span = $('<span/>');\n",
       "        tooltip_span.addClass('ui-button-text');\n",
       "        tooltip_span.html(tooltip);\n",
       "\n",
       "        button.append(icon_img);\n",
       "        button.append(tooltip_span);\n",
       "\n",
       "        nav_element.append(button);\n",
       "    }\n",
       "\n",
       "    var fmt_picker_span = $('<span/>');\n",
       "\n",
       "    var fmt_picker = $('<select/>');\n",
       "    fmt_picker.addClass('mpl-toolbar-option ui-widget ui-widget-content');\n",
       "    fmt_picker_span.append(fmt_picker);\n",
       "    nav_element.append(fmt_picker_span);\n",
       "    this.format_dropdown = fmt_picker[0];\n",
       "\n",
       "    for (var ind in mpl.extensions) {\n",
       "        var fmt = mpl.extensions[ind];\n",
       "        var option = $(\n",
       "            '<option/>', {selected: fmt === mpl.default_extension}).html(fmt);\n",
       "        fmt_picker.append(option)\n",
       "    }\n",
       "\n",
       "    // Add hover states to the ui-buttons\n",
       "    $( \".ui-button\" ).hover(\n",
       "        function() { $(this).addClass(\"ui-state-hover\");},\n",
       "        function() { $(this).removeClass(\"ui-state-hover\");}\n",
       "    );\n",
       "\n",
       "    var status_bar = $('<span class=\"mpl-message\"/>');\n",
       "    nav_element.append(status_bar);\n",
       "    this.message = status_bar[0];\n",
       "}\n",
       "\n",
       "mpl.figure.prototype.request_resize = function(x_pixels, y_pixels) {\n",
       "    // Request matplotlib to resize the figure. Matplotlib will then trigger a resize in the client,\n",
       "    // which will in turn request a refresh of the image.\n",
       "    this.send_message('resize', {'width': x_pixels, 'height': y_pixels});\n",
       "}\n",
       "\n",
       "mpl.figure.prototype.send_message = function(type, properties) {\n",
       "    properties['type'] = type;\n",
       "    properties['figure_id'] = this.id;\n",
       "    this.ws.send(JSON.stringify(properties));\n",
       "}\n",
       "\n",
       "mpl.figure.prototype.send_draw_message = function() {\n",
       "    if (!this.waiting) {\n",
       "        this.waiting = true;\n",
       "        this.ws.send(JSON.stringify({type: \"draw\", figure_id: this.id}));\n",
       "    }\n",
       "}\n",
       "\n",
       "\n",
       "mpl.figure.prototype.handle_save = function(fig, msg) {\n",
       "    var format_dropdown = fig.format_dropdown;\n",
       "    var format = format_dropdown.options[format_dropdown.selectedIndex].value;\n",
       "    fig.ondownload(fig, format);\n",
       "}\n",
       "\n",
       "\n",
       "mpl.figure.prototype.handle_resize = function(fig, msg) {\n",
       "    var size = msg['size'];\n",
       "    if (size[0] != fig.canvas.width || size[1] != fig.canvas.height) {\n",
       "        fig._resize_canvas(size[0], size[1]);\n",
       "        fig.send_message(\"refresh\", {});\n",
       "    };\n",
       "}\n",
       "\n",
       "mpl.figure.prototype.handle_rubberband = function(fig, msg) {\n",
       "    var x0 = msg['x0'] / mpl.ratio;\n",
       "    var y0 = (fig.canvas.height - msg['y0']) / mpl.ratio;\n",
       "    var x1 = msg['x1'] / mpl.ratio;\n",
       "    var y1 = (fig.canvas.height - msg['y1']) / mpl.ratio;\n",
       "    x0 = Math.floor(x0) + 0.5;\n",
       "    y0 = Math.floor(y0) + 0.5;\n",
       "    x1 = Math.floor(x1) + 0.5;\n",
       "    y1 = Math.floor(y1) + 0.5;\n",
       "    var min_x = Math.min(x0, x1);\n",
       "    var min_y = Math.min(y0, y1);\n",
       "    var width = Math.abs(x1 - x0);\n",
       "    var height = Math.abs(y1 - y0);\n",
       "\n",
       "    fig.rubberband_context.clearRect(\n",
       "        0, 0, fig.canvas.width, fig.canvas.height);\n",
       "\n",
       "    fig.rubberband_context.strokeRect(min_x, min_y, width, height);\n",
       "}\n",
       "\n",
       "mpl.figure.prototype.handle_figure_label = function(fig, msg) {\n",
       "    // Updates the figure title.\n",
       "    fig.header.textContent = msg['label'];\n",
       "}\n",
       "\n",
       "mpl.figure.prototype.handle_cursor = function(fig, msg) {\n",
       "    var cursor = msg['cursor'];\n",
       "    switch(cursor)\n",
       "    {\n",
       "    case 0:\n",
       "        cursor = 'pointer';\n",
       "        break;\n",
       "    case 1:\n",
       "        cursor = 'default';\n",
       "        break;\n",
       "    case 2:\n",
       "        cursor = 'crosshair';\n",
       "        break;\n",
       "    case 3:\n",
       "        cursor = 'move';\n",
       "        break;\n",
       "    }\n",
       "    fig.rubberband_canvas.style.cursor = cursor;\n",
       "}\n",
       "\n",
       "mpl.figure.prototype.handle_message = function(fig, msg) {\n",
       "    fig.message.textContent = msg['message'];\n",
       "}\n",
       "\n",
       "mpl.figure.prototype.handle_draw = function(fig, msg) {\n",
       "    // Request the server to send over a new figure.\n",
       "    fig.send_draw_message();\n",
       "}\n",
       "\n",
       "mpl.figure.prototype.handle_image_mode = function(fig, msg) {\n",
       "    fig.image_mode = msg['mode'];\n",
       "}\n",
       "\n",
       "mpl.figure.prototype.updated_canvas_event = function() {\n",
       "    // Called whenever the canvas gets updated.\n",
       "    this.send_message(\"ack\", {});\n",
       "}\n",
       "\n",
       "// A function to construct a web socket function for onmessage handling.\n",
       "// Called in the figure constructor.\n",
       "mpl.figure.prototype._make_on_message_function = function(fig) {\n",
       "    return function socket_on_message(evt) {\n",
       "        if (evt.data instanceof Blob) {\n",
       "            /* FIXME: We get \"Resource interpreted as Image but\n",
       "             * transferred with MIME type text/plain:\" errors on\n",
       "             * Chrome.  But how to set the MIME type?  It doesn't seem\n",
       "             * to be part of the websocket stream */\n",
       "            evt.data.type = \"image/png\";\n",
       "\n",
       "            /* Free the memory for the previous frames */\n",
       "            if (fig.imageObj.src) {\n",
       "                (window.URL || window.webkitURL).revokeObjectURL(\n",
       "                    fig.imageObj.src);\n",
       "            }\n",
       "\n",
       "            fig.imageObj.src = (window.URL || window.webkitURL).createObjectURL(\n",
       "                evt.data);\n",
       "            fig.updated_canvas_event();\n",
       "            fig.waiting = false;\n",
       "            return;\n",
       "        }\n",
       "        else if (typeof evt.data === 'string' && evt.data.slice(0, 21) == \"data:image/png;base64\") {\n",
       "            fig.imageObj.src = evt.data;\n",
       "            fig.updated_canvas_event();\n",
       "            fig.waiting = false;\n",
       "            return;\n",
       "        }\n",
       "\n",
       "        var msg = JSON.parse(evt.data);\n",
       "        var msg_type = msg['type'];\n",
       "\n",
       "        // Call the  \"handle_{type}\" callback, which takes\n",
       "        // the figure and JSON message as its only arguments.\n",
       "        try {\n",
       "            var callback = fig[\"handle_\" + msg_type];\n",
       "        } catch (e) {\n",
       "            console.log(\"No handler for the '\" + msg_type + \"' message type: \", msg);\n",
       "            return;\n",
       "        }\n",
       "\n",
       "        if (callback) {\n",
       "            try {\n",
       "                // console.log(\"Handling '\" + msg_type + \"' message: \", msg);\n",
       "                callback(fig, msg);\n",
       "            } catch (e) {\n",
       "                console.log(\"Exception inside the 'handler_\" + msg_type + \"' callback:\", e, e.stack, msg);\n",
       "            }\n",
       "        }\n",
       "    };\n",
       "}\n",
       "\n",
       "// from http://stackoverflow.com/questions/1114465/getting-mouse-location-in-canvas\n",
       "mpl.findpos = function(e) {\n",
       "    //this section is from http://www.quirksmode.org/js/events_properties.html\n",
       "    var targ;\n",
       "    if (!e)\n",
       "        e = window.event;\n",
       "    if (e.target)\n",
       "        targ = e.target;\n",
       "    else if (e.srcElement)\n",
       "        targ = e.srcElement;\n",
       "    if (targ.nodeType == 3) // defeat Safari bug\n",
       "        targ = targ.parentNode;\n",
       "\n",
       "    // jQuery normalizes the pageX and pageY\n",
       "    // pageX,Y are the mouse positions relative to the document\n",
       "    // offset() returns the position of the element relative to the document\n",
       "    var x = e.pageX - $(targ).offset().left;\n",
       "    var y = e.pageY - $(targ).offset().top;\n",
       "\n",
       "    return {\"x\": x, \"y\": y};\n",
       "};\n",
       "\n",
       "/*\n",
       " * return a copy of an object with only non-object keys\n",
       " * we need this to avoid circular references\n",
       " * http://stackoverflow.com/a/24161582/3208463\n",
       " */\n",
       "function simpleKeys (original) {\n",
       "  return Object.keys(original).reduce(function (obj, key) {\n",
       "    if (typeof original[key] !== 'object')\n",
       "        obj[key] = original[key]\n",
       "    return obj;\n",
       "  }, {});\n",
       "}\n",
       "\n",
       "mpl.figure.prototype.mouse_event = function(event, name) {\n",
       "    var canvas_pos = mpl.findpos(event)\n",
       "\n",
       "    if (name === 'button_press')\n",
       "    {\n",
       "        this.canvas.focus();\n",
       "        this.canvas_div.focus();\n",
       "    }\n",
       "\n",
       "    var x = canvas_pos.x * mpl.ratio;\n",
       "    var y = canvas_pos.y * mpl.ratio;\n",
       "\n",
       "    this.send_message(name, {x: x, y: y, button: event.button,\n",
       "                             step: event.step,\n",
       "                             guiEvent: simpleKeys(event)});\n",
       "\n",
       "    /* This prevents the web browser from automatically changing to\n",
       "     * the text insertion cursor when the button is pressed.  We want\n",
       "     * to control all of the cursor setting manually through the\n",
       "     * 'cursor' event from matplotlib */\n",
       "    event.preventDefault();\n",
       "    return false;\n",
       "}\n",
       "\n",
       "mpl.figure.prototype._key_event_extra = function(event, name) {\n",
       "    // Handle any extra behaviour associated with a key event\n",
       "}\n",
       "\n",
       "mpl.figure.prototype.key_event = function(event, name) {\n",
       "\n",
       "    // Prevent repeat events\n",
       "    if (name == 'key_press')\n",
       "    {\n",
       "        if (event.which === this._key)\n",
       "            return;\n",
       "        else\n",
       "            this._key = event.which;\n",
       "    }\n",
       "    if (name == 'key_release')\n",
       "        this._key = null;\n",
       "\n",
       "    var value = '';\n",
       "    if (event.ctrlKey && event.which != 17)\n",
       "        value += \"ctrl+\";\n",
       "    if (event.altKey && event.which != 18)\n",
       "        value += \"alt+\";\n",
       "    if (event.shiftKey && event.which != 16)\n",
       "        value += \"shift+\";\n",
       "\n",
       "    value += 'k';\n",
       "    value += event.which.toString();\n",
       "\n",
       "    this._key_event_extra(event, name);\n",
       "\n",
       "    this.send_message(name, {key: value,\n",
       "                             guiEvent: simpleKeys(event)});\n",
       "    return false;\n",
       "}\n",
       "\n",
       "mpl.figure.prototype.toolbar_button_onclick = function(name) {\n",
       "    if (name == 'download') {\n",
       "        this.handle_save(this, null);\n",
       "    } else {\n",
       "        this.send_message(\"toolbar_button\", {name: name});\n",
       "    }\n",
       "};\n",
       "\n",
       "mpl.figure.prototype.toolbar_button_onmouseover = function(tooltip) {\n",
       "    this.message.textContent = tooltip;\n",
       "};\n",
       "mpl.toolbar_items = [[\"Home\", \"Reset original view\", \"fa fa-home icon-home\", \"home\"], [\"Back\", \"Back to  previous view\", \"fa fa-arrow-left icon-arrow-left\", \"back\"], [\"Forward\", \"Forward to next view\", \"fa fa-arrow-right icon-arrow-right\", \"forward\"], [\"\", \"\", \"\", \"\"], [\"Pan\", \"Pan axes with left mouse, zoom with right\", \"fa fa-arrows icon-move\", \"pan\"], [\"Zoom\", \"Zoom to rectangle\", \"fa fa-square-o icon-check-empty\", \"zoom\"], [\"\", \"\", \"\", \"\"], [\"Download\", \"Download plot\", \"fa fa-floppy-o icon-save\", \"download\"]];\n",
       "\n",
       "mpl.extensions = [\"eps\", \"jpeg\", \"pdf\", \"png\", \"ps\", \"raw\", \"svg\", \"tif\"];\n",
       "\n",
       "mpl.default_extension = \"png\";var comm_websocket_adapter = function(comm) {\n",
       "    // Create a \"websocket\"-like object which calls the given IPython comm\n",
       "    // object with the appropriate methods. Currently this is a non binary\n",
       "    // socket, so there is still some room for performance tuning.\n",
       "    var ws = {};\n",
       "\n",
       "    ws.close = function() {\n",
       "        comm.close()\n",
       "    };\n",
       "    ws.send = function(m) {\n",
       "        //console.log('sending', m);\n",
       "        comm.send(m);\n",
       "    };\n",
       "    // Register the callback with on_msg.\n",
       "    comm.on_msg(function(msg) {\n",
       "        //console.log('receiving', msg['content']['data'], msg);\n",
       "        // Pass the mpl event to the overridden (by mpl) onmessage function.\n",
       "        ws.onmessage(msg['content']['data'])\n",
       "    });\n",
       "    return ws;\n",
       "}\n",
       "\n",
       "mpl.mpl_figure_comm = function(comm, msg) {\n",
       "    // This is the function which gets called when the mpl process\n",
       "    // starts-up an IPython Comm through the \"matplotlib\" channel.\n",
       "\n",
       "    var id = msg.content.data.id;\n",
       "    // Get hold of the div created by the display call when the Comm\n",
       "    // socket was opened in Python.\n",
       "    var element = $(\"#\" + id);\n",
       "    var ws_proxy = comm_websocket_adapter(comm)\n",
       "\n",
       "    function ondownload(figure, format) {\n",
       "        window.open(figure.imageObj.src);\n",
       "    }\n",
       "\n",
       "    var fig = new mpl.figure(id, ws_proxy,\n",
       "                           ondownload,\n",
       "                           element.get(0));\n",
       "\n",
       "    // Call onopen now - mpl needs it, as it is assuming we've passed it a real\n",
       "    // web socket which is closed, not our websocket->open comm proxy.\n",
       "    ws_proxy.onopen();\n",
       "\n",
       "    fig.parent_element = element.get(0);\n",
       "    fig.cell_info = mpl.find_output_cell(\"<div id='\" + id + \"'></div>\");\n",
       "    if (!fig.cell_info) {\n",
       "        console.error(\"Failed to find cell for figure\", id, fig);\n",
       "        return;\n",
       "    }\n",
       "\n",
       "    var output_index = fig.cell_info[2]\n",
       "    var cell = fig.cell_info[0];\n",
       "\n",
       "};\n",
       "\n",
       "mpl.figure.prototype.handle_close = function(fig, msg) {\n",
       "    var width = fig.canvas.width/mpl.ratio\n",
       "    fig.root.unbind('remove')\n",
       "\n",
       "    // Update the output cell to use the data from the current canvas.\n",
       "    fig.push_to_output();\n",
       "    var dataURL = fig.canvas.toDataURL();\n",
       "    // Re-enable the keyboard manager in IPython - without this line, in FF,\n",
       "    // the notebook keyboard shortcuts fail.\n",
       "    IPython.keyboard_manager.enable()\n",
       "    $(fig.parent_element).html('<img src=\"' + dataURL + '\" width=\"' + width + '\">');\n",
       "    fig.close_ws(fig, msg);\n",
       "}\n",
       "\n",
       "mpl.figure.prototype.close_ws = function(fig, msg){\n",
       "    fig.send_message('closing', msg);\n",
       "    // fig.ws.close()\n",
       "}\n",
       "\n",
       "mpl.figure.prototype.push_to_output = function(remove_interactive) {\n",
       "    // Turn the data on the canvas into data in the output cell.\n",
       "    var width = this.canvas.width/mpl.ratio\n",
       "    var dataURL = this.canvas.toDataURL();\n",
       "    this.cell_info[1]['text/html'] = '<img src=\"' + dataURL + '\" width=\"' + width + '\">';\n",
       "}\n",
       "\n",
       "mpl.figure.prototype.updated_canvas_event = function() {\n",
       "    // Tell IPython that the notebook contents must change.\n",
       "    IPython.notebook.set_dirty(true);\n",
       "    this.send_message(\"ack\", {});\n",
       "    var fig = this;\n",
       "    // Wait a second, then push the new image to the DOM so\n",
       "    // that it is saved nicely (might be nice to debounce this).\n",
       "    setTimeout(function () { fig.push_to_output() }, 1000);\n",
       "}\n",
       "\n",
       "mpl.figure.prototype._init_toolbar = function() {\n",
       "    var fig = this;\n",
       "\n",
       "    var nav_element = $('<div/>')\n",
       "    nav_element.attr('style', 'width: 100%');\n",
       "    this.root.append(nav_element);\n",
       "\n",
       "    // Define a callback function for later on.\n",
       "    function toolbar_event(event) {\n",
       "        return fig.toolbar_button_onclick(event['data']);\n",
       "    }\n",
       "    function toolbar_mouse_event(event) {\n",
       "        return fig.toolbar_button_onmouseover(event['data']);\n",
       "    }\n",
       "\n",
       "    for(var toolbar_ind in mpl.toolbar_items){\n",
       "        var name = mpl.toolbar_items[toolbar_ind][0];\n",
       "        var tooltip = mpl.toolbar_items[toolbar_ind][1];\n",
       "        var image = mpl.toolbar_items[toolbar_ind][2];\n",
       "        var method_name = mpl.toolbar_items[toolbar_ind][3];\n",
       "\n",
       "        if (!name) { continue; };\n",
       "\n",
       "        var button = $('<button class=\"btn btn-default\" href=\"#\" title=\"' + name + '\"><i class=\"fa ' + image + ' fa-lg\"></i></button>');\n",
       "        button.click(method_name, toolbar_event);\n",
       "        button.mouseover(tooltip, toolbar_mouse_event);\n",
       "        nav_element.append(button);\n",
       "    }\n",
       "\n",
       "    // Add the status bar.\n",
       "    var status_bar = $('<span class=\"mpl-message\" style=\"text-align:right; float: right;\"/>');\n",
       "    nav_element.append(status_bar);\n",
       "    this.message = status_bar[0];\n",
       "\n",
       "    // Add the close button to the window.\n",
       "    var buttongrp = $('<div class=\"btn-group inline pull-right\"></div>');\n",
       "    var button = $('<button class=\"btn btn-mini btn-primary\" href=\"#\" title=\"Stop Interaction\"><i class=\"fa fa-power-off icon-remove icon-large\"></i></button>');\n",
       "    button.click(function (evt) { fig.handle_close(fig, {}); } );\n",
       "    button.mouseover('Stop Interaction', toolbar_mouse_event);\n",
       "    buttongrp.append(button);\n",
       "    var titlebar = this.root.find($('.ui-dialog-titlebar'));\n",
       "    titlebar.prepend(buttongrp);\n",
       "}\n",
       "\n",
       "mpl.figure.prototype._root_extra_style = function(el){\n",
       "    var fig = this\n",
       "    el.on(\"remove\", function(){\n",
       "\tfig.close_ws(fig, {});\n",
       "    });\n",
       "}\n",
       "\n",
       "mpl.figure.prototype._canvas_extra_style = function(el){\n",
       "    // this is important to make the div 'focusable\n",
       "    el.attr('tabindex', 0)\n",
       "    // reach out to IPython and tell the keyboard manager to turn it's self\n",
       "    // off when our div gets focus\n",
       "\n",
       "    // location in version 3\n",
       "    if (IPython.notebook.keyboard_manager) {\n",
       "        IPython.notebook.keyboard_manager.register_events(el);\n",
       "    }\n",
       "    else {\n",
       "        // location in version 2\n",
       "        IPython.keyboard_manager.register_events(el);\n",
       "    }\n",
       "\n",
       "}\n",
       "\n",
       "mpl.figure.prototype._key_event_extra = function(event, name) {\n",
       "    var manager = IPython.notebook.keyboard_manager;\n",
       "    if (!manager)\n",
       "        manager = IPython.keyboard_manager;\n",
       "\n",
       "    // Check for shift+enter\n",
       "    if (event.shiftKey && event.which == 13) {\n",
       "        this.canvas_div.blur();\n",
       "        event.shiftKey = false;\n",
       "        // Send a \"J\" for go to next cell\n",
       "        event.which = 74;\n",
       "        event.keyCode = 74;\n",
       "        manager.command_mode();\n",
       "        manager.handle_keydown(event);\n",
       "    }\n",
       "}\n",
       "\n",
       "mpl.figure.prototype.handle_save = function(fig, msg) {\n",
       "    fig.ondownload(fig, null);\n",
       "}\n",
       "\n",
       "\n",
       "mpl.find_output_cell = function(html_output) {\n",
       "    // Return the cell and output element which can be found *uniquely* in the notebook.\n",
       "    // Note - this is a bit hacky, but it is done because the \"notebook_saving.Notebook\"\n",
       "    // IPython event is triggered only after the cells have been serialised, which for\n",
       "    // our purposes (turning an active figure into a static one), is too late.\n",
       "    var cells = IPython.notebook.get_cells();\n",
       "    var ncells = cells.length;\n",
       "    for (var i=0; i<ncells; i++) {\n",
       "        var cell = cells[i];\n",
       "        if (cell.cell_type === 'code'){\n",
       "            for (var j=0; j<cell.output_area.outputs.length; j++) {\n",
       "                var data = cell.output_area.outputs[j];\n",
       "                if (data.data) {\n",
       "                    // IPython >= 3 moved mimebundle to data attribute of output\n",
       "                    data = data.data;\n",
       "                }\n",
       "                if (data['text/html'] == html_output) {\n",
       "                    return [cell, data, j];\n",
       "                }\n",
       "            }\n",
       "        }\n",
       "    }\n",
       "}\n",
       "\n",
       "// Register the function which deals with the matplotlib target/channel.\n",
       "// The kernel may be null if the page has been refreshed.\n",
       "if (IPython.notebook.kernel != null) {\n",
       "    IPython.notebook.kernel.comm_manager.register_target('matplotlib', mpl.mpl_figure_comm);\n",
       "}\n"
      ],
      "text/plain": [
       "<IPython.core.display.Javascript object>"
      ]
     },
     "metadata": {},
     "output_type": "display_data"
    },
    {
     "data": {
      "text/html": [
       "<img src=\"data:image/png;base64,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\" width=\"640\">"
      ],
      "text/plain": [
       "<IPython.core.display.HTML object>"
      ]
     },
     "metadata": {},
     "output_type": "display_data"
    }
   ],
   "source": [
    "fig, ax = plt.subplots()\n",
    "\n",
    "ax.errorbar(x, y_obs, y_unc, fmt='o')\n",
    "ax.plot([0,100], b_true + m_true*np.array([0,100]))\n",
    "ax.set_xlabel('x')\n",
    "ax.set_ylabel('y')\n",
    "fig.tight_layout()"
   ]
  },
  {
   "cell_type": "markdown",
   "metadata": {
    "slideshow": {
     "slide_type": "slide"
    }
   },
   "source": [
    "**Problem 1c**\n",
    "\n",
    "Create a function `get_model_predictions` that calculates the expected value of $\\mathbf{y}$ given input parameters `theta` and positions $\\mathbf{x}$.\n",
    "\n",
    "*Hint* - store the model parameters in a tuple `theta` = (m, b). This will make life easier later."
   ]
  },
  {
   "cell_type": "code",
   "execution_count": 21,
   "metadata": {
    "slideshow": {
     "slide_type": "subslide"
    }
   },
   "outputs": [],
   "source": [
    "def get_model_predictions(theta, x):\n",
    "    '''\n",
    "    Calculate the model at any position x\n",
    "    \n",
    "    Parameters\n",
    "    ----------\n",
    "    theta : tuple\n",
    "        Model parameters\n",
    "    \n",
    "    x : arr-like, shape (n_samples)\n",
    "        Array of positions where y is measured\n",
    "    \n",
    "    Returns\n",
    "    -------\n",
    "    model_preds : arr-like, shape (n_samples)\n",
    "        Array of model values\n",
    "    '''\n",
    "    m, b = theta\n",
    "    model_preds = m*x + b\n",
    "    \n",
    "    return model_preds"
   ]
  },
  {
   "cell_type": "markdown",
   "metadata": {
    "slideshow": {
     "slide_type": "slide"
    }
   },
   "source": [
    "## Problem 2) The Posterior\n",
    "\n",
    "In order to approximate the posterior we need to be able to calculate it at any point within the multidimensional parameter space. "
   ]
  },
  {
   "cell_type": "markdown",
   "metadata": {
    "slideshow": {
     "slide_type": "subslide"
    }
   },
   "source": [
    "Assuming gaussian distributed scatter in the observations, we can describe the probability of any individual observation as a function of the model parameters:\n",
    "\n",
    "$$p(y_i \\mid m, b, x_i, \\sigma_i) = \\frac{1}{\\sqrt{2\\pi\\sigma_{y_i}^2}}\\exp{- \\frac{(y_i - m\\,x_i - b)^2}{2\\sigma_{y_i}^2}},$$\n",
    "\n",
    "where $y_i$ is the $i^\\mathrm{th}$ observation, $x_i$ is the corresponding indpendent position at which $y_i$ is measured, $\\sigma_{y_i}$ is the uncertainty on $y_i$ (constant in this case, but that doesn't have to be the case), and $m$ and $b$ are the slope and intercept for  the line."
   ]
  },
  {
   "cell_type": "markdown",
   "metadata": {
    "slideshow": {
     "slide_type": "subslide"
    }
   },
   "source": [
    "Assuming the observations are independent, then the probability of *all* the observations is the product of the individual probabilities (note –– this is the likelihood):\n",
    "\n",
    "$$\\mathcal{L} = \\prod_i p(y_i \\mid m, b, x_i, \\sigma_i) = \\prod_i \\frac{1}{\\sqrt{2\\pi\\sigma_{y_i}^2}}\\exp{- \\frac{(y_i - m\\,x_i - b)^2}{2\\sigma_{y_i}^2}}.$$"
   ]
  },
  {
   "cell_type": "markdown",
   "metadata": {
    "slideshow": {
     "slide_type": "subslide"
    }
   },
   "source": [
    "This product produces really small numbers (individual observations have typical probabilities  < 0.3), which can become numerically unstable, especially for a poor choice of model parameters. \n",
    "\n",
    "A trick to alleviate this issue is to work with the $\\log \\mathcal{L}$, which using a logarithmic identity allows us to trade a product for a sum (computationally much easier!):\n",
    "\n",
    "$$\\log \\mathcal{L} = \\mathcal{K} - \\sum_i \\frac{(y_i - m\\,x_i - b)^2}{2\\sigma_{y_i}^2},$$\n",
    "\n",
    "where $\\mathcal{K}$ is a constant equal to $-\\frac{n}{2}\\log{2\\pi} - \\sum_i \\log{\\sigma_{y_i}}$."
   ]
  },
  {
   "cell_type": "markdown",
   "metadata": {
    "slideshow": {
     "slide_type": "subslide"
    }
   },
   "source": [
    "Mathematically, maximizing the likelihood and the log likelihood are identical, and we will leverage this for the remainder of the problem."
   ]
  },
  {
   "cell_type": "markdown",
   "metadata": {
    "slideshow": {
     "slide_type": "slide"
    }
   },
   "source": [
    "**Problem 2a**\n",
    "\n",
    "Write a function `lnlikelihood` to calculate the log likelihood given input parameters `theta`, `y`, `x`, and `y_unc`.\n",
    "\n",
    "*Hint 1* –– the constant $\\mathcal{K}$ is the same for any point in the parameter space. Thus it can be ignored as we only care about *relative* differences in the likelihood.\n",
    "\n",
    "*Hint 2* –– store the model parameters in a single tuple `theta` = (m, b). This will make life easier later."
   ]
  },
  {
   "cell_type": "code",
   "execution_count": 22,
   "metadata": {
    "slideshow": {
     "slide_type": "subslide"
    }
   },
   "outputs": [],
   "source": [
    "def lnlikelihood(theta, y, x, y_unc):\n",
    "    '''\n",
    "    Calculate the log likelihood for a model assuming Gaussian uncertainties\n",
    "    \n",
    "    Parameters\n",
    "    ----------\n",
    "    theta : tuple\n",
    "        Model parameters\n",
    "    \n",
    "    y : arr-like, shape (n_samples)\n",
    "        Array of observational measurements\n",
    "    \n",
    "    x : arr-like, shape (n_samples)\n",
    "        Array of positions where y is measured\n",
    "    \n",
    "    y_unc : arr-like, shape (n_samples)\n",
    "        Array of uncertainties on y\n",
    "        \n",
    "    Returns\n",
    "    -------\n",
    "    lnl : float\n",
    "        The log-likelihood of the observations given the model parameters\n",
    "    '''\n",
    "    model_preds = get_model_predictions(theta, x)\n",
    "    \n",
    "    lnl = -np.sum((y-model_preds)**2/(2*y_unc**2))\n",
    "    \n",
    "    return lnl"
   ]
  },
  {
   "cell_type": "markdown",
   "metadata": {
    "slideshow": {
     "slide_type": "slide"
    }
   },
   "source": [
    "**Problem 2b**\n",
    "\n",
    "Confirm your function works by estimating the log likelihood for $m = 1.5$ and $b = 50$.\n",
    "\n",
    "Is the log likelihood higher or lower if you use the true model parameters (see **1a**)? \n",
    "\n",
    "Does this make sense?"
   ]
  },
  {
   "cell_type": "code",
   "execution_count": 29,
   "metadata": {
    "slideshow": {
     "slide_type": "subslide"
    }
   },
   "outputs": [
    {
     "name": "stdout",
     "output_type": "stream",
     "text": [
      "ln L for m=1.5 and b=10 is: -20.7939\n",
      "ln L for m=2.3 and b=15 is: -14.9359\n"
     ]
    }
   ],
   "source": [
    "print('ln L for m=1.5 and b=50 is: {:.4f}'.format(lnlikelihood((1.5,50), y_obs, x, y_unc)))\n",
    "print('ln L for m=2.3 and b=15 is: {:.4f}'.format(lnlikelihood((2.3,15), y_obs, x, y_unc)))"
   ]
  },
  {
   "cell_type": "markdown",
   "metadata": {
    "slideshow": {
     "slide_type": "subslide"
    }
   },
   "source": [
    "*write your answer here*\n",
    "\n",
    "While a slope of 1.5 and intercept of 50 appears to agree with the majority of the observations, it is clear that the true model values provide a higher value of the likelihood."
   ]
  },
  {
   "cell_type": "markdown",
   "metadata": {
    "slideshow": {
     "slide_type": "slide"
    }
   },
   "source": [
    "The posterior requires an estimate of not just the likelihood, but also the prior. \n",
    "\n",
    "For this problem, how in the world do we choose the prior? \n",
    "\n",
    "(In practice, this can be very complicated and we will discuss this in more detail on Wednesday and Friday)"
   ]
  },
  {
   "cell_type": "markdown",
   "metadata": {
    "slideshow": {
     "slide_type": "subslide"
    }
   },
   "source": [
    "When you have little to no knowledge of the actual model parameters, it is often \"safe\" to assume a wide and flat prior (sometimes referred to as an uniformative prior). A wide and flat prior essentially says that any value within the bounds of the prior is equally likely, while values outside the bounds are unacceptable. "
   ]
  },
  {
   "cell_type": "markdown",
   "metadata": {
    "slideshow": {
     "slide_type": "subslide"
    }
   },
   "source": [
    "While we know the true answer, let's pretend that we don't. From the data (technically, using the data to estimate the prior is cheating, as we'll discuss on Friday) we can see that the slope is definitely positive, and also definitely less than 300 (the largest y value in the data set). Thus, we will set a uniform prior on $m$ from 0 to 300:\n",
    "\n",
    "$$P(m) \\sim \\mathcal{U}(0,300).$$\n",
    "\n",
    "From similar arguments the intercept is likely somewhere between -100 and 100:\n",
    "\n",
    "$$P(b) \\sim \\mathcal{U}(-100,100).$$\n"
   ]
  },
  {
   "cell_type": "markdown",
   "metadata": {
    "slideshow": {
     "slide_type": "slide"
    }
   },
   "source": [
    "**Problem 2c**\n",
    "\n",
    "Write a function `lnprior` to calculate the log of the prior from an input tuple of the model parameters `theta`.\n",
    "\n",
    "*Hint* - while the $\\log{0}$ is undefined, have the function return `-np.inf` for values outside the bounds of the prior."
   ]
  },
  {
   "cell_type": "code",
   "execution_count": 30,
   "metadata": {
    "slideshow": {
     "slide_type": "subslide"
    }
   },
   "outputs": [],
   "source": [
    "def lnprior(theta):\n",
    "    '''\n",
    "    Calculate the log of the prior for the model parameters\n",
    "    \n",
    "    Parameters\n",
    "    ----------\n",
    "    theta : tuple\n",
    "        Model parameters\n",
    "            \n",
    "    Returns\n",
    "    -------\n",
    "    lnp : float\n",
    "        The log-prior of the model parameters\n",
    "    '''\n",
    "    m, b = theta\n",
    "    if 0 <= m <= 300 and -100 <= b <= 100:\n",
    "        lnp = np.log(1/300) + np.log(1/200) # assumes P(m) and P(y) are completely independent\n",
    "    else:\n",
    "        return -np.inf\n",
    "    \n",
    "    return lnp"
   ]
  },
  {
   "cell_type": "markdown",
   "metadata": {
    "slideshow": {
     "slide_type": "slide"
    }
   },
   "source": [
    "**Problem 2d**\n",
    "\n",
    "Calculate the prior for $(m, b) = (1, 0)$, $(2.3, 15)$, $(3, -150)$, and $(-1, 90)$.\n",
    "\n",
    "Do your answers make sense?"
   ]
  },
  {
   "cell_type": "code",
   "execution_count": 32,
   "metadata": {
    "slideshow": {
     "slide_type": "subslide"
    }
   },
   "outputs": [
    {
     "name": "stdout",
     "output_type": "stream",
     "text": [
      "ln P for m=1.0 and b=0 is: -11.0021\n",
      "ln P for m=2.3 and b=15 is: -11.0021\n",
      "ln P for m=3 and b=-150 is: -inf\n",
      "ln P for m=-1 and b=90 is: -inf\n"
     ]
    }
   ],
   "source": [
    "print('ln P for m=1.0 and b=0 is: {:.4f}'.format(lnprior((1.5,50))))\n",
    "print('ln P for m=2.3 and b=15 is: {:.4f}'.format(lnprior((2.3,15))))\n",
    "print('ln P for m=3 and b=-150 is: {:.4f}'.format(lnprior((3,-150))))\n",
    "print('ln P for m=-1 and b=90 is: {:.4f}'.format(lnprior((-1,90))))"
   ]
  },
  {
   "cell_type": "markdown",
   "metadata": {
    "slideshow": {
     "slide_type": "subslide"
    }
   },
   "source": [
    "*write your answer here*\n",
    "\n",
    "These answers to make sense. For model parameters within the bounds of the prior all values are equally likely, whereas there is no probability for model parameters outside the bounds of the model."
   ]
  },
  {
   "cell_type": "markdown",
   "metadata": {
    "slideshow": {
     "slide_type": "slide"
    }
   },
   "source": [
    "**Problem 2e**\n",
    "\n",
    "Write a function `lnposterior` to calculate the log of the posterior.\n",
    "\n",
    "*Hint* - this is straightforward using functions you have already written."
   ]
  },
  {
   "cell_type": "code",
   "execution_count": 33,
   "metadata": {
    "slideshow": {
     "slide_type": "subslide"
    }
   },
   "outputs": [],
   "source": [
    "def lnposterior(theta, y, x, y_unc):\n",
    "    '''\n",
    "    Calculate the log posterior\n",
    "    \n",
    "    Parameters\n",
    "    ----------\n",
    "    theta : tuple\n",
    "        Model parameters\n",
    "    \n",
    "    y : arr-like, shape (n_samples)\n",
    "        Array of observational measurements\n",
    "    \n",
    "    x : arr-like, shape (n_samples)\n",
    "        Array of positions where y is measured\n",
    "    \n",
    "    y_unc : arr-like, shape (n_samples)\n",
    "        Array of uncertainties on y\n",
    "        \n",
    "    Returns\n",
    "    -------\n",
    "    lnpost : float\n",
    "        The log-posterior from the observations and model parameters\n",
    "    '''\n",
    "    lnp = lnprior(theta)\n",
    "    if not np.isfinite(lnp):\n",
    "        return -np.inf\n",
    "    lnl = lnlikelihood(theta, y, x, y_unc)\n",
    "    lnpost = lnl + lnp\n",
    "        \n",
    "    return lnpost"
   ]
  },
  {
   "cell_type": "markdown",
   "metadata": {
    "slideshow": {
     "slide_type": "slide"
    }
   },
   "source": [
    "**Problem 2f**\n",
    "\n",
    "What is the log posterior for $m = 1.5$ and $b = 50$?\n",
    "\n",
    "What is the log posterior for $m = 2.3$ and $b = 15$?\n",
    "\n",
    "What is the log posterior for $m = 1.5$ and $b = 200$?\n",
    "\n",
    "Does this make sense?"
   ]
  },
  {
   "cell_type": "code",
   "execution_count": 34,
   "metadata": {
    "slideshow": {
     "slide_type": "subslide"
    }
   },
   "outputs": [
    {
     "name": "stdout",
     "output_type": "stream",
     "text": [
      "ln posterior for m=1.5 and b=50 is: -31.7960\n",
      "ln posterior for m=2.3 and b=15 is: -25.9380\n",
      "ln posterior for m=1.5 and b=200 is: -inf\n"
     ]
    }
   ],
   "source": [
    "print('ln posterior for m=1.5 and b=50 is: {:.4f}'.format(lnposterior((1.5,50), y_obs, x, y_unc)))\n",
    "print('ln posterior for m=2.3 and b=15 is: {:.4f}'.format(lnposterior((2.3,15), y_obs, x, y_unc)))\n",
    "print('ln posterior for m=1.5 and b=200 is: {:.4f}'.format(lnposterior((1.5,200), y_obs, x, y_unc)))\n"
   ]
  },
  {
   "cell_type": "markdown",
   "metadata": {
    "slideshow": {
     "slide_type": "subslide"
    }
   },
   "source": [
    "*write your answer here*\n",
    "\n",
    "These answers make sense. There is no probability outside the prior, and the posterior values are lower than the likelihood values."
   ]
  },
  {
   "cell_type": "markdown",
   "metadata": {
    "slideshow": {
     "slide_type": "slide"
    }
   },
   "source": [
    "## Problem 3) The Metropolis-Hastings Algorithm\n",
    "\n",
    "The [Metropolis-Hastings Algorithm](https://en.wikipedia.org/wiki/Metropolis%E2%80%93Hastings_algorithm) is the most simple [Markov Chain](https://en.wikipedia.org/wiki/Markov_chain) [Monte Carlo](https://en.wikipedia.org/wiki/Monte_Carlo_method) ([MCMC](https://en.wikipedia.org/wiki/Markov_chain_Monte_Carlo)) procedure for estimating Bayesian posteriors. "
   ]
  },
  {
   "cell_type": "markdown",
   "metadata": {
    "slideshow": {
     "slide_type": "slide"
    }
   },
   "source": [
    "We will get "
   ]
  },
  {
   "cell_type": "code",
   "execution_count": null,
   "metadata": {
    "slideshow": {
     "slide_type": "notes"
    }
   },
   "outputs": [],
   "source": [
    "oh damn damn triple damn"
   ]
  }
 ],
 "metadata": {
  "celltoolbar": "Slideshow",
  "kernelspec": {
   "display_name": "Python 3",
   "language": "python",
   "name": "python3"
  },
  "language_info": {
   "codemirror_mode": {
    "name": "ipython",
    "version": 3
   },
   "file_extension": ".py",
   "mimetype": "text/x-python",
   "name": "python",
   "nbconvert_exporter": "python",
   "pygments_lexer": "ipython3",
   "version": "3.6.7"
  }
 },
 "nbformat": 4,
 "nbformat_minor": 2
}
