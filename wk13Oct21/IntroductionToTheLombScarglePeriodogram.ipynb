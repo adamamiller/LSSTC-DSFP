{
 "cells": [
  {
   "cell_type": "code",
   "execution_count": 1,
   "id": "wound-major",
   "metadata": {
    "slideshow": {
     "slide_type": "skip"
    }
   },
   "outputs": [],
   "source": [
    "import numpy as np\n",
    "import pandas as pd\n",
    "import matplotlib.pyplot as plt\n",
    "%matplotlib notebook"
   ]
  },
  {
   "cell_type": "markdown",
   "id": "moving-giant",
   "metadata": {
    "slideshow": {
     "slide_type": "slide"
    }
   },
   "source": [
    "# Introduction to the Lomb-Scargle Periodogram\n",
    "\n",
    "**Version 0.2**\n",
    "\n",
    "* * *\n",
    "\n",
    "By AA Miller (Northwester/CIERA)  \n",
    "15 Sep 2021"
   ]
  },
  {
   "cell_type": "markdown",
   "id": "cooked-premiere",
   "metadata": {
    "slideshow": {
     "slide_type": "slide"
    }
   },
   "source": [
    "Today we examine the detection of periodic signals in noisy, irregular data (the standard for ground-based astronomical surveys). \n",
    "\n",
    "This lecture is strongly influenced by *Understanding the Lomb-Scarge Periodogram*, by Jake VanderPlas, a former DSFP lecturer [(VanderPlas 2017)](http://adsabs.harvard.edu/abs/2017arXiv170309824V). Beyond that, the original papers by [Lomb 1976](http://adsabs.harvard.edu/abs/1976Ap%26SS..39..447L) and [Scargle 1982](http://adsabs.harvard.edu/abs/1982ApJ...263..835S) are also worth a read."
   ]
  },
  {
   "cell_type": "markdown",
   "id": "classified-hebrew",
   "metadata": {
    "slideshow": {
     "slide_type": "slide"
    }
   },
   "source": [
    "There are many, many papers on the use of the Lomb-Scargle periodogram (and other period detection methods). A recent study led by former DSFP lecturer, Matthew Graham, conducted a systematic analysis of many of the most popular tools used to search for periodic signals on *actual astronomical data* [(Graham et al. 2013)](http://adsabs.harvard.edu/abs/2013MNRAS.434.3423G).$^\\dagger$"
   ]
  },
  {
   "cell_type": "markdown",
   "id": "charming-burner",
   "metadata": {
    "slideshow": {
     "slide_type": "subslide"
    }
   },
   "source": [
    "$^\\dagger$Somewhat to my (our?) dismay, they found that none of the solutions work really well across all use cases."
   ]
  },
  {
   "cell_type": "markdown",
   "id": "respected-walter",
   "metadata": {
    "slideshow": {
     "slide_type": "slide"
    }
   },
   "source": [
    "## Problem 1) Helper Functions\n",
    "\n",
    "We need to simulate and plot the same types of data again and again. To start this lecture we will create a few helper functions to minimize repetitive commands (e.g., phase-folding a light curve). "
   ]
  },
  {
   "cell_type": "markdown",
   "id": "naughty-turkish",
   "metadata": {
    "slideshow": {
     "slide_type": "slide"
    }
   },
   "source": [
    "**Problem 1a**\n",
    "\n",
    "Create a function, `gen_periodic_data`, that creates simulated data (including noise) over a grid of user supplied positions:\n",
    "\n",
    "$$ y = A\\,sin\\left(\\frac{2 \\pi x}{P} - \\phi\\right) + \\sigma_y$$\n",
    "\n",
    "where $A, P, \\phi$ are inputs to the function. `gen_periodic_data` should include Gaussian noise, $\\sigma_y$, for each output $y_i$."
   ]
  },
  {
   "cell_type": "code",
   "execution_count": null,
   "id": "superb-function",
   "metadata": {
    "slideshow": {
     "slide_type": "slide"
    }
   },
   "outputs": [],
   "source": [
    "def gen_periodic_data(x, period=1, amplitude=1, phase=0, noise=0):\n",
    "    '''Generate periodic data given the function inputs\n",
    "    \n",
    "    y = A*sin(2*pi*x/p - phase) + noise\n",
    "    \n",
    "    Parameters\n",
    "    ----------\n",
    "    x : array-like\n",
    "        input values to evaluate the array\n",
    "    \n",
    "    period : float (default=1)\n",
    "        period of the periodic signal\n",
    "    \n",
    "    amplitude : float (default=1)\n",
    "        amplitude of the periodic signal\n",
    "    \n",
    "    phase : float (default=0)\n",
    "        phase offset of the periodic signal\n",
    "    \n",
    "    noise : float (default=0)\n",
    "        variance of the noise term added to the periodic signal\n",
    "    \n",
    "    Returns\n",
    "    -------\n",
    "    y : array-like\n",
    "        Periodic signal evaluated at all points x\n",
    "    '''\n",
    "    \n",
    "    y = # complete\n",
    "    return y"
   ]
  },
  {
   "cell_type": "markdown",
   "id": "entertaining-jewelry",
   "metadata": {
    "slideshow": {
     "slide_type": "slide"
    }
   },
   "source": [
    "**Problem 1b**\n",
    "\n",
    "Generate a *noise-free* signal with $A = 2$ and $p = \\pi$ over a regular grid between 0 and 10. Plot the results (and make sure `gen_periodic_data` behaves as you would expect)."
   ]
  },
  {
   "cell_type": "code",
   "execution_count": null,
   "id": "derived-usage",
   "metadata": {
    "slideshow": {
     "slide_type": "slide"
    }
   },
   "outputs": [],
   "source": [
    "x = np.linspace( # complete\n",
    "y = gen_periodic_data( # complete\n",
    "\n",
    "fig, ax = plt.subplots()\n",
    "ax.scatter(x,y, edgecolors='0.2', linewidths=0.5)\n",
    "ax.set_xlabel('x')\n",
    "ax.set_ylabel('y')\n",
    "fig.tight_layout()"
   ]
  },
  {
   "cell_type": "markdown",
   "id": "meaningful-wednesday",
   "metadata": {
    "slideshow": {
     "slide_type": "slide"
    }
   },
   "source": [
    "**Problem 1c**\n",
    "\n",
    "Create a function, `phase_plot`, that takes x, y, and $P$ as inputs to create a phase-folded light curve (i.e., plot the data at their respective phase values given the period $P$).\n",
    "\n",
    "Include an optional argument, `y_unc`, to include uncertainties on the `y` values, when available."
   ]
  },
  {
   "cell_type": "code",
   "execution_count": null,
   "id": "lovely-syndrome",
   "metadata": {
    "slideshow": {
     "slide_type": "slide"
    }
   },
   "outputs": [],
   "source": [
    "def phase_plot(x, y, period, y_unc = 0.0):\n",
    "    '''Create phase-folded plot of input data x, y\n",
    "    \n",
    "    Parameters\n",
    "    ----------\n",
    "    x : array-like\n",
    "        data values along abscissa\n",
    "\n",
    "    y : array-like\n",
    "        data values along ordinate\n",
    "\n",
    "    period : float\n",
    "        period to fold the data\n",
    "        \n",
    "    y_unc : array-like\n",
    "        uncertainty of the \n",
    "    '''    \n",
    "    phases = # complete\n",
    "    if type(y_unc) == float:\n",
    "        y_unc = np.zeros_like(x)\n",
    "        \n",
    "    plot_order = np.argsort(phases)\n",
    "    fig, ax = plt.subplots()\n",
    "    ax.errorbar(phases[plot_order], y[plot_order], y_unc[plot_order],\n",
    "                 fmt='o', mec=\"0.2\", mew=0.1)\n",
    "    ax.set_xlabel(\"phase\")\n",
    "    ax.set_ylabel(\"signal\")\n",
    "    fig.tight_layout()"
   ]
  },
  {
   "cell_type": "markdown",
   "id": "scheduled-prize",
   "metadata": {
    "slideshow": {
     "slide_type": "slide"
    }
   },
   "source": [
    "**Problem 1d**\n",
    "\n",
    "Plot the phase folded data generated in **1b**.\n",
    "\n",
    "Does you plot match your expectations?"
   ]
  },
  {
   "cell_type": "code",
   "execution_count": null,
   "id": "trained-hampshire",
   "metadata": {
    "scrolled": false,
    "slideshow": {
     "slide_type": "slide"
    }
   },
   "outputs": [],
   "source": [
    "phase_plot( # complete"
   ]
  },
  {
   "cell_type": "markdown",
   "id": "bizarre-female",
   "metadata": {
    "slideshow": {
     "slide_type": "slide"
    }
   },
   "source": [
    "## Problem 2) A Brief Review of Fourier Analysis\n",
    "\n",
    "In astronomical time series, we crave the detection of periodic signals because they can often provide fundamental insight into the sources we are studying (e.g., masses in a binary, pulsation timescales in stars, etc).\n",
    "\n",
    "The standard$^\\dagger$ choice for most astronomers to identify such signals is the Lomb-Scargle (LS) periodogram ([Lomb 1976](http://adsabs.harvard.edu/abs/1976Ap%26SS..39..447L); [Scargle 1982](http://adsabs.harvard.edu/abs/1982ApJ...263..835S))."
   ]
  },
  {
   "cell_type": "markdown",
   "id": "monetary-closure",
   "metadata": {
    "slideshow": {
     "slide_type": "subslide"
    }
   },
   "source": [
    "$^\\dagger$Standard does not mean best, fastest, or even correct depending on your specific application."
   ]
  },
  {
   "cell_type": "markdown",
   "id": "broke-spencer",
   "metadata": {
    "slideshow": {
     "slide_type": "slide"
    }
   },
   "source": [
    "At the heart of understanding any periodic signals is Fourier analysis. Thus, to understand how to interpret the LS periodogram, we first need to consider Fourier transforms.\n",
    "\n",
    "*Note - the following discussion is not complete. See [Lecture I](https://github.com/LSSTC-DSFP/LSSTC-DSFP-Sessions/tree/main/Session13#day-1--i-saw-the-sine) from this session for a more thorough review.*"
   ]
  },
  {
   "cell_type": "markdown",
   "id": "handed-seventh",
   "metadata": {
    "slideshow": {
     "slide_type": "slide"
    }
   },
   "source": [
    "Given a continuous signal, $g(t)$ the Fourier transform of that signal is defined as:\n",
    "\n",
    "$$\\hat{\\mathrm{g}}(f) = \\int_{-\\infty}^{\\infty} g(t) \\,e^{-2\\pi i f t} \\,dt,$$\n",
    "\n",
    "where $i$ is an imaginary number. "
   ]
  },
  {
   "cell_type": "markdown",
   "id": "meaningful-playback",
   "metadata": {
    "slideshow": {
     "slide_type": "fragment"
    }
   },
   "source": [
    "The inverse of this equation is defined as:\n",
    "\n",
    "$$ g(t) = \\int_{-\\infty}^{\\infty} \\hat{\\mathrm{g}}(f) \\,e^{2\\pi i f t} \\,df.$$"
   ]
  },
  {
   "cell_type": "markdown",
   "id": "boxed-universal",
   "metadata": {
    "slideshow": {
     "slide_type": "slide"
    }
   },
   "source": [
    "For convenience, we will use the Fourier transform operator $\\mathcal{F}$, from which the previous equations reduce to: \n",
    "\n",
    "$$\\mathcal{F}(g) = \\hat g$$\n",
    "\n",
    "$$\\mathcal{F}^{-1}(\\hat{g}) = g$$"
   ]
  },
  {
   "cell_type": "markdown",
   "id": "prompt-arlington",
   "metadata": {
    "slideshow": {
     "slide_type": "slide"
    }
   },
   "source": [
    "There are many useful properties of the Fourier transform including that the Fourier transform is a linear operator. Additionally, a time shift in the signal imparts a phase shift in the transform."
   ]
  },
  {
   "cell_type": "markdown",
   "id": "abstract-attribute",
   "metadata": {
    "slideshow": {
     "slide_type": "slide"
    }
   },
   "source": [
    "Perhaps most importantly for our present purposes, however, is that the squared amplitude of the resulting transform allows us to get rid of the imaginary component and measure the power spectral density or power spectrum:\n",
    "\n",
    "$$ \\mathcal{P}_g = \\left|\\mathcal{F}(g)\\right|^2.$$"
   ]
  },
  {
   "cell_type": "markdown",
   "id": "closed-medline",
   "metadata": {
    "slideshow": {
     "slide_type": "slide"
    }
   },
   "source": [
    "The power spectrum is a real-valued function that quantifies the contribution of each frequency $f$ to the total signal in $g$. The power spectrum thus provides a way to identify the dominant frequency in any given signal. "
   ]
  },
  {
   "cell_type": "markdown",
   "id": "running-validity",
   "metadata": {
    "slideshow": {
     "slide_type": "slide"
    }
   },
   "source": [
    "Next we consider some common Fourier pairs, that will prove helpful in our interpretation of the LS periodogram. "
   ]
  },
  {
   "cell_type": "code",
   "execution_count": null,
   "id": "proof-calgary",
   "metadata": {
    "slideshow": {
     "slide_type": "slide"
    }
   },
   "outputs": [],
   "source": [
    "fourier_pairs_plot()"
   ]
  },
  {
   "cell_type": "markdown",
   "id": "imposed-contractor",
   "metadata": {
    "slideshow": {
     "slide_type": "slide"
    }
   },
   "source": [
    "The common Fourier pairs are especially useful in light of the convolution theorem. Fourier transforms convert convolutions into point-wise products. We define a convolution as:\n",
    "\n",
    "$$ [f \\ast g] (t) = \\int_{-\\infty}^{\\infty} f(\\tau) \\,g(t - \\tau) \\,d\\tau,$$\n",
    "\n",
    "where $\\ast$ is the convolution symbol."
   ]
  },
  {
   "cell_type": "markdown",
   "id": "featured-speed",
   "metadata": {
    "slideshow": {
     "slide_type": "slide"
    }
   },
   "source": [
    "From the convolution theorem:\n",
    "\n",
    "$$ \\mathcal{F} \\{f \\ast g\\} = \\mathcal{F}(f)  \\mathcal{F}(g) $$\n",
    "\n",
    "Furthermore, the Fourier transform of a product is equal to the convolution of the Fourier transforms:\n",
    "\n",
    "$$ \\mathcal{F}\\{f \\cdot g\\} = \\mathcal{F}(f) \\ast \\mathcal{F}(g) $$\n",
    "\n",
    "This property will be very important for understanding the Lomb-Scargle periodogram. "
   ]
  },
  {
   "cell_type": "code",
   "execution_count": null,
   "id": "figured-church",
   "metadata": {
    "slideshow": {
     "slide_type": "slide"
    }
   },
   "outputs": [],
   "source": [
    "fourier_pairs_plot()"
   ]
  },
  {
   "cell_type": "markdown",
   "id": "sixth-tongue",
   "metadata": {
    "slideshow": {
     "slide_type": "slide"
    }
   },
   "source": [
    "Fourier transforms are all well and good, but ultimately we desire a measure of periodicity in actual observations of astrophysical sources, which cannot be (a) continuous, or (b) infinite. So, we cannot calculate a Fourier transform."
   ]
  },
  {
   "cell_type": "markdown",
   "id": "blank-standing",
   "metadata": {
    "slideshow": {
     "slide_type": "slide"
    }
   },
   "source": [
    "### Nyquist Frequency\n",
    "\n",
    "The first thing to understand with real world observations is the Nyquist frequency limit. If observations are obtained in a uniformly spaced manner at a rate of $f_0 = 1/T$ one can only recover the frequncy information if the signal is band-limited between frequencies $\\pm f_0/2$. Put another way, the highest frequency that can be detected in such data is $f_0/2$."
   ]
  },
  {
   "cell_type": "markdown",
   "id": "protected-moscow",
   "metadata": {
    "slideshow": {
     "slide_type": "slide"
    }
   },
   "source": [
    "This result can be (somewhat) intuited by looking at simulated data.\n",
    "\n",
    "**Problem 2a**\n",
    "\n",
    "Generate and plot a periodic signal with $f = f_\\mathrm{Ny} = 1/2$ on a grid from 0 to 10, comprising of 10 even samples (i.e., 0, 1, 2, 3, ..., 10). Overplot the underlying signal in addition to the observations."
   ]
  },
  {
   "cell_type": "code",
   "execution_count": null,
   "id": "extra-michael",
   "metadata": {
    "slideshow": {
     "slide_type": "slide"
    }
   },
   "outputs": [],
   "source": [
    "x = np.linspace( # complete\n",
    "y = gen_periodic_data( # complete\n",
    "x_signal = np.linspace( # complete\n",
    "y_signal = gen_periodic_data( # complete\n",
    "fig, ax = plt.subplots(figsize=(8,4))\n",
    "ax.scatter(x,y)\n",
    "ax.plot(x_signal, y_signal)\n",
    "ax.set_xlabel('x')\n",
    "ax.set_ylabel('y')\n",
    "fig.tight_layout()"
   ]
  },
  {
   "cell_type": "markdown",
   "id": "bigger-respect",
   "metadata": {
    "slideshow": {
     "slide_type": "slide"
    }
   },
   "source": [
    "Sampling a signal directly at the Nyquist frequency results in a lack of any variability. But does this just mean that $f_\\mathrm{Ny}$ is special? What happens at $f > f_\\mathrm{Ny}$?\n",
    "\n",
    "**Problem 2b**\n",
    "\n",
    "As above, generate and plot a periodic signal with $f = 0.7$ on an even grid from 0 to 10. Overplot the underlying signal in addition to the observations."
   ]
  },
  {
   "cell_type": "code",
   "execution_count": null,
   "id": "geological-reaction",
   "metadata": {
    "slideshow": {
     "slide_type": "slide"
    }
   },
   "outputs": [],
   "source": [
    "x = np.linspace( # complete\n",
    "y = gen_periodic_data( # complete\n",
    "x_signal = np.linspace(# complete\n",
    "y_signal = gen_periodic_data(# complete\n",
    "fig, ax = plt.subplots(figsize=(8,4))\n",
    "ax.scatter(x,y)\n",
    "ax.plot(x_signal, y_signal)\n",
    "ax.set_xlabel('x')\n",
    "ax.set_ylabel('y')\n",
    "fig.tight_layout()"
   ]
  },
  {
   "cell_type": "markdown",
   "id": "nonprofit-judgment",
   "metadata": {
    "slideshow": {
     "slide_type": "slide"
    }
   },
   "source": [
    "From the plot the signal is clearly variable (unlike when $f = f_\\mathrm{Ny}$). However, there are fewer than 2 observations per cycle.\n",
    "\n",
    "**Problem 2c**\n",
    "\n",
    "Overplot a source with $f = 2.7$ on the same data shown in **2b**."
   ]
  },
  {
   "cell_type": "code",
   "execution_count": null,
   "id": "moving-frontier",
   "metadata": {
    "slideshow": {
     "slide_type": "slide"
    }
   },
   "outputs": [],
   "source": [
    "x = np.linspace(# complete\n",
    "y = gen_periodic_data( # complete\n",
    "x_signal = np.linspace( # complete\n",
    "y_signal = gen_periodic_data( # complete\n",
    "fig, ax = plt.subplots(figsize=(8,4))\n",
    "ax.scatter(x,y)\n",
    "ax.plot(x_signal, y_signal)\n",
    "\n",
    "y_high = gen_periodic_data( # complete\n",
    "y_signal_high = gen_periodic_data( # complete\n",
    "ax.scatter(x,y_high)\n",
    "ax.plot(x_signal, y_signal_high)\n",
    "ax.set_xlabel('x')\n",
    "ax.set_ylabel('y')\n",
    "fig.tight_layout()"
   ]
  },
  {
   "cell_type": "markdown",
   "id": "macro-gibraltar",
   "metadata": {
    "slideshow": {
     "slide_type": "slide"
    }
   },
   "source": [
    "The observations are identical! Here is what you need to remember about the Nyquist frequency:"
   ]
  },
  {
   "cell_type": "markdown",
   "id": "f84b9673",
   "metadata": {
    "slideshow": {
     "slide_type": "fragment"
    }
   },
   "source": [
    "  1. If you are going to obtain observations at *regular intervals*, and there is a specific signal you wish to detect, then be sure to sample the data such that $f_\\mathrm{Ny} > f_\\mathrm{signal}$."
   ]
  },
  {
   "cell_type": "markdown",
   "id": "a672c60d",
   "metadata": {
    "slideshow": {
     "slide_type": "fragment"
    }
   },
   "source": [
    "  2. For all $f > f_\\mathrm{Ny}$, $f$ will be aliased with $f \\pm 2n f_\\mathrm{Ny}$ signals, where $n$ is an integer. Practically speaking, this means it does not make sense to search for signals with $f > f_\\mathrm{Ny}$."
   ]
  },
  {
   "cell_type": "markdown",
   "id": "65213419",
   "metadata": {
    "slideshow": {
     "slide_type": "fragment"
    }
   },
   "source": [
    "  3. Finally, (and this is something that is often wrong in the literature) there is no Nyquist limit for unevenly sampled data (see VanderPlas 2017 for further details). Thus, for (virtually all) ground-based observing one need not worry about the Nyquist limit."
   ]
  },
  {
   "cell_type": "markdown",
   "id": "apparent-theology",
   "metadata": {
    "slideshow": {
     "slide_type": "slide"
    }
   },
   "source": [
    "Staying on the topic of non-continuous observations, I present without derivation the discrete Fourier transform:\n",
    "\n",
    "$$ \\hat g_\\mathrm{obs}(f) = \\sum_{n = 0}^N g_n\\,e^{-2\\pi i f n\\Delta t}$$\n",
    "\n",
    "where $g_n = g(n\\Delta t)$, and $\\Delta t$ is the sampling interval. Our discussion of the Nyquist frequency tells us that we cannot detect frequencies $f > 1/2\\Delta T$. Thus, the relevant frequencies to search for power given $\\Delta t$ are between 0 and $f_\\mathrm{Ny}$, which we can sample on a grid $\\Delta f = 1/(N \\Delta t)$. "
   ]
  },
  {
   "cell_type": "markdown",
   "id": "decc5005",
   "metadata": {
    "slideshow": {
     "slide_type": "slide"
    }
   },
   "source": [
    "From there:\n",
    "\n",
    "$$\\hat g_k = \\sum_{n = 0}^N g_n\\,e^{-2\\pi i f knN}$$\n",
    "\n",
    "where $\\hat g_k = \\hat g_\\mathrm{obs} (k\\Delta f)$. This is the discrete Fourier transform. "
   ]
  },
  {
   "cell_type": "markdown",
   "id": "native-convenience",
   "metadata": {
    "slideshow": {
     "slide_type": "subslide"
    }
   },
   "source": [
    "I said a full derivation will not be provided, and that is true. To understand how we went from a continuous integral to the summation above, recall that regular observations of a continous signal over a finite interval is equivalent to multiplying the continuous signal by a Dirac comb function and a window function. The delta functions from the Dirac comb function collapse the integral to a sum, while the window function limits that sum from $0$ to $N$."
   ]
  },
  {
   "cell_type": "markdown",
   "id": "activated-abortion",
   "metadata": {
    "slideshow": {
     "slide_type": "slide"
    }
   },
   "source": [
    "From the discrete Fourier transform we can then calculate the periodogram (an estimator of the power spectrum):\n",
    "\n",
    "$$\\mathcal{P}(f) = \\frac{1}{N}\\left|\\sum_{n=1}^{N} g_n\\,e^{-2\\pi i f knN}\\right|^2$$\n",
    "\n",
    "which is also called the classical periodogram or the Schuster periodogram (Schuster 1898). "
   ]
  },
  {
   "cell_type": "markdown",
   "id": "blond-supervision",
   "metadata": {
    "slideshow": {
     "slide_type": "slide"
    }
   },
   "source": [
    "## Problem 3) The LS Periodogram\n",
    "\n",
    "Ultimately, we care about applications where the data are not perfectly uniformly sampled (even *Kepler* data is not uniformly sampled)."
   ]
  },
  {
   "cell_type": "markdown",
   "id": "valid-subscription",
   "metadata": {
    "slideshow": {
     "slide_type": "slide"
    }
   },
   "source": [
    " We can re-write the classical periodogram as:\n",
    "\n",
    "$$\\mathcal{P}(f) = \\frac{1}{N}\\left|\\sum_{n=1}^{N} g_n\\,e^{-2\\pi i f t_n}\\right|^2$$\n",
    "\n",
    "where $t_n$ corresponds to the observation times. Irregular sampling removes a lot of the nice statistical properties of the discrete Fourier transform. Scargle (1982) was able to address these issues via a generalized form of the periodogram. "
   ]
  },
  {
   "cell_type": "markdown",
   "id": "2f860db5",
   "metadata": {
    "slideshow": {
     "slide_type": "subslide"
    }
   },
   "source": [
    "[Full disclosure - I'm just skipping the derivation in this case]"
   ]
  },
  {
   "cell_type": "markdown",
   "id": "complicated-rwanda",
   "metadata": {
    "slideshow": {
     "slide_type": "slide"
    }
   },
   "source": [
    "Instead, I will simplify things slightly by using the fact that Scargle's modified periodogram is identical to the result one obtains by fitting a sinusoid model to the data at each frequency $f$ and constructing a \"periodogram\" from the corresponding $\\chi^2$ values at each frequency $f$ [this was considered in great detail by Lomb (1976)].\n",
    "\n",
    "*Note* - to this day I find this particular identity remarkable."
   ]
  },
  {
   "cell_type": "markdown",
   "id": "valued-aluminum",
   "metadata": {
    "slideshow": {
     "slide_type": "slide"
    }
   },
   "source": [
    "Thus, using the model:\n",
    "\n",
    "$$y(t;f) = A_f \\sin(2\\pi f(t - \\phi_f))$$\n",
    "\n",
    "we can calculate the $\\chi^2$ for every frequency $f$:\n",
    "\n",
    "$$\\chi^2 = \\sum_n (y_n - y(t_n; f))^2$$\n",
    "\n"
   ]
  },
  {
   "cell_type": "markdown",
   "id": "f3ffee79",
   "metadata": {
    "slideshow": {
     "slide_type": "slide"
    }
   },
   "source": [
    "The \"best\" model for a given frequency requires the selection of $A_f$ and $\\phi_f$ that minimizes $\\chi^2$, which we will call $\\hat \\chi^2$. Scargle (1982) then showed that the Lomb-Scargle periodogram can be written \n",
    "\n",
    "$$\\mathcal{P}_\\mathrm{LS}(f) = \\frac{1}{2}\\left[ \\hat \\chi^2_0 - \\hat \\chi^2(f) \\right]$$\n",
    "\n",
    "where $\\hat \\chi^2_0$ is the value for a non-varying reference model."
   ]
  },
  {
   "cell_type": "markdown",
   "id": "stupid-terminal",
   "metadata": {
    "slideshow": {
     "slide_type": "slide"
    }
   },
   "source": [
    "This realization further enables the inclusion of observational uncertainty in the periodogram, via a familiar adjustment to the $\\chi^2$ value:\n",
    "\n",
    "$$\\chi^2 = \\sum_n \\left(\\frac{y_n - y(t_n; f)}{\\sigma_n}\\right)^2$$\n",
    "\n",
    "where $\\sigma_n$ is the uncertainty on the each measurement, $y_n$. "
   ]
  },
  {
   "cell_type": "markdown",
   "id": "3995e4d8",
   "metadata": {
    "slideshow": {
     "slide_type": "slide"
    }
   },
   "source": [
    "Now we will construct a Lomb-Scargle periodogram."
   ]
  },
  {
   "cell_type": "markdown",
   "id": "informative-luxembourg",
   "metadata": {
    "slideshow": {
     "slide_type": "slide"
    }
   },
   "source": [
    "**Problem 3a**\n",
    "\n",
    "Write a function, `chi2`, to calculate the $\\chi^2$ given $f$, $A_f$, and $\\phi$, for observations $y_n$ with uncertainty $\\sigma_{y,n}$ taken at times $t_n$.\n",
    "\n",
    "*Hint* - store $A_f$ and $\\phi$ in a single variable `theta`, where `a = theta[0]` and `phi = theta[1]` (for later)"
   ]
  },
  {
   "cell_type": "code",
   "execution_count": null,
   "id": "annual-characterization",
   "metadata": {
    "slideshow": {
     "slide_type": "slide"
    }
   },
   "outputs": [],
   "source": [
    "def chi2(theta, y, y_unc, x, f):\n",
    "    a = theta[0]\n",
    "    phi = theta[1]\n",
    "    # complete\n",
    "    return # complete"
   ]
  },
  {
   "cell_type": "markdown",
   "id": "everyday-escape",
   "metadata": {
    "slideshow": {
     "slide_type": "slide"
    }
   },
   "source": [
    "**Problem 3b**\n",
    "\n",
    "Write a function to minimize the $\\chi^2$ given everything but $A_f$ and $\\phi_f$.\n",
    "\n",
    "*Hint* - [`minimize`](https://docs.scipy.org/doc/scipy/reference/generated/scipy.optimize.minimize.html) within the `scipy` package is helpful."
   ]
  },
  {
   "cell_type": "code",
   "execution_count": null,
   "id": "metric-judgment",
   "metadata": {
    "slideshow": {
     "slide_type": "slide"
    }
   },
   "outputs": [],
   "source": [
    "from scipy.optimize import minimize\n",
    "\n",
    "def min_chi2(theta, y, y_unc, x, f):\n",
    "    res = minimize( # complete\n",
    "    return res.fun"
   ]
  },
  {
   "cell_type": "markdown",
   "id": "material-start",
   "metadata": {
    "slideshow": {
     "slide_type": "slide"
    }
   },
   "source": [
    "**Problem 3c**\n",
    "\n",
    "Write a function, `ls_periodogram`, to calculate the LS periodogram for observations $y$, $\\sigma_y$, $t$ over a frequency grid `f_grid`."
   ]
  },
  {
   "cell_type": "code",
   "execution_count": null,
   "id": "hollywood-philadelphia",
   "metadata": {
    "slideshow": {
     "slide_type": "slide"
    }
   },
   "outputs": [],
   "source": [
    "def ls_periodogram(y, y_unc, x, f_grid):\n",
    "    psd = np.empty_like(f_grid)\n",
    "    chi2_0 = np.sum(((y - np.mean(y))/y_unc)**2)\n",
    "    for f_num, f in enumerate(f_grid):\n",
    "        psd[f_num] = 0.5*(chi2_0 - min_chi2([0,0], y, y_unc, x, f))\n",
    "    \n",
    "    return psd"
   ]
  },
  {
   "cell_type": "markdown",
   "id": "eleven-renaissance",
   "metadata": {
    "slideshow": {
     "slide_type": "slide"
    }
   },
   "source": [
    "**Problem 3d**\n",
    "\n",
    "Generate a periodic signal with 100 observations taken at random intervals over a time period of 10 days. Use an input period of 5.25, amplitude of 7.4, and variance of the noise = 0.8. Then compute and plot the periodogram for the simulated data. Do you recover the simulated period?\n",
    "\n",
    "*Hint* - set the minimum frequency in the grid to $1/T$ where $T$ is the duration of the observations. Set the maximum frequnecy to 10, and use an equally spaced grid with 50 points. "
   ]
  },
  {
   "cell_type": "code",
   "execution_count": null,
   "id": "neutral-letters",
   "metadata": {
    "slideshow": {
     "slide_type": "slide"
    }
   },
   "outputs": [],
   "source": [
    "np.random.seed(185)\n",
    "# calculate the periodogram\n",
    "\n",
    "x = 10*np.random.rand(100)\n",
    "y = gen_periodic_data(x, period=5.25, amplitude=7.4, noise=0.8)\n",
    "y_unc = np.ones_like(x)*np.sqrt(0.8)\n",
    "\n",
    "f_grid = np.linspace( # complete\n",
    "\n",
    "psd_ls = ls_periodogram(y, y_unc, x, f_grid)"
   ]
  },
  {
   "cell_type": "code",
   "execution_count": null,
   "id": "heavy-tsunami",
   "metadata": {
    "slideshow": {
     "slide_type": "slide"
    }
   },
   "outputs": [],
   "source": [
    "# plot the periodogram\n",
    "fig, ax = plt.subplots()\n",
    "ax.plot(1/f_grid, psd_ls)\n",
    "ax.set_ylabel('P')\n",
    "ax.set_xlabel('Period')\n",
    "fig.tight_layout()"
   ]
  },
  {
   "cell_type": "markdown",
   "id": "democratic-obligation",
   "metadata": {
    "slideshow": {
     "slide_type": "slide"
    }
   },
   "source": [
    "**Problem 3e**\n",
    "\n",
    "For the same data, include 1000 points in `f_grid` and calculate and plot the periodogram. \n",
    "\n",
    "Now do you recover the correct period?"
   ]
  },
  {
   "cell_type": "code",
   "execution_count": null,
   "id": "immune-keyboard",
   "metadata": {
    "slideshow": {
     "slide_type": "slide"
    }
   },
   "outputs": [],
   "source": [
    "# calculate the periodogram\n",
    "f_grid = np.linspace( # complete\n",
    "\n",
    "psd_ls = ls_periodogram(y, y_unc, x, f_grid)"
   ]
  },
  {
   "cell_type": "code",
   "execution_count": null,
   "id": "wired-participant",
   "metadata": {
    "slideshow": {
     "slide_type": "slide"
    }
   },
   "outputs": [],
   "source": [
    "# plot the periodogram\n",
    "fig,ax = plt.subplots()\n",
    "\n",
    "ax.plot(1/f_grid, psd_ls)\n",
    "ax.set_ylabel('P')\n",
    "ax.set_xlabel('Period')\n",
    "fig.tight_layout()\n",
    "\n",
    "print(\"The best fit period is: {:.4f}\".format(1/f_grid[np.argmax(psd_ls)]))"
   ]
  },
  {
   "cell_type": "markdown",
   "id": "verbal-productivity",
   "metadata": {
    "slideshow": {
     "slide_type": "slide"
    }
   },
   "source": [
    "**Problem 3f**\n",
    "\n",
    "Plot the phase-folded data at the newly found \"best\" fit period."
   ]
  },
  {
   "cell_type": "code",
   "execution_count": null,
   "id": "spread-thread",
   "metadata": {
    "slideshow": {
     "slide_type": "slide"
    }
   },
   "outputs": [],
   "source": [
    "phase_plot( # complete"
   ]
  },
  {
   "cell_type": "markdown",
   "id": "historic-volleyball",
   "metadata": {
    "slideshow": {
     "slide_type": "slide"
    }
   },
   "source": [
    "### Congratulations\n",
    "\n",
    "You did it! You just developed the software necessary to find periodic signals in sparsely sampled, noisy data.\n",
    "\n",
    "You are ready to conquer LSST."
   ]
  },
  {
   "cell_type": "markdown",
   "id": "smaller-explosion",
   "metadata": {
    "slideshow": {
     "slide_type": "skip"
    }
   },
   "source": [
    "## Code from [PracticalLombScargle](https://github.com/jakevdp/PracticalLombScargle/) by Jake Van der Plas\n",
    "\n",
    "The functions below implement plotting routines developed by Jake to illustrate some properties of Fourier transforms. \n",
    "\n",
    "This code is distributed under a BSD-3 licence, which is repeated below: \n",
    "\n",
    "Copyright (c) 2015, Jake Vanderplas\n",
    "All rights reserved.\n",
    "\n",
    "Redistribution and use in source and binary forms, with or without\n",
    "modification, are permitted provided that the following conditions are met:\n",
    "\n",
    "* Redistributions of source code must retain the above copyright notice, this\n",
    "  list of conditions and the following disclaimer.\n",
    "\n",
    "* Redistributions in binary form must reproduce the above copyright notice,\n",
    "  this list of conditions and the following disclaimer in the documentation\n",
    "  and/or other materials provided with the distribution.\n",
    "\n",
    "* Neither the name of PracticalLombScargle nor the names of its\n",
    "  contributors may be used to endorse or promote products derived from\n",
    "  this software without specific prior written permission.\n",
    "\n",
    "THIS SOFTWARE IS PROVIDED BY THE COPYRIGHT HOLDERS AND CONTRIBUTORS \"AS IS\"\n",
    "AND ANY EXPRESS OR IMPLIED WARRANTIES, INCLUDING, BUT NOT LIMITED TO, THE\n",
    "IMPLIED WARRANTIES OF MERCHANTABILITY AND FITNESS FOR A PARTICULAR PURPOSE ARE\n",
    "DISCLAIMED. IN NO EVENT SHALL THE COPYRIGHT HOLDER OR CONTRIBUTORS BE LIABLE\n",
    "FOR ANY DIRECT, INDIRECT, INCIDENTAL, SPECIAL, EXEMPLARY, OR CONSEQUENTIAL\n",
    "DAMAGES (INCLUDING, BUT NOT LIMITED TO, PROCUREMENT OF SUBSTITUTE GOODS OR\n",
    "SERVICES; LOSS OF USE, DATA, OR PROFITS; OR BUSINESS INTERRUPTION) HOWEVER\n",
    "CAUSED AND ON ANY THEORY OF LIABILITY, WHETHER IN CONTRACT, STRICT LIABILITY,\n",
    "OR TORT (INCLUDING NEGLIGENCE OR OTHERWISE) ARISING IN ANY WAY OUT OF THE USE\n",
    "OF THIS SOFTWARE, EVEN IF ADVISED OF THE POSSIBILITY OF SUCH DAMAGE."
   ]
  },
  {
   "cell_type": "code",
   "execution_count": null,
   "id": "hungarian-rover",
   "metadata": {
    "slideshow": {
     "slide_type": "skip"
    }
   },
   "outputs": [],
   "source": [
    "def fourier_pairs_plot():\n",
    "    \n",
    "    fig, ax = plt.subplots(4, 2, figsize=(10, 6))\n",
    "    fig.subplots_adjust(left=0.04, right=0.98, bottom=0.02, top=0.95,\n",
    "                        hspace=0.3, wspace=0.2)\n",
    "\n",
    "    x = np.linspace(-5, 5, 1000)\n",
    "\n",
    "    for axi in ax.flat:\n",
    "        axi.xaxis.set_major_formatter(plt.NullFormatter())\n",
    "        axi.yaxis.set_major_formatter(plt.NullFormatter())\n",
    "\n",
    "        # draw center line\n",
    "        axi.axvline(0, linestyle='dotted', color='gray')\n",
    "        axi.axhline(0, linestyle='dotted', color='gray')\n",
    "\n",
    "    style_re = dict(linestyle='solid', color='k', linewidth=2)\n",
    "    style_im = dict(linestyle='solid', color='gray', linewidth=2)\n",
    "    text_style = dict(size=14, color='gray')\n",
    "\n",
    "\n",
    "    # sine -> delta\n",
    "    ax[0, 0].plot(x, np.cos(x),**style_re)\n",
    "    ax[0, 0].set(xlim=(-5, 5), ylim=(-1.2, 1.2))\n",
    "    ax[0, 0].annotate('', (-np.pi, 0), (np.pi, 0),\n",
    "                      arrowprops=dict(arrowstyle='|-|', color='gray'))\n",
    "    ax[0, 0].text(0, 0, '$1/f_0$', ha='center', va='bottom', **text_style)\n",
    "    ax[0, 0].set_title('Sinusoid')\n",
    "\n",
    "    ax[0, 1].plot([-5, 2, 2, 2, 5], [0, 0, 1, 0, 0], **style_re)\n",
    "    ax[0, 1].plot([-5, -2, -2, -2, 5], [0, 0, 1, 0, 0], **style_re)\n",
    "    ax[0, 1].set(xlim=(-5, 5), ylim=(-0.2, 1.2))\n",
    "    ax[0, 1].annotate('', (0, 0.4), (2, 0.4), arrowprops=dict(arrowstyle='<-', color='gray'))\n",
    "    ax[0, 1].annotate('', (0, 0.4), (-2, 0.4), arrowprops=dict(arrowstyle='<-', color='gray'))\n",
    "    ax[0, 1].text(1, 0.45, '$+f_0$', ha='center', va='bottom', **text_style)\n",
    "    ax[0, 1].text(-1, 0.45, '$-f_0$', ha='center', va='bottom', **text_style)\n",
    "    ax[0, 1].set_title('Delta Functions')\n",
    "\n",
    "    # gaussian -> gaussian\n",
    "    ax[1, 0].plot(x, np.exp(-(2 * x) ** 2), **style_re)\n",
    "    ax[1, 0].set(xlim=(-5, 5), ylim=(-0.2, 1.2))\n",
    "    ax[1, 0].annotate('', (0, 0.35), (0.6, 0.35), arrowprops=dict(arrowstyle='<-', color='gray'))\n",
    "    ax[1, 0].text(0, 0.4, '$\\sigma$', ha='center', va='bottom', **text_style)\n",
    "    ax[1, 0].set_title('Gaussian')\n",
    "\n",
    "    ax[1, 1].plot(x, np.exp(-(x / 2) ** 2), **style_re)\n",
    "    ax[1, 1].set(xlim=(-5, 5), ylim=(-0.2, 1.2))\n",
    "    ax[1, 1].annotate('', (0, 0.35), (2, 0.35), arrowprops=dict(arrowstyle='<-', color='gray'))\n",
    "    ax[1, 1].text(0, 0.4, '$(2\\pi\\sigma)^{-1}$', ha='center', va='bottom', **text_style)\n",
    "    ax[1, 1].set_title('Gaussian')\n",
    "\n",
    "    # top hat -> sinc\n",
    "    ax[2, 0].plot([-2, -1, -1, 1, 1, 2], [0, 0, 1, 1, 0, 0], **style_re)\n",
    "    ax[2, 0].set(xlim=(-2, 2), ylim=(-0.3, 1.2))\n",
    "    ax[2, 0].annotate('', (-1, 0.5), (1, 0.5), arrowprops=dict(arrowstyle='<->', color='gray'))\n",
    "    ax[2, 0].text(0.0, 0.5, '$T$', ha='center', va='bottom', **text_style)\n",
    "    ax[2, 0].set_title('Top Hat')\n",
    "\n",
    "    ax[2, 1].plot(x, np.sinc(x), **style_re)\n",
    "    ax[2, 1].set(xlim=(-5, 5), ylim=(-0.3, 1.2))\n",
    "    ax[2, 1].annotate('', (-1, 0), (1, 0), arrowprops=dict(arrowstyle='<->', color='gray'))\n",
    "    ax[2, 1].text(0.0, 0.0, '$2/T$', ha='center', va='bottom', **text_style)\n",
    "    ax[2, 1].set_title('Sinc')\n",
    "\n",
    "    # comb -> comb\n",
    "    ax[3, 0].plot([-5.5] + sum((3 * [i] for i in range(-5, 6)), []) + [5.5],\n",
    "                  [0] + 11 * [0, 1, 0] + [0], **style_re)\n",
    "    ax[3, 0].set(xlim=(-5.5, 5.5), ylim=(-0.2, 1.2))\n",
    "    ax[3, 0].annotate('', (0, 0.5), (1, 0.5), arrowprops=dict(arrowstyle='<->', color='gray'))\n",
    "    ax[3, 0].text(0.5, 0.6, '$T$', ha='center', va='bottom', **text_style)\n",
    "    ax[3, 0].set_title('Dirac Comb')\n",
    "\n",
    "    ax[3, 1].plot([-5.5] + sum((3 * [i] for i in range(-5, 6)), []) + [5.5],\n",
    "                  [0] + 11 * [0, 1, 0] + [0], **style_re)\n",
    "    ax[3, 1].set(xlim=(-2.5, 2.5), ylim=(-0.2, 1.2));\n",
    "    ax[3, 1].annotate('', (0, 0.5), (1, 0.5), arrowprops=dict(arrowstyle='<->', color='gray'))\n",
    "    ax[3, 1].text(0.5, 0.6, '$1/T$', ha='center', va='bottom', **text_style)\n",
    "    ax[3, 1].set_title('Dirac Comb')\n",
    "\n",
    "    for i, letter in enumerate('abcd'):\n",
    "        ax[i, 0].set_ylabel('({0})'.format(letter), rotation=0)\n",
    "\n",
    "    # Draw arrows between pairs of axes\n",
    "    for i in range(4):\n",
    "        left = ax[i, 0].bbox.transformed(fig.transFigure.inverted()).bounds\n",
    "        right = ax[i, 1].bbox.transformed(fig.transFigure.inverted()).bounds\n",
    "        x = 0.5 * (left[0] + left[2] + right[0])\n",
    "        y = left[1] + 0.5 * left[3]\n",
    "        fig.text(x, y, r'$\\Longleftrightarrow$',\n",
    "                 ha='center', va='center', size=30)"
   ]
  }
 ],
 "metadata": {
  "celltoolbar": "Slideshow",
  "kernelspec": {
   "display_name": "Python 3 (ipykernel)",
   "language": "python",
   "name": "python3"
  },
  "language_info": {
   "codemirror_mode": {
    "name": "ipython",
    "version": 3
   },
   "file_extension": ".py",
   "mimetype": "text/x-python",
   "name": "python",
   "nbconvert_exporter": "python",
   "pygments_lexer": "ipython3",
   "version": "3.7.11"
  },
  "livereveal": {
   "height": 768,
   "scroll": true,
   "start_slideshow_at": "selected",
   "theme": "solarized",
   "width": 1024
  }
 },
 "nbformat": 4,
 "nbformat_minor": 5
}
