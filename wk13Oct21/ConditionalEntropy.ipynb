{
 "cells": [
  {
   "cell_type": "code",
   "execution_count": null,
   "metadata": {
    "slideshow": {
     "slide_type": "skip"
    }
   },
   "outputs": [],
   "source": [
    "import numpy as np\n",
    "import pandas as pd\n",
    "import matplotlib.pyplot as plt"
   ]
  },
  {
   "cell_type": "code",
   "execution_count": null,
   "metadata": {
    "slideshow": {
     "slide_type": "skip"
    }
   },
   "outputs": [],
   "source": [
    "%matplotlib notebook"
   ]
  },
  {
   "cell_type": "markdown",
   "metadata": {
    "slideshow": {
     "slide_type": "slide"
    }
   },
   "source": [
    "# Conditional Entropy: Can Information Theory Beat the L-S Periodogram?\n",
    "\n",
    "**Version 0.2**\n",
    "\n",
    "***\n",
    "By AA Miller  \n",
    "23 Sep 2021"
   ]
  },
  {
   "cell_type": "markdown",
   "metadata": {
    "slideshow": {
     "slide_type": "slide"
    }
   },
   "source": [
    "[Lecture IV](https://github.com/LSSTC-DSFP/LSSTC-DSFP-Sessions/blob/main/Session13/Day4/NonparametricMeasuresOfPeriodicity.ipynb) focused on alternative methods to Lomb-Scargle when searching for periodic signals in astronomical time series. In this notebook you will develop the software necessary to search for periodicity via Conditional Entropy (my personal favorite method). "
   ]
  },
  {
   "cell_type": "markdown",
   "metadata": {
    "slideshow": {
     "slide_type": "slide"
    }
   },
   "source": [
    "#### Conditional Entropy\n",
    "\n",
    "Conditional Entropy (CE; [Graham et al. 2013](http://adsabs.harvard.edu/abs/2013MNRAS.434.2629G)), and other entropy based methods, aim to minimize the entropy in binned (normalized magnitude, phase) space. CE, in particular, is good at supressing signal due to the window function.\n",
    "\n",
    "When tested on real observations, CE outperforms most of the alternatives (e.g., LS, PDM, etc)."
   ]
  },
  {
   "cell_type": "markdown",
   "metadata": {
    "slideshow": {
     "slide_type": "subslide"
    }
   },
   "source": [
    "<img style=\"display: block; margin-left: auto; margin-right: auto\" src=\"./images/CE.png\" align=\"middle\">\n",
    "\n",
    "<div align=\"right\"> <font size=\"-3\">(credit: Graham et al. 2013) </font></div>"
   ]
  },
  {
   "cell_type": "markdown",
   "metadata": {
    "slideshow": {
     "slide_type": "slide"
    }
   },
   "source": [
    "## Conditional Entropy\n",
    "\n",
    "The focus of today's exercise is conditional entropy (CE), which uses information theory and thus, in principle, works better in the presence of noise and outliers. Furthermore, CE does not make any assumptions about the underlying shape of the signal, which is useful when looking for non-sinusoidal patterns (such as transiting planets or eclipsing binaries)."
   ]
  },
  {
   "cell_type": "markdown",
   "metadata": {
    "slideshow": {
     "slide_type": "subslide"
    }
   },
   "source": [
    "For full details on the CE algorithm, see [Graham et al. (2013)](http://adsabs.harvard.edu/abs/2013MNRAS.434.2629G).\n",
    "\n",
    "Briefly, CE is based on the using the Shannon entropy ([Cincotta et al. 1995](https://ui.adsabs.harvard.edu/abs/1995ApJ...449..231C/abstract)), which is determined as follows:"
   ]
  },
  {
   "cell_type": "markdown",
   "metadata": {
    "slideshow": {
     "slide_type": "subslide"
    }
   },
   "source": [
    "  - Normalize the time series data $m(t_i)$ to occupy a uniform square over phase, $\\phi$, and magnitude, $m$, at a given trial period, $p$. "
   ]
  },
  {
   "cell_type": "markdown",
   "metadata": {
    "slideshow": {
     "slide_type": "subslide"
    }
   },
   "source": [
    "  - Calculate the Shannon entropy, $H_0$, over the $k$ partitions in $(\\phi, m)$:\n",
    "\n",
    " $$H_0 = - \\sum_{i=1}^{k} \\mu_i \\ln{(\\mu_i)}\\;\\; \\forall \\mu_i \\ne 0,$$\n",
    " where $\\mu_i$ is the occupation probability for the $i^{th}$ partition, which is just the number of data points in that partition divided by the total number of points in the data set.\n"
   ]
  },
  {
   "cell_type": "markdown",
   "metadata": {
    "slideshow": {
     "slide_type": "subslide"
    }
   },
   "source": [
    "  - Iterate over multiple periods, and identify the period that minimizes the entropy (recall that entropy measures a lack of information)"
   ]
  },
  {
   "cell_type": "markdown",
   "metadata": {
    "slideshow": {
     "slide_type": "slide"
    }
   },
   "source": [
    "As discussed in [Graham et al. (2013)](http://adsabs.harvard.edu/abs/2013MNRAS.434.2629G), minimizing the Shannon entropy can be influenced by the window function, so they introduce the conditional entropy, $H_c(m|\\phi)$, to help mitigate these effects. The CE can be calculated as:\n",
    "\n",
    "$$H_c =  \\sum_{i,j} p(m_i, \\phi_j) \\ln \\left( \\frac{p(\\phi_j)}{p(m_i, \\phi_j)} \\right), $$\n",
    "where $p(m_i, \\phi_j)$ is the occupation probability for the $i^{th}$ partition in normalized magnitude and the $j^{th}$\n",
    "partition in phase and $p(\\phi_j)$ is the occupation probability of the $j^{th}$ phase partition"
   ]
  },
  {
   "cell_type": "markdown",
   "metadata": {
    "slideshow": {
     "slide_type": "subslide"
    }
   },
   "source": [
    "In this problem we will first calculate the Shannon entropy, then the CE to find the best-fit period of the eclipsing binary from the LS lecture."
   ]
  },
  {
   "cell_type": "markdown",
   "metadata": {
    "slideshow": {
     "slide_type": "slide"
    }
   },
   "source": [
    "## Problem 1) Helper Functions"
   ]
  },
  {
   "cell_type": "markdown",
   "metadata": {
    "slideshow": {
     "slide_type": "slide"
    }
   },
   "source": [
    "**Problem 1a**\n",
    "\n",
    "Create a function, `gen_periodic_data`, that creates simulated data (including noise) over a grid of user supplied positions:\n",
    "\n",
    "$$ y = A\\,cos\\left(\\frac{2{\\pi}x}{P} - \\phi\\right) + \\sigma_y$$\n",
    "\n",
    "where $A, P, \\phi$ are inputs to the function. `gen_periodic_data` should include Gaussian noise, $\\sigma_y$, for each output $y_i$."
   ]
  },
  {
   "cell_type": "code",
   "execution_count": null,
   "metadata": {
    "slideshow": {
     "slide_type": "subslide"
    }
   },
   "outputs": [],
   "source": [
    "def gen_periodic_data(x, period=1, amplitude=1, phase=0, noise=0):\n",
    "    '''Generate periodic data given the function inputs\n",
    "    \n",
    "    y = A*cos(x/p - phase) + noise\n",
    "    \n",
    "    Parameters\n",
    "    ----------\n",
    "    x : array-like\n",
    "        input values to evaluate the array\n",
    "    \n",
    "    period : float (default=1)\n",
    "        period of the periodic signal\n",
    "    \n",
    "    amplitude : float (default=1)\n",
    "        amplitude of the periodic signal\n",
    "    \n",
    "    phase : float (default=0)\n",
    "        phase offset of the periodic signal\n",
    "    \n",
    "    noise : float (default=0)\n",
    "        variance of the noise term added to the periodic signal\n",
    "    \n",
    "    Returns\n",
    "    -------\n",
    "    y : array-like\n",
    "        Periodic signal evaluated at all points x\n",
    "    '''\n",
    "    \n",
    "    y = amplitude*np.sin(2*np.pi*x/(period) - phase) + np.random.normal(0, np.sqrt(noise), size=len(x))\n",
    "    return y"
   ]
  },
  {
   "cell_type": "markdown",
   "metadata": {
    "slideshow": {
     "slide_type": "slide"
    }
   },
   "source": [
    "**Problem 1b**\n",
    "\n",
    "Create a function, `phase_plot`, that takes x, y, and $P$ as inputs to create a phase-folded light curve (i.e., plot the data at their respective phase values given the period $P$).\n",
    "\n",
    "Include an optional argument, `y_unc`, to include uncertainties on the `y` values, when available."
   ]
  },
  {
   "cell_type": "code",
   "execution_count": null,
   "metadata": {
    "slideshow": {
     "slide_type": "subslide"
    }
   },
   "outputs": [],
   "source": [
    "def phase_plot(x, y, period, y_unc = 0.0):\n",
    "    '''Create phase-folded plot of input data x, y\n",
    "    \n",
    "    Parameters\n",
    "    ----------\n",
    "    x : array-like\n",
    "        data values along abscissa\n",
    "\n",
    "    y : array-like\n",
    "        data values along ordinate\n",
    "\n",
    "    period : float\n",
    "        period to fold the data\n",
    "        \n",
    "    y_unc : array-like\n",
    "        uncertainty of the \n",
    "    '''    \n",
    "    phases = (x/period) % 1\n",
    "    if type(y_unc) == float:\n",
    "        y_unc = np.zeros_like(x)\n",
    "        \n",
    "    plot_order = np.argsort(phases)\n",
    "    norm_y = (y - np.min(y))/(np.max(y) - np.min(y))\n",
    "    norm_y_unc = (y_unc)/(np.max(y) - np.min(y))\n",
    "    \n",
    "    plt.rc('grid', linestyle=\":\", color='0.8')\n",
    "    fig, ax = plt.subplots()\n",
    "    ax.errorbar(phases[plot_order], norm_y[plot_order], norm_y_unc[plot_order],\n",
    "                 fmt='o', mec=\"0.2\", mew=0.1)\n",
    "    ax.set_xlabel(\"phase\")\n",
    "    ax.set_ylabel(\"signal\")\n",
    "    ax.set_yticks(np.linspace(0,1,11))\n",
    "    ax.set_xticks(np.linspace(0,1,11))\n",
    "    ax.grid()\n",
    "    fig.tight_layout()"
   ]
  },
  {
   "cell_type": "markdown",
   "metadata": {
    "slideshow": {
     "slide_type": "slide"
    }
   },
   "source": [
    "**Problem 1c**\n",
    "\n",
    "Generate a signal with $A = 2$, $p = \\pi$, and Gaussian noise with variance = 0.01 over a regular grid between 0 and 10. Plot the phase-folded results (and make sure the results behave as you would expect).\n",
    "\n",
    "*Hint* - your simulated signal should have at least 100 data points."
   ]
  },
  {
   "cell_type": "code",
   "execution_count": null,
   "metadata": {
    "slideshow": {
     "slide_type": "subslide"
    }
   },
   "outputs": [],
   "source": [
    "x = np.linspace( # complete\n",
    "y = # complete\n",
    "\n",
    "# complete plot"
   ]
  },
  {
   "cell_type": "markdown",
   "metadata": {
    "slideshow": {
     "slide_type": "slide"
    }
   },
   "source": [
    "Note a couple changes from the previous helper function –– we have added a grid to the plot (this will be useful for visualizing the entropy), and we have also normalized the brightness measurements from 0 to 1. "
   ]
  },
  {
   "cell_type": "markdown",
   "metadata": {
    "slideshow": {
     "slide_type": "slide"
    }
   },
   "source": [
    "## Problem 2) The Shannon entropy"
   ]
  },
  {
   "cell_type": "markdown",
   "metadata": {
    "slideshow": {
     "slide_type": "subslide"
    }
   },
   "source": [
    "As noted above, to calculate the Shannon entropy we need to sum the data over partitions in the normalized $(\\phi, m)$ plane.\n",
    "\n",
    "This is straightforward using [`histogram2d`](https://docs.scipy.org/doc/numpy/reference/generated/numpy.histogram2d.html) from numpy. "
   ]
  },
  {
   "cell_type": "markdown",
   "metadata": {
    "slideshow": {
     "slide_type": "slide"
    }
   },
   "source": [
    "**Problem 2a** \n",
    "\n",
    "Write a function `shannon_entropy` to calculate the Shannon entropy, $H_0$, for a timeseries, $m(t_i)$, at a given period, `p`.\n",
    "\n",
    "*Hint* - use `histogram2d` and a 10 x 10 grid (as plotted above). "
   ]
  },
  {
   "cell_type": "code",
   "execution_count": null,
   "metadata": {
    "slideshow": {
     "slide_type": "subslide"
    }
   },
   "outputs": [],
   "source": [
    "def shannon_entropy(m, t, p):\n",
    "    '''Calculate the Shannon entropy\n",
    "    \n",
    "    Parameters\n",
    "    ----------\n",
    "    m : array-like\n",
    "        brightness measurements of the time-series data\n",
    "    \n",
    "    t : array-like (default=1)\n",
    "        timestamps corresponding to the brightness measurements\n",
    "    \n",
    "    p : float\n",
    "        period of the periodic signal\n",
    "        \n",
    "    Returns\n",
    "    -------\n",
    "    H0 : float\n",
    "        Shannon entropy for m(t) at period p\n",
    "    '''\n",
    "    \n",
    "    m_norm = # complete\n",
    "    phases = # complete\n",
    "    H, _, _ = np.histogram2d( # complete\n",
    "    \n",
    "    occupied = np.where(H > 0)\n",
    "    H0 = # complete\n",
    "    \n",
    "    return H0"
   ]
  },
  {
   "cell_type": "markdown",
   "metadata": {
    "slideshow": {
     "slide_type": "slide"
    }
   },
   "source": [
    "**Problem 2b**\n",
    "\n",
    "What is the Shannon entropy for the simulated signal at periods = 1, $\\pi$-0.05, and $\\pi$?\n",
    "\n",
    "Do these results make sense given your understanding of the Shannon entropy?"
   ]
  },
  {
   "cell_type": "code",
   "execution_count": null,
   "metadata": {
    "slideshow": {
     "slide_type": "subslide"
    }
   },
   "outputs": [],
   "source": [
    "print('For p = 1, \\t\\tH_0 = {:.5f}'.format( # complete\n",
    "print('For p = pi - 0.05, \\tH_0 = {:.5f}'.format( # complete\n",
    "print('For p = pi, \\t\\tH_0 = {:.5f}'.format( # complete"
   ]
  },
  {
   "cell_type": "markdown",
   "metadata": {
    "slideshow": {
     "slide_type": "subslide"
    }
   },
   "source": [
    "We know the correct period of the simulated data is $\\pi$, so it makes sense that this period minimizes the Shannon entropy. "
   ]
  },
  {
   "cell_type": "markdown",
   "metadata": {
    "slideshow": {
     "slide_type": "slide"
    }
   },
   "source": [
    "**Problem 2c**\n",
    "\n",
    "Write a function, `se_periodogram` to calculate the Shannon entropy for observations $m$, $t$ over a frequency grid `f_grid`."
   ]
  },
  {
   "cell_type": "code",
   "execution_count": null,
   "metadata": {
    "slideshow": {
     "slide_type": "subslide"
    }
   },
   "outputs": [],
   "source": [
    "def se_periodogram(m, t, f_grid):\n",
    "    '''Calculate the Shannon entropy at every freq in f_grid\n",
    "    \n",
    "    Parameters\n",
    "    ----------\n",
    "    m : array-like\n",
    "        brightness measurements of the time-series data\n",
    "    \n",
    "    t : array-like\n",
    "        timestamps corresponding to the brightness measurements\n",
    "    \n",
    "    f_grid : array-like\n",
    "        trial periods for the periodic signal\n",
    "        \n",
    "    Returns\n",
    "    -------\n",
    "    se_p : array-like\n",
    "        Shannon entropy for m(t) at every trial freq\n",
    "    '''\n",
    "    \n",
    "    # complete\n",
    "    for # complete in # complete\n",
    "        # complete\n",
    "    \n",
    "    return se_p"
   ]
  },
  {
   "cell_type": "markdown",
   "metadata": {
    "slideshow": {
     "slide_type": "slide"
    }
   },
   "source": [
    "**Problem 2d**\n",
    "\n",
    "Plot the Shannon entropy periodogram, and return the best-fit period from the periodogram.\n",
    "\n",
    "*Hint* - recall what we learned about frequency grids earlier today."
   ]
  },
  {
   "cell_type": "code",
   "execution_count": null,
   "metadata": {
    "slideshow": {
     "slide_type": "subslide"
    }
   },
   "outputs": [],
   "source": [
    "f_grid = # complete\n",
    "se_p = # complete\n",
    "\n",
    "fig,ax = plt.subplots()\n",
    "# complete\n",
    "# complete\n",
    "# complete\n",
    "\n",
    "print(\"The best fit period is: {:.4f}\".format( # complete"
   ]
  },
  {
   "cell_type": "markdown",
   "metadata": {
    "slideshow": {
     "slide_type": "slide"
    }
   },
   "source": [
    "## Problem 3) The Conditional Entropy"
   ]
  },
  {
   "cell_type": "markdown",
   "metadata": {
    "slideshow": {
     "slide_type": "subslide"
    }
   },
   "source": [
    "The CE is very similar to the Shannon entropy, though we need to condition the calculation on the occupation probability of the partitions in phase."
   ]
  },
  {
   "cell_type": "markdown",
   "metadata": {
    "slideshow": {
     "slide_type": "slide"
    }
   },
   "source": [
    "**Problem 3a** \n",
    "\n",
    "Write a function `conditional_entropy` to calculate the CE, $H_c$, for a timeseries, $m(t_i)$, at a given period, `p`.\n",
    "\n",
    "*Hint* - if you use `histogram2d` be sure to sum along the correct axes\n",
    "\n",
    "*Hint 2* - recall from session 8 that we want to avoid `for` loops, try to vectorize your calculation."
   ]
  },
  {
   "cell_type": "code",
   "execution_count": null,
   "metadata": {
    "slideshow": {
     "slide_type": "subslide"
    }
   },
   "outputs": [],
   "source": [
    "def conditional_entropy(m, t, p):\n",
    "    '''Calculate the conditional entropy\n",
    "    \n",
    "    Parameters\n",
    "    ----------\n",
    "    m : array-like\n",
    "        brightness measurements of the time-series data\n",
    "    \n",
    "    t : array-like\n",
    "        timestamps corresponding to the brightness measurements\n",
    "    \n",
    "    p : float\n",
    "        period of the periodic signal\n",
    "        \n",
    "    Returns\n",
    "    -------\n",
    "    Hc : float\n",
    "        Conditional entropy for m(t) at period p\n",
    "    '''\n",
    "    \n",
    "    m_norm = # complete\n",
    "    phases = # complete\n",
    "    # complete\n",
    "    # complete\n",
    "    # complete\n",
    "    Hc = # complete\n",
    "    \n",
    "    return Hc"
   ]
  },
  {
   "cell_type": "markdown",
   "metadata": {
    "slideshow": {
     "slide_type": "slide"
    }
   },
   "source": [
    "**Problem 3b**\n",
    "\n",
    "What is the conditional entropy for the simulated signal at periods = 1, $\\pi$-0.05, and $\\pi$?\n",
    "\n",
    "Do these results make sense given your understanding of CE?"
   ]
  },
  {
   "cell_type": "code",
   "execution_count": null,
   "metadata": {
    "slideshow": {
     "slide_type": "subslide"
    }
   },
   "outputs": [],
   "source": [
    "print('For p = 1, \\t\\tH_c = {:.5f}'.format( # complete\n",
    "print('For p = pi - 0.05, \\tH_c = {:.5f}'.format( # complete\n",
    "print('For p = pi, \\t\\tH_c = {:.5f}'.format( # complete"
   ]
  },
  {
   "cell_type": "markdown",
   "metadata": {
    "slideshow": {
     "slide_type": "slide"
    }
   },
   "source": [
    "**Problem 3c**\n",
    "\n",
    "Write a function, `ce_periodogram`, to calculate the conditional entropy for observations $m$, $t$ over a frequency grid `f_grid`."
   ]
  },
  {
   "cell_type": "code",
   "execution_count": null,
   "metadata": {
    "slideshow": {
     "slide_type": "subslide"
    }
   },
   "outputs": [],
   "source": [
    "def ce_periodogram(m, t, f_grid):\n",
    "    '''Calculate the conditional entropy at every freq in f_grid\n",
    "    \n",
    "    Parameters\n",
    "    ----------\n",
    "    m : array-like\n",
    "        brightness measurements of the time-series data\n",
    "    \n",
    "    t : array-like\n",
    "        timestamps corresponding to the brightness measurements\n",
    "    \n",
    "    f_grid : array-like\n",
    "        trial periods for the periodic signal\n",
    "        \n",
    "    Returns\n",
    "    -------\n",
    "    ce_p : array-like\n",
    "        conditional entropy for m(t) at every trial freq\n",
    "    '''\n",
    "    \n",
    "    # complete\n",
    "    for # complete in # complete\n",
    "        # complete\n",
    "    \n",
    "    return ce_p"
   ]
  },
  {
   "cell_type": "markdown",
   "metadata": {
    "slideshow": {
     "slide_type": "slide"
    }
   },
   "source": [
    "**Problem 3d**\n",
    "\n",
    "Plot the conditional entropy periodogram, and return the best-fit period from the periodogram."
   ]
  },
  {
   "cell_type": "code",
   "execution_count": null,
   "metadata": {
    "slideshow": {
     "slide_type": "subslide"
    }
   },
   "outputs": [],
   "source": [
    "f_grid = # complete\n",
    "ce_p = # complete\n",
    "\n",
    "fig,ax = plt.subplots()\n",
    "# complete\n",
    "# complete\n",
    "# complete\n",
    "\n",
    "print(\"The best fit period is: {:.4f}\".format( # complete"
   ]
  },
  {
   "cell_type": "markdown",
   "metadata": {
    "slideshow": {
     "slide_type": "subslide"
    }
   },
   "source": [
    "The Shannon entropy and CE return nearly identical results for a simulated sinusoidal signal. Now we will examine how each performs with actual astronomical observations. "
   ]
  },
  {
   "cell_type": "markdown",
   "metadata": {
    "slideshow": {
     "slide_type": "slide"
    }
   },
   "source": [
    "## Problem 4) SE vs. CE for real observations"
   ]
  },
  {
   "cell_type": "markdown",
   "metadata": {
    "slideshow": {
     "slide_type": "slide"
    }
   },
   "source": [
    "**Problem 4a**\n",
    "\n",
    "Load the data from our favorite eclipsing binary from this morning's LS exercise. Plot the light curve. \n",
    "\n",
    "*Hint* - if you haven't already, download the [example light curve](https://northwestern.box.com/s/rclcz4lkcdfjn4829p8pa5ddfmcyd0gm)."
   ]
  },
  {
   "cell_type": "code",
   "execution_count": null,
   "metadata": {
    "slideshow": {
     "slide_type": "subslide"
    }
   },
   "outputs": [],
   "source": [
    "data = pd.read_csv(\"example_asas_lc.dat\")\n",
    "\n",
    "fig, ax = plt.subplots()\n",
    "ax.errorbar( # complete\n",
    "ax.set_xlabel('HJD (d)')\n",
    "ax.set_ylabel('V (mag)')\n",
    "ax.set_ylim(ax.get_ylim()[::-1])\n",
    "fig.tight_layout()"
   ]
  },
  {
   "cell_type": "markdown",
   "metadata": {
    "slideshow": {
     "slide_type": "slide"
    }
   },
   "source": [
    "**Problem 4b** \n",
    "\n",
    "Using the Shannon entropy, determine the best period for this light curve.\n",
    "\n",
    "*Hint* - recall this morning's discussion about the optimal grid for a period search"
   ]
  },
  {
   "cell_type": "code",
   "execution_count": null,
   "metadata": {
    "slideshow": {
     "slide_type": "subslide"
    }
   },
   "outputs": [],
   "source": [
    "f_min = # complete\n",
    "f_max = # complete\n",
    "delta_f = # complete\n",
    "\n",
    "f_grid = # complete"
   ]
  },
  {
   "cell_type": "code",
   "execution_count": null,
   "metadata": {
    "slideshow": {
     "slide_type": "subslide"
    }
   },
   "outputs": [],
   "source": [
    "se_p = # complete\n",
    "\n",
    "print(\"The best fit period is: {:.9f}\".format( # complete"
   ]
  },
  {
   "cell_type": "markdown",
   "metadata": {
    "slideshow": {
     "slide_type": "slide"
    }
   },
   "source": [
    "**Problem 4c**\n",
    "\n",
    "Plot the Shannon entropy periodogram."
   ]
  },
  {
   "cell_type": "code",
   "execution_count": null,
   "metadata": {
    "slideshow": {
     "slide_type": "subslide"
    }
   },
   "outputs": [],
   "source": [
    "fig, ax = plt.subplots()\n",
    "# complete\n",
    "# complete\n",
    "# complete"
   ]
  },
  {
   "cell_type": "markdown",
   "metadata": {
    "slideshow": {
     "slide_type": "slide"
    }
   },
   "source": [
    "**Problem 4d**\n",
    "\n",
    "Plot the light curve phase-folded on the best-fit period, as measured by the Shannon entropy periodogram.\n",
    "\n",
    "Does this look reasonable? Why or why not?\n",
    "\n",
    "*Hint* - it may be helpful to zoom in on the periodogram."
   ]
  },
  {
   "cell_type": "code",
   "execution_count": null,
   "metadata": {
    "slideshow": {
     "slide_type": "subslide"
    }
   },
   "outputs": [],
   "source": [
    "phase_plot(# complete"
   ]
  },
  {
   "cell_type": "markdown",
   "metadata": {
    "slideshow": {
     "slide_type": "slide"
    }
   },
   "source": [
    "**Problem 4e** \n",
    "\n",
    "Using the conditional entropy, determine the best period for this light curve."
   ]
  },
  {
   "cell_type": "code",
   "execution_count": null,
   "metadata": {
    "slideshow": {
     "slide_type": "subslide"
    }
   },
   "outputs": [],
   "source": [
    "ce_p = # complete\n",
    "\n",
    "print(\"The best fit period is: {:.9f}\".format( # complete"
   ]
  },
  {
   "cell_type": "markdown",
   "metadata": {
    "slideshow": {
     "slide_type": "slide"
    }
   },
   "source": [
    "**Problem 4f**\n",
    "\n",
    "Plot the CE periodogram."
   ]
  },
  {
   "cell_type": "code",
   "execution_count": null,
   "metadata": {
    "slideshow": {
     "slide_type": "subslide"
    }
   },
   "outputs": [],
   "source": [
    "fig, ax = plt.subplots()\n",
    "# complete\n",
    "# complete\n",
    "# complete"
   ]
  },
  {
   "cell_type": "markdown",
   "metadata": {
    "slideshow": {
     "slide_type": "slide"
    }
   },
   "source": [
    "**Problem 4g**\n",
    "\n",
    "Plot the light curve phase-folded on the best-fit period, as measured by the CE periodogram.\n",
    "\n",
    "Does this look reasonable? If not - can you make it look better?"
   ]
  },
  {
   "cell_type": "code",
   "execution_count": null,
   "metadata": {
    "slideshow": {
     "slide_type": "subslide"
    }
   },
   "outputs": [],
   "source": [
    "phase_plot( # complete"
   ]
  },
  {
   "cell_type": "markdown",
   "metadata": {
    "slideshow": {
     "slide_type": "slide"
    }
   },
   "source": [
    "This example demonstrates the primary strength of CE over the Shannon entropy. \n",
    "\n",
    "If you zoom-in on the CE periodogram, there is no power at $p \\approx 1\\,\\mathrm{d}$, unlike the LS periodogram *or* the Shannon entropy method. This will not be the case for every single light curve, but this is a very nice feature of the CE method. And one reason why it may be preferred to something like LS when analyzing every light curve in LSST."
   ]
  },
  {
   "cell_type": "markdown",
   "metadata": {
    "slideshow": {
     "slide_type": "slide"
    }
   },
   "source": [
    "## Challenge Problem) Overlapping Bins"
   ]
  },
  {
   "cell_type": "markdown",
   "metadata": {
    "slideshow": {
     "slide_type": "slide"
    }
   },
   "source": [
    "In the previous example we used a simple uniform grid to identify the best-fit period for the eclipsing binary. However, the \"best-fit\" resulted in an estimate of the half period. One way to improve upon this estimate is to build a grid that has overlapping phase bins. This requirement results in better continuity in the phase-folded light curves (K.Burdge, private communication).  "
   ]
  },
  {
   "cell_type": "markdown",
   "metadata": {
    "slideshow": {
     "slide_type": "slide"
    }
   },
   "source": [
    "**Challenge Problem**\n",
    "\n",
    "Build a function `conditional_entropy_overlap` that utilizes overlapping bins in the CE calculation. \n",
    "\n",
    "Can you use this function to identify the correct period of the binary?"
   ]
  }
 ],
 "metadata": {
  "kernelspec": {
   "display_name": "Python 3 (ipykernel)",
   "language": "python",
   "name": "python3"
  },
  "language_info": {
   "codemirror_mode": {
    "name": "ipython",
    "version": 3
   },
   "file_extension": ".py",
   "mimetype": "text/x-python",
   "name": "python",
   "nbconvert_exporter": "python",
   "pygments_lexer": "ipython3",
   "version": "3.8.12"
  }
 },
 "nbformat": 4,
 "nbformat_minor": 2
}
