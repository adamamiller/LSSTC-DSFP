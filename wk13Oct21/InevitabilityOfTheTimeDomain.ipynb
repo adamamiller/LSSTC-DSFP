{
 "cells": [
  {
   "cell_type": "markdown",
   "metadata": {
    "slideshow": {
     "slide_type": "slide"
    }
   },
   "source": [
    "# Inevitability Of The Time Domain\n",
    "\n",
    "**version 0.2**\n",
    "\n",
    "***\n",
    "\n",
    "AA Miller (Northwestern/CIERA)  \n",
    "14 Sep 2021"
   ]
  },
  {
   "cell_type": "markdown",
   "metadata": {
    "slideshow": {
     "slide_type": "slide"
    }
   },
   "source": [
    "The falling cost of silicon detectors (and data storage), has led to a consistent theme over the past ~decade. "
   ]
  },
  {
   "cell_type": "markdown",
   "metadata": {
    "slideshow": {
     "slide_type": "slide"
    }
   },
   "source": [
    "The proliferation of wide field surveys. \n",
    "\n",
    "<img style=\"display: block; margin-left: auto; margin-right: auto\" src=\"./images/large_detectors_J_Johansson.png\" align=\"middle\">\n",
    "\n",
    "<div align=\"right\"> <font size=\"-3\">(credit: J. Johansson) </font></div>"
   ]
  },
  {
   "cell_type": "markdown",
   "metadata": {
    "slideshow": {
     "slide_type": "slide"
    }
   },
   "source": [
    "The motivation is straightforward $\\longrightarrow$ MORE"
   ]
  },
  {
   "cell_type": "markdown",
   "metadata": {
    "slideshow": {
     "slide_type": "subslide"
    }
   },
   "source": [
    "(more area, more sources, better statistics, more discoveries, etc.)"
   ]
  },
  {
   "cell_type": "markdown",
   "metadata": {
    "slideshow": {
     "slide_type": "slide"
    }
   },
   "source": [
    "These efforts will in some ways culminate with the Vera C. Rubin Observatory.$^\\dagger$\n",
    "\n",
    "<img style=\"display: block; margin-left: auto; margin-right: auto\" src=\"./images/2015-SL_LSST_LSSTIllus.jpg\" align=\"middle\">\n",
    "\n",
    "<div align=\"right\"> <font size=\"-3\">(credit: Kavli foundation) </font></div>"
   ]
  },
  {
   "cell_type": "markdown",
   "metadata": {
    "slideshow": {
     "slide_type": "subslide"
    }
   },
   "source": [
    "$^\\dagger$ Though there are existing surveys that go nearly as deep as LSST, and other surveys with a wider field of view, none provide the same combination of wide and deep."
   ]
  },
  {
   "cell_type": "markdown",
   "metadata": {
    "slideshow": {
     "slide_type": "slide"
    }
   },
   "source": [
    "From Lucianne's Introduction to the Rubin Observatory, we know that the DOE camera can detect sources as faint as $m_r \\approx 24.5\\,\\mathrm{mag}$ in $\\sim$${30}\\,\\mathrm{s}$.\n",
    "\n",
    "We also know that Rubin weak lensing requirements need final depths of $m_r \\approx 27\\,\\mathrm{mag}$."
   ]
  },
  {
   "cell_type": "markdown",
   "metadata": {
    "slideshow": {
     "slide_type": "fragment"
    }
   },
   "source": [
    "2.5 mag is a factor of 10 in flux, which corresponds to a factor of $\\sim$$100$ in exposure time. \n",
    "\n",
    "To reach a depth of $\\sim$${27}\\,\\mathrm{mag}$ requires a $\\sim$${3000}\\,\\mathrm{s}$ exposure with Rubin."
   ]
  },
  {
   "cell_type": "markdown",
   "metadata": {
    "slideshow": {
     "slide_type": "slide"
    }
   },
   "source": [
    "**Breakout Problem 1**\n",
    "\n",
    "Should we take $\\sim$${1\\,\\mathrm{hr}}$ long exposures with Rubin?"
   ]
  },
  {
   "cell_type": "markdown",
   "metadata": {
    "slideshow": {
     "slide_type": "fragment"
    }
   },
   "source": [
    "**Solution to Breakout 1**\n",
    "\n",
    "*Write your answer here*"
   ]
  },
  {
   "cell_type": "markdown",
   "metadata": {
    "slideshow": {
     "slide_type": "slide"
    }
   },
   "source": [
    "### Solution to Breakout 1\n",
    "\n",
    "There are many reasons hour-long exposures with Rubin are probably not a good idea (e.g., saturation, StarLink, telescope tracking accuracy), chief among them – cosmic rays:\n",
    "\n",
    "\n",
    "<img style=\"display: block; margin-left: auto; margin-right: auto\" src=\"./images/lris-red-upgrade-dark-frame.png\" align=\"middle\">\n",
    "\n",
    "<div align=\"right\"> <font size=\"-3\">(credit: Kassis, Kibrick, Rockosi, & Wirth; WMKO Technical Report 2009) </font></div>"
   ]
  },
  {
   "cell_type": "markdown",
   "metadata": {
    "slideshow": {
     "slide_type": "slide"
    }
   },
   "source": [
    "Upshot –– our detectors are bigger than ever but we are also limited to relatively short duration exposures. \n",
    "\n",
    "We can move the telescope in between observations, but a $10\\,\\mathrm{deg}^2$ FOV means we will literally run out of sky."
   ]
  },
  {
   "cell_type": "markdown",
   "metadata": {
    "slideshow": {
     "slide_type": "slide"
    }
   },
   "source": [
    "As a result\n",
    "\n",
    "<img style=\"display: block; margin-left: auto; margin-right: auto\" src=\"./images/thanos.png\" align=\"middle\">\n",
    "\n",
    "<div align=\"right\"> <font size=\"-3\">(credit: Marvel; Rubin Observatory) </font></div>"
   ]
  },
  {
   "cell_type": "markdown",
   "metadata": {
    "slideshow": {
     "slide_type": "slide"
    }
   },
   "source": [
    "The science goals of the Rubin Observatory *require* time-domain observations. \n",
    "\n",
    "The time-domain observations open up several other new science goals. \n",
    "\n",
    "Session 13 covers how we might analyze data obtained in the time-domain."
   ]
  },
  {
   "cell_type": "markdown",
   "metadata": {
    "slideshow": {
     "slide_type": "slide"
    }
   },
   "source": [
    "### Quick Aside\n",
    "\n",
    "Ground-based, time-series photometry looks like this: \n",
    "\n",
    "<img style=\"display: block; margin-left: auto; margin-right: auto\" src=\"./images/ASAS_lc.png\" align=\"middle\">\n",
    "\n",
    "<div align=\"right\"> <font size=\"-3\">(credit: Richards et al. 2012) </font></div>"
   ]
  },
  {
   "cell_type": "markdown",
   "metadata": {
    "slideshow": {
     "slide_type": "slide"
    }
   },
   "source": [
    "There are a few salient features to notice here:\n",
    "\n",
    "$~~~~$There are large gaps in the observations  \n",
    "$~~~~$The observations are very noisy  \n",
    "$~~~~$There are non-gaussian processes present in the data"
   ]
  },
  {
   "cell_type": "markdown",
   "metadata": {
    "slideshow": {
     "slide_type": "slide"
    }
   },
   "source": [
    "Relative to standard signal processing procedures in the statistical literature, these issues made the analysis of astronomical time-series difficult. \"Standard\" procedures assume regularly spaced observations or homoskedastic uncertainties, which is a regime that we did not have access to in astronomy. \n",
    "\n",
    "... Until $\\sim$10 years ago with the launch of *CoRoT* (and later *Kepler* and now *TESS*).$^\\dagger$"
   ]
  },
  {
   "cell_type": "markdown",
   "metadata": {
    "slideshow": {
     "slide_type": "subslide"
    }
   },
   "source": [
    "$^\\dagger$ X-ray observatories, and now gravitational wave observatories, also give us access to regularly sampled data."
   ]
  },
  {
   "cell_type": "markdown",
   "metadata": {
    "slideshow": {
     "slide_type": "slide"
    }
   },
   "source": [
    "Now we have this: \n",
    "\n",
    "<img style=\"display: block; margin-left: auto; margin-right: auto\" src=\"./images/13Cyg_fromAASposter1.jpg\" align=\"middle\">\n",
    "\n",
    "<div align=\"right\"> <font size=\"-3\">(credit: NASA *Kepler* Science Center) </font></div>"
   ]
  },
  {
   "cell_type": "markdown",
   "metadata": {
    "slideshow": {
     "slide_type": "slide"
    }
   },
   "source": [
    "These space-based missions provide precise (ppm accuracy) observations taken at regular intervals ($\\sim$30 min) over long intervals ($\\sim$4 yr for *Kepler*). \n",
    "\n",
    "As a result, astronomical time-series analysis often falls into two different regimes: ground-based surveys and space-based planet hunting surveys. We will cover relevant problems for both throughout the week.\n",
    "\n",
    "*Fin*"
   ]
  },
  {
   "cell_type": "markdown",
   "metadata": {
    "slideshow": {
     "slide_type": "slide"
    }
   },
   "source": [
    "The sheer number of sources detected by LSST ($\\sim$$37$ billion) means that spectroscopy will be out of reach for the vast, vast majority of sources observed by Rubin. \n",
    "\n",
    "A *significant* challenge in the Rubin-era will be extracting information from photometric-only data sets."
   ]
  },
  {
   "cell_type": "markdown",
   "metadata": {
    "slideshow": {
     "slide_type": "slide"
    }
   },
   "source": [
    "[Note that the following statement is loaded with personal bias]\n",
    "\n",
    "One way in which LSST is going to be exceptionally transformative is the time series of persistent objects. Everything brighter than $21\\,\\mathrm{mag}$ will have better than 1% light curves over a 10 year duration. This is completely unlike anything that has been previously done, and anything planned in the near future. For stars with $m < 21\\,\\mathrm{mag}$, *Gaia* will provide distance measurements."
   ]
  },
  {
   "cell_type": "markdown",
   "metadata": {
    "slideshow": {
     "slide_type": "slide"
    }
   },
   "source": [
    "What does this sub-1% photometry mean?\n",
    "\n",
    "  - all hot jupiters around stars brighter than $21\\,\\mathrm{mag}$ will be found\n",
    "  - rotation periods for all asteroids brighter than $21\\,\\mathrm{mag}$ will be known\n",
    "  - the most distant stars in the MW halo will be identified"
   ]
  },
  {
   "cell_type": "markdown",
   "metadata": {
    "slideshow": {
     "slide_type": "slide"
    }
   },
   "source": [
    "**Breakout Problem 2**\n",
    "\n",
    "What information might we want to extract from light curves?"
   ]
  },
  {
   "cell_type": "markdown",
   "metadata": {
    "slideshow": {
     "slide_type": "fragment"
    }
   },
   "source": [
    "**Solution to Breakout 2**\n",
    "\n",
    "Write you answer here."
   ]
  },
  {
   "cell_type": "markdown",
   "metadata": {
    "slideshow": {
     "slide_type": "slide"
    }
   },
   "source": [
    "Periodicity is the most fundamental signal in astronomical light curves. Periodic signals are always very closely related to fundamental physics (orbits, pulsations, rotation). Thus, if you can measure the period of a source, you can know something fundamental about its nature. However, given the previously mentioned challenges (observational gaps, heteroskedastic uncertainties, non-Gaussian outliers), it is very very difficult to measure periodic signals in ground-based astronomical light curves."
   ]
  },
  {
   "cell_type": "markdown",
   "metadata": {
    "slideshow": {
     "slide_type": "slide"
    }
   },
   "source": [
    "Measuring periodicity will be a significant theme for this session (as will dealing with gaps and heteroskedastic uncertainties).\n",
    "\n",
    "And with that, let the analysis begin..."
   ]
  }
 ],
 "metadata": {
  "celltoolbar": "Slideshow",
  "kernelspec": {
   "display_name": "Python 3",
   "language": "python",
   "name": "python3"
  },
  "language_info": {
   "codemirror_mode": {
    "name": "ipython",
    "version": 3
   },
   "file_extension": ".py",
   "mimetype": "text/x-python",
   "name": "python",
   "nbconvert_exporter": "python",
   "pygments_lexer": "ipython3",
   "version": "3.7.9"
  }
 },
 "nbformat": 4,
 "nbformat_minor": 2
}
