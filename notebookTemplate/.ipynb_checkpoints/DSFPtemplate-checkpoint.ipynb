{
 "cells": [
  {
   "cell_type": "code",
   "execution_count": null,
   "metadata": {
    "collapsed": true
   },
   "outputs": [],
   "source": [
    "from __future__ import print_function, division, absolute_import"
   ]
  },
  {
   "cell_type": "markdown",
   "metadata": {},
   "source": [
    "As a preamble - note that JuPyTer notebooks are formatted using [markdown](http://daringfireball.net/projects/markdown/), a text-to-html conversion tool. If you are not familiar, there are [cheatsheets](https://github.com/adam-p/markdown-here/wiki/Markdown-Cheatsheet) available with all the basic functionality that you will need."
   ]
  },
  {
   "cell_type": "markdown",
   "metadata": {},
   "source": [
    "# LSSTC DSFP Template Notebook:\n",
    "\n",
    "# How to put together a DSFP notebook using our standard formatting\n",
    "\n",
    "**Version 0.1**\n",
    "\n",
    "This notebook serves as a template for constructing problems for students as part of the [LSSTC Data Science Fellowship Program](http://ciera.northwestern.edu/Education/LSSTC_DSFPOverview.php). This preamble to the notebook contains an overview of the problems with a brief introduction to the big picture behind the problem. \n",
    "\n",
    "For some example notebooks, take a look at AAM's problems on [Unsupervised Machine Learning](https://github.com/LSSTC-DSFP/LSSTC-DSFP-Sessions/blob/master/Session1/Day4/IntroToMachineLearning.ipynb) and [Building An End-to-end Machine Learning Pipeline]().\n",
    "\n",
    "*Note - tips and suggestions based on AAM's experience developing problems for the DSFP are italicized in this notebook. Otherwise, we typically reserve italics for **hints** on specific problems for the students.*\n",
    "\n",
    "* * *\n",
    "\n",
    "By AA Miller (CIERA/Northwestern & Adler)"
   ]
  },
  {
   "cell_type": "markdown",
   "metadata": {},
   "source": [
    "*The necessary libraries are imported at the beginning of the notebook*"
   ]
  },
  {
   "cell_type": "code",
   "execution_count": null,
   "metadata": {
    "collapsed": false
   },
   "outputs": [],
   "source": [
    "import numpy as np\n",
    "import pandas as pd\n",
    "import matplotlib.pyplot as plt\n",
    "\n",
    "%matplotlib notebook"
   ]
  },
  {
   "cell_type": "markdown",
   "metadata": {},
   "source": [
    "## Problem 1) Creating DSFP Problems\n",
    "\n",
    "We have found that modular notebooks work best. Thus the typical construction includes $\\sim3-5$ capital P Problems, each with sub-problems a, b, c, d, etc. The Problems address major ideas from the lecture, while the sub-problems directly address the nitty gritty details related to implementation of the idea. Most sub-problems require some measure of coding (*typically $\\lesssim 10$ lines in a single sub-problem is best*), though some simply ask for responses regarding the data or the code that has just been written. \n",
    "\n",
    "The modular structure allows the students to move at their own pace, and at this point they all understand that problems get progressively more difficult throughout the notebook. Within the time that is allotted, some students finish and others do not. Following the Problems, there is always a **Challenge Problem** for the students that finish early. These Challenge Problems are always more difficult and typically are not as well structured as the earlier Problems in the notebook.\n",
    "\n",
    "**An essential tip** - in my experience it is by *far* best to start by writing the solutions to the notebook. This ensures that all the code works and behaves as expected [it also helps control the total time necessary to complete the problems]. Then the notebook for the students can be created by copying the solutions and removing important portions of the code using `# complete` as you will see in the examples below."
   ]
  },
  {
   "cell_type": "markdown",
   "metadata": {},
   "source": [
    "It is often, though not always, useful to include code that the students run to load data for the notebook. Here is an example to load some columns from SDSS. As this data is required for the exercise, this is not considered a problem."
   ]
  },
  {
   "cell_type": "code",
   "execution_count": null,
   "metadata": {
    "collapsed": false
   },
   "outputs": [],
   "source": [
    "# excecute this cell\n",
    "from astroquery.sdss import SDSS  # enables direct queries to the SDSS database\n",
    "\n",
    "TSquery = \"\"\"SELECT TOP 1000\n",
    "             p.psfMag_r, p.fiberMag_r, p.fiber2Mag_r, p.petroMag_r, \n",
    "             p.deVMag_r, p.expMag_r, p.modelMag_r, p.cModelMag_r, \n",
    "             s.class\n",
    "             FROM PhotoObjAll AS p JOIN specObjAll s ON s.bestobjid = p.objid\n",
    "             WHERE p.mode = 1 AND s.sciencePrimary = 1 AND p.clean = 1 AND s.class != 'QSO'\n",
    "             ORDER BY p.objid ASC\n",
    "               \"\"\"\n",
    "SDSSts = SDSS.query_sql(TSquery)\n",
    "SDSSts"
   ]
  },
  {
   "cell_type": "markdown",
   "metadata": {},
   "source": [
    "For the actual problems it is best to provide the students with code snippets as in the example below. It is also useful to define specific variable names that will be used throughout the notebook.\n",
    "\n",
    "**Problem 1a**\n",
    "\n",
    "How many sources in the random selection from SDSS have a spectroscopic class of `STAR`? Store the result in a variable called `Nstar`.\n",
    "\n",
    "*Hint* - pay attention to the python type for the `class` column in `SDSSts`."
   ]
  },
  {
   "cell_type": "code",
   "execution_count": null,
   "metadata": {
    "collapsed": false
   },
   "outputs": [],
   "source": [
    "stars = SDSSts[\"class\"] # complete\n",
    "Nstar = # complete\n",
    "\n",
    "print(\"There are {:d} stars in the data set.\".format( # complete"
   ]
  },
  {
   "cell_type": "markdown",
   "metadata": {},
   "source": [
    "**Problem 1b**\n",
    "\n",
    "What fraction of the stars in the data set are fainter than $r' = 20 \\; \\mathrm{mag}$? Store the result in a variable called `Nbright_star`."
   ]
  },
  {
   "cell_type": "code",
   "execution_count": null,
   "metadata": {
    "collapsed": false
   },
   "outputs": [],
   "source": [
    "bright = SDSSts[ # complete\n",
    "Nbright_star = # complete\n",
    "    \n",
    "print(\"There are {:d} stars with r' < 20 the data set.\".format( # complete"
   ]
  },
  {
   "cell_type": "markdown",
   "metadata": {},
   "source": [
    "Sometimes it is useful to add an explanation for the acquired results. Or to add some text setting up the next portion of the problem. Alternatively, you may want the students to think about the results and provide a response for what they found, as follows: *in this case it's good to provide a markdown cell for them to write their answer*\n",
    "\n",
    "**Problem 1c**\n",
    "\n",
    "Based on your knowledge of SDSS, do your results above make sense?"
   ]
  },
  {
   "cell_type": "markdown",
   "metadata": {},
   "source": [
    "*Provide your answer to Problem 1c here*"
   ]
  },
  {
   "cell_type": "markdown",
   "metadata": {},
   "source": [
    "While plots are useful, and often necessary, it's best to keep them compact if possible. We don't want students struggling with plot syntax (unless the specific topic is visualization). Thus, in these cases, it's best to provide code snippets that are more close to being complete. \n",
    "\n",
    "**Problem 1d**\n",
    "\n",
    "For the bright stars, make a scatter plot of `psdMag_r` vs. `deVMag_r`. "
   ]
  },
  {
   "cell_type": "code",
   "execution_count": null,
   "metadata": {
    "collapsed": true
   },
   "outputs": [],
   "source": [
    "plt.scatter(SDSSts[(bright) & (star)][ # complete\n",
    "\n",
    "plt.xtitle('psfMag_r')\n",
    "plt.ytitle('deVMag_r')\n",
    "plt.xlimit( # complete\n",
    "plt.xlimit( # complete\n",
    "\n",
    "plt.tight_layout()"
   ]
  },
  {
   "cell_type": "markdown",
   "metadata": {},
   "source": [
    "## Problem 2\n",
    "\n",
    "When the first idea is complete, begin a new Problem. The notebook continues with this modular structure until the challenge problem. Problems 2a, 2b, 2c, etc. are eventually to be followed by Problem 3... and so on. "
   ]
  },
  {
   "cell_type": "markdown",
   "metadata": {},
   "source": [
    "Text explaining what's going on\n",
    "\n",
    "** Problem 2a **\n",
    "\n",
    "Definition of Problem 2a."
   ]
  },
  {
   "cell_type": "code",
   "execution_count": null,
   "metadata": {
    "collapsed": true
   },
   "outputs": [],
   "source": [
    "code_snippet1 = # complete\n",
    "code_snippet2 = # complete\n",
    "code_snippet3 = # complete\n",
    "code_snippet4 = # complete"
   ]
  },
  {
   "cell_type": "markdown",
   "metadata": {},
   "source": [
    "Finally, as noted above, the notebook should end with a Challenge Problem in case any of the students finish the notebook before time is up. This problem should be harder and include fewer prompts."
   ]
  },
  {
   "cell_type": "markdown",
   "metadata": {},
   "source": [
    "## Challenge Problem\n",
    "\n",
    "Complete the following problem, which can be arbitrarily difficult."
   ]
  },
  {
   "cell_type": "code",
   "execution_count": null,
   "metadata": {
    "collapsed": true
   },
   "outputs": [],
   "source": [
    "# no code snippets provided here"
   ]
  }
 ],
 "metadata": {
  "kernelspec": {
   "display_name": "Python 3",
   "language": "python",
   "name": "python3"
  },
  "language_info": {
   "codemirror_mode": {
    "name": "ipython",
    "version": 3
   },
   "file_extension": ".py",
   "mimetype": "text/x-python",
   "name": "python",
   "nbconvert_exporter": "python",
   "pygments_lexer": "ipython3",
   "version": "3.5.2"
  }
 },
 "nbformat": 4,
 "nbformat_minor": 2
}
