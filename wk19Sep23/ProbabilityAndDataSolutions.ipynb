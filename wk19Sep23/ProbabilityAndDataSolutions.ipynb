{
 "cells": [
  {
   "cell_type": "code",
   "execution_count": 1,
   "id": "0a8a42a5-a8c3-4b89-b37b-814be6e02995",
   "metadata": {
    "editable": true,
    "slideshow": {
     "slide_type": "skip"
    },
    "tags": []
   },
   "outputs": [],
   "source": [
    "import numpy as np\n",
    "import matplotlib.pyplot as plt\n",
    "from scipy.optimize import minimize"
   ]
  },
  {
   "cell_type": "code",
   "execution_count": 2,
   "id": "de306753-60d4-421f-85cc-0beb54157d90",
   "metadata": {
    "editable": true,
    "slideshow": {
     "slide_type": "skip"
    },
    "tags": []
   },
   "outputs": [],
   "source": [
    "%matplotlib widget"
   ]
  },
  {
   "cell_type": "markdown",
   "id": "11dec9f5-7820-4e57-b104-43f30faeaaa1",
   "metadata": {
    "editable": true,
    "slideshow": {
     "slide_type": "slide"
    },
    "tags": []
   },
   "source": [
    "# Probability and Data\n",
    "\n",
    "##### Version 0.1\n",
    "\n",
    "***\n",
    "\n",
    "By AA Miller (Northwestern/CIERA)  \n",
    "08 September 2023"
   ]
  },
  {
   "cell_type": "markdown",
   "id": "da475079-efce-4666-befa-38305fac2359",
   "metadata": {
    "editable": true,
    "slideshow": {
     "slide_type": "slide"
    },
    "tags": []
   },
   "source": [
    "\"There is a 40% chance of rain between 2 and 4 pm?\"\n",
    "\n",
    "What does this mean?"
   ]
  },
  {
   "cell_type": "markdown",
   "id": "4924a2f8-84cf-4823-9086-71e5aaf4ddf4",
   "metadata": {
    "editable": true,
    "slideshow": {
     "slide_type": "slide"
    },
    "tags": []
   },
   "source": [
    "*take a minute to discuss this with your partner*"
   ]
  },
  {
   "cell_type": "markdown",
   "id": "f0d6c34a-4f3c-4496-b19a-0e09d22c72e0",
   "metadata": {
    "editable": true,
    "slideshow": {
     "slide_type": "slide"
    },
    "tags": []
   },
   "source": [
    "\"There is a 40% chance of rain between 2 and 4 pm?\"\n",
    "\n",
    "What does this mean?"
   ]
  },
  {
   "cell_type": "markdown",
   "id": "ba77ebb8-8901-49f3-aa39-e4ee47dd8e1f",
   "metadata": {
    "editable": true,
    "slideshow": {
     "slide_type": "fragment"
    },
    "tags": []
   },
   "source": [
    "$~~~~$Looking at the probability distribution for rain, 40% is the mean outcome"
   ]
  },
  {
   "cell_type": "markdown",
   "id": "b2b8f069-f45e-42ea-bb15-d71af7598493",
   "metadata": {
    "editable": true,
    "slideshow": {
     "slide_type": "fragment"
    },
    "tags": []
   },
   "source": [
    "$~~~~$40% is the most likely outcome"
   ]
  },
  {
   "cell_type": "markdown",
   "id": "41a55edf-73a5-490d-b6dd-fff58de99d11",
   "metadata": {
    "editable": true,
    "slideshow": {
     "slide_type": "fragment"
    },
    "tags": []
   },
   "source": [
    "$~~~~$Given 1000s of days with identical conditions, 40% of those days have rain"
   ]
  },
  {
   "cell_type": "markdown",
   "id": "4f9bc260-a78f-491d-b2a3-896978ffaa25",
   "metadata": {
    "editable": true,
    "slideshow": {
     "slide_type": "fragment"
    },
    "tags": []
   },
   "source": [
    "$~~~~$40% indicates the belief of the weather center that it would rain"
   ]
  },
  {
   "cell_type": "markdown",
   "id": "d03a2fb8-01de-4c11-a3eb-60891b54d9cf",
   "metadata": {
    "editable": true,
    "slideshow": {
     "slide_type": "slide"
    },
    "tags": []
   },
   "source": [
    "## Probability"
   ]
  },
  {
   "cell_type": "markdown",
   "id": "9342ab01-870b-4a11-bcfa-7f46b6450f77",
   "metadata": {
    "editable": true,
    "slideshow": {
     "slide_type": "slide"
    },
    "tags": []
   },
   "source": [
    "An **experiment** is a real occurance that can be observed.\n",
    "\n",
    "Experiments have **outcomes**."
   ]
  },
  {
   "cell_type": "markdown",
   "id": "7913bfbd-9d4e-4e31-a89c-aa7b3291af08",
   "metadata": {
    "editable": true,
    "slideshow": {
     "slide_type": "slide"
    },
    "tags": []
   },
   "source": [
    "all possible outcomes $\\equiv$ sample space, $\\mathcal{S}$\n",
    "\n",
    "a single outcome $\\equiv$ sample point\n",
    "\n",
    "subset of $\\mathcal{S} \\equiv$ event"
   ]
  },
  {
   "cell_type": "markdown",
   "id": "2e881c45-3f8f-4124-866b-da285225abd2",
   "metadata": {
    "editable": true,
    "slideshow": {
     "slide_type": "fragment"
    },
    "tags": []
   },
   "source": [
    "<img style=\"display: block; margin-left: auto; margin-right: auto\" src=\"images/sampleSpace.png\" alt=\"sample space\" width=\"650\" align=\"middle\">"
   ]
  },
  {
   "cell_type": "markdown",
   "id": "21a67f91-36c2-481b-a593-7304160d2bd7",
   "metadata": {
    "editable": true,
    "slideshow": {
     "slide_type": "slide"
    },
    "tags": []
   },
   "source": [
    "All measurements have uncertainty$^\\dagger$"
   ]
  },
  {
   "cell_type": "markdown",
   "id": "86cdb950-1f56-4364-aa77-dcfba69c3e5c",
   "metadata": {
    "editable": true,
    "slideshow": {
     "slide_type": "subslide"
    },
    "tags": []
   },
   "source": [
    "$^\\dagger$Fundamentally this is set by the different uncertainty principles in quantum mechanics, but this is also seen at the macro level (e.g., repeated measurements of the same experiment with a single detector will lead to different outcomes)"
   ]
  },
  {
   "cell_type": "markdown",
   "id": "8a5d2b7d-8638-47c5-93dd-07288c7e7e7e",
   "metadata": {
    "editable": true,
    "slideshow": {
     "slide_type": "slide"
    },
    "tags": []
   },
   "source": [
    "A system characteristic is **random** when it is not know with complete certainty.\n",
    "\n",
    "Randomness can be quantified via **probability**."
   ]
  },
  {
   "cell_type": "markdown",
   "id": "82d6eabf-68c7-4aa5-901a-cb078964f326",
   "metadata": {
    "editable": true,
    "slideshow": {
     "slide_type": "slide"
    },
    "tags": []
   },
   "source": [
    "## Definitions of Probability"
   ]
  },
  {
   "cell_type": "markdown",
   "id": "471fc8da-5f5d-4f11-b3e1-90c9aa47d98d",
   "metadata": {
    "editable": true,
    "slideshow": {
     "slide_type": "slide"
    },
    "tags": []
   },
   "source": [
    "$\\mathcal{S} \\equiv$ sample space\n",
    "\n",
    "$A \\equiv$ subset of $\\mathcal{S}$"
   ]
  },
  {
   "cell_type": "markdown",
   "id": "2387002c-dbf0-45bd-ae0f-2af9b8152de0",
   "metadata": {
    "editable": true,
    "slideshow": {
     "slide_type": "slide"
    },
    "tags": []
   },
   "source": [
    "$P(A) \\equiv$ probability"
   ]
  },
  {
   "cell_type": "markdown",
   "id": "9e050263-6c3c-48a1-b952-0236254cc9ad",
   "metadata": {
    "editable": true,
    "slideshow": {
     "slide_type": "fragment"
    },
    "tags": []
   },
   "source": [
    "$~~~~$(i) for all $A$, $P(A) \\ge 0$"
   ]
  },
  {
   "cell_type": "markdown",
   "id": "8fe384d5-618d-462f-93f6-04819d380f1f",
   "metadata": {
    "editable": true,
    "slideshow": {
     "slide_type": "fragment"
    },
    "tags": []
   },
   "source": [
    "$~~~~$(ii) if $A$ and $B$ are disjoint (i.e., $A \\cap B = \\emptyset$);  \n",
    "$~~~~~~~~~~~~$then $P(A \\cup B) = P(A) + P(B)$"
   ]
  },
  {
   "cell_type": "markdown",
   "id": "c3ac7f22-16c7-47b2-9399-68ff0cc9ebe2",
   "metadata": {
    "editable": true,
    "slideshow": {
     "slide_type": "fragment"
    },
    "tags": []
   },
   "source": [
    "$~~~~$(iii) P(S) = 1"
   ]
  },
  {
   "cell_type": "markdown",
   "id": "1467406f-bb0e-4aa2-8ba1-e099ac3c1bfc",
   "metadata": {
    "editable": true,
    "slideshow": {
     "slide_type": "slide"
    },
    "tags": []
   },
   "source": [
    "From the three axioms of probability:  \n",
    "$~~~~P(\\bar{A}) = 1 - P(A)$  ($\\bar{A}$ is the complement of A  \n",
    "$~~~~P(A \\cup \\bar{A}) = 1$  \n",
    "$~~~~0 \\le P(A) \\le 1$  \n",
    "$~~~~P(\\emptyset) = 0$\n",
    "$~~~~$if $A \\subset B$ then $P(A) \\le P(B)$  \n",
    "$~~~~P(A \\cup B) = P(A) + P(B) - P(A \\cap B)$"
   ]
  },
  {
   "cell_type": "markdown",
   "id": "5d0aaa30-c4a3-45df-9513-0837f742c7af",
   "metadata": {
    "editable": true,
    "slideshow": {
     "slide_type": "fragment"
    },
    "tags": []
   },
   "source": [
    "<img style=\"display: block; margin-left: auto; margin-right: auto\" src=\"images/conditionalProbability.png\" width=\"650\" align=\"middle\">"
   ]
  },
  {
   "cell_type": "markdown",
   "id": "a460be6a-b594-4ff4-9f1c-07816a4647a6",
   "metadata": {
    "editable": true,
    "slideshow": {
     "slide_type": "slide"
    },
    "tags": []
   },
   "source": [
    "### Conditional Probability"
   ]
  },
  {
   "cell_type": "markdown",
   "id": "9bc351ed-11f6-4f2c-bb64-eab41a40d92d",
   "metadata": {
    "editable": true,
    "slideshow": {
     "slide_type": "slide"
    },
    "tags": []
   },
   "source": [
    "$$P(A|B) = \\frac{P(A \\cap B)}{P(B)}$$"
   ]
  },
  {
   "cell_type": "markdown",
   "id": "bb9e661b-467c-4744-9c07-d1e83c8e27a4",
   "metadata": {
    "editable": true,
    "slideshow": {
     "slide_type": "fragment"
    },
    "tags": []
   },
   "source": [
    "<img style=\"display: block; margin-left: auto; margin-right: auto\" src=\"images/conditionalProbability.png\" width=\"650\" align=\"middle\">"
   ]
  },
  {
   "cell_type": "markdown",
   "id": "253eedfd-e14e-4f5a-9784-6664993de50b",
   "metadata": {
    "editable": true,
    "slideshow": {
     "slide_type": "slide"
    },
    "tags": []
   },
   "source": [
    "If $P(A \\cap B) = P(A)P(B) \\Rightarrow A \\& B$ are independent  \n",
    "$~~~~ \\Rightarrow P(A|B) = P(A)$"
   ]
  },
  {
   "cell_type": "markdown",
   "id": "d94910d9-63d7-485b-8d1a-744062d4733d",
   "metadata": {
    "editable": true,
    "slideshow": {
     "slide_type": "slide"
    },
    "tags": []
   },
   "source": [
    "Fair 6-sided die as an example: $\\mathcal{S} = \\{1,2,3,4,5,6\\}$  \n",
    "$~~~~$(i) $P(\\mathrm{roll} > 3)$  \n",
    "$~~~~~~~~~~~~ A = \\{4, 5, 6\\}$  \n",
    "$~~~~~~~~~~~~ P(A) = P(4) + P(5) + P(6) = 3 \\times 1/6 = 1/2$"
   ]
  },
  {
   "cell_type": "markdown",
   "id": "f9db699e-2665-4f8c-bffd-3b045836cc58",
   "metadata": {
    "editable": true,
    "slideshow": {
     "slide_type": "slide"
    },
    "tags": []
   },
   "source": [
    "$~~~~$(ii) $P(\\mathrm{roll} > 3|\\mathrm{odd\\;number\\;rolled)}$  \n",
    "$~~~~~~~~~~~~ B = \\{1, 3, 5\\}$  \n",
    "$~~~~~~~~~~~~ P(B) = 1/2$  \n",
    "$~~~~~~~~~~~~ P(A \\cap B) = P(5) = 1/6$  \n",
    "$~~~~~~~~~~~~ P(A|B) = \\frac{P(A \\cap B)}{P(B)} = \\frac{1/6}{1/2} = 1/3$  "
   ]
  },
  {
   "cell_type": "markdown",
   "id": "9fc0fd02-592d-40e5-8866-9230dccb7e9b",
   "metadata": {
    "editable": true,
    "slideshow": {
     "slide_type": "slide"
    },
    "tags": []
   },
   "source": [
    "$A \\cap B$ is the same as $B \\cap A$  \n",
    "$P(B \\cap A) = P(A | B)P(B) = P(B | A)P(A)$"
   ]
  },
  {
   "cell_type": "markdown",
   "id": "3a6f0ae3-2ae0-4078-8381-1b7ad878a527",
   "metadata": {
    "editable": true,
    "slideshow": {
     "slide_type": "fragment"
    },
    "tags": []
   },
   "source": [
    "$~~~~~$\n",
    "$$ P(A | B) = \\frac{P(B | A)P(A)}{P(B)}$$"
   ]
  },
  {
   "cell_type": "markdown",
   "id": "c1c4b9f3-2406-422e-960c-b64b6cd95341",
   "metadata": {
    "editable": true,
    "slideshow": {
     "slide_type": "subslide"
    },
    "tags": []
   },
   "source": [
    "(I generally find it important to emphasize that Bayes' Law *is not wrong* - it is a natural consequence of conditional probability. There are some, within our field and elsewhere, that do not like a Bayesian interpretation of probability. There is a great deal of nuance in arguments about Bayes/subjective statistics and Bryan will touch on this more in the following lecture.)"
   ]
  },
  {
   "cell_type": "markdown",
   "id": "c63e2fab-f691-4e8b-b4dc-6557cda832a6",
   "metadata": {
    "editable": true,
    "slideshow": {
     "slide_type": "slide"
    },
    "tags": []
   },
   "source": [
    "## Measurements and models"
   ]
  },
  {
   "cell_type": "markdown",
   "id": "47698ade-69ba-42f1-952c-9149b3b055a9",
   "metadata": {
    "editable": true,
    "slideshow": {
     "slide_type": "slide"
    },
    "tags": []
   },
   "source": [
    "Physics is just a collection of models to understand the Universe."
   ]
  },
  {
   "cell_type": "markdown",
   "id": "ed83e706-d81d-4f55-ab10-11b86939e36e",
   "metadata": {
    "editable": true,
    "slideshow": {
     "slide_type": "slide"
    },
    "tags": []
   },
   "source": [
    "We obtain outcomes from experiments to learn about the behavior of the Universe. \n",
    "\n",
    "These measurements have associated uncertainties, which can be described via probabilty. "
   ]
  },
  {
   "cell_type": "markdown",
   "id": "5d1b50ee-c1f0-4a87-b87c-de20bbc02ba8",
   "metadata": {
    "editable": true,
    "slideshow": {
     "slide_type": "slide"
    },
    "tags": []
   },
   "source": [
    "If out sample space $\\mathcal{S}$ has events $x_i$ for $i = 1, 2, 3, ..., N$,  \n",
    "then the probability to observe $x_i = P(x_i) \\equiv f_i$, and\n",
    "\n",
    "$$\\sum_{i=1}^\\infty f_i = 1$$"
   ]
  },
  {
   "cell_type": "markdown",
   "id": "a2a3161f-9abc-40a3-ae4e-9656f798dbb6",
   "metadata": {
    "editable": true,
    "slideshow": {
     "slide_type": "slide"
    },
    "tags": []
   },
   "source": [
    "For an experiment with single continuous variable $X$ that can take on values $x$,  \n",
    "what is $P(x)$?"
   ]
  },
  {
   "cell_type": "markdown",
   "id": "0b1c9479-8df2-4bb5-90b8-b5828f484998",
   "metadata": {
    "editable": true,
    "slideshow": {
     "slide_type": "fragment"
    },
    "tags": []
   },
   "source": [
    "$$P(x) = 0$$"
   ]
  },
  {
   "cell_type": "markdown",
   "id": "18124289-2ee3-4f2a-8a16-2ab06352cd0d",
   "metadata": {
    "editable": true,
    "slideshow": {
     "slide_type": "slide"
    },
    "tags": []
   },
   "source": [
    "We need to consider probability within a small finite range: $[x, x+dx]$,  \n",
    "which is known as the **probability density function** (p.d.f.).\n",
    "\n",
    "$$P([x, x+dx]) = f(x)dx$$"
   ]
  },
  {
   "cell_type": "markdown",
   "id": "5c7af12e-a88a-4130-a9d8-a2ce316dc1b4",
   "metadata": {
    "editable": true,
    "slideshow": {
     "slide_type": "slide"
    },
    "tags": []
   },
   "source": [
    "By definition all p.d.f.s are normalized:  \n",
    "$$\\int_\\mathcal{S} f(x)dx = 1$$"
   ]
  },
  {
   "cell_type": "markdown",
   "id": "88de641d-3772-491a-8797-ce90d6098dc3",
   "metadata": {
    "editable": true,
    "slideshow": {
     "slide_type": "slide"
    },
    "tags": []
   },
   "source": [
    "For known uncertainties we can ask: given some model $\\mathcal{M}$, which depends upon model parameters $\\theta$, what is the probability of our observation/measurement, $x$?\n",
    "\n",
    "$$p(x|\\mathcal{M}(\\theta))$$"
   ]
  },
  {
   "cell_type": "markdown",
   "id": "8b5bbe6e-c87b-40ac-a909-fb84bebdae63",
   "metadata": {
    "editable": true,
    "slideshow": {
     "slide_type": "slide"
    },
    "tags": []
   },
   "source": [
    "In the special, and oft-assumed, case where the probability distribution for $x$ is Gaussian, then: \n",
    "\n",
    "$$p(x|\\mathcal{M}(\\theta)) = \\frac{1}{\\sqrt{(2\\pi\\sigma^2)}} \\exp\\left(- \\frac{(x - \\mu)^2}{2\\sigma^2}\\right),$$\n",
    "\n",
    "where $\\theta = (\\mu, \\sigma^2$) and $\\mu$ is the mean and $\\sigma^2$ is the variance of the Gaussian."
   ]
  },
  {
   "cell_type": "markdown",
   "id": "15ac1938-d80f-4dbe-94cc-74a911a50343",
   "metadata": {
    "editable": true,
    "slideshow": {
     "slide_type": "slide"
    },
    "tags": []
   },
   "source": [
    "If individual observations are independent, (i.e., there is no correlation in successive observations) then we can define the likelihood $\\mathcal{L}$ of all observations $x_i$ as the product of the individual observation probabilities: \n",
    "\n",
    "$$\\mathcal{L} \\equiv \\prod_{i=1}^{N} p(x_i|\\mathcal{M}(\\theta))$$"
   ]
  },
  {
   "cell_type": "markdown",
   "id": "ced57c41-834b-453c-ad3b-dcfd7416afaa",
   "metadata": {
    "editable": true,
    "slideshow": {
     "slide_type": "slide"
    },
    "tags": []
   },
   "source": [
    "Note that $\\mathcal{L}$ is not a true p.d.f., it is the product of several probabilities drawn from a p.d.f. $\\mathcal{L}$ is not normalized and often is a very small number."
   ]
  },
  {
   "cell_type": "markdown",
   "id": "e5aac7b0-a8fb-434e-99a5-be2827a27254",
   "metadata": {
    "editable": true,
    "slideshow": {
     "slide_type": "slide"
    },
    "tags": []
   },
   "source": [
    "Again, for the special case where each $x_i$ follows a Gaussian p.d.f., then\n",
    "\n",
    "$$\\mathcal{L} = p(x_i|\\mathcal{M}(\\theta)) = \\prod_{i=1}^N \\frac{1}{\\sqrt{(2\\pi\\sigma_i^2)}} \\exp\\left(- \\frac{(x_i - \\mu)^2}{2\\sigma_i^2}\\right),$$\n",
    "\n",
    "where $\\sigma_i$ represents heteroskedastic uncertainties on the individual observations $x_i$. "
   ]
  },
  {
   "cell_type": "markdown",
   "id": "9e27ca71-ead6-4e1d-adf8-af3524d914f2",
   "metadata": {
    "editable": true,
    "slideshow": {
     "slide_type": "slide"
    },
    "tags": []
   },
   "source": [
    "Because $\\mathcal{L}$ is typically very small, numerically the log of the likelihood is more computationally stable:\n",
    "\n",
    "$$\\ln \\mathcal{L} =  -\\frac{N}{2} \\ln\\left(\\frac{1}{2\\pi}\\right) - \\sum_{i=1}^{N} \\ln \\sigma_i - \\sum_{i=1}^N \\left(\\frac{(x_i - \\mu)^2}{2\\sigma_i^2}\\right).$$\n",
    "\n",
    "The first two terms in this equation are constant, meaning: \n",
    "\n",
    "$$\\ln \\mathcal{L} \\propto - \\sum_{i=1}^N \\left(\\frac{(x_i - \\mu)^2}{2\\sigma_i^2}\\right).$$\n"
   ]
  },
  {
   "cell_type": "markdown",
   "id": "e18a117c-a4b0-4bec-88b4-96ca8c8730c5",
   "metadata": {
    "editable": true,
    "slideshow": {
     "slide_type": "slide"
    },
    "tags": []
   },
   "source": [
    "Thus, as we try to determine which model (among many) \"best\" describes the Universe, the answer is that the best model **maximizes $\\mathcal{L}$**."
   ]
  },
  {
   "cell_type": "markdown",
   "id": "34504b25-6c22-46cb-931e-7aff88837960",
   "metadata": {
    "editable": true,
    "slideshow": {
     "slide_type": "subslide"
    },
    "tags": []
   },
   "source": [
    "(maximizing the likelihood and the log of the likelihood is equivalent)"
   ]
  },
  {
   "cell_type": "markdown",
   "id": "07ba97c4-7074-4709-a16e-a7f564001f65",
   "metadata": {
    "editable": true,
    "slideshow": {
     "slide_type": "slide"
    },
    "tags": []
   },
   "source": [
    "For a collection of outcomes ${x_i}$ (*note* – following an experiment the outcome/data  are fixed and do not change), the likelihood is a function of the model parameters $\\theta$.\n",
    "\n",
    "For any model $\\mathcal{M}$, $\\mathcal{L}$ is maximized via the choice of $\\theta$ that \"best\" explain the data. "
   ]
  },
  {
   "cell_type": "markdown",
   "id": "03c3a939-a2dd-46fa-92f7-38e778f9259d",
   "metadata": {
    "editable": true,
    "slideshow": {
     "slide_type": "slide"
    },
    "tags": []
   },
   "source": [
    "## Frequentist Interpretation of Models and Probability"
   ]
  },
  {
   "cell_type": "markdown",
   "id": "f1549306-cc1a-4f61-bc06-0eb06cc4ca64",
   "metadata": {
    "editable": true,
    "slideshow": {
     "slide_type": "slide"
    },
    "tags": []
   },
   "source": [
    "There are two fundamental approaches to statistical inference: frequentist and Bayesian statistics. "
   ]
  },
  {
   "cell_type": "markdown",
   "id": "5d7b5b7e-2e74-4055-9f89-4d339db094d3",
   "metadata": {
    "editable": true,
    "slideshow": {
     "slide_type": "slide"
    },
    "tags": []
   },
   "source": [
    "Philosophically these approaches differ, but I want to emphasize that neither is wrong. \n",
    "\n",
    "As is true for most everything in data science, the particulars of the problem determine which approach is best. "
   ]
  },
  {
   "cell_type": "markdown",
   "id": "2e0230ad-ee25-4e06-a172-978c33d07c6b",
   "metadata": {
    "editable": true,
    "slideshow": {
     "slide_type": "slide"
    },
    "tags": []
   },
   "source": [
    "There are three tenets for frequentist statistics:"
   ]
  },
  {
   "cell_type": "markdown",
   "id": "b2ef2e34-129a-40dc-80c5-1de36d5ef723",
   "metadata": {
    "editable": true,
    "slideshow": {
     "slide_type": "fragment"
    },
    "tags": []
   },
   "source": [
    "$~~~~~~$ Probabilities are relative frequencies of events."
   ]
  },
  {
   "cell_type": "markdown",
   "id": "a2017efa-f393-43cb-b032-6009ba25ec9e",
   "metadata": {
    "editable": true,
    "slideshow": {
     "slide_type": "fragment"
    },
    "tags": []
   },
   "source": [
    "$~~~~~~$ Parameters are fixed, unknown constants. "
   ]
  },
  {
   "cell_type": "markdown",
   "id": "1db3e94a-b87e-4f69-b2dc-2a1b838c3a09",
   "metadata": {
    "editable": true,
    "slideshow": {
     "slide_type": "fragment"
    },
    "tags": []
   },
   "source": [
    "$~~~~~~$ Statistial procedures should have well-defined long run frequency properties."
   ]
  },
  {
   "cell_type": "markdown",
   "id": "8bcc5b70-972b-4eb5-94df-18fd04218ffb",
   "metadata": {
    "editable": true,
    "slideshow": {
     "slide_type": "subslide"
    },
    "tags": []
   },
   "source": [
    "(Bryan is going to discuss Bayesian interpretations in more detail during the next lecture)"
   ]
  },
  {
   "cell_type": "markdown",
   "id": "edc97efa-cccf-4ce9-977f-b819f4713f91",
   "metadata": {
    "editable": true,
    "slideshow": {
     "slide_type": "slide"
    },
    "tags": []
   },
   "source": [
    "## Maximum Likelihood Estimation"
   ]
  },
  {
   "cell_type": "markdown",
   "id": "b5278b5b-d3c9-4958-a98f-8d592908056b",
   "metadata": {
    "editable": true,
    "slideshow": {
     "slide_type": "slide"
    },
    "tags": []
   },
   "source": [
    "For simple $\\mathcal{M}$ one can differentiate the likelihood and determine its maximum analytically (but $\\mathcal{M}$ is rarely this simple). \n",
    "\n",
    "Numerical methods can be used as an alternative to analytic solutions."
   ]
  },
  {
   "cell_type": "markdown",
   "id": "d36f41bc-e616-4530-8d3b-d15ae08dae67",
   "metadata": {
    "editable": true,
    "slideshow": {
     "slide_type": "slide"
    },
    "tags": []
   },
   "source": [
    "Maximizing the likelihood is equivalent to minimizing the negative log likelihood. \n",
    "\n",
    "The [`minimize`](https://docs.scipy.org/doc/scipy/reference/generated/scipy.optimize.minimize.html?highlight=minimize) function inside the `scipy.optimize` module provides a \"standard\" for determining the maximum likelihood."
   ]
  },
  {
   "cell_type": "markdown",
   "id": "75f7e13b-a088-4b00-8dfb-bf874350fcb0",
   "metadata": {
    "editable": true,
    "slideshow": {
     "slide_type": "subslide"
    },
    "tags": []
   },
   "source": [
    "(the best way to minimize a function is by taking derivatives, but sometimes that is not possible. There are multiple numerical methods to address this, many of them options for the `minimize` function. The [BFGS](https://en.wikipedia.org/wiki/Broyden%E2%80%93Fletcher%E2%80%93Goldfarb%E2%80%93Shanno_algorithm) algorithm is the default.)"
   ]
  },
  {
   "cell_type": "markdown",
   "id": "0a3c4727-5ffd-41b8-9369-5e18970018d9",
   "metadata": {
    "editable": true,
    "slideshow": {
     "slide_type": "slide"
    },
    "tags": []
   },
   "source": [
    "A caveat about numerical MLE methods: there are no guarantees of convergence to a *global* minimum. \n",
    "\n",
    "There is always a risk that the algorithm only found a local minimum."
   ]
  },
  {
   "cell_type": "markdown",
   "id": "d7a4b3ad-748d-4fa3-85a2-c3389ef15aab",
   "metadata": {
    "editable": true,
    "slideshow": {
     "slide_type": "slide"
    },
    "tags": []
   },
   "source": [
    "One nice aspect of the Gaussian likelihood, is that we can recast $\\ln \\mathcal{L}$ in terms of the $z$-score, $z_i = (x_i - \\mu)/\\sigma_i$: \n",
    "\n",
    "$$\\ln \\mathcal{L} = \\mathrm{constant} - \\frac{1}{2} \\sum z_i^2$$\n",
    "\n",
    "This sum is often referred to as the \"$\\chi^2$\" ($\\chi^2 = \\sum z_i^2$). "
   ]
  },
  {
   "cell_type": "markdown",
   "id": "aa3d14f8-7868-4b5e-8a25-7744e5bfbc76",
   "metadata": {
    "editable": true,
    "slideshow": {
     "slide_type": "subslide"
    },
    "tags": []
   },
   "source": [
    "(if you have ever heard that the \"best\" model minimizes the $\\chi^2$, this is where it comes from: maximizing a Gaussian likelihood)"
   ]
  },
  {
   "cell_type": "markdown",
   "id": "f9223bf2-2556-405a-8650-e2abab10515e",
   "metadata": {
    "editable": true,
    "slideshow": {
     "slide_type": "slide"
    },
    "tags": []
   },
   "source": [
    "This means the distribution of $\\ln \\mathcal{L}$ can be determined from the $\\chi^2$ distribution with $N - k$ degrees of freedom, where $k$ is the number of model parameters. "
   ]
  },
  {
   "cell_type": "markdown",
   "id": "9202ebb2-4988-42d2-8439-941c9247b6fa",
   "metadata": {
    "editable": true,
    "slideshow": {
     "slide_type": "subslide"
    },
    "tags": []
   },
   "source": [
    "(briefly, the sum of the squares of the $z$-score, $Q = \\sum z_i^2$, follows a $\\chi^2$ distribution with $k = N$ degrees of freedom, \n",
    "\n",
    "$$p(Q|k) \\equiv \\chi^2(Q|k) = \\frac{1}{2^{k/2}\\Gamma(k/2)}Q^{k/2 -1} \\exp(-Q/2),$$\n",
    "\n",
    "where $Q$ must be greater than zero and $\\Gamma$ is the [gamma function](https://en.wikipedia.org/wiki/Gamma_function).)"
   ]
  },
  {
   "cell_type": "markdown",
   "id": "6cba4594-2f7b-4c19-a892-00dcf4bdb593",
   "metadata": {
    "editable": true,
    "slideshow": {
     "slide_type": "slide"
    },
    "tags": []
   },
   "source": [
    "Comparing the $\\chi^2$ score to a $\\chi^2$ distribution with $N - k$ degrees of freedom provides a numerical measure of the \"goodness\" the model."
   ]
  },
  {
   "cell_type": "markdown",
   "id": "7b8532ea-d6da-421d-8529-aaa7525e0b5e",
   "metadata": {
    "editable": true,
    "slideshow": {
     "slide_type": "slide"
    },
    "tags": []
   },
   "source": [
    "In the frequentist interpretation of probability MLE is used to determine optimal estimates of the model parameters $\\theta$. "
   ]
  },
  {
   "cell_type": "markdown",
   "id": "3a7143ad-b01a-4a30-876d-eccdddb78b7e",
   "metadata": {
    "editable": true,
    "slideshow": {
     "slide_type": "subslide"
    },
    "tags": []
   },
   "source": [
    "(you will now use `scipy` to determine optimal model parameters $\\theta$)"
   ]
  },
  {
   "cell_type": "markdown",
   "id": "9a15f796-cfe6-4f0e-b801-2ac9ae603642",
   "metadata": {
    "editable": true,
    "slideshow": {
     "slide_type": "slide"
    },
    "tags": []
   },
   "source": [
    "## Problem 0) Helper Functions\n",
    "\n",
    "We will need to make lots of plots of data and models throughout this notebook."
   ]
  },
  {
   "cell_type": "markdown",
   "id": "6fe50a74-e97d-4dc9-beed-a7ce9ebc71b5",
   "metadata": {
    "editable": true,
    "slideshow": {
     "slide_type": "slide"
    },
    "tags": []
   },
   "source": [
    "**Problem 0a**\n",
    "\n",
    "Write a function `data_plot()` that creates and returns `matplotlib` figure and axes instances using [`plt.subplots`](https://matplotlib.org/stable/api/_as_gen/matplotlib.pyplot.subplots.html).\n",
    "\n",
    "The function should label the abcissa `x` and the ordinate `y`, and take optional arguments `x_obs`, `y_obs`, `y_obs_unc` that are plotted when provided by the user. "
   ]
  },
  {
   "cell_type": "code",
   "execution_count": 3,
   "id": "0ae99f62-518c-44ed-b57b-abdd90d24f65",
   "metadata": {
    "editable": true,
    "slideshow": {
     "slide_type": "slide"
    },
    "tags": []
   },
   "outputs": [],
   "source": [
    "def data_plot(x_obs=[], y_obs=[], y_obs_unc=[]):\n",
    "    \n",
    "    fig, ax = plt.subplots(figsize=(10,5.5))\n",
    "    \n",
    "    if len(x_obs) > 0 and len(y_obs) > 0:\n",
    "        if len(y_obs_unc) > 0:\n",
    "            ax.errorbar(x_obs, y_obs, y_obs_unc, \n",
    "                        fmt='o', mec='RebeccaPurple', mfc='white', \n",
    "                        ecolor='RebeccaPurple')\n",
    "        else:\n",
    "            ax.errorbar(x_obs, y_obs, \n",
    "                        fmt='o', mec='RebeccaPurple', mfc='white')\n",
    "    \n",
    "    ax.set_xlabel('x', fontsize=16)\n",
    "    ax.set_ylabel('y', fontsize=16)\n",
    "    ax.tick_params('both', labelsize=13)\n",
    "    return fig, ax"
   ]
  },
  {
   "cell_type": "markdown",
   "id": "3d874de2-daee-4321-b54d-26cd1ca1b9fc",
   "metadata": {
    "editable": true,
    "slideshow": {
     "slide_type": "slide"
    },
    "tags": []
   },
   "source": [
    "**Problem 0b**\n",
    "\n",
    "Using `np.random` simulate 15 observations that are drawn from a linear relation defined by $f(x) = 3.14\\,x + 6.626$. The observations should be collected over the range [0,10]. \n",
    "\n",
    "Assume that the observations are noisy, and the scatter is described by a Gaussian with variance = 9. "
   ]
  },
  {
   "cell_type": "code",
   "execution_count": 4,
   "id": "ba514c7e-e068-42da-acd4-2a5c4abe5ddc",
   "metadata": {
    "editable": true,
    "slideshow": {
     "slide_type": "slide"
    },
    "tags": []
   },
   "outputs": [],
   "source": [
    "n_obs = 15\n",
    "rng = np.random.default_rng(seed=2009)\n",
    "\n",
    "x_obs = rng.uniform(0, 10, n_obs)\n",
    "y_obs = rng.normal(3.14*x_obs + 6.626, 3)\n",
    "y_obs_unc = np.ones_like(y_obs)*3"
   ]
  },
  {
   "cell_type": "markdown",
   "id": "242988bd-2717-4376-9663-b664c723b46b",
   "metadata": {
    "editable": true,
    "slideshow": {
     "slide_type": "slide"
    },
    "tags": []
   },
   "source": [
    "**Problem 0c**\n",
    "\n",
    "Confirm your results from the previous two problems by using `data_plot()` to display the observations generated in **0b**."
   ]
  },
  {
   "cell_type": "code",
   "execution_count": 5,
   "id": "2c5e2b29-0bad-4327-90dd-1fdaad967c97",
   "metadata": {
    "editable": true,
    "slideshow": {
     "slide_type": "slide"
    },
    "tags": []
   },
   "outputs": [
    {
     "data": {
      "application/vnd.jupyter.widget-view+json": {
       "model_id": "dbe8b6c23b1b4f0492ccaffca9373554",
       "version_major": 2,
       "version_minor": 0
      },
      "image/png": "[encoded data removed]",
      "text/html": [
       "\n",
       "            <div style=\"display: inline-block;\">\n",
       "                <div class=\"jupyter-widgets widget-label\" style=\"text-align: center;\">\n",
       "                    Figure\n",
       "                </div>\n",
       "                <img src='data:image/png;base64,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' width=1000.0/>\n",
       "            </div>\n",
       "        "
      ],
      "text/plain": [
       "Canvas(toolbar=Toolbar(toolitems=[('Home', 'Reset original view', 'home', 'home'), ('Back', 'Back to previous …"
      ]
     },
     "metadata": {},
     "output_type": "display_data"
    }
   ],
   "source": [
    "fig, ax = data_plot(x_obs, y_obs, y_obs_unc)\n",
    "fig.tight_layout()"
   ]
  },
  {
   "cell_type": "markdown",
   "id": "8836b58b-09ab-4cd5-bd7e-35ca3b1adb95",
   "metadata": {
    "editable": true,
    "slideshow": {
     "slide_type": "slide"
    },
    "tags": []
   },
   "source": [
    "## Problem 1) The likelihood\n",
    "\n",
    "We just showed that the likelihood is related to the observations conditioned on the model:\n",
    "\n",
    "$$\\mathcal{L} \\equiv \\prod p(x_i|\\mathcal{M}(\\theta))$$"
   ]
  },
  {
   "cell_type": "markdown",
   "id": "5932f9f8-812d-4ffc-b7c3-d036259636c7",
   "metadata": {
    "editable": true,
    "slideshow": {
     "slide_type": "slide"
    },
    "tags": []
   },
   "source": [
    "Our aim is to identify model parameters $\\theta$ that *maximize* the likelihood. "
   ]
  },
  {
   "cell_type": "markdown",
   "id": "000eca63-a880-441d-a8e8-0edc3c2be96e",
   "metadata": {
    "editable": true,
    "slideshow": {
     "slide_type": "slide"
    },
    "tags": []
   },
   "source": [
    "**Probelm 1a**\n",
    "\n",
    "Write a function `model` with two input parameters, `theta` and `x`, where `theta` is a tuple with values $\\theta_0$ and $\\theta_1$, and the function returns $\\theta_0 + \\theta_1 x$.\n",
    "\n",
    "*Hint* – this is far more formal than necessary, but it will simplify other problems later in the notebook. "
   ]
  },
  {
   "cell_type": "code",
   "execution_count": 6,
   "id": "39939d3b-b0af-4eeb-8bd9-51776a5b9282",
   "metadata": {
    "editable": true,
    "slideshow": {
     "slide_type": "slide"
    },
    "tags": []
   },
   "outputs": [],
   "source": [
    "def model(theta, x):\n",
    "    '''\n",
    "    Return dependent variable values for f(x) = theta_0 + theta_1 x\n",
    "    \n",
    "    Parameters\n",
    "    ----------\n",
    "    theta : tuple (size=2)\n",
    "        theta[0] is the intercept and theta[1] is the slope of the line\n",
    "    \n",
    "    x : array-like\n",
    "        values of the independent variable where f(x) should be evaluated\n",
    "    '''\n",
    "    \n",
    "    b, m = theta\n",
    "    return m*x + b"
   ]
  },
  {
   "cell_type": "markdown",
   "id": "4bfd430b-3dec-452e-ad22-2e198f46dc20",
   "metadata": {
    "editable": true,
    "slideshow": {
     "slide_type": "slide"
    },
    "tags": []
   },
   "source": [
    "**Problem 1b**\n",
    "\n",
    "Write a function `prob` that calculates and returns the probability of observations `x` assuming that $p(x)$ follows a normal distribution with mean `mu` and standard deviation `sigma`. "
   ]
  },
  {
   "cell_type": "code",
   "execution_count": 7,
   "id": "f38f5f71-fa74-47cf-9a68-56e0fa9ce29a",
   "metadata": {
    "editable": true,
    "slideshow": {
     "slide_type": "slide"
    },
    "tags": []
   },
   "outputs": [],
   "source": [
    "def prob(x, mu, sigma):\n",
    "    p = 1/np.sqrt(2*np.pi*sigma**2)*np.exp(-(x - mu)**2/(2*sigma**2))\n",
    "    return p"
   ]
  },
  {
   "cell_type": "markdown",
   "id": "ffbfb606-b643-47f3-98e7-3211e51213b4",
   "metadata": {
    "editable": true,
    "slideshow": {
     "slide_type": "slide"
    },
    "tags": []
   },
   "source": [
    "**Problem 1c**\n",
    "\n",
    "Calculate the likelihood for the observations that were simulated in **0b**. Use the model parameters that generated the data. \n",
    "\n",
    "*Hint* – think carefully about your variable names. "
   ]
  },
  {
   "cell_type": "code",
   "execution_count": 8,
   "id": "5dbc607d-da90-4175-99cf-0b3bf910ac70",
   "metadata": {
    "editable": true,
    "slideshow": {
     "slide_type": "slide"
    },
    "tags": []
   },
   "outputs": [
    {
     "name": "stdout",
     "output_type": "stream",
     "text": [
      "The likelihood for this data set is 2.03322667294441e-18\n"
     ]
    }
   ],
   "source": [
    "lkhd = np.prod(prob(y_obs, model((6.626, 3.14), x_obs), y_obs_unc))\n",
    "\n",
    "print(f'The likelihood for this data set is {lkhd}')"
   ]
  },
  {
   "cell_type": "markdown",
   "id": "dd89ce67-3ee0-453b-b89f-2b57474d4bac",
   "metadata": {
    "editable": true,
    "slideshow": {
     "slide_type": "slide"
    },
    "tags": []
   },
   "source": [
    "That is a very small number! "
   ]
  },
  {
   "cell_type": "markdown",
   "id": "974cba22-0c2a-49a0-a221-a23a332a565d",
   "metadata": {
    "editable": true,
    "slideshow": {
     "slide_type": "slide"
    },
    "tags": []
   },
   "source": [
    "**Problem 1d**\n",
    "\n",
    "Using the same model parameters as before, generate data sets of 100, 200, and 300 observations, and calculate the likelihood for each.\n",
    "\n",
    "*Hint* – do not use the same variable names (e.g., `x_obs`, `y_obs`, etc) that we used before; we do not want to over-write those variables."
   ]
  },
  {
   "cell_type": "code",
   "execution_count": 9,
   "id": "8ce64efd-9fcd-480f-81fd-fc290183e5cd",
   "metadata": {
    "editable": true,
    "slideshow": {
     "slide_type": "slide"
    },
    "tags": []
   },
   "outputs": [
    {
     "name": "stdout",
     "output_type": "stream",
     "text": [
      "The likelihood for 100 observations is 7.769122769272204e-114\n",
      "The likelihood for 200 observations is 5.154240581981437e-218\n",
      "The likelihood for 300 observations is 0.0\n"
     ]
    }
   ],
   "source": [
    "for n_obs in [100, 200, 300]:\n",
    "\n",
    "    rng = np.random.default_rng(seed=2009)\n",
    "\n",
    "    x_sim = rng.uniform(0, 10, n_obs)\n",
    "    y_sim = rng.normal(3.14*x_sim + 6.626, 3)\n",
    "    y_sim_unc = np.ones_like(x_sim)*3\n",
    "\n",
    "    lkhd = np.prod(prob(y_sim, model((6.626, 3.14), x_sim), y_sim_unc))\n",
    "\n",
    "    print(f'The likelihood for {n_obs} observations is {lkhd}')"
   ]
  },
  {
   "cell_type": "markdown",
   "id": "88040a6d-0662-4166-bd7b-73ea105c50cb",
   "metadata": {
    "editable": true,
    "slideshow": {
     "slide_type": "slide"
    },
    "tags": []
   },
   "source": [
    "300 observations is a small number! Gaia has observed more than 1 billion stars, and yet, with only 300 observations in an outrageously simple dataset, the likelihood is so small it is equivalent to 0 at machine precision. \n",
    "\n",
    "\n",
    "This is why it is always a good idea to work with the log of the likelihood, not only does this turn a product into a sum, more importantly, the calculations become far more stable on your machine. "
   ]
  },
  {
   "cell_type": "markdown",
   "id": "c16d8209-92d5-445c-a307-3fdd5a73fa0f",
   "metadata": {
    "editable": true,
    "slideshow": {
     "slide_type": "slide"
    },
    "tags": []
   },
   "source": [
    "**Problem 1e**\n",
    "\n",
    "Write a function `lnl` that calculates the log likelihood for some observations, their uncertainties, and the model to which the observations are being compared. Assume that the likelihood is Gaussian.\n",
    "\n",
    "*Hint* – the `model` function that was created earlier should be inside the `lnl` function, this means that `theta` should be the first arguement for the `lnl` function.\n",
    "\n",
    "*Note* – likelihoods are calculated for comparison purposes, their absolute value does not have much meaning, so you can ignore constant terms for this function. "
   ]
  },
  {
   "cell_type": "code",
   "execution_count": 10,
   "id": "0b0ef526-b8b8-41c0-a3d3-dc8510fa403d",
   "metadata": {
    "editable": true,
    "slideshow": {
     "slide_type": "slide"
    },
    "tags": []
   },
   "outputs": [],
   "source": [
    "def lnl(theta, y_obs, y_obs_unc, x_obs):\n",
    "    y_model = model(theta, x_obs)\n",
    "    return -1/2*np.sum((y_obs-y_model)**2/y_obs_unc**2)"
   ]
  },
  {
   "cell_type": "markdown",
   "id": "a22ad979-586e-47b8-abba-597fbeece90a",
   "metadata": {
    "editable": true,
    "slideshow": {
     "slide_type": "slide"
    },
    "tags": []
   },
   "source": [
    "**Problem 1f**\n",
    "\n",
    "Using the same model parameters as before, generate data sets of 100, 200, and 300 observations, and calculate the *log likelihood* for each."
   ]
  },
  {
   "cell_type": "code",
   "execution_count": 11,
   "id": "e9c395f5-c4da-4da7-bab8-80e9323e57ab",
   "metadata": {
    "editable": true,
    "slideshow": {
     "slide_type": "slide"
    },
    "tags": []
   },
   "outputs": [
    {
     "name": "stdout",
     "output_type": "stream",
     "text": [
      "The ln likelihood for 100 observations is -58.68946115574464\n",
      "The ln likelihood for 200 observations is -96.81356610831219\n",
      "The ln likelihood for 300 observations is -148.61949734946114\n"
     ]
    }
   ],
   "source": [
    "for n_obs in [100, 200, 300]:\n",
    "\n",
    "    rng = np.random.default_rng(seed=2009)\n",
    "\n",
    "    x_sim = rng.uniform(0, 10, n_obs)\n",
    "    y_sim = rng.normal(3.14*x_sim + 6.626, 3)\n",
    "    y_sim_unc = np.ones_like(x_sim)*3\n",
    "\n",
    "    lnlike = lnl((6.626, 3.14), y_sim, y_sim_unc, x_sim)\n",
    "\n",
    "    print(f'The ln likelihood for {n_obs} observations is {lnlike}')"
   ]
  },
  {
   "cell_type": "markdown",
   "id": "99a963cb-16df-4c4e-9d30-79a58305aac6",
   "metadata": {
    "editable": true,
    "slideshow": {
     "slide_type": "slide"
    },
    "tags": []
   },
   "source": [
    "## Problem 2) Maximizing the Likelihood\n",
    "\n",
    "It is all well and good to calculate the likelihood, but what we truly want is to maximize the likelihood. "
   ]
  },
  {
   "cell_type": "markdown",
   "id": "d93fe98b-2e0e-41d9-bb64-e9df96288c6d",
   "metadata": {
    "editable": true,
    "slideshow": {
     "slide_type": "slide"
    },
    "tags": []
   },
   "source": [
    "Most algorithms are designed to minimize, rather than optimize, a function. Fortunately, minimizing the negative log likelihood is the exact same as maximizing the log likelihood.\n",
    "\n",
    "**Problem 2a**\n",
    "\n",
    "Write a function `nll` to calculate the negative log likelihood. \n",
    "\n",
    "*Hint* – this is really simple, don't overthink it."
   ]
  },
  {
   "cell_type": "code",
   "execution_count": 12,
   "id": "085f8a24-aa3d-45b5-9933-fb58ed71fb42",
   "metadata": {
    "editable": true,
    "slideshow": {
     "slide_type": "slide"
    },
    "tags": []
   },
   "outputs": [],
   "source": [
    "def nll(theta, y_obs, y_obs_unc, x_obs):\n",
    "    return -1*lnl(theta, y_obs, y_obs_unc, x_obs)"
   ]
  },
  {
   "cell_type": "markdown",
   "id": "72a4e798-c538-4c25-94c2-7e0bde2d0986",
   "metadata": {
    "editable": true,
    "slideshow": {
     "slide_type": "slide"
    },
    "tags": []
   },
   "source": [
    "**Problem 2b**\n",
    "\n",
    "Using `minimize` from `scipy.optimize` determine the maximum likelihood estimation for the intercept and slope of the line that was used to generate the synthetic observations. \n",
    "\n",
    "*Hint* – for arguments `minimize` needs (1) a function, (2) an initial guess for the model parameters, which is why we've been using a tuple `theta`, and (3) a tuple containing the remaining arguments for the function to be minimized (i.e., the data/observations)."
   ]
  },
  {
   "cell_type": "code",
   "execution_count": 13,
   "id": "0a515e1a-9233-4715-ab24-8d5a0970ab55",
   "metadata": {
    "editable": true,
    "slideshow": {
     "slide_type": "slide"
    },
    "tags": []
   },
   "outputs": [
    {
     "name": "stdout",
     "output_type": "stream",
     "text": [
      "b = 6.3661 and m = 2.9662 for the MLE\n"
     ]
    }
   ],
   "source": [
    "res = minimize(nll, (0,0), (y_obs, y_obs_unc, x_obs))\n",
    "\n",
    "print(f'b = {res.x[0]:.4f} and m = {res.x[1]:.4f} for the MLE')"
   ]
  },
  {
   "cell_type": "markdown",
   "id": "6c55453e-1b27-4db0-aa9b-864cf445a5e3",
   "metadata": {
    "editable": true,
    "slideshow": {
     "slide_type": "slide"
    },
    "tags": []
   },
   "source": [
    "**Problem 2c**\n",
    "\n",
    "Overplot the line determined by the MLE on top of the synthetic data. \n",
    "\n",
    "How does the line compare to the true line used to generate the data?"
   ]
  },
  {
   "cell_type": "code",
   "execution_count": 14,
   "id": "c92bfb98-cf0e-4aae-827b-b33c258084cc",
   "metadata": {
    "editable": true,
    "slideshow": {
     "slide_type": "slide"
    },
    "tags": []
   },
   "outputs": [
    {
     "data": {
      "application/vnd.jupyter.widget-view+json": {
       "model_id": "05a5ba97c79248df8d03e9bf839af066",
       "version_major": 2,
       "version_minor": 0
      },
      "image/png": "[encoded data removed]",
      "text/html": [
       "\n",
       "            <div style=\"display: inline-block;\">\n",
       "                <div class=\"jupyter-widgets widget-label\" style=\"text-align: center;\">\n",
       "                    Figure\n",
       "                </div>\n",
       "                <img src='data:image/png;base64,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' width=1000.0/>\n",
       "            </div>\n",
       "        "
      ],
      "text/plain": [
       "Canvas(toolbar=Toolbar(toolitems=[('Home', 'Reset original view', 'home', 'home'), ('Back', 'Back to previous …"
      ]
     },
     "metadata": {},
     "output_type": "display_data"
    }
   ],
   "source": [
    "fig, ax = data_plot(x_obs, y_obs, y_obs_unc)\n",
    "ax.plot([0, 10], model(res.x, np.array([0,10])), \n",
    "        '--', color='0.6', label='MLE', lw=2)\n",
    "ax.plot([0,10], [6.626, 6.626 + 31.4], '0.2', label='True')\n",
    "ax.legend()\n",
    "fig.tight_layout()"
   ]
  }
 ],
 "metadata": {
  "kernelspec": {
   "display_name": "Python 3 (ipykernel)",
   "language": "python",
   "name": "python3"
  },
  "language_info": {
   "codemirror_mode": {
    "name": "ipython",
    "version": 3
   },
   "file_extension": ".py",
   "mimetype": "text/x-python",
   "name": "python",
   "nbconvert_exporter": "python",
   "pygments_lexer": "ipython3",
   "version": "3.11.5"
  }
 },
 "nbformat": 4,
 "nbformat_minor": 5
}
