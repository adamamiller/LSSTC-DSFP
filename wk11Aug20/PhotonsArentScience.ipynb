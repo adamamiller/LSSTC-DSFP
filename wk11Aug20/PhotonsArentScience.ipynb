{
 "cells": [
  {
   "cell_type": "markdown",
   "metadata": {
    "slideshow": {
     "slide_type": "slide"
    }
   },
   "source": [
    "<h1 align=\"center\"> Photons != Science, <br>and the Challenges of Turning the Former into the Later</h1>\n",
    "\n",
    "<br>\n",
    "\n",
    "<div align=\"center\">\n",
    "<font size=\"+10\"> Adam A Miller </font>\n",
    "<br>\n",
    "(CIERA/Northwestern/Adler)\n",
    "<br>\n",
    "<br>\n",
    "LSSTC DSFP Session 11\n",
    "<br>\n",
    "<br> \n",
    "18 Aug 2020</div>"
   ]
  },
  {
   "cell_type": "markdown",
   "metadata": {
    "slideshow": {
     "slide_type": "slide"
    }
   },
   "source": [
    "## Introduction\n",
    "\n",
    "<br>\n",
    "Session 11 is focused on imaging processing, and, informally attempts to answer the question: what happens between the glass and the database? \n",
    "<br>"
   ]
  },
  {
   "cell_type": "markdown",
   "metadata": {
    "slideshow": {
     "slide_type": "slide"
    }
   },
   "source": [
    "When most people imagine the Vera C. Rubin Observatory, they envision this: \n",
    "\n",
    "<img style=\"display: block; margin-left: auto; margin-right: auto\" src=\"images/2015-SL_LSST_LSSTIllus.jpg\" width=\"600\" align=\"middle\">\n",
    "\n",
    "<div align=\"right\"> <font size=\"-3\">(credit: Kavli foundation) </font></div>"
   ]
  },
  {
   "cell_type": "markdown",
   "metadata": {
    "slideshow": {
     "slide_type": "slide"
    }
   },
   "source": [
    "You will (almost certainly) never visit the Rubin Observatory.\n",
    "\n",
    "Instead, you will interact with it like this: \n",
    "\n",
    "<img style=\"display: block; margin-left: auto; margin-right: auto\" width=\"900\" src=\"images/ps1_casjobs.png\">\n",
    "\n",
    "<div align=\"right\"> <font size=\"-3\">(credit: PS1 casjobs) </font></div>"
   ]
  },
  {
   "cell_type": "markdown",
   "metadata": {
    "slideshow": {
     "slide_type": "slide"
    }
   },
   "source": [
    "Given the impending deluge of data from the Rubin Observatory's Legacy Survey of Space and Time (LSST; also Euclid, Nancy Grace Roman Telescope, etc.), one might argue that only 2 skills are necessary for success in the LSST era:\n",
    "\n",
    "  1. Advanced programming skills (`python`, SQL, etc) \n",
    "  - Statistical knowledge (machine learning, Bayes, etc)"
   ]
  },
  {
   "cell_type": "markdown",
   "metadata": {
    "slideshow": {
     "slide_type": "subslide"
    }
   },
   "source": [
    "Finding an actual strawperson to make this specific argument may be hard, but if you looked hard enough I bet you could find someone that would argue the validity of the above statement. "
   ]
  },
  {
   "cell_type": "markdown",
   "metadata": {
    "slideshow": {
     "slide_type": "slide"
    }
   },
   "source": [
    "Indeed, these two skills are the precise focus of the DSFP.\n",
    "\n",
    "Master them, and you will be a full-fledged data scientist."
   ]
  },
  {
   "cell_type": "markdown",
   "metadata": {
    "slideshow": {
     "slide_type": "slide"
    }
   },
   "source": [
    "But! This conclusion is missing something: \n",
    "\n",
    "<img style=\"display: block; margin-left: auto; margin-right: auto\" src=\"images/Data_Science_VD.png\" width=\"600\">\n",
    "\n",
    "<div align=\"right\"> <font size=\"-3\">(credit: Drew Conway) </font></div>"
   ]
  },
  {
   "cell_type": "markdown",
   "metadata": {
    "slideshow": {
     "slide_type": "slide"
    }
   },
   "source": [
    "**Domain Knowledge is an essential ingredient for the data science practitioner.** \n",
    "\n",
    "To \"prove\" this is the case, let's consider some conclusions that would be derived from the Rubin Observatory database without a working knowledge of astronomy (and the DOE LSST detectors):"
   ]
  },
  {
   "cell_type": "markdown",
   "metadata": {
    "slideshow": {
     "slide_type": "slide"
    }
   },
   "source": [
    "### Incorrect Conclusion #1\n",
    "\n",
    "There are no galaxies fainter than $i \\approx 27.5 \\, \\mathrm{mag}$.\n",
    "\n",
    "[Perhaps this signals the edge of the universe...]"
   ]
  },
  {
   "cell_type": "markdown",
   "metadata": {
    "slideshow": {
     "slide_type": "slide"
    }
   },
   "source": [
    "This incorrect conclusion follows from the inverse-square law: $$\\mathrm{flux} \\propto r^{-2}$$ combined with the sensitivity limit of the LSST detector. We know fainter galaxies do exist, but they are either too distant or intrinsically dim to be detected by LSST."
   ]
  },
  {
   "cell_type": "markdown",
   "metadata": {
    "slideshow": {
     "slide_type": "slide"
    }
   },
   "source": [
    "### Incorrect Conclusion #2\n",
    "\n",
    "Two stars cannot be closer than $\\sim$0.35 arcsec in the sky.\n",
    "\n",
    "[Perhaps there is some repulsive force between stars that keeps them separated...]"
   ]
  },
  {
   "cell_type": "markdown",
   "metadata": {
    "slideshow": {
     "slide_type": "slide"
    }
   },
   "source": [
    "This apparent conclusion reflects the typical seeing at Cerro Pachon ($\\sim$0.7 arcsec). Very nearby stars ($\\theta < 0.3$ arcsec), cannot be resolved by LSST."
   ]
  },
  {
   "cell_type": "markdown",
   "metadata": {
    "slideshow": {
     "slide_type": "slide"
    }
   },
   "source": [
    "### Incorrect Conclusion #3\n",
    "\n",
    "The Universe emits more light in the $r$-band than the $y$-band <br> (i.e., $\\sum r_\\mathrm{flux} > \\sum y_\\mathrm{flux}$).\n",
    "\n",
    "[Red is the color of the Chicago Bulls, who had the greatest basketball player ever, Michael Jordan, so perhaps the Universe is trying to confirm something we already know...] "
   ]
  },
  {
   "cell_type": "markdown",
   "metadata": {
    "slideshow": {
     "slide_type": "slide"
    }
   },
   "source": [
    "This apparent conclusion is a bit more subtle than the previous two, and there are multiple factors contributing to this incorrect assertion.\\* LSST will be far more sensitive in the $r$-band than the $y$-band (lower sky backgrounds and higher detector efficiency are the primary reasons). \n",
    "\n",
    "Blue sources naturally emit more light in the $r$-band than the $y$-band, but this imbalance should be countered by red sources (due to reddening and redshift there *should* be a lot more sources with observed red colors). Many red sources ($m_r - m_y > 0$) will only be detected in the $r$-band, however, due to the relative sensitivity in each filter. \n",
    "\n",
    "\n",
    "\\* *Note* - If you have a convincing argument that there is more $r$-band flux than $y$-band flux in the Universe let me know."
   ]
  },
  {
   "cell_type": "markdown",
   "metadata": {
    "slideshow": {
     "slide_type": "slide"
    }
   },
   "source": [
    "### Upshot\n",
    "\n",
    "Domain knowledge (of both astrophysics *and* the full telescope system) will be an essential ingredient for success once the Rubin Observatory begins LSST. LSST will push the boundaries for the 3 Vs (volume, variety, and velocity) of data science for astronomy. Success in this era will require substantial working knowledge of both \"hacking\" and \"stats/mathematical analysis\", but progress will be impeded without a corresponding expertise in how the data were acquired and why the Universe produced those data in the first place."
   ]
  },
  {
   "cell_type": "markdown",
   "metadata": {
    "slideshow": {
     "slide_type": "slide"
    }
   },
   "source": [
    "## Telescopes\n",
    "\n",
    "<br><br><br><br><br>\n",
    "\n",
    "\n",
    "\n",
    "\n"
   ]
  },
  {
   "cell_type": "markdown",
   "metadata": {
    "slideshow": {
     "slide_type": "slide"
    }
   },
   "source": [
    "Here's a true story..."
   ]
  },
  {
   "cell_type": "markdown",
   "metadata": {
    "slideshow": {
     "slide_type": "slide"
    }
   },
   "source": [
    "In grad school a couple friends and I designed and developed the Imaginery Telescope. \n",
    "\n",
    "And IT is awesome!\n",
    "\n",
    "IT has a diameter of 1 AU and it detects *all* wavelengths of the EM spectrum with 100% efficiency. It is revolutionary in it's design, and, as you might imagine, it will serve as a complete game changer for the field of astronomy."
   ]
  },
  {
   "cell_type": "markdown",
   "metadata": {
    "slideshow": {
     "slide_type": "subslide"
    }
   },
   "source": [
    "(pssst – as you also might imagine it is completely imaginary)"
   ]
  },
  {
   "cell_type": "markdown",
   "metadata": {
    "slideshow": {
     "slide_type": "slide"
    }
   },
   "source": [
    "Fundamentally, the thing we care about is measuring fluxes (and positions - though these two are related).\n",
    "\n",
    "In principle, flux measurements are straight forward: count the number of photons per unit energy per unit time. \n",
    "\n",
    "If you want to be more sensitive to faint fluxes increase the size of your telescope (just one reason why IT is so powerful...)"
   ]
  },
  {
   "cell_type": "markdown",
   "metadata": {
    "slideshow": {
     "slide_type": "slide"
    }
   },
   "source": [
    "In practice, things are not this simple: \n",
    "  -  telescope's optical elements are not 100% efficient <br>\n",
    "      (we *can* measure inefficiencies and correct them $\\rightarrow$ complicates the uncertainties beyond Poisson)\n",
    "  -  our detectors introduce noise to our measurements <br>\n",
    "  -  detectors eventually stop counting photons <br>\n",
    "      (saturation)"
   ]
  },
  {
   "cell_type": "markdown",
   "metadata": {
    "slideshow": {
     "slide_type": "slide"
    }
   },
   "source": [
    "In practice, things are not this simple (con't): \n",
    "  -  cannot measure absolute position of photons <br>\n",
    "      (Heisenberg)\n",
    "  -  further complicated by pixelated detectors  <br>\n",
    "      (cannot measure continuous distribution)\n",
    "  -  shutter opening and closing produces a variable exposure time across focal plane <br><br>\n",
    " "
   ]
  },
  {
   "cell_type": "markdown",
   "metadata": {
    "slideshow": {
     "slide_type": "slide"
    }
   },
   "source": [
    "In summary, while our basic task — counting — is in principle quite simple, measuring the flux/position of an astronmical source is somewhat complicated. We control all the elements of the system, however, and a variety of different measurements can correct for these issues (though this results in more challenging uncertainty estimates)."
   ]
  },
  {
   "cell_type": "markdown",
   "metadata": {
    "slideshow": {
     "slide_type": "slide"
    }
   },
   "source": [
    "There is an important element that we cannot control:\n",
    "\n",
    "<img style=\"display: block; margin-left: auto; margin-right: auto\" src=\"images/clouds.png\" width=\"600\">\n"
   ]
  },
  {
   "cell_type": "markdown",
   "metadata": {
    "slideshow": {
     "slide_type": "slide"
    }
   },
   "source": [
    "The atmosphere really really complicates everything, making calibration a *nightmare*.\n",
    "\n",
    "Turbulence distorts the signal, but clouds are the real pain. It's very difficult to measure the absolute attenuation of incident photons due to clouds. "
   ]
  },
  {
   "cell_type": "markdown",
   "metadata": {
    "slideshow": {
     "slide_type": "slide"
    }
   },
   "source": [
    "Briefly, we can calibrate the number of photons that we have counted to an actual measure of flux by \n",
    "\n",
    "(i) agreeing that there is a small handful of stars that are *not variable*, with *precisely known flux*. Then \n",
    "\n",
    "(ii) on nights that are \"photometric\" we observe these \"standard stars\" and the sources we care about, make some asumptions about atmospheric attenuation, and finally, \n",
    "\n",
    "(iii) we compare the relative counts in the detector for the standard stars and the sources we care about to determine the absolute flux for the sources we care about."
   ]
  },
  {
   "cell_type": "markdown",
   "metadata": {
    "slideshow": {
     "slide_type": "subslide"
    }
   },
   "source": [
    "We are lucky that Dr. Colin Slater will be joining us later this week to address this question in greater detail. "
   ]
  },
  {
   "cell_type": "markdown",
   "metadata": {
    "slideshow": {
     "slide_type": "slide"
    }
   },
   "source": [
    "So far we have focused on the question – \"How do we measure a flux?\" (the answer: counting)\n",
    "\n",
    "However, before we can measure the flux of some source, we have to identify it on the image."
   ]
  },
  {
   "cell_type": "markdown",
   "metadata": {
    "slideshow": {
     "slide_type": "slide"
    }
   },
   "source": [
    "How many stars are in this image?\n",
    "\n",
    "<img style=\"display: block; margin-left: auto; margin-right: auto\" src=\"images/star_field.png\" width=\"500\">\n"
   ]
  },
  {
   "cell_type": "markdown",
   "metadata": {
    "slideshow": {
     "slide_type": "slide"
    }
   },
   "source": [
    "I bet you identified 22 stars in that image. \n",
    "\n",
    "You likely \"eyeballed\" an estimated background level in the image, and then searched for \"peaks\" above this background. \n",
    "\n",
    "Algorithmically that is precisely how we find sources in images."
   ]
  },
  {
   "cell_type": "markdown",
   "metadata": {
    "slideshow": {
     "slide_type": "subslide"
    }
   },
   "source": [
    "(the correct answer is 23... \n",
    "\n",
    "the answer is always 23...\n",
    "\n",
    "see the solutions notebook)"
   ]
  },
  {
   "cell_type": "markdown",
   "metadata": {
    "slideshow": {
     "slide_type": "slide"
    }
   },
   "source": [
    "How many stars (or more precisely sources) are in this image?\n",
    "\n",
    "<img style=\"display: block; margin-left: auto; margin-right: auto\" src=\"images/cosmos-PSF-matched.png\" width=\"600\">\n"
   ]
  },
  {
   "cell_type": "markdown",
   "metadata": {
    "slideshow": {
     "slide_type": "slide"
    }
   },
   "source": [
    "Let's make it easier and zoom in:\n",
    "\n",
    "<img style=\"display: block; margin-left: auto; margin-right: auto\" src=\"images/cosmos-zoomed.png\" width=\"500\">\n"
   ]
  },
  {
   "cell_type": "markdown",
   "metadata": {
    "slideshow": {
     "slide_type": "slide"
    }
   },
   "source": [
    "This image from the [Hyper Suprime-Cam](https://www.naoj.org/Projects/HSC/) is more or less at the same depth as the final stack LSST images.\n",
    "\n",
    "How do you define a \"background\" when there are literally galaxies ~everywhere?\n",
    "\n",
    "Similarly, do all the photons we count in a single pixel \"belong\" to a single source?"
   ]
  },
  {
   "cell_type": "markdown",
   "metadata": {
    "slideshow": {
     "slide_type": "subslide"
    }
   },
   "source": [
    "(These are capital H hard questions. Luckily we have Dr. Yusra AlSayyad to answer them later in the session.)"
   ]
  },
  {
   "cell_type": "markdown",
   "metadata": {
    "slideshow": {
     "slide_type": "slide"
    }
   },
   "source": [
    "Let's try an easier problem: measuring the flux of a galaxy. \n",
    "\n",
    "On the next slide I will show an image of a galaxy.\n",
    "  -  make a quick mental map of which pixels should be included as we \"count\"  to measure the flux."
   ]
  },
  {
   "cell_type": "markdown",
   "metadata": {
    "slideshow": {
     "slide_type": "slide"
    }
   },
   "source": [
    "<br>\n",
    "<img style=\"display: block; margin-left: auto; margin-right: auto\" src=\"images/galaxy1.png\" width=\"700\">\n"
   ]
  },
  {
   "cell_type": "markdown",
   "metadata": {
    "slideshow": {
     "slide_type": "slide"
    }
   },
   "source": [
    "Now repeat this exercise for this galaxy:"
   ]
  },
  {
   "cell_type": "markdown",
   "metadata": {
    "slideshow": {
     "slide_type": "slide"
    }
   },
   "source": [
    "<br>\n",
    "<img style=\"display: block; margin-left: auto; margin-right: auto\" src=\"images/galaxy2.png\" width=\"700\">\n"
   ]
  },
  {
   "cell_type": "markdown",
   "metadata": {
    "slideshow": {
     "slide_type": "slide"
    }
   },
   "source": [
    "And, finally, one more time for this galaxy:"
   ]
  },
  {
   "cell_type": "markdown",
   "metadata": {
    "slideshow": {
     "slide_type": "slide"
    }
   },
   "source": [
    "<br>\n",
    "<img style=\"display: block; margin-left: auto; margin-right: auto\" src=\"images/galaxy3.png\" width=\"700\">\n"
   ]
  },
  {
   "cell_type": "markdown",
   "metadata": {
    "slideshow": {
     "slide_type": "slide"
    }
   },
   "source": [
    "Each of those images displayed the same galaxy, the only thing that changed was the image \"stretch\":\n",
    "\n",
    "<img style=\"display: block; margin-left: auto; margin-right: auto\" src=\"images/all_galaxies.png\" width=\"900\">\n",
    "\n",
    "Despite seeing the same galaxy 3 times, I would bet your mental map of the pixels belonging to the galaxy increased with each image."
   ]
  },
  {
   "cell_type": "markdown",
   "metadata": {
    "slideshow": {
     "slide_type": "slide"
    }
   },
   "source": [
    "So: how do we define the \"edge\" of a galaxy?\n",
    "\n",
    "(in order to count photons for our flux measurement we need to know which pixels \"belong\" to the galaxy)"
   ]
  },
  {
   "cell_type": "markdown",
   "metadata": {
    "slideshow": {
     "slide_type": "subslide"
    }
   },
   "source": [
    "(if your answer to the above question was along the lines of: use the point-spread function OR model the profile of the galaxy, then let me ask – HOW do you know the intrinsic profile of the galaxy in order to build your model?)"
   ]
  },
  {
   "cell_type": "markdown",
   "metadata": {
    "slideshow": {
     "slide_type": "subslide"
    }
   },
   "source": [
    "Professor Gary Bernstein will tell us a lot more about measuring the flux from galaxies later this week."
   ]
  },
  {
   "cell_type": "markdown",
   "metadata": {
    "slideshow": {
     "slide_type": "slide"
    }
   },
   "source": [
    "Without getting into all the gory details we have already seen that our simple problem: \n",
    "\n",
    "count photons $\\longrightarrow$ measure flux, \n",
    "\n",
    "is actually quite complicated.\n",
    "\n",
    "\n",
    "\n",
    "\n",
    "While some of these challenges can be well understood (sensitivity of the detector), others are uncertain ($N_\\mathrm{clouds}$). "
   ]
  },
  {
   "cell_type": "markdown",
   "metadata": {
    "slideshow": {
     "slide_type": "slide"
    }
   },
   "source": [
    "**Break Out Problem 1**\n",
    "\n",
    "Given all these complications, how can one actually make any (informed) inferences about the universe?\n",
    "\n",
    "*Hint* - think back to the previous session."
   ]
  },
  {
   "cell_type": "markdown",
   "metadata": {
    "slideshow": {
     "slide_type": "slide"
    }
   },
   "source": [
    "**Solution to Break Out 1**\n",
    "\n",
    "*Pause the lecture – take a few minutes to think about the answer*"
   ]
  },
  {
   "cell_type": "markdown",
   "metadata": {
    "slideshow": {
     "slide_type": "slide"
    }
   },
   "source": [
    "<font size=\"-1\"> But,  </font> <font size=\"+3\"> but,  </font> <font size=\"+5\"> but...  </font>"
   ]
  },
  {
   "cell_type": "markdown",
   "metadata": {
    "slideshow": {
     "slide_type": "slide"
    }
   },
   "source": [
    "## Speed Matters\n",
    "\n",
    "<br><br><br><br><br>\n",
    "\n",
    "\n",
    "\n",
    "\n",
    "\n"
   ]
  },
  {
   "cell_type": "markdown",
   "metadata": {
    "slideshow": {
     "slide_type": "slide"
    }
   },
   "source": [
    "As previously noted, the velocity and volume of LSST observations are going to be enormous. There isn't enough computing power in the world to sample a posterior that accounts for every photon detected by LSST. "
   ]
  },
  {
   "cell_type": "markdown",
   "metadata": {
    "slideshow": {
     "slide_type": "slide"
    }
   },
   "source": [
    "**Break Out Problem 2**\n",
    "\n",
    "How long would it take to perform basic processing of all of LSST on your laptop? \n",
    "\n",
    "The bare minimum for image processing includes bias (subtraction) and flat-field (division) corrections. Assume your laptop has a single 3 GHz processor that requires 1 tick to perform a single addition operation and 4 ticks to perform a single multiplication operation."
   ]
  },
  {
   "cell_type": "markdown",
   "metadata": {
    "slideshow": {
     "slide_type": "slide"
    }
   },
   "source": [
    "**Solution to Break Out 2**\n",
    "\n",
    "*Pause the lecture – take a few minutes to think about the answer*"
   ]
  },
  {
   "cell_type": "markdown",
   "metadata": {
    "slideshow": {
     "slide_type": "slide"
    }
   },
   "source": [
    "**A more realistic solution to Break Out 2**\n",
    "\n",
    "Based on PTF, it takes $\\sim$30 s to fully process (bias, flat-field, astrometry, photometry, image subtraction...) 1M pixels (much of this is tied up in I/O). Using the same numbers from the previous example, LSST will take $\\sim$200 yr to process."
   ]
  },
  {
   "cell_type": "markdown",
   "metadata": {
    "slideshow": {
     "slide_type": "subslide"
    }
   },
   "source": [
    "Do not, I repeat, DO NOT, attempt to process all the images from the Rubin Observatory on your laptop. \n",
    "\n",
    "Some of you may be doing astronomy long enough that Moore's Law will save you and this will be possible on your laptop, but this definitely isn't happening in the 2020s."
   ]
  },
  {
   "cell_type": "markdown",
   "metadata": {
    "slideshow": {
     "slide_type": "slide"
    }
   },
   "source": [
    "## Conclusions\n",
    "\n",
    "Most astronomers will only interact with the Rubin Observatory via the LSST database.\n",
    "\n",
    "Domain knowledge will nevertheless be vitally important.\n",
    "\n",
    "Lots and lots of complicated analysis happens between the glass and the database."
   ]
  }
 ],
 "metadata": {
  "celltoolbar": "Slideshow",
  "kernelspec": {
   "display_name": "Python 3",
   "language": "python",
   "name": "python3"
  },
  "language_info": {
   "codemirror_mode": {
    "name": "ipython",
    "version": 3
   },
   "file_extension": ".py",
   "mimetype": "text/x-python",
   "name": "python",
   "nbconvert_exporter": "python",
   "pygments_lexer": "ipython3",
   "version": "3.7.7"
  },
  "livereveal": {
   "height": 768,
   "scroll": true,
   "start_slideshow_at": "selected",
   "theme": "solarized",
   "width": 1024
  }
 },
 "nbformat": 4,
 "nbformat_minor": 2
}
