{
 "cells": [
  {
   "cell_type": "markdown",
   "metadata": {
    "slideshow": {
     "slide_type": "slide"
    }
   },
   "source": [
    "# An Introduction to Visualizing Astronomical Images\n",
    "\n",
    "**Version 0.1**\n",
    "\n",
    "This session has focused on image processing, with particular attention paid to how we make standard measurements (such as flux or position) in data taken with a wide-field survey, such as the Legacy Survey of Space and Time (LSST) to be conducted by the Vera C. Rubin Observatory. \n",
    "\n"
   ]
  },
  {
   "cell_type": "markdown",
   "metadata": {
    "slideshow": {
     "slide_type": "slide"
    }
   },
   "source": [
    "Of course, as every good astro-data scientist knows, you should: \n",
    "\n",
    "<div align=\"center\">\n",
    "<br>\n",
    "<font size=\"+7\"> WORRY ABOUT THE DATA </font>\n",
    "</div>"
   ]
  },
  {
   "cell_type": "markdown",
   "metadata": {
    "slideshow": {
     "slide_type": "slide"
    }
   },
   "source": [
    "For CCDs, that means *looking at the actual images*. \n",
    "\n",
    "This lecture is about the visualization of astronomical images. There are many different aspects that can (should?) be considered within this context. We will focus a primary principle of visualization (recall previous sessions):\n",
    "\n",
    "  -  Salience - the most important aspects of the figure should stand out"
   ]
  },
  {
   "cell_type": "markdown",
   "metadata": {
    "slideshow": {
     "slide_type": "slide"
    }
   },
   "source": [
    "As is often the case when it comes to image processing, Robert Lupton [(Lupton et al. 2004)](https://ui.adsabs.harvard.edu/abs/2004PASP..116..133L/abstract) has written some definitive text on building false color images (we will return to this later). \n",
    "\n",
    "* * *\n",
    "\n",
    "By AA Miller (CIERA/Northwestern & Adler)\n",
    "2020 July 13"
   ]
  },
  {
   "cell_type": "code",
   "execution_count": null,
   "metadata": {
    "slideshow": {
     "slide_type": "skip"
    }
   },
   "outputs": [],
   "source": [
    "import numpy as np\n",
    "import pandas as pd\n",
    "import matplotlib.pyplot as plt\n",
    "\n",
    "from astropy.io import fits"
   ]
  },
  {
   "cell_type": "code",
   "execution_count": null,
   "metadata": {
    "slideshow": {
     "slide_type": "skip"
    }
   },
   "outputs": [],
   "source": [
    "%matplotlib notebook"
   ]
  },
  {
   "cell_type": "markdown",
   "metadata": {
    "slideshow": {
     "slide_type": "slide"
    }
   },
   "source": [
    "If you haven't already, please [download the images](https://northwestern.box.com/s/bfhgq1jwlz7j69ognvqm5mqpvzm5dbii) that will be necessary for this exercise. Download the entire `data` directory and keep it in the same folder as this notebook. \n",
    "\n",
    "Some quick background: these images are taken from the [Zwicky Transient Facilty](https://www.ztf.caltech.edu/).\\* ZTF has a 47 $\\mathrm{deg}^2$ camera, with $\\sim$1 arcsec pixels and $\\sim$2 arcsec seeing. It has 3 filters (g, r, i) and has mapped most of the Northern hemisphere. Today we are working with ZTF stacks, roughly 16 individual images has gone into each of these stacks. "
   ]
  },
  {
   "cell_type": "markdown",
   "metadata": {
    "slideshow": {
     "slide_type": "subslide"
    }
   },
   "source": [
    "\\* Yes, I am biased as a member of ZTF. However, I chose these images because *they aren't all that nice.* SDSS, DES, HSC, PS1, all would have been suitable replacements, typically with better seeing and as a result nicer results. "
   ]
  },
  {
   "cell_type": "markdown",
   "metadata": {
    "slideshow": {
     "slide_type": "slide"
    }
   },
   "source": [
    "## Problem 1) Luminance\n",
    "\n",
    "We begin by examining how we want to represent the intensity of the light as detected by the ZTF CCD."
   ]
  },
  {
   "cell_type": "markdown",
   "metadata": {
    "slideshow": {
     "slide_type": "slide"
    }
   },
   "source": [
    "**Problem 1a**\n",
    "\n",
    "Load the data from `data\\ztf_i_band.fits.gz` and display a 2D \"heatmap\" using [`imshow()`](https://matplotlib.org/3.2.2/api/_as_gen/matplotlib.pyplot.imshow.html).\n",
    "\n",
    "*Note* - CCDs are linear detectors, so use a linear scaling (the default for `imshow()`) of the data in order to \"see\" what the detector sees."
   ]
  },
  {
   "cell_type": "code",
   "execution_count": null,
   "metadata": {
    "slideshow": {
     "slide_type": "slide"
    }
   },
   "outputs": [],
   "source": [
    "i_data = fits.getdata('./data/ztf_i_band.fits.gz')\n",
    "\n",
    "# complete "
   ]
  },
  {
   "cell_type": "markdown",
   "metadata": {
    "slideshow": {
     "slide_type": "slide"
    }
   },
   "source": [
    "The first thing that jumps out of this image is all the white pixels. They are $\\equiv$ `nan` because they have been flagged in the ZTF image processing pipeline as unreliable/no good. \n",
    "\n",
    "Note - from an aesthic standpoint, you can make these disappear by inputting the following: \n",
    "\n",
    "`np.where(np.isnan(i_data), np.nanmedian(i_data), i_data)`\n",
    "\n",
    "to `imshow()`, which replaces the nan values with the median value from the image. While this is aesthetically more pleasing, it is also misleading. Most of the masked pixels are saturated."
   ]
  },
  {
   "cell_type": "markdown",
   "metadata": {
    "slideshow": {
     "slide_type": "slide"
    }
   },
   "source": [
    "We can quickly see the problem with a linear scaling. The dynamic range is too large to reveal any significant structure in the data. We can see the brightest stars, but that is it.\n",
    "\n",
    "We can adjust the bounds on the plotted distribution to better highlight the salient features in the data."
   ]
  },
  {
   "cell_type": "markdown",
   "metadata": {
    "slideshow": {
     "slide_type": "slide"
    }
   },
   "source": [
    "**Problem 1b**\n",
    "\n",
    "Make a histogram of the counts in the image. If necessary, adjust the default settings to get a better sense of the distribution. \n",
    "\n",
    "*Hint* - be sure to input a 1D array, `i_data` is 2D."
   ]
  },
  {
   "cell_type": "code",
   "execution_count": null,
   "metadata": {
    "slideshow": {
     "slide_type": "slide"
    }
   },
   "outputs": [],
   "source": [
    "fig, ax = plt.subplots( # complete\n",
    "    \n",
    "# complete"
   ]
  },
  {
   "cell_type": "markdown",
   "metadata": {
    "slideshow": {
     "slide_type": "slide"
    }
   },
   "source": [
    "We can see a nearly logarithmic distribution, with nearly all the pixels near the \"noise floor\" of 175 or so, and a large tail to larger values.\n",
    "\n",
    "Based on this histogram, we will clip the range we show to create better constrast in the visualization."
   ]
  },
  {
   "cell_type": "markdown",
   "metadata": {
    "slideshow": {
     "slide_type": "slide"
    }
   },
   "source": [
    "**Problem 1c**\n",
    "\n",
    "Replot the i-band image while limiting the range that is displayed to extend from $m$ the minimum pixel value to $M$ the maximum pixel value. While it is possible to do this directly in `imshow()`, use `numpy` to limit the range of what is plotted (the utility of this will become clear later)."
   ]
  },
  {
   "cell_type": "code",
   "execution_count": null,
   "metadata": {
    "slideshow": {
     "slide_type": "slide"
    }
   },
   "outputs": [],
   "source": [
    "m = \n",
    "M = \n",
    "\n",
    "fig, ax = plt.subplots(# complete\n",
    "    \n",
    "# complete"
   ]
  },
  {
   "cell_type": "markdown",
   "metadata": {
    "slideshow": {
     "slide_type": "slide"
    }
   },
   "source": [
    "Between these two examples we have seen the challenge of linear scales: \n",
    "\n",
    "(i) when featuring the full dynamic range they only feature \"highlights\" associated with the brightest pixels, \n",
    "\n",
    "(ii) when the the plotting range is limited then information about the brightest stars and galaxy cores is lost. "
   ]
  },
  {
   "cell_type": "markdown",
   "metadata": {
    "slideshow": {
     "slide_type": "slide"
    }
   },
   "source": [
    "**Problem 1d** \n",
    "\n",
    "Plot the i-band data using a log stretch. How does this compare to the linear stretch?\n",
    "\n",
    "*Hint* – think about the salient features of the image. "
   ]
  },
  {
   "cell_type": "code",
   "execution_count": null,
   "metadata": {
    "slideshow": {
     "slide_type": "slide"
    }
   },
   "outputs": [],
   "source": [
    "fig, ax = plt.subplots(# complete\n",
    "    \n",
    "# complete"
   ]
  },
  {
   "cell_type": "markdown",
   "metadata": {
    "slideshow": {
     "slide_type": "slide"
    }
   },
   "source": [
    "Once again the brightest pixels dominate the range that is plotted, however, fainter structures are far more clear than with the linear stretch. \n",
    "\n",
    "It is also worth noting that the eye's response to intensity is roughly logarithmic\\*. Therefore, plotting the data with a logrithmic stretch \"mimics\" what we actually see when looking up at the night sky."
   ]
  },
  {
   "cell_type": "markdown",
   "metadata": {
    "slideshow": {
     "slide_type": "subslide"
    }
   },
   "source": [
    "\\* This is the origin of the \"magnitude\" system, which is one of the worst units conventions in all of science. "
   ]
  },
  {
   "cell_type": "markdown",
   "metadata": {
    "slideshow": {
     "slide_type": "slide"
    }
   },
   "source": [
    "As before, we can do better by limiting the range that is displayed after the conversion to a log stretch. \n",
    "\n",
    "**Problem 1e**\n",
    "\n",
    "Re-plot the i-band data with a log stretch and a cap on the minimum and maximum values to better highlight the \"shadows\" or faint structure within the data. "
   ]
  },
  {
   "cell_type": "code",
   "execution_count": null,
   "metadata": {
    "slideshow": {
     "slide_type": "slide"
    }
   },
   "outputs": [],
   "source": [
    "fig, ax = plt.subplots(# complete\n",
    "    \n",
    "# complete"
   ]
  },
  {
   "cell_type": "markdown",
   "metadata": {
    "slideshow": {
     "slide_type": "slide"
    }
   },
   "source": [
    "With the log scaling, we finally see the beautiful barred spiral galaxy to the northwest of the ring nebula. However, as was the case with the linear scaling, in order to see the spiral arms in the galaxy all the structure in the ring nebula gets blown out.\n",
    "\n",
    "(There are also issues with log scaling when making false color images - we will come back to this.)"
   ]
  },
  {
   "cell_type": "markdown",
   "metadata": {
    "slideshow": {
     "slide_type": "slide"
    }
   },
   "source": [
    "It is now generally accepted that the best scaling for CCD images is the [inverse hyperbolic sine](https://en.wikipedia.org/wiki/Inverse_hyperbolic_functions#Inverse_hyperbolic_sine). This non-linear transformation $$\\operatorname{arsinh} x = \\ln (x + \\sqrt{x^2 + 1})$$ has the really nice property that for $|x| \\ll 1$ $\\operatorname{arsinh} x \\approx x$ and for $|x| \\gg 1$ $\\operatorname{arsinh} x \\approx \\ln (2x)$. Therefore, with a single transformation we can get the best properties of each of the stretches condisered above. "
   ]
  },
  {
   "cell_type": "markdown",
   "metadata": {
    "slideshow": {
     "slide_type": "slide"
    }
   },
   "source": [
    "**Problem 1f**\n",
    "\n",
    "Plot the i-band data with an inverse hyperbolic sine scaling."
   ]
  },
  {
   "cell_type": "code",
   "execution_count": null,
   "metadata": {
    "slideshow": {
     "slide_type": "slide"
    }
   },
   "outputs": [],
   "source": [
    "fig, ax = plt.subplots(# complete\n",
    "    \n",
    "# complete"
   ]
  },
  {
   "cell_type": "markdown",
   "metadata": {
    "slideshow": {
     "slide_type": "slide"
    }
   },
   "source": [
    "Off the shelf that looks pretty good. However we are missing some of the fainter structures. We can \"re-center\" the data so that the low-level shadows are closer to the $\\sim$linear portion of the $\\operatorname{arsinh}$ response curve."
   ]
  },
  {
   "cell_type": "markdown",
   "metadata": {
    "slideshow": {
     "slide_type": "slide"
    }
   },
   "source": [
    "**Problem 1g**\n",
    "\n",
    "Subtract the median from the data and re-plot using an inverse hyperbolic sine scaling. \n",
    "\n",
    "*Hint* – do not forget about the `nan` values in the array."
   ]
  },
  {
   "cell_type": "code",
   "execution_count": null,
   "metadata": {
    "slideshow": {
     "slide_type": "slide"
    }
   },
   "outputs": [],
   "source": [
    "fig, ax = plt.subplots(# complete\n",
    "    \n",
    "# complete"
   ]
  },
  {
   "cell_type": "markdown",
   "metadata": {
    "slideshow": {
     "slide_type": "slide"
    }
   },
   "source": [
    "And just like that we have the best looking image (by far!) with a relatively minimal amount of effort. In this representation the ring nebula is a little saturated/washed out. We can correct that with a softening parameter (more below). \n",
    "\n",
    "From **Problem 1** it is clear: the inverse hyperbolic sine is the best transform to use when displaying astronomical images. "
   ]
  },
  {
   "cell_type": "markdown",
   "metadata": {
    "slideshow": {
     "slide_type": "slide"
    }
   },
   "source": [
    "## Problem 2) Color\n",
    "\n",
    "\n",
    "As we have covered [previously](https://github.com/LSSTC-DSFP/LSSTC-DSFP-Sessions/blob/master/Session10/Day0/2019_09_DSFP_DesignViz.pdf) and [extensively](https://github.com/LSSTC-DSFP/LSSTC-DSFP-Sessions/blob/master/Session9/Day2/2019_06_DSFP_design_viz.pdf) color is not a particularly useful tool for conveying information when visualizing data. "
   ]
  },
  {
   "cell_type": "markdown",
   "metadata": {
    "slideshow": {
     "slide_type": "slide"
    }
   },
   "source": [
    "And yet..."
   ]
  },
  {
   "cell_type": "markdown",
   "metadata": {
    "slideshow": {
     "slide_type": "slide"
    }
   },
   "source": [
    "When it comes to 2D CCD images, simply put, color wins.\\*\n",
    "\n",
    "<br>\n",
    "\n",
    "\\* With the important and glaring exception that the standard RGB format is not color-blind friendly, and therefore color images are not always inclusive. "
   ]
  },
  {
   "cell_type": "markdown",
   "metadata": {
    "slideshow": {
     "slide_type": "slide"
    }
   },
   "source": [
    "For example, this  image with intensity information shows some stars and galaxies (and not much more). \n",
    "\n",
    " \n",
    "\n",
    "<img style=\"display: block; margin-left: auto; margin-right: auto\" src=\"images/false_color_intensity.png\" align=\"middle\">\n",
    "\n",
    "<div align=\"right\"> <font size=\"-3\">(credit: Zolt Levay/STScI) </font></div>"
   ]
  },
  {
   "cell_type": "markdown",
   "metadata": {
    "slideshow": {
     "slide_type": "slide"
    }
   },
   "source": [
    "Whereas the RGB version immediately reveals a high-$z$ quasar. (So this isn't just about \"pretty pictures\" we are using color to better communicate what we are looking at.)\n",
    "\n",
    "<img style=\"display: block; margin-left: auto; margin-right: auto\" src=\"images/false_color_RGB.png\" align=\"middle\">\n",
    "\n",
    "<div align=\"right\"> <font size=\"-3\">(credit: Zolt Levay/STScI) </font></div>"
   ]
  },
  {
   "cell_type": "markdown",
   "metadata": {
    "slideshow": {
     "slide_type": "slide"
    }
   },
   "source": [
    "Suppose you have data in 3 filters (e.g., g, r, i) and you wish to make a false color image. DSFP \"best-practices\" would suggest optimizing the luminance display for each filter and then showing them side by side (this is the colorblind-friendly solution):\n"
   ]
  },
  {
   "cell_type": "markdown",
   "metadata": {
    "slideshow": {
     "slide_type": "fragment"
    }
   },
   "source": [
    "<img style=\"display: block; margin-left: auto; margin-right: auto\" src=\"images/false_color_1.png\" align=\"middle\">\n",
    "\n",
    "<div align=\"right\"> <font size=\"-3\">(credit: Zolt Levay/STScI) </font></div>"
   ]
  },
  {
   "cell_type": "markdown",
   "metadata": {
    "slideshow": {
     "slide_type": "slide"
    }
   },
   "source": [
    "You could even play with the color scheme slightly to be more subjective (while remaining colorblind-friendly):\n",
    "\n"
   ]
  },
  {
   "cell_type": "markdown",
   "metadata": {
    "slideshow": {
     "slide_type": "fragment"
    }
   },
   "source": [
    "<img style=\"display: block; margin-left: auto; margin-right: auto\" src=\"images/false_color_2.png\" align=\"middle\">\n",
    "\n",
    "<div align=\"right\"> <font size=\"-3\">(credit: Zolt Levay/STScI) </font></div>"
   ]
  },
  {
   "cell_type": "markdown",
   "metadata": {
    "slideshow": {
     "slide_type": "slide"
    }
   },
   "source": [
    "But in combination it becomes possible to truly pick out structure (such as H$\\alpha$ emission, traced by red in this instance):\n",
    "\n",
    "<img style=\"display: block; margin-left: auto; margin-right: auto\" src=\"images/false_color_3.png\" width=\"550\" align=\"middle\">\n",
    "\n",
    "<div align=\"right\"> <font size=\"-3\">(credit: Zolt Levay/STScI) </font></div>"
   ]
  },
  {
   "cell_type": "markdown",
   "metadata": {
    "slideshow": {
     "slide_type": "slide"
    }
   },
   "source": [
    "Following the suggestions laid out in [Lupton et al. (2004)](https://ui.adsabs.harvard.edu/abs/2004PASP..116..133L/abstract) we will now make a false color vizualization of the ring nebula using the ZTF g,r,i reference images. "
   ]
  },
  {
   "cell_type": "markdown",
   "metadata": {
    "slideshow": {
     "slide_type": "slide"
    }
   },
   "source": [
    "**Problem 2a**\n",
    "\n",
    "Load the data from the g- and r-band images, and store it in variables named `g_data` and `r_data` respectively."
   ]
  },
  {
   "cell_type": "code",
   "execution_count": null,
   "metadata": {
    "slideshow": {
     "slide_type": "slide"
    }
   },
   "outputs": [],
   "source": [
    "g_data = fits.getdata('./data/ztf_g_band.fits.gz')\n",
    "r_data = fits.getdata('./data/ztf_r_band.fits.gz')"
   ]
  },
  {
   "cell_type": "markdown",
   "metadata": {
    "slideshow": {
     "slide_type": "slide"
    }
   },
   "source": [
    "To display an RGB color image with `imshow()` we need to create an MxNx3 array, where MxN is the size of the image, and the last axis corresponds to the red, green, and blue channels respectively. \n",
    "\n",
    "Building this 3D array is simple using [`numpy.dstack()`](https://numpy.org/doc/stable/reference/generated/numpy.dstack.html)."
   ]
  },
  {
   "cell_type": "markdown",
   "metadata": {
    "slideshow": {
     "slide_type": "slide"
    }
   },
   "source": [
    "**Problem 2b**\n",
    "\n",
    "Build an RGB array of the ZTF images and display the data using `imshow()`."
   ]
  },
  {
   "cell_type": "code",
   "execution_count": null,
   "metadata": {
    "slideshow": {
     "slide_type": "slide"
    }
   },
   "outputs": [],
   "source": [
    "rgb = # complete\n",
    "fig, ax = plt.subplots( # complete\n",
    "\n",
    "# complete"
   ]
  },
  {
   "cell_type": "markdown",
   "metadata": {
    "slideshow": {
     "slide_type": "slide"
    }
   },
   "source": [
    "That looks terrible! \n",
    "\n",
    "As the warning states, RGB data needs to be scaled from 0 to 1 (or 0 to 255 for integer inputs) in order to properly display the relative intensities in each channel. "
   ]
  },
  {
   "cell_type": "markdown",
   "metadata": {
    "slideshow": {
     "slide_type": "slide"
    }
   },
   "source": [
    "**Problem 2c**\n",
    "\n",
    "Build a helper function `scaled_intensity()` that takes as input 3 MxN arrays, and returns an MxNx3 array in which the input arrays have all been rescaled between 0 and 1. \n",
    "\n",
    "Use your function to display a false color image of the ring nebula.\n",
    "\n",
    "*Hint* –– here (and below) it may be helpful to write a solution in multiple cells. "
   ]
  },
  {
   "cell_type": "code",
   "execution_count": null,
   "metadata": {
    "slideshow": {
     "slide_type": "slide"
    }
   },
   "outputs": [],
   "source": [
    "def scaled_intensity( # complete\n",
    "    '''\n",
    "    Linearly scale input RGB arrays from 0 ---> 1\n",
    "    \n",
    "    Parameters\n",
    "    ----------\n",
    "    R_array : array-like of shape (M columns, N rows)\n",
    "        R channel data array\n",
    "\n",
    "    G_array : array-like of shape (M columns, N rows)\n",
    "        G channel data array\n",
    "\n",
    "    B_array : array-like of shape (M columns, N rows)\n",
    "        B channel data array\n",
    "\n",
    "    Returns\n",
    "    -------\n",
    "    rgb_scaled : array-like of shape (M columns, N rows, 3)\n",
    "        RGB array for display with matplotlib\n",
    "    '''\n",
    "    \n",
    "    r_scaled = # complete\n",
    "\n",
    "    g_scaled = # complete\n",
    "\n",
    "    b_scaled = # complete\n",
    "    \n",
    "    rgb_scaled = # complete\n",
    "    \n",
    "    return # complete"
   ]
  },
  {
   "cell_type": "code",
   "execution_count": null,
   "metadata": {},
   "outputs": [],
   "source": [
    "fig, ax = plt.subplots( # complete\n",
    "    \n",
    "# complete"
   ]
  },
  {
   "cell_type": "markdown",
   "metadata": {
    "slideshow": {
     "slide_type": "slide"
    }
   },
   "source": [
    "As before, there are few pixels bright enough over the full scale of the image to see any real structure in the data (though you can make out hints of the ring nebula in this otherwise awful image).\n",
    "\n",
    "There are two ways to address this and we will do both: (i) use a different scaling, such as $\\log$, and (ii) limit the full plotting range."
   ]
  },
  {
   "cell_type": "markdown",
   "metadata": {
    "slideshow": {
     "slide_type": "slide"
    }
   },
   "source": [
    "**Problem 2d**\n",
    "\n",
    "Write a new (but very similar to **2c**) function called `scaled_log_intensity()` that returns the log of the flux (to better highlight faint features), scaled from 0 to 1 (to allow output as an RGB image). Plot the newly scaled rgb array."
   ]
  },
  {
   "cell_type": "code",
   "execution_count": null,
   "metadata": {
    "slideshow": {
     "slide_type": "slide"
    }
   },
   "outputs": [],
   "source": [
    "def scaled_log_intensity( # complete\n",
    "    '''\n",
    "    Log scale input RGB arrays from 0 ---> 1\n",
    "    \n",
    "    Parameters\n",
    "    ----------\n",
    "    R_array : array-like of shape (M columns, N rows)\n",
    "        R channel data array\n",
    "\n",
    "    G_array : array-like of shape (M columns, N rows)\n",
    "        G channel data array\n",
    "\n",
    "    B_array : array-like of shape (M columns, N rows)\n",
    "        B channel data array\n",
    "\n",
    "    Returns\n",
    "    -------\n",
    "    rgb_scaled : array-like of shape (M columns, N rows, 3)\n",
    "        RGB array for display with matplotlib\n",
    "    '''\n",
    "    \n",
    "    # complete\n",
    "    # complete\n",
    "    # complete"
   ]
  },
  {
   "cell_type": "code",
   "execution_count": null,
   "metadata": {
    "slideshow": {
     "slide_type": "slide"
    }
   },
   "outputs": [],
   "source": [
    "fig, ax = plt.subplots( # complete\n",
    "# complete\n",
    "# complete"
   ]
  },
  {
   "cell_type": "markdown",
   "metadata": {
    "slideshow": {
     "slide_type": "slide"
    }
   },
   "source": [
    "Now the ring nebular stands out, (AND the color is telling us something, the strong green color reflects strong emission from $\\mathrm{H}\\alpha$ in the outer layers of the nebular, while the blue center is the result of [O III] emission), however, there is very little information being transmitted by the rest of the image. We can improve this by adding limits to the plotting range. "
   ]
  },
  {
   "cell_type": "markdown",
   "metadata": {
    "slideshow": {
     "slide_type": "slide"
    }
   },
   "source": [
    "**Problem 2e**\n",
    "\n",
    "Modify `scaled_log_intensity()` to \"clip\" each array at a maximum and minimum value. Replot your RGB array after clipping.\n",
    "\n",
    "*Hint* – in principle this means six new variables should be added to the function (r_min, r_max, g_min, g_max, b_min, b_max). For now, use the same lower and upper bound for all 3 filters for simplicity. `np.percentile()` is a decent way to do this uniformly across all 3 filters. "
   ]
  },
  {
   "cell_type": "code",
   "execution_count": null,
   "metadata": {
    "slideshow": {
     "slide_type": "slide"
    }
   },
   "outputs": [],
   "source": [
    "def scaled_log_intensity( # complete\n",
    "    '''\n",
    "    Log scale input RGB arrays from 0 ---> 1\n",
    "    \n",
    "    Parameters\n",
    "    ----------\n",
    "    R_array : array-like of shape (M columns, N rows)\n",
    "        R channel data array\n",
    "\n",
    "    G_array : array-like of shape (M columns, N rows)\n",
    "        G channel data array\n",
    "\n",
    "    B_array : array-like of shape (M columns, N rows)\n",
    "        B channel data array\n",
    "\n",
    "    # complete : # complete\n",
    "        # complete\n",
    "    \n",
    "    # complete : # complete\n",
    "        # complete\n",
    "\n",
    "    Returns\n",
    "    -------\n",
    "    rgb_scaled : array-like of shape (M columns, N rows, 3)\n",
    "        RGB array for display with matplotlib\n",
    "    '''\n",
    "    \n",
    "    # complete\n",
    "    # complete\n",
    "    # complete"
   ]
  },
  {
   "cell_type": "code",
   "execution_count": null,
   "metadata": {
    "slideshow": {
     "slide_type": "slide"
    }
   },
   "outputs": [],
   "source": [
    "fig, ax = plt.subplots(# complete\n",
    "# complete\n",
    "# complete"
   ]
  },
  {
   "cell_type": "markdown",
   "metadata": {
    "slideshow": {
     "slide_type": "slide"
    }
   },
   "source": [
    "We have a false color image! The problem, as highlighted in Lupton et al. 2004, is that the \"standard\" log scaling of each channel leads to the cores of each of the individual stars appearing as a whitish color. While we have a false color image, we have actually lost all the color information."
   ]
  },
  {
   "cell_type": "markdown",
   "metadata": {
    "slideshow": {
     "slide_type": "slide"
    }
   },
   "source": [
    "## Problem 3) Lupton et al. (2004)\n",
    "\n",
    "As the Sloan Digital Sky Survey began producing multi-filter wide-field images at an \"industrial\" scale, it was quickly realized that superior solutions were needed for visualizing the 5 filter images (in particular, the use of \"log\" scaling dramatically reduced the information content). \n",
    "\n",
    "Lupton et al. proposed a solution that has now been widely adopted. Half of the solution is to use $\\operatorname{arsinh}$, and the other half is to be clever about defining the relative color in each pixel (perhaps the most useful insight from Lupton et al.). "
   ]
  },
  {
   "cell_type": "markdown",
   "metadata": {
    "slideshow": {
     "slide_type": "slide"
    }
   },
   "source": [
    "We start by defining the intensity in each pixel $I \\equiv (r + g + b)/3$, where the $r$, $g$, and $b$ values are the value in each pixel of the R(ed), G(reen), and B(lue) images, respectively. Then the output false color image can be defined by:\n",
    "\n",
    "$$R = r f(I)/I, \\\\ G = g f(I)/I, \\\\ B = b f(I)/I,$$\n",
    "\n",
    "where $f(I)$ is some scaling function, such as $\\log$ or $\\operatorname{arsinh}$."
   ]
  },
  {
   "cell_type": "markdown",
   "metadata": {
    "slideshow": {
     "slide_type": "slide"
    }
   },
   "source": [
    "As a final step the intensity in each filter is also clipped (which allows the preservation of color information even in pixels that have an intensity = 1; this is a hugely important insight). If \n",
    "\n",
    "$$\\mathrm{max_{RGB}} \\equiv \\mathrm{max(R,G,B)} > 1$$\n",
    "\n",
    "then we need to set $R \\equiv R/\\mathrm{max_{RGB}}, G \\equiv G/\\mathrm{max_{RGB}},$ and $B \\equiv B/\\mathrm{max_{RGB}}$, similarly if $\\mathrm{min_{RGB}} \\leq 0$ then set $R \\equiv G \\equiv B \\equiv 0$. "
   ]
  },
  {
   "cell_type": "markdown",
   "metadata": {
    "slideshow": {
     "slide_type": "slide"
    }
   },
   "source": [
    "Finally, Lupton et al. point out that a useful parameterization of $f(I)$ is: $$f(I) = \\operatorname{arsinh}(\\alpha Q [I-m])/Q,$$ where $Q$ and $\\alpha$ are both \"softening\" parameters that enable the user to highlight specific regions within the image with a linear stretch (and $m$ is the minimum for the plotting range as described earlier). "
   ]
  },
  {
   "cell_type": "markdown",
   "metadata": {
    "slideshow": {
     "slide_type": "slide"
    }
   },
   "source": [
    "In summary, in order to obtain the \"optimal\" RGB scaling as described in Lupton et al. we must \n",
    "  \n",
    "  (i) create a total intensity map for each pixel $I$, \n",
    "  \n",
    "  (ii) apply an $\\operatorname{arsinh}$ transform to all the data, and \n",
    "  \n",
    "  (iii) rescale the intensity to be clipped at unity (but in such a way that preserves color information in the clipped pixels) and zero. "
   ]
  },
  {
   "cell_type": "markdown",
   "metadata": {
    "slideshow": {
     "slide_type": "slide"
    }
   },
   "source": [
    "(In true DSFP fashion,) We will build this functionality one step at a time, but ultimately we want a single function that can take 3 input arrays and output a nice RGB array for plotting."
   ]
  },
  {
   "cell_type": "markdown",
   "metadata": {
    "slideshow": {
     "slide_type": "slide"
    }
   },
   "source": [
    "**Problem 3a**\n",
    "\n",
    "Create a function `tmp_lupton_1` that takes as input 3 MxN arrays, computes the intensity array $I$, and returns an MxNx3 array in which the input arrays have been divided by I *AND* rescaled between 0 and 1. (we will add $\\operatorname{arsinh}$ in a later step)\n",
    "\n",
    "*Hint* – you can plot the results, but they won't be very compelling."
   ]
  },
  {
   "cell_type": "code",
   "execution_count": null,
   "metadata": {
    "slideshow": {
     "slide_type": "slide"
    }
   },
   "outputs": [],
   "source": [
    "def tmp_lupton_1( # complete\n",
    "    '''\n",
    "    normalize intensity and scale input RGB arrays from 0 ---> 1\n",
    "    \n",
    "    Parameters\n",
    "    ----------\n",
    "    R_array : array-like of shape (M columns, N rows)\n",
    "        R channel data array\n",
    "\n",
    "    G_array : array-like of shape (M columns, N rows)\n",
    "        G channel data array\n",
    "\n",
    "    B_array : array-like of shape (M columns, N rows)\n",
    "        B channel data array\n",
    "\n",
    "    Returns\n",
    "    -------\n",
    "    rgb_scaled : array-like of shape (M columns, N rows, 3)\n",
    "        intensity scaled RGB array for display with matplotlib\n",
    "    '''\n",
    "    \n",
    "    # complete\n",
    "    # complete\n",
    "    # complete"
   ]
  },
  {
   "cell_type": "markdown",
   "metadata": {
    "slideshow": {
     "slide_type": "slide"
    }
   },
   "source": [
    "**Problem 3b**\n",
    "\n",
    "Create a new function `tmp_lupton_2` that does everything in `tmp_lupton_1` but *also* mutliplies the individual arrays by $f(I)$ as defined above. There will be 3 new parameters in the model now: $m$, $Q$, and $\\alpha$."
   ]
  },
  {
   "cell_type": "code",
   "execution_count": null,
   "metadata": {
    "slideshow": {
     "slide_type": "slide"
    }
   },
   "outputs": [],
   "source": [
    "def tmp_lupton_2( # complete\n",
    "    '''\n",
    "    arsinh intensities scaled to RGB arrays from 0 ---> 1\n",
    "    \n",
    "    Parameters\n",
    "    ----------\n",
    "    R_array : array-like of shape (M columns, N rows)\n",
    "        R channel data array\n",
    "\n",
    "    G_array : array-like of shape (M columns, N rows)\n",
    "        G channel data array\n",
    "\n",
    "    B_array : array-like of shape (M columns, N rows)\n",
    "        B channel data array\n",
    "    \n",
    "    # complete : # complete\n",
    "        # complete\n",
    "    \n",
    "    # complete : # complete\n",
    "        # complete\n",
    "        \n",
    "    # complete : # complete\n",
    "        # complete\n",
    "\n",
    "    Returns\n",
    "    -------\n",
    "    rgb_scaled : array-like of shape (M columns, N rows, 3)\n",
    "        intensity scaled RGB array for display with matplotlib\n",
    "    '''\n",
    "    \n",
    "    # complete\n",
    "    # complete\n",
    "    # complete"
   ]
  },
  {
   "cell_type": "markdown",
   "metadata": {
    "slideshow": {
     "slide_type": "slide"
    }
   },
   "source": [
    "**Problem 3c**\n",
    "\n",
    "Use `tmp_lupton_2` to rescale the ZTF data and plot the results.\n",
    "\n",
    "*Hint* – if the results appear a little underwhelming, do not forget to subtract the median value from the input arrays."
   ]
  },
  {
   "cell_type": "code",
   "execution_count": null,
   "metadata": {
    "slideshow": {
     "slide_type": "slide"
    }
   },
   "outputs": [],
   "source": [
    "fig, ax = plt.subplots( # complete \n",
    "# complete"
   ]
  },
  {
   "cell_type": "markdown",
   "metadata": {
    "slideshow": {
     "slide_type": "slide"
    }
   },
   "source": [
    "You should already see a huge improvement relative to the $\\log$ scaled false color image that was produced in **Problem 2**. Further improvements can still be made, however. For instance, the background is a little \"muddy\" in the sense that everything looks a little brown instead of black."
   ]
  },
  {
   "cell_type": "markdown",
   "metadata": {
    "slideshow": {
     "slide_type": "slide"
    }
   },
   "source": [
    "**Problem 3d**\n",
    "\n",
    "Create a new function `lupton` that does everything in `tmp_lupton_2` but *also* clips and normalizes data with $I \\equiv 0$ or $\\mathrm{max_{RGB}} > 1$."
   ]
  },
  {
   "cell_type": "code",
   "execution_count": null,
   "metadata": {
    "slideshow": {
     "slide_type": "slide"
    }
   },
   "outputs": [],
   "source": [
    "def lupton( # complete\n",
    "    '''\n",
    "    arsinh intensities scaled to RGB arrays from 0 ---> 1\n",
    "    \n",
    "    Parameters\n",
    "    ----------\n",
    "    R_array : array-like of shape (M columns, N rows)\n",
    "        R channel data array\n",
    "\n",
    "    G_array : array-like of shape (M columns, N rows)\n",
    "        G channel data array\n",
    "\n",
    "    B_array : array-like of shape (M columns, N rows)\n",
    "        B channel data array\n",
    "    \n",
    "    # complete : # complete\n",
    "        # complete\n",
    "    \n",
    "    # complete : # complete\n",
    "        # complete\n",
    "        \n",
    "    # complete : # complete\n",
    "        # complete\n",
    "        \n",
    "\n",
    "    Returns\n",
    "    -------\n",
    "    rgb_scaled : array-like of shape (M columns, N rows, 3)\n",
    "        intensity scaled RGB array for display with matplotlib\n",
    "    '''\n",
    "    \n",
    "    # complete\n",
    "    # complete\n",
    "    # complete\n",
    "\n",
    "    # complete\n",
    "    # complete\n",
    "    # complete\n",
    "\n",
    "    # complete\n",
    "    # complete\n",
    "    # complete"
   ]
  },
  {
   "cell_type": "code",
   "execution_count": null,
   "metadata": {
    "slideshow": {
     "slide_type": "slide"
    }
   },
   "outputs": [],
   "source": [
    "fig, ax = plt.subplots( # complete\n",
    "    \n",
    "# complete"
   ]
  },
  {
   "cell_type": "markdown",
   "metadata": {
    "slideshow": {
     "slide_type": "slide"
    }
   },
   "source": [
    "That looks worse than what we had before! \n",
    "\n",
    "However - we have not attempted to tune the visualization parameters at all (and the default values in the solutions, namely $Q = 1$ and $\\alpha = 1$ are attrocious."
   ]
  },
  {
   "cell_type": "markdown",
   "metadata": {
    "slideshow": {
     "slide_type": "slide"
    }
   },
   "source": [
    "**Problem 3e**\n",
    "\n",
    "Re-plot the ZTF data after adjusting the tuning parameters $m, Q, \\mathrm{and} \\alpha$. Expect some trial and error.\n",
    "\n",
    "*Hint* –– a footnote in [(Lupton et al. 2004)](https://ui.adsabs.harvard.edu/abs/2004PASP..116..133L/abstract) suggests setting $Q \\rightarrow 0$ to tune $\\alpha$ in such a way to highlight faint structures, then adjusting $Q$ to highlight the bright regions in the image.\n",
    "\n",
    "*Hint 2* –– it is very likely that your initial \"solution\" will appear overly \"green.\" This is because the color-balance is off. One secret about creating such images is that you are allowed to play with the relative intensities of the R, G, and B channels. This is a *False* color image, after all. If you want something that appears less \"green\" try multiplying the B or R channel (or both) by some constant $> 1$ to get a color balance you prefer. The optimal solution maximizes the salience of your final image."
   ]
  },
  {
   "cell_type": "code",
   "execution_count": null,
   "metadata": {
    "slideshow": {
     "slide_type": "slide"
    }
   },
   "outputs": [],
   "source": [
    "fig, ax = plt.subplots( # complete\n",
    "\n",
    "# complete"
   ]
  },
  {
   "cell_type": "markdown",
   "metadata": {
    "slideshow": {
     "slide_type": "slide"
    }
   },
   "source": [
    "Wow! \n",
    "\n",
    "This image of the Ring nebular and the nearby spiral is really nice. The background is black. The stars are not saturated (in the sense that it is extremely easy to tell the difference between the red stars and blue stars). Structure in the ring nebular can be seen (though the outermost halo is missing, see e.g., **3c**). And the nearby barred-spiral looks especially good. The nucleus is somewhat orange, suggesting an older stellar population, while the arms are clearly blue (and therefore forming stars at a higher rate than the nucleus).\n",
    "\n",
    "This is a very very nice depiction of the ring nebula."
   ]
  },
  {
   "cell_type": "markdown",
   "metadata": {
    "slideshow": {
     "slide_type": "slide"
    }
   },
   "source": [
    "## Problem 4) Astropy\n",
    "\n",
    "As is often the case, the good people at [`astropy`](https://www.astropy.org/) have already created a helper function that essentially does everything that we just developed in this notebook. In this case, with the `astropy.visualization` library there is a function called [`make_lupton_rgb`](https://docs.astropy.org/en/stable/api/astropy.visualization.make_lupton_rgb.html?highlight=make_lupton_rgb) that takes as input 3 MxN arrays, and returns a scaled MxNx3 rgb array for display purposes."
   ]
  },
  {
   "cell_type": "markdown",
   "metadata": {
    "slideshow": {
     "slide_type": "slide"
    }
   },
   "source": [
    "**Problem 4a**\n",
    "\n",
    "Load `make_lupton_rgb` and make a plot of the results. How does it compare to your own solution?\n",
    "\n",
    "*Hint* –– the `make_lupton_rgb` function uses a parameter called `stretch` instead of $\\alpha$. As you tune the output note that $\\mathrm{stretch} \\approx 1/\\alpha$."
   ]
  },
  {
   "cell_type": "code",
   "execution_count": null,
   "metadata": {
    "slideshow": {
     "slide_type": "slide"
    }
   },
   "outputs": [],
   "source": [
    "from astropy.visualization import make_lupton_rgb\n",
    "\n",
    "rgb = make_lupton_rgb( # complete\n",
    "fig, ax = plt.subplots( # complete"
   ]
  },
  {
   "cell_type": "markdown",
   "metadata": {
    "slideshow": {
     "slide_type": "slide"
    }
   },
   "source": [
    "This is an extremely similar solution to what we derived. \n",
    "\n",
    "The stars all more or less look the same, though the outer outer halo of the ring nebular is now more clear (at the cost of saturating the inner $\\mathrm{H}\\alpha$ ring). "
   ]
  },
  {
   "cell_type": "markdown",
   "metadata": {
    "slideshow": {
     "slide_type": "slide"
    }
   },
   "source": [
    "**Problem 4b**\n",
    "\n",
    "*This is optional* In the cell below images from SDSS are loaded. Use `make_lupton_rgb` to create a false color RGB image. The star formation rate in the three main galaxies in the image are actually somewhat different, see if you can highlight that. "
   ]
  },
  {
   "cell_type": "code",
   "execution_count": null,
   "metadata": {
    "slideshow": {
     "slide_type": "slide"
    }
   },
   "outputs": [],
   "source": [
    "from astropy.utils.data import get_pkg_data_filename\n",
    "\n",
    "# Read in the three images downloaded from here:\n",
    "g_name = get_pkg_data_filename('visualization/reprojected_sdss_g.fits.bz2')\n",
    "r_name = get_pkg_data_filename('visualization/reprojected_sdss_r.fits.bz2')\n",
    "i_name = get_pkg_data_filename('visualization/reprojected_sdss_i.fits.bz2')\n",
    "g_dat = fits.open(g_name)[0].data\n",
    "r_dat = fits.open(r_name)[0].data\n",
    "i_dat = fits.open(i_name)[0].data\n",
    "\n",
    "# complete\n",
    "# complete\n",
    "# complete"
   ]
  },
  {
   "cell_type": "markdown",
   "metadata": {
    "slideshow": {
     "slide_type": "slide"
    }
   },
   "source": [
    "## Challenge Problem\n",
    "\n",
    "Section 3 in [(Lupton et al. 2004)](https://ui.adsabs.harvard.edu/abs/2004PASP..116..133L/abstract) provides a solution for dealing with saturated/masked pixels. Implement that solution to create a nicer visualization of the ring nebular that does not feature so many `nan` values."
   ]
  },
  {
   "cell_type": "markdown",
   "metadata": {
    "slideshow": {
     "slide_type": "slide"
    }
   },
   "source": []
  }
 ],
 "metadata": {
  "celltoolbar": "Slideshow",
  "kernelspec": {
   "display_name": "Python 3",
   "language": "python",
   "name": "python3"
  },
  "language_info": {
   "codemirror_mode": {
    "name": "ipython",
    "version": 3
   },
   "file_extension": ".py",
   "mimetype": "text/x-python",
   "name": "python",
   "nbconvert_exporter": "python",
   "pygments_lexer": "ipython3",
   "version": "3.7.7"
  },
  "rise": {
   "scroll": true,
   "theme": "solarized"
  }
 },
 "nbformat": 4,
 "nbformat_minor": 4
}
