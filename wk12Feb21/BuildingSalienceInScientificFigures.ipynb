{
 "cells": [
  {
   "cell_type": "code",
   "execution_count": 1,
   "metadata": {
    "slideshow": {
     "slide_type": "skip"
    }
   },
   "outputs": [],
   "source": [
    "import numpy as np\n",
    "import pandas as pd\n",
    "import matplotlib.pyplot as plt\n",
    "\n",
    "%matplotlib notebook"
   ]
  },
  {
   "cell_type": "markdown",
   "metadata": {
    "slideshow": {
     "slide_type": "slide"
    }
   },
   "source": [
    "<h1 align=\"center\"> Building Salience in Scientific Figures </h1>\n",
    "\n",
    "<br>\n",
    "\n",
    "<div align=\"center\">\n",
    "<font size=\"+10\"> Adam A Miller </font>\n",
    "<br>\n",
    "(CIERA/Northwestern/Adler)\n",
    "<br>\n",
    "<br>\n",
    "LSSTC DSFP Session 12\n",
    "<br>\n",
    "<br> \n",
    "8 Feb 2020</div>"
   ]
  },
  {
   "cell_type": "markdown",
   "metadata": {
    "slideshow": {
     "slide_type": "slide"
    }
   },
   "source": [
    "## Preamble\n",
    "\n",
    "During Session 11, which focused on image processing, implicit in all our discussions was the importance of data processing pipelines. And with good reason, the Vera C. Rubin Observatory will perform $\\sim$1000 separate observations of $\\sim$37 billion sources over the course of a decade."
   ]
  },
  {
   "cell_type": "markdown",
   "metadata": {
    "slideshow": {
     "slide_type": "slide"
    }
   },
   "source": [
    "Ammasing the largest throng of astronomers and volunteers ever assembled would not be enough to inspect every single observation made by the Rubin Observatory. Fortunately, we have pipelines.\n",
    "\n",
    "As good data scientists, we should all strive to develop software that produces fully reproducible analysis results."
   ]
  },
  {
   "cell_type": "markdown",
   "metadata": {
    "slideshow": {
     "slide_type": "subslide"
    }
   },
   "source": [
    "This is why we spend time learning about version control, continuous integration, software containers, etc."
   ]
  },
  {
   "cell_type": "markdown",
   "metadata": {
    "slideshow": {
     "slide_type": "slide"
    }
   },
   "source": [
    "And yet, it is important to remember that pipelines can only execute the tasks they are asked to perform."
   ]
  },
  {
   "cell_type": "markdown",
   "metadata": {
    "slideshow": {
     "slide_type": "slide"
    }
   },
   "source": [
    "In late 2007, a relatively a stripped-envelop star exploded as a Type Ib supernova SN 2007uy in the nearby galaxy NGC 2770. These SNe sometimes emit in the X-rays, and so an observation was obtained with [Swift](https://www.nasa.gov/mission_pages/swift/main):\n",
    "\n",
    "<img style=\"display: block; margin-left: auto; margin-right: auto\" src=\"images/sn2007uy.jpg\" width=\"1000\" align=\"middle\">\n",
    "\n",
    "<div align=\"right\"> <font size=\"-3\">(X-ray on the left, UV/optical on the right. credit: NASA/Swift) </font></div>"
   ]
  },
  {
   "cell_type": "markdown",
   "metadata": {
    "slideshow": {
     "slide_type": "slide"
    }
   },
   "source": [
    "NASA has developed an easy-to-use pipeline for the analysis of Swift X-ray images as part of its high energy research archive:\n",
    "\n",
    "<img style=\"display: block; margin-left: auto; margin-right: auto\" src=\"images/Swift_pipeline.png\" width=\"600\" align=\"middle\">\n",
    "\n",
    "<div align=\"right\"> <font size=\"-3\">(X-ray on the left, UV/optical on the right. credit: NASA/HEASARC) </font></div>"
   ]
  },
  {
   "cell_type": "markdown",
   "metadata": {
    "slideshow": {
     "slide_type": "slide"
    }
   },
   "source": [
    "It would have been easy to continually extract the X-ray flux at the position of SN 2007uy. If all you did was hit \"go\" on such a pipeline, you'd get a nice nice X-ray light curve, but you'd miss this: \n",
    "\n",
    "<img style=\"display: block; margin-left: auto; margin-right: auto\" src=\"images/sn2008D.jpg\" width=\"1000\" align=\"middle\">\n",
    "\n",
    "<div align=\"right\"> <font size=\"-3\">(X-ray on the left, UV/optical on the right. credit: NASA/Swift) </font></div>"
   ]
  },
  {
   "cell_type": "markdown",
   "metadata": {
    "slideshow": {
     "slide_type": "slide"
    }
   },
   "source": [
    "SN 2008D, was discovered literally seconds after the star exploded, and this never would have happened had Edo Berger and Alicia Soderberg not looked at the Swift X-ray images themselves. \n",
    "\n",
    "In the field of SN science, this discovery is one of the most important from the past two decades."
   ]
  },
  {
   "cell_type": "markdown",
   "metadata": {
    "slideshow": {
     "slide_type": "slide"
    }
   },
   "source": [
    "Pipelines are wonderful, necessary, and often life savers, but...\n",
    "\n",
    "**there is no replacement for looking at the data**."
   ]
  },
  {
   "cell_type": "markdown",
   "metadata": {
    "slideshow": {
     "slide_type": "slide"
    }
   },
   "source": [
    "or, in other words,\n",
    "\n",
    "those that worry about the data, look at the data."
   ]
  },
  {
   "cell_type": "markdown",
   "metadata": {
    "slideshow": {
     "slide_type": "slide"
    }
   },
   "source": [
    "The most vexing problem of my career was solved by looking at the data:\n",
    "\n",
    "<img style=\"display: block; margin-left: auto; margin-right: auto\" src=\"images/SDSS_LRGs.png\" width=\"800\" align=\"middle\">\n",
    "\n",
    "<div align=\"right\"> <font size=\"-3\">(credit: SDSS) </font></div>"
   ]
  },
  {
   "cell_type": "markdown",
   "metadata": {
    "slideshow": {
     "slide_type": "slide"
    }
   },
   "source": [
    "## Introduction\n",
    "\n",
    "<br>\n",
    "Session 12 is focused on data visualization, and, informally attempts to answer the question: what is the process to best communicate (or discover) the most important features within a data set?\n",
    "<br>"
   ]
  },
  {
   "cell_type": "markdown",
   "metadata": {
    "slideshow": {
     "slide_type": "subslide"
    }
   },
   "source": [
    "(The remainder of this talk will primarily focus on visualization as a tool for communication, but as the preamble shows visualization is also a very powerful tool for discovery which will be discussed in more detail later this week.)"
   ]
  },
  {
   "cell_type": "markdown",
   "metadata": {
    "slideshow": {
     "slide_type": "slide"
    }
   },
   "source": [
    "As scientists we primarily communicate via three mediums: \n",
    "  -  text (e.g., papers)\n",
    "  -  speaking (e.g., talks)\n",
    "  -  visualization (e.g., figures and slides)"
   ]
  },
  {
   "cell_type": "markdown",
   "metadata": {
    "slideshow": {
     "slide_type": "slide"
    }
   },
   "source": [
    "As human beings we communicate via stories. \n",
    "\n",
    "When writing a paper or giving a talk you are certainly telling a story (with a beginning, middle, and end). It stands to reason that if you are creating a visualization you should do the same."
   ]
  },
  {
   "cell_type": "markdown",
   "metadata": {
    "slideshow": {
     "slide_type": "subslide"
    }
   },
   "source": [
    "Telling stories with data is an idea we will repeatedly visit this week, so I won't dwell on this topic here. "
   ]
  },
  {
   "cell_type": "markdown",
   "metadata": {
    "slideshow": {
     "slide_type": "slide"
    }
   },
   "source": [
    "**Break Out Problem 1**\n",
    "\n",
    "What is the story of this figure?\n",
    "\n",
    "<img style=\"display: block; margin-left: auto; margin-right: auto\" src=\"images/badColCol.jpg\" width=\"600\" align=\"middle\">\n",
    "\n",
    "<div align=\"right\"> <font size=\"-3\">(credit: Miller et al. 2015, ApJ, 798, 122) </font></div>"
   ]
  },
  {
   "cell_type": "markdown",
   "metadata": {
    "slideshow": {
     "slide_type": "subslide"
    }
   },
   "source": [
    "(*the* story is that anyone who made that is not qualified to give this talk...)"
   ]
  },
  {
   "cell_type": "markdown",
   "metadata": {
    "slideshow": {
     "slide_type": "slide"
    }
   },
   "source": [
    "My eyes! They burn!\n",
    "\n",
    "There are many problems with that visualization. Aside from the terrible construction (`jet` colormap, overlapping symbols, a lack of visual boundaries...), it completely fails to tell any story whatsoever."
   ]
  },
  {
   "cell_type": "markdown",
   "metadata": {
    "slideshow": {
     "slide_type": "subslide"
    }
   },
   "source": [
    "seriously, what was I thinking..."
   ]
  },
  {
   "cell_type": "markdown",
   "metadata": {
    "slideshow": {
     "slide_type": "slide"
    }
   },
   "source": [
    "Another lesson – captions matter. \n",
    "\n",
    "Captions, though they are composed of text, are a critical part of telling the story.\n",
    "\n",
    "Nevertheless, I issue a **challenge** to each of you today: build visualizations that do not require captions. It is difficult but not impossible. "
   ]
  },
  {
   "cell_type": "markdown",
   "metadata": {
    "slideshow": {
     "slide_type": "subslide"
    }
   },
   "source": [
    "Captions also tell stories! We will discuss more later this week, but think about whether the \"default\" method of writing captions – red line = this, grey dots = that – is truly in service of your story."
   ]
  },
  {
   "cell_type": "markdown",
   "metadata": {
    "slideshow": {
     "slide_type": "slide"
    }
   },
   "source": [
    "But what if my figure is \"just\" a histogram?\n",
    "\n",
    "If it does not tell a story, then it should not be a figure. A mean/median/variance can be summarized in a table, distributions can easily be described in text (multimodal, long tails, etc.)"
   ]
  },
  {
   "cell_type": "markdown",
   "metadata": {
    "slideshow": {
     "slide_type": "slide"
    }
   },
   "source": [
    "## Effective Communication"
   ]
  },
  {
   "cell_type": "markdown",
   "metadata": {
    "slideshow": {
     "slide_type": "slide"
    }
   },
   "source": [
    "To build effective visualizations, ask yourself the following questions:"
   ]
  },
  {
   "cell_type": "markdown",
   "metadata": {
    "slideshow": {
     "slide_type": "fragment"
    }
   },
   "source": [
    "$~~~~$ What is the fundamental purpose of this figure?"
   ]
  },
  {
   "cell_type": "markdown",
   "metadata": {
    "slideshow": {
     "slide_type": "fragment"
    }
   },
   "source": [
    "$~~~~$ What newspaper headline would accompany this figure?"
   ]
  },
  {
   "cell_type": "markdown",
   "metadata": {
    "slideshow": {
     "slide_type": "fragment"
    }
   },
   "source": [
    "$~~~~$ Will other people \"steal\" this figure and put it in their talks?"
   ]
  },
  {
   "cell_type": "markdown",
   "metadata": {
    "slideshow": {
     "slide_type": "slide"
    }
   },
   "source": [
    "Consider the following:\n",
    "\n",
    "<img style=\"display: block; margin-left: auto; margin-right: auto\" src=\"images/badFeatures.png\" width=\"600\" align=\"middle\">\n",
    "\n",
    "<div align=\"right\"> <font size=\"-3\">(credit: Miller et al. 2015, ApJ, 798, 122) </font></div>"
   ]
  },
  {
   "cell_type": "markdown",
   "metadata": {
    "slideshow": {
     "slide_type": "slide"
    }
   },
   "source": [
    "*Purpose* – Rorschach test?\n",
    "\n",
    "*Headline* – \"Local Astronomer Fails to Effectively Communicate Anything?\"\n",
    "\n",
    "*Steal it?* – yes... if it was printed on paper and the person needed to start a fire"
   ]
  },
  {
   "cell_type": "markdown",
   "metadata": {
    "slideshow": {
     "slide_type": "slide"
    }
   },
   "source": [
    "Now consider the following: \n",
    "\n",
    "<img style=\"display: block; margin-left: auto; margin-right: auto\" src=\"images/MadauPlot.png\" width=\"600\" align=\"middle\">\n",
    "\n",
    "<div align=\"right\"> <font size=\"-3\">(credit: Madau 1997 AIPC, 393, 481 ) </font></div>"
   ]
  },
  {
   "cell_type": "markdown",
   "metadata": {
    "slideshow": {
     "slide_type": "slide"
    }
   },
   "source": [
    "*Purpose* – Show the rate of cosmic star formation as a function of time.\n",
    "\n",
    "*Headline* – \"Universe Forms Fewer and Fewer Stars With Every Passing Year\"\n",
    "\n",
    "*Steal it?* – Yes!!! Literally, 10,000 times yes."
   ]
  },
  {
   "cell_type": "markdown",
   "metadata": {
    "slideshow": {
     "slide_type": "subslide"
    }
   },
   "source": [
    "(I could not go more than 2 weeks in grad school without seeing some version of this figure.)"
   ]
  },
  {
   "cell_type": "markdown",
   "metadata": {
    "slideshow": {
     "slide_type": "slide"
    }
   },
   "source": [
    "This figure is now known as the infamous \"Madau plot.\" \n",
    "\n",
    "I find myself marveling at its simplicity. (I cannot think of any way to make this more \"effective.\")\n",
    "\n",
    "<img style=\"display: block; margin-left: auto; margin-right: auto\" src=\"images/MadauPlot.png\" width=\"600\" align=\"middle\">\n",
    "\n",
    "<div align=\"right\"> <font size=\"-3\">(credit: Madau 1997 AIPC, 393, 481 ) </font></div>"
   ]
  },
  {
   "cell_type": "markdown",
   "metadata": {
    "slideshow": {
     "slide_type": "slide"
    }
   },
   "source": [
    "**Challenge #2** that I issue to each of you today: build visualizations that are so effective other astronomers must steal them from you for their talks. "
   ]
  },
  {
   "cell_type": "markdown",
   "metadata": {
    "slideshow": {
     "slide_type": "subslide"
    }
   },
   "source": [
    "(If we're being honest, none of us will win a Nobel prize, but one of us might, one day, have a figure named after us #DSFPsquadgoals)"
   ]
  },
  {
   "cell_type": "markdown",
   "metadata": {
    "slideshow": {
     "slide_type": "slide"
    }
   },
   "source": [
    "## Why Visualization?"
   ]
  },
  {
   "cell_type": "markdown",
   "metadata": {
    "slideshow": {
     "slide_type": "slide"
    }
   },
   "source": [
    "Data and analysis are worthless if the results of the analysis cannot be communicated. \n",
    "\n",
    "To borrow a (tired?) trope - \"a picture is worth a thousand words.\""
   ]
  },
  {
   "cell_type": "markdown",
   "metadata": {
    "slideshow": {
     "slide_type": "slide"
    }
   },
   "source": [
    "Relative to other topics in the DSFP, visualization proves exceptionally difficult to teach because there is no \"right answer.\"\n",
    "\n",
    "Every person brings their own personal history and perspective to every visualization. "
   ]
  },
  {
   "cell_type": "markdown",
   "metadata": {},
   "source": [
    "**Break Out Problem 2** \n",
    "\n"
   ]
  },
  {
   "cell_type": "markdown",
   "metadata": {},
   "source": []
  },
  {
   "cell_type": "markdown",
   "metadata": {},
   "source": []
  },
  {
   "cell_type": "markdown",
   "metadata": {},
   "source": []
  },
  {
   "cell_type": "markdown",
   "metadata": {},
   "source": []
  },
  {
   "cell_type": "markdown",
   "metadata": {},
   "source": []
  },
  {
   "cell_type": "markdown",
   "metadata": {},
   "source": []
  },
  {
   "cell_type": "markdown",
   "metadata": {},
   "source": []
  },
  {
   "cell_type": "markdown",
   "metadata": {},
   "source": []
  },
  {
   "cell_type": "markdown",
   "metadata": {},
   "source": []
  },
  {
   "cell_type": "markdown",
   "metadata": {},
   "source": []
  }
 ],
 "metadata": {
  "celltoolbar": "Slideshow",
  "kernelspec": {
   "display_name": "Python 3",
   "language": "python",
   "name": "python3"
  },
  "language_info": {
   "codemirror_mode": {
    "name": "ipython",
    "version": 3
   },
   "file_extension": ".py",
   "mimetype": "text/x-python",
   "name": "python",
   "nbconvert_exporter": "python",
   "pygments_lexer": "ipython3",
   "version": "3.7.9"
  },
  "livereveal": {
   "height": 768,
   "scroll": true,
   "start_slideshow_at": "selected",
   "theme": "solarized",
   "width": 1024
  }
 },
 "nbformat": 4,
 "nbformat_minor": 4
}
