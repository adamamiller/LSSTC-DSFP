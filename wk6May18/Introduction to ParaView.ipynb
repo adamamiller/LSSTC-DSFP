{
 "cells": [
  {
   "cell_type": "code",
   "execution_count": 5,
   "metadata": {
    "collapsed": true,
    "slideshow": {
     "slide_type": "skip"
    }
   },
   "outputs": [],
   "source": [
    "import numpy as np\n",
    "import matplotlib.pyplot as plt\n",
    "%matplotlib notebook"
   ]
  },
  {
   "cell_type": "markdown",
   "metadata": {
    "slideshow": {
     "slide_type": "skip"
    }
   },
   "source": [
    "First and foremost, you should have already installed ParaView on your machine. If not, you can [download the package](https://www.paraview.org/download/) from [paraview.org](https://www.paraview.org)."
   ]
  },
  {
   "cell_type": "markdown",
   "metadata": {
    "slideshow": {
     "slide_type": "slide"
    }
   },
   "source": [
    "# An Introduction to ParaView\n",
    "\n",
    "Adam A Miller"
   ]
  },
  {
   "cell_type": "markdown",
   "metadata": {
    "slideshow": {
     "slide_type": "slide"
    }
   },
   "source": [
    "ParaView is an open source platform that was specifically designed for data analysis and visualization. Briefly, ParaView is interesting (for us) because: \n",
    "\n",
    "  1. General purpose and can easily be used on laptop or HPC\n",
    "  2. Naturally utilizes multiple processors for handling large data sets (in particular 3D)\n",
    "  3. Includes a scripting interface (via Python)"
   ]
  },
  {
   "cell_type": "markdown",
   "metadata": {
    "slideshow": {
     "slide_type": "slide"
    }
   },
   "source": [
    "Ultimately, we want to turn data (images, measurements, spectra, etc) into some rendering to represent the data in a way that provides insight or better understanding [for all viz, not just ParaView].\n",
    "\n",
    "ParaView uses VTK, the Visualization Toolkit (more on this later)."
   ]
  },
  {
   "cell_type": "markdown",
   "metadata": {
    "slideshow": {
     "slide_type": "slide"
    }
   },
   "source": [
    "VTK uses a basic data-flow paradigm, in which data flows through the system while being transformed at each step [via modules known as algorithms]. Algorithms have input ports to take data, and output ports to produce output:\n",
    "\n",
    "  * Sources do not have input ports, but have outputs [i.e. to get data into the system, e.g., reading a file]\n",
    "  * Sinks convert input into graphics such that they can be rendered \n",
    "  * Filters are intermediate algorithms, that convert input into output"
   ]
  },
  {
   "cell_type": "markdown",
   "metadata": {
    "slideshow": {
     "slide_type": "slide"
    }
   },
   "source": [
    "Connecting sources, sinks, and filters can create arbitrarily complicated visual renderings. \n",
    "\n",
    "<img style=\"display: block; margin-left: auto; margin-right: auto\" src=\"./Day2_images/pv_visualization_model.png\" align=\"middle\">\n",
    "\n",
    "<div align=\"right\"> <font size=\"-3\">(credit: ParaView Guide) </font></div>"
   ]
  },
  {
   "cell_type": "markdown",
   "metadata": {
    "slideshow": {
     "slide_type": "slide"
    }
   },
   "source": [
    "Following this brief introduction, we will start the visual exploration with ParaView. "
   ]
  },
  {
   "cell_type": "markdown",
   "metadata": {
    "slideshow": {
     "slide_type": "slide"
    }
   },
   "source": [
    "## Problem 1) Creating an Interactive Sphere\n",
    "\n",
    "We will begin by creating a simple 3D object (a sphere). While there is nothing spectacular about a sphere, I'll note that it is not particularly easy to represent a(n interactive) sphere in `matplotlib`."
   ]
  },
  {
   "cell_type": "markdown",
   "metadata": {
    "slideshow": {
     "slide_type": "slide"
    }
   },
   "source": [
    "**Problem 1a**\n",
    "\n",
    "Open paraview. \n",
    "\n",
    "Create a sphere. [*Sources $\\rightarrow$ Sphere*]"
   ]
  },
  {
   "cell_type": "markdown",
   "metadata": {
    "slideshow": {
     "slide_type": "slide"
    }
   },
   "source": [
    "At this stage you will notice that nothing is yet visible in the layout panel. However, a few things have happened.\n",
    "\n",
    "There is now a pipeline module in the pipeline browser (upper left panel). Properties of the sphere can be adjusted in the properties panel (lower left). Finally, the *Apply* button in the properties panel is now active."
   ]
  },
  {
   "cell_type": "markdown",
   "metadata": {
    "slideshow": {
     "slide_type": "slide"
    }
   },
   "source": [
    "While this is not the case for this particular data set, because data ingestion and manipulation can be highly time consuming, ParaView allows you to perform those operations prior to rendering the data. \n",
    "\n",
    "The *Apply* allows you to accept those changes before proceeding. "
   ]
  },
  {
   "cell_type": "markdown",
   "metadata": {
    "slideshow": {
     "slide_type": "slide"
    }
   },
   "source": [
    "**Problem 1b**\n",
    "\n",
    "Render the sphere [click *Apply*].\n",
    "\n",
    "Use your mouse to inspect, rotate, and examine the sphere."
   ]
  },
  {
   "cell_type": "markdown",
   "metadata": {
    "slideshow": {
     "slide_type": "slide"
    }
   },
   "source": [
    "**Problem 1c**\n",
    "\n",
    "Adjust the center of the sphere to the position [0,0,1], and adjust the radius to 1. "
   ]
  },
  {
   "cell_type": "markdown",
   "metadata": {
    "slideshow": {
     "slide_type": "slide"
    }
   },
   "source": [
    "**Problem 1d**\n",
    "\n",
    "Make the sphere appear more \"spherical\" by adjusting theta resolution to 100. "
   ]
  },
  {
   "cell_type": "markdown",
   "metadata": {
    "slideshow": {
     "slide_type": "slide"
    }
   },
   "source": [
    "There are a variety of filters that can be applied to the data (in the *Filters* menu). The available filters are dependent on the data type provided to ParaView.\n",
    "\n",
    "**Problem 1e**\n",
    "\n",
    "Shrink the size of the mesh cells on the surface of the sphere. [*Filters* $\\rightarrow$ *Alphabetical*  $\\rightarrow$ *Shrink*]\n",
    "\n",
    "Can you see the shrunken mesh cells?"
   ]
  },
  {
   "cell_type": "markdown",
   "metadata": {
    "slideshow": {
     "slide_type": "slide"
    }
   },
   "source": [
    "## Problem 2) Python Scripting a Sphere\n",
    "\n",
    "ParaView provides a python scripting interface. The package, `pvpython`, makes it possible to script up everything, using `python` (!), that one might want to do with paraview. \n",
    "\n",
    "The ability to script these tasks is hugely important for reproducibility (and more advanced versions of automated analysis). "
   ]
  },
  {
   "cell_type": "markdown",
   "metadata": {
    "slideshow": {
     "slide_type": "slide"
    }
   },
   "source": [
    "Unfortunately, (as far as I can tell) `pvpython` is only compatible with `python` version 2.x, and it will not run within our DSFP conda environment. Forunately, ParaView ships with an internal `python` interpreter, so we are going to use that for now."
   ]
  },
  {
   "cell_type": "markdown",
   "metadata": {
    "slideshow": {
     "slide_type": "slide"
    }
   },
   "source": [
    "**Problem 2a**\n",
    "\n",
    "Open the `python` interpreter. [*View $\\rightarrow$ Python Shell*]\n",
    "\n",
    "This will open a `python` (likely v2.7.10) instance just below the layout panel."
   ]
  },
  {
   "cell_type": "markdown",
   "metadata": {
    "slideshow": {
     "slide_type": "slide"
    }
   },
   "source": [
    "Unfortunately, at this stage there are many panels, and not a lot of room to inspect the visualization. Ideally a lot of this work would be done on larger screens, but we will for now work with what we have.\n",
    "\n",
    "[If space is really at a premium on your screen, you can remove the pipeline browser and properties window as everything will be scripted for the remainder of this problem.]"
   ]
  },
  {
   "cell_type": "markdown",
   "metadata": {
    "slideshow": {
     "slide_type": "slide"
    }
   },
   "source": [
    "Before we proceed - remove the previously created sphere from the layout panel. [Click on Shrink, then click the *delete* button in the properties tab. Click on Sphere1, then click the *delete* button in the properties tab.]"
   ]
  },
  {
   "cell_type": "markdown",
   "metadata": {
    "slideshow": {
     "slide_type": "slide"
    }
   },
   "source": [
    "**Problem 2b**\n",
    "\n",
    "Create the sphere data source using the `python` interpreter.\n",
    "\n",
    "    Sphere()"
   ]
  },
  {
   "cell_type": "markdown",
   "metadata": {
    "slideshow": {
     "slide_type": "slide"
    }
   },
   "source": [
    "As before, we have created an active source in the pipeline. However, the sphere has not been rendered.\n",
    "\n",
    "**Problem 2c**\n",
    "\n",
    "Show the active source. \n",
    "\n",
    "    Show()      # prepare the display\n",
    "    Render()    # render the visualization"
   ]
  },
  {
   "cell_type": "markdown",
   "metadata": {
    "slideshow": {
     "slide_type": "slide"
    }
   },
   "source": [
    "**Problem 2d**\n",
    "\n",
    "Adjust the properties of the sphere to match those in **Problem 1**.\n",
    "\n",
    "    SetProperties(radius=1.0)\n",
    "    SetProperties(Center=[0,0,1])"
   ]
  },
  {
   "cell_type": "markdown",
   "metadata": {
    "slideshow": {
     "slide_type": "slide"
    }
   },
   "source": [
    "In addition to `SetProperties` for the data, you can also use `SetDisplayProperties` to adjust the geometric represenation of the data."
   ]
  },
  {
   "cell_type": "markdown",
   "metadata": {
    "slideshow": {
     "slide_type": "slide"
    }
   },
   "source": [
    "**Problem 2e**\n",
    "\n",
    "Set the opacity of the sphere to 0.2.\n",
    "\n",
    "    SetDisplayProperties(0.7)"
   ]
  },
  {
   "cell_type": "markdown",
   "metadata": {
    "slideshow": {
     "slide_type": "slide"
    }
   },
   "source": [
    "As before, we can also create filters via `pvpython`. Again, we will shrink the size of the mesh cells on the sphere."
   ]
  },
  {
   "cell_type": "markdown",
   "metadata": {
    "slideshow": {
     "slide_type": "slide"
    }
   },
   "source": [
    "**Problem 2f**\n",
    "\n",
    "Shrink the mesh cells on the surface of the sphere (using only python commands).\n",
    "\n",
    "    Shrink()\n",
    "\n",
    "*Hint* - don't forget to render the object."
   ]
  },
  {
   "cell_type": "markdown",
   "metadata": {
    "slideshow": {
     "slide_type": "slide"
    }
   },
   "source": [
    "Does this look like the rendering that we created previously?\n",
    "\n",
    "When scripting ParaView, the input data set is not automatically hidden after creating a new output. Instead, these actions must be done explicitly. There are a few different ways to handle this (below is an example that leverages an object oriented approach – meaning you need to start over to follow this)."
   ]
  },
  {
   "cell_type": "markdown",
   "metadata": {
    "slideshow": {
     "slide_type": "slide"
    }
   },
   "source": [
    "**Problem 2g**\n",
    "\n",
    "Using python remove the sphere instance from the rendition of the sphere.\n",
    "\n",
    "    sphereInstance = Sphere()\n",
    "    sphereInstance.Radius = 1.0\n",
    "    sphereInstance.Center[2] = 1.0\n",
    "    print sphereInstance.Center\n",
    "\n",
    "    sphereDisplay = Show(sphereInstance) \n",
    "    view = Render () \n",
    "    sphereDisplay.Opacity = 0.7\n",
    "\n",
    "    Render(view)\n",
    "\n",
    "    shrinkInstance = Shrink(Input=sphereInstance , ShrinkFactor =1.0)\n",
    "    print shrinkInstance.ShrinkFactor\n",
    "    Hide(sphereInstance)\n",
    "    shrinkDisplay = Show(shrinkInstance) \n",
    "    Render()"
   ]
  },
  {
   "cell_type": "markdown",
   "metadata": {
    "slideshow": {
     "slide_type": "slide"
    }
   },
   "source": [
    "## Problem 3) Scripting An Interactive Sphere\n",
    "\n",
    "Finally, it is possible to capture the commands executed via the GUI as a python script. In this way it is easy to reproduce an interactive session."
   ]
  },
  {
   "cell_type": "markdown",
   "metadata": {
    "slideshow": {
     "slide_type": "slide"
    }
   },
   "source": [
    "**Problem 3a**\n",
    "\n",
    "Trace your interactive commands [*Tools $\\rightarrow$ Start Trace*]"
   ]
  },
  {
   "cell_type": "markdown",
   "metadata": {
    "slideshow": {
     "slide_type": "slide"
    }
   },
   "source": [
    "**Problem 3b**\n",
    "\n",
    "Recrete a sphere following the steps from **Problem 1**.\n",
    "\n",
    "How does your trace compare to the script that you developed in **Problem 2**?"
   ]
  },
  {
   "cell_type": "markdown",
   "metadata": {
    "slideshow": {
     "slide_type": "slide"
    }
   },
   "source": [
    "**Break Out Problem**\n",
    "\n",
    "Of the 3 modes covered in Problems 1, 2, and 3 - which is to be preferred?\n",
    "\n",
    "[*spend a few minutes discussing with your neighbor*]"
   ]
  },
  {
   "cell_type": "markdown",
   "metadata": {
    "slideshow": {
     "slide_type": "slide"
    }
   },
   "source": [
    "## Problem 4) Getting Data Into ParaView"
   ]
  },
  {
   "cell_type": "markdown",
   "metadata": {
    "slideshow": {
     "slide_type": "slide"
    }
   },
   "source": [
    "Spheres are all well and good, but what we truly care about is visualizing our astronomical data.\n",
    "\n",
    "Unfortunately, this is not as simple as `plot(x,y)` or even `plot(x,y,z)` as you might expect for something designed to play nicely with `python`."
   ]
  },
  {
   "cell_type": "markdown",
   "metadata": {
    "slideshow": {
     "slide_type": "slide"
    }
   },
   "source": [
    "Instead, we need to package the data as [Visualization Toolkit](https://www.vtk.org), or vtk, files.\n",
    "\n",
    "Even more unfortunately, vtk are binary files that are known to be somewhat challenging to work with.\n",
    "\n",
    "Nevertheless, many of the most common/powerful 3D rendering programs (ParaView, Mayavi, etc), utilize vtk data."
   ]
  },
  {
   "cell_type": "markdown",
   "metadata": {
    "slideshow": {
     "slide_type": "subslide"
    }
   },
   "source": [
    "If I am being completely honest – and I always try to be completely honest – I don't know a lot about vtk, or why it's an especially useful format for these programs. \n",
    "\n",
    "Nevertheless, I will try to provide you with some insight (i.e. repeat what other people have said) to the vtk format."
   ]
  },
  {
   "cell_type": "markdown",
   "metadata": {
    "slideshow": {
     "slide_type": "slide"
    }
   },
   "source": [
    "Briefly, the vtk representation of data requires the specification of a geometry or topology, and then the data set properties are specified within the chosen geometry. vtk can handle points or cells data in five different formats: structured points, structured grid, rectilinear grid, unstructured grid, and polygonal data."
   ]
  },
  {
   "cell_type": "markdown",
   "metadata": {
    "slideshow": {
     "slide_type": "slide"
    }
   },
   "source": [
    "Structured points is the most simple format, wherein only the mesh dimensions (nx, ny, nz), mesh origin (x0, y0, z0), and cell dimensions (dx, dy, dz) are specified.\n",
    "\n",
    "<img style=\"display: block; margin-left: auto; margin-right: auto\" src=\"./Day2_images/Structured_points.png\" align=\"middle\">\n",
    "\n",
    "<div align=\"right\"> <font size=\"-3\">(credit: https://www.vtk.org/Wiki/VTK/Writing_VTK_files_using_python) </font></div>"
   ]
  },
  {
   "cell_type": "markdown",
   "metadata": {
    "slideshow": {
     "slide_type": "slide"
    }
   },
   "source": [
    "Rectilinear grid is also regularly spaced, but the spacing is not uniform. Thus, nodes must be specified along the given axes Ox, Oy, and Oz. \n",
    "\n",
    "<img style=\"display: block; margin-left: auto; margin-right: auto\" src=\"./Day2_images/Rectilinear_grid.png\" align=\"middle\">\n",
    "\n",
    "<div align=\"right\"> <font size=\"-3\">(credit: https://www.vtk.org/Wiki/VTK/Writing_VTK_files_using_python) </font></div>"
   ]
  },
  {
   "cell_type": "markdown",
   "metadata": {
    "slideshow": {
     "slide_type": "slide"
    }
   },
   "source": [
    "Structured grid is not regular or uniform. Thus, the nodes for every point within the mesh must be specified.\n",
    "\n",
    "<img style=\"display: block; margin-left: auto; margin-right: auto\" src=\"./Day2_images/Structured_grid.png\" align=\"middle\">\n",
    "\n",
    "<div align=\"right\"> <font size=\"-3\">(credit: https://www.vtk.org/Wiki/VTK/Writing_VTK_files_using_python) </font></div>"
   ]
  },
  {
   "cell_type": "markdown",
   "metadata": {
    "slideshow": {
     "slide_type": "slide"
    }
   },
   "source": [
    "Unstructured grid is a structured grid, but it can handle cell data (not just point data).\n",
    "\n",
    "Polygonal data is the most complicated (and thus provides a great deal of representational freedom), but we are going to ignore this for now."
   ]
  },
  {
   "cell_type": "markdown",
   "metadata": {
    "slideshow": {
     "slide_type": "slide"
    }
   },
   "source": [
    "As I mentioned previously, formatting data as vtk files is a bit of a pain. Fortuantely, there is a python package `pyevtk` that makes the process relatively painless."
   ]
  },
  {
   "cell_type": "markdown",
   "metadata": {
    "slideshow": {
     "slide_type": "skip"
    }
   },
   "source": [
    "You should have already installed `pyevtk`, but if not you can run: \n",
    "\n",
    "    pip install pyevtk"
   ]
  },
  {
   "cell_type": "code",
   "execution_count": 14,
   "metadata": {
    "slideshow": {
     "slide_type": "slide"
    }
   },
   "outputs": [],
   "source": [
    "from pyevtk.hl import gridToVTK, pointsToVTK"
   ]
  },
  {
   "cell_type": "markdown",
   "metadata": {
    "slideshow": {
     "slide_type": "slide"
    }
   },
   "source": [
    "We will start with a relatively straightforward example of creating a collection of points in 3 dimentions\n",
    "\n",
    "**Problem 4a**\n",
    "\n",
    "Evalute the temperature and density on the grid provided below.\n",
    "\n",
    "$$T = 2.4/x + 0.04y^2 + 5/z$$\n",
    "$$\\rho = 1.11x^2 + 3.1y + 0.6z^2$$"
   ]
  },
  {
   "cell_type": "code",
   "execution_count": 21,
   "metadata": {
    "collapsed": true,
    "slideshow": {
     "slide_type": "slide"
    }
   },
   "outputs": [],
   "source": [
    "np.random.seed(23)\n",
    "\n",
    "x = np.random.normal(0,20,size=500)\n",
    "y = np.random.normal(0,20,size=500)\n",
    "z = np.random.normal(0,20,size=500)\n",
    "\n",
    "temp = 2.4/x + 0.04*y**2 + 5/z\n",
    "pressure = 1.11*x**2 + 3.1*y + 0.6*z**2"
   ]
  },
  {
   "cell_type": "markdown",
   "metadata": {
    "slideshow": {
     "slide_type": "slide"
    }
   },
   "source": [
    "**Problem 4b**\n",
    "\n",
    "Execute the cell below to create a .vtu file that can be read by ParaView.\n",
    "\n",
    "Open the file in ParaView. Represent the pressure data as *Point Gaussian*, and change the color to match that of the data.\n",
    "\n",
    "From the ParaView render, how would you describe the pressure of the system? What about the temperature?"
   ]
  },
  {
   "cell_type": "code",
   "execution_count": 20,
   "metadata": {
    "slideshow": {
     "slide_type": "slide"
    }
   },
   "outputs": [
    {
     "data": {
      "text/plain": [
       "'/Users/adamamiller/astronomy/LSST/DSFP/LSSTC-DSFP/wk6May18/points.vtu'"
      ]
     },
     "execution_count": 20,
     "metadata": {},
     "output_type": "execute_result"
    }
   ],
   "source": [
    "pointsToVTK(\"./points\", x, y, z, data = {\"temp\" : temp, \"pressure\" : pressure})"
   ]
  },
  {
   "cell_type": "markdown",
   "metadata": {
    "slideshow": {
     "slide_type": "slide"
    }
   },
   "source": [
    "I can already think of a few ways in which this representation would be useful (especially now that there is Gaia data available), but the real power of ParaView comes via the volume renderings (which require \"cell\" data as opposed to \"point\" data). \n",
    "\n",
    "We will start with random data on a structured grid. Recall that this means we need to specify the mesh dimensions and cell widths before evaluating data on the grid. [A more interesting example follows]"
   ]
  },
  {
   "cell_type": "code",
   "execution_count": 23,
   "metadata": {
    "collapsed": true,
    "slideshow": {
     "slide_type": "slide"
    }
   },
   "outputs": [],
   "source": [
    "nx, ny, nz = 6, 6, 2           # number of cells\n",
    "lx, ly, lz = 1.0, 1.0, 1.0     # length on each size\n",
    "dx, dy, dz = lx/nx, ly/ny, lz/nz       # size of the cells\n",
    "ncells = nx * ny * nz          # total number of cells\n",
    "npoints = (nx + 1) * (ny + 1) * (nz + 1)     # points defined by boundaries, hence n + 1"
   ]
  },
  {
   "cell_type": "markdown",
   "metadata": {
    "slideshow": {
     "slide_type": "slide"
    }
   },
   "source": [
    "From here we can establish the coordinates of the cell and the point data."
   ]
  },
  {
   "cell_type": "code",
   "execution_count": 38,
   "metadata": {
    "slideshow": {
     "slide_type": "slide"
    }
   },
   "outputs": [],
   "source": [
    "x = np.arange(0, lx + 0.1*dx, dx, dtype='float64') \n",
    "y = np.arange(0, ly + 0.1*dy, dy, dtype='float64') \n",
    "z = np.arange(0, lz + 0.1*dz, dz, dtype='float64') "
   ]
  },
  {
   "cell_type": "markdown",
   "metadata": {
    "slideshow": {
     "slide_type": "slide"
    }
   },
   "source": [
    "**Problem 4c**\n",
    "\n",
    "Assign random values for the pressure and tempurature and export the data to a file called structure.vtr.\n",
    "\n",
    "Open structure.vtr in ParaView. Represent the data as a surface with edges, and color the pressure data.\n",
    "\n",
    "*Note* - pay attention to the shape of the pressure and temperature data."
   ]
  },
  {
   "cell_type": "code",
   "execution_count": 39,
   "metadata": {
    "slideshow": {
     "slide_type": "slide"
    }
   },
   "outputs": [
    {
     "data": {
      "text/plain": [
       "'/Users/adamamiller/astronomy/LSST/DSFP/LSSTC-DSFP/wk6May18/structured.vtr'"
      ]
     },
     "execution_count": 39,
     "metadata": {},
     "output_type": "execute_result"
    }
   ],
   "source": [
    "pressure = np.random.rand(ncells).reshape( (nx, ny, nz)) \n",
    "\n",
    "temp = np.random.rand(npoints).reshape( (nx + 1, ny + 1, nz + 1)) \n",
    "\n",
    "gridToVTK(\"./structured\", x, y, z, cellData = {\"pressure\" : pressure}, pointData = {\"temp\" : temp})"
   ]
  },
  {
   "cell_type": "markdown",
   "metadata": {
    "slideshow": {
     "slide_type": "slide"
    }
   },
   "source": [
    "Now we will create a slightly more complicated volume rendition of the pressure and temperature.\n",
    "\n",
    "**Problem 4d**\n",
    "\n",
    "Create a grid with 25 cells on a side and equal size cells of length = 0.4. Create cell data for the pressure and point data for the temparture according to the functions given below.\n",
    "\n",
    "$$\\rho = \\left(\\cos(x) + \\cos(y) + \\cos(z)\\right)e^{-(x + y + z)^2/5}$$\n",
    "$$T = x + y + z$$\n",
    "\n",
    "*Hint* - avoid writing any loops for this problem."
   ]
  },
  {
   "cell_type": "code",
   "execution_count": 98,
   "metadata": {
    "collapsed": true,
    "slideshow": {
     "slide_type": "slide"
    }
   },
   "outputs": [],
   "source": [
    "nx, ny, nz = 25, 25, 25           # number of cells\n",
    "lx, ly, lz = 10, 10, 10     # length on each size\n",
    "dx, dy, dz = lx/nx, ly/ny, lz/nz       # size of the cells\n",
    "\n",
    "x = np.arange(-lx/2, lx/2 + 0.1*dx, dx, dtype='float64') \n",
    "y = np.arange(-ly/2, ly/2 + 0.1*dy, dy, dtype='float64') \n",
    "z = np.arange(-lz/2, lz/2 + 0.1*dz, dz, dtype='float64')\n",
    "\n",
    "xp, yp, zp = np.meshgrid(x[:-1] + np.diff(x)/2,\n",
    "                         y[:-1] + np.diff(y)/2,\n",
    "                         z[:-1] + np.diff(z)/2,\n",
    "                         indexing='ij')\n",
    "xt, yt, zt = np.meshgrid(x,y,z,\n",
    "                         indexing='ij')\n",
    "\n",
    "pressure = (np.cos(xp) + np.cos(yp) + np.cos(zp))*np.exp(-(xp + yp + zp)**2/5)"
   ]
  },
  {
   "cell_type": "markdown",
   "metadata": {
    "slideshow": {
     "slide_type": "slide"
    }
   },
   "source": [
    "**Problem 4e**\n",
    "\n",
    "Create a vtk file with the pressure and temperature data. Open the resuling file in ParaView.\n",
    "\n",
    "Examine the volume rendering of the data. Does the visualization make sense given the input data?\n",
    "\n",
    "*Hint* - the x, y, and z coordinates should all be specified as 3d arrays."
   ]
  },
  {
   "cell_type": "code",
   "execution_count": 99,
   "metadata": {
    "slideshow": {
     "slide_type": "slide"
    }
   },
   "outputs": [
    {
     "data": {
      "text/plain": [
       "'/Users/adamamiller/astronomy/LSST/DSFP/LSSTC-DSFP/wk6May18/structured.vts'"
      ]
     },
     "execution_count": 99,
     "metadata": {},
     "output_type": "execute_result"
    }
   ],
   "source": [
    "gridToVTK(\"./structured\", xt, yt, zt, cellData = {\"pressure\" : pressure}, pointData = {\"temp\" : temp})"
   ]
  },
  {
   "cell_type": "markdown",
   "metadata": {
    "slideshow": {
     "slide_type": "slide"
    }
   },
   "source": [
    "For simplicity, we have focused on the most ordered methods of producing vtk files. As we have demonstrated, `pyevtk` provides a simple interface to convert `NumPy` arrays into vtk binary files. "
   ]
  },
  {
   "cell_type": "markdown",
   "metadata": {
    "slideshow": {
     "slide_type": "slide"
    }
   },
   "source": [
    "## Problem 5) Data Analysis"
   ]
  },
  {
   "cell_type": "code",
   "execution_count": 103,
   "metadata": {},
   "outputs": [],
   "source": [
    "import seaborn as sns"
   ]
  },
  {
   "cell_type": "code",
   "execution_count": 105,
   "metadata": {},
   "outputs": [
    {
     "data": {
      "application/javascript": [
       "/* Put everything inside the global mpl namespace */\n",
       "window.mpl = {};\n",
       "\n",
       "\n",
       "mpl.get_websocket_type = function() {\n",
       "    if (typeof(WebSocket) !== 'undefined') {\n",
       "        return WebSocket;\n",
       "    } else if (typeof(MozWebSocket) !== 'undefined') {\n",
       "        return MozWebSocket;\n",
       "    } else {\n",
       "        alert('Your browser does not have WebSocket support.' +\n",
       "              'Please try Chrome, Safari or Firefox ≥ 6. ' +\n",
       "              'Firefox 4 and 5 are also supported but you ' +\n",
       "              'have to enable WebSockets in about:config.');\n",
       "    };\n",
       "}\n",
       "\n",
       "mpl.figure = function(figure_id, websocket, ondownload, parent_element) {\n",
       "    this.id = figure_id;\n",
       "\n",
       "    this.ws = websocket;\n",
       "\n",
       "    this.supports_binary = (this.ws.binaryType != undefined);\n",
       "\n",
       "    if (!this.supports_binary) {\n",
       "        var warnings = document.getElementById(\"mpl-warnings\");\n",
       "        if (warnings) {\n",
       "            warnings.style.display = 'block';\n",
       "            warnings.textContent = (\n",
       "                \"This browser does not support binary websocket messages. \" +\n",
       "                    \"Performance may be slow.\");\n",
       "        }\n",
       "    }\n",
       "\n",
       "    this.imageObj = new Image();\n",
       "\n",
       "    this.context = undefined;\n",
       "    this.message = undefined;\n",
       "    this.canvas = undefined;\n",
       "    this.rubberband_canvas = undefined;\n",
       "    this.rubberband_context = undefined;\n",
       "    this.format_dropdown = undefined;\n",
       "\n",
       "    this.image_mode = 'full';\n",
       "\n",
       "    this.root = $('<div/>');\n",
       "    this._root_extra_style(this.root)\n",
       "    this.root.attr('style', 'display: inline-block');\n",
       "\n",
       "    $(parent_element).append(this.root);\n",
       "\n",
       "    this._init_header(this);\n",
       "    this._init_canvas(this);\n",
       "    this._init_toolbar(this);\n",
       "\n",
       "    var fig = this;\n",
       "\n",
       "    this.waiting = false;\n",
       "\n",
       "    this.ws.onopen =  function () {\n",
       "            fig.send_message(\"supports_binary\", {value: fig.supports_binary});\n",
       "            fig.send_message(\"send_image_mode\", {});\n",
       "            if (mpl.ratio != 1) {\n",
       "                fig.send_message(\"set_dpi_ratio\", {'dpi_ratio': mpl.ratio});\n",
       "            }\n",
       "            fig.send_message(\"refresh\", {});\n",
       "        }\n",
       "\n",
       "    this.imageObj.onload = function() {\n",
       "            if (fig.image_mode == 'full') {\n",
       "                // Full images could contain transparency (where diff images\n",
       "                // almost always do), so we need to clear the canvas so that\n",
       "                // there is no ghosting.\n",
       "                fig.context.clearRect(0, 0, fig.canvas.width, fig.canvas.height);\n",
       "            }\n",
       "            fig.context.drawImage(fig.imageObj, 0, 0);\n",
       "        };\n",
       "\n",
       "    this.imageObj.onunload = function() {\n",
       "        this.ws.close();\n",
       "    }\n",
       "\n",
       "    this.ws.onmessage = this._make_on_message_function(this);\n",
       "\n",
       "    this.ondownload = ondownload;\n",
       "}\n",
       "\n",
       "mpl.figure.prototype._init_header = function() {\n",
       "    var titlebar = $(\n",
       "        '<div class=\"ui-dialog-titlebar ui-widget-header ui-corner-all ' +\n",
       "        'ui-helper-clearfix\"/>');\n",
       "    var titletext = $(\n",
       "        '<div class=\"ui-dialog-title\" style=\"width: 100%; ' +\n",
       "        'text-align: center; padding: 3px;\"/>');\n",
       "    titlebar.append(titletext)\n",
       "    this.root.append(titlebar);\n",
       "    this.header = titletext[0];\n",
       "}\n",
       "\n",
       "\n",
       "\n",
       "mpl.figure.prototype._canvas_extra_style = function(canvas_div) {\n",
       "\n",
       "}\n",
       "\n",
       "\n",
       "mpl.figure.prototype._root_extra_style = function(canvas_div) {\n",
       "\n",
       "}\n",
       "\n",
       "mpl.figure.prototype._init_canvas = function() {\n",
       "    var fig = this;\n",
       "\n",
       "    var canvas_div = $('<div/>');\n",
       "\n",
       "    canvas_div.attr('style', 'position: relative; clear: both; outline: 0');\n",
       "\n",
       "    function canvas_keyboard_event(event) {\n",
       "        return fig.key_event(event, event['data']);\n",
       "    }\n",
       "\n",
       "    canvas_div.keydown('key_press', canvas_keyboard_event);\n",
       "    canvas_div.keyup('key_release', canvas_keyboard_event);\n",
       "    this.canvas_div = canvas_div\n",
       "    this._canvas_extra_style(canvas_div)\n",
       "    this.root.append(canvas_div);\n",
       "\n",
       "    var canvas = $('<canvas/>');\n",
       "    canvas.addClass('mpl-canvas');\n",
       "    canvas.attr('style', \"left: 0; top: 0; z-index: 0; outline: 0\")\n",
       "\n",
       "    this.canvas = canvas[0];\n",
       "    this.context = canvas[0].getContext(\"2d\");\n",
       "\n",
       "    var backingStore = this.context.backingStorePixelRatio ||\n",
       "\tthis.context.webkitBackingStorePixelRatio ||\n",
       "\tthis.context.mozBackingStorePixelRatio ||\n",
       "\tthis.context.msBackingStorePixelRatio ||\n",
       "\tthis.context.oBackingStorePixelRatio ||\n",
       "\tthis.context.backingStorePixelRatio || 1;\n",
       "\n",
       "    mpl.ratio = (window.devicePixelRatio || 1) / backingStore;\n",
       "\n",
       "    var rubberband = $('<canvas/>');\n",
       "    rubberband.attr('style', \"position: absolute; left: 0; top: 0; z-index: 1;\")\n",
       "\n",
       "    var pass_mouse_events = true;\n",
       "\n",
       "    canvas_div.resizable({\n",
       "        start: function(event, ui) {\n",
       "            pass_mouse_events = false;\n",
       "        },\n",
       "        resize: function(event, ui) {\n",
       "            fig.request_resize(ui.size.width, ui.size.height);\n",
       "        },\n",
       "        stop: function(event, ui) {\n",
       "            pass_mouse_events = true;\n",
       "            fig.request_resize(ui.size.width, ui.size.height);\n",
       "        },\n",
       "    });\n",
       "\n",
       "    function mouse_event_fn(event) {\n",
       "        if (pass_mouse_events)\n",
       "            return fig.mouse_event(event, event['data']);\n",
       "    }\n",
       "\n",
       "    rubberband.mousedown('button_press', mouse_event_fn);\n",
       "    rubberband.mouseup('button_release', mouse_event_fn);\n",
       "    // Throttle sequential mouse events to 1 every 20ms.\n",
       "    rubberband.mousemove('motion_notify', mouse_event_fn);\n",
       "\n",
       "    rubberband.mouseenter('figure_enter', mouse_event_fn);\n",
       "    rubberband.mouseleave('figure_leave', mouse_event_fn);\n",
       "\n",
       "    canvas_div.on(\"wheel\", function (event) {\n",
       "        event = event.originalEvent;\n",
       "        event['data'] = 'scroll'\n",
       "        if (event.deltaY < 0) {\n",
       "            event.step = 1;\n",
       "        } else {\n",
       "            event.step = -1;\n",
       "        }\n",
       "        mouse_event_fn(event);\n",
       "    });\n",
       "\n",
       "    canvas_div.append(canvas);\n",
       "    canvas_div.append(rubberband);\n",
       "\n",
       "    this.rubberband = rubberband;\n",
       "    this.rubberband_canvas = rubberband[0];\n",
       "    this.rubberband_context = rubberband[0].getContext(\"2d\");\n",
       "    this.rubberband_context.strokeStyle = \"#000000\";\n",
       "\n",
       "    this._resize_canvas = function(width, height) {\n",
       "        // Keep the size of the canvas, canvas container, and rubber band\n",
       "        // canvas in synch.\n",
       "        canvas_div.css('width', width)\n",
       "        canvas_div.css('height', height)\n",
       "\n",
       "        canvas.attr('width', width * mpl.ratio);\n",
       "        canvas.attr('height', height * mpl.ratio);\n",
       "        canvas.attr('style', 'width: ' + width + 'px; height: ' + height + 'px;');\n",
       "\n",
       "        rubberband.attr('width', width);\n",
       "        rubberband.attr('height', height);\n",
       "    }\n",
       "\n",
       "    // Set the figure to an initial 600x600px, this will subsequently be updated\n",
       "    // upon first draw.\n",
       "    this._resize_canvas(600, 600);\n",
       "\n",
       "    // Disable right mouse context menu.\n",
       "    $(this.rubberband_canvas).bind(\"contextmenu\",function(e){\n",
       "        return false;\n",
       "    });\n",
       "\n",
       "    function set_focus () {\n",
       "        canvas.focus();\n",
       "        canvas_div.focus();\n",
       "    }\n",
       "\n",
       "    window.setTimeout(set_focus, 100);\n",
       "}\n",
       "\n",
       "mpl.figure.prototype._init_toolbar = function() {\n",
       "    var fig = this;\n",
       "\n",
       "    var nav_element = $('<div/>')\n",
       "    nav_element.attr('style', 'width: 100%');\n",
       "    this.root.append(nav_element);\n",
       "\n",
       "    // Define a callback function for later on.\n",
       "    function toolbar_event(event) {\n",
       "        return fig.toolbar_button_onclick(event['data']);\n",
       "    }\n",
       "    function toolbar_mouse_event(event) {\n",
       "        return fig.toolbar_button_onmouseover(event['data']);\n",
       "    }\n",
       "\n",
       "    for(var toolbar_ind in mpl.toolbar_items) {\n",
       "        var name = mpl.toolbar_items[toolbar_ind][0];\n",
       "        var tooltip = mpl.toolbar_items[toolbar_ind][1];\n",
       "        var image = mpl.toolbar_items[toolbar_ind][2];\n",
       "        var method_name = mpl.toolbar_items[toolbar_ind][3];\n",
       "\n",
       "        if (!name) {\n",
       "            // put a spacer in here.\n",
       "            continue;\n",
       "        }\n",
       "        var button = $('<button/>');\n",
       "        button.addClass('ui-button ui-widget ui-state-default ui-corner-all ' +\n",
       "                        'ui-button-icon-only');\n",
       "        button.attr('role', 'button');\n",
       "        button.attr('aria-disabled', 'false');\n",
       "        button.click(method_name, toolbar_event);\n",
       "        button.mouseover(tooltip, toolbar_mouse_event);\n",
       "\n",
       "        var icon_img = $('<span/>');\n",
       "        icon_img.addClass('ui-button-icon-primary ui-icon');\n",
       "        icon_img.addClass(image);\n",
       "        icon_img.addClass('ui-corner-all');\n",
       "\n",
       "        var tooltip_span = $('<span/>');\n",
       "        tooltip_span.addClass('ui-button-text');\n",
       "        tooltip_span.html(tooltip);\n",
       "\n",
       "        button.append(icon_img);\n",
       "        button.append(tooltip_span);\n",
       "\n",
       "        nav_element.append(button);\n",
       "    }\n",
       "\n",
       "    var fmt_picker_span = $('<span/>');\n",
       "\n",
       "    var fmt_picker = $('<select/>');\n",
       "    fmt_picker.addClass('mpl-toolbar-option ui-widget ui-widget-content');\n",
       "    fmt_picker_span.append(fmt_picker);\n",
       "    nav_element.append(fmt_picker_span);\n",
       "    this.format_dropdown = fmt_picker[0];\n",
       "\n",
       "    for (var ind in mpl.extensions) {\n",
       "        var fmt = mpl.extensions[ind];\n",
       "        var option = $(\n",
       "            '<option/>', {selected: fmt === mpl.default_extension}).html(fmt);\n",
       "        fmt_picker.append(option)\n",
       "    }\n",
       "\n",
       "    // Add hover states to the ui-buttons\n",
       "    $( \".ui-button\" ).hover(\n",
       "        function() { $(this).addClass(\"ui-state-hover\");},\n",
       "        function() { $(this).removeClass(\"ui-state-hover\");}\n",
       "    );\n",
       "\n",
       "    var status_bar = $('<span class=\"mpl-message\"/>');\n",
       "    nav_element.append(status_bar);\n",
       "    this.message = status_bar[0];\n",
       "}\n",
       "\n",
       "mpl.figure.prototype.request_resize = function(x_pixels, y_pixels) {\n",
       "    // Request matplotlib to resize the figure. Matplotlib will then trigger a resize in the client,\n",
       "    // which will in turn request a refresh of the image.\n",
       "    this.send_message('resize', {'width': x_pixels, 'height': y_pixels});\n",
       "}\n",
       "\n",
       "mpl.figure.prototype.send_message = function(type, properties) {\n",
       "    properties['type'] = type;\n",
       "    properties['figure_id'] = this.id;\n",
       "    this.ws.send(JSON.stringify(properties));\n",
       "}\n",
       "\n",
       "mpl.figure.prototype.send_draw_message = function() {\n",
       "    if (!this.waiting) {\n",
       "        this.waiting = true;\n",
       "        this.ws.send(JSON.stringify({type: \"draw\", figure_id: this.id}));\n",
       "    }\n",
       "}\n",
       "\n",
       "\n",
       "mpl.figure.prototype.handle_save = function(fig, msg) {\n",
       "    var format_dropdown = fig.format_dropdown;\n",
       "    var format = format_dropdown.options[format_dropdown.selectedIndex].value;\n",
       "    fig.ondownload(fig, format);\n",
       "}\n",
       "\n",
       "\n",
       "mpl.figure.prototype.handle_resize = function(fig, msg) {\n",
       "    var size = msg['size'];\n",
       "    if (size[0] != fig.canvas.width || size[1] != fig.canvas.height) {\n",
       "        fig._resize_canvas(size[0], size[1]);\n",
       "        fig.send_message(\"refresh\", {});\n",
       "    };\n",
       "}\n",
       "\n",
       "mpl.figure.prototype.handle_rubberband = function(fig, msg) {\n",
       "    var x0 = msg['x0'] / mpl.ratio;\n",
       "    var y0 = (fig.canvas.height - msg['y0']) / mpl.ratio;\n",
       "    var x1 = msg['x1'] / mpl.ratio;\n",
       "    var y1 = (fig.canvas.height - msg['y1']) / mpl.ratio;\n",
       "    x0 = Math.floor(x0) + 0.5;\n",
       "    y0 = Math.floor(y0) + 0.5;\n",
       "    x1 = Math.floor(x1) + 0.5;\n",
       "    y1 = Math.floor(y1) + 0.5;\n",
       "    var min_x = Math.min(x0, x1);\n",
       "    var min_y = Math.min(y0, y1);\n",
       "    var width = Math.abs(x1 - x0);\n",
       "    var height = Math.abs(y1 - y0);\n",
       "\n",
       "    fig.rubberband_context.clearRect(\n",
       "        0, 0, fig.canvas.width, fig.canvas.height);\n",
       "\n",
       "    fig.rubberband_context.strokeRect(min_x, min_y, width, height);\n",
       "}\n",
       "\n",
       "mpl.figure.prototype.handle_figure_label = function(fig, msg) {\n",
       "    // Updates the figure title.\n",
       "    fig.header.textContent = msg['label'];\n",
       "}\n",
       "\n",
       "mpl.figure.prototype.handle_cursor = function(fig, msg) {\n",
       "    var cursor = msg['cursor'];\n",
       "    switch(cursor)\n",
       "    {\n",
       "    case 0:\n",
       "        cursor = 'pointer';\n",
       "        break;\n",
       "    case 1:\n",
       "        cursor = 'default';\n",
       "        break;\n",
       "    case 2:\n",
       "        cursor = 'crosshair';\n",
       "        break;\n",
       "    case 3:\n",
       "        cursor = 'move';\n",
       "        break;\n",
       "    }\n",
       "    fig.rubberband_canvas.style.cursor = cursor;\n",
       "}\n",
       "\n",
       "mpl.figure.prototype.handle_message = function(fig, msg) {\n",
       "    fig.message.textContent = msg['message'];\n",
       "}\n",
       "\n",
       "mpl.figure.prototype.handle_draw = function(fig, msg) {\n",
       "    // Request the server to send over a new figure.\n",
       "    fig.send_draw_message();\n",
       "}\n",
       "\n",
       "mpl.figure.prototype.handle_image_mode = function(fig, msg) {\n",
       "    fig.image_mode = msg['mode'];\n",
       "}\n",
       "\n",
       "mpl.figure.prototype.updated_canvas_event = function() {\n",
       "    // Called whenever the canvas gets updated.\n",
       "    this.send_message(\"ack\", {});\n",
       "}\n",
       "\n",
       "// A function to construct a web socket function for onmessage handling.\n",
       "// Called in the figure constructor.\n",
       "mpl.figure.prototype._make_on_message_function = function(fig) {\n",
       "    return function socket_on_message(evt) {\n",
       "        if (evt.data instanceof Blob) {\n",
       "            /* FIXME: We get \"Resource interpreted as Image but\n",
       "             * transferred with MIME type text/plain:\" errors on\n",
       "             * Chrome.  But how to set the MIME type?  It doesn't seem\n",
       "             * to be part of the websocket stream */\n",
       "            evt.data.type = \"image/png\";\n",
       "\n",
       "            /* Free the memory for the previous frames */\n",
       "            if (fig.imageObj.src) {\n",
       "                (window.URL || window.webkitURL).revokeObjectURL(\n",
       "                    fig.imageObj.src);\n",
       "            }\n",
       "\n",
       "            fig.imageObj.src = (window.URL || window.webkitURL).createObjectURL(\n",
       "                evt.data);\n",
       "            fig.updated_canvas_event();\n",
       "            fig.waiting = false;\n",
       "            return;\n",
       "        }\n",
       "        else if (typeof evt.data === 'string' && evt.data.slice(0, 21) == \"data:image/png;base64\") {\n",
       "            fig.imageObj.src = evt.data;\n",
       "            fig.updated_canvas_event();\n",
       "            fig.waiting = false;\n",
       "            return;\n",
       "        }\n",
       "\n",
       "        var msg = JSON.parse(evt.data);\n",
       "        var msg_type = msg['type'];\n",
       "\n",
       "        // Call the  \"handle_{type}\" callback, which takes\n",
       "        // the figure and JSON message as its only arguments.\n",
       "        try {\n",
       "            var callback = fig[\"handle_\" + msg_type];\n",
       "        } catch (e) {\n",
       "            console.log(\"No handler for the '\" + msg_type + \"' message type: \", msg);\n",
       "            return;\n",
       "        }\n",
       "\n",
       "        if (callback) {\n",
       "            try {\n",
       "                // console.log(\"Handling '\" + msg_type + \"' message: \", msg);\n",
       "                callback(fig, msg);\n",
       "            } catch (e) {\n",
       "                console.log(\"Exception inside the 'handler_\" + msg_type + \"' callback:\", e, e.stack, msg);\n",
       "            }\n",
       "        }\n",
       "    };\n",
       "}\n",
       "\n",
       "// from http://stackoverflow.com/questions/1114465/getting-mouse-location-in-canvas\n",
       "mpl.findpos = function(e) {\n",
       "    //this section is from http://www.quirksmode.org/js/events_properties.html\n",
       "    var targ;\n",
       "    if (!e)\n",
       "        e = window.event;\n",
       "    if (e.target)\n",
       "        targ = e.target;\n",
       "    else if (e.srcElement)\n",
       "        targ = e.srcElement;\n",
       "    if (targ.nodeType == 3) // defeat Safari bug\n",
       "        targ = targ.parentNode;\n",
       "\n",
       "    // jQuery normalizes the pageX and pageY\n",
       "    // pageX,Y are the mouse positions relative to the document\n",
       "    // offset() returns the position of the element relative to the document\n",
       "    var x = e.pageX - $(targ).offset().left;\n",
       "    var y = e.pageY - $(targ).offset().top;\n",
       "\n",
       "    return {\"x\": x, \"y\": y};\n",
       "};\n",
       "\n",
       "/*\n",
       " * return a copy of an object with only non-object keys\n",
       " * we need this to avoid circular references\n",
       " * http://stackoverflow.com/a/24161582/3208463\n",
       " */\n",
       "function simpleKeys (original) {\n",
       "  return Object.keys(original).reduce(function (obj, key) {\n",
       "    if (typeof original[key] !== 'object')\n",
       "        obj[key] = original[key]\n",
       "    return obj;\n",
       "  }, {});\n",
       "}\n",
       "\n",
       "mpl.figure.prototype.mouse_event = function(event, name) {\n",
       "    var canvas_pos = mpl.findpos(event)\n",
       "\n",
       "    if (name === 'button_press')\n",
       "    {\n",
       "        this.canvas.focus();\n",
       "        this.canvas_div.focus();\n",
       "    }\n",
       "\n",
       "    var x = canvas_pos.x * mpl.ratio;\n",
       "    var y = canvas_pos.y * mpl.ratio;\n",
       "\n",
       "    this.send_message(name, {x: x, y: y, button: event.button,\n",
       "                             step: event.step,\n",
       "                             guiEvent: simpleKeys(event)});\n",
       "\n",
       "    /* This prevents the web browser from automatically changing to\n",
       "     * the text insertion cursor when the button is pressed.  We want\n",
       "     * to control all of the cursor setting manually through the\n",
       "     * 'cursor' event from matplotlib */\n",
       "    event.preventDefault();\n",
       "    return false;\n",
       "}\n",
       "\n",
       "mpl.figure.prototype._key_event_extra = function(event, name) {\n",
       "    // Handle any extra behaviour associated with a key event\n",
       "}\n",
       "\n",
       "mpl.figure.prototype.key_event = function(event, name) {\n",
       "\n",
       "    // Prevent repeat events\n",
       "    if (name == 'key_press')\n",
       "    {\n",
       "        if (event.which === this._key)\n",
       "            return;\n",
       "        else\n",
       "            this._key = event.which;\n",
       "    }\n",
       "    if (name == 'key_release')\n",
       "        this._key = null;\n",
       "\n",
       "    var value = '';\n",
       "    if (event.ctrlKey && event.which != 17)\n",
       "        value += \"ctrl+\";\n",
       "    if (event.altKey && event.which != 18)\n",
       "        value += \"alt+\";\n",
       "    if (event.shiftKey && event.which != 16)\n",
       "        value += \"shift+\";\n",
       "\n",
       "    value += 'k';\n",
       "    value += event.which.toString();\n",
       "\n",
       "    this._key_event_extra(event, name);\n",
       "\n",
       "    this.send_message(name, {key: value,\n",
       "                             guiEvent: simpleKeys(event)});\n",
       "    return false;\n",
       "}\n",
       "\n",
       "mpl.figure.prototype.toolbar_button_onclick = function(name) {\n",
       "    if (name == 'download') {\n",
       "        this.handle_save(this, null);\n",
       "    } else {\n",
       "        this.send_message(\"toolbar_button\", {name: name});\n",
       "    }\n",
       "};\n",
       "\n",
       "mpl.figure.prototype.toolbar_button_onmouseover = function(tooltip) {\n",
       "    this.message.textContent = tooltip;\n",
       "};\n",
       "mpl.toolbar_items = [[\"Home\", \"Reset original view\", \"fa fa-home icon-home\", \"home\"], [\"Back\", \"Back to  previous view\", \"fa fa-arrow-left icon-arrow-left\", \"back\"], [\"Forward\", \"Forward to next view\", \"fa fa-arrow-right icon-arrow-right\", \"forward\"], [\"\", \"\", \"\", \"\"], [\"Pan\", \"Pan axes with left mouse, zoom with right\", \"fa fa-arrows icon-move\", \"pan\"], [\"Zoom\", \"Zoom to rectangle\", \"fa fa-square-o icon-check-empty\", \"zoom\"], [\"\", \"\", \"\", \"\"], [\"Download\", \"Download plot\", \"fa fa-floppy-o icon-save\", \"download\"]];\n",
       "\n",
       "mpl.extensions = [\"eps\", \"jpeg\", \"pdf\", \"png\", \"ps\", \"raw\", \"svg\", \"tif\"];\n",
       "\n",
       "mpl.default_extension = \"png\";var comm_websocket_adapter = function(comm) {\n",
       "    // Create a \"websocket\"-like object which calls the given IPython comm\n",
       "    // object with the appropriate methods. Currently this is a non binary\n",
       "    // socket, so there is still some room for performance tuning.\n",
       "    var ws = {};\n",
       "\n",
       "    ws.close = function() {\n",
       "        comm.close()\n",
       "    };\n",
       "    ws.send = function(m) {\n",
       "        //console.log('sending', m);\n",
       "        comm.send(m);\n",
       "    };\n",
       "    // Register the callback with on_msg.\n",
       "    comm.on_msg(function(msg) {\n",
       "        //console.log('receiving', msg['content']['data'], msg);\n",
       "        // Pass the mpl event to the overriden (by mpl) onmessage function.\n",
       "        ws.onmessage(msg['content']['data'])\n",
       "    });\n",
       "    return ws;\n",
       "}\n",
       "\n",
       "mpl.mpl_figure_comm = function(comm, msg) {\n",
       "    // This is the function which gets called when the mpl process\n",
       "    // starts-up an IPython Comm through the \"matplotlib\" channel.\n",
       "\n",
       "    var id = msg.content.data.id;\n",
       "    // Get hold of the div created by the display call when the Comm\n",
       "    // socket was opened in Python.\n",
       "    var element = $(\"#\" + id);\n",
       "    var ws_proxy = comm_websocket_adapter(comm)\n",
       "\n",
       "    function ondownload(figure, format) {\n",
       "        window.open(figure.imageObj.src);\n",
       "    }\n",
       "\n",
       "    var fig = new mpl.figure(id, ws_proxy,\n",
       "                           ondownload,\n",
       "                           element.get(0));\n",
       "\n",
       "    // Call onopen now - mpl needs it, as it is assuming we've passed it a real\n",
       "    // web socket which is closed, not our websocket->open comm proxy.\n",
       "    ws_proxy.onopen();\n",
       "\n",
       "    fig.parent_element = element.get(0);\n",
       "    fig.cell_info = mpl.find_output_cell(\"<div id='\" + id + \"'></div>\");\n",
       "    if (!fig.cell_info) {\n",
       "        console.error(\"Failed to find cell for figure\", id, fig);\n",
       "        return;\n",
       "    }\n",
       "\n",
       "    var output_index = fig.cell_info[2]\n",
       "    var cell = fig.cell_info[0];\n",
       "\n",
       "};\n",
       "\n",
       "mpl.figure.prototype.handle_close = function(fig, msg) {\n",
       "    var width = fig.canvas.width/mpl.ratio\n",
       "    fig.root.unbind('remove')\n",
       "\n",
       "    // Update the output cell to use the data from the current canvas.\n",
       "    fig.push_to_output();\n",
       "    var dataURL = fig.canvas.toDataURL();\n",
       "    // Re-enable the keyboard manager in IPython - without this line, in FF,\n",
       "    // the notebook keyboard shortcuts fail.\n",
       "    IPython.keyboard_manager.enable()\n",
       "    $(fig.parent_element).html('<img src=\"' + dataURL + '\" width=\"' + width + '\">');\n",
       "    fig.close_ws(fig, msg);\n",
       "}\n",
       "\n",
       "mpl.figure.prototype.close_ws = function(fig, msg){\n",
       "    fig.send_message('closing', msg);\n",
       "    // fig.ws.close()\n",
       "}\n",
       "\n",
       "mpl.figure.prototype.push_to_output = function(remove_interactive) {\n",
       "    // Turn the data on the canvas into data in the output cell.\n",
       "    var width = this.canvas.width/mpl.ratio\n",
       "    var dataURL = this.canvas.toDataURL();\n",
       "    this.cell_info[1]['text/html'] = '<img src=\"' + dataURL + '\" width=\"' + width + '\">';\n",
       "}\n",
       "\n",
       "mpl.figure.prototype.updated_canvas_event = function() {\n",
       "    // Tell IPython that the notebook contents must change.\n",
       "    IPython.notebook.set_dirty(true);\n",
       "    this.send_message(\"ack\", {});\n",
       "    var fig = this;\n",
       "    // Wait a second, then push the new image to the DOM so\n",
       "    // that it is saved nicely (might be nice to debounce this).\n",
       "    setTimeout(function () { fig.push_to_output() }, 1000);\n",
       "}\n",
       "\n",
       "mpl.figure.prototype._init_toolbar = function() {\n",
       "    var fig = this;\n",
       "\n",
       "    var nav_element = $('<div/>')\n",
       "    nav_element.attr('style', 'width: 100%');\n",
       "    this.root.append(nav_element);\n",
       "\n",
       "    // Define a callback function for later on.\n",
       "    function toolbar_event(event) {\n",
       "        return fig.toolbar_button_onclick(event['data']);\n",
       "    }\n",
       "    function toolbar_mouse_event(event) {\n",
       "        return fig.toolbar_button_onmouseover(event['data']);\n",
       "    }\n",
       "\n",
       "    for(var toolbar_ind in mpl.toolbar_items){\n",
       "        var name = mpl.toolbar_items[toolbar_ind][0];\n",
       "        var tooltip = mpl.toolbar_items[toolbar_ind][1];\n",
       "        var image = mpl.toolbar_items[toolbar_ind][2];\n",
       "        var method_name = mpl.toolbar_items[toolbar_ind][3];\n",
       "\n",
       "        if (!name) { continue; };\n",
       "\n",
       "        var button = $('<button class=\"btn btn-default\" href=\"#\" title=\"' + name + '\"><i class=\"fa ' + image + ' fa-lg\"></i></button>');\n",
       "        button.click(method_name, toolbar_event);\n",
       "        button.mouseover(tooltip, toolbar_mouse_event);\n",
       "        nav_element.append(button);\n",
       "    }\n",
       "\n",
       "    // Add the status bar.\n",
       "    var status_bar = $('<span class=\"mpl-message\" style=\"text-align:right; float: right;\"/>');\n",
       "    nav_element.append(status_bar);\n",
       "    this.message = status_bar[0];\n",
       "\n",
       "    // Add the close button to the window.\n",
       "    var buttongrp = $('<div class=\"btn-group inline pull-right\"></div>');\n",
       "    var button = $('<button class=\"btn btn-mini btn-primary\" href=\"#\" title=\"Stop Interaction\"><i class=\"fa fa-power-off icon-remove icon-large\"></i></button>');\n",
       "    button.click(function (evt) { fig.handle_close(fig, {}); } );\n",
       "    button.mouseover('Stop Interaction', toolbar_mouse_event);\n",
       "    buttongrp.append(button);\n",
       "    var titlebar = this.root.find($('.ui-dialog-titlebar'));\n",
       "    titlebar.prepend(buttongrp);\n",
       "}\n",
       "\n",
       "mpl.figure.prototype._root_extra_style = function(el){\n",
       "    var fig = this\n",
       "    el.on(\"remove\", function(){\n",
       "\tfig.close_ws(fig, {});\n",
       "    });\n",
       "}\n",
       "\n",
       "mpl.figure.prototype._canvas_extra_style = function(el){\n",
       "    // this is important to make the div 'focusable\n",
       "    el.attr('tabindex', 0)\n",
       "    // reach out to IPython and tell the keyboard manager to turn it's self\n",
       "    // off when our div gets focus\n",
       "\n",
       "    // location in version 3\n",
       "    if (IPython.notebook.keyboard_manager) {\n",
       "        IPython.notebook.keyboard_manager.register_events(el);\n",
       "    }\n",
       "    else {\n",
       "        // location in version 2\n",
       "        IPython.keyboard_manager.register_events(el);\n",
       "    }\n",
       "\n",
       "}\n",
       "\n",
       "mpl.figure.prototype._key_event_extra = function(event, name) {\n",
       "    var manager = IPython.notebook.keyboard_manager;\n",
       "    if (!manager)\n",
       "        manager = IPython.keyboard_manager;\n",
       "\n",
       "    // Check for shift+enter\n",
       "    if (event.shiftKey && event.which == 13) {\n",
       "        this.canvas_div.blur();\n",
       "        // select the cell after this one\n",
       "        var index = IPython.notebook.find_cell_index(this.cell_info[0]);\n",
       "        IPython.notebook.select(index + 1);\n",
       "    }\n",
       "}\n",
       "\n",
       "mpl.figure.prototype.handle_save = function(fig, msg) {\n",
       "    fig.ondownload(fig, null);\n",
       "}\n",
       "\n",
       "\n",
       "mpl.find_output_cell = function(html_output) {\n",
       "    // Return the cell and output element which can be found *uniquely* in the notebook.\n",
       "    // Note - this is a bit hacky, but it is done because the \"notebook_saving.Notebook\"\n",
       "    // IPython event is triggered only after the cells have been serialised, which for\n",
       "    // our purposes (turning an active figure into a static one), is too late.\n",
       "    var cells = IPython.notebook.get_cells();\n",
       "    var ncells = cells.length;\n",
       "    for (var i=0; i<ncells; i++) {\n",
       "        var cell = cells[i];\n",
       "        if (cell.cell_type === 'code'){\n",
       "            for (var j=0; j<cell.output_area.outputs.length; j++) {\n",
       "                var data = cell.output_area.outputs[j];\n",
       "                if (data.data) {\n",
       "                    // IPython >= 3 moved mimebundle to data attribute of output\n",
       "                    data = data.data;\n",
       "                }\n",
       "                if (data['text/html'] == html_output) {\n",
       "                    return [cell, data, j];\n",
       "                }\n",
       "            }\n",
       "        }\n",
       "    }\n",
       "}\n",
       "\n",
       "// Register the function which deals with the matplotlib target/channel.\n",
       "// The kernel may be null if the page has been refreshed.\n",
       "if (IPython.notebook.kernel != null) {\n",
       "    IPython.notebook.kernel.comm_manager.register_target('matplotlib', mpl.mpl_figure_comm);\n",
       "}\n"
      ],
      "text/plain": [
       "<IPython.core.display.Javascript object>"
      ]
     },
     "metadata": {},
     "output_type": "display_data"
    },
    {
     "data": {
      "text/html": [
       "<img src=\"data:image/png;base64,iVBORw0KGgoAAAANSUhEUgAAA+gAAAPoCAYAAABNo9TkAAAAAXNSR0IArs4c6QAAQABJREFUeAHsfQm8XEWV/unut+Vl30MWIGDIAgIJCUsCYRcEB2VzYYyAg4KjOKAjBnT0z6iA6IAiLoyKCAgooiMSQVkMBAKEJQRCFgJZyL7n5e1Ld//PV93VXV3v3u7b/Xq73afer17dqlvrd/ucW3Wr6isiMYKAICAICAKCgCAgCAgCgoAgIAgIAoKAICAICAKCgCAgCAgCgoAgIAgIAoKAICAICAKCgCAgCAgCgoAgIAgIAoKAICAICAKCgCAgCAgCgoAgIAgIAoKAICAICAKCgCAgCAgCgoAgIAgIAoKAICAICAKCgCAgCAgCgoAgIAgIAoKAICAICAKCgCAgCAgCgoAgIAgIAoKAICAICAKCgCAgCAgCgoAgIAgIAoKAICAICAKCgCAgCAgCgoAgIAgIAoKAICAICAKCgCAgCAgCgoAgIAgIAoKAICAICAKCgCAgCAgCgoAgIAgIAoKAICAICAKCgCAgCAgCgoAgIAgIAoKAICAICAKCgCAgCAgCgoAgIAgIAoKAICAICAKCgCAgCAgCgoAgIAgIAoKAICAICAKCgCAgCAgCgoAgIAgIAoKAICAICAKCgCAgCAgCgoAgIAgIAoKAICAICAKCgCAgCAgCgoAgIAgIAoKAICAICAKCgCAgCAgCgoAgIAgIAoKAICAICAKCgCAgCAgCgoAgIAgIAoKAICAICAKCgCAgCAgCgoAgIAgIAoKAICAICAKCgCAgCAgCgoAgIAgIAoKAICAICAKCgCAgCAgCgoAgIAgIAoKAICAICAKCgCAgCAgCgoAgIAgIAoKAICAICAKCgCAgCAgCgoAgIAgIAoKAICAICAKCgCAgCAgCgoAgIAgIAoKAICAICAKCgCAgCAgCgoAgkC0CAU4wiC1cMYKAIOBPBESO/fncpNaCgI2AyLKNiPgFAf8hIHLsv2cmNS4DBGrKoA7lUoWBXJEmNjRoEMbpYgSB6kUgwManrRc59umDk2oXBgGR5cLgKrkKAsVEQOS4mGhLWYJA4RDwKsvBwlVBchYEBAFBQBAQBAQBQUAQEAQEAUFAEBAEBAGvCFTKAD3EDf4O23Vs29m+x/a/2Pp1FpCrLkYQEAQEAUFAEBAEBAFBQBAQBAQBQaCaEKiUJe5f54f2BbaXsn2b7Uy2v2HbxPYOtmIEAUFAEBAEBAFBQBAQBAQBQUAQEAQEgbJGoFIG6LMZ5b+wXRBHez27n2J7bNwvjiAgCAgCgoAgIAgIAoKAICAICAKCgCBQ1ghUyhL3xYzy6WwPi6N9FLsnsn087hdHEBAEBAFBQBAQBAQBQUAQEAQEAUFAEChrBCplBv0WRhnU66vYhtliT/o32P6OrZup5xuw2oD9WYwgIAj4CwGRY389L6mtIOCGgMiyGzISLgj4BwGRY/88K6lpGSNQKTPoH2eM/5XtJWxnsMVe9P+Mu+w4mus5FHvUtd3kGEsCBQFBoJwREDku56cjdRMEvCMgsuwdK4kpCJQrAiLH5fpkpF6+QqBSWM43MurfZ3ungf43+frTbKcYYeal01e+TZVwDnpk+24KL3mLQkdMouDEcWab5VoQ8ISA13MaPWVW2EgVK8eFha3ycu+JRKkmmHyl2f7Ka7G3Fokse8NJYlUXArZ+sP3lhobIcbk9EalPtgjYMmb7s83Pr/G9ynKlLHFv5AfVYz0sLHVPt0Kgk+/DVpSJtrRR14/vJ+ropPCLy6j+a5dTYChW/4sRBCoSgYqU44p8UgVsVDQapZe3dNO9y9tp7b4eOmRIDX3miH40e1wt8cuwgCVL1nlEQGQ5j2BKVu4IiL5wxyYPd0SO8wBipWUhMpf9E003gM0+t9Kl+CsXjRnzc9kezPZ8tl9h+2e2VWV6nn9dDc5Vo3mQrvxVhYA0VhAQBKoJAXyFX7y5m+YvbKa3d/VQO3+qhQs/wnFfjCAgCAgCQED0hfwOBIHiIiAylxvelTJAv5qb/0e2P2O7ku0P2d7F9r/YVpWJvAGePF46wMvbYSLL1xC+XIkRBAQBQaASEcCydsyc21oOfoSby94rsf3SJkFAEPCOgOgL71hJTEEgHwiIzOWGYqUM0Ju5+dewPYhtP7aHssWMehfbqjHRvfspumMP8ZpOqr3gDOayD1F0516K7tpXNRhIQwUBQaD6EMCydifjFu4UV8IEAUGgOhBw0wtu4dWBirRSECgcAm6y5RZeuJr4J+dKGaD7B/EC1jS8ZoPKPXDgARQYMpAC40crf3Tj1gKWKlkLAoKAIFBaBLDn3Mm4hTvFlTBBQBCoDgTc9IJbeHWgIq0UBAqHgJtsuYUXrib+yVkG6P55VhlrGt24TcXRzO3BCWOUPxIPz5iBRBAEBAFBwGcIYH8bCOFsKjj4ES570H32QKW6gkABERB9UUBwJWtBwAEBkTkHUDwEyQDdA0h+iRLZtF1VNRifOZcBul+enNRTEBAEckUA+9vA1n7LKQPp8BE11I8n0+HCj3DZg54rspJOEKg8BERfVN4zlRaVNwIic7k9H+d1gbnlJalKiEA0HKHolh2qBnppe2DsSOWPbttVwppJ0YKAICAIFBYBHKV23NhamjO+LlEQvtrLEWsJOORCEBAE4giIvpCfgiBQXARE5rLHW2bQs8esLFNEd+8l6maipDo+93fEMFXHwIihsbq2dRDORxcjCAgCgkClImDPlNv+Sm23tEsQEASyR8DWD7Y/+xwlhSAgCKRDwJYx258ubTXekwF6hTx1sLXDBEYOpQAv+VTX9TybxGRxMNGdzO4uRhAQBCoaAXu/te3XjbfDbb+OB9e+Z/vNuKW8tutl+0tZNylbEBAEiouALf+2P1Nt7Pjwh9maxo5j3pNrQUAQSEXAlhfbnxrbve9hp7P9dj5+9csSd78+OaveegAeGBmbPde3g6OGU2RfM0X4+LXgxPE6WFxBQBCoMASi0Si9vKVbnf2No0vAjgqSNOzDNpd6e40HeLKJW0o4/VLPUmIkZQsC1YJAX/VBuvS/WNpKj6zucNWv1YKxtFMQyAaBdDJl9k90nk7x/2t2fxo3MOSpn6Pz8bMrM+h+fnpG3aM7kjPoRjAFRsUG7HqG3bwn14KAIFAZCOAL8uLN3TR/YTO9vauH2nm3C1z4Ea6/MHuNB1SyiVtKFP1Sz1JiJGULAtWCQF/1Qbr0L7AuPe8DDdQZdtav1YKxtFMQyAaBdDJl9k90nk7xV+/poZH9Q576OTofv7syQPf7E4zXX8+gB60Z9MCwQSpGdN/+CmmpNEMQEARsBLCX697l7ZS6AJNnwDkiwvVeL6/xkH82ce36FNPvl3oWExMpSxCoVgT6qg/Spb+PdelYnsE7alRs8amtX6sVc2m3IJAOgXQyZfZPdB5O8c8/rJ7qQ976OTofv7syQPf7E4zXP2LsQTebFBgSH6DvbTaD5VoQEAQqDAEsa3cydrjt12mcwp3CEN8tXOdVbNetPm7hxa6flCcICALFQ8BN7t3C7Zq5xdPhw/slu846zM5D/IKAIJBEwE1OvIaPGxBSmXmNnyzZv1dJLePfNlR9zaOdXUT7WxQOCeb2OCqJAbrMoFf970QAqGwEsOfcydjhtl+ncQp3CkN8t3CdV7Fdt/q4hRe7flKeICAIFA8BN7l3C9c10yRwbvF0+O72iE5SdrowUTG5EATKCAEtO3aVvIZvbuF9JWy8xrfL8aNfBuh+fGpWnaO7YvvPqX8/CrA1TWBojMWdmpoJZ6WLEQQEgcpDAHu2QAgXO78h2T74EY77MF7jZRtXZV6if9m0qURVlGIFAUGgSAjkqg9ASvUSk2x2hd116TzWpVuaw7RsR2y1kq1fi9REKUYQ8BUCmWSytTtCVz3RRGc+tFu5bey3+zN/fqeTuR/cZdPs5/gKnDSVlQF6GnD8cksTwNkM7qr+AwcQhfgxo4Men2X3S7uknoKAIOANAezZAlv7LacMpMNH1FA/nkyHCz/CcR/GazzERQqkvdnKE37FDI9IZWCyaVMZVFeqIAgIAgVEIBd9gAGEJtl8eFWHqy6dw/rw0Xc7eC+ss34tYLMka0HAtwhkksmbFrfS8ji5Ldzvsd/uz0weVkM7W8O9wp36Ob4Fyqp4rNdmBVapF5u1m9jQoEGxfdt+waHnycXU8/jzFJx1BNV96pxe1e787l0U3dNEdVdfIket9UJHApwQ4GMv/KobfCvHTs8h2zB0NPEy1Mb2u4W7xcORQudNaqCx8f1fSI8ZJHRSr5reX2dXFq7dBttfFpUsQSVElksAuhRZcgRs+bf9dgWv5Bk8nHwB84XpjXTRlAZFSqXjIT00a8iDftVp8umKHOcTTcmrFAjYMgj/r5a10f1vd/SqzqcPb6Arjmp07M845WP2e3plVmYBXmXZedNimTVGqpMegeieGEN7cNhg54hDeczCA/ToXo430TmKhAoCgoD/EbBfUrZft9AOt/06Hs77fWBFh2ItBjES9l5ieSdmkMptgG63wfbrNokrCAgClY+ALf+230bAJJ/6+dI2+iUPHMAcfdCgEH3ssH4pAwWdNlOeOp64goAgEFvBZ+IA+UEfw8kg3O5jaHnTrk5n+3W4311Z4u73J8j1TxyhhoG4gwkMie1DjwqTuwM6EiQICAJuCICQhT9y09LtPfTU+i7lwu9G1OKWj4QLAoKAIFDOCNg6rYcpex5e1UmPr2USXjGCgCBQEARsudOFuIXr+9XgygC9Ap6ymhnndmjGdrtJgfjAPTGQtyOIXxAQBAQBCwEsI7OJWhAFyzwrkZDFar54BQFBoEoQEF1XJQ9amllWCIjcpX8cMkBPj0/Z3wXzaHRf7IzzBGO7VWs9cNcDeeu2eAUBQUAQ6IUAlo3ZRC2VTMjSCwAJEAQEgapAQHRdVTxmaWSZISByl/6ByB709PiU/9023r/R1a3qGRgcP1LNqnViBh170MUIAoKAIOARAXAFHje2luaMr0ukwFdvhIsRBAQBQaBSEBBdVylPUtrhJwRE7tyflsygu2PjizuJWfEBjRSoq3Wsc2IPenym3TGSBAoCgoAg4ICATcBi+x2SSJAgIAgIAr5DwNZttt93DZIKCwI+QMCWM9vvgyYUpIoyQC8IrMXLVO8r17PkTiUHBvFZ6DDtHRTtiR0jEguQ/4KAIFCNCGAW3DS237wn14KAICAI+A0BW6fZfr+1R+orCPgFAVvWbL9f2lHqesoS91I/gT6Wr5nZ9T5zx+waG3B4J1GYaUmb24hc2N4d00qgICAIVBQC4K14eUs33bu8nXC0ENhSQfqG/eaydL2iHrU0RhCoSgREx1XlY5dGlwECInv5ewgyg54/LEuSU3IG3Xn/OSqlOt0D+6v6Rfe3lKSeUqggIAiUHgF8yV68uZvmL2ymt3f1UDsvqIELP8LlS3fpn5HUQBAQBHJHQHRc7thJSkGgLwiI7PUFvd5pZYDeGxNfheg96OmWuKNBepl7tLnVV+2TygoCgkD+EMDeLsycpy5wJ+VHuOz9yh/WkpMgIAgUHwHRccXHXEoUBICAyF5+fwcyQM8vnkXPLTGDPmRQ2rIDMoOeFh+5KQhUCwJY1u5k3MKd4kqYICAICALlioCbLnMLL9d2SL0EAb8h4CZjbuF+a18x6ysD9GKiXYCyPM+gJwboMoNegMcgWQoCvkEAe86djFu4U1wJEwQEAUGgXBFw02Vu4eXaDqmXIOA3BNxkzC3cb+0rZn1lgF5MtPNcVjQcJorvKc+0xJ0Gxfag034ZoOf5MUh2goBvEMAeMRDC2aeYw49wew+67fdNQ6WigoAgUJUIZKPjRL9V5U9EGp0nBGz5yUb28lSFis7GeSqloptcOY2LNjHhGzaT1oSI+jembVggPkCXPehpYZKbgkBFI4A9YmBrv+WUgY4s7qt299CPXm0TdveK/hVI4wSBykUgk4676402emR1h5xeUbk/AWlZERBwYmu/ZmZj2v6FnBKT3YORAXp2eJVX7L37VX0CQwZSgDve6YyQxKVDR+4JAtWDAF6Sx42tpTnj6xKNxpdvDM4//8T+BIGcZnfHYB7x0fEVIwgIAoJAuSPgpONauyP0zeda6NmNXar6ot/K/SlK/coVAfQXcFQrTn/RhLOQJ/Qf/vfsQY79CxmcZ/80ZYl79piVTYrE/vMMBHGosJDElc1jk4oIAiVHwB5sw4+Zc/2y1RWEX9jdNRriCgKCgF8QsHXcV59uTgzOdRtEv2kkxBUEvCMA2XI7DQb9CFv2bL/3kqo7psyg+/j5awZ3GpqewR1N1DPoxMesYWmKfM3y8YOXqgsCBUDAjWV1fZMz63sBqiBZCgKCgCBQEATWuegxN71XkEpIpoJAhSAAucGiuqNG1dDwfkHa3R6hZTt61Pa4CmliyZshA/SSP4LcK5CcQR+YOZOB8T3q4QhRWwfvWe+XOY3EEAQEgapBACyrWKZmmrkT6ujaWan8Flje5vZF3L5n+828vV7bedh+r/lIPEFAEKgcBGw9oP3a1S3V/vv/ZQjd/kobPRdf4q7vC7u0RkLcakdAy4rGwfbrcLgXTm6g8yY10NgBzIEVN1tawvToGh5flKGx22L7y7DKJAP0cnwqHusU3dusYmZkcOdYgRp+1I0NanAOoriADNA9oizRBIHKRwAvK7C4m3vKMDj/7twB9OLmbrV3E1/M0ZlFPBDN2atwnEhj3OJ6RbQQeXotW+IJAoJAeSKQTi+s2ZNKdDkvrq92tUWUPsM+dD1IN0+vcPvoWJ4ISK0EgfwikE6m7Hd9mPsLVx7dSC9w3+DG51sSpLKQNYTjfqiMOGuyaVt+Ue1bbrIHvW/4lTS1XuLuZYCOiso+9JI+LilcEChbBNA51ezuh4+oof61pGbOMTjHoB0z6+08ua6JlRZzOAb12uAaYV7i6jSZ3ELkmalMuS8ICALljUAmvTC4PkgrmfBS66vrWX9BNyEc+uwaXhEE/QY9BwJM6D0ZnJf3M5faFRaBTDKF+6aBDzIF2TL7BlrWUmObKYt/nW3bil9D9xJlgO6OTdnfSQzQPZDEoTH6qDU5C73sH61UUBAoOgL4Sg629rvOHkx//8RwGtkYciWCsYnj0MF1I42x43ptWCHy9Fq2xBMEBIHyRCCTXhg7MKT2xeraY7Bw3/J2QvhLW7poFOs16DfoOeg7e3ZQpxNXEKgWBDLJFO6bJtv4ZtpiX/uprjY2MkC3EfGJP9reSdQROy4Ex6x5MgMHqGhyFrontCSSIFB1CNgvYjcCJadwpzAA6BbuBVy3tG7hXvKUOIKAIOBvBNzkX4eDtMo0OryzJ3Vuz9Z3Zhq5FgSqCQEtI3ab8xVu51tMf7ZtKGbd0pWVqsXSxZR7ZYWAJogD2VugPnmecbpK6hn06P6WdNHkniAgCAgCCgE3AiWncKcwZOIW7gVit7Ru4V7ylDiCgCDgbwTc5F+Hg1HaNDq8viZ1JtCMI9eCQDUjoGXExiBf4Xa+pt9eQm/7zbi5XGfbhlzKKEQaGaAXAtUi5Jlc3u5x9pzrlBigM0mcGEFAEBAE0iGAlyRI3uwurUmspNNnE1enyeQWIs9MZcp9QUAQKG8EMumFLc1hddyTbgX0FcirEH782LoU7gwdR1xBoJoRyCRTuG+abOObae1rTeB25RNNdOZDuwnuy1u61XHQdtxc/Pmsay7l9yWNDND7gl4J0+oZdK8EcaiqJomTPeglfHBStCDgEwTQsQWB0s1MpARCpX58EARc+BWLu9EOLBU1SeZ03L6QMBUiT6PKcikICAI+RMBNL2i91NQZoanDe+srhAshnA8fuFS54Ai4yZTb+zvb+G4NwOA53+Sydln5qqudbzH8csxaMVAuQBmJAbpHgjhVhUGyB70Aj0KyFAQqEgEck/KLpa3qrFMQKmmDmai73mijq6b310HK1SRzc8Ynt9zgBdwXEqZC5JlSafEIAoKA7xBw0gvQSw+s6KBTD6pTBHC6UdBBQSbAnDSspk+6SOcnriBQiQg4yVS693e28Z0ww+A5Hbms2ZdwSu81LB919VpWPuNVygB9PYNykAMwP+OwLzqE+z4oscR96CDPbdEz6NH9ssTdM2gSURCoYgQeWd2hOr1HjaohEC9hb+eyHT1UH6JeA3TAhBeuaWy/ec/rtZ2H7feaj8QTBASBykFA64GbFjfT1taYXsJKXHw8hL4aOyBI158wMKGTdPzKQUBaIgjkFwFbRmy/XZp93/bb8Z38xSJws+tm+53qVuqwShmgz2IgucuYMEfw1ZNsH06EVNhFdG+zalFWS9zjM+jU3kHR7h4K1FbK46+whyvNEQTKBAGQq+Cc06Xb+RB0w7iRroQjPRQKJvWK7TeykEtBQBCoIARsWbf9hWrqhv0RpaN0/hikQ191hZN6SN8TVxCoFgRs+bP95YKD7mPY9XHrY9jxKtlfKXvQd/JD2mbYj/D1e2yfZVuRJjGD7vWINaDQr56nuGLfMeSotYr8WUijBIG8IYDlbV5J4lAoyF5e37GYvr7oUvrUgjnKhR/hYgQBQaByESiV7Geroyr3CUjLBIEkAqWSx2QNvF2J/KbHqVIG6GYrsQHy02zvZluRPcNomI8QaYrPoGexBx37MGhgfN+oLHM3fzNyLQgIAhYCWALmlfgNX+df3b6Ibl5yLb2z9y3qCLcrF36E9/B9MYKAIFB5CJRS9rPRUZWHvLRIEOiNQCnlsXdt0oeI/GbAJ/1tX979GNd6CNt7MtSep5MJVhvv55XpFKVycY451nEF+fvKoPiA22NdArzMHQRzcha6R8AkWrkj4F85LndkuX5eyVWwrP2Pa37NX0RTv4nC/8iau2nWmLk+aK1UscQIiCyX+AHkUnypZd+rjsqlbZImJwREjnOCLT+JSi2P2bZC5NcdsUqcQf83bu7jbLe4N1vduZ7/Nxl2U4b4ZXPbXN4ewCA9C5MgipOz0LNATaKWMQK+leMyxjSlajaZiu3Xkd/f/y4F+e/w4cfQiePOUi78GzhcjCDgAQGRZQ8glWMUyL6TeX//WqfgvIfZOsn2571AyTAdAiLH6dApwj03eSzXd7Etr7a/CJCVZRGVxqJxEKN8BtsLPKB9M8e5zYiHGXRfDNL1EWuUzf7zeEMD8Rl3mUE3nrxc+hkB38qxn0HH3jHzJQr/90+6l9nd+9Po/mMSTdveuo3+saFiuToT7ZSLvCAgspwXGIufyYGDPqC2tJglH3/AaXTFEdeZQRSOhHlNTbCX7rB1SV/8KQWKpxQIiByXAnWjTCd5xO2DWE5hbMI4268iFfGfU3/C1AF2VbKNb6f3i7/SBuiXM/A72C7w8AA6OQ6s70x0X/YM7rqRWOKujOxB15CI628EfCvHfoUdBDQvb+lW55fiiBSwrYJMbva4Q2gzn0V85RNNpMPnHTGUPj31S6pjHgqaB234tfVS7wIiILJcQHALlTU69xdN+jfFP6G3uGBw/rWZt9Jr25+nW1/9GmFG78MTP0Hzpl5Nizc76Y5atZ3GXbd4u1+oNkq+WSEgcpwVXPmN7CSPKCHAf1cc8bUEmSu2pEEuMZiH/M4cfZKSwfzWJnNumWTeziHb+HZ6P/lTD631U8171xVrvdexfZDt/N63M4bgQPEmNjRokPezxTPmWoAI3Y88SeEXllLojOOp9pzs9nb2vLiMeh7+OwWnHUJ1V1xUgNpJlpWAAO8L8qtu8I0c+/F3gi/XGJzPX9icstscP5ZbThlIM8fU0ll/2MOkcLHW6fDjxtamzJr5se1+rbPIsl+fnH/qjU4zyCDBN4Fl7T857Y+0tmlVYtCOrS4/O/0xWrN3KF2/sMVRd0BHpNMtXu6nm3XzD5rONRU5dsZFQnsjYMojlrVj5vzCSZ+l6aNm01I+WQXkrfpjGlJj8H79sber+zXGMam9c85vSKb+hN1vyDZ+fmubv9y8ynK5zKCDeX0UW3tD9ftZQHIGxz2Q7d1ZpPFlVL3EPdCnJe6tvmy7VFoQEARKhwA6wPcub0/pYKM2oIZD+JzxdXT+YfX08KrY4iQzvHS1lpIFAUGgkAjge+4M7vybZJCYOdeDgKnDp6utL99a1JRWd7y0patP9wvZRslbEPALAk7yiO0lWMVWTmSuXvoTJubZxjfT+vG61AP0SQwaBtSzLfAw8YK+XTZrIv/B8f0662c1P703ugfcdtzYYSCrz87oJe5RWeKeHXASWxAQBBQCWL7uZHT40aNqaW9HlHa3R2jZjh613N0pvoQJAoJA5SAA9mjT9K8ZqMgi93bsouENmH8hV12gdUdnD7p9vU2m++ubnHVS75wkRBCoDgRsedRbzMqNQE7Ltv1U0oXzPAEdNaqGhvcLVnQ/I1Wj2ggV3n8PFwHN+hG2W9k6a2e+ISaGAJauJGbQh2a/FF+zuFNLK0UjEcqWBV6egyAgCPgfAZsUxvabLbQJWbDn/O1dvTvEF05u4KXtUTr5wHplkceWljA9uqbDzE6uBQFBoMIRgD751gl3Jlq5p32nunbTHQiHqa9xnmNJd3/uhDq6dlajSq//2TpLh4srCFQLAvY7XfszEcgVG59MOsGuD/oZ501qoLEDkvO3ldrPKPUA/WgG/xi2q+yHIH4XBNq4s9vZpW4Gchig00A+Nx3vQO5IU2s7Kb9LURIsCAgClYcAPvK9zvvQvJDEIK4mhHt/fw/95cJhihDO3oN+MneSrzy6sRcB1Dwmj0N4mPVNCJ+9xQgCgkBFI+CkX7D/dUb9XJp3RIPjHnSQTGJQffzYOvq/dzpTZmqgNaBHusK972Nw/t25A+hFJp775nMtCXLKGGlljFiuosGWxgkCDgg4yaAmgvscn6xw3aLPsIwl50OxBx0y2sMf1oq9Bx2yavcnIPNaJ5i8EuhHoD/xAsv7jc8n5b1S+xml7jG9ws/hWrbPO/zGih3kC3KpyKZt1HXbvWpg3XDjF3PCqONb/GW7pY3qvnoZBcfFlp7llJEkqlgEvJJYlCEAvpDjUuGGr+gYnHshiUGH2SZt+sL0RrpkWkPKQPxQnv267fSBtHR7j+OLFuRxNtlLqdpfjeWKLFfjUy9Nm9PpFxzD+IEh01J0B2bPzME0BhY2yzs637PH1dKDKzroU6x7MBgH3wWWtd//L0PonT3hqtA7Isel+U37rdR0MqiJ4EAUB0JHk0CuFCzuGHDjuz0G3PexTGNZO3QCZH4OyzzfTvmw79QnwfPBQNZP/QyvslyKGXRzXfbXGddb2d7A9i223WxNs9/0yDXvAdgTgySn2fM4gFjmHuUBujoLXQbo8rMSBKoGAexL80oS40TI8vOlbQqri6c0KEI4E7hM5HFmXLkWBASBykMgnX759fIf0C0n3aM+1oFMUht0urnDqrxw8THPvL+Fj27E7PhzG7vU1hosZ7/r7ME6ubqXnAuMBcOvSSsTEeVCEKgCBNLJIAblIHKcMWpOCqEjZs61DBYTIqyq+8XSVrVk3ZRpyPxdb7TRVdN5xa9hnPokuF2p8l6KAfq+OJ4admjmp7Un7iIMmCc3GVgRqtWbJIhLvqCyxQJEcdGtOynaLEzu2WIn8QUBvyOQDUkMvmjbhCx4cT6woo0WXDw8BQo3UhchcEqBSTyCQEUjMH7AwVQbrKOVu5dShP+0wfFrMOaS1XT+mxY309bWGNEk4k0fXUN13CP84cst9P1Tk/0fN/3ipo+QlxhBoJIRyPSO14RxGoNiLmvXZWr3kdUd9NDKDnX6yzjeV76ZeWv+zNtcavlML3uAjjROfZJKJaMtxQD9VP1gxM0egQRB3LDkCyrbXAKD4l+lhMk9W+gkviBQNghg5sns7Np+t4pmQxLjRMgCdvaaoD1nRWppmk0eJwRObk9BwgUBfyGgSaZ0rd38V0+/UUXZ3rqZ7llxO7209Rk6/oDT6Are+2oaHPvEC1xdddiG/RE1Yw4d8qVjGhOkUNBzpsEy99tfaVMz7Ga4JpYzw+RaEKgGBDK9491k1w0bt/h2n8P2u+Vnhjv1MS6e0s+VXNYpvkkSZ/Pd6DppV5dt+3V4ObmlGKA/awBwIF9vZJuqcWNbCiYY8eQyjkBiBj0XgjiNIoji2Kgl7jpMXEFAEPANAiZ5G74o23s53RqCFy3IYpz2oNskMW6ELHrPKJam4eu33oNuk70IgZPbU5BwQcBfCKQjncLSWKf70Cdfm3kr/eW9e+mjh36GXtv+POFsdMzufXjiJ2je1Kt77TfXugVjcFz/7b1O+g6TwGFfOk6D+DwTRL20JXW/KuKBKE4vgweyWIKJcD90wv31S5DaljsC6d7xVxzxNUdZ1QRyTsvcnWQbRHOHMp+EJpDNpg9i4ufWx3AjffMSH/oB21t0na6Z2UhThtf0ua5mvYt1DT1WShPmwg9gu8OqBNZOIqyYS9x9QS7V+YPfqOXptZ+7iEJTD7Fg8+btee416vm/pyl41GSqu/Sj3hJJrKpCgBV1qXVDrnj7Qo5zbRzSodNpk7chHA/MC1EKXrivbl+UkSQmXTk3M/HbIYND9MlH9ykiF7C4o5OsCZ6qjcAJ+JerEVku1yfjj3qhw5+JWBKkU04f/eYfexsdPfJ4Wrbz5cT9IM+a/+z0x2jN3qGOjO5ah4VYobXzueivM/nkN55tpgc/OoQ73WFO05wyo6P13qRhIZr313108OBU4jl/oJy5liLHmTGSGMQnpoR5W1qQXtn+HP1pzW8SRHAXTLpc7T13k1VNIGcud3eSfS2/77L8zl/Y4iiLXklh0/UxtB6wVwmm6/vMGFNLZ/9+D/GBD8pge95DrDfWsd5wYop3KqMYvyGvslyKGXSz/dCt9uw57g9gK4fnAgnDoGMd3dukQgJ5WOIelSXuBrpyKQj4A4G+EqXg28uMUbMzksSkKweMqyB1OWpUjWJvf5YJnLA3/YqjGlMInjCrZSt4+IXAyR+/NamlIJCOdAqdfZBOuRFPYoBw7JiTeYD/AuuBmCaYOnw6je4/hr61qCmjbmisDSh25yNZz+DcYxyt5KZPoI/+/okYLwY6/tBzYgSBakMA+8vvXXEHnXXQhYqUUbd/T/tO3k7inSQW6ZxkPxv51WW7uen6GE59BC/xoStwogwM+ieZ9IZJSOlWz1KFl2qAflu8wdC132EbowaOBWLW/Di2b8S88j+BQHsnf7bowxno8YySe9BbElnLhSAgCPgHASzfcjJu4XZcvHhNY341N8Pd8tPhw/sxk0vcYLm7Teqi4+k42nUL1/fFFQQEgfJBAMvSMXOGzvnQhhG0t2OXIoHrDMfmUTKRUnXF46FFSA/jpgPscPh1J9q+pzIy8nplaxfNOqAuZV+7jiOuIFAtCDy+7vf013fvp7MnXkxj+k+gba0bqbmria455rtqi4kTDjhyzcnYsp2t/DrlaYZlkmkzLq4zxTf7JPo6Uxq7jHLxp/bSiler6fGi8Inzg2xjo85YIK6Xsf1hzCv/NQJ6/zkNaKRAXa0Ozt4diAUKvHSBWdwxKy9fmrOHUFIIAqVEAHvObUI21KevxEhY0mYO3jOVA8I4bZzKzpRepxVXEBAEyhcB7BnHjNzo/uMSlQQJHJauw2QipaoLNSTSYXAP41U3IJ7WM5nSYAn8LGyaFCMIVAkC9jsbzXaSV8ygw2SSVRXJ+GfHz1Z+jawcLzPJtJ0oU3ytK5BOX2dKY5dRLv7k9Edxa3QqFwf7W7Yfjl/rsLPYfyXbNWzFGAgkGNz7QhDH+SVm0Lv42PlO89uIUZhcCgKCQFkigOWbIEAKWLWDXxMjWbc8eTUZzNcXXUr/uuBk6g6HOb8Gx3JA4oKzSnG8CUys7Aa1P14XVqh66vzFFQQEgcIjgD2tIHTb0PwuQTd8asEc5cJ/5kHns57oIhDCBSxNAX+MeLJb7X3V93H82vbWbTTPRbeYOkzrkDdZz4CpGXrHTe918n718QNDKTqo8OhICYJA6RAw39mQy/mLLiOsanGS13ebVrBsxEhitSzqmidlNXVlHgb/IJAz42v5desbmPKr83dztXy7yTTumyZT/NbuCEFXaIP+CfRGIfpLuoxCujYuhSyr3PMue3KpnmdfpZ6/PJMXcreOG36klsvXXfdZCo6JLTkr9wck9SseAl5JLIpXI88llb0ce25Jmoh4MWtCNizfwhdivIRmj6vNaUWMTQaD5az3nv1PaqwF8VsX7xnvSLCi6nKw5xzL2mNlN3DZdb3Kznc900Ait1wQEFl2AUaCPSFg6wadCJ12EEtNHXa00hMgnjRJqTA4nzn6JKUToAdMYspzeEb+01O/5EmHaR3y1s5uxeIOvQcODFvvbeYPhuN4gF6pKwJFjvUvT1wg4CSXeG//6kNP0Lv7ViRIGTVakNdbT7pXsa+bsnjQoA+oD2laVnV87dqyi/hggweLez76IFq+TeZ13cdwkuV08VFnu06axd0OT1eGbnuhXK+yXOoB+p9cAMBnE2xuwqaIB9iuZltoU/Yd++4/P03hRa9R6NRjqfZfTukTHp233k3Rbbuo9vMXU2jKxD7lJYkrDwGvCqQMW172cpwvzPA1GaQp2th+He7VxezYO3vfUtEPH34MfXfOL2nhxgU0e+xZVBdK7obqDkf4Vc9lh5KHbKQr275n+73WT+LlhoDIcm64SaokAqZuSIYSTR56pCKiemDlz+j0Az+asgQes3UmtwUGFOb2mUznoJvlmDrDvEYc7deuma6SrkWOK+lp5qcttlzq97YdrkvT8mrLoi2rOr523eLbMmf7dfpMrp3O9tvp7fum37xGOu3Xrs7L9uvwYrheZblUS9w1Bvv54jS2M9hiUA6L/ekIQ4/wE2yxH30O26o3+WBw1yAGhmAcw4DvwyMQIwgIAn5DwByco+62P9v2mGQwmgjmrjdvoksXnML73V+nnW1blfuZBXPp0idOT8k+Xdn2PdufkpF4BAFBoOwQMHWDWTlNLLW1bSP9+9MfpW++8Dn6ydL/p6KYg3MEmIPzmD/US2e56QYz3LxGPtqvXYSJEQSqAQFbLvV72w7XWGh5tWXRllUdX7tu8W2Zs/06fSbXTmf77fT2fdNvXiOd9mtX52X7dXg5uclpkdLUajMXixnyL7HVbEP4aPBjtqAY/yTbX7D9PtsT2Va1ie5uUu0P9HEPOjIJDBmo8orua1au/BMEBIHqQcD+Io6Wm2QwmgjmG8fdQVOGzUi85EY2HkD3fWQRrdrzuiNY9ldp2++YSAIFAUGgrBEwdYNZUSx3hYG+iPDf27tf4xkr5rZJY0ydYF4jSTb+THHTVEFuCQIVgYAtl/q9bYfrxmp5xeoVHMemjVN/QN9L52Yrg4WOn66ufrxX6gH65xg0DLz14BwY4vonbBezvZ7tnWwXsa1qg30X0d37FAaBkUP7jEVgaGyATjJA7zOWkoEg4CcEoEte5/OLcXYxvrQfNGgSffuEnyoymJuXXMvLmKLqCKWO7nY6fPiMXnu6Ynu3ZvAeuNSXPPJ9eUu3OuPc3h/KS7r8BJHUVRAQBOIIoPMOoiitGzQw2NN6waTL+QinTUpfIBxhMWK41OXtOo3WEXo/+UusL5z2k0Nf6LhOe1ORn+gajaq41YiAk1zGCNw2u8qrls2lxvsfg3nIt9sedDds08mn0/u+0PHd6unn8FIvccdZYVMcAESY/ryDveipVH4OCSo+iI9EI7Cu84srMHRwn5srS9z7DKFkIAj4DgG81EEQg8429pt3hNtp9d436Y6l31YvaJA+YZ9av9Ag3mPeoAbn8xc2qyPd2pkcFUe7wQ/ClSgT0miDL+MIc4uL+2IEAUHAfwhgeSs671o3NIQalY6Af9boufTkhj8zR0WDCpt/7G2xjj4P1G2jdcQNzzbTeZNiuuV6F92i47rpkzZmbEc+0Ee2XhJdYyMv/kpEwEkuJw09gs873+cqr5Dj9U2rU97/6AegP4B+AfaiezGZ5NOWwULH91JnP8Yp9Qz6fQzar9nexPaVOICz2L2B7b1x/8nsvh2/rlonumuvajuWtwdq9LeLPsAhS9z7AJ4kFQT8iQBe6pg5xyy5aV7a+gzdv/JOumTKF2jWmLmJW5i9So0Z+1qK8Dnj6xLxsJ/La9xEIrkQBAQBXyCAGbEZo2an6Ib9nXupqXMPzZt2tbJoCGbToUcQZhutI44cVUNjB4Toxudb0uqWl7Z0pbk/mJDP0u3JAQX0lK2X7DqIXxCoJASc5BKD7HThv1x+K8tV6lsd/kfW3J0i3+lw0rKcmotz3wD5FDp+urr6+V6pB+jXMnjb2V7HdnQcSPhvZ4t95zD/YPuEuqrif5Fd8eXtI/q+vB0wmnvQsfTEaUlKFcMtTRcEKhaBjfvXMgNnDZ098WIa038Cd6o30hPrHqa/rft9r441lqo7GadwhIFU/ijuOA/vF6Td7RF1TrpTXKc8JUwQEATKFwGbKOqqp87jM5fbaerw6QRyKux/xRJbzKY7DdDRMugC/WHPTS/ocJxrrvXJyMYgTRvB3VUeEexoCyuQoGNso9Pa4eIXBCoVAVsuNeGbW3gmAjmvOEHWtHx6ed+7yWa68Gzy91pvP8Ur9QAdmvZ7cRujFSeyacXf9xOghaprYgZ9xJC8FBEYHN+DjmXzbbyLoH+/vOQrmQgCgkB5IYDlZfiCrc2vP/QPJoip4450ciXOvGlY8r5Mna1qvthxxjmWkdoG4aZBGf95bH/64KhaNTum721pCdOja7BLSYwgIAj4EQGbQEr7Jww6RG2TATGcaTQRlRmmr6E38OEOJpNuOWJkDV12ZGOKPtG6DO6J42vpqfVdOutEnikB4hEEKhwBLY+6mbZfh2s3E4GcjpfJvXByg9qqgtUw2qR732eSd50H3HT9ibd2dGckkzTz8vN170+QpWsNBub24Lx0tSmzkpMD9DzNoNfx9v8BjaqVwuReZg9bqiMI5AkBTcxy5RNNdOZDu+nvazuooaaBXtkaJh0G95WtEUUIt6NtC+EM1U8vOFW9BEEIlxzaxyoFP8Ixk3XW73erfEDY9KGJ9dTUEUnJd+0+LufoRh7424vh8tRAyUYQEAQKhgD0BwgloRM+tWCOcuFH+BVHXKdI4czCTZI4MxzX6HRDb7y5o4fQkZ/nolsQ3hWO0r98oIFn3FP1FEjlIlz2mj09dPpB9fSF6bE+DPLXegnliBEEqgGBdPLp1H4M3kEIBzk1TTq5NePpa7zP8V635VO/7zt6InRVvM8Bt607omQ/tdSkzLbyfR0f/RHIN/oTTvkjHPfN/gv6H8Ci0kypB+hY1o596FvYYpoGM+qmZa8YIBBNLHHPzww68kwuc5fvIsBDjCBQSQigo2oSt/E7kE7hTq0ZZhMsDes3ltbuXUmt4SZ6bfs/afa4WrrllIF0OC8v7ceT5nDhP4HDf/RKG7XyAhyTOG5wfZCXuSaJm0ACFSOUqyRkpS2CQOUjgM68TSiZJJR6jiYOnkwghQOppEkcByIqvczWRAmreKBPbjp5oFpVg+ubLd0CP8KxvB16wyaR0/oEegb3L57SQAOZCkPrJaQ1VwuZ5cu1IFBJCKSXTzfCt4AikLPlNh25oxNmGAqnk0/0C1bE+wHLeQXe9xa3uvYllE7g+4iH/gj6D4MbYvKdTv7NfoYmrq20j3Op6xSdnkRhw+7h7A9k+x22W9lW3icQblRfDb4M5XsGHXXCAD26aTvlYwYddZR97H190pJeEMgfAjYxy/mH1VN9KBOZ22C1N/2xdQ/SLa/8J82f9UM6buypiX2jqB1mzr/5XAs9tzG5vBSKGwRNd509WO1B1+RNOlzvO81f6yQnQUAQKCQC2OriRCgZI5T6DRNKnUwfGDyNbjnpnkQ1NEFVIsC6QB/huLG1CX1yPF+faJBNbmkO091vttEVR/V3JZ3EsWzQMw+ujBFVPv7x4aoUdM6lD2IBLt6KRSC9fDoTvuHs83tX3EFnHXRhitymI3d0AtDuW+g4+n1v9wOe5b7CXW9ArhsTso80kFmE47424LDJRCJp56/LrbR+RqkH6CfyQzmJ7Rv64YjrgEBrO1EH/4B5fUhgeB5n0OPHtUX3NDkUmjko2t1D4YVLqOelN4mamikwZiSF5kyn0HEfpECw1IszMtdfYggClY6AScAyLr5XzAwz26/DQRynDQbp/UND6P5zn9FBNO+v+9TMeSIgfqHT2+RNOtyOL35BQBAobwQyEUr9dsWPaHfHDkUS19rVQt864ScZG2TOcOvrmxY309bWGKnkaQfFTodw0xs6HLPsptF5mWFyLQhUMgKZ5NOp7Y8zGexf3r03K3JHp3y0HNr3dLjdD3hkdQddNb1/SnTILMJNo9PpfMx7uNbhOp6+r8O1vxLcUo+iNjKI9raESsA1r22I7twTy4+J3QK1+fumogf7evl8NpWOMrlc111/oJ7Hnyfay0vk+UtYdMsO6nn479T9yz9StL0zm+wkriAgCBQAARCzgB9u+ugaGlAXU7Vm2BkH16l7iINwbU4cdxbvST+GTzoP0vhBWOSUNAcPTsZLhibTaxIofc/MV4eJKwgIAuWPAAiltIEugE6Abjh1wkdUMAbnIIl7fvPfeXlqi46atbthf0QdmcbdiBQSOaeMtD6pr5GuoxM+ElY9CEA+TbnU7+x0RI06zcRBh9GUoUcRXOSRLo0ToloO7Xs6fGhDgNz6F2YaHV+H6f6DHa7v63Adzw7X/kpwnXtaxWvZNVzULWyvZLuerRgHBCLbd6vQ4OjYUi6HKDkFBeKM8NHd+7JKj+Xs3Q/+jaJrNxE11FHtBWdSYOI4iixfowbskdXr1eC97gufoEB98qzkrAqRyIJAFSJgM7DafhMSLA8zZ42c/NfMbFT7uTTTKuLYYcgTpE0geOvm++ce8kk6lz6pitreuo2au3bzUrQeta8U6UH0hD1f5vwVusoIxxLVZUwCpY0ON+sGghmkTVd3nV5cQUAQKA0C0D0glLp5ybV03AGn0mV80sPo/uMSlekKd9KgutiKvuMPOI2+PP3GxD1chCNhlvNgQs5NHYD72g8XOunzT+xXegH6Q5PIYQ+qk57B7Pk5h9Qn8kB+2uh83fw6XFxBwM8IQD4/x0SNA1kGTbnc3rqZ39n7Eu9ss41Ic8307/AxqGP5FJfk8A+nuLR27e2Vxq3/ARlz6wdAliGf/zFzQKJo3b9wkk07Hy3/djgy0/0Jt35Gur6FU9lmHyRR2TK6QHtLafZy4aDhxC+ljS1TC6SYYSm+wnpwzFsTGxo0SJ/4VtgCvebe/eg/eSn5KxQ66RiqPf90r8kyxsPAv+v7vyaqr6X6m67xvH8r/MYq6r73USJexl73xU9ScOL4RFmRTduo6xd/UEe3BT84iWov+5jnfBOZyEXJEeC9fKXWDbliULZynKlB+PAFUibs+8TSNXzpRgcZpEv240DcxZu7eJ9mh1ryha/KnzmigYlY6lLixuJ1q/2cWAJ2K5MwHT26VhG8YM84wmJp+ykSF3yV/gbvL0+GZ87TTL+KCV5+9GqbkT6WL/aZYSkbjmYB+ysIZpzKt9uZCTO5nxkBkeXMGEkMZwSgP97bt4J1xFSlmx5Zc7ehmz5Lx7Buem7TE3Ty+A+n6K4rj7yBw85ROuqtnT30+bjMY/+41i1gawdB1GrWGVOG15CpO9z0hJ3G1he2vjN1kx3XucXlGypyXL7PplQ1w+/da59B1zEmI859h22tG+lHS//LkHHn/gfycpI1DM4hy9m833PJx9QVpoyjXm5lu6UphV7wKsul7oRfCkDTmN+muZfvW2Xbse/61R8psmIt1Vx0JtXMnp63dkd7eqjz67cpar76G79IgYGp+0OcClJpbvol0b5mCn1oNtWeDRqBVBNZv5m6fvoQf0IPc50/xHU+OjWCR180EqHwi3w28wtL+dNNDwUPnUA15/BgZVDyy5zHrCRalgh4VSBZZluM6GUrx+kajy/VOL4Is1Wx+eVYbBx/cv2xt9P0UbPVDDZC8SX45S1dPIvd0mt26ZZTBjAJU52atYrF607MdmMZ+0MfHcId5LBiR7ZnpsDOPnFwiD756D7sWFEGLwiEg9jJ/Nrs9jXaDsfxKTcxQytIYLyUb5cTq4X87wsCIst9QU/SYvXM0rS66QS+/2JCd9XwfMvvzl2sjnK84dkWejCNzgFr+yGsc9Y1hXvpGKfZMMyc3fl6Gy1ifWLrJVvf6SfnpsP0fb+4Isd+eVLFqWc2fQZdo5iMuPcdZh4Q4iNWZ/ORWrFVcE79D+SFfHDUGdjW9eo8hGPm/NVtyT4HwmAyyaDdb9B+7cZySV11Y/dHEAfHrTmt7sumb6PLKqTrVZZLvQf9twxCOltIjHyTd3T7HlXXwKg8L3Gv4YULQzCeSR7jpjxp/oWXLFeDc+JBcs3pxzvGDB48jmo+Mlfd6/nLMxTZtssxXrrAaJiX2/76T9TzyJMU5fRYhh9e8hZ18ox/ZPP2dEnlniDgOwQyMbKaxxbhxYSZc3OAjQbDj3D94orFa0/E0+yomMVyTttOYweGFAu7BjCWZ3siTx2uy7D9dvhXn25OMLR6Kd9Or/MXVxAQBEqDAHSPO5v73awbavnj4gusU2Ja5eyJF6vls9BFR8YZmd10DsKhc17iD4627IdYzyHsf5a00P97vpmufrJJfTzE6RFOeglxsSrHTbfZ+ZcGTSlVEMgPAtn0GXSJMRlx7zvU87J3yK82kGmsmjH7H7iHfLBS7pN/2afkEvL541dbCLwQucigLZvar11dH+3XrhmOsHRle+3b6DzLwS31AB0YHMr2u2wfZDuKLcyH2R6urqr8H5jSNct6cFT+V/wH46zwXvahR/mrWfifS9QTqTntuLSEdaGTZlJw8sFq5rv7d48RZsOzMT1//SdFVq4lquOZu4+dTrWfu4gC40cTMflc1/8yCR2I6cQIAhWEQDaMrFgm6mTscNOvWU/NMDMPHa7j6Xs6XPuzcd8z6qnzRX78LlXkdCaJTF/KyaZOElcQEASyQ6B/zUBFDqdJqHTqDbwVBwb70bXRp0AMYPqZkyfkxsiu84L7j3Wd9NT6rgSJnL7npC+cwhDfLVznJa4g4EcE0GdwIonTcunUJjdZ0OFafnVat7x0fB1vcH1sOGmH6/tu4fp+Ply3MnS47oPosnS49pebm2QJKE3NTuZiH2f7AltMuX6D7Q62R7H9N7YXsa1qE93J2/R5nwn1qyfysAQ9W7AUk/u771Nk114KZUgceXeDmsmmhnoKHX9k2tgB7oHXfuocnvG+m6Kbd6il6jV8BJsXE+H6hJ97TUWtveRcCh15mLrGzHzXnQ9QdOtO6v79E1R75cUp+2295C1xBIFyQcAmYMGe83f2vtWrek7sqth39fau3oN0hJvGjKdZT80wOy78Op6+Z+epw724Zlk6X+wvPW9SQ8rSOJDIPLom9bgVL/lLHEFAECgsAtBT3zrhzkQhIKG6Z8Xt9NLWZxLMz5+Z9h/UxizuCKsPNaglsP9z2uBEGlMPJAL5QusWk5HdXtZ6/78ModtfaSPMnJtGp7XDvOhFM41cCwJ+ReDDEz+hzjS3SeL+seFPrk3KJIvYh24ap/4H7ju9xxGeKX/E6auxdYT2Zypb90F0+U46RN8rB7fUM+hgcP8m2zPZmtr3GfY7r5/mG9VkojtiDO5Y3s77FvLe9AST+67MTO7YDw4TOmYaBXhmO5PBXnHsGYfp+dtzFG0BD2B6g1l6kOLBhHjvuh6cwx/gjxS1l32U19eEKPLOeoq8vhLBYgQB3yEAYhTsOf/6okvpkgUn8aB4hyKEw54v08B/4aTPKnZVHY6XEQjhUmNqhtNY5xhxY/H6JeKBHRUvKLCjOqftp+67sbDr8r26dj2R7572sCKJwz74K59oojMf2q1c5WciKew7FSMICALlgYCppz61YI7SVxua36WvzbyVwNx+waTLWWdsVx8WEfaZaV+m0w48T+0FhXyf9fvdtLMt7KpzQPqGfeXHM2BsNYIAAEAASURBVG+G2nPOehH7SE3d8M6eMH137gCaG5+NBzLQX9Bj0DHa2PpOhzvF1ffEFQT8igBOSZg39WqCPKIfYcrnp6d+SZ2iYLfNfifr+zEZaeCVMGF6Yt3DOpjlrHf/AzchqyB7Nd/jV7G8g3MmXf/ClNdEIVleQCfZOgJ+hIOkzq1v48b8no86ZdkEz9FLPUD/INf0zw61xSz6CIfwqguK7ojtPy/E8naAmTgLPcNRazjXPLI8tpwt0+y5+ZBCJxxFgXG8c4HT9yx41rzleB1Ztoqim3iPOR/PVnPWnF5xgiOHUc0ZJ6jw7scWEkjrxAgCfkIAM1JgXgUhHGbM28Ot9KvltzIj8omKEG7y0COpIdRIcEEQBxZ3cw8Y9lqBrR2EcIePqKF+PGkOF36E6/1ZsXi1ikxJx6sJRhVzMsiZdBhc+MGo3J+/u01jFlad580qz1p+6WW3RQXPw6meIf7ICJZVHJ+Ema52Fl+48CM82d320xOVugoClYeArac6wu1KX92y5CtKf1199I1KN/1q+Q+ULntt+/N07sR5So5B1AS5buVzeTD7fQLrFhA1Oemcps6I0j2QfegAnVbrBvhf5PBrZjUq/YQ8kBf0ldZ1QN9J37nFrbynJS2qPgRiDO6QR/QjbPnUnBAmLniPp+s7BChMHxh6eNr+B/LTsmq+x5ezvIMQFnJpy7qTvJr18nqNwbSbjkD4pGEx3WDqGV029MxUo2+jw00d4rUexYqXuh6yWKUmy8G07QFs1yWD1BXWQm+2wqrSG9m2U7U7kOcz0DWYgZFD1SU+BOALlNssfeRtHpzz1zXUIziO94J7NAE+ig3npHf95HeK5E3tTR870jV1z7Ovqnuhk2e6ssqHTj2Wel58gw/Fa6Hwy2+R16XzroXKDUGgiAg4kbtgaegPXr2OruBzTW856Z5EbcCg7CSTCANb+5zxvPUlbvDysuPG4tVyvNheUET9xdJWtcT8rrOTS1DxdRlHoV01vT/9wgjf1rqV7l/5R5o37WpdTFauUz3TEbmY9cyqIIksCAgCeUXASU+hAHT8/7TmN3TsmJPpgVU/V8vaEQ6m91lj5tJ9y1NPl8DS9G/y0Y3X8gDb1DnQV0HWY+hUQ08wv1Rakiek/fsnYkS5TroOdXDSd25xEV+MIOBXBNLJJ4jdIIu2CQVDtHDjApo99izuEyTf/53hHnp20+N0yoRz6OaTfpNI5tb/wKDW6T2O01rQj7jiqMaUPke+ZNCtXHwwQH3QfzieT5wx+xG6bOgZW/9AX5SzKfUAnc/iou+zBW0gMMaMPqZNf8j2XrZVb6JbYwzogQPcB7V9ASnAM9L8VuMZbt7/2dxKYGd3Mjj7HCZ41GSn22nDghPHUfDoyRR5Y7Va6l53xYWO8SMbtlD0/a28tj2UdtAdqOWDXJhBvudPT1HPUy9S6LgPUgCM9GIEAZ8g4EQIh0H6sh1L6IFzn0u0wpw5TwTGL+wvv7Zfx7fDcR75Ays6FFs7SFOw7B3Lz+uZhAID9D+s/iVtbFlLezt20crdSzm8MecBOupgl+9GzOIWrtshriAgCBQXASc9hRpo4qjtrZsIxHFDG0bQiIYxqnKmHIMMEqc31LFu+f5LLfRDY1+61gvaRWIzrcos/s8ON9OY8XBt37P9dnzxCwJ+RSCTfDq16643b6KfLr1RsbWDEA57zrGsvSZUpwboZpp0/Q/IpJZvsx+B/gX6EabJpwzaukCXo8Nx+oNpdNna1fdsvw4vJ7fUo5obGIyfsgUrAatwWhF3H2D3u2yr2mD5dnRnfIl7oQbovJc8MHwwRXkPemTbbgo5DNCjnV0UWb1ePYvQ0VNyeiY1Z59EXW++w+e5v0eRtZsoeMj4Xvn0PP+6CgvOmOo6e64ThY47kgfnL6lZdAz8QzOF9F9jI275I+BGCHfgoEP6VHl8LTZfPLYfmWsilaXbU7eHaMKUN3ctobd3x0gasc/0iiOuT6mTU54pETJ4dPl2NF2+HS5+QUAQKBwCNlml6XfTU5o46tJp19CwfqmTB1q+sWf8S8c0ppBBZtIdOq3dWls3ZMrHTi9+QcDvCJhyqdviJp/nMHmcLSPar9M8tu5BnY1yDx00LcWfyeNEElcMslevOiJT/f1wHzPWpTQghvsc20PZfoTtp9liBDiPbZhtVRt1/jl3uKlfA9Fg55ntfAAUGBPb7h/dHputt/OMvMffT7C8fdhgtcTdvu/Fjz30oWOPVFG7eS86ltObJtrBe9x5AA9TMzsz27uaRY+zwvcseq1Xfmbeci0IlBMCeNFeNOnfFAGLWS83QhYzTrrrdOQpOh1e0u4kLg38NX2bmjVHfAzOQfy0aveAFNKml/nMYlt+df6Z3PTlp5I+ZcpL7gsCgkDfEIAca7JKTTIFP8LT66nLFXHlu00rEgRV8xddRm3dHUq/4Hg1ELuZJFIgftNkTk61zqQbdjDZHEjnMuXjlLeECQJ+RsCWU8hae0+rYz8C722QxPUmUou9t6+Z/p0+9z2cSOIgl4Ume82kI3C/kkypB+gay/f54m9s/8B2jQ6sdhfHicEEDhjRa29pPrEJjI4P0Le5DNDjs+c417wvezZqPjSbR981FF23mVnYN6Q0IfIWP3Y+8z3AA/nAgbGlcikRHDwgoAOje3TjNopu4KXxYgQBHyCAvWMgfgMBXCZCOK/NwYspHXmKfnHFSGJqmRQulWAuRgZXRy1du2nS0COoX2iAmjkHOdP8hS0phG7wL97clcKg7LWemN0vJImM13pIPEGg2hHAANwkq9QkUyCvRDj3PNLoqbm0rmk1mQRVq/e+ST9545tKvr8xu7/SRyaJFEjjQPgGPaX1kfkM0ukGkMz9iMnmQDqXKR8zT7kWBPyOgJOcQtbuWPrtXvI5ZehRdPXR33XpC8Te2yMbJ/S574FhMOTYlu9Ck72m0xE2aaTfnzvqX4ol7rdlAdxXsohbcVEj8QF6sEDL2zVgwTHD1XKFyPbYkW46XLuR1evUZXDyRB2UkxsYMpAwqA7zjHfPk4spxAN+bcKvvq0u1RFuHokbAgMaKTh9KkVeWc5kccsoePBYnZ24gkBZI4APXTNGzU4hcnEjZPHSELy4nEhb8CLV5CnIByQx9664g89O/TgTpiQ/hIEM7tlNS+mkcR9KIam7d3mTIgcx6xDLs4OJWOrNYM/XQuTkGSqJKAgUDAGvJFNuegonT9hM0eDReHLDn+lDB1/AZHHtLrojRubk1DAn3YCZc5DMmeeg23rNKS8JEwQqAQE3OYWs3b/yTrpkyhdS+hFoc6b39oxRc1LSZNv38NrfKAT+TjoCH/wQXmmmFAP0zOuXYyhDB2djxnFkEM59mG0jW6Ydp8vZvsrWlyZJEFfYE+fMGXQspTF/6NE93EHHUW88AAhOOrDPONYwA3t48RsU5X3oWDofPHQCRfe3UOTd2Ix6cEZ2+2BqmCCuCwN03ode87HTKcDHs4kRBPyAAF68pklHyGLGc7vWJCn2fTschDB/efdePnJkuiJ30mRwdaEGRRLz9q7X+TijAXTw4MMUaRM4V0D0ZBLB2HnaZWby4wVvGttv3pNrQUAQKAwCXkim3PSUW1rM7mGAPoBfxWccXJcgodSrTzPpDlsXzPvrPjVzbiOQKR87vvgFAb8i4CZrf1v3e0Xg+vvV/0ubWtbR7APOoBPGnp6RbBEf6k2TS98D8leIvoFZL7drW0fYfrd0fgtP7SEWp/an5lAMGMW2sI24pMVZYS+w/SdbDNCxNnwS271sfWv0EWuFnkHHsnIelRO1dRC1tBENTDIwhuOz54EDx1IAe+H7aNQsOg+qMUjvefJFquMBehjnq/PnmMCBB1Bw+JCsSghMHK/Oco/yOe5YJi9kcVnBJ5FLiAC++povFtufbdW8kqf85LRH1Lnr+AJvGhDLYDnd4SNmJIILRQSDcsyOv+1PVEAuBAFBoGAIaMIouwBNAmeHm363tNi2A132PwZjO8ij7nytTc2Ca8I37GMF43Im2T94cI1a1m6WjWudjx0ufkHADwjYv3vbb7bBTda0nL616xVF7DqkbpgaoGfqC2jZ02Xovgdm0s3Buu3X8eEWqm9gllHt1+WyBz3TcwC7+8FpIn2d7zGTmZoxX8LuOrb/YPseW18azCrTvmZsA+M96KksqfluUCDO5I58I/Fj3XQZCfZ2Yzm6vperGzrtODUjH3lnPeFotchbMXK40AcPyzpLzPaHZh2h0oV5Jl2MIOAHBLBSBWRrIFY58yFNfFQo8rUG2tW+my5ZcJIidFrbtEqRv4FMRhtNLKMJo/51wcnUzcSQVx7d2Ivoqa9EMDbhzdcXXaqIqhAuRhAQBIqDAAYEuZBVQk5BUHXhpM/2IpuCHjnzoPN7EVRBZ4A0DuRx847oR1i2/iLrvwjnhb3sbrKPgYM7qaWQShbnlyKl5BuBbN6BmeR0Gx91iONQYbA6rovPNP/MEQ0YOqQY+BEOmXrJpe+xnmUR72NNGLk0ThiZkhF7SkUSZ9ej0v1+GaDbvzX7uZzHAVjK/jDbHWzxawU7vG9NhInPYLD8PNCQ217PbBofOGCUih7dAvhiJhqOJMjcglMm6uA+u0Fmgw8dc7jKp/vvz1NkDTgCecz+QSx6yN7oWXMsk8eSfDGCQDkjgBckSNaKQ742gECw9OvlN1N7uJXe2fsWgQTqte3PMwncdYoMDsQyX55+o0UY1Uogjco3EQw6G+mIqfDFXowgIAgUA4EYCdz8Y29LIauEHySWOFXCNpBPyK8mqDLTpiOo0uRRNzB5HMicQPh2fZxsckDdcJWnk+xjhZGQStpPQfx+RiDbdyBWmqUjlW3palLErg2hRjp06DTeUrKFZaaObrGIYOFH+Jo9IGt0Jn6FLL6792317td9Bch7T4TZGQ2DT+n57hsY2ctlHIFSLHEvBPiHcKZfYAsCupvYzmJ7B9sutr9l62Qw6jVHvgOdIpUqLPL+VlV0kJd9F8MEx41SM9kRc4C+lQfrfPwZNdRRYEKSUCof9QmdfjyBGC66ar3KDke94Si2XAyOf8P+eAz0w6+9TTVnzs4lG0njTwTKWo6dIEWn897lHS4ESvklX8PM+Q9evZnM5ewgdnpkzd2KDO6Bc59LVPGPa37Nd2Kz2NifPrBuQBqyGXeip0SGDhfobJjl6Ci6TrPGzNVB4lYfAr6TZT8/oiRh5IUpxJCYkQP51LxpV/dqHpa/Qn7Ref/Bq9fRZdOuTUmLBG4EVSCNO3H8YPrlG7Gl7oh7H+tBkFU++t49KaRVuKdNNZFC6Tb73BU5TvMAc3kHQgbcyBonDp6cIoP40BWTmboUIldMDCD8R6+2ufY9IIt497+9+zXVArf3cqwPkz0JZBpY5JYDApUyQMdKAMyg3xBvI2bQse75KrZuA/Tr+d632Zalib4fn0H3eORYXxsR4AE6THRzcgY9sh7b/nlm+yDefx4ExPkzGIwHj5pMkTdWqUyDR3ygT5mHZn0wNkBfspxCZ5yQQnTXp4wlcbkjUNZy7AaeG8GRW7hbPna4uacd9778zMfUzLkdb8N+cGimGpOIZmhDjJiyEEQwZjlmDZzqZN6X64pHwJey7Oen8jiTTLkRRjoN0NFWLb/46Ldk68IE2eTBAyfThYddlpGgCvvRp4+OkU42d8VohTrDzH+Txth6zfanSSq3io+AyHEGzLUM2dHSvQNNzhak03vF3cJtGdF+tz6GDtfvfl03tzoVom+gyxQ3hkClDNAx3Yx96qZZyZ4LzQDr+mb2m0e+YQZ9kxWnJF7sTyn6DPrY+ACdj1qL9vAXOD6vPDFAPxgE+fk3oZOPSQ7Qx/dthl4tj+e99CCLi/LqgwB/VBBTFQiUrRynQz8TiUu6tNncmzDoEDXbZafR5DJmuElEA2Z3mGyJYLB8z+ww2H7kaZYDvzZOddL3xK0KBHwpy35+MloW9YyZbosti6Yc6zSIy5vgErNtAw8erJJn0m1fnNFIIxqTLNKY2QOxnJiKQUDkOMOjNGXIjGrLnXkvX9eZ5FO/+3V5bnXKtm+g8xPXOwL5nRb1Xm62MWPrLt1TvcC3Jlu3wTi2wQozvZ3s2W9YZmQrDxPdtY+onb8o14QKThCXaDGfUU5gaY9EKLpttwqOMoEbTKBA54sHjKcajs/WqwJz+Ifj1YKHx2bhw/FZ+RyykST+Q6Bs5dgNSnRIM5G4uKXNJhydaq8kUHZckM7s69ibFUmcF+IbuxzdHux3BemU0z5UHUfcikfAd7Ls5yeSSRZ3t29PEEuCPBLyDfl00ynTR81WBFRupG7XzGxUeazaw+STFjkmiOXCkbCf4ZS6JxEQOU5i0esqk9wV8h2Yqe+xrXVbgnAOFU++l1P3oAtJXK/HWpAAvwzQAxlafzvfP54tlrhjlHYJ28+z/Slb3xnMAMMExo+mQCj5pbmQDcHeFOxDh8E+9Ghzq5qNBk9MkI9YK4QJr1ybyDby8jKKdnYl/LlchKZPUckwQI/yIEiMIFCOCGCpWToSF70Ura91x0x2OnIZvUQO5dhx65lwJhio8UwEg06HF/I3uxwQ22D27Ppjb1d1NevU1/ZLekFAEHBHIJ0sHjP6RD6K8QcpxJKQb3TY0+mUAM+og9Tt5l4EVQNp0rAaemFzN5PDNatj09qZD/LtXTHCKhBORckv3VF3TOWOIJAJgXRyB9kq5DswJp/uBHItXbsThHOp7+XalGahdy0kcSmQFMTjlyXu07j1selcZxhe4eDz2WJpzbfYrmN7DdvfsfWdSSxvn3BAUeuu9qG/+77ahx6Jn3muWOT71RekHpFVeExsBjYSNbdR+OW3qGbuMbGwHP4rpnkmtKOmFoqu30SBQybkkIskEQQKj0A6Epd8lo5y3Mhl7HKc4roRPt3LhE9zxrOsxQ06HV7J35zK0cQ2Oj9xBQFBoPAIOMkiZs5BAOdELKlJHDFbrq9RS7A8I69QIET3rriDzjro44r8Tbdgf1czDzzqmBROiKU0JuJWLwJOcleMdyCIIRduXECzx57F7+/YlhQ8hU4+mm1j81o6uBfhXEyu7SeFSQT0AexpMPjtvoGdVvzeESjFAP1P3qtHF8Tj4ozzTOYxjgDrexPZGJtBDxaJIE4DFuR96FhkppjceXk9TLBAy9vVDH38KLnQyTMp/NhzFH7uVQqdOD1nQjrsmw/yWeoRPg89vHQVBWWArp6h/CtPBOyZctufr1pj8GyadF/o7biaOMZMj2un8GyIb+xy0tXJLlv8goAgkD8EbFn8+Rvfo351/enw4ceo5a7YZw5jkkXZ8loTTM6wORHPDW8YRdce8z1HvYG8nfQJwsUIApWKgC13tkwVqt13vXkT/XTpjXT2xItpTP8JtK11ozo/vSZURw+e+3xKsaZcp9xgj5vMuoXb6cWfGYHUnlvm+PmIIQdVp0ExGg5TdNN2FSNQpCPWdHUCmiiOmdwjvN8MJlAggjg9e45l/DUnHkPhf76izjCPvLWGQszunqsJHT0lNkB/8x2qOf/0nAf7uZYv6QSBUiKApebmix/7OrF01Bz8q+NWuJIh/gquDcLMODo8E6GMjge3lMQ3Zj28XEPPmtuHbL+XPCSOPxCwn63t90cr8ltLU0+Y1yjl+uNuS+iQ7a2b6Z4Vt6vZdDeyKLtmWg+YxHMY7MNko0/sfMUvCGgEbBm2/TpeObu23Nl+u+6YYTcH8bbfju/m1/L52LoHU6IcOggLlb2bbGTZrX/hvTTvMe2ybL/3nEofsxQD9MtL3+zyrUF0605eL8bz2LysPDBiaFErGhg9HL12dfa53gePI9YKYfT+8+CUQyjA7Ouh2UdT+MkXqeefSyh45GE5H5MWPOwgokYmu+M99JH3NlJoEvvFCAJVgIAmacNSc8xmX3nkDXTy+HPUXjEsO8OXbbxUQeKEfaK/WNpKj6zuSAnD0jtt8GIDmd38hbxlRAeyixgIN1986FyAPOrmJddy3GTsJMlMaufCyK7ol+qUDN5e0/PUixTduouJOEdQDR/NGJx2aM56p+iNkAI9ISDPujdMWk+s3PMGfXrql+i1HS/QI2vuVjoDnXeQNWIvLM5CnzLsKPrazFvVkvfTJpynSOLMQYKdu5seWLX7Derij2LQPfN5D3pSQ2h90i9Fn9j5il8Q0AhUgkxrGdTvasgd3p+QO/MdbLZ5KRM1eo2v09mum3xm+55O3zfoR63dEfrq0830ntXncGqbXce++IHry1u61TJ7u79T6LL7Um+3tMnemFuM6gkfxE1tYkODBuGyNKZn8VLq+eOTFJx8MNVd+fGiV6Lzf+5JnoXOA936/76aZ6Hz+zOJhiPU+a07FVN93dWXUHDieEVK1/mdX6iPEzos18Z3//4J3s/+JoWOP4pqP35WrtlUdTpWZvl96MVDsyzkuHjNjZWEFy+YlvUAuYZq6HfnLqZXtkYcO8Q3nzKQDhkcok8+uo9Xy8Q6ybdw2HFja1Nm0vHCW7y5i194HcYAv0GR3Nk/EcQFkRQ6+1gOixk33dm34xYbH10eZlqweqf7bt5pZY0Saj97AYHHwpxZ1+n87FarLFfjs870O9V64vtLvko/Pf3/aEPzu3TLkq/0+qg2/9jb6MCBh9KXnj6frjv2h3TE8JnUr6bRcfBgl+mmB2aMOomJJ0kRxWEvuu5Az+NB+xz+YAg9ZK7qsfOtdn+1yrH53CtBprUM6ne1bh8GySBLBb+D+REMM+UYnLvHP4HjJ7eY6PzcXDf5dPs4kC6f3n2D2Mf/bz7XQs9uTJI+ozPp1L9wyzuXcHw0wODc6QNgocvOtr5eZbkUM+h2Wy7iAIxED2SbZB2KxZoRc6rnf/T9baqxxV7erhFW+9B5iTsMZs/zPThHvmp2HsfIMRFdIM4QHxjYn0LHTFNEcT0LX6E6HrTnaoLM5o4BevgtXuZ+4RkV1+HOFRdJV7kIYFm7SdKG/WV1oRoeWDeljEOBAMal6CDfdfZgOmpUDS3d3qPCnMhdMLA+bmwdE8rUJ8DDixDhtkGYV0I6O22x/Bh8Y+bcCZSep16i+vhRjcWqj5RTOATkWffGVuuJKcOPptH9x9Ftr9/AomB+qYJoROlPa35Dt5x0DyEero8dc3LvzFxCnPQAttpg8I1VO+dNalC6Ryff0hymu95oo6um99dB4goCjghUgkxrGXSSO3zcNskXAQIG6+a7XQOD9E7x9X0310k+cyGoQz5OfQPIsjk4Rz2gYZz6F251zCUcW/RQRqo2K07ZudTXS5pSD9C/zJX8Htt72H6U7W/YHsp2FltfHpHG9e6TSTC4F3n/ua603ocOf6EI4hLL23mVQABL6uMmdPIsNUCPLF9DkZ17KTgytyX+wUP5W88AZoZvaaPImvcpxLNiYgSBSkdg4/61iSaC/AXGjbBFhw/vl5Q/HZbIJH5h7023/WZ8c/87ws2ZADNeKa+xrN3JRLc5hzvFlTB/ICDPuvdzwvaXmWPmqhs2sWOQ+SqmDp9OYxpj+uPCD1xOb+7CITnZGVsPgD0aBltqHljRoT4MQvfsbo/Qsh09VM+3ZYCeHcbVGrsSZBpyp2VtaMMI2tuxSxEymkSM5vPNNr6Z1unals9c39N2XwB+yLiTcetfOMXNNcytDLfwXMspVrpSD9D/nRv6ebZgK7iM7a1s0cv8b7bD2FaViXZ0UnR7rJMYnDCmJG1XR63FSy4cQVxsIBGaekhKG4NjRvA+0EMosmKtYnQPXnhmyn2vHgz6QTQXfmEpRZaulAG6V+Aknq8QMPeAo+I/Oe3/+OzimxWhE5hZYTIRuaCDrA3i2gbL8bAAXnewcR9h9gveTlcKv00UZPt1nbDnPLphq/Ym3ADrn74Yuzzb35e8JW1uCHh51vZzgh/G3Opgx8mtNoVPZcum7UcNsN8VAwJ9/c7et9T18QecRpdNu1bNrKsA/nfkyGNp+ujZvfae2/nafp3edrU+wqod0zjpHvO+XAsCGgE3mQ7NmU62nGq/dnUetl+HF8v98MRP8FGEF6bIGggZ/7GBt145GLf4O9u39ZLNXMnjHIrNKUjLuJ3YScbtPoydJlt/NmVnm3cp4ienT0pRemxZ++J40e3sDoxf38fup+LXVeMo9naszxg6iAKDBpSk3QHMPMdNIMcZbJ3eyY3uZ8KpOEu9OrfcioRZdJjwkrco2oqfRG4GbO4wYWaFj/akdgZyy1FSCQLlgwD2kWG/1ZVPNNGZD+1W7qrdAxShEzraT6x7mEmZehQpk70YHX7s+8TSUsxewSAMBE4dPV00f9Fl9KkFc+jriy5V+9qDgaA629gMQ/nlZFAf7C3v/PF91DH/duXCb9cTHTMQwqkGmw1gAGrOOF518Mxgr9dey/ean8TrOwJenrX93LofW8hLx4Kefkt9r2F+c0BbwEMBuXWTVQykQUYF0jYMCMARgb2v0Bkgg3uf96Sb6UEgF4lGaH3T6oQseSnHbhnSdIdBOtnPSfRUODrrYgSBdAi4yXTwyElUc+5cV7mN8LbNTO+GdOXm8x62e8yberXifzBlDXwQIG3EfdO4xQ9Hw3wU4gy1P93MB/vVIW+lMJDhdDIO8rirjD4L+jD5qmumsv2oX+y+W7GfKaZSL2S7lO2rbH/J9i62H2L7ENtizqKXnFyq55mXqeexZynIs791l2LFf/FNeNlq6v7tX1TBdV/8FAUPjS11y1dNenjg3fPQ44Tj1eq/cmmvbCGsXbffqwbxNR8+kWrOnN0rjpeAKCuKzv/+ORF/EKj9twsoJHtLvcCWiMP7i0qtGxJ1yfKi5HKcZX2zjo4XjTsZygCaPLyFvvzM+fT5I+czi/uHXVncsVdMs7jPY1b2OePqaF/nbrriH2fzycexmXV03jVh1Bef/pgKdyOzyboheUqATls2xG/QMZEV7/Fe9JcIy9oxc47Bea4s7tmWn6dme86mmmU53bOmCP/KTcJAVnl1N3xOMft3/4Znssw+LmvDciYRxMDbJInUPw4nWQUmIHNctWcZ/evUL6rrQwdPpfeaVqYljNvYvJYJrE7gAcGLaQirUgmuUA+tr9Y3hemSaQ2u+si/rxyNdmHdapZjE9leMn3ASKr7/EXq1B438k/o+K6beHihB64llOdsZBXtdoofI4FdRMt2vpxGFrMjjzMx7ss1ns/izc5M6oUmj0tXdjnpF6+y3HtNY1+eTPZpn+Ek57HFAP03bG9nC9K4mWz5DVldJrIxRhBXquXtQDuyYUsCdHx1zPcAPbIK32R4ksJa3q4LhRDV8Cx69+8eo55Fr1PolGMpUJv9zxTkdmqZ+6LXKLx0lQzQNcDi+h4B7PNyJ0PpYAKm4fTAuc+pdrZ3tzGRC7Mkj69LtLuLT1Fo7W7lPZ8DEvs+t7Vu5WOV/kjzpl2t9qDqM4xNwijsTUV4ruQ0iQrk+SJb4iDoGKzeMQnhMMjO9QWebfl5br5klwaBtM/aIgwMHjKegsOHUOf9f00dnCN/HqyXM4kgtpx4JZICJiaZ4zGjTlRbWG599WtKtk04Tfl/9L37FYHVVt4+g3DTpNMJWl+9vSu2WueiKfwx0NBHGMDnKntmHeS6OhBwkmm0PC355398miDfOHpXmRLKczayiro6xY+RwNZ7lvlYo4vzH88Hp8HYMl4M8ji3sv2qX7If+eT3GX+es9PL7EEKt5stpkwfZYuZ9KoymiCuVAzuADuyfnMC8+iWHYnrfFzgeLXI6vUqK3v/uZl/8OjJRAueJdrXTOHX3qYaPi4tFxMCmzsP0CNv8zL3rm513nou+UgaQaDcEHAjPdHhC9Y+RC9ufVoRzzSGhtB95z6VaMLlT5zKy9/bCS95kMlhvzqWxNeE6tQAHaQ1ptHENWa4DjPjlfI6W+Igc38x6m37s21LtuVnm7/Ezx0B+9ma/pTnFt9WlhJmFFvuJII24ZuuupOsmhwSml8iU/rOcIz8qY71RDYEV6jHQYOC6lQJdNJ/uayNzj+snsYNCNGOtjD9+4zSbOfT+IjrPwRMGda1zyi31rbRUspzJlnTbdKuHV+TwNrhOr6TzOt7xXDdyON4bqEXQaTus+SrXk5l5yvvYudT6gE61lHCaoNl7bBVZ7A3m/buV3sjg7z8uxQGe7WjG7cnio7ke4CO2fn2TiI+Xz3dRwgo35q5M6nn0X9S+NlXKXTskTkd9xbgY+Kwnx+4RlauVTPqicbJhSDgYwQykaFgcI7ZbuwtveKI61JaetbEC5mg5uNMUJMkovzIIfOYoOZhFU8TSOlEOM8cxgzXYTpOqV034qC+Er95bVepy/daT4mXikDKc8M7mE1KmBG9WL8lo8isLkH+pgnfzIRaVmNHnYXULSybNQfpCMyUvj7UoNIOaxhFPzv9L54IrjA7jg7zDbNj9EJbWsJ052tt9PAq7gewOXxEqbugqhryrwIQyCi3cfnWTS2lPGeSNV1H7drxNQmsHa7ja5nXftu15d/22/Hz4b9wcoM6YnEsf5jTBvrg0TXOrO86TjW7eva6lBjgLK3/ZPvruP0qu8Xce87Fld7o5e2B0SMo0FBfkgpFN/GMORhseQANgy+SWPqZLxPWy9snH8wD7vQ/vdDxRxI11DGr/W7eJxhbFp9tPbCsJUEWx2zuYgSBSkAAnV43IhbsJcdy9ZW7lyaIn9Y2rVLET5csOImaO5sUQc2avUNTCObgB0GNPu5F44Q9rBdMupzz3KTyRDjCQC4FtthyMNBRhSB+89q2UpfvtZ4SLxUB+7lF1m6iyO59VHP6CepDeUpsnvnpC4lgSl4F8KCDDfI3yKZptPzubt/Oe9RfUIRM2KdpksnNX3QZdfa0p00P+Z8+Cmzu3TRr9FxPBFcoxyayXLsvTN+dO4DmTqhTNYUegz4TIwj0BQFblhN5xeUWcg35TpgSynM6WcV7tY23n0EmQfQIt72ntZdsxkhgO3uFo33J93M3vL2MLf8gmIM+QHihTJhl/MqjG/nY13BKv0P5ORz3xfRGIP0oqXf8fIfM5QzXsf0yWwzUYXGNMNyrGqOXtwdLdP45gI5siC1vD04crwbHGKxHt+/J2zPALDZMaOqhGfPER4pQfGl7+J9LMsZ3ixCaMVXdAikUjrETIwj4HYEALzqaPa6Wbj5lgJqB6seTUJiJuuWUgYro7ckNf+RzhRvVzPlr259XJDKYWevkZe09zMgMApfrF7YQ9oS28xgbLvwI71cziA4b+kFq4PSThx5J1x97u+qQP7nhz7xEtUGFgTRu5uiTrKFA6VDFihsQvIHES62aqefOP6+eUaReHO60HDKftS11+flsSzXl1eu51dVS+MVlFDy8dL+lXPHHbDhkEvIKudXyq2X1V8t/QN9f8lXqCLcpUribl1yrZts7WCes2buc9UBb2vQtXU1xmQ+q9Lcs+UoiPXQL/CCe03vTMeiGPpm/sNnSM80q/JpZjUpfQY/ZS1JzxUDSVS8CvWTZegfgRCC1atMKL/S7wemJuMkqZBcy/JM3vk2r977Jstqu3DuWfruXbB46dBrho5uTzOt8mGmlV/H4OAA5NeUf8gs/wgv10R3D71i/w1kfyPC816NSAaVeX4R9539g+wW2eqoW6x9+xhb3Psi2Kkz0/di5vIEDk8tOi93wyHpegs4mePBYirZ3UJS/OKp96GNH9rkq6ng1Jp1T+fMMuhdTc9IxfB467yFnYg+sMMiFPC8wdhQFRg2j6I49FOEj10KzjvBStMQRBMoWAewZvXfFHWqZ+l1nJ/XFno691NIVVPvIQfYGYxI/geRtaMNQJphrsiieYpxYIJ6bM34w3XzSbxJt39+5l5o696Tkidm0+1feqcISEUt8gdUy+SR+y7Y5pS4/2/pK/BgCbs+tlL+lXJ8N2mKSvyEfyOoPXr2OXtr6DB/JdAx/gOvfi1gKemFIw3D6x/pH6PQDP6qI4HQd0GHHMYtYSvvspsfplAnnxGbiLQ1ik8Rh0O1GZHkf65m7zh5MwxuCQg6ngRa3zwi4ybIKHzeK6pkoThvMuCO8VMZJViFr9638iZJVs16QXbxvL5nyhV6y+fbu1+mokcelhHeFOxOyauaDa3wc8Eomaaftiz+dPoj1O+r6kn3Fpi31AP0DjOxFbPXgHEDj+ja2n4GnGgyWlkTe36aaWtIZ9DhBXJBnn6JNLRTGkj/ehx6iw/v8GMJ8nA1MYMIYCgzs7ym/AO8fD/J55pHXV1DPwiVUN+88T+nMSFCEoelTqefvLzCb+0oZoJvgyLVvEXh83e/pr+/e34vorY5nvn937sJEu0wSGU3y5kbKosP/sPqXNGnI4TR99Gy66qnz1Mx7bHA/IrEEHrPp+iNAorASX9izIba/0NWzy7P9hS5f8s8NAfs52X7k6hSWW2mFTaX3lf+EZ922t21JbEvB4PyEA05XhQ/gVTInjjsrIcvDGmIf4HG0ItL/94tfokF1Q2jSUHzMDvAg//0EiSQG6NjfivywjUYfx4iMbWIqrU9UocY/HR4CY5QYQSCPCNhyqv3a1UXZfh1eTFfLqi6zhmUP73UnAsa/cbj9vkX87738ZeoJd/fqB4DwFbLqZMw+gXnfll/zXj6utdzbebmF2/Gq0V/qAfrrDDrWIK+2wEfYMiusYr3RXfuYPI2JEmpCTFDT99nqXICKgqCOB+X8uTw2iOY9OzDR+Kx3LnmaafTydrfj1cy45nXNqbOoiwfokTdWU+SsPRTk2fBsTRDL3HmAHnlnPUVb2igwoDHbLCS+IFAUBGyyFhA7YXYKL2Nt8KX9G8fdQSP7jUkhasL+tWAgScCC+CaJjCZ5y0Qw9+auJdTctU8N0CcMOkQtZdXHruk6ZCKh0fGycdWsBi9X18b26/BiunYdbH8x6yJl9Q0B+9mZfvO6b6WUR+pNLeuV3IIk8rJp16boiRuOuz1BELevYzdfx2Tu7IMvVpVv7WmmpTsX07Ob/5bSmEMHTVN+xIPd3rqZ7llxe2LGz9YJmfRMSubiEQSyQMCWV9ufRVYli9r7Xd9DVx55A00ddnSKvELOVu5Zps5Dtwf1+v3+2LoHU9qhZTUlMO7Raex7tvza9/vqF32QPYK9Nylkn0dfUtzBiX/MFiRxJ8YtrnEeOuyRhuXLyjSJ5e3M3l6qL3v6/HO1JJz36QR5aTgMZtD7Sh6RcrzalEOyeojBcaPV/lKuBPU8/VJWaXXk4MhhFAAzPu+LCy+zvwXpWOIKAqVFwCZvWbhxgVpeupQJXEDkAtIYuOubVvMM1gx6v/ndRDiWvA+uH6b2rCEOCOF2t+9IIZHBjNf21m0EIjl77gr+zyiCuW1qZqwvJDS5oKhWEfEqm84f30cd829XboT9fdU9udRFpynHOum6iZsdAo7PciX/vvid0P3YQiYiLe1vLbvWpI+tSagwOP/azFt7Ebq9xmRxEeaigH6Bzli1580EiaStM3RJmngK+16hW6BjNrD+Qf4oR9/Xe1jTEVkKMZxGVdxcEHCUZZ/JL9pgEjVCnuA/efw5tJ8/jsOv3/fwnzz+wynx5y9yJo8DnklZ7E0Sp3UD4pgmmYZJaQpgRB/kBmrqU8otj76kimRIDO4A1BFucmolQ6Icbw/idE1saNAgXBbPdP/5aXVed4j3XNeef3rxCjZKStThxBlUe8EZFO3uoc7r+RsJd2Dqv/UFCgyJHZNiJPF8GVm7kbru5C98/ftR/Y1fzMjgbmcc2bCVurjjjtn9uus/R8HhQ+woGf1YIt/z6EIKMAFe/dWXZIxf7RF4a0CpdUOuj6BkcpxrhZEOL068oEHWombMqYaXqi+iZTtfToQhHpa/4Yij95vfS4TrMHSYQdaE9DC6gw6iuEfW3K2WoJ4z8ROKrR2ELdj7heVl+LKNTjMIm97bt4JAKIXlbviaj44ByGN0enxlx0y9IonL008Esx8YIHXf/aeYple153/8C1REb1MmFv3DZTnWScOSrVvtspz2WV7OxIIHjKCum39JtZefr3gMSvWRPNvnmi4+BgAghHtr16spOgFp0BkHedzRI4+nN3a+lHLfSWdomT9m9ImJ/exmPocOnko4KcLWCaiDm57x7+slHeqFvVftcgx008oyk4SCO6Lc5dd+1+tfDeQSBG8TBh5CX3z6Y2r7iH63m+97HR+yet3MH/R6P+PUFZy0gI9wenWMTgMXclnod7pZnr4WfaCRYB3sUQEm100m0xbzamIxCyvXsiIbYwRxwVISxOGMcjbYfw4TqK1hcrXhFN22K7YPvQ8D9DDPVMAEDzs468G5SnfQARScPJEiq9dR+KmXKPiJs1V+2fwLHc370P+6kKLrYkfp5DLIz6Y8iSsIZIMAlq6Z5C1nT7yYWdPrU8KQH/aCj+4/jm57/YbEQNwpDHFBLgOCKJyDfstJ9yBIGSybP25sLRPCJYlZ8IUb74yJgyf3iovjlWaNmauTq6OWPL5fEmnSXaBD1fPUi6mDcyTg7ww9LO/1h4OqpLimHOtUXAT+P3tvAjZHcZ6Lft0z/y8J0MImJCR2BAKx75sNNmA7OHYMthOSOI6XOI7vuY6dc59zg3POuTnn3FzbybmJT5w4ceLES+IFJw7Y8QYGbMCsZhcIAQIhoR20IoSk/5/pPt9bMzV/T/3dM9MzPTM9M+/3PD3TVV3r21VdXV1fvd/w5NbwXqpWFsijYLmkX22tG0ijf4IQDh/W7Ac7mw/cj798v1yw4PJp15OeGVg5t2Rz0XRuWvUV87yYN+PQaaRbKEPSc8amwX8ikAaBhn25T2NFmvIjrDvW2/jol+ivGKsxpmNbWdLYjjhJ5HHNSFzRL10ySWi+ZDmm2zpF//k8iKLR2nm/VdzXajFbPVqr0YCFwhfBcP0WU2pjBqIP5cdqebihWobjFtVK4CnzJaTTfejWjnnhlHTq7bWC6EnxLZcYZ/mhpyTcvit6qaVzaADgAwEEaVCIQN4QiJK3LDjwKFO8qB88LNFb1D/Oz9YNg/jHf/oe6zT/+KrumjaybnePWyVs/Xfcoj9Wl14WjnDT1thk8IGwX5LHMvULi0HPt+m9nHOQ+Rg96PV0yx99TkSv7S8r541K3PW4ZwaeIfB3xRJLxa3UIax9rth4rtv6858ItIpA077cakJ9DBfX71Ac25/smG7/k8KDPA5j9ref/Xv580c+Jf/l3o+Y1Xf4NxJ3nI9y3DSK1+k1t/+77k7TH7b4/Z6gA8/f0uNePbCEe4wekE/q8SvmbMh/wk2v6DKREtfPmiHeYTAD33sJ1yuDfFl3Gyi7OpjTrUT3oVu/tP8182qqrgr1o3bF1w8H/hJtHkEgpZ8+2FYy1sSameTriiGFCOQJAZC3WNm8Z505jfrBwxK9Rf3j/Gw6+D9aid46EajkRcV1R6+1eo4Pk1GBmnGceAvi/d34rjualnvNdUfDRs/Tlikal+f5QqDpvXz1NbFtDe3DbSOuO1+1Sy5N9DkRDTVDrTBAkq67zwyQRcaJJZaCVg6FCPQCgaZ9OaYQbv913TFRuuqV1O9sf7Jjuv1vFv7JrQ/JPRtuNavusKxg00mqhDuGu+6kePTvLQL9nqB/TKv7F3qALhQbi+0+c1CIY5I+9BJU7Z/DvFq3VUySwAxe3GAuwf55tAy1FXQlimtXyiueN1G9o7R+HbKn11bRH3xSDOt8ykL5py0RmTlDZzmvqm31l1LGZnAi0D0EMEC+Z8mHzf5Q5JJE0lYhettQF9b6YW849rFFBW74W/Km6LVWzrFvLI7MBv7tCuJiz7khhPvU/5Jg124pXnUxNsfWi7qLV100fbIUjd+EUK4uryZho5njBS5NmaJxeZ4vBBreyysvkkAtlgS69amI8527TdsU3zfkcXkhLGwHUfeZYtPAM+Gs+RcL7CU3fmZUSKYapYP9rlB/f1SJ5zp5Jtiy8Z8INEKgYV+OGSuQVrtjQKNydHKtUX9Cf4SKOsZ0iB3bo+8GNm87tkfD45r1LwXTSeJwHXhkPaYjXUr2CPR7gv5xrdJH9Pj/9Ih+gn1Y3afrMfQSVu2f90u9HQDXJui6Dy8qdgU93LpDwn37o5daPg+eqkzQC6dNrQ62HNkJ6J9wlOAQfXku3aZ7VlOKNz6mNtGXmlhUc08JHoN3FQGonIFkCSQxJx98hlpcHJf7Nt5R5zdTbZzDNjFMoEXDwib5T9beZIhhbHyERTpwI2w7Kmx4kQCZDIjrntvxpJJO7TX/cMO/nUk/XrCCp18whHChkj/K/gkp3XS7+KecYAjhPHBgqBUJ/BuCuFNPqCP9mRZ/YlKQDgjmkC6uW0kT1sax/9jr6GveKEOzMtk4/M8vAuZeghAu2r7UDf/y/U/I2AeUIE7PSzffXmlLK16QwsVniWD7V0L7ym9tKyVznyn2mQCCODwT8HwBmVTyM2PMJNQsHZBKdvJMyDuOLF++EGj0XHZL2skY4KaVlTupP9mx+rWJXWacTxrvbT+OC18/5lf6b7Tc3RjTo+nzPFsE3DWLbFNvntpeDYIZ01o9dutxph6r9Viix3I9ZunRK+kL+/P+P1MSF91nOfbh66TQBzIkmJnZ/8d/LbJnr4yDLKdKEmdB3/ff/8bYRx//+G8qkc7U/nR7vdF/qC/f+//rXxkV/vH/9EHxM7DxHqxer4zw31R9eV8Z3X8nNaN7sGajTHz+60oPXawwymNFnTINAdWk6PezYVqZWvToSz9usWxNg2EAxQBuJd4O+qROuMem2UWtqJmGdfExiW5ncm7zh7kXTM5dwYtAlHjOvd7IjZVzMzmPBPJPXyJFtR7hz52yFoGXK0yUXYmLjzCYfIHwKyppwkbj2XO3DK7bhsvzP/uyzrPVlBom3FFy0Oi9xCp66d9/JsGTq8yttG1p4gvfUm2rynYT65fnex1XNveZEn0mNHq+uGm56WDl7mtP/6/a3vROngluXnRPR4D9uIJJ6eGnpHDmUkNkbFECjxJM6BbPW2a9av+djgG1hDI+cfuT7Zdp/W08WzysnDfiienGmG7z5n9rCLTal6feBFtLN+tQL2qC+pnaTNCjab9NHSujHsN4jglsuGWbqZp/1IK+VDF8ZbuZnGPC6qnNcVewih7ses0wuaedoEONFfvrPTWLZvf3uemndfvHL1ZG92OV0X2NlH9yn/i/fk2qJDxlhPfmHyLhy9ul/PgzUrwI34QoRCAfCEQn5yhRHPmSHXxbC9vZIz6JnMaS2bSDWhzJDyZGE6tekpmf/kQtybjJOS7GxTf+MYRyacLWMo6cuGVw3ZGgPM0xAuV7HpPyzx4SjB+ihHDegkNl7OpLZOJburtOSUfx4Vd1P2s1qJETalgrNT/rMSD/7nMi+sGu0fPFrZ5N568e+2PZ8vpGo36L/a5WOnkm2DT4TwSaIVD6zm1SuvEWKVx6tvI2zZNw604p36sq4foOGzdB73QMaFaedq/b/mTj236Z1t/Gm0pn+sq5vYb/bozp0fR5nh0C/VZxx/7zL+jxa3pgxe4CPf6zHp/R48/0GGoJsbcbLwV4YYi8CPSy0th7BzF74IvTV6tq+9A3pN+Hbvef+6renuWCbPFtl5kylx9eIYFOtNMIylG4oLJ7Ag917ptLgx7DjhoCzchp2sEjkeTniENbSs7E135strycfUpl24u64z4CJuaVQD7XUgEYaOAQMO0A3AW6Gh48tlLC56C0p8Pvy9vM5Nx8+I1rS0oeZyWufdlro/S//rU1NTKqaL2bEVNFw/KcCLSLgO3LeH+GRqR9j07qnxwD6pHuxphenwNdWSHQ2fJK56X4B00Cau5/oscBeqjusmzQA8soN+ox1BKs22zq5x81feW6VxW3+889rCzECFbQsaszSEkUFyorPPaEQrJW3Ycavn/q8Zr+ainpKvr4+37Z5NPqT+HCM6R0i5La6EeHUB/wXkrV/VbzYTgiMMgIQNUO5DTYXxq1pTxFQpNefR5qxSBfw55xTXRK9POsJYRrtEpt4l97lXgHzqpTV4aKcqjbdKJqy53mNVU4ng0yAnHtACvmaDPFBm3JkMdhZR3SYvusBB7e3248E4YXLdYsawTSPP+Rd1zfN2Ua0f7M/pt1i+xuev2eoGOP+c16fEMPTNBP0+NSPaqjop4NsQRV++f+4v6otwPasPoC4jsEcRb22gq6moML1cSZp3u/WxGzMv+62lo9YKZOgOMn/62kkxQGq+gTOkEPHntaAmXv9FOsiOHlvnDOKVL+xZNSuucRGecEPQlm+o8wAlC1s2R0/7bqy8ZGK1bJwDQL/3a0YjD5tiQ/pdsfMPwbWPnA5Bz+zdI08XU7ED7+7f/69426O1ZIMOl343ea1wjf+qGqelI7AP8KtpYltaXyI0+LKLFomvY5VMDFVKYbz4SYbOhFBGIRSPP8RwJJfb/V8Sa2EAPsyf47WDdPvyP1VX6iuetSinxRj3l6PKPHpB4wfvsf9fhbPXolczSjXSoyZw5Ouy/7//QfzR70sd95txT05bTXAhvl+/+bksBpK5jxJ58QT22xu2JI5P7of4koW/L4H35Y/BbVUCe/e4eU735EfCXtGP+Nt7vJZuKe+MrNhtTHP/NkGf/tX0mVZrBhi0z8+dcM2dyM//pR8SLkVKkSGtLAOlHq97OhXWR73o/bLeigxEsiremk/FjZwMuTFddt/d1/hAO3RdwKvGF9X3pcXbqI76btut08hs3Nvly5o+59T9OW3LjD1kbS1qcbz4S0ZRi18OzHlWd52uc/2onbf133qLUl9t/+3vFW+3Jry6Hdq8s5mvTPq8m/R/+36HGMHu/X4/f1GFoxBHG6/w3iL+6PintNvX3h/NjJOcrm+arQeuThOK3s9TFnjX+M3cmaeTUQ8ndHim/Vveg6jQyUvTNIuUfeV0I8s7KvWgElNbNDIQJEIB6BJNKa+NCt+UYn54jhupNSQbjS7ffrw8gJoW6syMel4/q5biclOocUAfe+w91qW3LjDilELVerG8+EljNnwJFFIE2fjYLk9l/XHQ07Cufsv4Nxl/s9QYda++4qVG/R/5v0AC3oA3pgoj60EuoKrnnJnNtHgriq+Zhm7OzWHnqrk2DULVRmXLBqgnG9W+LrhwNfzW1ASrfemzqb4hvwfUjNqusEPSyVUsdnBCJABHqPQF5ZeXuPBHPsFAG2pU4RZHwi0FsE2Gd7izdz6x8C/Z6gP69Vf5ceR+nxVj2g8g6Zr8er5mxIf4J1UBbA6nn/9p8Hq9ZWynDi0eY/6cdTojgISNVakfLjz5pg/inHizdjvJUobYcpvlUpC1QbO3hqlVjSvVYTg+1l0Q8ksnuP2Y/eajyGIwKDhADU2aLiuqPXenUOFcOowB3nFw1jz7vFyttq/rYc/B9cBOy97lZbyjsy7jPAdee9/CzfaCBg+2m0tqPaZ6MYtHLu9mnX3UoaDNNfBPpNEvc/tPpgbv+cHnfoobqLRrCa/lj1fCj/7GSyb/bPdf+5scGuKuJ+kwm6v6gyQW+Fyd2oty+vTNALuje824I98b4SvgVK6FO65R4Z/wh2SrQmUHMqvvkiKd18u1GPhfk1r9jvLtFa2RmKCLSCAPrjoy/fJ99Z9Y/G/ilMrICZvV2St1bybBbGPCN0HznUi7EaEiV5m/zBnQKb1VG/KB0CXtg6YYFPKlujMkXzT4pP/8FBwN5r/9gju9KW8o5EHp8JeceM5es9Araf1sYJ1Zgc/933jmSfTYs++3haxPIZvt8r6N9RWLB8e54eb4tAhMn6H0TcQ3carq+YWPP6tf+8unruYS+2spo3Em+h7kEHZ5iuNINYrpGEG5XtfetOtZmk6u26gt4LKb5FV9F1r3ywUlnd12xIlWXhojMqq+g7d0v5wSdTxWVgIpBnBPDF/OEtPzdm0p7b8aTsK+8V/MNsGvxLzsp6L+qCCTZYs0HyFq7dZMgn8Q93sOIFKVx8ltKElsw146dho6so+KhmWeA9NbcoqqGDf0M3qWixAABAAElEQVQQBxZ4vZ5WGpbJyT9t2gyfLwRq91oJRg2Lu7aZsQ9eZ9pQrS2pG21sGCWPz4RhxJl16gyBWj+NjhNqEnfyxh/FP/+HuM+mRZJ9PC1i+Q3f7wk6kMFMFavl2Htu5Rd6Akb3oRRDEPfKdlO3vhHEPVdVb1/SfKu/B1Mzhx9syhvoBLyRlKur5z7YlGfOaBQ0s2u+lq1wHiz06V50tW+eRjzdJ1+88iITpXSHmn3iXvQ08DFsjhEAEQxWzqM2zFFcuGE2rajXey2YQCcSc2n/8w+dJ/7xiyvFSiB+w4o2ni8zPvE+mfmZT5p/87xp0/BAwzIlEM/1Gjfmlw0C9l7DrKg/+0Ap/fAuo60RbUvQ3ij98O62PvZkU8rupZLHZ0L3asuUBxUB208NT1OkEsHyVaZvus//Ye6zkeq3dMo+3hJMAxGo929oAwFLdwsZblb2dn35FH1B8OboHugeC9Rfynb/+UnNJ+goHvahhy9vr+xD15fjODEqScqoDimceVJckK75Fa6+WMoPr5DguTUSrF6nL/lHtZwXVtExOResoj+wXIqXVcjjWk6AAYlAThF46VXQfEyXtQn+00Nm72NIfjDJxkQczz/VyglWrzc20U1ukWdiuHlrbAHwAhcV1x291so5iYdaQWk4wphtFctONJXBdorynQ9L4dKz9SP0PDMuBy9tFNmzfzgqG1OLPD4TYopJrxFHIOmZXL73MRn75culrNukzOfmV3ZI6d/vVK3NgvEfcdhM9dnHh6MVcILeh/sYbKqQrflQHe+DhFt3mMmoQF1UVxJaEZglCx5/RoKqan5cHLxMYxJv0j218gIUF64bflh5K1x4umFkn/yx7kX/P65XrXxVy29BsO8c+1pL/3ablG67X1fjl/Vs9b+F4jEIEYhFAKpsUXMprhuRsOccau2uHKP+vRKoK0Yn0IXLzjaq7OizVoJtO03fNe7INhpvwWE2SN2/mybckGg+bpi6BBwHVmCMyr3rn5C/E4zOAUIA9xofhSDRtjjVXs4116bcOg3osH2ZBFP+uP3ZdadMrhY8D8+EWmF4QgQSEEh6JhfffbXpjwW7ULRU+/FFZ0q5ujgUTc72Yftvr1m3/Xf9rbsf/24/d92tlIl9vBWU8h+GE/Q+3CPs04ZY++K9LoJlb/eUJAfq662Id8xCEyxYq6sLCWIfkP7SYxPtqidEzcQbk+zyL56SUM3HBc+/JIUW1PdtxoULz5Dy3Q9LiK+xOkkfe8cV9hL/iUDuEGiFBAYDOwjhsOc8qubuiSfvXvIhswe922ruRqvGEsKp5tD4f/moFN9+udlvvv/r358iibvyYvV/owTKc4HVdCP6fa141UXmZaxu4q0aQIFNU0nmiu+5WgrnLjN722uEQjoJw/MAe4mbfajDS1o3iOdy12hYINOWzL3WPehoa6Ytrtss4SFzlcNEiQvvcIgLTzlByo+u6Kh9tQN7K/27nXTz8Exop9yMM1oIJD2TC7pyXjj31NhnPfwRb+JvbjSanpjgF3/jl8U/bF7deGH8q2MDTAeDJNho1aQYM7p1N7Lo9+zj3bo7vU83D3vQe1/rPudo2dCtffFeFyd4do3JMs0E1rDNY0Va1cDDXdZ0fX3Jg+XPVdI9o/vs7fU5V1zewXN0Ze5M4yj/9MG4IIl+nqpHFX/lzZW4OlEPElRrExPgBSLQIwQwALdC/obVdbC1f+qCz8nJB58hMwsHmH+44d/1ybm+LLmEcJ71+4pDEqduhDWTaUv8FkP8gxewujRLZd1Os7Teb2IykWQu7hZh8p818VxcPvTLBwLmXn/gWvFALIo2pySpICicdNskiAv1umlfuB4lrLLEhl0gEWy1f7eDZr+fCe2UmXFGD4HYZ7JqexbfeF7DZ73ox9sa+aiaMvbnzW4YHn0/fElpsFKOGd24I1n1e/bxbtyd/qTJFfQe444vZOGm6gp6H1TcQ2VIthP0NCzrsGcONvdw48sS6MtJ4YzZdcgFW7ZV9pAWfPGr+/vqAvTIUbj8PMEeJdQRH0LSfAQp6GpbWcserHheJr99i4x//Df0JY7fsHp065hNiwhgAG5E/nb+gjfWUsKE95z5l0jUD+ztzVaVawl0cIKXrCghHPacg3Mj6ldLvkoIZ8i6Pv0J4w21d5B1Yb+hFTdNs3dYiR4bptnC8wh4GOKhSFh8DOgFTrZu/O8+Amg/MOUHYlBv1kwpq+WPcb3n0OZwCangBjfJjNNO1P2uq+OvK4ngjEibyaIGafp3O/n185nQTnkZZzQRiHsmA4lmz3qMCeWfP1LhlWg2NijRKMalQLUujdhxKOM+XUm88W+W/Z59vDHWg3J1WGYf/00B165Vd+STBV5XoGWvEtDoxM874tCetxOj3q5fC0W/LKY18eYfnazmHlT3//hLVL39gJk9r5fN0LBAn1EhqCvd9bD1bvl/TPc3wdxOqKr85TsfajkeAxKBXiKQhgQGA39Uur1yHs3LEGJi8nvCUeJX+6Xxiwaqnhv+Cj0PNmyRkr5gTXz2H83HNjdolDzIU/VFSNQvGj6JZC4axp5j8hYV1x29xvPBRSB8ba8E1oqK2laGJLZJq0mlH7bjJE37iouf5Jemfyel0ci/n8+ERuXiNSIQRSDuGWye9XZMOfsUM7bol9QayaiHsUb98Q9pOjZESElNeNvnTeze/mTZ79nHe3vvupFb/ZtbN3LoXZorNKurItnFj6iRAP04tertmJxDrbrXEjy1ymRZ0C+EaVeHsGddHnhCV9Cn70Ov7T8/qz/q7VEci1ecLxP6wSB49GkJr3mDeHPrV/ujYd1zTz9cQNW99C+3SOlHPxd/ydHiH1X5MOGGpZsIuAhATS06MLpuN7zrdsO7bhu+lyQwZiU5Mnl13bZM+HevYc851Nqj1irGb/iwlG66XYInK88ixMPewuIbzsWpgJASRxLxT5Q8KNy608SJ+hmP6k8SyVw0DM+HGwHbJu3/+PW/ZNopal285GxT+bg2iQu19qMrcXFSux53sQO/Vvq3+2yAW0usz5+p9wo3TAdFYlQikAsEosSOtkBRktEiPgRXPwbjetOxIUJKivBYgbfPCrghrrvi29kvNNncj+Wt9PvOcmXsQUIgftQZpBpMlRWjk24mybf0Vb09UPNqupcO4qvaXlrxj9EJukoIUh3d+2k/MAQwvwa1fdUKwMS/34JyerpfKXxxvZTUjM6Ykk+lEbDBB6rSiD31k1/7dxn/5G+Jd9ABaZJg2BFEoFOCl1bj46W7V+RvKFOUkC1KsON+4HPD4kXKkHDpPl2oJWIlw8Yf++13ad/6rpmkm8n5my4wewXdcIb4R1cvJ/5WiX80PiZSUUI3bGcpYnKvpD/YI1ynppxAMjeCTXNkq2zapBJBgUMFJHDBmvVSvEZJCmMI4aJt0gBm2w94DpYeL8H9j/ekfbXSvwteQR59+T6z1QWrbnixxzMB3BL/9PTn5ccvfrvOz+2rI9sgWPGBRgAT5UYko6Fqh0588du6FfMVQ8I8/rvvbTw2VE18WlD8M5Zo+kpWGjNmtUI4atNp9o/n0mOR/nvMnCXyxxd/oWfjerPy8Xo+EBgWFXeguUQPLO3qZjH5hh5H65E7CaoM7n5Vta6XBQxf2iSizLUyc1zVgtLD4x1+iIiSaoi+MIfrNK2qWHI4rDaDdCMPUtS96JDyg8v1Y0I6ZQq8zIz96tvEUzNQ4fZdOpH4Xuo08oABy9A7BPBS3QpxW1KJ0sTHCn0vyN/wMlRHyNaASGdaWH1GFC4+q0K+FUeutfIFKV57lcgBs8zKeaN8gJkh8tk/YVbefWXWHvvQdeLhg6GubEJ7hyRvSS1rdP1tm6yRwH315kqb1JfvWEI42yZnzjBta8ySFOpE3V8WaXOWxFDboHlpj2iXZIF2s/4NKwxJz5qHttwtbznmOpko7zfmFWHBAWGxWkchAsOAgBkrXELHKsmo7Ns/RRK3ZqNM3vij+LHB9u1qX8e2Ru/YRTJ2/TUtj3ntYom+6PbfZ3csl88/9sc9GdfbLTfj9R6BYVlBB2X3B/R4Vg/oI/+xHj/X4zQ9dNN3rMxQXxxWWteDtjHa+AfJGsQ7cn4bsTuLUq6qt/u6GmBXv9OkCNZb/8SjBfvNYcbM2lAvLwfs+hJz5slpkutqWENUh71F+EKqK+GFc05NlR/20Y99WF90/vKfBQQik9/4oYz91jtIGpcKxZ4E7ks/dmuGl+pWidvcuHCnjY+PSN0mf8P+v2aEPLYublgQ74APIpF8C+RaStAz808+bpJolo8l/oFaPFbei9ddZeLb/DEZI8mbRWNg/zPty2iTURI4jFcttckYksJet69G/Rur50nPmptWfUU++4avyimHni0rtj2iCiWh/NuqL9eRRA5s62DBBwWBTPtxtNLuOFO7ZsndHNK3YPkqQzRa/KXL6sgcowSkM37/N2vJ4KTZWFQXuA0H1Nrj+u8Dm34qX1/51/IbSz9W1197ReraRlUYpcsIDMsK+o8Vp3/VY7ket+pxjR5gD/pVPZLkU3phV+RYnxQwK3+o38DONqTXK+hG1e/Jqhm0DtTQMUGHBKteqvxv3SHh+i36xUH3vp0GJYZ8iKds8sWqybXSfaqa2Ib4Cw6TsQ9eq7OngvkoMfnPardZ1R0puUKg5/04qfadErykjY9JfVTc/WzRa+2eJxLsqNUGV+rCVol36vwiESy5FgjhIM3CGZK5KiFQ8NTzMvGnX46kpo8f7aM4ouK6o9d4nksEsu/LVXI3075abJOGoPAL35KJT3+pRlLYj/bVqH83e1YcPPOw2g1eqyrwFCLQQwSy78eRwjcbK8QhfcM2KPTfyZ/cJxP6Djfh9O1I0ua0afpuhDbcSf33R7o1pVG/byMrRhlgBIZlgu7eAjAHYTZ6onsh4v6Mns+NHIsj17pyGuKlVveeCPYzzz6wK3kkJQrbkObjwPiYUddLCtfMvzZBX7NBjMm2xytk+Ua9PWf7tAsXnqFfQpTdc/V6Nbmme+TbkMJJx8rY+9+JJc7KJP3v/kXC115vIyVG6RICPe/HSfXAPtA4OSbB3w3banyow0NKyikRFdcdvdbuOfaMu+KfvkTG//BDrrfZX17zrBLvxMVHGEuuFWjfNO6YfKLhCkr6M64aLOP/4ddl/I8+IoVLzjLx+DNUCGTfl6vkbqYdttomVePKmF3Ssdq207yh3OxZsWPf1lqRW33+1CK0cOI+a1x3C0kwyPAikFk/huaKK83GFGhNRsX24XDVWgkeW9m0bzdNP5p4m+fN+m+byXYtmtu/XXfXMh7xhId1gq66zWZyvqnB/d2v116NHEmq8A2SSHcpqNo/99WeeK9JW8qPgORe56v6cu3pvpt2xZuv+9DxcUFXkgOdpJcfq07Qz1rabpJdiwdGdn9ZZVW/DIKfNqWgmI19+N26IWLMPNz3/8XX1C7ui22mxmgZI9DzfhxXfkvshP2hUYH73Us+1HQPaLP42/Zukd/44RvkD3/+2/Lirmf1O18oD26clI/eskuuvnGb+Ycb/lkJXo5AvhatEp4fINOC1sx+3f6x74bPyf7Pf11C3fsXDYuJN9QIi1fWxzdlA/mW2qE2aob/fqf50BeNWyt/hKRr/199o5KX5okVDhD5xL281eLyZBARyLQvo30UTlFyt2o7DJQ01J5H27QBKtIm7UcjhCledVHu2lmjZ8V1Sz4om/esl5XbHqtWq7XnT5rG0otnT5ryMGzuEMikHxutT33PajTO1Gpe7avo37X+i4tN/N0xJG7MM3lk+CyAyjoIHZPfFdQMco6E/b1/N2NYJuj/v0J4uR7H6nGJHjfrgWWmb+mRGwmVTRbi9ZggDmrZZf1yCCmct8z8t/uDDwv+kmNM9PIjasbMsrefXrE93m663YqHvauQ8sMrzCSi3XwKS4+T8U8om/vhB4uoLfvJv/9XmfjyzRJEyPLaTZvxBh8BqKV1QtzWKP65R1wm//DU/5S95T3y/I4VMnv8ULlvw4TccOduWbG1JHv1SYd/uO/bMDltZb0TdA35mhLqGEI2/bCHvd+BkmmBMR1aOYJtO3FkPKqpU77/iWRyLSXdwnVRU5PNSN5Kdz+sFhk2VPLSPEHwBaIgChFohADUWtF+wz17K+3wA9dW2qT6gQDOtOko4Zttk9p2cQ1EhN0ggWtU5taueeZZc8MFfyEnH3yGzCwcYP4/dcHn5Pwj3ii3rb1Zxgsza354LmW1/QUrZ3jG9OLZ0xoWDDWMCGCiPI04NG6cifbfal/3jl6oiylK+hbpw3gGxPm726DsM6NGQuqk44ZvB3tMzBu9K+gbdjvJdiUO+3tXYG05Uf0uNBRyo9bijXocqgd0me/R4z/rkeYtbo6G36Uic+bgNHuZ+JsbDblaUe2wFi84PfsMElIsg1jpK/rNYs6BMuP/+VjHRGeY7GM/tmF0x8uPks6N/+57EnLvrze+/k189h+Men/xPVfX7N62W6oQTNJqH718z6OV7QqakKcmfAq6371wxskCcrlhEP0QM6jPhq7340b3F6tb0T1k+Fqe5uXYjY+Vc0zOQSADWXboufInl37JrJhjUu7KssOK8ndvw86dbGTyB3ca5muQa1nBioaZnFuP6n/hzRcKyHiiLzF2haJdPzxrSt/8kZOT9jl9+QLJHKU5AqPel9EG0f7sPxCLnhu3qsWGmNBHrJC4YZoj3bsQMKX21mPeLUccuKiWKdTai96YzJ4x1f/TPn9qiTU4gdZOL549DYowkpdGrR+nGmeUayJYu1GJixdNG3/cvo/G06xvu9ddd6cN8M51P5RLjrxKP6RNabPC8sJ9G++QK44ChVZ+hP09+3vRal8uZp91X1K8vi+5psjUqOtYFfcer6CXH37KlBRM5p7aKu9UwJYMm+eik3NI4ez8qbfbOmKeif2qpe/9TMr3PWEmG/BrVzz9ojp27ZVmQg62z+CJ54xd+JLahi/9223in3SsFFTd31fCPG/W1MO33fwYb7AQiE7OUfI0k3OEd+N//KfvMSvnuAax5E+rd06fnON6kj+utSPlex6T8l2PSPGdV+gq5IniHzJXws3TCeKQNsh4xtQmeVSiE3Prn8av9J3bbLS6f0syV+dJBxGIQcC2N/s/8S394KNaUB62mh2q7XnrzgoZnK6cz1QGd5DEwU56Xj86o4qwc/695//JsLXjmYDJOdTaZ+hq+jfffncNhbTPn1rEBidJz5gk/wZJ8RIRSEQgiazNjjPlh54yWpG1/qt8EzM/88m69Gyft//2ouu2/vbfve66bbh2//9u+aflC4/9d3nbce+VBQcepdtS1sktL/6rKpSN526CntSvk/zbxYTxpiMwLBP06TXLmw/sj2NCq5ND74jDela6cNduY4sYGRbOOy2TfL1ZM8VbNN9MTEHChslongX1Lv3wboGJu3D9Zl3xVhWoDgUM7+Pve4eE73pdyr94Uqy6f7Bytb7crRbRlz2sqmNvbV5sw3dYZUbvAwJHzTne2DO2WVvyp+PnFWNXseCfpUDrpHDmUvGqZFtIe/yGDxt75DB5FhVLxhP1Szp3VyRct40Hwp641fo0edm0+E8EgIA3+wApvOUSY3LNIlJ447mVLRfqAbOccdY63Dbqum1avfgHydRzO540ptSi+R2tz4tuS6+ePd2uB9PPNwLNnv147zJkjtVqYDuj2yddd15qbPvvD178Vl2RTphzap07Dw729/7dhc6XU/tX9oHK2bKIYw9z9GW325UwJsaCQDzYgM1y5d6uDmOybs+7XZk208cE2VcWaEj5fljiy048Za4vqmrvjP/0QWW2/rAU33qpGCI93Ztbvuth2a/q9dhjSyECaRGII4PCKtmWPZvl/adpv3MShPv9p83KbA86Xm4K5y6T4Lk1U0Q9UG9XgjgQxYEwriaaeauEWtPIfzTNQMmA4B8V5N+QPE6vU4hAGgRMm3r75YZosEY+hTZdJR4M9EM6yORAYgjiQ9smW22zacrSbti45wLSapWQst18EQ97UvGM6fazp5MyMu7gI9Ds2e+SwflnLDHEoRhHov06blzpNzr97L9p687+nhaxbMNzgp4tnompGTI1vdpLgriwVKqtChTfcE5i2dJewMuKtecur++TcO++tEn0PHzhojNNnuXHlNhO95F3Q/wjDjUTdEzUxz7ynoqJHtWamPza92TylntqL3vdyJtpDh8CccRxSw4+TXZPbJNLFo3LZ6+YLdhzPksXzfEP9yWLxlSt3n19bh+baUQ9IGlTgjgQxRWvvUpEieMMGY+SboFQq5ngxSsxTSV+w3UrUCs0JHVK1oU8XOKfrNUObb78H24ETPtTosEayWGEeBDbn8aUTA7tbvLGH5m2mqbN9gK5uOcCyOJAEpclIVxcXfBswTOmF8+euPzpNzoImGd/HJmjSwZ37CIZu/6alseVfiPYz/6btu7s72kRyzZ8tvqQ2ZZtqFKbMrE2v2f1Ch7XlVvY7J57UP1qV4clMGz0O16tpKKTdXylLJx9Soepdje6f8JR4h02r7LfUG23F2EjvUti9r2reR//pGOMan35zoek/JP7VHcylLFr3tClXJnsMCKAtnTO/Evk/AXgwKwIiJ/gf+GRY3Lp4nHrbVa34J+VYAIMngWpX9g27tLtDxiSNuzZhWBFA9tI3D3oblmapqn73KOC+oDzYkbEHxOmLOsZzY/nw41A0/anxIMg/Zz82ncFWzjCXXtM2ytj21JSP4i0zV6hh/af9FzodhmQd7efPd2uA9PPNwLop5agNEoGimc/TAb7qhEa9UdtGo5VfeijjRDuZ/9tVK64a+zvcaj0xo8T9N7grPufQS6vK+i6p7IXglVukN1Airo3Bw+8rKSsE1wjMDn2yg4pP7Uq9xN0PGQKF56pk4i7pPzA8q5O0C3OwHzsnW8S7+C5Urr5dinrZMebd1DHTPI2ff6PBgIucZwlfnJXyl13FugkEfVYkjZDqKV7do3tWeVdaDZBR5mapemW2312uW43PN1EoBECzdpf6fs/M5NzpGHbuShLdJzUrsdd7LJf0nOhy9ma5N1njevuRRmYx3AjYAhKf/aQ+McvVgtEBykXyknGUo4hDtX+aP2N5qJySjTr13lDq5/9Ny0Wbv923WnTY/jWEKCKe2s4dRQKX/3CLRXmY+/I3qygB6teqpC4qZ1hq97dUSWqkc1evOoEvVglnQueXq2kOvEvMFnkmVUahQuUJE/Z50M1x2E1GrJKu1E62F5QrK6cl26+w5gDaRSe14hAXhBI+qBoSdpAqGWIevSDoPWLlh3PPleapemGp5sIZIGAbYtN29+u12rZ1dp0hCSxdlFPatejnjwnAkSgYwRMP4WG5gvrJFBzm8EL602a0/xXrZ3yj8mVfTQGFHoNBAKcoPfgNpn92nhRVRNd3sHdsbHuVqN0m6pUq2ByDiKzrCR8abOE23cZlnL/Deca2+qie7rxQSDv4s0+0JiKQjmxit5LKSjpkH+6EtWVA5n8+g8kVBI5ChHIMwKY0CSStGl7riPqUc16QxKnxFr7P/912XfD5wxZj0vS0zDNq5SYK2ZCn2eMWLbBQMCSvIW68pa6TWubLOiWpThmtFaJEQcDJZaSCOQDgbhxAubVsBDk9l9ob2Escv1NTey4xHElHzeWpUiFACfoqeBqLzDMe0GM3VVVte62BKvXSahfHdWoshTfdEGm2ZUfX2nSA4GHP3NcClUTa67JpUwzzTCxwkWVvefYx4SXtV4JVOzHrv8lkXmzJcR+3R//vFdZMx8i0BYCUCVPJGlbdkKFgFLV2g1JnBK5WWKtcM1GEf0ABRIuQygXIX9rmKY+U6i+3tatYqQGCOBl3xITYktGy206QnyYGIdttgHyvEQE2kMgdpw4Ws3jKg+E6YtR8jj1D5WMl320PawZK78IcA96D+5NoCZcIJmaOWtQ7tJPlNhJpXD+6Zmu2IdKcmZNhhXOWmrygKml8n2PS3nF81IMrhZPVcjzLP7Jx4pAi0FJ7qCeWzi3d3YnYY5u7L1vlckvfUfKdz+i9+c0bRO92fKQ53vCsuUXAXxYiiNpEzXdiP3mds85JkHgdwiW19tGxwuVIZSLkPQkpQl/ChHIGgG87FsCqfIP7jLJF1X7q454UMlUQz2ibdolPozrB2yzWd8tpkcEKgjEjRO4Ekceh75afuRp5UJaWt+vdVxiH2WLGlQEOEHvwZ0LN02toHc7uwD7q59bo18DlBTtygszzQ57t2XnbqOq70PlT8U/4WhjaknUfiyuw956ngUfEIoXnC6lW++V8oPLezpBBy5QlSyfebIEahu99N2fytjHfo0DSJ4bDMs2bVU7bpUbfiD10cZcI++RV18z5HFxRFpuGq6bsBOBLBGIEkhhkl6+5V4Ze9/blbF9ofj6wXb/p78k2Kpliads25UI8aHbRl13luVlWkSACOhwouOKK4Y87s6HpQDyY2uZR9XfRXkiiuctqwseF78uAB1EIMcIcILeg5sTVBnc/YWHdz232t7zc5eJf+i8TPODWjgEq+ZelTTHUxI6/9TjJXh0pZTVLA3MX+RdCpig/+ReCZ5/SQJloffBRt9DKb7jCplQjQOTv6r/FiKriz0sBrMiAm0jgBVz9+WncNnZUrj4rLrnjlnZuP+Jafm48V13NIJ7zXVHw/J8tBFw24Z1g1jK2D1XeAqq+YEVdDuGAbHxP/yQlG66vcbeblEkwZRFgv9EIB8IxI0zhTeeW9ly5RTR9n/Hm04iMBAIcILe5dsU7t1XWXXWfJLYY7MqQvDSJt1rp/ZadRWroIRLWQrIOcqPVcyrFXTyH5WCkp9hgm7sxurkM+8qRSDq80/WjwrPrDar6L6+sPVS/EPmSuGN50n5pw9K6ZZ7zN6pvGPWS3yYV74RsIRbUBvGyqR35OEy/nu/JsW3Xy7Bihdk/9e/X/HXSVHxyovV/42G/M1O6KfFR7irLo7tB2nC5hs1lq7bCDRqK8Vrr5LJv/xnKWgbBS8L9qTX2m+1/Y399rtq9s9NWSMEU7btdrsOTJ8IEIFkBDDhbjjOTE7KxN9+25g1xvt20riSnAOvEIH8IJDvDcP5wantkoSbKvbPse/ZmzWz7XRaiVj60d0mmK/7qv3DD2klSsthzMQfHxvUHqW/RNXaI4K9eaIr6SA/i6oSRoLk7rRGFvfQU31hji5ecb5uFRiTcMPLEjz1fO7wYYGIQBwCeEGyhFtmRbJKBifK3m78v3JTZaXSksSpG/5WkuK7ZHIInyasTZ//o4lAs7biL5ovY0pkiJXzuPZr2t/KFwQTeZk5o474kJPz0WxTrHU+EWg4zujiFCwNJZGU5rNGLBURiEeAE/R4XDLznVJvPyyzNOMSKqstyOC5tRXm9rdeGhekIz+r3g5SNZcIzlPzcf5Jx5r0g6cckqiOcu1eZF9ZqEXNrmHvPFb9ei0wfVeAmToV7IcHAR+FCOQdAUxWLOGWLSv27Xr64c71N9erJHF2khMXPy4c/NKENWnwZ2QRaKWt4EMy1NobtVNfrWzM/PQnZMYn3mfIEanZNLJNihXPIQJN+3mxaPam14rujD81f54QgQFAgBP0Lt+kcMMWk4PXRbZuqPaVflhZPXf3gGZRPZiwsKtgrnq7TR/70iHlJ5+zXrn+x4MeLOqQXttEt8AUL8cq+riqY+kq+oDgZsvO/9FFYJqWjE7OIdP8qxC5JHGthkuTZjUr/o0wAs3aFZ75kGbhyrr1aeLvvzONY2GEoWXViUBuEGjWf70TjhL/7FOUwPgos93THX9yUxEWhAg0QYAT9CYAdXo5WF+ZoPuLF3SaVGJ8qEiHuv8cjLPFqy9ODNfuhfITuve8HOhe0/mJpuIM0RnUi6CyvX1Xu1n1NF7hwopN9ODZ1RKq2bVei3fgLN2LzlX0XuOe5/ygqhsV1x291q/zaVwaytYOmeZfLaBLtNVquDRpVrPi3wgj0Kxd2b7ULFyw8kUx3DEjjCWrTgTyikCz/ls84yQZ/613yPh/+HUZ/6OP1K+o57VSLBcRiEGAE/QYULLyCidLta/1/uIjskq2Lp1Q7RHbveeY7HlQ285Yyg9X2NsL5yXbDIfKtnfcIpMzyOIGQcDe7p+o++lVDar8iyf7UmSzij5TV9E3b1UtBe5F78tNyEmmluRqv5JZ7bvhc4L/4BmdLKiGTF4EkxwQ74gSaFkJVq8XsLW7/uZ6hGgL7rj4ceHShjVp8GdkEWjYrq690vQh9KVg125DXBhtvwY02051zC7f95i25Yv6wk0ysjeQFScCLSDQsJ+jzyoXyv7Pf702fmK13ZKUtpA8gxCBXCHACXoXb4chiNMJtOhKKUjiuiHBI09LuGWbiBLQgZ02awmU5C5co/bPYVf9nOQJOvIFmztkUPaho6yWLK6kNtHxsaPX4h0wU7/wnmOyLd2mrNg5moz1GotRzg8vHonkVUqyhut5EKgJ+6eeYAi3vGOONFs0vKMXCrbBTPPX6yDmgr9VL46NHxMOdU0TNg/YsAz9Q6BhW1GCONu3YErNtNMPXmeI4LDFCO3YttPyE8/K2AfeVddm+1cr5kwEiEAUgYb9XMeZyRt/VHlfTSApjabFcyKQdwRoZq2LdyhYr2ySKlg97wbZDEyfTaqZLkjxygu7whJfvu9xk76vtrpBBNVI/NNOFPneTyV4cb15YYcKd97Fx0cFnSTLzt0SPLtGCqcc3/MiFy9Xk2t3Pyzhus1K9KdlOPm4npeBGfYXAbx4NCKvmqH9Ly+CZxkIt6JlwgeERv7RsrcaDnHShI3mwfPRQyCxrUT6FrS7Jr/2XSm+802GCM6iZNtv8bxl5mMY0qIQASKQPwSS+nnph3dJsNzR3qySxEXHqvzViCUiAvEIcAU9HpdMfDHhgnhd2n9evv8JEeydnnOgFC6rrMJmUvBqIuH+Campt19ydtOk/UPn6T7Uw3UJPZRg5eqm4fMQAKy+lviuX2RxhtH94jMNHFhFp4wmAs3Ib/KECj4oRMW67b+95rqT/JPCIbx7zXXbNPlPBNy2Yd2mb+HDEoijlOm59O1bZOJvbpSJG39sQLPh4IieE1EiQATyh4DbR+Eu3/NYbEFJEhcLCz0HAAGuoHfxJtUI4o7KniAOk2c7mSu+5VLxlCAuayk/ulJE8/EOm6e2z49pKXmsopdVLb6s5tYKuhoxCFLQyXH554+ouTUl21PCq2aaAt2oU/GKC6R87+MSYj+vHjBdRRktBEB+Y2yLO9V2Sdacy5k6zUpiZPJtVeujL0RumGgB3GuuOxqW50SgVwgULjtbXAsn4E0wH7m1EGynvboTzIcIdI6A21/hRh8v//QX0xLv5fg5LXN6EIEOEOAEvQPwGkXFBNrsQddAfhcm6OU7HxJ57XUzeS5ceHqjorR1DXuhQZYDwYuNp3vQW5ECJui6CmzIrZRwByvUeRd/wWECgrvwxQ1S0q+wY9e8oedF9tT+Lsy+lR94wqg6j//ue3teBmbYPwTwggGStckv32RIC2slseRVUCGPTJxr1zM8sSR1ULXHiiNeeIpvv9zs37V++IiAcpp95Y4asBu/UdgMi82kiEBDBEzfQjte8YLs//r3Tds2bfPKiysEUnv360fRdbFtumHCvEgEiEDPEUgaZzBWhVt31Ku593D87DkQzHDoEaCKe5ducbBWzZ6pqrfoxMvLmCAu1P3SpZ9VvhQWf+kNXXlxh9k2mEyTotoLv6D1DwBGnX+u7lVXko5g1douoZt9soZNXZMt3/uo4ONKP6SgPAIg4zNsw+u0/VBGBgFMvlshWesWIJjEWCIts4qvH9fwYQ6TGnw0MH6WeEfdCIs4VqbFbxDWxuE/EegVAqZtf8Vpx+qGv4wVZPKr353WpntVNuZDBIhAawg0G2fGrr9GvGPVmpBD/tjtj9utlZ6hiEA6BPK/vJmuPrkJHSpRGsQ/LntV5dKPf24mwHgQ+Wct7UqdS6rybcqv6achewOBB2yig1wO9tkLyqw5CALVfE/NroWv7NBV7OUC4rZeC/bw+2efImDmL93+gIx/8NpeF4H59RGBJPKbXhBW4QUmSlKHLRZoj1hxhBnCOokh3nHj18LHhK1d4wkR6AECrbTNgnKs4JlLMqke3BBmQQTaRKCVvjzj93+zljom9L0YP2sZ8oQIZIgAV9AzBDOaVKDq0pCs9xKDGb788FMm7bFfeVNXHj7Ymxc89ozJo6i21dOKf/oSE6WMPd3QIhgA8XxfCroPHFICo3pkdbCXxS9eeZHJDmzDgdpGp4wWAngBiYrrjl7L+ryOpK5qsaHOL5JhHPFOmrCRpHhKBLqOQLO2CZ6VuDbd9YIxAyJABFIh0KwvRxPr5fgZzZfnRCALBDhBzwJFJ42wHEiwtjpB173NWQn23kx+96dmRcs/5xTxYYe4C1KG+rzm5au5L78NBnr/hKNFZo6L7N6jpsMGR1XbkNrNPtAw45d1Fbsfgv3w/hkVe/JY0aEQgV4hgH25NVGyREidX+2i+ms7dSVNWDcu3USgmwg0a5vh1p2xbbqbZWLaRIAIpEegWV9OnyJjEIF8IsAJehfuS7hJ927vn9RJ6oxMB32sqoLlG2ZixpQQoxsSbN8l5QefNEnDtno74um+dX/p8SZqWdXcB0VAaFe84nxT3NKt9wrszPdDQMIFCR5bKcGWbf0oAvMcMQSgMWLaXZULEpYEoElTVCItqfrVIIkQ71g/N771R9ziVRf1TSOlVg6ejBQCUQ2opm1T+RZAiMp2OlJNhJUdAASi/RjFbdqX+6T5OABQsogDiAAn6F24acGza0yqUG+H6nQWAuKyye/p6rlK4U3nZ048Z8tYuuUeZUori3/SMeKfqCvhbQrY3CGBmlsbJClcqvbeQXKn9uWxj74f4i8+QrAnHloMpe//rB9FYJ4jhgBUAetI6tRsI7bp+MtOkLEPXScetHUaEO9Mi98g7IhBy+r2GAHL8rz/L/9Z9t3wOSnrh866tu20zfITz8rYB95VYXF3tpj0uOjMjggQgSoCbj9Gfw62v9qwL1Olnc1nmBAoDlNl8lKX8srVpij+KZVV5CzKZSbOOmn0DpkrxTe3t7LdrBzBus1KULbCBIPJik7E1F0/ToS6Aoy91FDdHgSBPfniWy+V0r/cauzMg8HeU02IXkvxl6+QiadXK7PwainrB5/Cycf2ugjMb8QQcEnqsFqBZwLU2Wd84n01NAxHhfr7i+bXWZBw4yMC0iBJTw06nnQZAdNmn3mxzlxh6Zs/kvDVPVJ843l1JHC2bRbPW8Z22uX7wuSJQBoE4voxLIlMfvZLMnbDR1RD87jYvpwmD4YlAnlHIJvl3bzXsoflC1/fJ+Ga6v7zjCbohhju7gqrevHdV4unKwBZC/bNT/7rrfpGrcR255zase12b9ZMsR8oyg9XJv1Zl7lb6RXO10m5MrrLnr1mkt6tfBql688/RMxqvgYqqeZEGASNgvMaEcgEgegKBM5LN98uE5/+kkx84Vsy8c/fr/yru3TzHXWTc5t5ND78XLcNx38i0A0ETJu9/X4zjkXTL//gLpn4229HveraJttpHTR0EIG+IpDUj/F+WvrmD+v6LgrK/tvX28XMu4QAJ+gZAxs8+6Kxf+4dcaj4utrdqWAf9OSNtxh1Z5hUK2Q06XfLVb7rIQnXbxGZNUPADp+FGNI1Taj86NMDw+aOensFX4rvrGAAXIINiksfpPiWS/R+zDTswuUHl/ehBMxy1BEwjLm61SJ4YV2FE0H/sfWCjNej3jLyW/9ElueNyg1DIQJEYCAQSOzHtG4zEPePhewcAU7QO8ewLoXyiheMG3vespCSfvkP8WJx4CwZe9ebs0hyWhrYa1r60d3GHxNTD0zmGQj2r2LCLzt3S/D8Sxmk2LskYMvdP/Nk87FlUtXd+7GCDfvzxbfqJF2l9IO7VU2zwqzdOxSY06gjQMbcUW8Bg1d/ttnBu2csMRFwEWA/dhGhe9QQ4AQ9wzse7tsvwZPPmRQLp1dMZXWSPPayl6uq7WPX/5J4VdvEnaTpxg1e2S4TX/2umYj6Z58i2HOdlXjKNl/QNCHlex/NKtmepTN27ZXmA0Oo+22N6bme5TyVEdTcPSWNk737dAvCT3TxUnW8KESgBwhgH2CU2b2WJZnZa1DwJF8IsM3m636wNESgHQTYj9tBjXGGDQFO0DO8o2CLFTXZAvV275iFHaUcvLxdJr/xA5NG4bJzBCu6WUuw8ZXKvjy1V+4dOV/G3vuWzAmdUHYI2NyDV3ZkXYWupocPIsVfebPJo/Sjn0v5uTVdzS8uceytGrv+GqXu9yVY8byU73ksLhj9iEDmCKDtNWK/5r6/zCFngh0iwDbbIYCMTgRygAD7cQ5uAovQdwTI4p7hLbD2wwsXKsmYp8tMbUqoE+bJL31HRAnnvKMXSvEdV7SZUnw0fJ0s3/t4Ra19YlI8JSQb/+h7u8JWDvZ22EQPnoE2wMPiK8ndIEnh/NOM7fnyL56UyX/6d/H+4P3iHzqvp1XwjzxcwOoOsrjSv//UsGfDhB+FCHQbATKzdxthpp81AmyzWSPK9IhA7xFgP+495swxXwhwgp7R/QiUuT18aZNSoPtSOHdZ26mGyhw+8Q//JuG2neLpRHD8w2qDeKz+NmE/dLjpFWOnGOFgQkb2vK55F0SKeswYE++AWXrMNHvXsZdZ1HxY+NrrhgiuvFzV8PUjAAT2zsd+651iwrRd6sYRYbfdTNAfWC4FNXXjgyF9QASDBJjzA8Ubqu6Tf/cvMv6x67tmhz4JlsIbzxW0sUBt9k78400y/vHfGBjTdUl1ov9gIOCulLvuwagFSzlKCLht1HWPEhasKxEYVATcfuu6B7VeLDcRaAWB+plfKzEYZhoC2BcMFWhI4fxlbZOsBdt3yeTf/6uEqt5uSOE+8p5aWqGqzgfYk65q9IHaeZX9E9PKkcpDieCKb7tUCheeIZ5+VOim+CceLb7a8Q7UnjdWgcd/593dzC7ztPGBZPyD18rEX39Twq07Zb/+j//er/X0QwM+FIz9+jUyoYR74dqNMvE3N8r4775XfOxPpxABIkAEiAARIAJEgAgQASIwFAi0r4c9FNWvq8Qcde1SkTlzcNq6wM73pNpmxOr1+B9+uC0V6LLu0QZbuOgqt8ybbSZfUD0H+3nw6EopL39WZF9kUj5zXPxjF4mnKuTenAN1BfyACoFYqWwm71iJl9f3Cuyyw553CFV2XVE35t8wYVZzbb38Ghls2SYT//Mruhk9kKIS3hUzJKNr/U51FjLUyfHE394oIfbSz1RzdLpn35LgdZZy67GNhsUXvy3hBmX2V62IsV99qxTUbn3Woh8EBvXZ0HY/zhpDpkcE8oAA+3Ie7gLLQAQ6Q4D9uDP8GJsI5AWBVvvyoL6EdwPntl7sA7UdPvGFb+qkeFKKv3SZFK++JFXZQAZXuvUetTH8TCWeTrjHNI3ghZd0Uq6q6JiwW9GJOyaEhbNOFm/REV1f+bbZZvVf+sl9UrrlHkN4Nqarv4Ulx2SVdM/SAT8AVMzNdgbN1Ve2fmgi+AsP710Z9u6XSWXeD1atNXn6Z2gZlKcgy73xrT5Aelbp1jNqqx+3njxDEoHBQoB9ebDuF0tLBOIQYD+OQ4V+RGDwEGi1L3OCPnVvU73YQ609eFJXvW/8sa5s7xeocY999Fd1Vbq5urgxx6bq3mVdGbdm2VAMTyd5mADWTcp11btw1lIzMfeOW6yT8sG9ZWEQKtHa9yTAhwdVqy/+8uVSuEzNiKk5tkGSsBxI6bb7pHz7/cY8HcoOtuvC2UvFV7Z9T1fXuy3gISjdeq+U73igUgZtF/4ZJ0vhvGXin3CUeDPGOypCqw+QjjLpTuRU/bg7RWCqRCA/CLAv5+desCREoF0E2I/bRY7xiEC+EGi1Lw/ubC97vBu+2IevviZQ08bkOdi01ZgNCzdvNaXwVNV8HPvFZ1UmZmUlFBNVg8ZEHJP3cI+qme9+zRC/GVNju3aLNDJnPUsn5acvEV8n5v6So3uqip49rPUpQtV+8ts/ntIYUFNmqKt31AJj5x2TW//YI+sj5dQVbHxZJ+r3G+K2WhFVM9yY2dO94d7Bc8SbO1uPg4w6uvkQofvZQciHa1mIKcP37zT7+2vp6WTdW7zAsL17h8zTvGarPXfd3qDkgTKuE3eQCCoHQaMPCa0+QGp55uekYT/OTzFZEiLQGwTYl3uDM3MhAt1EgP24m+gybSLQOwRa7cucoE/dE/Niv27dutg96P79T0jxVl0xjUiok63gotOlrAzbEmFaH/vMP4qnKu+tSqiTulBNaYU6MQ2OWyThcTpBVRvEQyuqfeA/slIKdz0s3u6ICr9WOFSNgcn/+wODVXX9GFNQbQp/xWrxlFW/mQS6/7/0a29pFizVdU8/Gvm6TcJ/bq14ule+mZTecrEEl5yZGGyuil5EQo0+JSXG7+OFhv24j+Vi1kSgLwiwL/cFdmZKBDJFgP04UziZGBHoGwKt9mVO0Kdu0SI9XT/l5BkRGHkEMEl/dcBQYD8esBvG4vYEAfblnsDMTIhAVxFgP+4qvEycCPQMgaZ9mRP0qXsBLKBb3Xz5cSoOzlR/2EzsF+t/2riIPypCnFq/03nBahBX0Nvtx63fneYh83L/mpe09RCsU+tY9TNk0n1iX872riThnG0uvUuN9ekd1mlzit6bjRp50LTaWh2To/UclXdp1jltbxjM8HH3eRDH5IFDHyq1eGDin5KMAHFKxsa9QqxcRAbLPYz3j3UajDY4jPcpj8gPG86sTx5bWaVMw3ZvkpAelXpG6886R9EY3vO27nNzyvHhBYw1IwJEgAgQASJABIgAESACRIAIEAEikBsEOEHPza1gQYgAESACRIAIEAEiQASIABEgAkRglBEYYqrwnt7WsuZ2px74pyQjQJySsXGvECsXkcFyD+P9Y50Gow0O433KI/LDhjPrk8dWVinTsN2bJKRHpZ7R+rPOUTSG93wU7/Pw3k3WjAgQASJABIgAESACRIAIEAEiQASIABEgAkSACBABIkAEiAARIAJEgAgQASJABIgAESACRIAIEAEiQASIABEgAkSACBABIkAEiAARIAJEgAgQASJABIgAESACRIAIEAEiQASIABEgAkSACBABIkAEiAARIAJEgAgQASJABIgAESACRIAIEAEiQASIABEgAkSACBABIkAEiAARIAJEgAgQASJABIgAESACRIAIEAEiQASIABEgAkSACBABIkAEiAARIAJEgAgQASJABIgAESACRIAIEAEiQASIABEgAkSACBABIkAEiAARIAJEgAgQASJABIgAESACRIAIEAEiQASIABEgAkSACBABIkAEiAARIAJEgAgQASJABIgAESACRIAIEAEiQASIABEgAkSACBABIkAEiAARIAJEgAgQASJABIgAESACRIAIEAEiQASIABEgAkSACBABIkAEiAARIAJEgAgQASJABIgAESACRIAIEAEiQASIABEgAkSACBABIkAEiAARIAJEgAgQASJABIgAESACRIAIEAEiQASIABEgAkSACBABIkAEiAARIAJEgAgQASJABIgAESACRIAIEAEiQASIABEgAkSACBABIkAEiAARIAJEgAgQASJABIgAESACRIAIEAEiQASIABEgAkSACBABIkAEiAARIAJEgAgQASJABIgAESACRIAIEAEiQASIABEgAkSACBABIkAEiAARIAJEgAgQASKQawQ8Ld0cPfBPIQJEYDARYD8ezPvGUhMBFwH2ZRcRuonA4CHAfjx494wlzgECxRyUoVkRbtAAn9HjL/X4ZELgK9T/ZzHXFqrf5hj/OK/Z6rlLRebMwTydQgRGFwFPZUBrz37c5MZN/MN3JHh6tfiXnSPBPY+Kd/jBMuNTH2kYq/TTB6X0g7vEP+cUGX/fO+rC7vvjL4js3iPj//G3xV98RN01OvqPAPty/+8BS0AEOkWA/bhTBBmfCOQDgVb7sp+P4iaW4ny98lE9lieGqL9wsjoxKbfHy/WX6SICRIAIjDYCwaatBgDPrzz+vfmHNAXEO+xgEyZ8Zce0sN48fBMRCXe+Ou0aPYgAESACRIAIEAEiQATSIZDnCfpBWpVv6IGlnelvhfH1xIQcK+b2COKD0ZcIEAEiMHoIhPv269O0OpGemDAAePMPbQoEVtkh4dYdEoZhXXjv4IrGUbidE/Q6YOggAkSACBABIkAEiEAbCOR5gq56k/JDPW5PUa/HNewmPW7T49IU8RiUCBABIjD0CITV1XOZc5DYCXVLK+iHzqtgs1cn+K/vq8OpNkHfsavOnw4iQASIABEgAkSACBCB9AjkdQ/69VqVc/SAinsrgkn57+nxsB4z9PgdPe7U40I9HtUjThAOh5WKnqZ18Z8IEIFBQID9OMVdCja/YkL7Cw+X4OVtlfNWVNzHx0RmH2j2moc6EfcOnFXLtabivuu1mh9PiEAbCLAvtwEaoxCBnCHAfpyzG8LiDCYCeVxBP0qhBCHcb+pRv1STjPGzeunv9HhEj/v0+FD1/w/0P0k+pRew5GOP9UkB6U8EiEBuEWA/TnFraivo8w+uqbq3ouKOLGor5Y4quze3ugedE/QUd4JBYxBgX44BhV5EYMAQYD8esBvG4uYTgTxO0M9VqObrgZXvUvW4XP9/v3pe0P9W5Bca6MQGAT+j1+ZGjsUNwvISESAC+USA/TjFfQk3VVfQD6iugOtKeHQ1vFFS3iF4XOo+dEeV3ZsLuhCVXbsr//wlAu0hwL7cHm6MRQTyhAD7cZ7uBssysAjkUcX9DkXzdAfRr6j7GT3+VI+ycy3JeZZe2JR0Uf33V48GQXiJCBCBnCPAftziDQK5W7C5wuAeFirfZltdPUcWSSvoYlfQX33NEMgNroW+FoFksG4hwL7cLWSZLhHoHQLsx73DmjkNMQJ5nKBjGeYpB/M96saGSeuPL3SL9Hi/HhDYR39RjxV6zNTjd/R4sx5v0YPSBQTCclm8wpQyg+vuQpZMkggQgU4QUFvlsmevzrTVxP3+SZOSD1X3FiVxBX2O7k2HlPTbKQjkIvvTKxeSf8P9yiSv+9s5qU/GiFe6i4A7drnu7ubO1IkAEeg2Am6fdt3dzp/pE4F2EMjjBL2VeizUQEdHAo7r+Z/rgUn763os1+MqPX6mByVjBMxK3DMvSun2+wV7Wr2Fh0nxqovFP/UEvmhnjDWTIwJZIVCzf37YPAmr6ujWvnkredRW0K2Ztmokr6jDCCblOvlHuq2ozJcfekomf3i3iK66e4uPkLFfe5v4i45opRgMQwQyQ4BjWWZQMiEikEsE2MdzeVtYqBYQyOMe9LhiX6GeWCW38gE9ucI69P/P9DhRD2yshFHfN+nBybmCkLXgy2Pw9Asy+eWbJFyrOwgmJs0/3PDHdQoRIAL5Q8DuP/cWHC7htp2mgHZVvJXS2rDhdvBq1ksaorjSXQ/L5Ld+ZCbnSCVcv0UmPv8NCbZASYpCBHqDAMey3uDMXIhAvxBgH+8X8sw3CwQGZYKeRV2ZRgYIQK0dK+cSOompu3T7A3Vq704IOokAEegjAmF1/zk0XsJtlUm2Z+2bt1Auu4Iuags93IdthlPiqV11SNiEyT1Yv1lK3698Oy286QIZ/8+/K95xys85WZLJb/9YwiCYSpRnRKCLCHAs6yK4TJoI5AAB9vEc3AQWoW0EOEFvG7rRjVgz1eRAYCcAjjedRIAI5ACBoMrg7h1+SG31OtUEfYbuJKruLw+nmVprzuQelgOdhN8iEoTin3WyjL3jCvH1A8H4+35ZRNMO12yU8sOgEaEQgd4gwLGsNzgzFyLQLwTYx/uFPPPtFAFO0DtFcATjYwUuTrwF8f5xYelHBIhA7xAIdVJsP6B5s2ZUMp6pE+4DwKnZuthVdNfUxtHOeQAAQABJREFUmlRNrYW6pzxJgsdWSrjhZd2INFPGrgVFSEWQJjgsIOWfP2KY4CtX+EsEuosAx7Lu4svUiUC/EWAf7/cdYP7tIsAJervIjWg87OkxL9NKBF0n6i5edRH3oNeBQgcRyAcCZs+5qpFLsVBTI8fqeVr29NoEPWEFPUnFHR8IzNYYhaOoqu3e7CrzexWewkVn6IWimcBjJZ1CBLqNAMeybiPM9IlAfxFgH+8v/sy9MwQ4Qe8Mv5GLjT09YGsf+9B14h1zpFFNxT/chsU9Ynpt5MBhhYlAThGorZ4foRyaO2DJUq2tHTI3dWltHHcFfYokrpK2m3Dw1CoJX96uq+czpHDZ2e5lw/xeOOcU41+697Fp1+lBBLJGgGNZ1ogyPSKQLwTYx/N1P1iadAiofRwKEUiHAFbd/KXHyYxlIM6vCL5Upl2Ns3H5TwSIQHcRqDG4L1QG9+1VBvcUBHG2dLUVdNfUWk3FXW2tx0j5nkeNb+HSs8WbWVWxd8JhFb38iyclWPG8hKWSGPNtThg6iUCWCHAsyxJNpkUE8ocA+3j+7glL1BoCXEFvDSeGchDAl8mouO7oNZ4TASLQXwSCza+YAviYoFsTa21N0Cur7q6pNbuCLq/tmbbNBebTgudf0iV7T4oXn5UIhHe0auTMUdX3/RMSrNLwFCLQAwTcsct196AIzIIIEIEuIuD2adfdxayZNBFoGwFO0NuGjhGJABEgAoOBgGWyBZFjzcRaWyruc0yFQ2cFXQ6YJVLQ4QTmF1+tX0UvP/CEieOferzYFfg41Dzfk8JpS8yl4Mnn4oLQjwgQASJABIgAESACQ48AJ+hDf4tZQSJABEYZAaiLh6/o/m8VM0Gvqbi3sQd9XmWCLq+9LuHEZA1WTK4lxhY6tr6UH3nahCtcdGYtfNKJf8ZJ5lL5KVVzV2I5ChEgAkSACBABIkAERg0BTtBH7Y6zvkSACIwUAuEWnZxjsgvzasriLvt1Yq3zae/g9BN0Y5ZtrEJd4ppUs2ru4a4porjgmRcFk3lR1nZ/6fFNcfdPOEqJJ8dMnHCTmmSjEAEiQASIABEgAkRgxBDgBH3EbjirSwSIwGghECWIk+27KpWfO1u86kQ7DRog3PGqhHCyq97mufWPmlorP7LCJF84e6l4UIFvItgb6B+vk3QV7kNvAhYvEwEiQASIABEgAkOJQPM3pqGsNitFBIgAERgNBIJNMQRxbew/r6Glk3tIdKUcbq+m4l5ZQQ/37ZfgqRdwSQrnLTP/rfz4S44xwYJVa1sJzjBEgAgQASJABIgAERgqBDhBH6rbycoQASJABOoRqBHELVSCuOoKutcGg7tNtabKvnNKlR3Xaivor1ZW1oMVOjmHubTDDxZv0RE2etN/f8nRJkywet00RvimkRmACBABIkAEiAARIAIDjgAn6AN+A7tZfBA8RcV1R6/xnAgQgXwiEGdize9gBb02EU9Qcbeq7+XlzxpA/DNVvV1V41sVb+F8kQOVFV73yocvbW41GsMRgZYRcMcy191yQgxIBIhAzxFw+6vr7nmBmCER6AICFbafLiTMJAcbgTAMBQRPpdvvF6zAebr6VrzqYvFPPSHVy/Zgo8DSE4HBRiB8fZ9IdaXbWwAb6JU96B2toM+LV3GXiOp7CFvmK5UgTqVw5smpQAQjvH/8YgmeXCXBi+vFP25RqvgMTAQaIcCxrRE6vEYE8o0A+2++7w9Llx0CXEHPDsuhSQlfI4OnX5DJL98k4dpNImpOCf9ww59fK4fmVrMiQ45AuLmy/1wOniOesrgH23aaGnc0Qa9NxBNI4lTFHc8Jo95+2Dzxjjw8Ncp2Uh6s2Zg6LiMQgSQEOLYlIUN/IpB/BNh/83+PWMLsEOAEPTsshyYlMClj5VzUMlOdqLt0+wPKxqymmihEgAjkHoFgY4QgDltW7Gr6oW2YWKvWdkrF3dmDXiWJg2p66bGVJrR/xsltadz4x1ZWzYM1GwQrJhQikAUCHNuyQJFpEIH+IMD+2x/cmWt/EOAEvT+45z5XSyzlFjTcvNX1opsIEIGcIhA1sRbueFU/uulkt6g7m9QuebtiSeJEV8rDIKgl480YF5mpttZVQtg/VymclU693UTSH2+xksrhQ6DaUA+rq/72Gv+JQCcIcGzrBD3GJQL9RYD9t7/4M/feIcAJeu+wHqicsOc8TrwF8f5xYelHBIhAfxEIlD8C4oPBvbb/fG5bq9q1mmByD9K3QCf7OoGOil1dl1JZPCWiS8PeXpeOfkTwjlpgvEKquUeh4XmHCHBs6xBARicCfUSA/beP4DPrniLACXpP4R6MzLDPB4Rw4hIvq7t41UXcgz4Yt5GlHHEEoBpu96B7C0EQ1/n+c0DqFXTYmFNZgZ9mC33uQTXU/TNO6uhDgH/skSYtqLlTiEAWCHBsywJFpkEE+oMA+29/cGeu/UGAE/T+4N6XXPFwi4rrttewzwds7WMfuk68Y/QlWVVX8Q+3YXHnHnQLFf+JQH4RgEr7vglVFffFm3/I1AS9AxNrtrJWzT3cWU8UJ7OnJuiF00+ywdv6949eaOIF62hqrS0AGWkaAq2MbUnj4rTE6EEEiEBXEYjri3w37SrkTDxHCNDMWo5uRjeLktY0BewW+0uPkxnLTqwVCw/LNPaMaxF5QgSIQM8RCDZVCOK8+YcaYsdwe+cm1mwloMoO6jZ3Bd3scUegYkE/6lUm2DZO2v+airsS3YVQmdc0KUSgUwTixrZAyRMnv/4DCbfvpDnRTgFmfCKQAQKN3ln5bpoBwEwi9whwBT33t6jzAmJi3Y7ZNKw2RMV1R6/xnAgQgXwhYMl07J69KRX39hncbQ2nVtDrmdzD3dUV9YMOEM/vbHjBHnaZNVNEn18kp7TI8z8LBDCWmXFRtTMm/uZbMvH/flECtTxAc6JZoMs0iEBnCDR7Z3VT57upiwjdw4BAZ29Qw4DACNQBDy+aTRuBG80qEoEIAnYF3df955Apkrh5kVDtndYm6MrkHpXw5e3G6YEpvkMxK51gc1ehmnuHYDL6NAQwLk7edJsEz6+rWDewIVQ1hOZELRj8JwK9R4DvrL3HnDnmDwFO0PN3T7pSIrua5ibOlSkXEbqJwHAgUGdibe8+ERwqZmW6wyp686p7zXdNraAHr+wQ2VWZsIeTkx3mUIleU3Nfz33omQDKROoQ4LhYBwcdRCA3CLBv5uZWsCB9QoAT9D4B3+tsrZqrmy/NprmI0E0EBh8B7Nm2q9lYQber5wLVc9gr71TmzjYphLp310qw8gV7KrJb7ZfDDFuH4tsV9PVbOkyJ0YnAdAQ4Lk7HhD5EIA8IsG/m4S6wDP1EgBP0fqLfo7yxn4dm03oENrMhAjlAIHx5m+qFByIzZ4jMmz3F4H5o5+rtqJ61dx5WV8zhB56LmiDvPfU20mvXUpzUVtCrRHEpojIoEWiIAMfFhvDwIhHoGwLsm32DnhnnCAFO0HN0M7pVFOznoWmKbqHLdIlA/hAIN7xsCuUtmm8sL2RJEIeEvTlVFfeJSQn37TdH8ILu5YUcOMv8hc7+dOOZ8qeeKK7CSp8yCQYnArEIcFyMhYWeRKDvCLBv9v0WsAA5QKBzJp/uV+IGzeIzevylHp9skN0Veu0v9FimB94U/0SPr+pBUQTiTMvgK2VWZtNMWvohwIrrtv78JwJEoPsIBFWVcF8n6JAsTawhPaMmj9V5TM51Im7U6cuBeIfpCr36h3v2qgk23Y++qELyhjjtiHluHXWEBM+tVaK4LeIvXtBOMowzwgi4Y1HU3e1xcYRhZ9WJQEcINOqb0T6MTFx3RxkzMhHICQJ5n6Cfrzh9VI/lTfA6Tq//UI8v6vGbelypxz/osUmPW/WgKAL4KhkV1x29lua8kb3KrD4ApCkPwxKBUUcg2FDZs20ntHYPehYEcRZbYwsdE3SdiAerXjLe/knHCvalh7KlMkG3gTv49zAp1wl6qCax5OIzO0iJUUcNgVbGJnccdN2jhhnrSwTygoDbF+FupU/npfwsBxHoBIE8q7hDh/IbenxED6UHbii/p1df1OP/0mOlHn+tx3f0+AM9KF1EAF8u27Gx3sUiMWkiMNIIgJwtrE7QoeIOCbfvNP9eRnvQkVhNzV1X0INVa036/olH1/kbzw5/pojiyOTeIZQjFZ1j00jdblZ2BBBgnx6Bm8wq1hDI8wT9C1pKrIrfXitt8snFMeGwcg7/JFH9TJkTOSq0xEmh6R+LAL5o0sZ6LDT07A0C7McOzuFW/Z65X82cqS1yb/6hyqYe1FTc/Qwn6DK3sg89UNvn1lyjmaBX/aMEck4RUzlrRHGbXpGwVEoVl4EHCoFM+zLHpoG69yzs8CCQaT+OwsI+HUWD58OOQF4n6Ncr8Ofo8akWbwA2Jrp2eODGBLzCWDQ9IaS9K3Ksnx6EPq0gQHuVraDEMF1CgP3YAba2en7k4bqtRR/x2Auu+8MF59XJsxOlLaddQQ+r+909NefmqRk3qRLIZUESh4IZtfwDZpo6JD1r2qoAI+UNgcz7clJ7sR+U8gYAy0MEhgCBzPtxFBP26SgaPB9mBPI4QT9KAQchHPaS7+si+J/RtOdGjsVdzGuok6a9yqG+vXmvHPuxc4dqBHFVG+I1BveD54jnZ/fIr03QYdJNBavnkCkTbFM20s2FNn8MWVBVVd/urW8zKUbLNwKZ92WOTfm+4SzdUCKQeT+OosQ+HUWD58OMQHZva9mhdK4mhY2Tj+oBfUYcl+vx+9XzeqYz9VTB5kSXLhjuV/XYq0ec7FdPXLdHNm+TcTkNsR/2BNHG+hDf4PxXjf3YuUdRE2u4FGyHopBOnLNUb0d6NVX2PSZ9f4kzQX+14m8udvjjVdngbd06TI7R84lApn2ZY1M+bzJLNfQIZNqPo2ixT0fR4PmwI5BHFvc7FPTTHeC/ou5n9PhTPcrONTjv1+Max//qqr/jTWeWCGBPkLWxXrr9AbMX1VtwmE7aLzL+ZHHPEm2mRQQaI2AYbmsM7pVvlrUV9Kwn6NYWOvaFe574J0D5SU+t/2t7MjN/A3NxePAHVfvuJiP+EIEGCEwbm7ZsE/+cU6V44eniqXYJx6YG4PESEcghAtP69OatwvfNHN4oFikTBPI4QcdK9lNO7bAUAz1K6w8VmkV6vF8PyBf1+D/1+DM9vqzHm/X4VT3ergelRQTwdRIPQCuu2/q7/0YFdelxMmPZibVLJq6+tFOIABHoIQI7VCFIbZCLqrJ7Cw43Gdcm6IdgR0+GEt3PrhNob5buE4ccqPvQoUqv5HSy+3WReZ3zb9ZW0De+bEjvslTVrxSav8OIQHRscscz1x2tv3vNdUfD8pwIEIHeIRDt0zZX0z8bvG+6/dd123T4TwTyhEAeJ+it4LNQA1X0KSuhYWINk/HP6fEJPdbr8Tt63KoHpQUEOrUtGZ3YIzvX3UIRGIQIEIEOEQhe2mRS8EAQN1Z5vIfdUnGfc2CttP6x+F5aEc/XD3O4BnvoSlDnZTFBn3+ICOozMSlgqQc7PYUItIIAxqI041uasK3kzzBEgAhki4D7fum6o7mxP0fR4PkgIZDHPehx+F2hnp+MXPiAnl8RceP0Tj3O1mOGHifo8VU9KC0ggK+JtGXeAlAMQgRyjkCwdqMpoX80vmFWJNxm96Bnu4LuqRk3qLZD/CPqJ8ze3MqqebgrG2oPrJiDJR7CfegGBv60iECa8S1N2BazZzAiQAT6hAD7c5+AZ7aZIDAoE/RMKstE4hHA10faMo/Hhr5EYJAQsCvo/jFHmmKH+ydUzbxC1pY1SZwxoxaGJh8vspoOD7sPPStTa0gT+9AhlqXeOPhDBJogkGZ8SxO2Sba8TASIQJ8RYH/u8w1g9h0hwAl6R/ANT2Talhyee8majCYCWC0I120xlfeOqaygW/V20f3htT3iGcETrK2o0yO5cO/+ulRrDO+vqg32jKS2D51EcRkhOjrJpBnf0oQdHQRZUyIwmAiwPw/mfWOpdVGCIBABIEDbkmwHRGCwEQg3vqJGKZVRfdYM8Q7TPdsqdoLuHZqtejvSDtZswF9FnIm4XUEX3YOelfhVU2sBiOKqK/dZpc10hhuBNONbmrDDjRprRwQGHwH258G/h6NaA07QR/XOR+qNlTfaMo8AwlMiMIAI1NTbjz5SDFGb1qHG4J6xiTXAY/e74xxkcFHpygr6wsP0k7LueX9NmeGd/KJ585wIRBFIM74h7Nh1V4u/5GjxT9Tj7FMq5gO13cF0KK5TiAARGAwEan1f+y/MgLI/D8Z9YykrCFRofonG0CKABxT24Vhx3fDH9bS2zN10XLfNj/+6qBmEUsTEoipRd/Qcl123jcN/ItAMATthturtCF8jiMvYxBr6e7huc61I0/aaV02wuRP3WoQ2TrzxMcPeHqrt20BtvRcyYIdvoxiMMmAINBvfjDlArZMdw7yjFsj4x66vuVHdUK0HSEGJCpuMpQMGzUgX1x1r07pHGrw+V972VVsM67b/1h//eLed8Se/L95M8EdXJNynW7JmjCvH6dR7mb3G/+4h0KyPuTmnDe/GH3Q3J+iDfgcblD+NeYk0tiXTpNugeCNxCVg9uHFS/umpvbJ6Z0mOn1eU9582Sy5ZNGbqn3SNA8dINI9MKxnGMrjvNHlkThC3aavIpKrTj8P0WWn6Cvqcg0y+WU7QkaB35HzBBN0wuS870eTBHyLQDIGk8Q3xAuU08HVSHqx8UUp33C/Yswq1WGiV+aecIOVHV0jh3GXG0gnIVOuu68s/n9XN0M/f9UbjMu5ns+v5q9HolKjR+yf6cunm26f66LVXVfr2C+sMEbLbd0cHtf7XNG2fShu+/zXMvgRUcc8e01ykiC+JaU2nRVcHUAnXDb920kW8URR8/btvw6TccOduWbG1JHt1PoP/P7prt57HX0NYxEFcChFoFYFwz14JX9lhgteZWOuSDfSgunruHaFq5yruCrpVcZe9+yqrjyZU5z/+4iqTu66gU4hAGgTixjOMkd6BsyRY8YJMfuUmCUF8qKvl+J/88k1mDC2cubRyXd1x1zEmUgYHgaRxOTr2xo3b0euDU9vhKmmz90/05fAl1exCH9Z/07e1j6Mvs+/2ry200ueipUsbPhp3mM45QR+muxmpC15GumE6rVvpRoo+NKdQa8fKuTvVPmN+UQ4Y82OvISziRFXihwYQVqRrCAQvrjdpe2qP3DvoAHOOL9C1PehZq7ivr6i3Qx3YyKt7JIx+VII64VhFQSusmnmrBOzsl0zuneHH2FMIYCwrr1wtvvIzYOV82oNaH8alOx4QT9tx+ZnV8ddv1+sRtfep1HmWVwSSxuXo2PvAxom45sCxuc83tdn7J/qyf/xiU0r8m76tWi9xN7PEvtuzu9lKn4sWJm34aNxhOucEfZjuplOXbpmX6Fa6TvGHwgm1dlcOnVXpdnHXEDbJ302HbiJgEQhUhQ9iX06MAxNjqKGryqZ38BzjldWPtUVu8sM2viAQ2aPkbVWBmmhXmNxVxR0CdvpQV+cpRKAjBNA/VJqOadVwbl7YbkEZPASSxljrv1813OLEXo+7Rr/eINC0r1a3V4ndZoXtWDHCvhsDShe9kvpOVv5dLHrfkuYEvW/Qdz/jbpmX6Fa63Uek9zlgz7kr2/bqZEYl7lojfxOJP0QgBoFgdWUFPTpBtwRxomRqXnGKKDImeiqvsKQEcTDppuIfc6TIQQeac1fNXWpEcbvN9Sx+oLIo1Y8N2G9IIQIdIVDV8mg6plXDuXl5CypbPFx/uvONQLOxd0YxnjwsKV6+aztcpWvaV63Jz+p/0/DDBU9ua5PUd7Lyz23FOygYJ+gdgJfnqNir0w3Tad1KN89Ytls27KMBIZw71C9/uSSvTwax1xAWcRCXQgRaQSDcr+qY1T3Z/vFH1aKE2ysEcVDzy1LCzTo5x77bWTPFU9V5b051gu6YPrP70KdN3DssjLWHbuvcYXKMPqIIYCwrnHK8BNt2SvHKi1XTxAFC3cUr1bSarp4Xlh4ff52m1xzQ8u9MGpejY+9FRyrDt1OV6HXnEp09QqDZ+yf6sv1YjX/Tt5XsMe5m0mxij26aZtNKn4uWJm34aNxhOucEfZjuZqQu2KtjTad5WOWCSQn9H/vQdca/3X1z3Uo3UvShOcU+GrC1f/aK2bLssKLM0sV0/H/68tl6Hn8NYREHcSlEoBUEgjUbVcVcP+joynJUld2uoGMSnaUE6yoEbf7iIwyDddJE3Kq4Z83k7i+yRHFcQc/yvo5aWnYsA8Giv+wEGf/k+8W/5GwR5U+IjpXlJ5411zF2ZjmWjhreealv0rgcHXvjxu3o9bzUZdTKYfuseY/VvupfcLrps/a9Fn3ZO3ph5X1X/03fVksL7Lv9bSmt9LloCdOGj8YdpvPp+rfDVLsRr0uSaRlrFgZfI6MT9WZuC2ezdG04/mP7rycXHjkmly4er8GBr4P2HjS6VovAEyLQAIFgdXX/+QlTq+cIXiOIy3oFfWNlYuxVJ8p2Ii49WkG3+YbryeTeoFnwUgsImLFM2zH+jf1zJT0Mr32zGRfNeKgfSovnLTPWS/ylx8mMiGk/c13jUQYPgWbjcrPrg1fj4Smx6bPaFwsxfREfb2d84n21yto+yr5bg6RvJ2n7VNrwfatYFzPmBL2L4PY7aWsvMti6wzDRQlXPP+xgs4KOsgXPqN3XGLuuk1//gZIwqdof7MAm2HmNTuyRluuGH6WCgLsaHnVHzxHadRNDItAMgViCOI0E9T6Id2jGK+ibqvvPq4RtNTIeu/fP5Kr5WrIeZ+Jevdz2X03F/eVtxoSbNz7WdlqMONoI2DEybhyMjmnRc4tYnJ+9xv/8I+COtWnd+a/hcJaw1T6L2qOP2vCw2GBIU5VPAltbkt5thxO1fNSqWR9zS5k2vBt/0N1UcR/0O5hQfnw5tHbQy9/7mZS+c5vgf/IrN4vonlV7bZptSLUHW7zmDcaGpLUDi7QoRIAI5A+B0Nh7VdvNKlGCOLjBdA7xMlxBx8uOJYjzFh5eSd+SwbkT9LmzzfWs96CD9E5AFqeaKOGWeIZekzF/iEADBKJj5LRxUG0nc9xrAB4vEYE+IJC2z0bDB/c9LsFDTwn++W7bh5vHLFMjkPUEHemdpMdlerzROdRJ6RUC+HIYZwfdP26xeLrHLu4abEXC7mvNliTctBXZq1vGfIhAagSM/XNlVQdjunf4IbX4YUnNR+2qsKdnugd9p6a5b79+DfDFO6KSn10pn7bX3Jq50RV0TOyzEqPiaPehr+c+9KxwHbV0ksZIMw5y3Bu15sD6DgACafts2vADAAGLOEIIZKnifpHi9k09jtHD3ZiFt7Ps7PxoYpTmCMTai7Qvzc1sQ9pwtPPaHGiGIAJ9QiB4do3JuXDycTVeA3iE21/VHz2B+vdBB5gwWfwEdv/5/EPUdFtl+Egmiauwu4uu8kNrB+RbWYm36AiR59bW2OuzSpfpjBYCsWOkQkAbyaPVDljbwUEgbZ9NG35wkGBJhx2BLFfQv6hgPazHaXpgaeXgyDG1tKOelN4gEGv/sVXbkDYc7bz25mYxFyLQBgKBTlIh/kn4LjolUYI4rDhnJWF1/7l3ZEW9HenaFXTZ/bqqBQe1rDy1HGEn5dNW12uh2jvxq/vfaQu9PfwYq4JA7Bipl2jfnC2ECOQTgbR9Nm34fNaapRpFBLKcoC9RAP9Ij5V6gJ0IGyCjhzopvUIAe2/i7KBDJTZUFdW4a9B7gN3Xmi1JuGnntVe3jPkQgVQIhLv36H7wioq3v8SZoNf2n2dMELexShC3sGLqzBQYK/QwCwg19tf21NUhaXW9LlAbDk9NvEHwwSAMpj4KtJEUo4woAkljpBkHOe6NaKtgtfOMQNo+mzZ8nuvOso0eAllO0B9U+E4cPQjzWWPsvYm1g/7Ba42NyNhrsJGu9mBLP/65sSVpbUsiLQoRIAL5QiB4bo0pEMyOebOr6uTVItZW0DO2gW5Vf6OrEp7uR5dq/i4hnJ2guybYOkXSO1wVtKC+D5K8V3Z0mhzjjyACiWMkxkFYL+G4N4KtglXOMwJp+2za8HmuO8s2egh0ugf9jAhkf6Xnf67HAj2e1EM3HtbJ8joXHYkI4Ktf9OXAdUcjuteibkOm1MB2a5JtyPH3vcNkYdLKUD02Wu68n8NWedTEg+vOe/lZvuFHoFxTbz92WmXDbVBeypjBXdXXw1e2V9J1tr5AzR1q7EaVPWqO3XJZZGxqDR8FwCIfrt1Y2Yd+xKGmXPwZbQSi4x+QcN0WHevfbIy04fk/eAi4Y7brHrwajV6JbT+1NbfupHdXGy76zz4eRWN0z93+77rziEynE/THtVKgIopucvxypKL2Gv65DBsBJunU2myMtcvqTJYbhU2yZR6d+EfPUZ5m7qQyD5s/cH1w46T801N7ZfXOkhw/ryjvP22WXLJorI6Ia9jqzfoMDgKm71cJ4vyTj51W8HC7tYE+b9q1dj3CbbpSjT3munLtzZtTlwxWysN1Ohi4ptbsBN3xr4vcpsNXzYGyTtCxD71wzqltpsJow4JAo/EwysMwLZzyKRTf8Sbxjz3SPN/dcXBY8BmlenAMH/y7Pa2fLjzMbM2Edgue+eVf6DrgpForacGuudunXffgo8UaNEJgUJ8Hnaq4H6egHK8H/uMOew3/lCYI4Otgon1yxy5rw7C0Zd4E6eTL+Kp234ZJueHO3bJia0n26vMf/3DDH9cpRKDfCIRbtolg0qtM6jCdGBUMRjUV9yxtoG+prp6DwR17ziNiieJcMjir4u5O3CNR2z41TO4aO9ywpe00GHE4EGg4HkbGzthwazbK5F9/w4y9uE4ZbAQ4hg/2/UPpY/vp2k01++XegbMkuP8J2jUf/Fvd9RoM8vOg0wn6WkXXHsfo+YaI2/rDD9coTRDAV71E++SOXdaGYWnLvAnSyZeh1o6Vc3caDjf8o2rvyanwChHoLgLWvJp/wmLxdAWhTl7fp7bK1ayZindw/Up3XbiUjnDLVhPDi1EntxNx89Egkm7SxD0SpO1TrKBDsJqCjxKU0UWg4XgYGTtbDTe6SA5+zTmGD/49bNZPff3w7B8f+TCtj/9SpJ8PPgKsQVYIDPLzoNMJehTDn6kjzpwaaIRxjdICAmlsNjYNa9VLacu8BeSngkCtPU6S/OPC0o8IdBMBSxDnn3TstGyservMOVA8EKllJMFmXbVX8Y84bHqKc2cbv3CXy+Ju/XdPj9OhD/agG/b4PXvVbkj26XdYPEbvMQJNx8NqeVoN1+PiM7sMEUgaq5P8M8yaSWWEQNN+Wn2/tdlZAlPr5j8RsAgk9fskfxuv3/9ZTtCh8xi3jAH2nvq3tn7XOsf5R9mRo8WMs8vaNCxtmUchbPkce87jJMk/Liz9iEC3EAhLJQle0A3fKrET9C4QxCGv8OXKBN1bgEd6vdRWyp295tGV9axXuaE54M2vlCWgmnv9DRlBV9PxsIpJq+FGEMKhqXLSWJ3kPzQVH6KKNO2n7ljjEJcOERSsSocIJPX7JP8Os8ssehYT9Ju0NDgwOf9q9dz6fU/dt+pxnx6UJghg302ifXLHLmti2IIvxV99qwR794nZo1ksSPGdb6Kt4CbY28vYrwJCOHxtigrc8Oce9CgqPO8HAoHumYV5MZg2M6vITiG6wuCu/cLse9e8YlXcrbaO89Jkza8ZcjmsdGcsNXvoquZOGV0EEsdDfXAXI2Mnwo1dd7X4J6qpgSjpqhNudJEc/JpzDB/8e9isPwfbdop35HwpXnulFN5wrlJQ63tvpJ8PPgKsQVYIDPLzIH6pMB0yFXs+OtxptN16RN/CsBHyAT2+pEer8jENiOPYaoQV+v8/9Phx1e3+XaEecSr0C9V/sxs4z27su7H2ybGfBio7WDnHg8fYZY28UMSFLb77aimctVQ8nZRD/He9WdlpL6+xs+Ohh3hWXLf1t//udddtww3TP/argK39s/+bve8AlKyo0j7d/dJEJsDkYQJhyAw5iaAgCKIkdcEEqKCruAKuCuL+u0bQ3RVEMa6IiBkBUVFEFEHykMMAAwwDk2Fyeqm7//PV7dNdXX3rhu7b/bpfV0HNvVV16lTd0+/cU3Wr6nxHj3Fe3IfTDzuMnqW4vX2XWRXO2vCYRQdxSWKgb+BXOzzm8kAoNaHSM3xxpXzzVsoP8num8A5S19EjiZDPk/cU7hMMOIeeW/C0OoeeIFvHqsUk4GcPTdsp9is1cwp1fexMyvHf9ODv72R92aAG+vhbimMfW0xEbdNdZ8Nb/6cO02fK5aiTJ+cSOt5+tLJNyNeD6LyeF+XerGemo/BwNM0hgVZ+HyQxQT+n8DO8zNf/4VjrdvalzONijos4YtJ/FkesxO/HEZN1W5jHBRu1wpZcUomD2WjSYgspvMD7QbRhf0Nu4WIavOM+wtkebB/Car058Rf5KV7PMv1fo9FLveFwhVwPmdZJR8zoKj4OvsLpUD3FAnfjJNBgCYiDuIwPvBq6ImfQ4UgnqZB7jSHWOKSYZ4on6RVhZA8PkPjjH7xgb2IToDmnUxjpmKADC51XPZIM4sndbXFPUqqtycu0h3gKNbDm97nNnnW+9yT1XlfljH4S1T62poTap9fOhrf+b23TZzxZzhybnnospfnDW0V+wBjXJiHbu8I2VrbxcfnNI4FWfR/4jLSqFuoXuGatk3M0/nuOt3LEBP15jpdy5JEdHcoxKGBCjhVzieWf0oJqNlmZ/hUfXTPTenelDAORIIg2fFkc+MnNlGeoCmyPxXXgmht9oWXCeKF8uAd8ddODmdbL3L2TQKMkkOdt4vml3sag9K6zfJstbXGHf85kQv71tYpRavvxvgxhAGUV3Qq1hgl6wiEtE/51GwmycaG9JSD2UKSAdBR7luPJ+cCPb4xkH4W3uza3BEybbaabu/eud5CAqc/IqxjnvrKSFOwaL05hTBtljAs+fiHKu8KvnstrfgmY+m+mm/EJap2gP8oP9UjEWM3zYz/2GRxHcbwvhMFjXM6zT7qd4xEhtCju5jhWi567YZS0YMCLLBCijbecZg7HJgQt8Kq6HzRFKC9tm7zGzd06CQyFBIaVHocJMLdoCS8L8sCFj76kCp7T9Tr5bI7yPFlF8NuKrtPGuc/LCvr2AavylnPo4kDOhGCL076NNsUr96nCVv7c8pbcNGV7tHbMr4suB9mzLO8qU+W8s6zCxa3FPrbjD+Oe2UkghgTqosdo30+XAbeG3WKB49+IY1Y//uq53bsgxs/vSJOSQK0T9Ju5I9h+jghncDtx7ON4ZyEyIK/KQ1mcsDcTY7kFvL7H8VSOz3D0Cys486McTy/EV/l6J8f9OQaFS7hwgxaxtb6lQxgsRcpncG2Dpgjj1dKCcp0fThIYdnoc9OMUz5/bVs9xVhzn8HAG3IChCeIbVpZ/vbDFfQc/JE2vtm0FnbYbrQjy6FsdQqqAh553ntzrIN2GsqybLtvsGTEiAoKt3GYfGyoV15iTQGtJoG56DDFU6Kp8GOajm34hrg5X8C8wjcvHry8uz0kgjgRqnaBjW7vEHfj+Ko6HcbyoEA/n65UcJ3OME55j4vkcD+H4XY4/4bgHR78A2u9zfJjjvRw/WLheyNegcBkXYg+oxBlBxK1QFgZLkX99fcVj+MG3gSiMVwUjl+EkMDQSGHZ6HCTG3PO8gs7BD14N+bqDuJRxTAPl1YbSCvp4KwtZKYczOD3ISr+59V2nqeU+Pd0zLznnyb0WMTZD3brpss2eUYfnhsdWbrOPzSAs1wcngSaVQN30GM9boasFe1ORXxBOXB1Oik+T/jauWy0kgVon6PqjvosT1+kZhfvr+YrV7TgB3t9f4IhJ9yUcH+f4SY5Rw4NMuHMIcR+Xb9RifZZ3QjqRVDHOzgRCtLFn5ey9j5Y3lyqHoJHCUF5tcAZdZOGuTS+BYaXHQdIGtEx+LW/6SacpvRPDRPmE0gR9nE9pdVl5XpEvnmvfIcIE3VgpT43zTg/VfwXdbXGv7hdumlp10eUge5bZfY46o95xzGE88jfkYLGPBpVLOgk4CZRLoC56jCb8dDn30lKCbQwc/0Ycs/rxV4/m3gXlv7BLNUQC3ufjZJraxmxw9nuRwQ552OpeS8CHhO4YDLD6viIGfcuT4uxMEEQbztd1MrRM9mE+KYBtfbxygMGJn2fKMF5wCOWCk4CTQGMlIKvnqVnTKNXd5dt4cSI9ERuDkgnqTDsGOPyOkcm2H2fZ4m6eNS+uoK+vzzdQWUEHTnueHWCmujr9uufy2lQCYfYst7WX0nvuRJ0fPE35ZMFWVqy6+cGbtqkI3WM7CTSFBHRdhv8IGcvCQWjQ+DfqmFXnHwZ13BQCcZ0Y1hJIcoJ+JUsK29H354gVbIRDOGLL+ZeQiBiwPeZPHF/hiKWX93A8muPxHBFQPp3jB5DgcAFH1lQFwdbD1w9zfDPH4zi2ZMBXPLwoJOhp/R7lehovofRuc6h7z9LmAVWOCTX/n5kzndI7TinyLpYVGorMSzoW8ZrNDTJ8culPzUwDwkz3qKin9fuIzTkyJ4FhKQHlII6fLGM5f46HLq6gJwixVjx/zj4sUrx6bw1yFtDw1l6c1MMDPWOppzpL7wIrrzgFOOM+hv2IMrxbnre5p/g954KTgC6BINuY7ulSUGtW28mMYBsRbHZZFbbRP6YNN9O1iMK0+UhjSSCjHdkxaWppz9VtLQmILmd8xrk2HdbHtnhaM61LQPj7jqN1wmF4b+qxmW6WRzb1X0/r9+ivmW6WZ4jSjyRHSpdzgy9xxFb09xUaX8jXczj+upCOcgFQ7nUcp3Lk/Zz0BEdMzm/niID8HdWd9w+Wkv6XI0ZlWzmC/liOf+fYciEIgxEPE4TzKHVz7NApPXkipefNqaTnrXz40jh46z8oPYe9X/I9XkhSNwj3XB+cRBUs+D6y+l66YdGP6JWNL9COY3emd+7yITpw8pHFdh9YPkDXPbWNXlo/SHPHddD79xpBh0/vpB88tpX23qFT3aOPLjgJtKsE8jxIlQl6epdZVjEUJ+g+DiGtlUIKxHeFDWJNqssKunkGnUZ0E2FVG/COvP09jI/wi3pVAypg4DLMTu7VlfxecxP0qLJrJzqxX8rW8So5nApmDtizZCNXrqH0AXtQxyH7UGrGZMqt3ai8Q2cfedqj47+vIPvYLrIMs+m1yAG8zfHABwrjge89uoV++1yvGiNInhsX1CLt1qyr9NfEQS/gnecYxST3z0fUR2B8DE7vsTOl2RYGjZv9pCDvCikz05I/nK711Osk5RT0jkA7tvdHK74r3Kyn9JcDyLUNHGjsWNw2PuCrHl4kwHIsg3zJpKn7sgsp95xPGf+C2JqHL4fFuvy9uetz5ypvl8B2LeMF+nNOU442+i/7Id+fWl43rz23xruaFxS+vmFyftmDF3IXSowZMZkuOfgK2m/SkUqZLr5zk1bqHQW87OgxNHe7DJ15y3r66lFj6JBpnWWr7Fov3W0dJMAvs1Z9Nwy5Htfh5yA4QOv/32vVRLf7y/9GKXhp9wm9n7+KP1P2Ute/n0PpafDbWXsYuPkOyt71MGWOPog63/EmK8P8tj7qu/Sbqrz78gvLtpr38bsGjua6PnYGpXfWv69a2cUqGLztHkJMH7gndb3nbbHqDndip8ulX7hoY6+9mbq/egEBFaHC3ord23U229yX+UO3d/W1pQXbW419LPWqde7CbfrhbKerW/fBShcG10HjgTN4PMBkakX9ch4jtNO4wOmxt/JdHOeWhpTqD0LGwX2Xfos/BrMbK97t1X1ZiI7zuLlddDfoLVNPvQ5qN25Z0DsC74P5kzvoxF+vo6z2t4GBbLO9K6LqcsB+xbiic/S1SgAvCj8sR+CXY0DuV4aZbRHL9a/3qcl4ERfShu16x/1qZQAr6Gbdsmdg3n446WU0AQlsa8fKuT45BznSj/LEHdvasXKu6ZLihvRPOX/amAztM6lD0ehb4BWR+8dJoI0kkFv0snpaOIezTc7z29jVB0/OEVJJnkEXiLXt7Q7iVKO8VVitlHPCXEWXbe51cxTHK+gI+VdWqKv7x0nATwJiY5VN5aMWNpuq7B6Xw/kUjmRkn+XNgT6Gqhb76Ne/Zs8Lsum/XXRN1ZNzPHeU8cC+PB5AwE+BsYMbFyhxtM0/or9Butj5iTOVPDJH8Lg5TMe1o6RtI0SfB62nXvs0V3VW0DsC74NRnWk1Z9AbaOV3Ra0T9LUsiO0LwljHV6RtsUDmLkES8MNgFPxyvzLFy8RylbOgYbiQoDPrGp2rFfsR29r9Ql/Wm0hgW7tfkPyJI9Jq67sfjctzEmgXCeSef0U9apTt7TiPbXMiV428ihBrAR7cwRebLlJj+Sw4ggG1RtsVPLmvL4dg84hr/zctE/TX1lK+F06EXXAS8JcA7GiYTRW7V/SXwNtl/YLQ+ZUN1zybTV9isfVx5CB236wj+RgPSJA8Sbtre0jANg4WXRSnpFF1vD2kFv6U9dTr8NajU9j0XvL1d4RwlTJJt8q19LarrscXcjVxzYv7oFhdC21Wyw+DsXgGdKp8CzGEYmK5RsWFBJ1Z12AdF0PSqK7OnJt5SHdn4M+P1HkydWP8g7PoCGu25aw0RhWXdBIYlhLIM0Ri7qVX1bOlAx3EbVA0ia6e85k+8QyfDltBR+vycdDiKK5uK+hwEgc4N/5cnl+6SsnB/eMk4CcB2Ngwmyp2D+dYVeCVOL8gdH5lwzUPfmT8wixLvh+tLU/svlku+RgPSJA8Sbtre0jAb4yMJxddFBsTVcfbQ2rhT1lPvQ5vPTqFTe8lX39HCFcpk3SrXGudoP+EH1SWK67le6RtkYtcCJIAzsf5YTkCvxyDdL8yHMYqYrmyowyki7iQNmzXYw5VW/dyi5dW1C3rH/MC1Az6VU3AuRY4hMOZcz0gvd+kw5V3RTh7KS9Vj6AcxS3flKUnVg8SaHD2xAUngXaUQP6V5crBGo0eyYMQ+7ny4oAkSQ/u63jSzzjo6kNeYRU86DewOYqTVY38+o1B1Wsqk1X03NKVNfFxlYevBMTGKpvKk2+bTVV2D06mWJcwSc/sNtczTLpoarSPOqtWuQ+y6afv8kG20/47DaI8H2x82HjgcR4PIGDM4MYFShRt9Y/or9+gUcaqA9/6hZJJ9h4eN4fpeJVj2+Em9HrqdZKyCnpH4H2wZSCn5gx6m638rqh1gq7L4TpOnMNxJz3T3UeXAM7XCJYjsI6JsY5x7Tz7FGCM+JfBSQ08sWt104fNp9zCF4vYrmW82EEc6LP3Pe45iDPqltFqvKM/RYkS51rgrR0O4eaN34d6MiPVFWnk4zwJvLXDgcOe23fQCF6kwBUO4pB/ywu9ykEc7t1Zs5Jc3V17SSD7/BL1wHCultKghkwpFD24JzlBZ8duCNguGNS29CUVtoJeJyx0tJ+eOVV1I/eKm6DL7+Gu5RIo2km2qdiVouzt+e+l1Gz2/C/2tmD3cvy3Cnz07ItL/W1pjfaxvGetkQq36f47DaI8nW08gPHBEYXxQDf7xtyLxwjfOX6sGiO4cUEUyQ4fmqL+QvfYN1P64L3VVTmI47EsvLirFXboMpA9oMOcj/Ikx7bDR6Lek9RTr5OUVdA7AvOEkR0pNWfQ5xN4f7TqHAIfF5IK/8eM3sgR+5+WcfwHxzsL10V8bfbQNN6f8ZUQLyIJelq/R3kt6bh1pT9xr/g6hxeABHxl1z294quYbmj1tH4v9W1Xk9ZM2+q5/EoJRPUyWVlzyHOaRo+TkkTf1b+g/IuvUse7jqMO/vhmC/3f/ZWCYus880TKHLSXjSxW/uDdD9PgTXdQeq9dqOuDp4bWHbzzQRq85U5K7787db3v7UX6HG877//GTxReec8XPl7MT/Im+xx75P7+r9lB3jjqvvS8JFm3NC+ny5U/X5DtkzK5ojbuEWx2WRW20T9+Nh074zLp0rjFpIkqHtNuI42BquCg+5Xbxg9o06SP2o9mo3N6XPpFdN1ErqTlKpSSlmvUfKFrt2vl2HyAx+YMkVrnYOqomTabN8v1tH6PepKWq/Ay05LfiGtUXS7Nmmrv1YcLLABCi4n6URw/xfH7HOFadwZHFyJIQB8EgFxP6/dmWRA+5CBjQ+ZXr6XM/ntQevY0z6GT9hHA5OWXRl41QZ+co74+OffS3nci9P+p1wfo9sX91DuYp27+GnYow6sdPp2/hoagfgVhI4bVreaZXB0ngUZIIM9OHPNLPM/k6bkzA5us6wp6iIM46ZisoJPlDDpt2qKO69g80Qufaq5pxq5GgBzy7M0+NdLzc1ENL1dn+EogyE4qW8HwTNnFy2jw93+n/PLX1IoctsJjJU4Ppi3Wy4b7vWnTM6kMLVh1t0JtgbMpnGfF8TbslItrf/XJNuSop8PsfFj5cP9d2uH5AvXXMqY1dRXpQD4h483hKGfIA+hKj6y+h/rZiXMX+4naf9IRVelwHPlUo7P6OwFt6Wn9XsqqaSPOM9SLNskt7tJH7IlcwxHX9RxxaOg1ji7UUQL4Qph75kWF6aoG9P0DamAPjNfc0y9SBtt/7n2MBr79M0UH+mYK+Jp177J++thtm+jG5/vo1pf66Sa+XnznZpWPclvw6nr4qU+/Pkjb+C8OV+Cp3rtswJ1ftwnO5Te9BPKv8nZtIC3g/PmkCdb+Qp/lfLd4r7USxyjIr8Ur3NviHqWaTNBNmDUaNYKXwLzVtYqyKIwj0KS4DayeI7hz6BEE1oYkgXaS7WexnO1k/mXP9wPsqbKjhfI2FFvgI2OlHJPzyx68kJ5f9yT1ZrepK9LIr+Vcut5wFDsPew+778YBuuSGz31RP3lcWzHOjaGfSfEZLpLVdfjPL/+G/vbq7wnXpHXYlFcUnTbrxE03oo24fYpKn+QE/avc6L0cMTm/nCOWL3AFQO1+HF2oowTwRdCK6Sq453N5EwPPc5sRuxVfva57qtcP3lLlm1/FdFF6df3x1B1Wqi4pd99qEoDDR4T0nOmBK1H5dex8DR+x4G0aHs0TCuLBXSa+oWy3Y+hGDuYkHKtogoVOdTyHjnOHqn13Dl3Jwf1TLoFAO/nX+9VutezCl5SdLKvZpHazrI9DlMBq+g2LfsS2u/wjOtK1YqPrjxTFzi9lx7LlvfB+SjcO0CXZuvdR9DfK0yXFJ0pbrUDTKB02ZRFFp806cdONaCNun6LSJ7nF/WJuFCvlX+B4I8fnObrQQAmE4UMWIZBWvt7AXkVvyoZVaMvXOdtobPl6XXfvJNCsEihO0GNsb4+7pdT27NgWll9bgG6bsJ2NrCxfVtCpj3fwMB55qqe7VI7JO7afbxBkzlJRUnfw5J577FnKYeeBC04CPhIItZPs+dkvCM6yX1m75zUKQ9lmzyUfTuT8gpT7lbm81pJAqP5GfJyk+ERsrunJGqXDpiBsumnLN+tHSdt42fKj8GwETZIr6Fgl/wrHgznewxGO4n7O8TyOu3J0oc4SCMOHJMFHn2LBU69z/8LY27AKbfk6PxuNLV+v6+6dBJpRAnmGN8vxWViENHa/BITS+fNoE+kAVqUiPi9OmKxg9Xs8fO+FhxR7z6UejhwqVtGBU478Bqyguy3uStTuHx8JhNpJh3nuI7XgrEZhKNvsueT3WU7uSXnwU7jSVpBAqP5GfIik+ERsrunJGqXDpiBsumnLN+tHSdt42fKj8GwETZIT9Me5w1dxPI0jwHpP5NjP8WqOCzm6UEcJ4EyNFdNVcM+xXZb9sQleZB27E5s1zol8YK+eCnjLDPf3/ANGUDbkDLoNP9Vhpcb+KVyFJpFAfgVvSOJVaOrupNS0SYG9qgsG+hpv9Zx4Yo0tgVGDrKLnKxzFeZP8ek7QlaM4+JzkLf95fGBwwUlAk0CgnTz2UHUGveOQfSi9Mztk1B1FNand1B5tyG5xfhUO4eDFXQKDwtJeEw+kc/f+LNtuy6xZiCNevTEC+5kw6JEWOz9/UicdMLmD9ud47Owu2o+vGENIuVHVJVtMAlH0N8ojJcUnSlutQOOnw+g3dPr0XT6YmB8JUxZRdNqsEzfdiDbi9ikqfZJb3PGexCr60YX4Br5iRPYEx39wdKEgAbwc9AFvrWmwBT/Be8QZc2zHS/FKOSbjyB/42R8otePUYjqpbbC2HxUKr3t6NdNmPZwTgbf2y48erc6cY+vJ6fN6lGEd2Vn6jgRlA60ESQPnEHiHOGuGuvgyBqOMfHlWoTXrSlrvYxit1HFXJ4F6SaC4vZ0xmlOZkg74tRf7rLgfEyNPHMSlI25vl+op3soOxAjZsVPKL6yg13GLO7bUp3aYoNrHNnc4x3ShvSUg9lWuQXZS+UrgYxJdHzuTcvx3Ovj7OxkVYEPD7Gar/FK6rYSdh7f2Sw6+Qp05nzRyGp21xwU0cUTpo6JOb7OttnyRiTdGCLbz8yZ20Dffsl0RWgl1tw7kaAQjwsg4QPi5a+tJIGycG/U3TopPM0tQ1zn0U0/r994zpMp0eAkjMcxiJAZMzoOQGMJ01pSPSY+RfJSxexgfk69OH+W9odM3032SE3QekRE8BGElHRPyH3K8m6PnBphvXODtnXyuM/fsYuXQDWdgsM1GIFzwcgkqH7j+D3wmdH0ZvSnT9E4zqXvPnYvZOAeKIJjEapCirwwUKZO7wTM8wnANcBwTB3IFz3/ItC46YoZ3bhV84JXVnHQfxpPuL92zmZZvzpVNwg9hSLYjZnjba/E0W9gwf/+xrfTb53qLE/byuj10GH8UuPKRS2nV1mVFWBjUfWB5Zbv6ZB80LjgJ1FMCuZcL29vnBG9vRx9KW9w9L+ZJ9Kt4/rzgGT0yz7EFR3EVK+j13+KOPsJRHD4QKA/4boIe+WcbjoTKni5bTco3wcLFlHt5KXWceBTZ7OTAH+6k7D8fLdrlzveepCZ2jbCbrSJ/P/t+7l6fof0mHU4HTXmjGsPAe/vXF3y6wv7jGU3besGBI2k3nlib+eYHdpHPwVPL7TwG58+uGaQrF2wtfpx/f+Hj/A/Y/u+9A6BaO6W6uw4DCdj0N86jYbyZ3m1O+XgZi2d1Hh/H6WO1tH46KrCH4Gkbn+9f0GFpFwgMNnmgjQeW9xcX1LxFsR610OZXx6P3H1ebY3fotB8P9CuIj60O8uO0Ic8/1NfSUmTtPXkbs8CEfGMIK4w2l3PMhdA1uhir/Rs40NixuE0+wMhjcg7IljJXo/wrdH7wNPWysJafc5oaNPR/Fd898kV6WYkv8v7xTezxmUWMQTKfOc8tXkqd55yqeAtt8k9W4ogvc1B+wDPoXl2xVQZf2GHETRz0Uu3SHRQUyg+YNd0rK/5gL+OV8rnbZeiMW9jhFBdi5RzKJyvr2A7/DBvs8/+ykbJaZb+6l/GK/c7j19LH73i72s5z3Ql306Or0gqqRavKZZXtlHo7/O74hYZHbsVQdz1ulFD6vvx95aSt8yPvpsy82dZmYbD6PvdNor5+6vrshyg9eaKVNk7BwC//RNkHn6SOt76BOo47PHLVAV51zP79Qcq88QDqPOWYYr3cqyuo/4qfEvEKe89/fqyYn/TN4F0LaPDmv1F6z52o60OnJ82+5fi1qy6LTcROMnwMH7j2Juq65NzifYWdPPvUko2FYeE3oNjlRtjOVvjDCrLvFx/8DZq/w2H02Gv30eUPXlRm/zOUIT/bis1wvzx5HC1enw21ud6YYIA+f9cmOmXXbpoxOqO2sT/5epYuYWg1017LOOFMHid89ajyMUIryNrsY7vqsS4H0emBIR7n6n1qtnubjkIHf3rinfTU6w/XdXyOXbBYaJPxOOQjugsIRFNPzfF7kDyT4hPURiPKoupy8L7JeD39I5OHTc7B8RmOs3HTbgFG3gaFluWv+0HlgyFQacW6PDnNvfgq5R5dqK6AXmokrFpScA1Qbhvs2k95G/u0MRnadzNZBVsAAEAASURBVFKHUnYTQiXDdb/98NayyTn+1vBiMOv+lKHdpoyaSrtP3I+/4s+nkZ09asVef4lIXbMd5LvgJFAPCeQ3by16UE/v6EGHWdvZsk1NzjGhSMXcjm7lyQWlVfl4juewxR2h4gz6dt4KOm3cwmd96/d9Nj1zqmrfeXJXYmjbf2ATAZmW5h0gg3fcpz5cyz3sYoWd1G0spMZGoJG2sxV+qCD7/tjq+6gr06W2uesf5/FcNtsKGz6NJ9qwrWE21xsTbCPeGEe/ebaP7ny1n7br4UmHpa7Y+n24DWe7W+GvK7yPzTLODe/p0FHYdBQ6OKJjVCKQiEHjc4zb9ck5JCG6G6bjYVJLik9YO81SnuQEPeoz8TCyfYMN2oEGB5VQbOVFiBfZPspnzM0QWtesUKd0UnANNggEyZ84wvvzlbT+OH55KJd8s+74nu0JUadRCe0fqatluVsngbpIILcEm4x4wj1pAqVG9AS2IRNp4glwyuKBOpCBpTBXhFiLt20+Nc7bgaSw2XXeoxmfPc06i9XJOjpwS03ns6/YAIIPAXU8764/mrtvUgkUINOUbRTbyavpfsG0saAp5vlVaNM8m33vy/YqifiV22yraYdNkZo2V09HrQs6vZ7Zhku3lgSaZZzbzFIL0kG/MjwLzp3HCTadSirf1pe4/G18WiF/KCborSCXuvXRBu1AHZ47AFs5tumpEACVFlq3bk9VzjgpuAYbBILkr9nmrcJJWu+FXx7KJd+su673dULUaVRC+0fqalnu1kmgLhLIvbJC8U3NmhbKv+jBPcnVcz6OQwU4tNTEmCvo4/3Pmqewn1VW1+sJtdbFjiEL70u3ih765zO8CQofrJRtFNvJfl/8gvzN6M4Ni3l+Fdo0z2bfuzPeh0S/cpttNe2wKVLT5urpqHVBp9cz23Dp1pJAs4xzm1lqQTroV4ZngVO4OMGmU0nl2/oSl7+NTyvkuwl6A38lnJ+xQaFldp/D2z7t5R0hUGmBdQvwMY14VJx/MSFX0G5cuAacNfGDXcP2CziAWb4pS4+vZgcWnDYhVLy6/nAsZt33M7Tbyi0raOGaR9nRzGPs8bVX8QNfPfi1o5e7eyeBJCWQX+JN0NOMvBAWit7Wtx8fRhq5XK1+Y6UbHw7H8Mp3jCAr6LSJ/UcMlkMspYpY6FFOQ8Vo1CCFUzAEN0E3BNNGSdjEzO5zKbeGHasec5jyxyL3ynDosuAXfJmNRRnyGmg79e40632QfZ8/6TDqz/Ypz8+w93qw2VbY8OWbs5FsrmnXpS5senlr6qcrjhOe4DbMMYLeN3ffOhJolnFuM0vMpqPQwW2DW+o+Pse4HbqqB1N3pQx6G0c3k+Ij7Tf71XyvNaK/m7iRfTm+1IjGYrTREOdScOiUe+ZFdbbNhEKDX66gckCl5ddupI63H03p2dMqvBwG1QXvRgX0A15cf7voGrVtJgpcg1/fwOfeZf10P3tU7xvMUzdDpRzKzifKPbGXQ6kJH6+uv8fIB1f008sbcjRjTLroxX311uVFSAnw8PMe305e3KM6sRB5N9G1IXpcz+fNs3Hr+/xVCgO966IPUHpG8Bn0ojO3E9iZ21uiO3MLeobs8y/TwPd+TSl2ONfNjufiBNX/i7/BB3iz1PX5j5AO09Z/3S2Ue+xZ6jj5TdRx1EFx2MaiHbznURr87e3KOWbXee+KVXe4EbezLiubyHB7yov70y+yF/dl7MX9jZ4N5jPnpg3Osm3OPbWIKMP42fzRHJBsjbSdrfC3B5k+t+4J+snTV9LLGxeVwTE9/toDtM8OB6vy657+ZkU5ng+29X52ACs2/cS53cqLu9jclzcM0nFzuumknXpo1wmZMvmj7adeH6Sr2cfMiwUo1o/MH1lhr/28uLf679jOeqzrhdLpgDG0Ttuu95ARxuCPssNmHD3B7hY4aAZkGgLKVm5hB9LsM2Ig289+mGYEwqn5yRFtVI7PgZjQVaazUtej9x+Tx9HNpPhIv4biGlWXGzdrK0kBSyfzObblBB1iwFdAOLuQECcdh9avLWmz3ld8xYOzCgmAa4jivV3o5YovZrrDiaB0UBn4hZeX+hhGK/0brteoL5AmfP6Wn6DnVq2h/q/9SK1ed1/2ybJ3hZ+8+779c8q/xMb2fSdRZv89/Ehi5w3e9xgN/uYvlOYVyK5z3xm7ft9XfqCczHWdfyal584s1h+45e+UvfMhyhx1IHWe/OZiftI3OCLQfyV7jB81grq/eL7vgCHpNpuVX7vrsthMueJ30u/NtJTJtVl/10b3y7Tpejqby7KTN9jqks3Xy8X+e3RpX5suNleu8nxAZcF6nG0cEFZu8hO+rXZtRz02dVDScpXf0ExLfjtfRedEBnpav0e5mZY6YVdTt8y0Wd8sl7Rchd5MS75czXI9rd+D3kwLj6G8RtXl0tu0cb0dio8CjXu6CC3pk3OQ62l8HQLUGrzPEhzc8Bk6bNPDl3wEwVBPTRinBuSShuMMnM3RMdVBr/NGulFBn5yjTd1wR+0DZBGGjSpG26O1YzJG41VSB+ErfTXTku+uTgJJSyAv589nTo6kv1XjlQd0PL9mgypNxcVAL/BMjR+rJuimo7jSFndspKpfSE3bgVdB+QQXe7hHH5L0bl+/XjvO9ZCA2EC5og25V/b25eU0+Pu/U375a54N5e3wgOjLFfDTeTBVj261FE/IyYadDPmkU2m1KnfDoh9VYJ/fvuRGupZX29865130/t0/UbHaLXjnsLGmnT59Xg/5rZBLHbQN1BYz6PZavzfpXLp5JaB0k8fCQD4qjm/fcxKltx+nxsF5Hh+nRvZQfmuvco7qdruUfkvIDqvnfvoIKltZnHedqas4G67rZak3pTtTF/10PoyPtKvvwsHOWuxwRQibM5R60/x3lW+2+vcZyylwUZytf1OxWhjylTd8BfTFQWcD1P3lf1OwMApDnU9cdX2ugOf64xt5OUB7Tv5FhwN2K756QdGi4CZ6tP6Y6YLJGJWXJsm2vuUX9VC8G5KQ+ZDrca0PMXDDXyh772ORVpkxSOnDdnJ+B6iV4tEja21e1S9uRX8Hb0U/Ov5W9P6f/5FyC56mjre9UZ3tlU5ln3ie8ahvphSfre++4P2SXZdr3zd+Qvmlq6jzA++gzPzd6tJGKzB1uuz/K1ntLWzoOaepyTq2wKd3m1Oc0PtzGt65WAnH5PyyBy/k10xpsIFz5pccfIXaOosBv185sNF3HLMTfeKO0+jbx9xCi9aNZ8xy9k2hiQyGRrCQdTuNeTcw0l9ijHQ/nHOpYw76NdbD6rad9NhXNxkBpPuyCyj3PB+/umZ4jnuT+IO16Ws0HPTDeDHNm+gG9SXO+DxJPmHtzp/cQSf+el0ZxLL+fmmWd0VUXa7VSRxrCUWN8ju9yjfNNjmXvg3pFV/1/XDS03NmUKqnu1iWnjujiO1aZunQe7Z8wwG7FYoUBRsVj+zR9vqJQp1fj8ML/FxwEhhKCYgH92gO4nilG6Pd7i61nTupfgt0W7Urz1hBR6hYQZ/gn59Uv3U+6YIHfIGs08vcvZOAzd4qG1rARM8uXNzWk3P8ldhwlTFZx8Qcu+OwUqdP3lEP6RsX/Vidb8Xq+eRRUxiz3N9OC045VsVk8i4Y6Tacc6mDtlwYXhLw083MEfuplXK/MTL+aIbDuDeJX9Gmr9Fw0MMn5+hjUmPquHzC6Ed1pmmfSaWdsOgr3iet+q4ofxI8Tbzg7YOMV8dRB0jAF+PRxG810wa/4YLdGgfv0EYLRzQItnJbviFSl3QSaIgE8v0DaqstGosEscYeqhUtb/tLctNDadt8PIg11Rn0veitvXwre8nDO2OUY4tigrjt0rZc8YEjy87icq+slCx3dRIok4CvvWWKog0d5GNmLqht635iCMI+B71gK08ZNVNVt9lbyRd7DeKoOOeKsftn2EnA1M0U2zgEM18evKizktHGVz+s8/E9HrykXxlEJboaVWyisya9Ld+kk7SNvtp8eW8If1xtvHSaZryvdQX9HH6oqLEZn7/p+uSL8Wjit5pp4ymGC3ZrHLxDGy08vyPYym35hkhd0kmgIRLI87lXyuWIeKu6rEIHNVxa6fYGL0G0UcvyvX3q7Dbo4euimiAT8byJd85O24hxyhHy6+sLtYZt9KqdpSuVUzCVcP84CWgS8LW3XF60oYAZdIFs2MlB2OcQm2Arr9yCjZPhdljsNWij4pyD1oXhJwFTN/OvFz5Gs68lv1DUWb/CNsvz09d1va8rKfiVoUB0NaqobGNnW76Nr42+2nx5b+jt2XjpNM14X+sEvRmfqWX7hHM3fjjpucVLCYNmKcuxx+ZAPNdhgN2KsyZwOOFNr0s/KdLIR7kEj7bHl/bQaZ2KNiov4emuTgJDIYHi9vZZUyOtiBcHLYXVhST6LKvnxA54UiO6q2IpHxcqtriza4NSWfnqelUNBVRK7TCBiI8GwdmmW10JEFSbFtnsLQyJYKIDag107RxwpvWdu3yIxVJujZEGdBM8QNvKT9vlHAXn9OfFv6FVW1YyNrm/nRabDmdP0koYzrnUaeffZrg+u59uYjcUdl3JOLjs2aGzw2DcW/ZMVSZs+hoNB30gUqtxxudBDOPyCaPfMpCjJ1aX73rC+6RV3xXyLgySYZwy4PG8m+OOHPlQZFnYvyxlT/wrFyHOLpA8zdcvcvxTIe13OZozv8FxT474VPtljtdyjBNwOHIDBxo71jsnGadyUrTKc6UF4xFtAEMd5+LSUyZQ5oj9AzHVk+rTUPGBLAQbFVtU8BUMiuaHR+7RmpjpJUzGOLyG6nmbqd2oTiyaqc+FvjSFHlcrl6JzteOPoA6OYaH/R7+lHOM7d7zzLdRx+H5h5JHKs4wDPXDNTZSaMZm6LzorUh2TCB8U+z73TZUNxz4pnJEvhP7v/4Zyzy2mjn95K3Ucso9k1+Xa/71fsVOhJSyf41g+8+vSRrMzdbps/4WUvVVe3O/krbPsxX0KI6Ecc6jnxb2An57k0RF7T5q7BHLScZV7MiPo+Nmn00x2AAf5oFzHRp89dhc6a88LaN74fVS9B1b8nXYdvze9ZdapyqaLB+Ye3uF2yq49NGc7D+/ctNNRvLg3t+SS61276bHSTR7v5njlHEehMDmHp3blxb0wDiYcQeFdLviQ5ry4l/7WRF/9sM5BBV3+7aJr1LZ2rJyfvssHq8RBH6Clm7KMs06Mt040Y0zGd3xe6lnlnanzQeN81BZ6eYdg143uxT3qnKGyJ43LiarLSU7Q/40f7yscr+V4Hscfc9yJI1wAX83xUo5RwtuZCJ+sF3FE/zBC/DRHjD4xWTfDHM54iuP3OP4fx2M4XsnxbRxv4xg11HVgjy+CRWgX7R6d08vC0nFo/Xghzxbw5U2HR9PTJk6imdZpwR9fuuDQQYKe1u/9aKWOX1lQ3aCyMF5x6+p9NO+T5GXyblQ66gukUf2J0U5d9ThGP6oi7fv6NWq1t/NDp1Fmz51DefQxXnqecdM7P/IuyszDq7D2MPiPBTT4u79Ret951HXWyVUz7MUEnSfqXZ/9EKUnTyzyGfj1bZS9/3HKHHc4db71DcX8etwM3Ho3ZRmmJ3Pw3tR5xgn1aKLpebajLvvZSfxQUWyw1JVr0//ACXZQ7LhchTXsPVbMM2keiXOQcrkKnaRtNjAKZjlGDTp0mq2OSae3aaujj0mkz/pV54F8M63TNvre6XFprGzqpqTlKr+NmZb8VryKbknfJS1XM98co+tp/R71BnMDPF73dpvqOiJ///Y27ON86Y9+FX6SJ2m51pqP+jZewrsZrlF1OckDVh/jB8fE/Bccz+b4dY4M5q1Wv3mvYeTwe4MSE3usqB/K0W+C/lHOX8zxUxwRFnLEqO9CjnEm6Exen6C+BDKeI7aqd5x4FOV4BXzwDg3b8VjGXeUvg/yjqQ7IIEJ6I2nhU4YLWaibY9zi9MTtijjpcKThh4suPM0reNtwTkEruImTR06nC/b/cjENhxM404ItbgdOPrL4Nf0B9sZ6HXtslZXv9xdWvn/w2Fbae4dOOowxC790z2ZavjnHq+I9/NWNt7b5IHvpLwv00YZxiD6abWK1vbyd8tV34a3znTY6Tf9xxGhrO359RNsSkuQlPN21PSSgHMTxZBshPX1y6EPjb61WvHK/RmSLe7Ue3IUnHMXlV/Z5Z821CbpscSfGJ693SO84RX3tlaMD9W7P8R96CUAvAFcqdjLzhv0Y7o/tLlbjQmxwFjRPPl9YlZtbZpeH/snq2wPIbfGG53in2u708Op71Aqbad/vfPWP9MYZJ9BLTLeTD925e32G8/eosJ9i//HN3lzhkjIZGwieMfrz1OuDdPti3o3Dzl7nju+g+ZM6adcJDBjlw0d21z22aoDmT+6saEfKbTYc7dnGF7Y69f1F2pu7qcdqPKvhoIt+q/xTj6X0zClleh9n/NvskoYsbONz6OwPn/q6cuSIsbjooIzZTR3Gs6LsEdbx/mwvdWV66JiZ7/DVW9EZs43/OPgqGtU1Npa+BOnXorWDdOtLnp7rK+IrN2fpS/duKc4j/uPwUTSdV+mD9FTG9fKbmmnJb4WrNyNMpqdbmc3uHJdwZE9H9BaOj3PcheP9HEtLKJyIGPC59l0cf8IRK+jPcDTDXZzxCMcLtIJz+B6r6HFcENdl5Q1f8BS2+Y9voq5LqscuL/Kx4T/y6pnXzo38mVGTBP/CYbjo+Drmh3Nq4ibiC/p3jvkdLdn0Al3+4EXcTKkhlHmYqEey8vhjkl929Biay1vZzrxlPX3lKO/+DL7ndw/joI6mQ/j8mU2Z8FVMx0iVJ+THUxiqNvxDabPUzhhup7PYjs4X3wdqwV1Nkpc831BdeUAC0bZiqIseN0IQgAPr/+b1ykFc9xc+7vvBSu9HfsMm6vvCd3k2n6Lur11UXB3Uaaq5L26bP523zTO0TbWh/wc38DvpJep4N29lP3SfIpss46MPME56eucdqetjZxTz63GTZ4eaff/1HbUXq/srn1RwlfVop5l5tpMuV9hJfo11fa5gd68NscEF7PP+r/4Q+yjV30yY7Wzm3z1O32QMAMxym30Hpvn8HQ6lx167n2aN2bmCLk1pHh/8gV5grPOLDaxzTKhvffd4emzVIJdt0kYO3jZJsdMYG3yVxwaw0X72Hnz+xHwetfABNvrBU7nuioFY2Om67S6Nary+NQveelvrMf6YbTjoouMrXx+W+Oiim5c9eKHvmHvmmLn08TtOoRz/5+ng7+iVTS+SjX7PiQfQB/50NH+49nxrBOktBoEYm+80fh23cZJqo5t66PqT7vHVT4++fIyNny5Mv3DEBWN0cS0lfA6c0knH/3ot1+dvpuwx7bZ/mUALWLf93iHNoqd43rAQVZeTdBIHLBtZKX+F77HijTCHI+QdJ+zNxJs5sjthtXX9VL76Tc45m6ZwXIUbLSCNgfoILc+8hfcj0EgcYxIkkcbqN770Acs8PXGcWjkvs05ohC1CGIaj8LHW7chQlgfD1nLuhy1ExU3cfeJ+jGU6XX1Z1yfn3iMIJirwy/2xToFnOo2/fgGnUO6BdQqDiDq2yTn4oywIF92Gf1jZzraydnS+teKuJskLz+xCJAk0RI8j9aRGotwy7zWG1fMo30eKq+fjxiY2OccjFPlOiPN9s/LhU+O9V6rprV1W0E0HcpUcas9JAZISmOz8ksnxmWIXmloCNeuyaSfTc0t2N9QGF7DPUUeFCHa5qaUZo3MYA2BFLci+A9O8K9OtnL750Xnjgym+9h82HzbaZsPFToNOMItxthVjAz2gfGQAH5xL7eRZPPiZdZEW3jpP3Ou2Wy8LqqPTufsyCSSux+Buw0Ev6jiPs/1+9LCxdVnPmzBhG59jDI5z5FNGzSDoHoKM0W9YxEffDGEI/cjOUQRMdAlBeuv9/fdyG1OKbXzywC/H1pcw/cK8AONvCaJ3WE0/dVf8OZG6drNu294hNt0Wnq14TXKC/jcWwDsKQvgxX6/geDvHX3G8iWOc8BwT4y/oEI68RKRW0Pfga5LhEma2QYtLk2Su81K4jQlgl4fiP7ITDb8QxYOxHzaiiZtops22BBPVhjko+cAp1O/BR9ImTz1to5H8IPxDKRNaP75BNKD3q6vz0WmS4GXydmlfCTRMj31bTzAzv9SboMM5W5RQhFjjD39JBWxDK25x5yMztQTbRLyYzxBseflkXktDIXWBh46Qf2VFCKUrHmIJJKLLZXZSt7v6vc+DFu1kgQ4kxTwf+uGWhe2uCH5jAeQLTnJXxnP4aNLJ+MDPTka1h6CT+nA8ZYYwPoKjLjzM+rZ80NnKbPkmb5cuSiB5PWbWVhz0qHpd7F7r3Zi6Jk8gOim6J9eo9OAjdWx/55IvdFP5gwCC5KuE9k+1+aLbwkr4TB/tvQjkKvlCJ1dbvpS34jXJCTrOn8NJHMLVHD/IcSHH/8fxXznGCf1M/ALHhzlC2R/n+EmOfgHLIuaIFmkccNzmV6GQdxlfMQKVWPhsHlCjyiKchaEEsMsVH58+FPEf2dOlXyiW+xUW8vywEU3cRDNtshNMVBvmoOQDp1C/Bx9Jmzz1tI1G8oPwD6VMaP34BtGA3q+uzkenSYKXydulfSXQMD32bT3BzBww0Dmkp0+KxBVQiwipGifSZY1t4Vdm/4DHd3yNE/TCCrx8SCi2sx2vrOMEBeCrNm8pZtfrRibo7hx6vSScGN9EdLnMTup2V7/36XLRThboQFLM86Efblk4i4rgNxZAvuAk92cxPKukk/GBn52Mag9BJ/XhFdoMYXwER114mPVt+aCzldnyTd4uXZRA8nrMrIuQoiYOelS9Lnav9W7CdFJ0T65R6SEJqWP7O5d8oVuxxVvLlHxTmtXmi24LP+GzjM+hI8hV8oVOrrZ8KW/Fa5ITdD4lQPoS7i85/W8cv8XRe6PzTZUB/ey21L2P848xynD+HflBoY8LMYmXuCmIuNoynIkDbiOc09SCXS58Kg4L8DhX4T8OZimz21weURg9lXIMhi0BZ1z8cExN3MSFax5lLNNlCpIB59NxluUN049XV6Q9TFTgl/tjncIZzHLetgacQrkH1im6jDo4p2ILKIPDCp/HU/k2/MPKdvww1D2+teKu6n2slZdNDi6/QgIN0eOKVhPOgH7nl7+muEZeQX99nUe//fjEeiPb24lXJQBtU0tITfBW9mVFXnilMvw63463nnPIr8Xrt74hzZjyCLklK+rbkONeqwRq1mXTTuZeKtndUBvM8Gqw0aijQgTbWesDN0t9jAH2n3SEr33fa+KBtM/Eg+jDe3+GBnhyji21Mg6A7xkJ3vhgpa/9h82HjbbZcLHToAMNbCkgm0rcvVZQvjWAD+CWBrJ5Nb4w6yItvKXPctVtt+ThGlRHp3P3ZRJIXI/B3YaDXtRxHmdX/MHwD9jq+Oi28Tl0D/BogFKbO3Y3+jA7aMQVuuk3nhf6rQNbCGN7CUF66/3993AbKwl0CN9c8HmlnzZd9tOxMP3CvABjZgmid9gRc9Pz+HPibdh87WPdjtOu8GvVq88mopoeBSPF8zl+iOPJHOEg7jmOQSvZXFwWLuMUlnDwG83keCHH93H8DEc+ZE0oP4vjTRwRXuR4KUeMBl/l+G6O/87xExxRFjV0M+ElHKi7G7fJhBQ7tkjtMJ7SvG019+QiyjBWcXrGFG8bKUMQYTDeyc6YlBd3prWFEh//ujh/ntmTMSKr4J1OpWnaqB2VV9bVW5ezId2k7s/d52LakZ3BTBs9S6VXbV3G3lufpdN2OYfesfP7FA7q4dOOpTfv+A56+07vVbSAR5nJhnXexAytYA/tm/tzNG9CB1108CiFj/jzZ7bRe/bwvKlf8dAWAg7qp1RZl4JWgSKnsbpWCJJG3swxaebbUcbXq9tJndwuvLvqbUpZeTudZRAuOl94lIc3yfftOYLP6Pi3I/Av0i/pJ67V8tJ5NMv9Fzg0S19i9qMuehyzD7HJsZUWAxDqYUeJbzs60hn0wb89yId0NnvvFM1LeuzGtQpqEvPE85SatkPtGOWsk9k7H2JPIgOU4ckP3mESsk8sIlq/kdLzZlOasafrGkaOoOzfH2DIt37KMO56qie593td+50Q83bS5Qo7uY0Hd2w7cH411Aaz/cyyTuWXr45slxP6ierCBgN72HYJZlrycZUxwMotr9Ke2x9QZt+PYq/tb551Mk3o2YFtZ4Ymj5zBY4SNCtccHt9f27pCjRnmjtuN9uKzsPtOmlJhpy9kGz93XIZX5zE2KLetfmMDbxxRae9BCz4zffiIvX9i9YByFGe2I+Viw/HcYsd12+03htDroN5QhLbWY4yVeWdZapdZlJ41rXycyz5b0jvNVE5Hqxn/DsVvGadN0U2gJujj8/P2uUQhJ43oGEkHTHkD6+NetN/kw3lMPYJmjJ5TMZ4X+k6GU4OuCq8gvfV0posn/a8op5CYG8wetwsdPvXN7DhuZIUu++kYnjVMv5bxBP3F9dnifEH4rNySpadf9/J3YRSHA6d08PupI3K7ceTcSNqoulyaCdXeuzcyi1s4YklkQYHdAXzFxPntHO8q5IVdfsQEWBGfynEDxyc4fo3j7RwRruU4m+PRHCUczTdXcMQ5dXz+/hLHaznGCXAWt4EDjR2L22QDvuwX4dK0e7SS55cPdfvDjJm90PmouiavkLTJT0/DgOs46IKViHOp2fwgO4boVORIL1h1N8ERBc66YDuNDrMGIhg+OIaQoKf1e5RvHeilB1feoeBbAMHyUw2eDSvrhzEE25WPXErHzTqddpuwf2S+ZjtmWvqGq1lmpvH1H45nfvtcr9oKh694gIPxc+Zl1g1L6/1olvuoXiabpb9aP+qqx1o7id4OPvgkDf7yT5TigUb3x8+MxLv381ex8jBMyr+fQ2meUCcRBtlR1uAf76L0AXtQ13tPqokl3hN9F/NrmX1jwJN2Wlvp77/+95R7ZCF1nHQUdbz5kJraiVK573+uVROvzrNPocw+u0apMmxo2lGX/ewkflCrDeYdaFgSkHLQmjyQ1yohio32e5ZsLqsm67DvC9c+Ru/b/Xxl6+GMys/Wm2OGjX3r6M6lt9IR095KE0eUgHvEBobhkwud9M1MY0Xtzlf61CB9Cp9NtY0xbO3gA/yVC7aq87PYEmvacbM9My39Goqr02NPJ+HNnbI5SrFjZAl56C92ZuU4X3OI3Mo6LM8mV1PXdF31G4vn8jn1QU3qDwDrPOXtiuvNbqURHaOkiMfgWzg9ksf5nsNEKZC/f1vbfvRAWvAbF4On8DP5J5UvfJv9GlWXSzOo2p/oSWZxH8d/5cjaogI06DscD+e4t8pp3n/qPrDHywLbWAf/cCe/aVgQY1hB+PwMVq06zzmV0rvNKXu5NIOooJiAYPvvBz9Nb53zLnr3vPPYcD/KEA42mLXD2Wh6LwG8QF7e+Dxd9/SVDM+Qp3E9E9V5l0VrnqKvH/1Tmj56Ni1a/xT95z8/Qt9i+LZFDM9yiQHPgj/QyxjmYefxaxnm4e3UQZ101TE30A4jptJr21bQJ+94N+08cQ/l6GJD71qaM3ZXOnHuGbT9iCllL6dqZQlD/8yaQTr/LxvVy0v4oF+tBOsg/Y56jfoCicqvgXR11+N6PMvATXdQ9u6HKfPGA6jzFHyfDA55Pive9x/fUkTdl11AKf7Al0QY+PVtlL3/ccq85TDqPOHImln2fY29yTK2e+dH302ZXWcX+Q3wR4AsfwzAyiZ2ENU7FJ/rTQdT59uPrndzTcXf6XLp5yja4D/+g8+X76D8N+Bsa/beRwkfb5rRBpd6H+1ObLYNZglH0cRGmxyl7tce/BRdfczNFVBqoMdWWUCu7bTd7nTdM9+ksV3jaGP/ejU+GN+9vYJ8At0eE/ens/e8kGazTcbKezUBA/dXNmbpkZUD6gwqtrkCckns76EMxxZldRt2/P7lrQ3P5PTYm6ArOOFrb1Y7x+A4brjpb1Q9wQIa8Mzten4Y/ezpq2l79sCOnTF/WXwjXXviX+mp1x8m6Dc8ucPxG86WY8v7Zw/+X3VM1fZu0PsFvQQM4n/9cxN9/vDRPJbPKP388r2b6b/eUAmzptd19+oDRqS5tzeTSkZiOzObd3KUyTm44v4bHD+ARLsHfNnrv/F2yvuchQQURPeeEGFzBYF4GOBTBy9tfI5Gd43llfNrrBAOB03BRgovwCj/4MnL6fl1+HZTHm57+QY6j7fQX/v0FbTrxH0Y3mUK/b+7NxjAEN53DKyof/+tUxXMw9NrHqYreDX98iOvpZtfvI5x+LYR8iQ8ueYhem79k6pc8mq5wvh/++GtZZNz8MP3FcA6HDEjmYlRLX10dVtfAkWINT6iEiUUHa/hrHhCk3O0K+fFUwl5hk+xozlM0Itn2wsPlxIHcmuxSar+IQVP7vzhwXlyr7+sm7mFMhv8/JKyrjarDS7rZISE2GwbzJJuo012UheDd0CpfeORz/naekCuwQav6V1Ndy37k2KDI3DIA2wTbPJTaxbQD5/8Wk22GCvkX7t/C29zLZ1PRWNx7S/seBA8k7Pj5l9Cc6ahv4Atxgo6PmjrYbjor/5MQfeYSAfBqUHPMbb++gKc+CXlKwqr5qgDDHR93Ixy7JIJejeARoLApm1jtbz0rs2Sra5uXFwmjpoSvCcksfAIc9rdhxvyHvfJb8usMggYTQLNDOcikA0CsyBprfvqViAf9HwbrUCyoVz42mASJF/opB2BhdHbw72Um/nVpqV9s74t36RzaSeBIAkAaixfwEDHObsoIV90EOc5YotSJwpNfu16RSYT6Ch1gmjEw3x+XflEXD4AFD80BDFJoKzoKI6x0PO8DdKF9pVAK9rguL+Wze5GsY26TQ7jIzYZ/RPefnlx+6/T2+ysLV+vq9/b6G35el133zwSaAf9jSrtMP0USDTwE70MqxO1bZve2PKj8nV0JQkkOUHnA5H0TY74XPOGQsQ9zoYj7qNFvm3PUAYBo4mgmeFcBLJBYBYkrXVf3QoMi55voxVINpQLXxtMguQLnbQjsDB6e7iXcjO/2rS0b9a35Zt0Lu0kECSB/Jp1ypEadXRQalLp3GZgHd6Wi6Cf6w6ij1KGiWt+3UZFmi6scEepF0QjE/2KFfQCNBxW7BuBhZ6CEz3sNGAIuWb+GBokS1eWjARa0QbHfXKb3Y1iG3WbHMZHbDL6J7z98uL2X6e32Vlbvl5Xv7fR2/L1uu6+eSTQDvobVdph+imQaOAnehlWJ2rbNr2x5Ufl6+hKEkhygv4LZjuT49c53lWIuJ/FEWWPcnyscOVL+wWcfwPkmjpApT8+n0ZoVigInEkTyAYdZg3n0PSANCAfcC5Ggl5X8nAF7fxJh1F/tk/VwfmXVQzj8H4rPBtgHlYomIdSOwMKFiZKP/S2497jrE07wTrElY+jr10C+aWrFBN4TlcQZBFY5oor6OMjUEckYY/w2DqonPCMGxOxUjBZcYJubGVPjWNXAXAiCec+Gu50MLfqS+Hdu7iKvnhZ9YxczZaWQCva4LgCD7K7po02eUtdzyZ7kKp+NhZILoB3Eugl0PjlhbVntm+mk7K/SfEx++fSjZVAO+hvVIlirC1jc72OPkYGJJoE6PS2wS0hdUrjd6nnd3X65CeV5PPKZ1m18cdEPGpYEpWwgXQ8YqyfF3d5DnhXzT3zIp+juV+t5GDlHJNzBbOmwYsJfTNcxSMsHFLAsdsJc95ND6/6p3JQga3qWA2H45kDJx9Z4b1R6uJ8C7bA4Ss7jPaBk99Ai9mBHJy6LWBe+Lp37KxT1Fmz2xf3Uy97a+1mCDY4gYEX98dX30dLN7+sMFilHTvvyn7UIke0A+/yOFuD7Tv4Qmh6f62FfzPWdQ5pGverDPzhHwzv9AA7vZlPne88LlLDfVf9jPIvL6POD7yDMvN3i1QnjCj34qvUf/Uv2HHWOOq+9Lww8kjlOd5S3n/FdcohZs8XPl5Wp+8rP+Cz6eup6/wzKT0X33brGwb+/E/K/uXeRDzU17enyXJ3ulwuT7zPW80Glz9BeKoW24i6gFN9cf1CZZPh0R1nzsvt95F0/cJv062Lf6XZ9CPp9iU30XPrnqARmZF03OzTGBp1p4oxQXjvyynE/i5lKKZu9jXXx9/0gJFuQ1Epr11KCZ9WteNOj73fEr/jcNff0l9t8B1kAf3E2Nwci2/p30g/f+67FfngaKvDf2PBDWqlok/3L+8noCt44/Wu2HqpsWyb26i6HP3XGP6ia8gEHWLEV8BWg4LAFzMbpAmeKagcX+XL4dsY7qEA2WbWDeJj0nppwL+VfB0KNBzKzHbNNGiihrj90vmG1dVpm+U+6gukWfqr9aNheqy1WdNt//d+TbnnX6aOdx1HHYfNj8Sr9/99m2jzVuq66CyF7xypUghR9qGnaOAXt1KasWa7/vVfQqijFZd5m7/8Qkp1eVCNqN3/vV/xcy+hzjNPpMxBe0VjWANV9rnFNPD93yT6AaKG7jSsqtPlSlG3og2ufIrgHNPe6bZRr6nT6fegQRp73nQv7OCDVbqgPJvNs8Gf6WMLvW9yb+Mn5X5XvzoY8Ope300anY9ZZqZ12kbcOz0uSbkd9Lf0tN6dn25iXG3qtaTlKnz0tPm3bKalTtjVrCdpuUp9Scu11nyp73e1teFHO1R5UXW5NLNJpqfvZzYf5TiHI+/lpiUcL+C4mOPvOLrAEtAn5xCImW42IeFLGSAVyr88e/jkf3jp53TS3PdweT+X9/quMOuTc/B6lFfD4Uly8sjpdMH+X1F1n3xtkM6bP1JBoQBvXF+pPozxxr90z2ZavjlXXLn+Pbd7z/K/VOCvy2Qd7QAezg8fkpUjtoj1AYS/PPxx0ePQxu6Uq9DyEsDfR8mD++RIz5Pv7VOTcxADZiapkOPVbATZlp4I35E93tnvvn51vl2dBS8w9hzFLSG0Wx0IU7wepnecxg/HH0i5vTxvq0+xB3wX2lMCps0108NBKrrdxfOIbdSfTeykYJ4/vPoe5c0ZjqRwVhVbaLFjTQ+ZVEatwD3CtDimdujUNzHNG1XeloFNdNSMEyvGA+/fy7OPONUSdzdaNTY0qI7+LLpd1/OD6lczftB5u/vaJWDqq5muvYXm4iB6qo9nz93rM7TTuD3U6rmeLzr78obn6IdPfZ1hCit1uXK83sMr312xdrv46cgFB45k+LYOn/mCp/+L1g7SlQu2Fsf3NnpbftjOVb8+hdVprl+6vDfxZyrl9fUU8M+/yPFKjpdyxJLISxzP5ngWxzdxbObQcitvjRAmvkZhcn7xnZvKINDwhwN88oOmZuihFVlf/HITJxxf8AS3EV/gv3PMHxT2+aX/2Ey/OHkcKy34+LUzhuZul6EzbuGBdd7DHz9wapre98fDFVzEJQdfUYbfiC+NmJzb8SHtOLBhMg2SR+Xz2mVn0oa12+jyqF/4Gt2vCO21lB7DKVvfl76nzmN3X8YrzJ3h30xzfGa9/xs/IRo9knq+eH4EkUQj6f/5Hym34GnqOPFIz1dGtGqhVH3//WPKr3iNOj98OmX22KlIP8jb+gd5e3/6gD2o670nFfPreVPsC2NeZ/bZtZ5NNQ1vp8tN81M0VUfEToZhnuv2VeqIbWXPDmzHf6fw0v/nwc/Q9W+7R40HLr5zc9l4IcMDhlvfPZ4eWzXoO5aw2cM49laEW00dqYtrrfV1XkneOz1OUpqtw8vUOfRc9O6VTS9ax7kzx8ylj99xCuX4P4QM/3fdCbwdflXaooOj6ZBpXfwhD6P74OCnI6j2Sx7HL+ZxvN98ATo+pzCO52mFckHjRx+FzyF89NXsp1+f8BR4Gtv7Jfgp61caVZeTdBL3CX6cczl+hSOfEiqGBXy3dzHlblpKAlACrJyzPpUFpIFP3p3xvpb5laOerkQ6biOwUoF9Dh77TOqgaaMzfG9rZxtN4zNn+zId2gFftPvWOe/idF598ddXB7BygC+KNhxYnbbsoSIkguRR+bx22Zm0EZp2JMNQArJ6npq8faTJOURQglhL0EEc+K7ZoCSc6Ao6cxR+grGuGkF+AWtd2pX8el7Ts3kVnUOOz++74CTQzhIQOymY5/ATE2YzpY7QeXZ8urLBx895J3WxXcZOOnM8ABs/qjNtHUvY7GEceyu/ZTV1pC6utdbXebl7J4FaJWDqHPiJ3gWNc6eMmqHopH3o+cjOngAd7C0br0s9v6ufjmB8jnE8dNnUfxm3yzgePG30tnzUET5o3wx+fQqrY/JotnSSE/Q5/HDw1G4G3o9Jo8xMl24dCdhwDSUfDiL8gpTrZYLBKJiMoJk4wvsz9KNHXck36aaMmqlYC/6qXzt6Hu79aE2asLT0x6Tzy/fLQz1bvsnTpYe3BLAajpCaEW17O2jzBYi1JLe3K75FDPTkts2DbxELvbCFHnkItnyvtD7/pmdPV4zdBL0+8nVcW0sCsMdii8U2m09g2kydTq8r9tjPtpm222zDr47Q2Mps+ahnK7PlS1tytdHZ8qWeuzoJ1EMCus6Bv653fu2JzgqdXsf2N2zL9+OPPJM+qo4LnVyr5ePXL5OX0NjypbxZr0lO0BfzQ873edC3ct5Cn3yX1SISsOEaSj68N/oFKdfLBINRMBlBs2abtwXHjx51Jd+kW7nlVcVa8Ff92tHzcO9Ha9KEpaU/Jp1fvl8e6tnyTZ4uPbwlkF+2Wj1genqcCTrjpnNIFAN9kJ1BFeDOZOKsGkngn9QOExQXWfkXlrKCTpu2UJ7PqDcipAoT9Pyrqyg/EA1SphH9cm04CQyFBGCPxRaLbTb7YdpMnU6vK/bYz7aZtttsw6+O0NjKbPmoZyuz5UtbcrXR2fKlnrs6CdRDArrOgb+ud37tic4KnV7H9jdsy/fjjzyTPqqOC51cq+Xj1y+Tl9DY8qW8Wa9JTtC/wQ95Ncd/4YgZ28EccRb9Mo7AQ3ehBSWAcx02HHDglvdlB/ncSqf6wfXHwx8A6qG+BJxBF9xGD1Pdwz5/YvUgO4DLMg76CF8+yF/OECuPM53wRbt/Xswemfk/E2sVZ3akHWkbVz9avTzKfZA8Kp/XLjuTNkrbjmb4SUC2uKdnTIr8cCUM9ORWuvNrN3r7x+Blnc+2JxlS23tb8fOveR8WhHdqBDuQQ+Rgbn8XmqSvatcBno+RNAR/Puk2HD8ngVaQgNjJMMxz3b5KHdhSBM+Oe3jpty2+gZ3GDbLd7ymUlqQAG79lwHPy6tUslYlN18cKUhrH3tZSR+riWk2ben137ySQpARMnQNv0bugce7KLUsVnfQFer51oNc6nofe+umg1NevfjqC8TnG8bb5AvJlHA9eNnpbPuok/a4Az2YOSTrPfYQfFPs1v8gRy0Gnc5zH8WKOP+XY7KGbO3gJB+ruxq0LkECaPZ7PHJOmeeyZcQV7Ud/cn6N5EzroUwePVF4f/7T4l3TMrPnsuTFDY7pSypnbXjt00Nl7o7yzDNIknUrTtFE7sufJ3WnV1mWMtfoMvWveccwvQ3e/2k+n7Nrj084oxeeKh7ZQD6/Uf+pgL30rt7tlcBOdt88lysusDvmit7N663IeGGxSbfrRxv2V7fLw+qVDuMShjduPetN/gUO926gT/5bR4zzDpGX/9E8lho5TjqFUR7iDOBAP3no3gwH3U8ebD6HUdmMSESPwynMPP0NY7e54w/6J8Cwy4fNi2bseJurtp8yxh5Z5is0+/iyv3G+h9G5zKD1pYrFKvW7YOQvlFi+j/Oq1BI/y6Tnelvd6tdcMfJ0uN8Ov0Hx9EDu576RD6J/LbqPjZ7+TV8V2p9e2rrDaTKkDGw7bunlgI48RMnTC7HfRnHHz2KYvpCNn7MZ2PFM2XriQ7fbccRn2DJ9RNj5srCDSqsaGVlNH2sO11vo6ryTvnR4nKc3W4aXr3OjOsbTjmJ14zLwPTR89i/ba/kA1tvUb567iCfqSTS8UdfncfS7mHaRzaabSwXL9lPG8Pn4NkpCfjuzK84L9+Bz6fpM7rTq+jBfaXmQncphHmPQyv7Dle/OOynG29NOvT2F1pG6jr1F12fyYWUs/R3Bl8NvKEUsw8OJ+BMdnON7GsdlDS3l/rkaY+BIHhxMSzLTk+13xxUx3zBAnbbaj4zGiLZ2Xfm+W+afLcdBBIyGsXaGr5hrWT51nHFq93lDeR/UyOZR9tLTdMnqcfe5lxuX+NU+Kx1P3JfCvGR7y/QPUd/EVirD7y/9GKcCYJRAG732UBm+4ndLsZb2Lva0nGfK5HPV9lvvMq9Zdl55H6YJzOLTRf93vKPfYc9Rx8pup46gDk2zWyqvoPX6vnanrg6dZ6YZLgdPl4fJLJvccpg0WWylXaUnozPzKNPwC54vjC5vNC8JBt9VBX4LKpK/mtZo6Oo9a6+u8krh3epyEFJuHR6UOlY/PzZ6KLkq+pOVayh/gsXon60z52Hgw5+WDzva3Hb9P/vMCG/+k8uVZ/a62Nvxohyovqi6XZmu19xQ45zdyZMwg6uJ4C8cBjttzvIjjdzm6MEQS8MNRFLxE/mMJ7BXqPrr6boYuA+5pL3tq7aH9Jx2hVq5RNwh7EIzD8Mhl4g8+C9cM0u2L+6iXHc/hbPuhDPsAHPSHGOrt5Y1ZmsHe3LEyL30O8siuf4xAP4JoUR4nSJ+ljpmWfFzNMjOt07r79pFAfulK9bCpOOfPxdEaT8yTmpyjE+JJXTyuJ/krpNJphdeeX7XG80CvTdBTE7xt+sAmb1RI7+Q5l8y9uJTy/OEx5eMRtlF9ce04CTRaAp49v1chncD5FM63ylhgXd9amtCzPa+EP0t3vPI7+sert/KK29xiudhd07bqO9jwPLBxaOf5tVn6w4u99Be26afyDrmPzB9pxUE3MZKxJVZsvWkzzbSfDE0aM+1XR88z6c20TuvunQTiSAC6ETYu1vn56ayOg+43NgcO+h2v3uI7Zjf/lpGupk+AYL5/eT/BUTTG6yfO7Q7EQfdrF88ZN1+XjXlv42XStUI6eGYW7wleZ/KjOD7N8cMcAbu2H0csx2Db++4cmzm0zMpbXCHiq1i1uODhdY+04qQDe/DgqR303j8exl9q8K3GCzi/pmOrIhdfvex465U46H44iAX27pKABHggluS7IYEeRWbRMnrc/xNePX6cV49POkptV4/yhNknF9HAj2+i1I5TqfuC90epEomm2JeT38Qr2QdFqhOHqP9HN1Lu6Reo47Rjy7bQDz7wBA3+6s+Unjebuj7y7jgsq6bN80p+3+ev4mMCA9T1qbMpPT36+f+qGx3Cik6Xh1D4TdY0VtUeXX2vFTt53x0Oocdeu58uf/AiXg8v+Y/xs9lBj2bac3wDA+bxS7y99ZI7N2mcvW2XJkYyeMMANRt+cdAz17vM6XG9JdwY/uFj6sN5wlpaO/WjrwYHPUiH/dqANGx1TP0Greh4EA66G7dDUizXiOPrJJ3EYVv7JtU60XF8xWo63HPfz3EWRxeGSAJ+OIroCgwwsE/1l4HZxaC6cEKBr1VBuIedmTQBH1UPfu0G8QE+uuAnYshgw0zV23D3TgLNLgFxUpaaMSVyV/OvrVW0yUOsCQZ6co7n9IfCNn4E01GcnDvP8ZnwRoVUJsNnzwur6C+80qhmXTtOAkMuAdh6G3YyJu5dmW41JtAn5+i0n80OehjTngu2MWx5adrvcRCbLjZe+Eq+uSIm5e7qJNCKEggaU/uNx/3oq8FBD9JhvzYgW1sdU79BKzoeNB9wugxJRQ9JTtBf4GZP4YiRz/Ec/8IRAcsTG9Wd+2fIJGDiKEpHBC9R0n5XW93ODE4yVOIhCg/BHhR8VMnH1a9dodfpcC/5NtxEk96lnQSaXQL5bb28rdzb1h1nBVcmuOIZPannFC/q9djijj5Kfyug1iZN8B5h3caGQa2hwfTOss3dTdC9H8D92y4SsNnzPj6+hmAr97PZQTITuw2aMNsttEInfCVf0u7qJDAcJBBXx0x6wTc380U2oqtCZ+ZLWr+G8dJpcW/qpuiumS/1bPlS7q6VEkhygv5FZv8/HF/m+ADH+zgiYDX9UXXn/hkyCZg4itIRwUuUtN/VVncg62EX2zAGJV/wUXXefu0KvU6He8m34Saa9C7tJNDsEsgtBeAFT1wnbEepUfCvGS3kCivo6QK2eLRawVT53j6iLdsUUdIY6NJycQX9dQNqDc9egHWT3QFSp57X9E47KvZyDr2ebTneTgLNJAGbPe9m3zIItnI/mx30XGK3QRNmu4VW6ISv5EvaXZ0EhoME4uqYSS/45ma+yEZ0VejMfEnr1zBeOi3uTd0U3TXzpZ4tX8rdtVICSU7Qb2D2GPXAFe9btabu4PsLtbS7bbAEcL4kCC8R59JsIajulFEz1NnxINzDgWyOgI+qhwxl6Ow9L6RsLlvMxpkWGx8/HHTQu+Ak0KoSyC8rTNBjOIjDswIeDCE1ubDyrFK1/SMr+QTHcz1AqUs+pAULfc0GyvM7QQ+pwip6flUDt7nPYCTQbsZ8x06GFav17rh7J4FhKwHYenMsgPOse008kI7Z8WR2KNVPwD3H2VM9IK3joetlfvemPRdsY9jycs78LmMGJkYyeEq+s/V+EnZ5rSoBGVNjHLznxAPoDdOPV1ek/XRM6Dupk06acyZ9eK/P0Nyx82j1luUVugyZiK7iCCp0O4w/6kgbUfXe1G/wEB23jeOR73QZkooezHdl9JrDj3IsP9IGDjR2LG6HV4CHxgWr7lbny7D9BV/Y8DI4cPKRRY/o5hNDaXE2Jawuyu9dNqDOhmMbC76UQRnhgRVBb/fEOf/C7Z5LIzu9r/Uoh9LibIqND7y4f+mezbSccdiFb0QfC2A/5EGeTzpipiW/ma5RnVg0U58LfWkJPe6//veUe2QhdZx4JHUce1gkMea39nrOzZi6+7ILKNXtHTGJVDmAKPvYszRw3S2JO57Tm4S3dAUPNzhIXQwply6cSQfNwK//TNn7n6DMWw6jzhOO1KvV9b7/BzdQ7tmXGgrxVtcHsjB3umwRzDDMFpstj2amka/b80kjp9FZe1zAW9BLjhK98rt4rPBjdRTNNlbw4y3tSjv6uOD0ecFe3J9lBJcrF2xVW2f1MQRsvWkzzbTebj3vzXbNdD3bdnpcT+k2ljd0rDe7lUZ0jCo2vG1wC/VkRvqOx0GfzQM2zRtToxL0L53KlI2vdV3tyw5QT0dpjLB1oJfb6/blD376eyHKHAH0un5DZy84cKTy4m7mJz1uN/XOTON5mjlE1WU3QS/9ii0xsC91N/6daVBNnESdoygrHMpMHjm9wohvHdiinM28vm0lXbj/l9mAEsEhnASsnGPSDeOqt+un1LrymooWlpb2mvUa9rzN2u+oL5Am7H9L6HHf5f+nVsM7z30nZXafG0mMuZeXU/9V1xNtN5p6/vNjkepEIRr86300eOvdlD5wT+p6z9uiVKmKpu/r11B+5etkPvPgnQ/R4C1/p/S+86jrrJOr4l1NpXbBQ3e6XM1fR+vV0W02zpNiy6rAp8EO60Fsv18dwDfN3m4e2++SJ2nQA7bph099XZ1RD+Jd3k45TnI1OOjNYkOHuh9Oj/W/rNa+99M7m67iSYPoc/msWkgTiWBnajqVrpg86+NsoTWv+lgdZfKeMOkkbRuf2/KlXi3XodbDWvoudaPqcmlGJTXdddhKAKvhetANsJ4PJcWq92UPXkjPr3uS7l72Zzrv9hPpP+45j15cv5AxyrfR2X96M/3uhevovbt9nB5iWkCp/ejJ/6Y/vvRLdUUaPKDg0i6UFl/WLmaYladfH6RtvLMeV6SRbyo1+mR6fTTTer+b7T7K8zZbn11/6i8BnPmW89ZpbLWOGIp1xLFaxHphZOJ4Trahh9FXW54qnJuXbfrCp7jFvYGe3NG2O4cuv4C7troETJvdm92mbDdsuNhh/Rlh+211PnP2EUwYAABAAElEQVT3BxQUmxxBwxUe3pGP8UAY7/J2yj8MZPijvWnDJS1XqY90s9jQZumHyMZdW1cCNr2z6SrG0Pp43NS/SsQFb3IeNM62SU/G6lJumyOUysv1W3RYrjY6yY97bTc9dBP0uH8hbUAPJTWhWHKMmPfUmgX0wye/xttmRtCuE/chgXoANARwzv+w+Bf0f/yFHVekTcgIKG07QTC02/O2gWok8oj55a/xJ3FmxSvhqTGlLW5hzAWKTCa6YfRRy3MFx23iyC1qvbh0qckTVZX8qjVlVYv57AAvnys/n15GmHAipZ9DX+7OoScsXseugRLws9lo3gaThLKwOpl0BmRMl6kYDyA/iDfKkwjNYkObpR9JyNTxGFoJhOmdOSlG2hyP4wlK+lfa9o784fy3OpyfDb+dGdwE3ZSISysJhEEuAL5BIBzCaHWR2qAWbPl63Va8tz2XLb8Vn9H1OZ4ExIN7nNVztCArz7LiHK9VO7WsoAsUmp2ytpL0FG+CnjMn6OP5VEIHTwYGs5RnuLVGhRQfySmuoj+3uFHNunacBOoigTh2WDoQtU5UOuGb5NVmK235Sbat87K1Z8vX67p7JwFdAnH1KS697W/Slq/3rdnvbc9gy2/25wnqn5ugB0mnjcvCIBcA3yAQDmG0uhhtUAu2fL1uK97bnsuW34rP6PocTwK5pStVhfSMKbEqyhb3JFfQ89sYYm3zVtWP+q+gb6/awTl0nCOTkEqnSZ7JXF0Xmnpd04Xz/9mFL9WrCcfXSaAhEohjh6VDUetEpRO+SV5tttKWn2TbOi9be7Z8va67dxLQJRBXn+LS2/4mbfl635r93vYMtvxmf56g/rkJepB02rQMZ2RMKBaIQuAb4CDu2TWP0cI1j9KqLcuUN/go8Aw4PwJHFeWnVoYvnEq7PW+bqkvsx84LBnqc8+e89bu40l3YKh67YZ8K+dfXerm81b5eEGvSrPoAAGdVDG1Gm7ZItrrKroD86vLt72VEdUikd5ujuOZfXkZ59MsFJ4EWlECYzcY5VjNErROVzuSfRLpZbGiz9CMJmToeQyuBuPoE3Q0ajw/mBsoeaDj/rQ7nZyv7EQuJZpygX8J9e4jjJo44GHgzx3kcg8LRXIglGTPGW6IKaqGNynBGBvBrlxx8Bc0bv4+CfsAVaeSP6BhJnz34f+n42e9UziuCaPXzNDg/Aui1y48eQ3tu38F8SF2RRj7Kh1Not+cdTr9dvZ4l3z9AskqcjoGBnl+7gXFVsrwVvINS4+CoPplQnPQXcMqT4erPJdXVSamJ26nCim3ucj59ZYMn6BPHkfo4wB8Pc88v8e+4y3USaHIJhNls3Q7Lo0St40e32/h96atvuEaNB/x4Sxu1XpvFhjZLP2qVp6s/9BLw0yd9fG3qE9LBY+zKM+jDdZzdbnrYjDOiP7MK/ZIjJulwO/5Vjntx3INj+bILZxTC0Xz9O0dM5PVDjJjgR/U61BLwTPw8ZQFflPBHK8FM42sdXggSzLTk+13x5U5/WeBLneAwmu1Upsvr6vwraUvPEFSm8/C7r6WuH7+k8pq1X0HPFxUGIojHEJU1tR7nFi+j/m/9jGj0SOr+wsetmKSm7LLPvEgD//dbSk3dgbo/fY5ZXHV68LZ7CDFz8N7UecYJVfOJWrH/mhsp99QL1HHqMdRx5AHFakUs9plTqPvCDxTzG3Ez8Lu/UfYfCxomg0Y8k96G02VdGq1zb9pqM+33JCaNacOljk5n0uh2XuhxLa9TstkoM20c8hCqqePVLP/X5I80Rj3wCi/BpJH8JK9mG2Y6ybZMXk6PTYm0dlrXDTyJ6KFc5ekkLddSvjceN/lI2vzb1NNCI7zMtOTLVa+LPEnL1aSLmy/1o15t/KPWH2q6qLpcmrkNdY9L7b+1dKvuzuZ/MdHGaO4ujkEBdOuDCIZTGc5xPrB8QHlGh4MEnMHQsQ5R/gjDo8ADJJxM4BxLENaiLhvUBbTKI6vvof5sL3Vlemi/SYerL3nYlP7A8n5ut5f82gUffWKv8/XKSkZVT3vPY/Lt4dX1rtCJTJgszD40Mq1/QNGft5F9cG01hwRyryxXHUnPmhr6N633uHj+PGGItaIH9wasoON5UpP5HDpP0GUXgTxjatokdZtfwefTszmCA7dGhfRuc9UEPfvsS9TB7z02no1q2rXjJOArgWptt/4xHoz97LDwXrj2MXrf7ucrGw9bL3Z+/0lHKDtv6oHwjmprpZ0tA5voqBknBo5VfIWgZZo2NMMqCmhWoMLYxiBa9cRuzX6Y6cQacoyGvQREn+RBoavQGeii35jd1GUslomO+dOX2zH5Ww2qY+o8+gZ6c55xwYEjabeJHZHzZV6yaO0gXblga806K89Skl35s0p+q19b4al2ZiEv4rg3x6csAj+a87GCvoRjN0fQ/RfHezhGDU298mY+BL4gQWmAdYh9/RLwg2LL+CHTOlnRPSxzHScRZ8WxVR2TbVPhhQe+pmFiD1xGvW6GMnTdCXfTo6tS3O5ma7um8gjfoKv3PP0WvqP5ebq4v/5/rlFkYasb1Kd2Lov6ha8JZdTUetz/01so9+iz1HHCkdTxlsMii2/gV3+i7ANPUobrdHLdpELflT+l/CsrqPOskymzb9hJotpbzS54mgZ+/kdKzZ1B3ee/p8gQ8Gp9n/smER8B6Prshyid4Dn7YiOWm/zgIPV9/lte2586i+IcPbCwbKpsp8tN9XOEdsZmf6PY7jDmwvtrD36Krj7mZlqy6QW6/MGLyux8UDtRba20898Pfpquf9s99NCKXOBYJY59jtqHMFm0WrnT41b7xeL1FyvkmJyb4+6SPh7GY+DSdnbRMTt95Rg/bh0/XcMw/Jcnj6PF67NlOm3LhxRkXjJnuwydcct64umLCpKP+Uqcd4BXu3X/jarLjVumqE6W6N+VHDHRtk3OwXkFx49yPL0QX+XrnRz352gLmMhjMC9xjI2wGfPxxxyGKY7Vb32CjecoYSfaN0/gy54f7uJuE+fTyM4etXKufxTw+JLqT7VK5j1Pb9mkv8S3N1B5o8gCvFwYlhJoKT3OL8Grig0Wr6DHCTleWUZI8xb3JENeMNAbtYI+hVfQOVSsoMOTu5Q1GJM8xef607vsqPqVc97clRyG6J+W0uV6ychmf6PY7rA+CW/Y8smjptNvF10Ta4wQ1dZKO8fPeSfvvusIHauE9Vsvj9oHvY67b6gEnB5XIW4smPmNu0t6X5qcg73oWJwxftw6frq276QOmjaaF+t494o+D7Dlo6+gA/20MRkCnQTJRzsuVEqg2SfoV3OXcf78jMqul+U8x6nvc3yY470cP1i4XshXW7iEC9jzUjEutRE2a74N90/ysWXNLyzh7e5hwQ93UXDPhb/Jw5Zv0tnStvq2fJ2PjcaWr9d19y0tgZbR4zzDmSlnbyzu9MypkYWe58/NgCZDwBn0pEJ+yzaird47IrX9uKTYBvJRDtlgi7ntvOHJPV3Y5p5bhpNKjQ3Y5o7g4NYaK3ejtZbRZaPfiSf97C8aiWK7wzoD3mLLq2nHZlPNfPCeMmqm6o5ZJn205Uu57WqrZ8u38XH5dZGA0+MqxRpXH+PSo1tx65g6NXGEN22Mmi+iEHqpb+ZL2l1LEmjmCfq3uZsncXwTx2omzw9yvZ052sJlXACXwhJn2AibNd+G+yf5ODfuF2bxWfSw4Ie7KLjnwt/kYcs36WxpW31bvs7HRmPL1+u6+5aWQMvocW6Jd/4ck9TUCCwyRAv5texWg7d+U0eGUgmudIsHd9puNKW6u6J1pkYq5cl9gvcxIFf46CAsUwXYuXwBJ17yG3HN7LGTakbBrW3Y1IgmXRuVEmgZXa7serI5fvYXLUSx3WE9AW+x5dW0Y7OpZj54r9yCzYyk/OP49cus40fjl2erZ8v34+Hy6iYBp8dVijauPsalR7fi1jF1as02z+921HwRhdBLfTNf0u5akkAzTtCxvoLJ+akc38xxMcdqwnyutCKgYh+XweO7xJYaleFsSBimOJy94PyKHpA+fZcPKo+Rer5+j3MqfriLwD7fOtDL7fYYXL0zJugP+lVN8J7HxrcnkG8UWVTTJ1enJSTQMnqc47PeCKlZ02IJFo7TVD0+l52k8zTZ3p5OcNIf5cFSUwvb3Fe8Vkae3nGqSudeXUnYNdDIkBo/llKz+XfhZrOPP9/Ipl1bJQm0jC6Xupz8nc3+RrHdYb3J5rJ0zp4X0cSeSbS29zU1FogzRohqa+UZblt8AzufGwwdq4T1Wy+P2ge9jrtvqAScHlchbpxB9xt3l/S+HO9cdCyO/sat46drj68epOWbsxU6bcuHKDALwfxg+aYsgU6C5KMdFyol0IwTdGxrfx9HeBDCpHlKIY7gqwR8obtOEny9gOPJHLE0jC3xV3LE5B68hmXAmY0wrMNg7MQOq1xwTsWvLrDPR3R00WHsVf3yo0cnimXuPY8f39HKi3vQGZUosrA+rCtwEmiQBOCMDUEmolGbzRcmsklub0fbudfWqi6kdhgftSuJ0IkTNnMru5q483lw2tZH8vEgkQYjMsnM301RAvLNBSeBoZKAzf7CuSvssjh3xWBbD2ZayvT8TDpDu4zbky484Cs0oWcHOmjyG9lp7DcIOMw9mZHqarYjfHCNamvlGT598H/Tvcv/EjpW0dsIu4/ahzA+rtxJYCglgAm5HjDR9ht3l/Sx8gx6MH3lGF/0Ejyj6Lyfru3O3ts39OYqdNqWv+f2HcpxNeYrG/pyBLoR3DU9H+24UCmBZpSK7VPKOdz9awuPgOtsjkdzRPgMx/M4Tue4leMTHL/I8e8co4am9v7s9xCAP9g22Kcct0k5VrhHdHQXoYJgnKGUEkwsRck3r+Ddm93KvEYVi7YObOH0SMUbX7x0pTLTxUoxb0w+ZjqInUlrpoPqurJyCUT1MlleqylSTanH0Ke+z1+lJp9dF32A0jPw3TFa6P/J7yj3+HPUcdJR1PHmQ6JVikBV9CifMN+wprNPLaKBa27yxXTvu+p6yr+8nDrf+zbKHLBnGKtEy/PrN1Hfl76rVtG7/+OjhFX14RCcLrfmrxhku/E+WbDqbl84Jv69iw/sR4cddBjYX7/w23T41GNo9nbzipN+VIwyRjBtq5mWDujPYNKYaakT9WrWN9NR+bQKndPjVvmlwvvpp5cCgQzfUd0dpfVIfdztx1nXMZRH0d+4dUzdkrRcpV+SlmvUfKFrl2tUXS7N3JpHMiXrYu/T2UbR1zmN2DYBCgYoNMClwCMrnL7gXBm2oWOlW2DU9Mk5hCNf34MEBQUH3IOddzncg8c3ys8W1KpXpk/64/KtpW54zxyFk0D1ElBey3llmDo7Yjt6q9cKen51YQU9YWz1MCnJCjpkkh8YpBTLRAKc52V5gp5jb/eNnqCnxo2h1JwZlH9pKW9z5w8iRx8k3XJXJ4GGS8Bmu8X26/BKz697UsEzYWVMbL+NDrBqF/Oq+XGzTqPz7zhVjRdwHA6r6whRxghRba3+DFHrRBV00vyituvonARqkYCMr236O3PMXPrOA1+i7Xom+I7pzbZ1HUNZFP2NW8ema0nlm8/k0p4E0k4QrSkBKBggGbL839NrHqZ/LrtNXZEGdEoUJbU9OeoG8y7famPj4/KdBJwEPAnkeNKHkObz56mMNxD2SoL/xQRWtnsnCbEG3PH8qsIEfbJ3Jjy4JwmW8kSYRvEKAfqw0jiHPgeboLioIK8EW43Eym1zjyQmRzSEEhDbHwavFER346Ifs4f1GerjPsYLMjkfwsdyTTsJtIUEZHxt01/oZY7/S3JM3xaCHYYP6SboLfyjxoVLiPOo9eQdpx+O1klgOEhAJpypuTNiPY5aeYcDlRGMyMDe1pMK+TWMMDnIZ+D4zHdqIoAsGhewBTc9fZJqMLe0HFItXZBPfsVqyhcg4BrXM8aW3WdX9miTIvgLyK0FCqcLTgLNJ4Go9jmMDjvvkoBuaz4JuR45CTSvBKLopd57p6O6NNrn3k3QW/i3jguXEOdR68k7Tj8crZPAcJBAbnFhBT3uBL3oIG77ol+JJOSRXyWe4RnyLd14M5CaPlk9Rn7ZqrLHSY1lyDc4reNvEiKzMoI6J9B+eicPuzn3yDN1bs2xdxKoTgJR7XMYHY7FJQHdVt1TuFpOAu0pgSh6qUvG6agujfa5b/zIrH1kW9cnxfmyYEiGcg+RcTqDMzLBvMvhHuLwdrROAu0mgTxWYtcxmiN7KsUW9zghV5igJ7m9He3nCxjkqUZvby88fHEFfVn5CjqKixPkF14pUDf2kjkIQCC8weC+xxnuzcN8bWwPXGtOAnYJRLX9QXSn7XIOY5QvVT5rwmBX7T1xJU4CTgJxJRA2voZeLlzzaJFtCWat+jF9kZm7aSkJlLzztFS3XWdxvkwgFnCGDFtg8JVNPLTqnlzjSgtnZOrFO25fHL2TQKtLoLi9nT23p7q7Yj0OMMERUjOje32P0kBu5RpFlp7S4PPnhc4VV9D5AwQmwfoqfnrX2ZS9/wnKPbvYA8+M8kAJ0qT3nUd089/URxX0IbPHTglyd6ycBGqTgG774cy1D16fMz3KORzstth+nU4fI2ByDrqfLbxaOYjT69TWM1fbScBJIEwC+vjaT39fXP8M7TJ+r0TH9GF9cuXNKQE3QW+C3yWfzZY5jjLTti7CEO8/6XA6aMobiyT4OicGGpn4ig5DHTeAB7zBlvMeKOMdl2cUerO/ZjoKD0fjJNBMEpAJupyvjto35chtqTdBTyc8QS9ucZ8yMWp3EqVT29i72Nlk/wDlX1tHqcmlfqTnzVa7DXD+PrdmPaUnjku07TBmKe5X5uC9KPuPBZS97zE3QQ8TWIuUm3bVTLfIY6hu+tvnctsPQtsYIZ1K0/v3+ISCZMrlc5RJlRxX2myumW+mW0l+rq/DUwKmTpvpZnnqIP2dw7CHlx95bbGr5pi+WFC4QTkm/RLMtOS7a+tJoPSrtl7fh0WPgYeIVZrBv95H+RWvMwTT9tRx7GGU5lUbKHFY0Cff4IUvcvDADicUOOci2IpReOltCa8VW16lrkwX/X/2rgNAjuLY1obLd8o55xyRECBAiCzCJwmMBFgWydgGbAw22QSDCTbJ5BwNJmeBTE4SIBAiSSjngCQUTrq8t7u/Xu/13uzczIbbvFclzc10T8c30ztdXdVVdd466lrSU628x1qWsdxw16gTruMS0f5w9cg9QSCVCOi91DEz6My4Ui1vJ2GG0cjAxtv2tFpwb2g8JOaQovt5bz4MspGBQXewQTzl7mzFOvItWkHO/cfF2+WY87v2Ga0YdN+ileTn7Qm54hM9ZiByJEO839lMg0F/n6P5VhrnCOiHcTIPxjxaf+rybc60t0DaY0Qgm8Z4uPEbbrwa+4vrcOUka55uboOEk4eA7EFPHrYRS8bqHiagnkdfJj/7/VXSJD4jjHjcj5awmo0PLXwrwidqjbdanRFGPFbVoiVjWY8tvJUe+P5Gwrk5ZTWnznjbH22dkk4QSDYC/l0V7M6M1cl5rc3JPrZjIcW4cgYwskYV8FjKsEoLibWy4A7GP8UW3I3tcfYJ7Mf3rdpgjFbXruEBtXL4I08HOTu1J+eAXpgBUf0X36WjCVJnghBI5Hc2QU2Kqxjj9zmeb2W05USbLq5OSWZBIA4EsmmMJ2o8YU4ffs4vtqLieKUyIqsw6Gl8DPCHDMk5LBaHEIfr3/siRO095L5FAKtuWE23861oXDW3yB4SlciyQgoOE0hHnWGaI7cEgYQg4FuyWpXjwP5z+P6OgXyQLDM5eyV2/7l/Y8Awm6Nbx4Qy/jF0LdCvPg0+z1dbMOhjhqpFDT/7Q0+XuzPXxDGqndgP74dLOqGsRCCR39lMACBR38poy4k2XSZgI21omQhk0xhP1HjCnD78nJ+3kAllNQLCoKf58UGt3Yq0lWWre3ZxkXwr2uWzik9kWVblW8Wlo06rdkicIJAoBLwNDLraVx1joVqy7GxgZGPMbpvctz7g2szZLeCL3DZhkm9oCTr2w/ura0Nqc7QpC0iwOdb31Y8h91IVcI4YSMRu12h3JXnnpacNqeprrteTyO9sJmCVqG9ltOVEmy4TsJE2tEwEsmmMJ2o8JaqclvnGZH6vhUFP8zPCnnMrcjTDunIk34pW9djFJbIsuzrM8emo09wGCQsCiULA72P7EktXq+Jcg/rEVCwYVv+mgKTb2TcgaY6pgDCJgxL07ull0B1lJaxizwbg4PN87cYmLXZNGKni6ud+S35P6iXYDreL3AftFWjD+1/EtOWoSWckIq0IJPI7m9aONFSeqG9ltOVEmy4TsJE2tEwEsmmMJ2o8JaqclvnGZH6vhUFP4zPCvhkYhMP+1BDisPuQvWOaEGJfS3jf5dFPcBNZVki/wgTSUWeY5sgtQSBuBBSDXVEVMPIWoxTcB7VvZlzBwDogxU0QKUM6Db7Hnby3Pd3kaPAL71/dlEF3jhlC1LZVgwT7h7Q01bX3KCJeSIAfe+/XC9PSBqk0PgQS+Z2NryWJyZ2ob2W05USbLjG9k1IEgdgRyKYxnqjxhD3o4ef8sgc99jcps3KYWcPMal1qW8MzQSpnolatcJkaUhNmNgiHPedQa4fkHMx5tFbcja1EWTAaYfR52ly/6Iksy9jGcNfpqDNce1ryPbYAmq2/DWkZx1bvSv0HX1L9mx+rsZx/1lSrJLZxnrc+IS//JjjHD6f8U46yTRfrDRitq73mXub8HVRw4wUEl2LppPo5C6j+pXcJWwDyz/lVk6bUf/YN1b/8HlFxIRVcciZB6p5qqv9oHtW//pFaLMm/9Cy2DZJd69oylmHrj7VZEvSdTfX7Z1Vfor6Vuhwrf8zGT4BOl4i5hVV/JC4yAjKOw2OUTWM8UeMpUeWER1buJhqBaMdytk7CE40XykvbxB6rfzByockc1vHRnLE6ByMUmuLxiZiosupZ1dftbHzVzGFjPcZr9CGe9msM5Bw7AtH+gMRectJzpG0cm3tWd99z5Fu2htzHH0zuGF2F1d7xlHI/5p52BLkbVL3N5Tcn7IXXiIdfUm7bwPCmm7Afvu62J4gK86ng+j+x0brG3wm0ze/1Ud0dT5Kfpf7OQb0pjxc6HO7G37dUtN9fW0e11z9AVFlNedOPJNeeI1JRbcLqkLEcgNL8XTWHEwZ4igpK1LfS/I01h3V3wtVnvqfzGM/m7745bEwr100RkHHcFBNzjHlMm8Pm9OkMm8dZvc/D8+TYF8ybU4557JnD6cSlJdQd7VhO7UynJSDfjD4amXNkN4djKdLInCNfLNbbzfUkoiys8H25sY6e/LGGVu6sp35t3DRjRCFN7J6v/LzjvtG/au9WA2nm8D/T4Laj1P142m/uj4QFgVQhgD3kvpXrVHXOwX1jqtbPjKB/XcCCe6x71yNVpC3DO3om1jJ8pHrt7ju6dlRbAKimjjWItpLDZLgO0uq8aUdS3V1P837+NVR3z7PkPmJ/cur987CuzguAVFacNMbdUZBP7skTqH7Wx+R5+1Nyjh6cds0DOzwl3h4B83fVHLbPmZl3EvV9hvQ8Fn/q+GYv2fE9Pb7wdlqzaxlhHyxUbcd33l99s63QCswDPDwPqDbMA4p4HsCuHrNWWcuqpxKXTgTMY9ocTmfbjHVjPGDcfbNlDtV5ayjfVUh7dNo37Bgy5jdem+fIkZj8wFi0n5Mby5br9CIQKq5Ib1vSXXvGSN7SDUSi6seqHJjzSz9iX9CGQvHS3TS5lPbqls8/UgHf7Ub3cA7elH/ZhNtpbKeJcS0wGKqUyxgRiHaFL8ZiU5E8I8axd/4i8jz9ZrMk1fD97XnitWbljQRw3QPPE1y/uaceSu59x0ZKnpL7dQ++QL7Fq8h9zIHMCO9pWaeXmXPP468QGHlL4km+g43puQ+cQK7hAyyTxBPpr/NQ7c2PqL3orsMmUt6U/eIpLqV5ZSynFO6sqQxSbyyO3zjvzyHuWcN9f5uTJzAP8PA8YLfFPKCM5wF5IRp2WQNgihsq4zjFgCepuuaMoUQ1JZo5uVHbNVH1SjmhCEQ7lrNrM11oHyWU4QhgoENybmTO0WSEEY/7WEE0MueB+361j968Moh7QoJANiDg/WGpaqZz5KCYm+v7aWUgb4yW3yNVpKzKa9/qDcbZIuVJxX1nQz8hIbcjF6u3F/z1DHLtPTpgtE0nhEo89oSzRAI+0z2PvEyeZ9+OycCmLircGXv183gBAeT9YF7afLOHa6PcEwRiQQAS+PB+lJsqWDYnT2AewFpBpsYF5gHVwpybcJFgbiPQnDGUKESimZMnqi4pJ34Emv4Cx1+mlCAIBBGAWrsV6Xio91jRml3LraIlThDIeAQgbYVEGOQaxb60YyDsufYuDLz7zhGJlQT7t24ngr/xPDcp1fIY2pXMpNhbDsKWAD+rrNvtMXewRfe8Xx1OeXQ4p/MqQ3dQgYfKnh9W1tngnPejr9hn+Q+EZ5B32v812dMeTz+cowYp3+y+5WvZaNyHlD/zuHiKk7yCQNoRaI4f5ebk0d97c4ft4s3pJCwI5BICzRlDieq/3Zizi09UvVJO7AiIBD12zCRHDAhgz7kV6XjsvbGi3ryvTUgQyEYEoEJOzCDCRZgjRldmat8670GnkiJy9uuZ0O771gRcmWH/eSZZIleLBaXFCjMrd2tWIMBHue4Dq4uRs11ryvu/yZR3xvFKou77djFLur+wytrsONTjPu5gtTDg+34peRs0HZpdoGQUBNKMQHP8KDcnj/7em7trF29OJ2FBIJcQaM4YSlT/7cacXXyi6pVyYkdAGPTYMZMcUSKA/S4wCIc950ZCGPG4D8MY2PNmJIThHg7WKYUEgWxDQKu3u1jiCqYuFvLx/nOQa1j/IAMaS/5waf3wrc7k7NU1XLKU31MMdoMUHXvN4yHsP3dPPUwVUT97DvnW/xxPcU3yOrt1JNekcSre89xs8ldZawA1ySgRgkCGIYC9sOH9KDf9/jYnT2AeUGT6yvM6F+MxY0SRmgdkGDTSHEEgaQg0ZwwlqjHRzMkTVZeUEz8CwqDHj6GUYIMA9rvAWjsMwg3v4KYiFqbjjDDicR+WX2EQDlbbC13F6oww4mUPug2wEp2xCMAll69h/7krxv3nUMv2fvOT6ptz3LCE99G3osGqfP/ESuYT0dDGfeir4y7OtddIgjo6+Xzkeek9pQIfd6GGAmBF3tGxLRH7lPe8+r7hjlwKAtmDAPbCxvr9bU6ewDwgj7/7ZaZ5QJmy4o77QoJAS0GgOWMoUdhEMydPVF1STvwIWOsfx1+ulCAIKAQgHYO19n17FAQRwSqelizivAdba9+zyyTDfd6HGqPkMZhZLgSBNCIA1Weq9ZCjfRtlVTyWpvh+XMZWynmPOKvGOwcE9mXHkj9cWuzR9m/dodSzE606H67eaO/BnRzkdf51PxPczDlYxb+5hN+OvBMOoVq2A+BntX48Exe7RksUKYNx7A+97q5nyPf1QvLyYoBrRGy2BhLVFilHEIgHgeZ8f5ubB9ba9+2RH2yucR4QjJQLQaAFINCcMZQoWFB3uDl5ouqRcuJHQCTo8WMoJURAwLxCbg5jRdFIIjk3oiHX2YQADJSBXBNGxLTIBENn9Z/MD+Tdk/MmWKoEw2Ygtf+8qHGxTEVmwB9Hm7KA4TrGQRvJi6dZjlal5Gpw2Vb/5scBo3LxFGjK6+zTPVi+5/n/kb98tymFBAWB7ECgOd/f5uQxf/fN4exAS1opCCQGgeaMocTUTE08J8hYTBSyiS1HGPTE4imlCQKCQAtFwLdtJyk1ctbYdI0fERMK2B/uhws0Nn6WDP/k3mWBvd3OgYmVzMfUyQiJsWcfpLQQIqSN5jZ8olNZCfn5uXg//zaaLDGlcbMvdEe3TkQVVeT5z5vkZ5V6IUFAEBAEBAFBQBAQBOJFQBj0eBGU/IKAICAIMALer35UODgH9iG4BIuFYNAM5Bo3nBzMVCaSIJ3XPsadA3slsuiEluVsUEOHFXw/VP3jJEcB27k4fKIqpf79L8jvaWr0Kp4qHOyuLm/GMUQFeWphpv6dufEUJ3kFAUFAEBAEBAFBQBBQCAiDLi+CICAICAJxIgD/3d7Pv1OlQL09FvIuWUU+SLhdLnIduk8sWaNKi33dMGhG+Xnk7NsjqjzpSOTo3J4cndrxSoeXfAtXJKQJrgmjiFh9nnZVkveLwPNJSMENhTi5vXknHq5C3nfnEp6lkCAgCAgCgoAgIAgIAvEgIAx6POhJXkFAEBAEGAFlfX13JRHvfXaOit4gGay+17/wjsLQte8Y5c870YB6f2Djc0zOof0IUt9MJRiv0dh5YWwvAQR/6e6D91Yl1b//ZcKl6CjYxRb3XXvzQoCfyPPkG+SDMT4hQUAQEAQEAUFAEBAEmomAMOjNBE6yCQKCgCAABKBC7v3oKwWGm31kgymMlpQBs+3lynI79jQngxrdvmW+pfHgPvTFK8lfHb+aO/CE2zVqXaq0CLQRv0Tj7Gar8Y7e3Yiqa8jz6MsJUdFPdBulPEFAEBAEBAFBQBDIDgQykUG/jKHDbBdmcbfw8Sof0YikJnO6b/jArG45HzP5aHHk9YXuszSHWxwg0mFBIMkIqD3TP/+i9iK79hkddW3epWvIO2eBSp938hRyFBZEnTfahD5ul3/LduZSnSxB7x9ttrSlc3TvRI4uHVgUzVsG5i9MSDscbje5D9JSdN6LztsREk2oI//045QGhX/zNvI8PYuNxrFIXUgQSCEC5u+9OZzCpkhVgoAgEAYB89g0h8NklVstBIFMZNAPYOzv4QMzqkP5yOMDOqDhLCf15fuz+PiQjzF83MHHw3wENgfyRUsgSPK+2TKXLvn0NzR91r7qjDDihQQBQSDxCGBs1b/3uSrYtdcochQVRlWJj6XmnqdeD+Rjph5+wJNB3i+/V8U6h7B6ewa6VzP3GWruepHDO/fbhP12KRX0VvwJ2bmbvPMCxvzMdccbhmu3/NOPV5b4fQuXU/3/Pou3SMkvCESNgHz/o4ZKEgoCaUVAxmpa4c+ayjORQZ/C6D3OB8QnsOozkw+YHh7Hhx39jm+s4uMiPn7i424+XuTjz3y0CMLq29ebP6Ub5/2Zlu74gWq81eqMMOLrTZL1FgGKdFIQSDICvkUryL9yPTNlLKWdzG69oiDsO/c88jJRZTU5enQm97EHRZEr9iSwWq4ty2umN/ZSUp/DNX44L8u6yQ/p/+qNCWkA9t67D9pLlaUsutd7E1KuuRBn766Ud1JgXdj77ufk/ToxWgDmeiQsCBgRkO+/EQ25FgQyFwEZq5n7bDKtZZnIoJsxat0QwXqatgTTx++Z7v6Pw4i3owK+0cpwsKnf7CWX000vLnuE7RSFSssRfmnZo+Tm+0KCQA4ikLZxDL/X2EMOcmHvOayFRyCsnHuefZv8m7YqH935Z5xADraungzyfbeEqKpGWTF3DoGSUXYQtBBcY4eqxtYn0H+5a2/efgAXdjt2MeOcHCk6Gu3acwS5Ju+p2o9nLZbdFRTR/EnbWI6mcZmcRr7/mfx0WlzbZByHeeQyVsOAI7dCEMh0Bh3tg7r6HD7Czai68P3NfBgJYTDgRcZIw/VlfM3WmYIHi8Gym9buWm7ZgTU28ZaJJVIQyC4E0jaOYXAM+42JGUr3wQHpbCTo6v83hxTjzHvC82ceGxVTH6lMq/t+Ly8eNKjeu1mF3uHM9J/60F649sFOJSLfgp/IDyN6CSAshLgPCmg5eN/jvejszi1Z5D56MjnHDuEO+Mjz+Kvkg6s7oUgIpG0sR2pYNtyX7382PKUW0UYZxxEes4zVCADJbYVApotV7+FWwqnwfkl4XjdymbcZyoX4K6uZ9F6tBii1dkOf1GVvjhcSBHIUgbSMYz/7Fa9/IyA9d7Pv8mj2ntczQ+99Z656DO6phyXVJzkMrCnjcMUsjd4/3O6gzHwroCruHNiL/cOvpXrGLG/aEQlpKBh/5W6NmX7v/EXknjAyIeWaC3E4HZQ3/UjyVFSpPtQ99CLl//FUcnZoa04q4UYE0jKWG6vP7iv5/mf388uh1ss4jvAwEzVWvbzI7PF4ItQmtzMNga+//ppX7wPEz9DHz3DTfvvtB8PoIZTJDDr2kR/NxyQ+IjHOEE905sNICO/io9oYabiu5WscOUHY13LiwDPVHnSjmruDHDR14BlqD7qouefEo5ZOhCKQ8nGs1NRfele51MIe8mgYYO+S1VT//P9Uy12H7E1u+M02EMr0b9zKktZN5GdDZsR7pB3MXDs6tydnn+7kKLFTBDIU0nDpZ3/sWvUePsCTYR2+aa2Jj3EfMYnqlv1HqaO7eP+4s1O7uCtRUvQDJ/DiykeEPeKuccPJwdoMySBYds9jo3F1d/+Xn+0W8jzwAuWfN50crSNvhUhGe7KgzJSP5SzAJKomyvc/KpgkUWoQkHEcBudEjFXMF37++WfauXNnmJrkVqYi4Ha7Z+u28bU/Pz/fw0z7k+PGjbuBDeX69D2HvsigM9p0Fx/H8zGZj2V8RKKbOcGRfBjFIc9wGDO6KXxEQ1CHL2eiVq1wmX2EQQuDcNhzDrV2SM7BnI/vvD/BOrKQIBAtAvy+ZOsLk/RxDOk03GgRq43n/3kGOdk1WDjyMXNWdxf/HLFxOOceQynv1KOD49HPhuK8cxdQ/effKQvjluWwNNY5sA85xwwm16jBYa2xQ23b8/BLBNdvjq4dKf+CXxMMpGUr1aEvbIjPOXow5f/m2IR0A0b6aq9/QBnpc7NkPllSdN1YaFvU3fm0UtV3dGhD+b+fRo62qfvGyFjWTyK3z/L9z+3nK+M4d55vvGN106ZNijnv1KkTFRcXB+cTuYNQbvfE5/Mt1D3kd8FRWVlZzAsu+SxJv2/8+PHX63uZOAm/lxt3Ch+YjS3RDeUzNiJqaThUaLrzMYMPUF8+sEcdKvGP8nEQH3fycRQf/+MjGkr6xD6aRsSbBqtzMEKhCdbbRXKu0ZBztAjIZMAaKd+GzYrZgp9u12ETKW9K+N03fjZIVnvnf/jXq4Kc/XtS3jknESSrYMyxR9wLxryuQUWN90g7e3cjR8e2ylWXf3cV+bk+paqum8PMtnPUIHKxarazfy/eW974E44yPc/MIt9PK5VV+fwLefEAPsWzmHwbeHHjtscJti/zzj6RXEP7JaQ39R98GdAyKC2mgovPIAefk0m+bTvJc99zASa9XWvK+8M0cvI5FSRjORUoZ0Yd8v3PjOeQjFbIOE4Gqukrs7ljFWrtS5cuJTDn7du3T18HpOZ4EJhvzrxly5b2Gzdu9DCzPk6ruzdycubU6Qv/vqHqj0xNOJ3DjzfEdeVzr4ZrnOBiDcz47Xz8iY/1fJzFR7TMOSfNDTIy5+iRMOe58VylF+lHAKrjdY++QmDOYRXdzQx6OPKX76a6+59TzDlU1aHuzBw11c9hifnbnwYsrHMBjm6dyH3gnuQcOcjSortvy3Y2LLeYvN+wwTQ2SufjvdM4iKWwzgHMpLP/bdTl+5GVjWrqlIuyvJnHZT1zDmyhnYAtBN5P5pPn+dnkvGhmQphpWN2HCzS4cvPwdoVESeft3gdne5acnzud6u59lvzMrNf9+z/KZ7qzTze7LBIvCMSMgHz/Y4ZMMggCaUGguWNV7zmH5FwodxAoKSmp4kW44ry8PPC3aj96JjLojSIhe+xnWtz6iOPGWsRLlCAgCAgCcSGg1JRZAgoXXVBTzjvt/8JaRtfp/Vt3KEY6/7cnkW/9Zqp/7YOAizVujYOl2+7/Y2vfzOzzD7Nt+7D32nnoRHIdsg/5124iWI/3snVztMX3VahzCzD7eSexATqWxOcKuY/Yn3yLVylNAs9Tb1Deb0/kfeOuuLqn9oezEbe6fz+lrOp7v1lErj2GxVVmpMxQa8ce9LoHX1TvQN09/6W8Xx2u3LJFyiv3BQFBQBAQBAQBjUC4OYNOI+fsQYCfJ3xk89Sm0ShOJjLo2YOotFQQEARyHgEfM9meh5mpArPdupTyzmIGkQ242ZFSy37kpcCecmbK8qYfQZ5X3g9IuJEJbtmO2I9gUTwWA2X4IDuY8Qbz7T72ILYOvob8zPT7q9nXeWGBsgrvHNg7RO3dro3ZFO8oyKe8GceorQXoM9T48045Km4m3dmzC7nYiB6MxXmem02O9m0ZWyxeJ49gIC7//FO4D2+p98Hz37eUn/S84w5OiGZA8louJQsCgoAgIAgIAoJAqhAQBj1VSEs9goAgkFUIwJCLjyWrnhffYQNvvE8cEtDfn2zrKgvpvSzRrn/5vcC+8vatFdPseeBFIvjc5v3iroljyX34vjFZZbcCDdbIXcMHEOFoAeSEZgAz6R7eYuBbsJjdl1Uzk35k3BbR3YftS/51m1lCv5LqHnie8s+aSs5+PZKKKKzqYwtC/Ttz1OKAj7cu1C5ZTe6jDmBpOqzKx6cdkNTGS+GCgCAgCAgCgkAGIDBz5kxlLO/VV1/NgNYkvgn2epWJryvTS8wJI3GZDrK0LzsQYGlttv42xD2OFWO+Yp3aJ+5ftUE9MAczbflQa29j7SLLx6rn9bM+UVJtlQFGxyqrlHEzhJ2D+yipd7YbbVN9S+Mf78LlBDV3ZViPXc+5j5wUYGrZ8F5zyV9TS3UPvUT+VeuJLWzyAgprN0wer4z5NbfMaPP51mxSe+v9m7YGsvD75T5gfMD9W4IM17XksRztc5B0gkCmIyDjONOfUGraV1NTQ6tWraK+fftSYaG9Jl9qWpPeWuB1C/O1Nm3apLchsdfexEhcVVVV4bJly0rr6+unsCX3xSgyWyfhscMROUfcE/vIVUgKQSA7EGhpkwFYQPet/5l8K9aT71s2xvZLg39RZvzc7Lccvssd7FZNk7++nnxsYMy3cIXawwxjY1YExlz58IYxt6xd87DqWfrifGwoz/OfN9jC/ZZAI9hInotd0DmH9ldG5ZpjkR2u1zzPvq2epSqUmWPXXqPINaw/OdhQHTQWkkVwjQcjePUffcWmYSoD1WA7Q5/ubLWe7RN07xxw5VdW0qx3qKWN5WQ9JylXEEgnAjKO04l+5tQtDHrmPIs4WiIMeozgCYMeI2CSPHcRyOXJgOe5t5W7Kz8snjNjBuvsVF0b+jChQj5uGLnZOBuk5rW3PsFMO+9B9/lYXZ0PnO2IGSkX++1WrtB6dLZLJfFxIIAFEi+s4YOpZRd2IcSSdQcf2OvvwH5/3lIQzd5ypTnBlt09b30SWiZc2WERgJ9pHu/9Txb52TsALMt75y5oXHwwVsaLRY5WJURg1PNZYyCPFw3Y7Z4yWNhoV8aYQ13n8lhu0lmJEARyFAEZxzn6YGPsVqYx6C+++CJde+21tHz5cuWTfezYsfTaa6/Rueeeq9TPEb777ruptraWTjnlFLrzzjspPz9f9Zr9gdPNN99MDz74ILEfcBo0aBD97W9/oxNPPDGIysKFC+mSSy6hTz75REnLx4wZQ48//jj179+fzCrukcrbsWMHnXfeefTOO+9QRUUF9ejRgy6//HI6/fTTg/Wl6CIqBr35eoEp6kWqq9m1a1eqq5T6BIFMRAALVnD1AMuSWUfhxnEeq687tITc0DM/M+K+Xl3J378H+diyOhVAasrd59+EPFZBdtgw5X5O52cpp49dZvnZyJi/JzPlWtouvycGhBN8OXYw0cgB5Fi6hpw4Vm8kx05+ZVkbAhoRILy8lROGk78tM7bR0OBeRANOIceS1eT6fik5eH+6A2VxuXW7Kqg62c9zOL93OLg+55I15OCtE07WGKBt5eTgRQn/9nIiPvSgxLnmuMmsC+cI17ucHcvhOi33BIEcQ0DGcY490OZ0p66ujuUDPjZrw5pXsG2TRtq0aRNNnz6dbrrpJjruuONo9+7d9NlnnxGraStm+v3336eCggLCefXq1XTWWWdR27Zt6frrr1etvuGGG+iZZ56he+65hwYOHEiffvopnXbaadSuXTs64IADaMOGDTRp0iR1/e6771Lr1q3piy++UMw++o5FdRwah0jlXXnllbRo0SJ68803qUOHDmpRobq6Opg/VVBym51srd3Hi25hqxQGvRGeMlz27NmzMUauBIGWiwBzAtSaj2xbsZJx3HLfWeue336JdXyuxEbun4zlXHnW0o+WjICM45b89Bv63rt3b7r//vsJjGW6afHixYoZh+Qb0mnQ3nvvTbyXmrZt20bMhNL5559PWFTo1q0bnXnmmUqCfvzxx6t8YKjBnHfq1Imwn3zUqFE0ZcoU+uc//0mtWrVS97DP/uKLL1ZlQeo9YsQI4v3atGDBAlUH4nCNOiKV98MPPygeD+1Ce9u3b6/ajPwpprGsCbDA7XaHUcUkEga98als5EuY74XUMBYCQ7Cej+bkjaWebE8rOEX/BDMFq1jHQvQ9TF7K5o7jRLYoU56f9Ck8Ai3pOclYDv8uxHo3194d6U+sb0Dq0mf7s4n2m5zt/WzOGxFzn1kKPLBz586vDBgwYHdRUZFpb15zmtD8PCNHjgQTPYCl6CX77bffroMPPnjXr3/9650snfayGnvvwYMH5zPDvkzXwGruRSxtH7J582ZIsJewuv5gVjkPYVI9Ho9j6NCh1czALlmxYkX/CRMm1LPRtDW6DOMZdTCT6+K0K+fPn1/I5Q0NV94f/vCHVqwW32/p0qU1LKHfdcIJJ5RzmxsMvxhLTuw1S/hdvDgwivH6nhcHlNoDJOiRahEGvREhaAtuaAzGfIUJULZJG2PuZAIyCE7RgyhYRY+VThnvONblJOKci89P+pSINyP5ZeTCc8qksWz3xHIBZ2PfpD9GNDLrGs8GYyLbKNZxnGvvYDTPK+o+857uSqfT6WMGzx9JAhtNxfGk4fppzpw5S997772St99+u/VDDz3U8cYbb+w2d+7cn1h924/D2Ea0W9dXWRngi59//vllffr0YT+2jcRq8T7k4wUIqIGHlNGYCju7HHi31H0uT+mLhytv2rRpO1ll/vuXXnqpNavMtzr22GMHzpgxYwvvgYeQNekE5tyIR6QKhUGPhJDcFwQEAUFAEBAEBAFBQBAQBAQBQUAQCCLATDcddthhlTj+9a9/bezevfuoZ599ti0SsAp8MaugO0pLS9XCEu9PLykuLvaxBoCzX79+NSwB969Zsyb/6KOPNll6DRTP6uxVzz33XAeWvDuYaQ+7OMULF9WRykOprGpfz2r323Bwe3ezgbueqWLQA72K/q8w6NFjJSkFAUFAEBAEBAFBQBAQBAQBQUAQaNEIfPDBByVsEb3syCOP3AXGly2tl/DebjdU1Fmluwjq6qz+3ueaa67ZxFbeC9hie3dWMd/KTH1n9l3uO+ecc35mlf2ebPTOceCBB1bs3LnT9fHHH5fy/nMvGGjee77l0Ucf7XTMMcf0u+KKKzaxgTkv6mB1+srRo0eHqPfzvYjlXXDBBd1YXb6KVeKrWR3ewVL/NrxQkP7N/DZvkTDoNsDEEI2X5Fo+Ql6WGPK3lKSCU/RPWrCKHqtMTJmLz0/6lIlvWtM25eJzatrL9MfkGs7Sn/S/U3YtyLVn09L7aex/Vj9btqruZRX3MpZAd2YVc1fXrl3rmBlfd/LJJ+9iVfN2++yzzy7eK197yCGHDGYjbk5mtLezAbiN27dv9zGT7r/jjjs2duzYsf62227rcuGFFxaUlZV5hw8fXsWuzzYBJJa0e2fPnr30oosu6nH44YcPZhVxGjJkSBWYeSOI+jpSeZCwX3311d03btyYD4k8M+u7uZ0rdf5kndFX7ssmnGOpI7yN91hKkrSCgCAgCAgCgoAgIAgIAoKAICAICAIJR+Drr78ewvuYZ7NbsgpWF69JeAUJKnDq1Kl92DK7i/enr0hQkTldDFumL2Tr96Xsom4KLxwsRmedOd1j6ZwgIAgIAoKAICAICAKCgCAgCAgCgoAgkCUICIOeJQ9KmikICAKCgCAgCAgCgoAgIAgIAoKAIJDbCMge9Nx+vtI7QUAQEAQEAUFAEBAEBAFBQBAQBFKCALsyW52SinK4EpGg5/DDla4JAoKAICAICAKCgCAgCAgCgoAgIAhkDwLCoGfPs5KWCgKCgCAgCAgCgoAgIAgIAoKAICAI5DACwqDn8MOVrgkCgoAgIAgIAoKAICAICAKCgCAgCGQPAsKgZ8+zkpYKAoKAICAICAKCgCAgCAgCgoAgIAjkMALCoOfww5WuCQKCgCAgCAgCgoAgIAgIAoKAICAIZA8CwqBnz7OSlgoCgoAgIAgIAoKAICAICAKCgCAgCOQwAsKg5/DDla4JAoKAICAICAKCgCAgCAgCgoAgIAhkDwLCoGfPs5KWCgKCgCAgCAgCgoAgIAgIAoKAINAiEFiyZEm+w+EY9/nnnxe1iA43dNLdkjorfRUEBAFBQBAQBAQBQUAQEAQEAUFAEKAyxiCPDw8fuwWPzEFAJOiZ8yykJYKAICAICAKCgCAgCAgCgoAgIAgkE4E2fq93FFcwiI++ODeE2ySr0scee6ztoEGDhhUWFu7Rpk2bMRMnThy0a9cuxYfedtttHfr16ze8oKBgj759+w6/6aabOup2DBkyZCSuOf0wSNL32muvwQj7fD76y1/+0rVz586j8vPz9+B0w1588cVWuAeqra11zJgxo1fHjh1Hodxu3bqNvOyyy7oE7hJdc801ndGeoqKisV26dBn161//uld5eXnG8MUiQddPSs6CgCAgCAgCgoAgIAgIAoKAICAI5C4Cbfx+f3/f4lVU/97n5N/0Czm6diD3IfvkOYf1789M8Aru+s5Edn/NmjV5Z599dt+//e1v66dNm7aTGWHXBx98UMrtoPvuu68dM+Td/vWvf61l5rvqyy+/LP7Tn/7Up6SkxHf++edv++ijj36aPHny0FdffXXpHnvsUc3MuB9tu+666zo98MADnW+99dY1yHf//fd3mD59+oDBgwcvHDlyZO0//vGPTu+++27rp556aiUz/3WrVq3KX716db7ul9Pp9N9yyy3rOH0tq9EXcJ29zjvvvB6cfq1Ok86zI52VS92CgCAgCAgCgoAgIAgIAoKAICAICALhEfj666+HuN3u2QMHDqwoLi6uCZ/a+i4k5cyc53kefZlIsboN6ZgjzDvjBHIO6VvncLl+sM7dvNjPPvuseP/99x/KjPAPLLWuM5bSq1evEVdcccXGc845Z7uOv/jii7uCuV6wYMFi7EGHFH3u3LmL9tlnn2qdplOnTqPOOOOMLczc/6zjmDEfOmbMmEow2TNnzuzJeYvmzJmzlJlxncT2DAn/hRde2GvHjh3f2SZK0o2qqqrCZcuWldbX108ZP378YlQjEvQkgS3FCgKCgCAgCAgCgoAgIAgIAoKAIJAhCJQx850HyXkIc47GMbNe/94XVDB8AKTM2JuesD3pe++9dxUz17tZAj6cGfXyQw45ZBern+9g1XP/unXrCi644ILef/7zn3ujGSCv1+soLS31BkJN/27bts25devWvP3226/CeHfChAkVCxcuVMbkzjrrrG1HH330IJaej2AJfPkxxxxTfsIJJ+zS6VkiX3bzzTd3XbFiRWFlZaULdUItHmr3rVq18ul06TpHXlJIV8ukXkFAEBAEBAFBQBAQBAQBQUAQEAQEgUQgAINwSq3dqjD/z7/oaJVOB+I9s9SfWIq+9OWXX17K0vAaVk3vxKrlI1gjQDHTvAd9zbx58xbpY/78+QtZ8v1TPPUy817FzPf3l19++Yaamhrnb37zm35TpkzphzIhlT/55JMHDhs2rPrZZ59dwRbiF7Ekfg3u1dXVZYR2uTDoeBpCgoAgIAgIAoKAICAICAKCgCAgCOQuArDWrvacW3XR0aWDjlbpdCARZ6iZH3bYYZW33377xkVMeXl5/k8++aSUjbh5Vq5cWTBixIha48GMvFKFh5Qd9bP6hQYWogAAQABJREFUd5Bxbt++vQ/5mOkvNbaNGfxSVqEPqv4j3W9/+9sdzISvefzxx1f+73//a7t582YXM+TFMDL30EMPrTvooIMqR40aVbtx48bg/nRjmem6FhX3dCEv9QoCgoAgIAgIAoKAICAICAKCgCCQGgR28x50DwzCWe1Bdx+yN/F97EFPmHo7usUG4UreeeedsiOPPHIXW1OvZ8a8hPd6u4cOHVp96aWXbuQ96D1bt27thRo6pN1goHGfLa1v7t69u4ctv/tmzZrVqk+fPnVsPM7frl07Lxt0+5kNy3VjFfZaGIljqXyHxYsXFz3zzDMrUSestHft2tXDau9VLpfL//zzz7ft0KGDhxl7LwzDgeGHIbmpU6fu/PDDD0ufeOKJoOV45E83CYOe7icg9QsCgoAgIAgIAoKAICAICAKCgCCQZASY+V4La+0wCIc951Brh+QczDnHE1txX5foJoD5ZpX1sgcffLAz9nsz41zHDPQ6VjNXe8LZ1Znvzjvv7PL3v/+9B65ZCl7NFtw3ox0saSdmpNcxM96Vj+5sRK2CLb0vufLKK7fAGjxbhu+5fft2d//+/Wv++9//LocFd+QrKyvz3nHHHV3YgnwBGHSOr+J958sgyYexOdR/1113dbnhhhtUmVddddV6Zvr7Im8mUFBdIBMaI20QBAQBQUAQEAQEAUFAEBAEBAFBQBAIRSARVtwbSoQf9F4wGKdraJCcgzlPqIs1Xb6c7REQK+722OAOFiu01UKj44HwueSuICAIZBICMo4z6WlIWwSB5iMgY7n52ElOQSBTEJBxnClPIrQdO5k5ByMOvgdMuifRau2h1UkoVgRExb0RMbykrC1RTmxevzFWrgSBFogAqzjho5qNJOM4G5+atDlpCMhYThq0UrAgkDIEZBynDOqMroj3Z9OqVasoGr/eGd2Rlt24+dF0X6y4R4OSpBEEBAFBQBAQBAQBQUAQEAQEAUFAEBAEkoyAMOhJBliKFwQEAUFAEBAEBAFBQBAQBAQBQUAQEASiQUAY9GhQkjSCgCAgCAgCgoAgIAgIAoKAICAICAKCQJIRyBUGfTXjBMNu5uOeJOMnxQsCgoAgIAgIAoKAICAICAKCgCAgCAgCCUEgV4zE7clouAyIjODrd/l4wRAnl4KAICAICAKCgCAgCAgCgoAgIAgIAoJAxiKQKwz6VhPCl3J4BR8fm+IlKAgIAoKAICAICAKCgCAgCAgCgoAgIAhkJAK5ouJuBDefA6fx8Sgf4s/ciIxcCwKCgCAgCAgCgoAgIAgIAoKAIJDDCKxevZrgMfjbb79NSC8TXV6kRuWKBN3Yz+M40IaPx42RFtcFHIdDE/wnCwkCCUeg3ucnt7PRrbg5nPAKW1aBMo4Nz9v8bpnDhqRyKQhkGgIpH8veRSvIt3ojuQ/eixwFWNsXEgQEgTgRSPk4jrO9kj3LEPD7/Yrx1s02h3V8z549adOmTdShQwcdlVXnXGTQz+Qn8DYfGyM8icv4/tUR0shtQSAuBPDD8eVGDz35YzWt3FlP/dq4acaIIprYPS/kByauSlp2ZhnHDc9f3rWWPRByoPcpHcv+2jryPPIy69nxZC/fTe5D9skBCKULgkDaEUjpOE57b6UBKUUA85xKj5+2VXuposZDpYV51L7ISSV51GRO7XK5qEuXLiltX6TK6urqKD8/usXgXFNx783gHMLHw5FA4vs38tHacPSIIo8kEQSiRgDSy7kbPHTpR7tp4S/1VF1P6oww4nFfKG4EZBwzhPKuxf0eSQHpRyClY9m/YYtiztFt38oN6e+9tEAQyA0EUjqOcwOy3O/Fgw8+SN26dSOfzxfS2WOPPZbOOOMMFffaa6/RHnvsQYWFhdSvXz+69tprqb6eJ84NBHX1f999Lx1zzLE0tFtruu/WG+nnX3bQ9FNOpY6dOlFRURENHDiQHnvsMZXDSiV94cKFdPTRR1OrVq2orKyM9t9/f1qxAibL+DvAbfv73/9OPXr0oIKCAhozZgzNnj1b3bP78/HHH9OECRNU+q5du9Kll14a0ubJkyfTeeedRxdccIGS5B9++OF2RTWJzzUG/XTuIX91aVaTnjaNqOWoXYZjd9MkEiMINB8BqLVDcm5mwxFGvFHtvfm1tPicMo75FZB3rcWPg1wAIKVj2b+9PIiZf+v24LVcCAKCQFwIpHQcx9XSFp7Z62tkfgGFOZxIeE466STatm0bffjhh8Fit2/frhjgU089lT799FOaMWMG/elPf6JFixbRAw88QI8//jj94x//CKbHxT+u+zsdctSx9NonC+iEU2fSnTdeTSuW/kSPvfAG/fTTT3TffffZqrRv2LCBJk2apJjpDz74gL755hs6++yzgwz1v//9b7r11lvplltuoe+//57ATB9zzDG0bNmykDboAMo78sgjac8996TvvvtO1f3II4/Q9ddfr5Oo8xNPPKGk5nPmzKH7778/5F64QC6puGOxAQz6E3yEvnXhEJB7gkASEYBauxXZxVullThBIBoE7N4pu/hoypQ0gkCuIuDfgfX5APl37mZN99B9jfqenAUBQUAQyDUE8Hv3zZa59OKyR2jtruXUq9UAOnHgmTS+8/5NVMUT0fe2bdvSEUccQc888wwdfPDBqsgXX3xRMdMHHnggHXbYYUr6/Jvf/EbdgwT9uuuuo4svvpiuvvrqYBOOmjqNTjhlZjC8af06GjpyDA0eNZ76tHNTnz59gvfMF/fccw+1bt2ann32WcrLY514JkjcNYExv+SSS2jatGkq6uabb1YLCnfccQchr5nuvfdewj73u+++W2E2ZMgQ2rhxoyrjqquuIqczIANHHf/85z/N2SOGc0mCDtX2XnzAeruQIJARCGDPOezDje3spkP65KszwogXEgQSiYDdO2UXn8i6pSxBINsQ8O9olKCT10vEe9KFBAFBQBDIdQQgKf9686d047w/09IdP1CNt1qdEUZ8vUmynig8ICl/6aWXqLYWShZETz/9tGKGwchCAg318tLS0uAB6TaMvFVVVQWbMHaPccFrXEw7/Rx665Xn6bgDxilmfu7cuSH3jQFYc4dKu2bOjfd27dqlmOt9993XGE0IQzJvRYjfZ599QhY0kL6iooLWr18fzDJuXGibgzciXOQSl/AO95VZHyFBIDMQwL7gC8YXU+tCJ3UrdQUbtbHCS+U1PrVvWNTcg7DIRRwI4F2D8UHYN8AWCk34QUQ87hvftUhhnT+bzrnYp2zCP9vaCqm5kfy7q8hRWGCMkmtBQBAQBHIOAZfTrSTn/pDZAvxS++mlZY/Snl0mJaXP2PsNyf2sWbOUWjjU2m+//XZVF5ha7Dk/4YQTgnVrrSbsSdfUqU2pvlTnSYdMofcXrKAfPptNn374vpLOn3vuuUpNPSQhB7BHPR1UUlLSrGpziUFvFgCSSRBIFgJgiIa0dyuDcNd+ViFW3JMFtJSrmG94BrhpcllEjwH46OWaZ4Fc7JO81slFwF9VE1pBBUtpOrYNjZOQICAICAI5iADU2q1ojU28VdpY4vCN9roK6LCjj6MHHvsPffXjUho4aDCNHTtWFQPjcEuWLKEBAwaoMNIHrLX7aPlOHxW4AsblCt0O6lHmZCvuPqplxacCln2N6tuZ9hk0k84583QlIf/rX/9qyaCPGjWKsB/c4/E0kaLDaByM2GGf+AEHHBDsGsIwAmdFQ4cOVRoBaCsM2IGQHsbnYGguXhIGPV4EJb8gYIMAJHpghIxSTVhzRxiM1F7d8kKkmjbFSLQgEBUC+EDgndq3R6MLD7yD+sOBQnLxnczFPkX1wCVRfAhUhzLofjDoQoKAICAItAAEsOcc6u1m6s3xiSbNbK/f7aMjpp5Cvz/lWFq2eBH930mnKCYcLtKwZxsS9l69etHUqVNZ7d5BH8/7ltMtpAsu/7vygoR21Xn97FLNQaXsGhOEfGDuR4wYoVTn33zzTQLjbEWwpn7XXXcptfrLLrtM7Uf/4osvFAM+ePBgAmOP/e79+/dXFtxhDR5q8VDFt6I//OEPhP3p559/vrLUjgUG5L/wwguD+8+t8kUbl0t70KPts6QTBJKKABgGkFjWTirMUrgFAkY1dty2CsfqWUC/z7o6c1jHp+ss4yxdyGd3vf7qwD5IRzt4W2X1zt2V2d0hab0gIAgIAlEggD3oMAjnMO0KRnjqwDMSvgcdQgJIvEF7738gtW7TjlYtX0JHs8E3xOM+LKaDuX7nnXcUw3zQpIn05P3/pm49eoX0qLw2VOgAn+KXX345QToOC+3wfQ4jcFbUvn17gvV2qNNDSo694Q899FBQmv7HP/5RMdcXXXQRjRw5UlmYf/3110MMyRnL7d69O7311ls0b948Gj16NP3ud7+jM888k6688kpjsmZfy57tRuha8WU5k/KP1xgtV4JA9AhgpRA+zmt5le+g3gV06LPbgit/xlKKePHv3WntjVEZdc0/mNn62yDjOMKbFMs7qd9nMPWwBg+Dc9jTDnX6THpFYulTBHhy7raM5aaPFO917cW3wq8QOQf2It+yteQ+6gByH7xX08QSIwhkAAIyjjPgIWRAE2pqamjVqlXUt29f5S+8uU3CbyAMwmHPOdTaITkHc54sK+5Lt9dTg+wqpMkwmjyIra9vrfLSjho/tS10UMdiF0VKH1JI9gXmm5vMhvAK2Z1bKft9nzJ+/PjFuC8q7maUJCwINBMBo6rtiUMKFIMOhgZq7WYSy9pmRCScKgSifSeN77M2PJepWzSi7VOqMJZ6MhwBD/8mM3MOcrRtkKA3WBbO8JZL8wQBQUAQiBsBLLDv0WliiEE4WG9P1sI79opXN50Kqz3k6Ex1vV8x8DiDIqVXiXL8j6i45/gDlu6lDgGjqu0rS2uVFB3SRrMoGmFtWTt1rZOaBIHAHvRo30nj+2zEDp9PSNTN6vPGNKm8xkJCtH1KZbukrgxGQBuIg/imVYOF3Rpxs5bBT0yaJggIAglGANbcjeQ2hY334rmGtL59kTW72Y7jsa+8yhOoAWeEEW9FKAfltQSyRqAl9Fz6KAgkAQGoAYPqWTjz4uIapQoMg3DDO7gJau04IwwV4UxhcJIAgxSZoQjgndPW3qN5J/X7bO6OXbw5XSrCsfYpFW2SOjIbAX9NYP85FRUGXav5xQ96Zj80aZ0gIAhkJQKQysOwG6yvYx6MdVGcES7l+C1VAW0m3TmEEW+VHuUkS8qv68+Uc+jySaa0StohCGQpAkZV2/sWBKwCnzikMKxl7SztqjQ7SxHAxy2StXfdNeP7rONwRnwmUSx9yqR2S1vShECDBXfl97ywweuBZtrT1CSpVhAQBASBXEUgwKRT0Po6+glJ+FY2EldRFyoRRxjxHVlarq216/QthTlHf0WCDhSEBIEEIGClagsmfcpz25WBLZ/BunsCqpMiBIFmI2DW3jCHUbDV+4z4TN2iYe6DOYy2CwkCQMBf17AZMp+NHRY0MOgiQZeXQxAQBASBpCFgxVwXs19zK7KKt8pvlTdX4oRBz5UnKf1IOwJgCKzUh6+fVEZ9W7vYL2LTHyIwQUYyh4335FoQSCUCdu9zpm7RMI8dcziV2EldGY5AfQODnseaIIUFqrF+2YOe4Q9NmicICALZjIDV3nE71feWpMpu90wzS0/RrpUSLwhkCQJY4YtWfRg/Vl9u9CiDW5nswipLoJdmJgGBWN7nJFQfdZEylqKGShICAVhxB7nZtLBI0ANYyF9BQBAQBJKEAL7RlR4/+z33sgHlgJV2GHwDI46jJauy20EuEnQ7ZCReEGgmAmbVWnMYxUK6B3/pl360W7lhg/sJ7cIK8SL9ayb4ki3hCJjfX3M44RXGWKCMpRgBk+RBBt2RxyruDXvQg4bjBB9BQBAQBASBhCGgmfP1u33K1RoURzHnRRhMu5lamiq7uf86LAy6RkLOgkAYBMwMszkcJqvlLTA5cFVl/mlCOJNcWFk2XiJzFgHze20OZ2LHZSxl4lPJ7Db5tQQdKu5agi4q7pn90KR1goAgkFEIgPE2kjms74Hh3sZG36wI8cKQWyEjRuKsUZFYQcCAAH50oIp+zuxyOvTZbeqMsN2PkSFr2Es7V1V28WELk5uCQJwIJOs9j7NZUWW3GzN28VEVKolyF4Egg+5qNBLnif83PXcBk54JAoKAINCIAOYLkH6vKa+npdvr1Rlhu3kx1NqtSMdfc801NGbMGKskMceB4X/11Vejzvf4449TmzZtok6fqoQiQU8V0lJPViIACWKyVNHtXFXZxWclgNLorEAgme95KgCwGzN28alok9SRwQg0GImDijvhAEHv0mst5QkkkL+CgCAgCAgCmjm3U1m3YtIL2NyHFen4v/zlL/T+++9bJYk5btOmTXTEEUdEne/kk0+mpUuXRp0+VQmFQU8V0lJPViKQLPVZMEQzRhQpl1VGYDLVhZWxjXKdewgk6z1PBVIyllKBcm7VEVRxh5E4qLlrYim6kCAgCAgCgoA9ArGqrINhh0E4K0I87peWllL79u2tkqi4uro623vmG126dKGCgoB3DvM9q3BRURF16tTJ6lZa46wRS2uTpHJBILMQsFOTtYuPpvVgiKxcsmWqC6to+iRpshsBu/fZLj5TeitjKVOeRBa1I6jizsy5i6dB2gVmnTDoWfQUpamCgCCQJgS0arq5eqt4MPRPP/YQHTiyFxU4ferntoh/enuUOenUk46nM888k8wq7jNnzqTjjjuO/vGPf1C3bt1o8ODBqipIx4866igCU92vXz967rnnqE+fPnTHHXcEm2JUcV+9erXa4/7yyy/TgQceSMXFxTR69Gj6/PPPg+mtVNzfeOMN2nPPPamwsJA6dOhAxx9/fDD9U089RePHj6eysjLCYsApp5xCW7ZsCd5P1IVh6ThRRUo5gkBuITClXwG9tqxWaUDqnmE+h/h4CD8i0bpki6ceySsIRIMA1MHhScBM/Tk+00nGUqY/oQxrX5BBZyvu/Dus1Nxr6wiSdWgxCQkCgoAgkOsIQPsMC9yazGEdb3WGajossZtJq6yb43/1q1/RH//4R1r5zad08MEHq9vbtm2j2bNn01tvvUWffvqpOYtSeW/VqhW9++67wXszZsygX375hT766CP+2c6jCy+8MCrm+IorrqBbbrmFBg4cSLiePn06LV++nNzupvObWbNmKYYc6Z588kmq5y1RaKMmD2taXXfddWrRAIw52oAFBWManTaec9OWxVOa5BUEcgQB4w/VRRNKafqwIrp7fhV9sq6OJvXMp/PGFVO3Uv6FaiBjeh2nz+Z7xrDxxxHpzWFdhpwFgUQiYHwHUS7CF4wvpt/O3hXiWeAAftevmFgSUrU5b8jNJATM9ZnDukrz2DGHdTo5CwLaD7ojr+E3PJ/3oTODTnUWM06BSxAQBASBHEMAauUwdgyvQdCSwwI9tl1Cs1MtWobpr1ZZxx50M3UqDqisG8tA+rZt26p94c8880yQQX/ppZeUdBqSbSsGvaSkhB5++GHKz89X1SxevJjee+89mjdvnpJuIxL3wXRHoosuukhJ3pHu2muvpeHDhysGfciQIU2yQmo/bdo0lU7fHDlypL6kM844I3gNKf6dd96p2lNRUaFU9YM347wQBj1OACV77iFg98N1/aRSemFxDZ00pJA+Z1/l135WEfGHza6saH4Ecw9Z6VEmIBDunXxwSiu64+sq9V5PHVxI54wpVkYSm/MRT0Rfw7XVOAFIRF1SRstBwN9gJE7vP3fwPnTlMEj2oLecl0B6Kgi0UASwyA3m/NKPdgcX5KE9hzC2WUKzM9wCN769JbymCRV1uEmDWjsk52DOC90OZd19W7U3GI995kh/6qmn0tlnn0333nuv2iP+9NNPK0bY6bTebQ2mWDPneFRLlixREu/BI8cqq/Gq3o59FPOPuUI4GjhsZDBPfUlHlXTz5s1kxaB/++23qp125c2fP1+p5H/33Xe0Y8cO8vkCCxVr166lYcOG2WWLOd4alZiLkQyCQG4ggB8uWG2//OPdlM8/OPv2yFdnhMGUg2nBGT9k+EGDio/+YUM+5Neky4omrc4jZ0EgmQhEeicHtnPTA1Na07vT2tNZowPMebre30htNY61ZGImZecgAlrFXas3QoLO5Jc96Dn4sKVLgoAgYEQAzDcW3Rtnq4G7CCM+HHOuywkw6Q7q3dpNg3jegLNmzu2sux999NHKIBxUyNetW6ek5mDa7QgSdCNpJtxcPqbddbxIoO9b5dle51LzdaSt8QbU+qs4k1Ue7G+3o8rKSjr88MMJqvdYYPjqq6/olVdeUcljMWRnV74xPpcY9O7csf/wsY2Paj5+4GM8H0JZhIB50m0OJ7sr+GH6YauH/ntsG7rr0NZ0zX5l6owwVgRj+WGLJW2y+yXlCwJAIJZ3Mpa0Gl3zeEXYa1i0QjpzGp3XfG5O/eYyJCwIWCJgkqBrSbpWfbfMI5GCgCAgCOQIAnbGX+3io+k2mHZI1K0I8WB8TzjhBMXY/ve//1V7uPfYYw+r5JZxkHZjP/hP3y8I3l+zcjmV79zBUnufpWp+OE278lq/ZZ5Ro0bZunyDmj32zt900020//77Kwl8MgzEoYO5ouLelvsyh48P+YDzu618DORjBx9CWYIAVrKauycmkV38bYNar1GF/de8N+foAYWqGrsfMKt4qzgUYhefyH5IWYKAFQJ2755VvFUcyrSKDzd+719QSS8tqYlpn5tdPeHicU9IEIiIQIMEHartivRZJOgRoZMEgoAgkP0I2BmFRXw0hO99pcevBFdQNW9b6KCOxS6l1m6VX1t3h8QckvSFCxfSaaedZpXUNg4M+sQDDqarLvw9XX3L3azunkf/vOpiKmTG39sM857M01vS1VdfrfbJ9+/fX6ngayNxl1xyCfXq1Uup3d911130u9/9jn788UdlMM6yoDgjc0WCfgnjsI6P0/mYx8cqPt7hYwUfQlmAAKRqUBFPlzqthki34zKTCrsOI53dD5hVvFVcuDJ0O+QsCCQLgVjeyWjT6nFjtTVkDo/rY3hxCx9ou+0gdn2Ntn67/BIvCFgh0OgHPTAZdTSouIsE3QotiRMEBIFcQgDfaxiEa7TfHugdwojH/XCkmfNQVfNAHjsr7jr+oIMOonbt2qn95HBPFivd8cBj1L5TZ5rxfwfRn2aeRKfMPINKSsuopCggQIulvDwbDnjy5Mn0wgsv0Ouvv05jxowhtBmG6UAdO3YkuGXDfew3hyQd1uGTQebnk4w6UlHmIq7kf3z04OMAPjbwcS8fD/FhR/CRZfSTVcbh9eXl5WpvgV0miU8eAufMLrd08zS8Q2BfbKw140cGarKazGEdj7Pxnl07RnA77j6sVRPjGsiPWszGNVCm2RCHXVrEZxKxWlAjcJnUsKZtkXHcFBPbmFjeyVjSokJIyY8ZWBji3WBjhZdeX1ZDvxtbQue/W04LNgesZEczpmOt37bTLfyGjOWmL0DtrY+Tf8MWyjv7RHIN7Ud1j71Kvh+WkvvEQ8k9cWzTDBIjCKQZARnHaX4AGVJ9TU0NrVq1ivr27at8dDe3WWCyIRRrrgHYNeUBG0zG+vu1gQTdTxssrLvDoFxJnsNSpRxtMU45zWFdB+Jr6v3k4nl9viswRV2/fj317NmTZs1+h4447JCQcpAPeSpY0m/Vpu7cplKbNuk6k3Seby63qqqqcNmyZaUsrZ/CPtYX4350ugzmkjIv3I+b9Hs+buPjBj725ONOPthvCj3BhxVdxpFXW92QuPQgYKU2i5bYxYdrJQZltOryOu1P2+qVYSy7+lawKwow/LDADmY80g9bLGnD9UXuhUVAxnFYeEJvxvJOxpIWtdhtDUE8CJZcNdmNMX0f51jrN+aV66xEIHVjWRuJ06rt+Q1TIXGzlpUvjjQ6oxBI3TjOqG5nV2PAEMNaOwwha8KiuJFR1vFWZ62ybry3pcpH3UudTay7B6y42zPnRlV5SNq11XdzWxCe+8kH9MvO3dR9wHBav2kT3XrtZdS7dx865MADLNuOPKV5RGDGtxsszrfj+UiamHMjZGGvc4VBx8zvaz4ub+gtLAiM4ON3fNgx6DfyPTD0mpQEXQfknHoEoM4KFVgz2am5mtPpsJXkTavWhpNyj+kcGA6oD8z66E5u9UMB4xbfbQn4iUQdGPDR/rDFkla3X84xISDjOCa4on9/MY6Wbcd771KW3XU1G3d7aTGPD1h8BxMNQtov2G0LtoJo5TiMOYRv5MWsvXkigI+jpmjHtIwfjViLOKduLNfzfgsmvQddn0ncrLWIF006mVQEUjeOk9qN3C9cf791T81hHW91BiMNL0ZGqqjz01b+zncE86sXPTkBhGD4lpsJ8WDOjf7UUSbCAYl7YL6i8yH97uo6uvLKK2n9mpVKtX3MnvvQTfc9ydJYN+XZ1IM2tSlwKkvzuqw6lvQjvhPvm89UyhUGfRMDDDV3I/3EganGCNN1LYdxCGUAApjgY+8L9qDrCT6ahSGt98TgxwPpjD8ixrC+xv1wLiSMK4bGtGDCoZJ7wfhial3obKKqW17jC9ZvbAPaaQ4jTpP5njms08m5WQi02HGs33eNmjms463O5nfQHEYexK3d5aV+bUM/E+3Z1yk8HQztwMvSDYS0T9m4bUH8foZVevOY1mXYnc1tM4ft8kl81iGQsrEc3IOuJeh5gXfZLxL0rHtppMEZh0DKxnHG9TzLG2RmpM1h3T3EQ8ptZKz1vWL2g24mK+YcaRAP70hWVMWq7FCJNxLSj93/UHrjs2+N0eoagjTjooBOgLaiTSt3eqmYf+bdXEY9x1V5An7c7fqo86fzHDrzSmdL4qt7DmcfbCpiEIfXmOIkmKEIYNIdSXUcA8lObR3dwr1IaupWqrU6jnl/+nBNHZ0yrFDtzTFaccciAdpn90OTobBKs3IUgXBjIZHv6GF9Cyz3qSHeTHoc2cV3KXES9p7LWDIjJOGUI6Al5SY/6CRW3FP+KKRCQUAQSD8CmFPEompewswupNxgjKHu3qiabq3KbtdDK1X50ny2CM8LAMb2RGsl3lwP5kPGtlYw44+2htsTby4jXeFcYdBvZwDn8gEV9+f5mMDHbxsOPgllAwIYSHaq45AOmg2uQYUWVqPf/lVbZXzqyk9207njAvtdp/QroNeW1RKYbiNZqdYiDmXxGgEd2DufYHXarKoLyb5ZPd5YrlwLAqlCwG4sJPodjbUePY7MOPRvcNty+UTsIgqowydyEcFcn4QFgYgIeEwq7lodUzPuEQuQBIKAICAI5AYCmjk3SsQjqZrDWBsMtfVu3chGQm0c8YUcFe03XqvKG6XbnVhLz2zYrZrLBen0ZuQRb0eaSTdK2NHnaNtoV26y4xut9iS7puSW/xUXfzwf0/n4kY+/8XEBH0/zIZRFCJjVV3UYZyu19VG8T7yYfSVU1Plo9snt6MTBRaq3F00opWePbUOTejYawICyjFaXRyIwIF4+EId72HPerdRlq6qL+nV7kF9IEEgHAnZjAZ+vRL6jsdSDsaTHkRGTA3j83XZwgDE3xsu1IJAuBPw+toXgbVCrFBX3dD0GqVcQEATiQAAMZqIIjCok4VaEeDMjizAMwkFtfO0u3hrKdmlwRhjx5vRW5SIOfQAzDjs3vVrx/LsscIb7M82Q67xQSccCAIy7WRFU7hOJiVUdyYzjtoMN8Xu93uCDaFz6SGbNqSn7Ta4Gh1COImClQotBCbJTxb1+UildN6eC95b7FAOxD6upG8NQW9eq9VCPB1nVEy5eZZI/gkAKEUjVOxptPWDm9TjCIgHyTR1cSOewBfd4XLmkEFKpqqUg0GAgTnVXM+hBCbrJ6lFLwUT6KQgIAlmBQF6DvQx2y0VFRQGBVCIabqVqjnIjxYNxZr4SfxTZpdf3jWcw8pC2Q5V9E9t/Ql5IwjGvh4p7HfOqMDynaTdftyt0xKxaD8bdqC6v64Dqe7SLCboNyTpXVlYWczs9TLCppiiXGHTdJznnKAJnjS6m+xZUseS7sYM7eHUvkiruFRNLleQbq3xXflJBn6yD9z1SBum02rpRtd5OVddKPb6xJXIlCKQOAbt3VKuTJ6ol0daDMQiL730NFt8RB+bcaPjRzptCotor5QgCERHQLtaQsGEPuqNh0itW3COiJwkEAUEgjQi4XC5q06YNbdmyRbWiuLg4IUymy1tP9Rbrk1jDrKlpyirGmt4KMjDOVcycb670USEzy4XMsNdzeG0VUWe2WdOKVejr/N6gYbc8n4vKK/zkZIFA5wIInANUx3nKa3lvORuDMzPcxjp0enSzsqGO4jT4Qff5fIW6Ldw+B5jzn3/+OZ+l54/st99+u/W9pqjrO3IWBJKEACbuRlVxY9h4jeqN4ZOHFtFxgwrpxcU1ilHH/QFtXaosK/V3rfILq+0frKmlaz6rCNmTbryPskCoD6q6RqYC8Ub1eGPbcU9IEEglAnbvKNTJr5hYEtIU4/gx3jDH67A+Iy2urcaCVT1I/zEvfD2zqEZtFTmqfwFN6VdouS3FbtzJuAKKQklHQDPoTic5XA3qkg2SdL8YiUs6/FKBICAIxIdAly5dVAGaSbcqDRrwzO8GyRwO3uAL3IP6+A72VGSmtuzRaOVWML6Nd2JN35iz6dVu3p4KK+u1zHTD/D/Ix3OPNb8ww84MOurV8eu5nRUen5KG53N6/q/m9HWcPo8DATX30H6jPKjpe7h/ZtrO5WstXPO9ZIbr6upKDeUzj+73gDkfN27cDYZ4dhwnJAikEAGsZkWyxK5VZCG9A4NgVkuHlXU3z6s+YIvrUxv2nEdSxd1V6wthznWXzfmsVHV1O8SKu0ZNzulEwOodjUWdPNwY/JnVzK6bW6lU1P8yoURtHYGWiR6T4er5Lauzr93lUxoqYOJB5vGlcdPxN8zdTWs4D8a5jC+NjpyTiUATF2uoTKu6a+Y9mQ2QsgUBQUAQiAMBSIm7du1KnTp1YqUfpWMeUhq+8Qs2e+hVNpS8nveG9+D93ccNLKCxne09EdnlGWyTJ9b0IQ00BHwNbYVRZ93W34wopKE8/7fqwxhuz7+/qqKvfg5owuqiThteROP6FITkOaJ/IZ00pIium7WDahrMjuj0OBeyOv2jR7U1RqXkeuHChVN0RdhzDrV2o+Rc3xMGXSMh56QjAIlcJEvsRsm1Voe9kRmEs1m9fdrrO4Nq6WAUIFGHkTeQnSou4kF1FoMT8fo+rjXhx8+o8o54tN2sOqPTy1kQSDUC5ncU72c06uR2Y1BbgB/fJY+WsKo6tpGAUf+l2k+/GlJI0EIBhasH4/S8PYrps/V1tIEZfVCkcbmJVdv0ONfbTUSSrqCTP8lCQDPhmilHPUEVdwsdz2S1Q8oVBAQBQSAOBKDujsNIwW/8Z1W8MxwaQvm0tproc2bYb5pcqOa2dt/YCb0KaWKfVsHiUJZVWsRjS1ufDvn0T0N6bCNdzd/0ge3clvmCBTdcoJwv2D3yZYa2rq9hC99lxfTNNi9daojXfbiR+/CbsW3obeYHOLsiCOyOHtKavtrEW+oMeeZtddKvxxRSWQkLD9hTk5ng9rWwMKhtbr6dtPD48eMXR1N4g35XNEkljSAQHwIY6Faq6NoSu9U9qLd8ubFOWXecOrhAqbsgnf7RcHGZGOS/brDEbmwhNHIQj/tDeSAibCSEIbnDfTPp8nW8Oazj5SwIpAsB4zuJa6vxgzfbOF4ipcMeruMHNfo4h82HC97dFexiuPxP8biEFVZ4Q3hlaS0bfLG27K7HJT7m320JfDTN7QxWKBeCQKIR0BstDQy6Q4zEJRplKU8QEATSgEC4b7RxLmDVNOQ1kjms7yH+jq+r6LQ3dtKLS6rpyw116nzamztVvF0+nV+fkQ7zBuMMXHtTspvPGOcZuhzMWeDyzZwH84uNLCyw4w/s5v+63HSfhUFP9xNoYfVr1VZjt/UeEPM9uEiDqzS4TAP9aXzAdVq30sbXFhJ0DHKox0KChxWxIhaa44ww4nF/BIchoTPeR1jfN7ZHrgWBbETAPH50H8zx5rA5XXd2Najp92OL6bZDG1fUER8p/+hOebwfjOgjtvuA8WUed3pc3v1NVXAFPFy5ui1yFgQSgkCDBN1hYNC1ijvb0E1IFVKIICAICALpQiDSNzoR7Tqodz69/auAa+O9uucrF8cIIz4WMrfVjh/QZer0mGfouf5JNltdIXu7e36V5TwkG+b/ouKun7qcU4KAlcqr9r9ovAfmHC7SoLZ7LRt3w6DEfayE/W3fAMP+3E/VNIwZ75Ed8+jBb6vomIGF9MCU1sF+QEKH+N+NLaE3ltfQIbw/Zd8ejfchORe19SBccpHlCBjHj7EriDdSpHRaPR3MOew9aDdppfzdvfWg1hHV1uFtAQcIC2jm7SJbqkK9Kei2mdup4+UsCCQSgeAe9AYL7qpszazXNVWDTGTdUpYgIAgIAslGINI3PhH1Y+ubnhvo+Tkk0oiPhcxtteIHjOXpeYJ5noE05rIQB69N4AOQXm/VQ3w2zP8bRZFosZAgkEQEMCAwgEOVaIh+3FpPNbzp9cI9S9iIBfauEJ03LuA/+bKPdqs9qtU8b8JeVYQ/Z6YdFhkf4EF33ju72E2DTzHp01/bSee/W87W2ner83TeozKCmXcw6rfMq6KjXtihGH1YiARFq4aTREikaEEgIQjYjS3zNo5I6Wrr/Uo9HWPwxIYPMPanY+zN/7k+rNq6lboYtqAYxxkY9mXbvTSH96ljrB/SJ1+dWTvNdrtJQgCSQgQBjYCVirvsQdfoyFkQEASyGIFI33jcj5dQhrZ5g7mBnp9jroD4aOvQbcX3X88HMGeBWroVr2Cez+h+6K2udnkgxDOTcV5ivpcpYfRXKIAA9DjLmahVq1CVTgEocQjA8qNx1Q3G3jCoiqET20Bw9QDXDufMLleMgY7XZ6ipQ1IOZnzB5no6bXghncMWpI3lYiUN0nao2ML3OQhMfzeD+i5+HLJhkOp+p/LMmgXZ+tvQYsexeWxhDGBsYQwYH2e4dBt4MQvG4UZ3ctEf9igNGYP4gN51aGtWS/erRTLs9zKunMPbgjOK1wb1V/NCgHHMY5GtyMKHaSrf+VytS8Zy6JP1LviJPE+9Qc7+PSn/3Onqpr+iimqvultdF9zyF3KwCzYhQSCTEJBxnElPI7PbEu4bb5wLxNOLSPPzaMvGfALzgRIDD1DD4QLeaWee0+v5DDymGefuei6fin5H269w6aIdy6G6j+FKlHuCQAIQwI+DUeU13IDCXvOF7AvRTHoPit6r8tKSGqXGbiwXeSA518y5lbq8HuyJ+sEyt1PCgkAqETCPLdSND5f5/Q6XrgsvYBm3ieixhrL0eMP1GGbWjdtFKpnBjoWwsGZm8LGQICQIJBuBoIq7lpqjQq3ijmvsUS+IbR8lsgkJAoKAIJAJCIT7xieqfca5gbFMu3hjGvP1tzbzgb275YWopWuvTXaumlPRb3PbkxmWZeJkoitlWyKgV77APGCFTKvQmtVkfs8um1hDtgnpPSjGvSpIpMvF9a3zKpRbNrh8slOXj1UdB+UKCQKZjIBxDKCd5rBuuzleh/VZp9NjDeHt1T7F8GPMHvn8jpDtJAgjHmM6HEUa85Hyhytb7gkCUSEQzs0aCtD3oypMEgkCgoAgkHkImL/l5nC8LTbODYxl2cUb0+jrcPOBOTyfMM8mEA7HM6A8cz/NYV13NpyFQc+Gp5SjbcTAMbtFQFcxCBHfqTjgssnYffDrUF3XLpoQhiTcOLHH9d7d8ok1Z5TLJ6i1m105oExdTzYPYPRDSBAIh4BxbCCdOWyXF+kwtoxrZBgrGEtQMYMU/L3VdeqMMOLNY8lcV6Qxb85v1zaJFwSajYBmwPMavRU4sBKs/Qnr+82uQDIKAoKAIJC7CFjNDdBbq/k44s3zAMSB9HwCc3EjIWw1n2hp8wdRcTe+FXKdcgTs1GF0/Hl7lNBtX1U22et63ZwKGtreeo8tBrF27/TTtoBVXl2euYN28eZ0EhYEshEBbCEJpw4Wrk/GcYQFsy4lgfVcuzGj4x/+rorgYQEr6VbbSHQ6c9128eZ0EhYE4kKgwUhciJs1FAhf6NVegqs146JUXHVJZkFAEBAEcgwB89wA327j917bsjHHm7fbARa7736i4rMZemHQs/np5UDbMahhBdJMWk2mfbEjZE8srEzDENXV+5WpLFiZsxr05r0okeox1y9hQSDbEcDYAHOOrRx6hRpjDWH4AIXNBnxow5F5HCHtAB6zP4QZs99t8YRYdTXXJWMxHOJyL9kIBPegG92soVLsQ6+uFRX3ZD8AKV8QEASyHgGruQHmHGDOp79eHvWcI9b5QKzpsxloUXHP5qeX5W3HYDar0KJLWk0G/pJPfKXRddrD31XSdrbwbkcoz4oi1WOXz6osiRMEsgUBMN/htpBEYs7t+nnnoa0IPtKNhDFr3Hqi72FEog26LhmLGhk5pw0BrcJuNAzHjXFoo3HiCz1tj0YqFgQEgexBQH/XdYsRhhcY80wc4R+2enSy4BnzgQvGFzfRWNI8gHlujjDmGWaxgp5/mNMHK8rSC5GgZ+mDy4VmYzBrVXRM4s3qMH9nNXZ2j672uE7qmU9njAq4Urvms4omaYGHnSpvpHqsJPC5gK/0QRCIVU3MjJidivwpwwqpQ5GDbplXGVRtg5s1eE0wr5MZ2yBj0YywhFOOgA2Dri25ByXsKW+YVCgICAKCQHYjYPze655g/v5bdoX8ORt+s5rrPzilFd3xdVWTeb15bo75w748z4BWnlU55vS6/mw9C4OerU8uR9ptpyaD+NJ8R9CKu9ESu16dM6rrwu3T5R/vVsarAI3xnlblNbthw2pbrg3oHHktpBsJQgDqYLDDMLqTW7lJg+eD77bUKzX1SFVgfGDRC+NqFOfft0c+IT/CNxxQRgf3KaDD+xWqYpD2wW+r6JN1dU2KRRuMFG7MG9PJtSCQFAQaGPQme9C1RJ33oAsJAoKAICAIxI6Aec4B7y+R5u+Ymxvdu9rNzRG/bHs99W0T6g4WRqMX8zxnYDt3UFsv9pZnXo7QmVP62jeQqz6Qj058mNXu/56+ZknN0SKAgYPVLU3hwl5fPbmcja+eMR/8HOrwRRNKafqwIpq1vJZgif1alpxr5lzXgzBW0uCTGUwELEtrarwnPm01JnJuOQhgDEJ9rHWhU40f3fNdtT4qdjeOVcSbxyviMA6hlvbfY9uE5N9Y4aXXl9WE+CdF+gN4lfzphTUhYxS1aC8LelwjrfHaKow4IUEgGQj4G4zEaYl5sI4gg974DQnekwtBQBAQBHIEAfP3XofNc3Nz2Nx9nU/HI/y3iSXk5LkD5uxGCj9/D52jm+cHuhzEQ9JuJXSA0Wgw+eAhXGF4EV1WNpwbuaT0tfZsrvo+Pn7h42c+jDwYroVBZxAymYxqsN1KnfS3fUubqJv/ekShUmf/z09309B2Y2h85/2bSK9RzhcssTOrrpw5ukh130p1Bjd0fPsi89pO4z1jG5Eeq3xWFqYzGWdpmyAQCwL4mA3hjxb8huLjaH7v719QSS8tqQk7FqCWZs6PPWCIB726tJreXlkXHEvRqqrF0g9JKwgkFAGt4m4yEoc96Gryoe8ntFIpTBAQBASB9CMQbi68qnwJPfTjP2ntruXUq9UAOnHgmZZzdfQiXDmQZus5x8lDi+is0cXBeboZAT1/N8fbhZGeefAQYRzS6nKW7/A28fyErbTZqC3blKOxQyV58Vdy0Vfw0YWPMXyMNRx78LVQBiOAFTNM4GEZGqtaZzdM6BGGmnk1CyNwvuyjCpXuqL6n0r/m/ZW+3vwpS+0aJRW6HKjP5vPCG9RpcUYY+UFmVVkNi46H+q2Z9L0fuQxzmxBG21G3kCCQawjoMWX13s/h9/6YAYVU623cDmIeCzr/ZU3GcuO4WbvLG9xOgvwYb1jFfndae3Xu29qlVM9kjOXa25XF/fHwSw/SEvNAKOBmja/hZk1IEBAEBIFcQ0B/063mBHM31PG20va0fMdCqvFW09IdP9CN8/7cZK4OTMKX46HWBU4qaJjHV3oC83I9FzdjahdvTqfDdul1/L3fVIbwHtk8z88EBr0tA/+CBr+Z52s4H7gs47G4mWVJtigQ0BNuSOkg8Qbw2OcKtZanGsLGYnD/qR9reB9se7r/0Ldp8fbvWM21UYED5Wh12rsObU3XsBs1nKFeO3d9nfpBCGfxHT8C3/PeWiMZ1WvvmV8VkI4YEqBNaDvqFhIEUo2AHkO6XnNYx9udzenNYePYNJYRGIvV1K3MpcYs7lmNBeS3H8uBcbNyZ4DZ0fkLWHX+319X0DWf7abz3y2naa/vVCppMsaMT0Cu04pAAwNuvwc99DuS1rZK5YKAICAIJAiBcHOCJ3l+3qWkCw1tDxlpgPw8M3hp2aMhc3XcCV9OYG5xZ8M8/k/jS1kQkBjr65jjRLLijrmIkfTcJBvnII0ckrFHqb0Gc34YH/fHWe1Czn+IoQz5yhrASOSlVm3BoDuod0FQtUSrmGtVE3OdOn5LVRmdOvRc822lNgspnFaNwYoYBiOk8vB9DivRN7L1RjANKEvfRzxY7BsOKGWGuyZ4b0aDWj1UW1ZweivSbbK6J3GCQLIQ0GPIvJ0jWlWsaPPbvd86Xo9Z9FPHGftsFWdM24b3t2vSaXfU+Om91Y3G4nS8TidnQSCdCASttJsk6EGGXdyspfPxSN2CgCCQRATsvsc6vm1hh5Da17C6O+iZxffRGyv+Q//X/zQ6ZcjvLecLSKfLefi7Knrup2o1T4ctnERYXweTjTmSFR+AePAJ7cJsdUX7sonSxaD/0QASnv51fOzNxw98mPXL7uS4aAgcGPawCyURARhgWMSq7FA9P2FwgWLQwShDDV2rmOuwuRmIB933TRWdNaaIhrXPCxpzwMoY9p9DnVavgAVU43erwbg3W3l8a0UNje+aH2LtEdYbYT36d2NLeOWvku+1C1b7c+XPtKGihnqU9VE/ElpVPpiAL3SbjHFyLQgkEwG867CODtUr47uOMNyHaK8Ddm2IJX+ksajHLOqyGgvNyW8s065cu75JvCCQdATqbVTcG/ygBxn4pDdEKhAEBAFBILUIRPqml9dsD2lQb96LDlq07Rul+o4zKFI5323xBLe4/nb2LoJ9GrMnpeZYX8d8/5iBhbZ8gHn+oduqGp1lf9LFoP/ZhFMFhw9oOIy3MH+NlkGHJfiNfNTw8Tkfl/Gxlg87KuAbODSV6Qs5N0UATAFWr2AdcWTHPKV6DkYbUnSonoO5gPsmWHiG1NvIaKM0SLgRj8FzyT6lIRYeteX2cOq0+/Ge9L7M4E9/baey1g7JH8qCWjtcPv1SvY1+/+4RNLj9aMIK4I6aX3hP/AIa1HYkXbfvo8E2aoZIt8nKwjTuCWUNAlk3jiOph8H+QjiKNj/GrB6b5vceYxEfR4xZkHE7CMoHIT+MO8J+RLT5jWWiDKtyES8kCFggkJqxrFXcTUbignvSZQ+6xaORKEEgagRSM46jbo4k1AgEvun283Pcxz9NDv6CnzDwdPq5cr2aTyMe8+rNLPyaMaItz/sjzw2QByXC+rrRlRriMUH4mF2zDu2Qp4KR/qB94D/s+IBIW1313CZSPZlyv1E/MbUt6svVRXP0i7JZX3K6mXxM4eP3fKDsT/kIx3SDgS83HOv5WsgCAa1Oe87scjr02W2EM/aeXrs/W2tnwxJQLYHkD24OHuLVLR0e3sFNRbwEhDNUUhDfttCh8hrLgtVFkFaNMTdBx4/gcsCM13HyObwvHWeEUe6Ti26lev63cNt8+mzD/9TZRz5avWuZWlgItKlUtUW36abJpSpvtg1aMz4tPJyV41i/0+ZnZxcfbTpjfrzXVmMRYxXqZq8vr1GGXDA+EYe0xrGA632756t7xrFsnT8wlsrZhRt+BxrHWNNyzX2RsCDQgEBKxrLfVoLeIK8QK+7yQgoC8SCQknEcTwNbal49J8B83PhN1/Nz3B/Ge9ALXcU0uO0oumzC7cqK+xOL7uDZdMDYW2BevYjnC9ZzA8wj7mbhHfPSIaTnJlB9N/IR2iNMSGKbgG6/HR8A97G4Z+yb1dzGpviMi+b1i7TTVdyCW/ioMrUEvrX+ysffTfHRBNtwojV8XMjHIzYZrFb51peXl1OrVq1ssrS8aKxYmdVxgQJeHAzqfmyl+cO1dXTikEKe7De+TsiHwaRpa5WXJ+0OWlXupfPe2UUseA/S2M5uZRAOTLuVGjoGm155M5erw5d8+htldTJYaMMFfmRu2v9x2lq1iX8wHNSZjWBoggp8Rd026tN6MLc1XcokujWZdeZ9+40PL7OaZm5NVo7jaN51c0eN4WjyY2ws217fxA86NE9KeMG60N24PgvJN5jrge3cwXGr82OfeVeDT1Or/BhLfn8ddSzuGcyP9urxaWy7XKcWARnLoXjXXHU3UUUV5f/1dHJ27Ri8Wf/+l1Q/62Ny7jmC8qcfGYyXC0EgExCQcZwJTyH72wD3qlARN/opx/cfC/bYKmokeFp6ZvG99Mryx4PRPEOgp4+aSyt2+Mk8N8D3Hgz4fxZCkTmU9DwexmMXbG7U3AMfgS2sRn4hNGfTkHleYQwbr5HTHG5aWupjoh3LjTO01LdR13g1X5TqgOEMR7u41xzayZmW8jEgTOZavrfLcOwOk7bF3sKg0VbajSCAv4ZKOixBf7GxjqY8t11JwH08QEEO8hJU1zfsqmf1cy9P3F3swsEZVI+f1LNRjRdqtmDg7ay0Qx0XgwxkHsQIe/lHBP4aoY5jJISnDjyD89Zz/V35llcZurh1/mV05Zyz6dz3j6aHf/wXlynMuRG3LLvOunGMd9nuXddbLsI9g2jzY2xArWwabwvBR1FbVr9tXiXtrguMp2A9PHSgamYcX7hGnCml2tbyxA/VKusLSx4OjqX31r6mxn2wTL7A74CQIBAlAqkZy1qFXVTco3wskkwQiAmB1IzjmJrU8hJjXmwkhDF3GNExsFXUOCeYzt5WEK/n2TofZtRD243h73jj3HpK35PYBbLbcm4AwdsIVkFvTB0oCWHztjrcwdwCfIRx3oH4SGRObwwbr1GOORyp7Ey6nwkMOp6deQ4IjEbzEWqtALHRERh+MOeboksuqcIhoFVTzGl0/OhOeXT9pDKCz2MnT+qhEv/Nlrn06Ya3FAO/ZJtXqcUb1Vqun1RKmkkH730vq8RANSac6o25fh12MYM9vvP+Sh0HEnOjes64zvvRnQuuIkjY1+xeTtMGn8M/Qp6gCry2UKnLkrMgkGwE8MGwUz03q5lbtSWW/BijGF9YsYZl9TJeJLuOx96S7U3HpJWqGeKwncW4JQVheFYAra1YocbShK6TlWcGjHuMtemz9lVnhPF7ICQIZAwCDX7Qg1bbdcPyGxZqRcVdIyJnQUAQyEIE9Bzc/C2GkitU0//BHo+MW0URtpp7WM2twbCDLOcGO+qD1tqt1MzDqb5nIcxJb7J5oSPpFRoq2MHXmLm15gOSbOMsjl3cK6n6/Xxu6o+LI00EFfk3+FjDRzc+ruUDb9EwPrbyEQ1Br5013EXF3QxWtOq0YBywSodJ+c3zLqJ7Dn6Dlu1oa2lkSqvHw08yGAit/vILS9I7sLRdk53qjb5vPKNu/KBogmEL7J35YtMHKgqrgJdOuI16lfVn6flxak+NVoHXeeQcQCBaFZwMxCtrxjFWq42ru+ZwOGw/WjeLJnY7XK1k63S13nr6fOM7NLlno3qucezy8KRnj22jGG4rI45mVTO0x+xZAXXho6HTvrzsYfrxl6/p3DFXqQWwm+ZdyD/kjT/lGHPYxza200Tua+PY1G2Wc/IRkLHciLHf66Pav2K6wBZirzufHCXYSRcg7/yF5Hl6FjkH/T975wEvV1H2/19yXegAAEAASURBVGd3b0khIRAgQOg1QCihd0EREUUEK0r1FcuLBfUVQf3rx/KKiiIWbAgCir4WqiJKkV4EQk0IIUBCS0ggnbR7t/yf3+zO3tm55+ye7Wf3/iafyTkzZ+p378yZOfPMM1tL3yc+YL15JYFYEGA7jsXPEPtC2DH4+Q9+LvBdPEUXsVan1+l2z0nFumCL2i0v/EVO2fXTRT/3xh9blxsbQFu7u1UO6SB8JdF3N79uv4/altu5gn62/gjYI47x3tfVQrO7tZ/Q+0PVRpmcazDZQu0f1c5W+2e1i9UeqDbq5FyD0gQRQMOKIo5rJxqYIP91zqUyZeJeZr/37/Rc8qHhej4HuK14/J6b9Jg/ACv+8t7r8uK4aMww333gDRWLHy56Yx5W+M8Vy0FQTByumfNb2XTsFqrIaprmOyQCj+fohGhIoFUEbJux+flu6+9f8Xc6tnecnKyr1Jc+eYHc+Pz/mesp6h7bu56+DPN/x37bRVvDvrNypyW4ZcB9pbDv3/lM+eYhv5KNRk+Sp5c8XjIgQLnR5q6ec1nJ5JztzP9F6W4ZgbTTx3vnoIs9Zo3noLfs52BGJEAC0Qj4703fbVOxY3D3Qzme2XfxuP4J0psqnfphK9pBm73ZSJfadHC1ebgLX/AvNzbAtjp3HIHwMNC+jsmea+COsq3PjTOS7tu5pHFFAfRcvd6n1j//vJrf4YPVBGbY6ATQ0Kw4LvaiQ2QW5x+iUcFfvwQNS+zFFc/KvpsebvytGLwfyPpDPP4Du+TT+updb2gHkRfHfVrPWv/onmPkrL3HyE6quCooHzdNK9KDjwPIfys9uxH7z7+47/flgofPKa6iW5H23SbuLcdvf4pABP6iR74qC1e/YvaxQ1S+Ul5uvrwngVYTwMsSf6df3P8CM/nF3m+cVQq3+/frt93NxuZfyrbt+eW2/ve+cotKwdwjn572DdPe/XBw27A/ffTr8vIb80zbOXmXT8mCVS8W25qNZ9ucG9Ytpw3HKwk0nYArvs496E3HzQxIgATqJxA0voXepbD3KMbAQWaTMZubLWfPLZsl35vzP8Wxsk3r1VUvyUWP/r9h/kFjYjsG8PMJ8vfHIghTaR7hpzsS3e2coFvej+oN5MyGZM3yT7DQCmUTA3kn/28XATTOA1TLons+M1bnghotyojJMc4hh0EjDNLMDn8YTMIhxo7J+V2qkMoa+3zbCUk9g/ElVfK2eckqnA2HK77yQazeFel5ZumTAnFbiLSftuvZ8uCCO4xIOyYyMCdN+aQ529GdvCM+xXENHv4XcwJoe3ur2Ph+hQ9hKC5Wzv02GdR2K7XJ2Uue0A9W8w2BSmERDm0NbcdvaxahbXNuWLYzS4fXlhKwE/RUShLY8+GY4p50G8Z5xlsSIAESaAeBsPFtufEqxuB4L7smKUkzFn544d3Dxso2rS3HbSfPLp1pxsr2vR72rq40NnDzxn3QWKTcPMKPPxLdpXIO7SEAjevYj+5b+ENV8Atqv6E2DmXVYoxM44us+G5LBZ0JvsY9vfgxWaj7Wk6ZOipQrAX+g7of8MnXBgQaJN3JOYZNp+rz5etWCMR2f6xK3srtXy0n0hMm0v7rJ75r9qHb/ekovxUBKpeXrSevJNBuAsPFzoK/t7ptNS/2Htwm0ebwfN6KZ2TW4kcrtt9XVy0w4cABbcdta5YNtpGcuOMZ5mMY0rRhfbF3G55XEmgmgZydfPvi7cjUirjbMM0sCNMmARIggQgEyo1vg96jGINDejSl/3abuI8cOvlt5or7iaM3MVtQw8Tf7fZPW6ywMXF+HDE6cGxfTmTdHYsgD99t8+U1TyB4RNdaOqdpdt9Re7naB9XC7K8W/v+rdiO1/6MWq+kIRxNjAlb89kv7/1BuVqUTH97lLFUotZ7uZV3riMePMpok8UVt6ka98h3VIHml8xyT94NUfP6Ch7+i4hMDYkVkUW10Pu7EJJPNqDtlRHKCsNi4VqTdigTd/tLfzFdCP44N7/vTTQLdQAAvRGhx/a62SbfNYXIOf7TJ9UdtaNrG5U/9QLeIXBAY9iANe8HDPyxpQ7btoK1BhA4r55ico81BUiWr/6yxYa2bVxJoCQE7+Q6coBeGQzZMSwrETEiABEigPIEwkfWg96gdg//u2DtkdM/YYsLr0vmjUSultcEoTLmGTFAe+XFEr44NxpljmCmyPsSrkXdxmKCfohX6glood7MGGtkhn/FxtW9R+6Lar6jlBF0hxN1gkO+K3x64eZ8cukV/sdirB9fK72b9VG6a+yd5+7Yf0BX3j6n4/PrF51iZw+Dfrm5bEVl3H86kMZPl7L2/LXOWzZApG+5pxOp9kR4kaONCpN0VAQ4SAXLDFwvDGxLoMgJ3vvwPowHebXPQAH/nyzcZDfB2e0q+2jmZNilX0j7RfrFm7hu3raG9wSxes9BMzm1btnFsWOvmlQRaQqCgJK4ozu5mWjxmrR51OG6CvCcBEiCB+glUGq/+6onz5Y6X/q7v73fKx/c4z6xsz3h9ulkttzqZ7D5zjLmvffbyYYWy7+TS9//QGNqPQJF1n0jj3XEQGz9Uq5WXfSytH/wOKnjdo9etSh/TFWcC7iq3FWPBajc0PZ9602Gmg1ibWWOucMMfq+OXP3mhfPq244uT8yFN64Ni985gj8yHp5xl3F+956MqivuKEenxtbYPxc1r7rWi61YMv1L4OPNl2UigFgL4SFVOAzyOJsRetcMmHyNn7v4l08bQPr9675nyw+nnmSvcaIvQ7YCwMLatoS1e9uQPjGb5FQPL5LnlT8t/FtxeUlQbFv0BDQm0kkA5EffipF1X0PExmIYESIAE2k2g0ngV7+yb510tGE/fOu9aPd98nb6f7zH7zLFoBX+7nxzvbUzUIf7uGvtOXqhp4d6KxSMcxOXtyTBuHNzbsb31993Wn9faCJRqSaktjXpjPaMJXKP2XC+h76r7BLU7q91X7fVqJ6ttlumY85NdANgL4jYK3+2GrXQ/XHx8SJzcf4YGaye8SNd/7ublhv3S3acNU16BsO555IvXLDLnly9SBVToHKxYuo2LvTTfPuQSse4D9XgIaGtH54N9sBDJwddAN65bHtxjAIbw2MMTJbwfv9vd+nU0Dn1DLZg7ph37bcZ3V6q839Z9d1j8XC5rXuBBf/vrMmtlVM+Qvk7bxvy0bHv95v2f1jNVVxbb2kB2nfSnRhWDB7Wzj079omyz/s6R+49iYrypiQDb8hC2zKznZfCSv0pi8ibS/4XThx7oXW71Wln31Z8Yv/7vf0ESPaWD2JLAdJBAiwmwHbcYeIyyC3qPYnyLU4hcRcf+2Nivgn1vY0Hs8pk/Gjb29d/fa9KrZFRqjGT0e2Wj5hl+mUaiO2pbjoOIO/aX/0Xt29U+VPixMCGfova9Bfd+ev1T4Z6XAgE02v/MH2zIHhCkBU3o7jFlViQG2QU9i3JEGdJ9VNOds2ymfEjFXivtf/nD07+QHSfsJp/b+3/NftjVg6vk7lf+JYdvcUwxrt0jY9OC+Cw6qdN3/Zx897DLC3SCtVrbh5h/umL48MeHBPjTkECzCZRrb1H+Butp+1gbnLrRPiUa4POr2Tl58vWHTB+wxXrbmGPWbBvzedh9aV876Kfmkf3C/sRrD5b0IWdOPUemedrmUXZ8HAvqa6LU3S8L3SQQmYDdX15QCFcSz92XjnCcoJfgoYMESKA9BMLGqzgi2N0+5o+N/dLa9/Z2+oHcHSuvLexPD3p/bz9h14bNM/zy0F2eQBxE3G/QImIyfpPaDQsW9/D7u1qYX6j9vLnjf4YAVsvue2VQzr1jpTnGbI2OJ3CcGdzwx/OoBit3GDDjqAVXJOZ7D35BZi99wojM/P25q8zxC764zIem/LfxR1ykYQfqyBv3Nt2nFj9iioO9NEHG7n+B9vcbnvu9PK+isQO6mnfGTUepsrmrS+LaPTJICyK2+GrYk+yVnz/2LblUxWvv03OcYdwVfuPh/eeK4UcJ70WnkwRqIhDW3mwbqiT6XU/bt3mf8o8jimLrEEnHnvKHnD7gtdWvmrpVaq8WAD5r2bbu9iHn3H2q+UBn62Tz9/saW3e3/7Bp80oCDSNQmKAnegNWxzEht99nB7kPvWHMmRAJkEDdBILGqwtXv1IcA0MsfUIfplD5o46DMrTj7P994LPF9//X7v24npi0ZNj7G1tJx/VN1PH0QEPmGUHloV95AnFYQUcJ56r1RdzLl3yEP4W4yZUz1gxT1YRpOfzdM8sroULDx2qWe/QCxMZP1xXpSWPzuwq+ccivzF7vy5/6kfliZ49Vwle4XSZOk5mLpxtxcfdcZkyQbbr5Y5vye8VxPrmbF/a8QNszJt5n7fW1Yp4o9y+OvkF+8+T3i/vMEdem9VFdnRvfN6EkPCYAtiNz7ysx4HMSaBWBoPaGvA/Y7EjZbv0p5lQCW5agv+Fq2r4fH3lDtD2j/9BmYXafuJ9pM/C37RJXxIUYXVh7xWTa/Qg2a8ljxfi2/EgH6dp+Iazufjgbn1cSaCSBXEFJnLir5YUMjPQGVtYHBgV71e1cvZH5My0SIAESqIWA/y7H+/ez074lqUSqZAyMPeiQfsVHb/s+R352nzkUt87Qd789VQULXBjnX/jIl0vCY1w/aeym8rW7l6t/qallnlGaAl1RCMRhBR3lnKD2aLUnqz3Vs+qkCSKAow2CTJh/UFjr54qy2j3dL6x81uzzPknPIsdeVLix1xvPYay4jBWrsW6bJq42XXQGmNxjP/m5+19o9pxjbwv2xMAN//X7NzR5IC+b53PLnpL/2fd7ct+CW4pxd9xgqvzn1TtkBxW9eXHlcyVlnL7oXsnqHtsrn/qJEcuHOC0NCcSNgG0Xtly2zT23fFbJ3zO2lgT9DYe1cev/00e/btIJiu/njWPVYFz/CaMmmkl7ufaKyfk/5/2lmM/Ju3yq2DfYeuHq9wtuPuXCuc94TwINIVBOxB0Z2Im7DdeQTJkICZAACdROAGMAvMvdsTG2jm42dktZqcpYXX+8X/HePm//H5WMs+GG/xVP/bg4OUeJ7Pjdfy9bfzum8Esf5u+Ho7t2AnGYoB+nxX9R7T/V/kztjx17kd7ThBDYbkKwAESYf0gyxtuKskJkHCvnEFfFypkrrgo3/K32ZisuY0XOrdvNx6YLP7tXfOtxO5j9L398xz3mutW47WX14Eoj1v63YaL0+TyP2OKd8qfZvxYb9x16VESQSK0t49FbnygQ0UcYis26vwjv40DAbRfl2lyY6HdYG7f+C1XBoqu51W0Dbt5gYdsv/O2WkS3X285gumrWxcU257ZX+MO8svKFknxs32AeFv7z+wU/fxvWD2f9eSWBhhGwK+hh+8uLE3SKuDeMORMiARKomQBWzoPGunZssF7f+tKfHCX7bnq49Cb75Ny7TxcsbO258QEl4+ydNtjd6FiCWLxr3Pd/kL8dU7jPcB/m74eju3YCcZig/1CLf5na9dRiJX0Dx+aXdtSDppQA9qGeOnX0MDE8iOXBv9o96BCJgQhMXqxlshFLdcVjkDvc0JK+6dgtZNeJexuxdBzxAJFzKz7jTgRwb9O1pcck/azb3l08Vu3llfOkL9Uv6GSwIv6tQ34tP3/L9cWVOJsnvuadNOUTJhnsjy0nKmvLOGXiXqYerhiuLQevJNAuAnjhuu2iUpuDiLj7N1yu7Z8ydZS8umqBaZOoH9qPG9/PG2HslhEodEPbwwkJ79/5TDyS9+70EZVG+XFxvxqOW/vUbSfIzhvuYT582a/utp2ib0B9rPH7haD8EdYPZ+PzSgINJVDcgx78cds9aq2h+TIxEiABEqiBQLmxLrSxbzx6U/mmbkH9wj7nm3f3xW+5Tu7XcTbG1Zc+eUHxeNSP/evtqtdpoGTsgeLY9787Jhnyf1XnE6P0/VxqaplnlKZAVxQCcZigY5PzT9SujlJghskTwD7Ugyf3ynePGCe7bdQjo3W8gSvc8HePRKjEDB2AFYnZTSfeMHbg7ce14qqn7/Y5E+cPT/9cIHJuxWfciQTubboQZbci7V/a/4dG9Ab5Tl5va/3aVyrWGyZKDw3vEGnfaPSkSGXEpN6W168H3STQLgJue0O7mDQmr+ehUpuz5Q1r++cfsZ5p+1c89cMSETa3Dfh5o02i/fbpl3doa/W3jMx4fbrZYoJyPvwqpFEG5Zz9f2DaNdr3+FH4npo3Nh/0Ibat+/1CUP5I2w9n0+SVBBpJoHgOek/wBF0K2t1zA8HbxxpZFqZFAiRAAlEIBI0NsC3uw7ucNUz0HeNn+MMsG1gi9+gpSNA3M6D/sCXNH5Pj/Q8x+WD/xTqm6GvIPCNKPRmmlEDIW6o0UJNd/9L091X7fJPz6brkodTmgM17SxTCYXWtlqOK/GMcIIYKEVlrIPqKlTE7gd9m/I6STCTl8/t8xwTBanlQvvDzj1nCIB/+WE3DvhpXmQXyhJg69qVDXPbBBXeYM82RCTTB//WZ38h3Dr1Mpmy4p/hltGW1orIQ3bH39hmvJBAHAn57Q5kq/T275UZ8v+2/vmaxHjd4fsmxK4iDtuqaoLzRfq0YHVbDYayIPCbPJ+kRiafs+mnjD6kZiLjDbcXj8MC2NYSFhQnqF8Lyhz8NCTSVgN1bbkXZ/cysvw3nP6ebBEiABFpMAGMDaFXHGBwLT8vWLi7Ziuq+s+34ee9NDjHh3KLeN/8Wedf2Hw4dk4cdPeyPNWqdZ7hl4X1lAnGYoN+oxbxA7a5qMSP0N3/doH40IQT8lXLfHRIt0BurWzBWDNVOnPGl7nRHozvCVFK9hjRselhpwzFLqWT+aBsciQaD51bLu/Eo/GfFZaEhHqL0x2mHYkXp8eyKmRcZUR6I5Ngy2vgQlYVGeITHkW1YrcckwV3Zt2F5JYF2ErDtA2Xw25wtlyv67f8Nu20d7Wvu8pnynwW326jmirb7mWnfKPFz26Z9gLTD2qKrhR3hUSaka9uk9YPGd7+t+WW2+bl1h19YOBueVxJoCAE78bYTcS/RRF9P/t3GY9Y8MnSSAAm0gwDe19h+Ns47sQhl8TWvw8+On/ff9E3mXQ0/mKGxhC6Q6T/XWHfYe9kdayCe73bT4n3jCMRhgn5JoTpfC6gW5oEBB5YGhKRXwwigkVpxF+xxgbgMVtfQGRyy+dFy3HYfMmcbY0AP0Rt83cNkGXGwCmY1ToY9dwsaJLqD51Zc9rTdzjZHT13w8DlFsd15K+aYyb0tIyYQCI8VPEzO4Y8VPkzObZncPHlPAnEj4LY59+8Zk94of8P4+OW3h2NVkSI0q6PtNqItQjP8y2/MK7b1O1++Sfe5jTLtLmo548ad5RlhBNIZU+HiXnO/+oWJe1EU3n9ONwmQAAm0kADGBth+ZsfgGDMft/3J8iGVUqs0ft5F9TDNWTaz5B2NokcdE7SwmswqgEAcJuhx2AcfgGZke1kxVIi8TF+o2tZV7Dyl/7518K9N44aGdChhg+ZIiLnCjQnxtE0OkmdVgyTcOGsZxhWVhbi7u1pWSax3w/6NVWz3nBKxXStKa8toz1hGXljBg+g9xG+DxGsRhoYE4kgg7O8Z/lGMHx9f3vEidqVM3LYIETgr1YL0K7VFKGd04x86+Wg5YstjTdHY1qL8QgzTbgI5uzIesoJu96AL96C3+6di/iRAAkoA73F/KyikQ2F80XeMxaH0zY6RS7ebDZojiB/Ro4jDxgT++Nxkwv/aRiAOE3S38qPUsdb14H37CFhxFyv6esy27zOaIWcteUygKXLS2LxyK5Rw4apX5OYXrhFMlrE/HM9x7jm0tsNA7MYXlUXHEyamjhW5tenV8olb3ql7HoZ2PQyJ6eTF1m0ZTSb6nzv5d+/tc15JIM4Eyv09Rym3Gx/3tu26cQ/Y7EgjleJOzjHB/qiK0X3p7lNNW7Xh0d4glYLnaMMwQW2Zbc0S4zXWBKyIe6iSuMKQyE7kY10ZFo4ESKBTCWD8676vfbetV9B7HO9ghMc7e7wn+o6x+ApV+oZ3tvtetltLg8YEQe90mz+v7SMQh9VriLD/P7U4nO8NtduphfmW2v8yd/yvrQSsGM2mY7c05YDYLDRFfunu0+SkGw8xV1dz5L2v3GKef3Hf7xePS0NEK7ZuK4OOx4rlulrerUbn/tRo+eL+FxiN72FaoW1avJIACQwnYNuufYK942iXzy0vPTnhUVXWiGMOv3fYlSXtDcoa0Ubxop8waqJNZlhbLj7gDQnEmcBgeRH3oui7ncjHuS4sGwmQQEcSsNtA3TE0VsnhH2T89zjexRg/453tn7wCN/zdybmbpp+WfeaPz60/r+0jEIcV9K9o9U9Te45aux8dRGaoPVvtpXDQtI+AFX1dqIrX8NVuuorIQOTdrqhB7LVEc+S6JfLbGT8wxzFBE/vDC+6SnSfuWdQA79bEF8vFM1dcNkyrpJsG70mABIIJ2LaLpziJAcoeIfbut1+IvJ2nk/E9Nz5QoJzRmkoa2204XkmgEwhUFnHPD4m4B70Tfk2WkQQ6jwDG0L7Iurt1LEjM3H2Po8bQ4p5PB+LqpWNx+y6fplvYgibpflqWoBWLt25e208gDivopyqGj6m9Sm3+83aey+N6mZK/rfr/czUGPkVdVHVMRigSwEQZnQDE0CHqii9s+GoHUXU7ObeB4b5mzm9Nh/CO7T5gRNxnL3lCNh27hfzqrTcarevu0Us2XtDV7VSQn2vcZ64/70mg0wigbbkGbmhjd40fptwzxHXD4962XcTDES3YlhLWfq/W9tuX6pdLn7xAfjj9PPnqvWfKp247QXbecI9hGtut2LtbHt6TQOwJFJTESaU96FxBj/1PyQKSQCcSwJi2nJi5P8b13+OoM8bj+XSCx+J4l/vpIF5QWjY9ewoL3DTxIBCHCTo2Mj8bgANly5/HFfCwjNd++uzjap8oE4aPKhCAqA3EXq96+ueyz6RDzbnkU3QVHKaSiMwfnv6FEXGH9neYJeteM2LwF07/slFSgXSjivaYBPgfCXQZgTARNyg4vPKpnxS3joSJvfnxEQdxEd62LbRddwvJpDHoaiu33zG968nDr96tkiyDRvHjfpMOl1teuNZobMdWFFfsvct+Flan2wnYiXfIBH1IxH2w20mwfiRAAm0iUGkM7RYLE3H3PY7tntDODlNNOggflBbe6XZbadCkHvFo2kOgdHmyPWV4SrM9TO0LXvbvVfejnl8l53oaACvxZ6r9aqXAfB5MACvnmERbTY8LVr1oRGNxriJMJRGZpxY/In995jdmIA9N0VfO/LE8u3SmfH7v75QRr/2RaoAv1fAeXDr6kkBnE8BX7DARN0x+j976RLn+2StLNKa7bcOPD9H1t239Hnlo4V0louvXPnu5oO3iHHT3pINK7dfV/Lpi3VJZrltWcCoCLIwr9t7ZvwRLP+IIFJS/JcKUxOk56DAUcR9xfxmsMAm0jECld7BbELzv5y6fLVuN275k+xnCVJOOTbPStlIbjtf2E4jDCvo3FcPP1H5JLcpzolrsRf+KWjyrxlysgW9Ue2uESP0aZrxjx0WI09FB0NBd47vtM3xFc0VwoIn9v287Xv7fvR+Tlaod0hWbtXGstmcM3nHMgyvyjjCVxWsvCxTJsenzSgIhBDquHZcTccM2EWwLQXuBQTuCSLr7ZduPX65toe1+8/5PFdGhzZdrv/g4Zw1E5merfomP3nyMEXd3xd5xUoMb1sbhlQTqIND0tpyLKuLOY9bq+BkZdYQTaHo77mS+eAdDnBxjZtfA/V9TvzjsvYr3/SUzvm/G4Nh2hvcwxuLQ1h6WTtAWNHe8jzRd444vXH/et5dAHCbo1yuC49QepXaVWkzKd1ELv1vURjUf1IB7qz0vYgSEW+7YlyPG68hgvkgsxGDDxGdRQV90JitZmbH4Ybnkye8PE7dxxV6veOoiDZk1jKxWyPVHbSgbjNrI+PnpGk/9z4a1bl5JICKBjmzHldqBbS9gENQ23Pg2rOvnspu3Yo5x/vTRr5stK764nNt+3Rc1jmFD2C/t/0Mj7u6KvcPfDevmx3sSqJFA89tyBRH34t50G67GijAaCYxgAs1vxx0MF5NjvD8hLYd3rz2hCCeoQPu6uwUU20Vh8G7HuHrm4ulyzyv/MmNxHGNc6V2OE5XsSUvlxvsdjLOri176GaV9Vb1bs35rHdlvqXF/XEgj6jnq52v4C508sYLelZN0fDkLE6nF3hNXfNbyCBOdWbR6vkBEBtqeXbFZrJxf8PA5xXPPkY7VCrl87ZLipD0sXRvW5s8rCUQk0JHtuFI7WLr29WL1txm/Y/He3rjxbVjXz4bD1bathdp2//3S3wLF3sPE1ikO55LkfZMJNL8t24k396A3+adk8iOYQPPbcYfD/f2sn5ltae6JKQOZdboF9C753oP/I1N0j/m+mx4uawaxZhksyg7puKtmXSwfmvLJYWNx+GNL2tNLHpO1mTWh2+U6HGPXFz8OK+iNgLyPJrKJ2kfUQkYTFhumP1O4x1nrvlmnHiscu9IP0C1uXyTW1itIfBbPILoaJgYLkZrFaxbJKTceLn9/7g+SVTHYWdoJQNszOgxrrMi7FYOF2Hs5kRxqkLTkeK2SQMe140pi5nabCDjg3PKvHYQdQEMm3z6HROQqtS2Iu7lpumLvf559SVFbe5jYOsXhhtjzrqkEmtqWIUUmhQl6URmcX53CxJ170H0wdJNAZAJNbceRSxHTgHj/77LhXnLWbe8ubh3DySk4QWXWksfNCUjfPuQS+cI+58t/7f4/RvN6mCg73tmvrXlVvnbvx0tOXoE/Jvz/nPuXIoWw8X4xAG9iR6BdE/SlSmJJRBsF2m0aaHe1UG1o7cN6D4VxcJeeXaQeI82Eib8Gic9CdDVIdMZqerzrlX/IgP6bu+IZSaoYLMR0ztn/ByXiOq6m59N2O1t23GCqitdeXDZdisyOtL/KkVlfK+KG9uSKuMHtakw/cYcz5Jx9L5AZr08vambH1pR5qjBmX9WsjnPLEb8vNUpufuEaE9dP07ZDd+sJqFux94WrXzHi6xBjp9j6yPx7HDG1zujWK0zSYUKVxPXmn9uV9ryL/5MACZBAQwjY97+7dQwnp8CcvMunzAlI9iQWiLjb8L5IPN7/eGe/MbBcBrK6+u6cvAL/G+f+UVcqh3TKIP2g8T78aeJJoFRLQevKeFoVWV1RRVg36B3qeEzt2a5nmfvx+my5Ghk/HrfdZdDgn1GFT77BAN8Vs8FzfOGD1shxfRPMuck2DlbhVmpnMK5vffP1723bvFc+tse55lgoaJHGGcvWICyOZoKYDZRNYT+rNVgBdCfjvtuG47V9BFS0uV19Q72V7ph2jHbmrk6jHUDyxLYVPPe3pgAOwmC/GkTX8dXdGoi6pxI9Mr5/gvVSaZeF8psZF5RIt+Ch3+7ZBovIuu6GbTn/k+bWrpN1X8ZOOJH+731eglbRs/NekYGfXCWJiROk/ysfy0fk/yQQAwJsxzH4ERpYBP/9D/f0RfeWnMSy28R9BKvpOEY1aIz99JIn5LDJR3vjiEHdp36z/PjR/zestP57f1gAerSEQNS23K496LVMus9Vcr9Uu6wlBLsoEzR8iKzbY9Ns1TDQt6Ll7oQZkwZojXx+6Sw5Ztv3qVbpLVVE9iUjLrP9BruaCf2uE/c2e9cxsLfiOtg3A4VVmCg8vfixgnKp0sk48nbzCnLb8vFKAt1MwJ2co55+u8BznKaAdor2ZtsWRNov1Uk3PqxBNG7ZwJKSNoejDTHJx4ex5/VD238W3F6CMajd+3mXRKCDBLqBgLsq3jP0wbikan19xplbN1DiTQcJkAAJNJKA//6HGye2QBTdGrt9DSLrEIkPGmMPhc7Hwvt9bO84M25w0wp679t8eI0ngXZN0Guh8WWN9Ge1USfoR9SSSTfGQcO3IuvoACDmgtU3TM7hH7RYOmnMZHNuubsq/s7tPmTE1MHo9N0+J9utP8XERRoQ10HaELNB2lZkNijtbmTMOpFAMwgEtUPocsB2ERiIxt364vWBbc5qYYfYe9R234w6ME0SiAUBO0FX8fbQ91J/QcR9YDAWRWYhSIAEupNA0Ao63veupCs0t0Nb+xf3/X7kMXYt4/3uJNz5teokMVYocdtT7fNNwt4xorG11t/vEMqJtWZzWdUoebcZ2GP/OjRE2wl9MpEcJrZeTdq1lp/xWkcgqghO60oUOaeuaseV2qFLJaw9+/7p7KCu1hcmIm4CvO9KAmzL+Z81u3CxDHzvUpHRo2TU/34m8LfOrVwl676e//jV/4MvSiLZSUOkwCrRs0sIsB13yQ+p1YDCSoyvISFnx9eQct1n0qHDTkNCraGPBtra3VV3/73u0+GY3CcSH3fUttwuJXHxITWCSuI2blQ7TKwVDX/6wnvMXhh8zbPHNHz3wc8bfwzw7T5Ziy9q2jY8ryRAAuUJRGmHbgph7dn35+Tcpcb7EUPArqD3hoi3A0R/XsTdMBnkKvqI+dtgRUmgRQQwccbkHFtO3fE13Bh3n7br2ZLUf9ZANB0i7r4ou/9et+HtlWNyS6Jzr0N/BZ1bB5a8wQTQ8PFlz92/giyGjmnoNSvoDc6WyZEACTgEorRDJ3hDbjF4cI3vdp/xngQ6ikA6/7ed6C0jPYJj1uyiOfehd9TPy8KSQCcQwMS53Ph607FbCBQwj0qNMcpcsUUN20jDJuT+O9p3dwITljGYQCftQQ+uAX2bQqDSsWzz9Ig1uwe9KQVgoiRAAkb8LQhDM45LgdgdtMb7YndheiqCykU/EogrgeLZ5oWzzoPKqaKHIn06gV83KDndh27n6kFh6UcCJEACtRCoNL7G6UiwMJCkM/1SQEZ8ZwdA6SIvrqB30Y/ZyKpgz3mQgQI4mCtnXiSzlz7BlfQgSPQjgQYRqNQOG5SNtuNwsTuI42GQQEMCHU3AiriHaXC3lStocscknYYESIAEGk2gmvd6uZXzMFF5vrMb/Yu1J71OmqDfrYjWtAdT5+Tqi7f47ig1QRworMDeF9fAfeKOZ5gjnf57r6+ZfTF2L3ot+bhp854EuoGA3w58dzV1LNcO7fGIfnp+fr7bD2/dlcTuwgYJNj6vJBB7AnaCXk7EXSuRwAo6zACPWsuD4P8kQAKNIlDLez0ob76zg6h0l1+7RNyhaTmqWVEIeGzUCCM1XKPEXdDwIdbqH8+EyTn8YfCF7sJHvlyigZKisCP1L4/1BoFGtT9LM6wd2tMUfLG3evOvJHZny8UrCXQkgcIEPVFOSRwqVlAUBxF3GhIgARJoJIFq3+vl8uY7uxydzn/Wrgk6zjL3lRL6NLF8izBlVK76UUauG1/lsH8UmiCtcjdoiIQbE+1pmxwcqmQiiBoG/3trnP02Pbz4+NVVL8uKdUvlmWUzjIb3RuRTTJw3JNDBBBrd/iyKoHYYtCetEflD7M49g9WWwW5rsW5eSaATCeQKSuKkzB50Uy97FjpF3DvxZ2aZSSDWBPD+nrd8tmw1bnv57mGXF8uK8fVzy56SbdbfKfIxqHxnF/F15U27JuhHdiXNNlaqkriLO9GOWkykmclmBArhLp/5IxPtW4f82pyNbifnNi2r4b2WfGwavJJApxJoRvuzLJC2a4LEzevN34rduR/4kCe2tVhx+qB83XLxngRiTaAo4l7anvwyQ8TdrB5wBd1HQzcJkECdBPAevWTG9+XZpTNll4nTZINRG5lto7MWPyo7bjC1ZNJeLiu+s8vR6Y5n5d9Uzavjnc1LeuSm3AxxF+wxh7b2d21/sjy7bKaB24x8Ru6vxpp3C4F2t4t68scEP2hbS5g4fbf8ZqzHCCJgJ+g9FYY9BSVxOR6zNoL+OFhVEmgdAbyrs/pv5uLpJZlWczoL39kl6LrSUeFN1dI6j9HctlLb5+X6hOemM4QAxF2CvsrVK6Lqi9lSrCbkB6D3iCbQ7nZRb/5+O8ePGSROP6J/ZFa+cwkU96BXGPYURdypJK5zf2yWnATiS6BRY3W+s+P7GzeiZBXeVI3IomIaG2uI36p9e0hI7kEPAQNviLngSxquZ049R8b1TZBJYycXYyxc9YqsHFhmBtr1iKgiD5sfNLxTFLaImDckYNpfI9qFbc8WKdwQNLenJcDfD2P9GpG/bedIE6aePiOfAv8ngXgQKJ6DXmEF3Wpxp5K4ePxuLAUJdBMBfPQuP1YfjLwHHVz4zu6mv47SusThmLWLtEgT1B6gFseoHaP2NLVz1L5LLU0IAau1+Ut3nyY3zv2TbD9hV3lx5XMC90k3HmKucMO/UQNtdAZWFHbnDfaQUakxgisU0cG/UfmEVJneJBBLAo1oF257tu0Xih+TiaRc+dRPim0afgjrmkbk76bHexLoOgKRlcQVhPi4B73r/gRYIRJoNwGMkcuP1QvHPLa7oMy/7QRKD7puT3EWaLbHq31QLY5U21ftM2oxOT9H7aFqW2Fw9NtyNTJ+fDWnwLWiaMPzwCqa1doORU4/f8v18sLKZ0u0qyMWntWixX14jqU+/ioevgpycl7KqJNdKjoVh76hFoRtbce1tgu3PbsKGNF+z93/QqPx9azb3m32rZVr07XmXwtoxukMAmzL+d9p8C//ksz9j0vP2w4xNuzXS//rXoFNHbSn9L7vbWHB6E8CLSXAdtxS3E3LDGPlR70Tl5DZ0Hv9oKpW0JtWUCbcNAJR23IcVtDHKoVFBRJL9QqRd5gn1e5t7vjfMAJYMfvrnEvNkWrQBAmx9qvnXFY8Ys1GsNrVGz15Rv6uaXT6btq8J4FOIVBru3Dbs1tXtN9r5vxWNh27hdH4imfl2nSt+bt58p4EupFAUcQ94jFrFHHvxr8C1okE2ksAY2U7dndLMvRe5wq6y2Uk38dhgj5bf4CdCz/C43r9uFpsov6EWqyu04QQsFqbcUwDjHX7wavRDOnHpZsESKA1BCq1X9vOURq26db8JsyliwhYLe69FQbABS3uwnPQu+jHZ1VIID4EKr3r41NSlqSdBOIwQf+xAtisAOEbeoWyuBfVfkbtl9XShBCAJkiYpWtfN1frNg7nv3q1uDtJ8ZYESKBJBCq1X9vOkT3bdJN+BCbbvQSKE/RS6S+/wgmrxX2AWtx9NnSTAAnUT6DSu77+HJhCNxCIwwT99wry8gJMHAq4tdr91G6p9k9qaQIIYK8ptDZj38qsxY8KtLXjzGK4XQM3/LHvhYYESCCeBNz27JYQ7ffEHc+QV1e9bNo5nrFNu4R4TwIRCQwOmoCJvvITdLHnoFNJXESwDEYCJBCVAMbiduzuxhl6r+f7KfcZ70cmgThM0L+m6HEGujWr9eYRtavU4hlNAAHsNbXa1HfcYKpc9fTFRTe1qwcAoxcJxJiA25799rvfpMPllheulb7UKJ6YEOPfkEWLN4GhPegVRNztCjpF3OP9g7J0JNCBBLAH3Y7d/Xd9/iSkCv1TB9aZRa6NQOlya21p1BsrowlAxN0qirPpTSz4teoc9LZqf7aVrvZaSWsztatXS5ThQSCqlskY0urIdmw5BrVnfFl3z0Fnm7a0eI1CgG05T2ndDy6X3PxF0vux90lqyrah6LLz5svAT34viYkTpP8rHwsNxwck0EoCbMetpN38vPz3eDpb3fnnzS8hc2gWgahtOQ4r6PhIUHqob57KnnpZEhHQJzXcE2pxTBvs/Wqxl73rTSWtzf4XGEwAaEiABOJJIKg9u5NzlNqemOC3Zd8dzxqyVCTQJgKRRdzzK1i5ddyD3qZfitmSQNcTsO9xW9GeZL7f8d/jvtuG57X7CVTYjNVUADhSDRNzWJx77k7SsWq+ntpfqo1iXtZA56qdoxZz0tPUXq92mtqZakekyeVy5qx0HOkArZFQTIG9LxCj0S84I5IJK00C3UCAbbsbfkXWoZUEhkTcKwx7rIg796C38udhXiQw4gnwvT7i/wRKAFR4U5WEbbTjbE0Qs8TL1H5d7XK11uDT9Ty1WAmPYv7mBfqKurGqfqDaETlBx1e3RxbdJ+c/+Dn98pH/9vHM0ieN+7z9fyTTNjm4uBLnsaOTBEggxgTYtmP847Bo8SVQ1OJefo9nor8vXwedoOeyOUkk+TE7vj8qS0YC3UGA7/Xu+B0bWYt2TtCvKFRkrl7vVdso2Wusvr9P7Vi15Sb4/foc1ppx9qYbrhCVxcq5nZzbOsF99ZzLZL9ND7devJJAJxPo6nYc9MOwbQdRoV8XEGhuWy5O0CsMe/qcCTzE4u2EvQsAswok0AICzW3HLahAO7Lge70d1OOdZxz2oN+piLZW+221f1S7iVoY7CHfzdxF+293DfaG2nVqIRp/gtqn1IaZ8/QBVu2tfTksYKf6Q6w9yLwQ4h8Uln4kEHMCXd+Og/izbQdRoV+HE2haW4boqBRE1hO9FSboeG4XzbkPvcP/pFj8NhBoWjtuQ11amiXf6y3FHfvM4jBBf5NSelLtAWpPVIu95zBQEvcNcxftv9kabC+1SOcXarFCv6vaMHO+PljfsVuEBexUf+w5DzJbh/gHhaUfCcScQNe34yD+bNtBVOjX4QSa15bTOCymYNwVcuvnXI1+Fp6F7hDhLQlURaB57biqYnReYL7XO+83a2aJ4zBB/65W8Ktq36rWVZv6b3VjD3lUg7hYMp6uFl/wHlf7WbVhZp0+sFrfcV0ZFrAT/bGfBQrhcESTa+B+z44fERzxQEMCXUCgq9tx0O/Dth1EhX5dQKB5bdlV+FZpBR0g7SSeZ6F3wZ8Vq9BiAs1rxy2uSCuz43u9lbQ7I684TNAhmn5tAC6ci75RgH9UL9StP2rgbguH/SzQ1g6FcDtvsIeMSo0xV7jh7x/x0G31Z31IoFsJsG136y/LejWNgN1/nkxKIgU1NeVNoqjJ3V0zKB+HT0mABEigVgJ8r9dKrnvjVdiM1ZKKL9NcNlMLZXGumaaOV1yPMvcQqblJ7YtqoeztQ2qPUPs2tSPWQFRvb9XW7iqEw8o5j1gbsX8SrHiXEGDb7pIfktVoCYHIR6zZ0hQUw+XclXf7jFcSIAESaAIBvtebALWDk4zDBP3/lN/31ELzumpyEax8H6L2B2qvVBvFQLEcwmKiD6VvT6jF5PwWtSPa4Kuca7hy7tLgPQl0LgG27c797VjyFhOANnaYKOLtCEcRd1CgIQESaDEBvtdbDDzG2ZXO3tpT0C9rtherfUktZM+geR3lukrtt9VGMf8VJRDDkAAJkAAJkAAJjDACBRH3hJ14V6h+QpXEYbVAqMW9Aik+JgESIAESaAaBOEzQscnrTLXfVIv96Di//FG1UPhGQwIkQAIkQAIkQAI1EyiKqkddQS/sQc9xgl4zc0YkARIgARKonUAcJugoPVbAP6d2RzjUzFF7kdrfwEFDAiRAAiRAAiRAAjURsEriIk7QE4U96FxBr4k2I5EACZAACdRJIA4TdKycf17tT9XeX6jPQXr9kdqt1H6t4McLCZAACZAACZAACVRHoDhB740WzyqJ4zFr0XgxFAmQAAmQQEMJxGGC/kmtEUTc/+jU7Aa9h6I3TNo5QXfA8JYESIAESIAESKAKAnYPesQVdBnVl0+cIu6BkHOr1ohkMnpmzlieChNIiJ4kQAIkUB+BOEzQ8Un74YBqTFe/OJQvoGj0IgESIAESIAES6AQCOavFvS/akIIi7sG/anbRYklfc5tkn5lnAiS23FR6TzpWkptuFByBviRAAiRAAjURSNYUq7GRfqfJYRXdNx9Tj6t8T7pJgARIgARIgARIIDKBgXQ+aNQV9KKIO3TY0oBA9rmXZOBHVxYn5/DLvfSqDPz0D5J9fSmcNCRAAiRAAg0iEO1zcoMyK5MMlMQdrfaBQpgD9Ir95zjb/MKCHy7Yq05DAiRAAiRAAiRAAtEIFEXco+1BL66gr+UEHYDN5PzXfxFRjonttjCr5jiybuA3V5tJ+uDv/y59nzlZEslEtN+DoUiABEiABMoSiMMK+lQt4SNqX1O7fcG+XvDDs2kFu5deaUiABEiABEiABEggMoGiiDtX0CMzswGzry2Vgd9eaybnyV22k76Pv1+SEydIQvef951xgohKG+ReXCDZ6TNtFF5JgARIgATqJBCHFfQj66wDo5MACZAACZAACZBAMIGiFveIQx4qiTMcc2vWyuClV4usXiuJrTaT3tOOl4TzkSMxYZz0HHWgpG+8S9K3PSDJfXbVVfQ4rPsE/xnQlwRIgAQ6hQB70k75pVhOEiABEiABEiCB6gnYCbqKZUcxiT5qcc9lsjJ4xQ2SW7RERCfifR85QSDW7pvUISrkOLrfhMvOecF/TDcJkAAJkEANBDhBrwEao5AACZAACZAACXQIgYFBU1B39bdsyQsr6LkRfMxa+l/35BXC6aS87yMnSmL8eoHIEqP6JbX3ruZZ5qEZgWHoSQIkQAIkUB0BTtCr48XQJEACJEACJEACHURgaA/68BXgoGqMdCVxmdlzJaMi6zC9HzhGkltMCsJU9EvtD3VBqkzuiTmSW7Ou6M8bEiABEiCB2ghwgl4bN8YiARIgARIgARLoBAJr8yvoYveWVypz4Zg1yWQkl85UCt1Vz3Mr3pDBq27UM9REUgfvJalpu1SsX2KLTSWBs9DTack89nTF8AxAAiRAAiRQngAn6OX58CkJkAAJkAAJkEAHE8gN5I9LC9pDHVgtO0HHwxEm5j54za0ib6yWxOabSM/xbw7E43smEglJqYI4mOyTz/iP6SYBEiABEqiSACfoVQJjcBIgARIgARIggQ4iYCfZ7sS7TPETKR0a9RQ0vtu4ZcJ3y6PMk3NUTF0n2KqJvfekY0s0tleqY3K3HUyQ7JwXZSTv3a/Eic9JgARIIAoBTtCjUGIYEiABEiABEiCBziSwtrCCHlXEHbUcYYriciqenr7+3+b3TR25vyQnb1LVb52YNFESej46tgVkZ8+rKi4DkwAJkAAJlBKIeChoaSS6SIAESIAESIAESKATCOQKWtwl4go66gRFcTkV9R4pIu6Z+x6X3JLlIuPHmrPNq/1dIeae3G17ydw1XbIzn5XUHjtVm4Rg/3tuyYr8da0qm8vmJLHeaDPxxx535EFDAiRAAiOBACfoI+FXZh1JgARIgARIYKQSsGLqVUzQ7WR+JIhro47pW+83fx09Rx9iPk7U8qcCMXdM0DOznpceTK6TlSfU2Vdfl8zd+TiybGV4tnoWe2rfqdJzxH6SGDMqPByfkAAJkEAXEOAEvQt+RFaBBEiABEiABEhgOIFcNitiz0GvYYIuBfH44Sl3j485vxyK4VREPXXA7jVXLLntFiJ6bjqUzOVefc0omgtLzHwUuPY2yTz45FAQrJDrRBxnrptJuDpzKzWthYsFk/eMfkTIPPiE9J3yLkluv+VQPN6RAAmQQJcR4AS9y35QVocESIAESIAESKBAwIq3w1nFBN2IuGuUbl9BxweMzJ0PG1ipw/eVRCpl7mv5L9GTEkzSs3qOenbOC5JUTfBBJrdmrQz88s+Se+lV3UugOumm7iSpg/bUuJMDV++xRSH71HOSvuluyb221MTtPePdktp1+6Dk6UcCJEACHU+gW5TEnae/xENqIR+1SO11andWS0MCJEACJEACJDBSCdgVcNVMLjqBjGz6dSUYxorH511d9z8mvrnFy0RGj5LU/lPrrl9yx61MGpigB5mcKpEbuOza/OR87Gjp++QHpQ+T7SnbBk7OkQaOx0vtNUX6vnC6JLG3XdMYvPIGyb68MCgL+pEACZBAxxPolgn6m/SXuFjtgWrfqhZv1pvVjlVLQwIkQAIkQAIkMAIJFFfAdcJdjZIxrKAb0+UTdCtinjpwj9AJcjV/NsmdtjbBs8+9JJiM+yb9r/skp88gzdD3iQ9Icof8hN4PF+TGRL33lOMkudM2ZtvCwG+uzivyCwpMPxIgARLoYALdMkE/Rn+Dy9XOVPu42tPVotffRy0NCZAACZAACZDASCQwkD9irRrxdoOpMEHP2RX4LmSXW7VGsqrQDSa1X/2r50gnsfkkEShxWzeYXyWHZ8Fk5y+SzL8fMK7eDxxT9VFuiAgR/N7TjpfEJhuKqNb3wetuK6TOCwmQAAl0D4FumaD7v8j6BY8l/gPH3a/34x07znnGWxIggc4gwHbcGb8TS0kClQg0pS3bCXZxRbxSKexze2Z6F6+gZx6freLiWaPMLanHmDXCQHO7XRX3xdzTN9xujk6DmDpE1ms1idH90nvSO3S2npDsI7MkM2NOrUkxXuMJNKUdN76YTJEE4k2gGyfoqNNFau9VO6MMfuxb10M/i/blMmFj88gXGfPdfkH9577bD083CXQYgY5sxx3GuOHF9fsh311Lhn4avruWNBmnpQSa05btBNuKrEeskp3QF89Qjxivk4Jlpj9lipvaZ9eGFju5Y0HM/ZmhfejZua9IFm7VBdBz3BF155fcejNJ6ZFrMIOqDT43mK47TSbQEALNacdO0fy+3Xc7Qc2t/9x3++HpJoE4EOhGLe7Yiw5ZrUMrAD5fn1/ohMEKeqwn6blcTrJPzzXnleYWvC6JzTaSnqMOkqRqMg3aW1dteIcFb0mgUwh0XDvuFLDNKmcz+qVmpNms+jPdUALNacsqag1jJ9yhufsP7IS+S0Xcs0uWS26uDnlUi3pq2i5+7etyFxXFzZsv+MCBvePpm+8zaab2202SepxbI0zP2w6RzCP6kWHpCnOWes+bD2hEskyjPgLNaceFMlXb11cbvr6qMzYJNI5At62g/0zRvFPtkWorTbbXaZgVjoUG+NgafPGDttXBy66R3AsLjIIUXOE2Wlg9ZSzVho9txVkwEihPoKPacfmqdP/TZvRLzUiz+3+JWNawKW15SElcQelbxKoXJ/R2BT5ivE4JlsXEVg3E0RN69ngjTWJj3R+uZ5lD23r2hfmSfWmBOXpNVPw9pYsKjTKY+Pe8/TCTXPrWB6gwrlFg60unKe0YRaq2r682fH3VZmwSaCyBbpmg6zdgweT8BLVvVjtXbVcZKEZJ33q/9lBetdSNF5N/dmm14b1U6SQBEiCBhhNoRr/UjDQbXnEm2D4CazFfUGP3lOddlf8vhC9O8CvH6JgQWFW04u3JvRsr3g4IkOgr7kN/9kXJ3PeYYZPUfeeNWj23sFP77mb20Iv+zuk7cNouTbcSqLavrzZ8t3JjvTqTQLdM0CHWfrLaD6nFSvimBTtar11jINYeZHKvhvhXGT4obfqRAAmQQCMJVNuPRcm7GWlGyZdh4k8gt3qtKWQCmsWrMVbEvQtX0HOvLJLcwsXmXPjUHjtXQyVyWDtBzzwzTzKPPm3i9Ry8V+T4UQMmsKf9mENM8My9jwg009N0L4Fq+/pqw3cvOdas0wh0ywT9kwoemtvvUKvy30X7Ab3vGoM950EmEaJ9tdrwQWnTjwRIgAQaSaAZ/VIz0mxknZlWGwnYCfro6iboVsS9G1fQzb5t/UmSu+0g0IjeDGP3ocuLr5oteYlJEyWx7RbNyCpfj802Nke7pe96uCl5MNF4EKi2r682fDxqyVKQgPbPXQIBIu5B9vIuqZ/ZewOFcKaWbqW01j1HHWieu97Ye1NNeMRFHNf47nLPyoV14/GeBEhgZBFw+wbcV9svVaJVbZpueSqlzeedTyC3Jr+Cbs7mrqY6dgW9y5TE5bLZvGI1ZdFo7e0u3sSGumaygZ5kq+L0MKmD9gxUZuvGqfUeIvU9Rx9somfu1lX0NYVtDbUmyHixJFBLX1/N+4bvhlj+7CO2UN2oxb0rf0zspYG29t6PnGj2nEOsHSvnmJwHaXGvNnw1mi6rCduVPwYrRQIkEImA31ekDp0mPe94U+R+LEomlfq67OvLJP2HvwtEHbGaggFbUJ8ZJS+G6UACdgW9ShF3u4IuKuKOv+Ogk1I6kIZkn31J1eOuElGJguSU7ZpWBfBKbL6J5FTDusLTjwG7NS0vJJzcfSfBKj3wKG0jAABAAElEQVRE9zP3TJeet+Yn7E3NlIm3lEDVff0JR5UdN2dfelXS197Kd0NLf0VmFpUAJ+hRScUgnFG8MmVb6VexNGvwxS9o4ICv5Fndi5VQsa/+z2J7ft5kFy9TjaqvSnLyJkXFckgDx7dBI7xVQmc1xOODQFLzRMcIU03YfI78nwRIYCQSCOorMv9+UHKvL5XeDx5b0o8F9UtRmZl8dE8tPlgG9XWJsaMlBzFbnWSF9WtR82K4ziNQXEGvUsRd7Aq6vkslrdJlvd0xXMpOn2l+xNReO0uiJ/9eb/qvqgr30A6baRKqIR4f3wav+ruk75ouqcP3rf5ovWYWkGnXTaDqvv7Hv5Pez54iyZ22KXnf5AbTZhw8qM8rjXnrLjQTIIEaCXSLiHuN1e+MaOiUohobFopTUuPGSmJ9PerEM9knnilOuPEIk++oGuKrCetlSycJkEAHErB9ii063EF+eO76o69IbDFJklN3tFHzV5V4HbavV49LSk5cv6RfctMqTaDUhXyyT8wu9Sy40NdBa3RyO2fva8jJF4EJ0LPzCdS4gi79vUN17xJFcTiTPKNtAqaZ4u1IH1IHYhXYqob1nNWmj4dNMtASn8AZ67o4kXngiSblwmTbRQB9PT6U+ccCGrf6B/X1eAfgeL8So27zzsjvvhh6pO7s3FeG3IW7qO+iYRHpQQJ1EOiOT8J1AIh7VCsimp37svQc+ybJzpor6dvuDxTJsWEx2U5sOEF6T36nWRmHuyje+ZaDNJ3Dh1W7Gk2X1YQdlhE9SIAEOoaA26eg3VsR9exTz5mPesV+pSA2ntWV7BKRQe1vek97twxecZ1kn5yjYqg7Gjfir7v8OtMvVUozSELIB2j6RqT5+78F93U4k9kxYSdfOEF42yUEcqsLWr2rXEHHR27RD0eik1p8UEqsN6bjiaDdQWQfe8MT2zgfrZpQs9z81ySnEnvGFCY+qV2aJ1KPfBIpXZh48wGS/su/9Mi1ByV1yF4qJcBhbv5H6I7/kyopFfb+MTV0+nq8bzDezc4a/r7COyP32lLzXrJkyoXntihLiddWEeAKeqtI15APvtqhIxr87bWqYGWvwv01RkzTDBpeWGCeZefNz4ueI6yKqUOcs+fYwyQ7s+DWcEPhrzGdlf9FMKlniYoOSJLbbynJabuYK/aNBWmIp1bMGn5MRiGBDiNQ7H/Qp6APUbFA0w+hX9E+CQNfowVar3CjryqKk2NSY/on7W/Uv+ddR5r+BVfTp+mEPbnV5rof/XDpOWL/4L5K80VYv6/yMRbL+Vu/b3Tir9Q9t44J6tecx7ztEgIQZZWCkreaJthWzL1LVtDt2ecpPfscIuHNNJlHZ+WTh6I4NVk9D70VJrWfjmUwSVv+hmQezovztyJf5tF8AkN9ffD7B8/Rzs0YdoetzHvHvG9C3lfmvaTjXGP0Wnw/2XeefY9FfBc1nwBzGEkE+Gkxhr+26WQgHqoWq99JPZoEojtYHbL7ZVBs87VPB7x4BmPF1JPbB4c3gfRLdvrWB8x+HJsP/Pvee7Tkjn+zJJx9dtgXijNF3XC4N/u8tMNyywLt8labvBFDMpnxPxIggU4lYPsf284hJo6+ZvD+x6TvvDOL/Q7qh74ic//j0qv6MRAu+9xL+Wqjv7lN+xvVg5E6ZJqJk1ZpoP7vnF3S10AqyOZT5OX0VUW/wo3bJ6GciS3zovRYpS8am/fUHYpe5iakr3LTRDjfXZrIcJcf3ncPj0GfphN4Y3U+C11ZrVqLu8ZMqJh7bqXedMEEPacfqbKznjc8WiHenn0sf/Z5SpXbZu59tGUTdHw47DliP0nfcLtk/v0fSe2/u36M4FpUviF01v9+H4q+HtKkYe+flL5/ek94S0kly76v9N1g31f2/eaPs01iZd5FJZnRQQINJMAJegNhNiIpK1KafXGB9L79sLy4ZkEpnCta7oqKDj74ZDGsKUNBxMcN75YtoXs9bT4l4u8FMdXB36vG4yXLArUdo4OsRpu8my/vSYAEOotASR9S6FdqFSeHhmUYaHPGqgb6nsQmE6XvpGNNPxdEJkgUPbDv8kTpbVo2vjl/WZVjhp18EZhmFdre641vy8trYwlgUmqMrqpF2SoxLPfCCnquC45aM6vnqvAuseWmAjHhZhpI8eWWLDdbBFKH7WMm6LmXFwqOP2vWuetufXCkmxnb6AkO2cdnS0qlAmk6i4Dfp6betK8Z51Z6/2RfWyIDP7xCooZPbLeliP5tmqsiKnnnOcjsu8Tx4i0JNJUAPys2FW91ieNroRHH0b2ZVhzPiJ4XBhlGtFzFcJIQ3dEV7+wL883ezqIInx4hZMTSC3vlTFwrvmOLAjGe447I5xMkxqPiqxCPxwvWiK1CfB5abAvGlLEw0MWq2KjzzzarYxj4Qjs8ntOQAAl0B4Fin4OtLzjCyPZRZcTJE6qcsmSbjJ4kAdNz8F5D8W3fg0G8mqjbZor52/hWBFHLg76zRGQR6RYmIr1vP7TYV5lTKZx+MTRNzQNpVurT6o1vAPC/phCwE3T8TdZkukTEHZOdzH/yStNSB+xRE4pqImUey4u3J3fbXpKbbCiJjTfQmU9Oss8XJGuqSayGsDgir0c/DMBAYhD1p+kcAsU+1RFNN9s07fvnck/EXd22r0abx9arkvBl3lf23YArTNR3UefQZEk7lQBX0Nvwy6HzwUq0NdYNPxwJ44p/QvTcHEGknU6PnumIPZ5WpF0wEC6IiiIN/7mJe+T+RtTLin4a8ff1xxkFTYEipVYcVc9Xh2hYMS8trC2nUQKlE3iIBJm9Xive0Bfvy5LYarOSY45s/XglARLoDAK2jaO0QX0K/MPEybPzXpHkLttK77vfjGDGZLXfKp4nrT7o46xmd/RJ6DfQv/XoCvigDqJK+qQAUXTEt1t5ClnkL1acXT8aWpFFs+3mLQcW+y0b3u174ReWJrTPo6xueJePm15omQrbiWxYXltLoN4JekKPB8PUbtipA62tRt25QR8EzgeHBuxmrybnsvoxwIq375VfuU5uv5VkoJBL96FDDLkVJnXo3kZRXG7Ba0a0H6L2NJ1BAH1ukCg7Sp+dV0bEXUXWU7oiDguD/hrhS94r5kFh65W3/cm883BUn36cLYkT8C4yGfA/EmgiAU7Qmwg3KGlfbAdf67Cn22qIdMU/IWpT8lxXxvGVsERTcSFuRrW7p/RrddDz3tNVi7KeDZpbvFxXz480xaokxtPztkMD0zLlVA3xeOEX95kWKkoRoKBfnH4k0BkE/L6p96PvMcoih/UpAeLkQdpvQ7Wze/GxVxSa3nvPONHsV0c/YkTRdXKN/gaSOfgoGFkcXvfJJ/Tc6p5C/CjKsPz+0N1CZLXNl/TFzgo8fl0/vv3F2SdaEm26rsiLuNe9gt7hIu7pux82P4A5hmx0f1N/jJx+qIOCNtGPG5BWgUnuqBP0Bx5v2T505InFDCi1zNzxkPmol1QN8jVtc0BiNC0n4Iuy93zw7dKjx+j5/qZf1neKPZ1o8Ka7JXPnw8WxM8L72tpRmaC+GR8GuIWz5T81MwwhQBH3EDDN8DZf83SCPagi7FaDMa6DV1yvX/k8TezQmmzFNwuillBUA7Fzo1HZfaZi6amdtymrCblX93lCJN2seGvl0KkFGSsSasTnfTGigqZmiMhDlN43Nq7vTzcJkEC8CRT7Jis6rhPc5Nabm4905mQItz/yxcmxbcZqZ7fxXY3v1s/2WV58rKTjGDaszLvbZpLo03RyPvjj3+X7vIji8H06kEM66OPS/7grEviS/tCtjy8aWeiLwcs1JfGdB+wTHRhtuM0tLWyhKGgSr7YIiTGjTRRItnWqyS1dYfZho/w9h+fFvptZF6u93UigFJTO4nQYmNz8RUbxbDPzd9OGsjhRpXE5HV9ZBXnuc97Hk0DxfeT2v+4Y2fXXdxOkr4oi7hrOHzv7W59Q67C+GR9x8GGp5F2kbn7cieffSjeXihP0Fv66+DpnRdihaRJ7pHDt133cqW0nh4paQtQG+6gSo/qNRveSIuuzzNNzjUbkcpqQkffgtbfJwLd/Kbm168yqPURAS4y6sepkOseZc4ymzL6zTpK+U44Tc1XNzdm5KsY6YZyurKl4u2sQV8Xi/YGrG4T3JEAC5Qn47cd3l49d+1P0D66YNjSu40QH16+YekGcHNtfjObbgnZ3t/+xGnFdv7D4xl/7D1cU3vjpMVDZJ2brqD4f0xWHD+y70P/oh4GBq/4mAxf/UQbOv0T7y8nD+iSfKdyQYrJpViw7+mLlZY0f3/obEXv2iUUc7bjJLVlhsk1suH5t2Y8ZlY+np5l0qknfpavnKnaOVezk5ElNrUYuk5XME8+YPFxR+oQqmDQTIm3L2dlzm1oGN3Hkmzpsb+OV/sfdqk+n0Jm4gXgfOwLmfeSf7IF3BN5Tvj9Krz8rTgvB80RB54mpVMHfvquKFa0wXnX7d8Tx3cV0eEMCTSRAEfcmwg1KuqwIu365qygqWdCkXJJ2Om2cFePqBB+ipNKnomcqOtr7ERUphQIVK1Kqg0kjwo4VJBULChJttWJEEJUfvObWwLglZaODBEggEgFfxByrsu72l0iJ1BHI7T8SG+WPbnT93KSL4oEQJ1edFjAlYQv9VImfk4AbP6Ur9TgPHf0NPgggjq17iXiiKnoKFYcv9F3QVJ2doeexq3K43jNOKBGRd9O1/RyKhMGX2x+K1gmmYtlNqOHxg/rTQlBeWkyguIJe4wQ9MXaMKXFuVeG4thaXv97scstWqgb1x0wyqSP2rze5ivGzz74gAqW20JWz09Yl4dHGMjrWyDz1vOAc9laZnjcfoEdAPmZW77OPPmVOkWhV3syndgJ+/2s/svn+Ngf7TsEpRa4p+ltt7fpuwGKS+w5ww/OeBOJCgBP0Fv4SWGnJ6mq3q4AC4upw937qw/lVdB2UGxF2r1xFcRxVyDbMqAgXDAa15eJCSyXKYPdkJnfaxpyHbtPD6hPEeEw5dU+7q7TJlFPFiLBPFIqgEptvnBeZL0Q26WpcGhIggeoJlO0b9EOa0TzurNpWn0PlGG7/AX0VMK6fm4LtjyBObk1J2EI/VeJnA+rVjW/qjq0/2g/a1fJiv6j9DcQTB2Y8q89UC3RBHL7nxKOG9T+ip0307LubscjKpFsQkR+Wrse0KNboKLCqVHanOqbfNGKRTnz2iS6h1t9jNRfi3TB2cF9tKbCP2ZhVnSninr75Xl1a1Pf6tlsU94NXy6Ca8JlH8trbU3vuPGzVMaV7wHEuOVbQcTJMq84mx2+ISTpW0Af/dqfR8A1pRJp4E/D7X3NsnxbZ97e1sO+UnB6t5xrrj/Gv1dSOsW5WwyU3HD/s79SNy3sSaCcBiri3kD5WakJFRv92hxlQQpuxFbUsFs2K46hoOjRblhh9ltL9MRgMhsYtiK0PXv9vGfzVX2Tgd3kR0HVfvkgyKrKOl+XA1bfIuvMuksHr/m06rIpiRBUmCygPDQmQQDQCZfsGT6Q6WorVhTL9hyPmDc3HUfoUm4sftqI4OvqkN1ZL5rmX8v2NrpzbSbRN04ot+uKJ2RlzxJyp7PQx4AfrGsNUlcsFpusxRfnd+D6PYrq2L3byts/c+PDz3TYcr60hkHt9qe7/0iNC+3tFClIeVedcmKDnOlDEPatnO2cefNJUufedb2r6Htqc6pjIWvH2fYavkCe2mSwCBXXKMvfigqp/inoipN60nyQgGaMfDtO3aF9DE2sCgf2vbk8I9EdNbL+sE+/MvY8O1Q3+hfFv5slnJH33dLPVE2Pd9B9uZB89RIp3MSTACXqLf5RQ8RwdEGNAh3NDsUqdULFP6e8zV4iiQxwHbohtDnumcUxciK37cbHirf54DrEy8+VQV6tyqgQK2t2T22xuvmRnH5qhm8N0xQHiaWpCy6kiar6xornrVJnT2nN/JLhCUgD+NCRAAtEIVNPmoqUYPVSx/9C+xvQvqlSr6FemT7E5DAvb16tipY/n+zObptufaZ+VVu3K5ugnTaRS3RMQT3TjF/o0m3/YtVK6A3/8R2B/VaxPUNkj5h1WJvq3hgA+MsEkJm1UlBqrNme7gm5F3LOLFnfEkWuYyAz+6ab83vO9dja6GKqte7XhsUUFimwhrWAm414CiVRSkjtva3wh5t5KA30aPYXjH6HhO/vKwlZmz7yqJBDY/xb0NGE8izHxsHGw+md1S0diy02H3hXO+BfbPdKqhymjk3Qz1g0Yy1ZZTAYngaYSoIh7U/EOT7ySeE76n/eY88eNxvVCdEyq07c/aFxQLNcfIkaZ/sed5lgRNy7OGIYmY/MFvYxYerFcEUVTbc0wEAgV29dOtBWiubYsvJJAJxMotkGvElZEz/NuuDNIzLtSn+IWIjCsfvDDR0C3T0KfgQES+iRrKtW9RDxR40fVqFspXVHN8EVxeq+/CuKBskfN29aN1/YQwAoyTNJVGlVlURJ6tKkxb6yRtK5Gp//vJklsvIH0ffEMSRS2llWZZEuCp/91n+ReWSSiSu56TziqJXlmHnnK5JOctktoG8FZ5Fk9Iz07Syfzxx7WknLZTHD+emb3HfPbZH7/d+n73KmS0A+JNPEkENT/oqSZ6TMlteeU0nEwRNZVGgtKQd13jTv+DRN9j2ftWSoSUOkPQmgNATMo1ayg9Mnda2lyL4jhoDPJqOhlRrVR9p71IT3maDPJLlwsgxdekRfV08AZ3UeF84VTOlFPqDZ1fGmEQfpJ3WeW11ysGtahpEkn2xCJ7z39BPPchjUR9D/rRlxbLlc01d2DbuKgnAWtxDYurqFi+1oX92OCzZdXEiCBUgJuGywRyQ5oc6UxG+uy7Rqplu1TVJIHz214E3ab8P7H6K0o9FU2ji15tXX349t0/GvZdFXsEf0t+jtjoO03oL/y8/Ldfp50x4cABuwwCR2012zwHk2qoKH+raevv90kY85Unj1PMOGLo8nMfFbHEXkx7t73vFVqPgO+isphC4A9xiwVIN5uk8IHe4gj4+MBVjQxhmml6X3f22TdPD3SVsdVad3y1/Peo0M/JrSyXMwrGgHzzhk9SrA9M3WwnjSiykwx8c7c96iRCMXf1OCf/ikybuzQ+BfvqiDRd28sG60EDEUCrSNAEfcWsLYi4DgfNFQ8ByKfN90tia02M2LsVvQ8CW3EKopeFOdR8Z3kjlvnxcgKA15UAQPH5C4q+oPJuIqvmzMhjRh7XpNxuYGliWvFhjR/lMOI2oeIEflpVRIjbQFiZkECHU2gpA0GbG/x21wrKlssEwY4bp+ibrttxpajGLbe/qeBdS+Wye/HCmKP0AgPxXPWWG2/1s1r5xLAQD33Un6fc2qHrWquCMSyE/YMdecs9Kwqd42jQbkGVccMTOrQvcU96qyZ5c08/rRZREhsvolgzBJmIJFgxd/tcWxhYZvhj/x7C4otsQUnc5eKO9PEkoAdN9utk2mVvCj26TomzqoeAyj+w9Vs19QxLD4UlWzjLLyrhom+Q1pKwyM9GhKIKwGuoDf5l8EXP1cEPLdilTn/3F1ZNl8FVQN638nHmdJYNxxBYj7uc7f4gSKmjoi7G9a/D8onqlbiimKkfmZ0kwAJDCMQ1AbD2vqwyE3wQN5ZXemCiL0vNphV7ejJyZuUDHAa3f80ou5BTDFYG7ziOiPq6mJr1VYCN0/eN4eAPfs7sf2WNWtwtyUzq3T6HnVNTv/+42ayuqd24JK/iKiyNnzEx+kHrTCYSGXue9xkldpvasUsIZ6cVuW0GZ1w9Ry+T8XwjQ4AbfI53V6T/vudemzjv43iup79d290NkyvDgLm3eOfeKR/M7LXFDGi7CqJUTKGxgfkZSvMO8l9V9l3CLS1B/nXUURGJYGmE+imCfrhSuuLatHjb6b2BLXXqW2rwRc6VwQ8oy8FI6Z+iIrnqOhdj3Y4/le8at2oIDqiUBF3rIDpcz9dH4z/vJLb5mvF49spmuvXhW4S6EQCUdpcq+qFsqRVC3ruRZ2Mb+dsm1GxcEj6+AOeZvc/tdbbZYp+MKcKoqAJvsS0eCtBSd50NJRAbs06o6AQifYcWf/Z34lNJoqoSDtMUo8Pyz4+W7LzdX93jAyOoBr41Z9FVq/NS+F9RJXJ9rRmdRA6HHLgoXvyU3rMYSWT2nMnFS+/TXLz9AQZPQavKKFQKWIDn6f07wJ5Q+M39AqILpyk3nIAxd0byLiepMy7xzvZA79VD/SWqCJCaGHvOe4Iow8CW07SegpS72nH57d2Ohnbvt9e7SPfbf15JYE4EegmEXfddCL4jHtWnACjLMNEwFVBEjRJprFXJsBgEOka3+0+s/focIz4fARxVBunEddivr4YKUWIGoGXaZBAWwmYvgvnj+t+3qxu0TH7etXti4MX+4Em9D9+/+e7qwFULCf7q2qwdVTYzP2P5bWJq+RHUldL6zVGTFw/4OC4tp63HZJPTpUf5hyR93rzqCc+Tl4xk/Plb6jG+onSd+Z7JaEnHrTKpMFbTXKaLjbYc+PLZJ7QI+9wLjsMVtHbYSBZ03PiUYKJOgwU6Q5ecrXkCkpy21Em5llKIGjcjGPSzDhXJ+OZR2apJNQN5orJOUXWS/nR1fkEumkFXT+DCmzsTDUi4HbfDVbd0UEhLlaoTeejL5VyJkicE4NZ+DfTtCvfZtaJaZMACegWG+1/sELmmyBx8Gb0A/X0h36ZrbsZ5bRp89peAjk9Kzl9zyOmEKkj9OzrBrz7oA+m74sfEdGjupI4S3u8rgXoimtu0ZK8bpg2Vjn3xmoZ+MWfBKuIonvl+z7+/kiT5EYVGR8Hso/mJ9k9B+0VOdnU3rtIWiVxcE57o36nyJkXAuJvoxersBPXl/R1t+tWxOdl3fmX6HjrYEm9SZXwxlhLf7V17cTwQe+e3AvzTVWSunWlRMR97bpOrCLLTAJlCXTTCnrZirbrISbImGBDc2mJUbfViG79ERbK3aDl3QyKdS+ZPQLIKH3zVtZtPPeKFSLX+G73WSPv/Xx8dyPzYlokQALNJ1BN32VL47d7323DRbk2oj8My8cvl+8Oi0f/eBPIPveiiOoYkFH9DVWQBsVnZnKu1U9C5F0NJujtNFCINfDLP+elWVTbfN8nPtByrehpPVNc0mlz9nRCT52JalLTdjUfPKBN3U66osZtdLge1Qbe97lTzNYAWTco6RvvlIHvXioZ3cqAD4Q0rScQ+O7RDyrQq4Cx8Lqv/kQGLv6jDKhCRFzhjjpGbn1tmCMJ1EZgJE/Q+xXZeMc25bwPDPyMSE4EkUqEdferF39SfUfgCCAOIotEeEMClkBL2rHNbCRdq+m7msGF/WEzqMY6zbrbMs7YhknpXvGErng3wyQ22dAkiyNQ22UgXg+xdrP3W4+U6vvvD0hSz2dvpUEZsC8YpuetB1UlrZAY3S9J1b8Dk3ngCXNt53/JzTaWvs+cLL0feofZx4w9/YNXXC8DP/uDZAurtu0sX4flXXc7Dnr3JFVCAx/JzBhZJWVKtl1BcoZj5A77M2FxKxFozhusUq7xeH6eFuPrrShKNSKVw/bdFAro7/lsRbmZBwl0AIGWteMOYNHwIlbTdzU8c02Q/WEzqMY2zbrbstGRoNVLTt2haZU0SuM09XatoOdUnHfg13+V3MsLRXTPd98ndXJeWNVvWqUDEjZHlKnCLmx3Se5aPe+eA/eQgYdmCI6fhfIvHIHWTpNIJoySu+TuO0rmjockffuDklPN4QM//r05sq7nHYe3dG9/O1nUmXfd7Rj5B7174M93AijQjAQCI3kF/Xz9gdd3bF5rSZN+dX/123fbbLHvJsgE7fkMCkc/EhhhBFrajkcYW1Ndv6/y3c1kwv6wmXRjl3ZdbRn7oc2kWbeP4USBZpnEpPwKem5R61fQzeQcysywqjt6lBFrL3fueLMY4Jx5TGBhzOq5Tm6rNTgPPbHFJJHBdFFvQLVpNCM8FOxBGWD/uR+VZOHYuIzqNRj44eWSnZffA92MfLsozbrascsh6F3Dd4JLiPfdTGAkT9DX6Q+7wrG6ca29JnDfDYoUsF+9vSVl7iQQGwKxa8exIdPhBWF/2OE/YPXFr6st29XzxKYbS2LMqOpzjxjDrlbnXl9mji+NGK3uYEYh3M//T1d1XzZ77Ps+8X5z7nPdCdeQwKAea4Xz1jHJtqLq1SaDFdKetxxoomXufkRyuhofJ5OYME76TjpWej/2Pl3KWU/wew9c/AdJq1g/96aX/aXqasflUuY7oRwdPus2At00QV9PfxyoEbWqRLct3G/VKT8avhZG3a/eKXViOUmABEigFgLsD2uhNnLjZFUrOAw0PDfV6DFh0tcrosel5hYva2pWNnGc2Y390CVi7Vtuah+39Jp5eq45chELB70nvqWqved+QSFOnsDeeexnV7HyOJrUlG2l/5yPSFL1GkgmK+mrbzFnp+d05Z+mtQT4Tmgtb+bWXgI97c2+obnvq6nd7qR4YeH+Cr2e7vjH+jZo3w2+GsKfhgRIgARGEgH2hyPp166vrnYFvdkTdOxVhqI4TJaNSH2T939nX1wgA7+9VkTPORes6upRakk977wdBueED/7hRpN1SrWfJ7eo7yNBIpmUnrcfJoNX3mBE5lMH7NFyTfRROCZ0O0Hvqe+SjIr1p2+8SzK6dz674DXpO/3dktgQOyVpWkWA74RWkWY+7SbQTSvodyhMzGJ9e7r6dZTx99347o6qDAtLAiRAAnUQ8Ps/311H0ozaJQRw5Fju1ddMbZLbNW//ucVlNbnnFjb3qDVMBLFyjsl5Qifl/Z/+cPsm5yrSPqATadGz1xOq9bznuCMsjrquWJlOQGeApj947a2xFR/HxLDnzQdI78dV5F2V8+EDzbofXSmZ2fPqqj8jV0/Afwf47upTZAwSiB+Bbpqgx48uS0QCJEACJEACJNBUAka8XY8jxSQ2oceONdsU96E3SVGcOUZNz3ge/OM/9IzVjCR32176PnuyJDbAybCtNzk963zw8uskh20EqkSt97R3SQJi/g0wmPhCVF5SSck+OUcy9z/egFSbl0Rqp22k/3On5hXc6YehwV//xRzxldOjvmhIgARIoFEEOEFvFEmmQwIkQAIkQAIk0HIC2WdfNHkmd2iNyhm7gp5d1NgVdCgfyzw+W9Zd8Nv8Pm8Vp+855lDpPeNESYzqbzlXZJhbvlIGfv4nyerec+y97zvzvQ0/1i05eZLgGDOY9HW3SeaZeeY+rv9BrL1PpRlSB+yugPQM7n/cZRTIZZv0wSauHFguEiCB5hHopj3ozaPElEmABEiABEiABGJHAJPa7MxnTbmSO27dkvJhpR4GYvVYXU701D+UyurRaemb7pFsYXKamDhBej/8Tklus3lL6uRnghXhzMMzJP33O41Yu4zSlfMzTpBmbSFIHb6fZOfO11X0Z2Tw0mtETjlOUlN39IsVG3eit0d6P/B2SWw9WdLX35Y/M/0Hl0vqyP2l54j9BPvWaUiABEigVgL1v1VqzZnxSIAESIAESIAESKAOArnnXpLckuVmdTepGrdbYRKTNhKBKL2evZ6d86Kkdtmupmxzuu86O0PFuv/zpKbzQj4NPc0l9Wad5OkRZI0SI6+mcFAEl3n8Gcncq0efFSQEsOe89/TjJblx/gz4atKLGhbK93pPeacMXnadrtY/r9drJatK43AmOY48i6vpOXAPSe20tQz+9WYjZZC55X7BsXGpfXeT1D67SWLLSQJleDQkQAIkUA0BKFSjyRPA5q7lamT8+Pbs8+IPQQJxIaD7Aju1b2A7jssfEcsRCwLd2pZza9dJbv5recViryyS1IF7Su/739Yy5oN63FZGz8RObLWZ9H30PZJYb0xJ3jk9hk1wFJdOwnE1x3LphB5HpmVfXyq5ebpaPO+VfBjE1Alqat+pkjrqQElupEePNdDgJBjsZccxYaIr/rji40BOy4OPDDlVQpedv0hyyjGn2smLRlfNe956sKQO20elBFJF72be5LSc6RvvlMydD+ezUS6QjMDKfWLzTSQxXk/U1XPujcg/ytTbqxPg9r+ujCSH7qFP//Melax4fQiRrqQnd9hSEptulP/AoWeqJ7T8ov4J3c+PvfeCCbx+mEngPsR0azsOqS69SaBrCURty+3v1eLzE5iB/UsvvcQJenx+E5akTQTWV6NZr1TbaZpv2I7b9DfDbONJoFvbcnLGs9Lz11sN9Nzofhn8hGrX1slPy8yyldJ78Z8kgcm3ThoHz/6wmWTb/FP/flBSdz1inaHXnJY5q5rMM9P0nO0mKYHr+fmfJVnFfvns5htrmXYy5YJoeztMQj9gpG5/SJIvLCib/QC4x2mFXbcGJFSZXvKRWZJ87mVJrBsoW377MHPAVMm8/VDrHHbt1nY8rKL0IIEuJxC1LXOCPvSHMFlvVUUpDQmQQIEAJukrOowG23GH/WAsbksIsC23BDMzIYGmEmA7bipeJk4CLSNQsS1zgj70W4AFtLFg1bAag81RmNhvobbauNXk0+lhySn6LxgXVp24gl5rO47+61QOGZffr3JJo4dgnaKzamfIsN+Jbbmxv0oY58bm0rrUWJ/Wsa42J/e3ma+RO02qLeo72a3nSBlLs87VtobODB/0O3fiO7nj6EOkFh0mrjThBMgpnI3/hKx8Ip3l7sbfj3XqjL/Bbvyd4ki+2zizPnH8K8uXqdt+mzDSI6Webv1ZZ5dG997X9DuHa6ToXlCsGQmQAAmQAAmQAAmQAAmQAAmQAAnEjgAn6LH7SVggEiABEiABEiABEiABEiABEiCBkUigNedmdD9ZPb9E7lCLK004AXIKZ+M/ISufSGe5u/H3Y50642+wG3+nOJLvNs6sTxz/yvJl6rbfJoz0SKmnW3/W2aXRvfcj8Xfu3l+TNSMBEiABEiABEiABEiABEiABEiABEiABEiABEiABEiABEiABEiABEiABEiABEiABEiABEiABEiABEiABEiABEiABEiABEiABEiABEiABEiABEiABEiABEiABEiABEiABEiABEiABEiABEiABEiABEiABEiABEiABEiABEiABEiABEiABEiABEiABEiABEiABEiABEiABEiABEiABEiABEiABEiABEiABEiABEiABEiABEiABEiABEiABEiABEiABEiABEiABEiABEiABEiABEiABEiABEiABEiABEiABEiABEiABEiABEiABEiABEiABEiABEiABEiABEiABEiABEiABEiABEiABEiABEiABEiABEiABEiABEiABEiABEiABEiABEiABEiABEiABEiABEiABEiABEiABEiABEiABEiABEiABEiABEiABEiABEiABEiABEiABEiABEiABEiABEiABEiABEiABEiABEiABEiABEiABEiABEiABEiABEiABEiABEiABEiABEiABEiABEiABEiABEiABEiABEiABEiABEiABEiABEiABEiABEiABEiABEiABEiABEiABEiABEiABEiABEiABEiABEiABEiABEiABEiABEiABEiABEiABEiABEiABEiABEiABEiABEiABEiABEiABEiABEiCBWBNIaOnGq8WVhgRIoDMJsB135u/GUpOAT4Bt2SdCNwl0HgG24877zVjiGBDoiUEZ4lKEcVqQ5Wpk/HjM02lIYOQSSKjp0NqzHXfoD8diN4cA23JzuDJVEmglAbbjVtJmXiTQPAJR23KyeUVgyiRAAiRAAiRAAiRAAiRAAiRAAiRAAlEJcIIelRTDkQAJkAAJkAAJkAAJkAAJkAAJkEATCXCC3kS4TJoESIAESIAESIAESIAESIAESIAEohLgBD0qKYYjARIgARIgARIgARIgARIgARIggSYS4AS9iXCZNAmQAAmQAAmQAAmQAAmQAAmQAAlEJcAJelRSDEcCJEACJEACJEACJEACJEACJEACTSTACXoT4TJpEiABEiABEiABEiABEiABEiABEohKII4T9PO08A+pXal2kdrr1O6stpw5Qh/mAuym5SLxGQmQAAmQAAmQAAmQAAmQQOcQyOVykstmO6fALCkJVEkgjhP0N2kdLlZ7oNq3qu1Ve7PasWorGUzkN3MsJvg0HUQgncV3liHju4eeDL/zw/ru4THCffy4vjs8Jp+QAAm4BPy247vdsEH3fnjfHRSHfiRAAt1JwG//Ye4w/+6kMvJqNfiLP8nA9y6V3GB65FWeNR4RBHpiWMtjvDKdrm5MtPdRe5facgbhlpULwGfxJYAvov+ZPyhXzlgjzy9Ly3YTeuTUqaPl4Mm9kkgkyha8nrh+wo1My0+bbhIYSQTqbUv1xh9JrFlXEuh2ApX6AzyfsyQtO0/skQd0LPG7GsYS3c6wG+qXW/GGZJ990VQlN3+RJLbevBuqxTqQQAmBOK6glxRQHesXPJb4DwLcj6nfArW3qD0k4Dm9YkoAX7vve2VQzr1jpcx8PS1r9KMornDD3/8a7lajnrhuOrhvZFp+2nSTwEgiUG9bqjf+SGLNupJAtxOI0h9grLD+qKQZM5xXw1ii2xl2S/2y818rViW3/I3iPW9IoJsIxH2CjvJdpPZetTPKgMek/BNq31OwL+n1DrV7qw0z/fpgvGPHhQWkf/MJ9CQTZuW8VMA9r1gAK+p4Hmbqieun2ci0/LTpbgoBtuOmYK0/0XrbUr3x668BU2gxAbblFgPvpOyi9Acvr8zI5uulzMp5LWOJTuIR47I2vx2/sbpY/dzS5cV73pBANxGI+wQde9Gnqv1gBeiz9fmv1E5Xe5/ajxSun9NrmIEyOrRsa18OC0j/1hCAWHuQCfN3w4aFCfN34/r3YXHC/P34dLeUANtxS3FXl1lYmwnz91MPCxfm78enu6MIsC131M/V+sKGtXvr35/Kl8m6/RKG+fvh6K6LQNPbcW7tumIBc2uG7ouevCGBLiAQ5wn6z5TvO9UeqbaWyfODGm8HtWHmfH0A8XlrtwgLSP/WEMCe8yAT5u+GDQsT5u/G9e/D4oT5+/HpbikBtuOW4q4us7A2E+bvpx4WLszfj093RxFgW+6on6v1hQ1r99Z/XSZfJuv2Sxjm74ejuy4CzW/HaweGCrjOuR/y5R0JdDyBOE7QIcuMyfkJat+sdq7aWsxeGmlBmYj47LbCsTjWjaZNBLC/DArhUvrrT5vUI0dt02eucMMfz8OMjYs/HNfAXSmuGx73jUzLT5vuphBgO24K1voTrbct1Ru//howhRYTYFtuMfBOyi5Kf7DFuJTMfyMjp+iYoRHjgU7iE6OyNr0duyvowgl6jH56FqWRBPw+rJFp15rWzzXih9Qer3a2kwhE0dcU3PhCN1ntqQX32XrFRH6m2lFqP6r202qPVnub2igG+9GXq5Hx43FLUw0BvDyxR8wa3239y12hgXVNOidjeoe+G60ezMronkQkLe5QEFOLBni/TChHo9Ly0+4Ut2rNH/oxO6XQ+XKyHUf4vfz26bsrJeGH9902ftS2VG98mx+vwwmwLQ9nQp/2EfDbuu8OKpkNU6k/wfOnF+e1uOMd3k1a3NmOh/4yBv96s2Tug05okeS0KdJ3yruGHvKOBGJOIGpbDpYpbm/lPlnI/g6vGGeo+/KC32Z63apwj0uf2h+qxaQd2iOeUHuU2tvV0jSZAF6KtR6P5hft0YXpwEm2Hy7IjZX3Q7awSv9FVunkvhaDuekBm/dqWvizyhsMEOBPQwKdTqDe9lpN/LC2hEH0RQ+vrnicYlh8tsVO/ytk+UcigWr6DsvHjbP5ekn5773HyK+OGXrPu+9m9As7btgjSb0eqO/wQ/kOtxi76pqjiHtX/Z6sTDABzjiGuHDlbYhF5Du8HDE5x3ForhA6/rC+e8Q4M9F1V9bDEq4nHRv3y3eulD026ZGJo5OyeE1WnliUlu+8KXoZwso2Ev11oNOpfQPbcZk/WNtWam2v9cbPaH+B84lrzb9M1fgohADbcggYereUQC19R1AcCOrtqe/5T+09VnbYICUpR3KvpRVqcWZsx0PABy67RrIznjUeie23lP6zThp6yDsSiDmBqG15SJY45hVi8eJJIMrRJ1FKXk86Nm5GvxBgBf7WeQPmCnelI9qilI1hSKBbCNi24n5MQ93gjtJW6o2PwTTyqTX/bvkdWA8SGGkEauk7guLoNz7zfr/woVUjZnI+0v5WKtZ3sKANEAG5B70iLgboTAKcoHfm7xarUocdXRLmH1b4sPBh/m46YWHC/N24vCeBkUQgrE2E+ftswsKF+Tc6vp8e3SRAAp1BIKyPCPNHrcKehfl3BgmWsh4CucHBoehpZ7I+5Ms7Euh4Apygd/xP2P4KhB1dEuYfVuKw8GH+bjphYcL83bi8J4GRRCCsTYT5+2zCwoX5Nzq+nx7dJEACnUEgrI8I80etwp6F+XcGCZayLgKD6aHo7v2QL+9IoOMJcILe8T9heyuAPWI4yszfsAx3NUec1ZNOPXHbS4+5k0BrCdTbVtodv7W0mBsJkECjCNTSd9QSp1HlZToxJuBMynMZrqDH+Jdi0eog4M+r6kiq46NSuVSNPyG0rDbiWDKkM+P1tFw8fbU8tyxtvpxjkn/w5N6KGtRtGR6YPyDr9Ki2fj2a7cDN+yLFrbHaXR0tqhKLGEJgO67wo9i2UuuRhDZ+rW2t3vgVqsfHHgG2ZQ8InW0j4Lf9Ufqefuu2/TJ1o57Qd7yNU2t/1bbKNjhjtuMhoOu+82vJvb4s7zF2tIz6Fk5VpiGBziAQtS1zgj70e3JgP8Si6jt86YZCF2t8t/UPuvphXbd7j7i+203Pf1at202rkfeVytHIvBqVVtQOpFH5NTCdEd2Oo/6tRQ2H3yUoLFq6qz3ZhrFX+3v67jD/sHA2PK+1E2Bbrp0dYzaegNvW3XvkhFMeoEDSH0uE9Te1xkG8WoxfXt9dS5pR47AdD5Fa+42fiyx/I+/R3yejzj976CHvSCDmBKK25Tiegx5ztCxeEAH3hYrnvjsoDvzwdTzsDHU8D3umf+B4XDRh6Rykq+/fuvcNmf9G1ojc++4oq/PFTGq4CStXs/OtoaiM0uEEqvlb89un77YoyqX5y0dXydWz1xpJl7P3HSNTJvZEaq/l0vTbtS0HryRAAp1PwLb9J18blI/tNcYcufg7PdUBCt/es/Mo+bj6hUnjofaIP3d5Ri54YJU8GyGO20dFlcYLo2zLPtJX8sP4tNTfEXEXKolrKXpm1joCpbOc1uUbx5xG9MpbO34QfH0ud4b6XpN65Ng/LxUcl2YN/mD989XLpXO+nsW+3fop+eANy/TlLuK7/bRsPo24litXM/NtRNmjfuFrRF4NTmNEtuNm/K2VS9NtR/j9/u/4CTJ3Wabi+ebl0ox7m2jw32nLkmNbbhlqZlSGgG37X75zpfxR+4vntb84746VZsUcwnfoQ1w/m5T7znfHC5XiuH2UDjWMnpxa+xhb9nML5Q0qW9hHThu23ivb8RDBtV+6UP4/e98BL0dxpF8b3ntKSEhCAUkEkUHY5GSywWQbgzNOwOFwDncGh4P/+c53tjH2OXE2DhjOgLONTXIAbGODyRmRQYBIEkggISEUXtjdf329W/t6+03a3dndmd3q9+s306m6+puunu3p7iqyJukD3/gsZawdnKM59U4RSB4CUWVZlcQl79n1DEd4oQXZRJ7Yl6XXz6zd5IG5OsrYL8MgOvg6P2ejHO3CdFDWDbu04gQ/iK9W1htnG5RWOhBoRV8LomnLEWRrzqRcoCyDFlwQTZWJdPQ15VIRaAQBkX280zFeYAzBOxlOxhA7rpzCq+Z8I2MD9F5ELWOPUaBl0xHaUa/Cu9Qt5ZqhKTT0Wh8C2MlAI5YWdxRXRXH1gai5U4GATtBT8Zi6l0k/W6YSP3382C4qaTYqXnFIl3ih4xe2acV5L/W5NP3i3XwaVgSiIuDXp/zio9D1KyvxkCtXtly6klfi3XBYvKTrVRFQBNKNAGTfa7zwirNbKmMGFMCKi1pG8qGc0BEa9Vz9yvrF10Nb89aBQLFY/tpiF3En7Haa3isCKUVg7OwnpQ1RttOJgJ8tU4lfsZ4HY8dJmh3tFYd0iRc6fmGbVpz3Up9L0y/ezadhRSAqAn59yi8+Cl2/shIPuXJly6UreSXeDYfFS7peFQFFIN0IQPa9xguvOLulMmbAOou4qGUkH8oJHaFRz9WvrF98PbQ1bx0IeJ0594qrg6RmVQSSiIBO0JP4VHqEJ5zrCrKhvna4SA++NEK78Vn0w7fsN9ccv59d++pBdN7PZtqWrinQwuUj5gyaG3ZpxQl9EF+trDfONiitdCDQir4WRNOWI8jW0tcKgbIMWnBBNFUm0tHXlEtFoBEERPbvr4wXGENkui1jiB0ndSCPjA3HbT3O/A7AiZmwMvYYBVo2HaEd9Sq8C79SrhmaQkOvdSJQsBZtRFmwdR69TmqaXRFILALueJNYRtvAWE8ql2oDroFV4DxRkNbW9bylbQKfRRe3jift4/krOitZMFF4ceJ8mB8dV2u7G261NnU/vlpdr+DV6DWqEotG6bewXM/KcT19TeRGnoMblvggmufft26MFnc/WRZ5Bd0gmnY+4SHq1W2DG45Kp9vyqSx32xNNb3tE9kWLO8YLnBXHNvEwLe722PDSugJ9/551NGtiNlDzuz1GYZJfz3vXHT+Ed5yHB79YOa+XZjNPTuW4jF5pzVoa/ML3yoFx/UQbhqj/zNMoO3NaM/BqWUWgbQhElWWdoI8+kp79YT8KQWfu3BehhP1eiH6TbCknrag3LOXivKINI/zBtw9L/xU3zGrp8/zNwf7BIWlJuUYdQJLCr8VHT8txWJ8HTn5y5fXj1a//YgUrSXbQ62mT1Vd64lZluScec2oaaY9R9j0a4GcHfdHKETr3rnWeE+OV6wuU4w/2U8aNfsgHXbxxvcaoKEB5jScwJbnttHyNglqX/yi0G82jclxGrrRqDQ1+8Qd4uETjxxG9to76P3MKZefMaBRaLacItBWBqLI8OmtoK3uJrKynf9gn7YngxWebVBH+0GFt8ylQ6Nmo6RSh2aqrtOHz/1hDb91ugOay5tolvBX4iscH6csHbUT7zOmredm3io9G6EYdQBqh3eIyKscBAEufjGIuSPL69d99uf/aP4ADqm1pkvAZpU0tZSShxFWWE/pglK1QBDBhv23psKf5RvwO2H5ajt5xxSribEYT/Cd2n0jbTM01NS6FjSedGvdUjsvdpbhiFQ2d/SOi/j6iCTxB5wl7/6feT9nNNw3tT5pBEUgCAlFlefSTYxK4Vh4UgQoCQWZNbPMpONkqJliSBp60gXfl06WPDpoVAFwRTirPScNQ+YkXAemT5RPho7S95Ejy+vXfJEzO0QLhM0qbRlusd4qAIpB0BDDG4F3pJdv4HTBjQo5eNyNvJuj3Lhuhb925tqnJOfAIG0+SMu4l/dm1jD8xqZbLUSafK1ejSuJaBrcS7hwCOkHvHPZacwgCfuZLJF7Mp0g4hFxHkv1484vvCJNaaU8h4Nf3vOK94gCWX3yngPTjxy++U3xqvYqAIlAfAn4yLPHyOwBUJa6+Gsbm9qPjFz+Wgsa0DAGcGYTDFvd83tyW1MyawUH/dRcCOkHvrufZVa3xM18i8WI+RcJJbLwfb37xSWyD8tRdCPj1Pa94rzig4RffKaT8+PGL7xSfWq8ioAjUh4CfDEu8/A4AVYmrr4axuf3o+MWPpaAxLUNAVtCxeq4r6C2DWQl3HgGdoHf+GSgHHgjgHBg0pLpKEhC2zacgLCZYPMh0NCqoDUnluaOAaeUtR6CePllP3pYzHlBBWvgMaIImKQKKgAcCQbJt/w5A0bh+CwTVqe9tj4fU7qiKmbUMb3GnvvIKOukW93Y/Ba2vDQi48582VJnYKlS5VMIejZcmVbwg/bS4J4x9w45fG7w0ZieJ/6hKLJLEc4UXleOQh1JPn5S8z68p0AD/HhosEM3bKFeXuaIQdmJJFj47ZQIplka0iIjKcouAVbJtQSBItq96YoMxt7bllHhNngXVyfLUlna7lagclxEpPvkcDX3vl5Rhs2qZKZOouOhZ6nvvcZTbYycXMg0rAolEIKosd2akSSRkpD/sE/hc8DUbSlvEBYWD0lA+KD0oTeqOeg2j5aZHpdvOfFEHkHbyFLEuleMIQLl90A3bJNw0P1NItpwGlXfp2XmbuXfpuuFmaKe5rMpymp9e7/Huyi3C+AVgK2ez88i9XIGYfV8PgnY5+74ZmvXUH5RX5biMTuHxp2n4h7+hzKYzeIK+ERUffYry7z6a8nu/Lgg+TVMEEoNAVFmu7A9JDN/KiCJQRQBfsWFq7balQzQ4UqKBfIb2ndNfs3onkwLJ666gYbX90kc30Dt2GGdouelYyYZDPV5pLEhVfqLc+PFhr5gLz1HoaR5FIG4EpI8GyZXUKXlFNt62/Tj6yK4T6JYl0eTFLY8znNgFY8uD1NXs1ZUrN9wsfS2vCCgCrUUgaLy4ctF6euilEfM7YJ/K74Af3beOtbj3mfHkwoXr6HePbTDn0BsZY9y6t+ax6uN7TKCdN8kTfgfoeNLaZx+ZemWLu1ES11fR4j48Erm4ZlQE0oJAfbOPtLSqMT515a0x3FpSCl+v/eygu3bPg/LCVupes/vozheH6azr19SYa0HnB61dZ+XpmN+8QgXLlouk1WOrPIgPl+eWgBYj0ahf+GKsMi5SKscBSNbTR9282Mjyq+M3Zk3JBV9ZsuXFLS9sNSJbUlav9SOgslw/Zlqi/QgEjRd4j281JUfvvqps8xxjiMS9h+POPnhsej3v3KC666HTStRUjsvoFh5cRMM/vpwyW8yhzLTJVLz3Ucof/0bKH7xnK+FX2opAbAhElWVVEhcb5EooTgTwtRqrdtac2ZBHGPH21+ygvLfz6jtW3mEz1Y/WxL4svX5m7WYSr3rC2hfEh8tzGC1NVwRagUA9fdTNuwvLyJxJuUBZQhlxbnmJb0S2pKxeFQFFoDsRCBov8P6ew7ovMAbBYQyROLy75d5Or+edG1R3PXQMc/qvtQiIQjjLzJoqiWst5Eq9MwjoBL0zuGutERDwsznqFe8VhyqwNR7OL13ibVuqpkBAGUn3ugo9N80v3s2nYUWg1Qj49UWveDtOZMSOs3n1iveKQxm/eJue3isCikBvIeA3Lki8jEFAxY6z7wUxiZNw2NUvv198GD1NbxECFTNrGTaxBm+c2kFvEdhKtpMI6AS9k+hr3YEI+Nkc9Yr3igNxrJ7D+aVLvG1L1RQIKCPpXleh56b5xbv5NKwItBoBv77oFW/HiYzYcTavXvFecSjjF2/T03tFQBHoLQT8xgWJlzEIqNhx9r0gJnESDrv65feLD6On6a1BoFQ9g86Tc5haY1eNa02VSlUR6AgCOkHvCOxaaRgCOBMGRS+jG2bLJRBGPNLFBeWFMhmsosNmqh+ttcNFun95rZIRr3qkPr9rEB8uz340NF4RaCUC9fRRN+9ClpGlrxUCZQllxLnlJb4R2ZKyelUEFIHuRCBovPCyeS5xeHfLPcYouHrHmKC69d2dsP5WWUE3SuJkBV3iEsaqsqMININAEifoZ3GD7mS/hv1y9lew3559mDuEM9zDfpD9E+xPZq8upQjgTBg0PUNBywLWojqej57hijDikS4uLO8VizYE0prAq+xfYSUzYfVIfX7XMD5snv1oaLwi0EoE6umjdt4Tthugo+b3010vDNH+McmlykMrn7TSVgTShYA93rjvYow5sHk+wAumSIOCOPwOQBze3W661++EIDS86ob29u8fOXnM740gOprWBgRGiuVKsHpeWUHXM+htwF2raDsCo7OctlftW+E1nPIr9pikQyPIV9jvzH4n9mvZe7n5HPkg+x+yv5D9YezPZX8s+2vZR3Gq/TkAJXxhtn9Qh4UDSNWVFFaPnW7fo5J6wmF562E6jJadkQ40oQAAQABJREFUbt978VxPvXHmjaplMs46Y6LVM3LcTN+pp6xXXrw4vOwSu3nrtZneTB9w63bDzdBOc1mV5TQ/vXTz7sqgHfYbG7zGFq84+T0CmkHpfgjavCCPS8crXer0o9nKeJXjMrojN9xJI1f+nbK770SZTTamwp9vodwbdqW+tx/RSviVtiIQGwJRZblWdXVs1TdF6Cin9Mkcxkr6Huz/wd7LfZQjF7P/dCXxEb4ewP509lEn6JWienERcO2D4kwWtn3BxviXbn6Nt70W22Lb2I8PsansvjzrCYfldTEJCtu0gngGjbjsrwfxo2ndh0BQv+LBP7DBUrYRO+gi+5A526HPC11oPYZipaC8dtk47oPqDsMjjvqVhiKgCNQi4CWT2IqOseMviwfpiPkDdMuSYWOVpd7xwn7H2vfCgVecpOHqxRt+08i4FpSu44mNZAfuKyvoGdbiXlUSp1vcO/AgtMpWIxD8S67VtUejvw1nW8T+deyxSu7lMHHH9vZPWYmn8D1W0adYcUG3PbPyFgSCm4avyH72yMUOKWyTlvjoaSvthQbx0cp6XTzqCfvxnGOpu/qdU+neZSN0po9tdtuedD11xpU36he+uOqLkU7Xy7Ffv8JgHiYL9ZRtVd4Yn7UhVQ+fcdedBnoqy2l4St3FY5BM4nfDXrP76M4Xh+msDrz/gniT8dPvN4+kh30AaMXTVDkuozrCK+Yj19xEuX13ocyMqTTy++spu+cC6j8JG2bVKQLJRyCqLCfxDLqNLvjDJPtm9n6Tc+SfzX4ZbiyHMH6sj7fi7NuBSjrywG9kJ+p9GQG8iLAiNqr6qRyPsG17FOFW2gsN4qOV9ZZb29h/P55ht3UC2173wzWp7WkMhZaX6jk59utXUWSwnrKtyht3j6iHz7jrVnqxItBzshwregkiFiSTty8dMtZV8PvB63dFq99/QbxJ3dhd1AneEvQIm2GlpXJcktVyKIjTM+jNPCctm3AEkj5B/x7jh/Pn724BjlBGt9ryz7egjq4g6WcHVOLFNqmEW9VoP/p+8a3iox66XryF4eVVpp46eyxvT8qxXx/xi7f7hF8er3ivONDyiveK88tr8xPHfSfrjoN/pWEQ6ElZ7tZn7yeTsKoC55fuFx8nTn51SLzw6NYp6W68hmsQaK0cV82s8fSFt7kbJ5P2GjY0oAikG4EkT9DPY2iPY38o+7DJ84ucZxZ72yH8Kvv1dqR1fw7fY/u7+HlWmt5aCPjZAZV4sU0qYatorLd+9P3iY628QWJevIXh5VWmwep7oVhPyrFfH/GLtzuCXx6veK840PKK94rzy2vzE8d9J+uOg3+lYRDoSVnu1mfvJ5MDbDUFzi/dLz5OnPzqkHjh0a1T0t14Ddcg0Fo5lsm4rcVd4mrY0IAikG4EkjhBx+iNyfkJ7N/IfjH7MHcrZ4Dmdtu9iQOI93ODnIAJvHiYdVPnIIDzWlCeUn6ljiYibNsexbnqT+wxgaCZtRUuiI+k2in14xl2W9ex7XU/XJPanlY81xho9pwcS7+CzO02K0+Hb9lvrgiH9R3IJ/JEKSv1QNZth7BbTz15bVpx3Hey7jj4VxpVBHpOlqst77IbL5mEZVSMV8duPY6GCiXz+yHK2BI3NF68oQ57XNt3Tr/nbx533Iubty6h11o5tlbQq0rixPRalwCozVAEgIA7PiYBle8zEyexP579YxZD2I4uq+H4QjeX/Qcq6fP5ijPq2BL/Y/aY2H+HvZpZYxCaddBo6qVtVbS4z5qYNT/Yca5aHF6COOtVr3PL2WE/PkSLe711NZPf5gt03LDQDuIZebxw7UR7hF+5RlViIfkTdO16JXHAGv1qPW8VtWUOH33G8+oUP7uax+H2TYQxUR/Ij8qrX9mg/uvWU0/eGgZjCHSy7hjYbykJleWWwqvEfRCwZXLOpCx9bPcJNGMCnxuuODsdW8exOo0JsLz/3HFLykW9uuXtcFjdYelReYgzn8pxGc3h31xLhdsWUv6oA4ySuOGf/p4yW29GAx9/T5xwKy1FoGUIRJXl2l9yLWOnLsJ+S7CnMJWLK5Rw3ZL9IezFHcI332YPe+nYEv8l9hezj+p64od9VDDcfPbLDWl2OK6XmR+dVnwIcNtXT9iPT/lh4dKysUKaHbbv3TSXTjvDUQeQdvIUsa6ekOOofTAo3/n3raPfPbZhzA9jF+d6+mg9ed16mg13su5meW9leZXlVqKrtIMQEJn0Goc+tecE2nZavuZD/vJ1BfrBPeuaNt3qVZ89+QfPwpvwX29YyrXrqnJcRnr4l3+iwp0PUv7Yg8sT9IuvoMyWc2jgX97Xrkeh9SgCTSEQVZaTOEFvquFNFO6JH/ZN4ONZFC+1OEySBNGxzbmhw553xGTaaXqe9YO0v/sG8dlJEyyeD6eJyKgDSBNVtKpo18tx1D4YlM+WKRZhs5Wqm/pvqzpXGumqLKfxqXUPz2Hj0A7TcrRifYmmj8/Q269YxRPnctvxdm9kTAqqrxF6SXkSKsflJzH0s99T8Z5HKH/8oTxBn0bDF/6OMvNm0cAZH0zKo1I+FIFABKLK8ugex0BymqgIeCMQxWSJd8na2CA6tjk3PrpG5929riOTc3AcxKeYaKltmYYUgXgRiNoHg/LZMgXusG1J+2+8z0mpKQKKQPA7E+PQJrzt/Q9PbjDX183IVyFrdEwKGvd0jKvCm96b6hl0y8yaxKW3Vcq5IjAGAZ2gj4FEI+pFwM/0iF+8H32//BIfZp7Mj27c8cKPS9cv3s2nYUWgWQT8+pob74alXokXmUK8xEkevSoCioAiEAcCfmOLxItZM3s8Qr2SXi8PfuX84uulr/k7iIBobGcTaxk1s9bBB6FVtxoBnaC3GuEeoO9nesQv3g8Sv/wSH2aezI9u3PHCj0vXL97Np2FFoFkE/PqaG++GpV6JF5lCvMRJHr0qAoqAIhAHAn5ji8SLWTN7PEK9kl4vD37l/OLrpa/5O4iAnIGAmbV8RemgrqB38IFo1a1CQCforUK2R+jivBeUr7inwRGuxyRJEB3bnFu9dON+DEF81tPeuPlSer2DQNQ+GJTPlikg12m56p2npy1VBHoLgSjjEMyaLV1ToIVsglRco2NSUH36jhZ0U3wtFgzzGcsOeklW1VPcLGVdEXAR0Am6i4iG60IA572gvRzKVxZskmczT2SuCCMe6VFcGJ1blwzR8dsOmHrqoRul7nryhPEZtb311Kl5FQEbgah9MCjf/iybVz2xgQZ4AQJyW6+82vzovSKgCCgCfgi449DEPqITthugC46eYn4jrB4sVq87svLXRn9DSP1ufc3SE7p6TQYCpZHyBJ0VERFhkg4nceWQ/lcEugKBaLOnrmhqaCO6XvtzKAJNZMBXa7wYxQWFG00D7WbKCm9RrkH1hPERhX7S80TVMpnAdvSMHIf1UXk2XvkgqbYVBMkjVykLe+lQ1uTKdtTyLj2hq9f2IaCy3D6staYyAq7c2+OImyZhuQqGdhmJkzxBaZJHrnZZv3FL8iT5qnJcfjqD//szKj2zlPpOPYEyM6fR0Ff/j2j8AI07+1+T/PiUN0WgikBUWR5VmVktqjeKQP0I2D/gYYP09qVDrBV6g1HygnNf2FKLle8fse3l183oI7FtvvS1otkKL+EXOPzxPSaYVT1wARNu0LwK5S6ggy1qklfKgq5fXqSxMJj0qP/K/EerV2jb7Y9aj+ZTBBpFQProbSxnULCEM5zYJur2dzffzqwl+c3bjKNblgyTV9lFK0fo3LvWGXk7/8jJNJ9lDnldGUQ91z61gb5xx9qqXCLOLl+W13HMU3/dMtgoLlpOEVAEOouAjDn2mCHvf680vNMxdrjvUHzv9xt7vNJgV30HXoGX3wxPrx6hI+YP0HFbj6Pt2JRbLoCevMc7i5zWHgkB2c5ubXEnPYMeCTrNlC4E6pu5pKtt9XLbMytv9QJTT358tcbk/MzrXzMrb1IWHU1sL7/nqlV09sEb0VZTcvRuvuf5fDUNYeT90zun0n3LRpjOGl86Uhbbc3edladjfvMKwQybONBB2j5zxr78JY97LfM/HLneemi7dSU5HPULXwLb0PVyHNRH7f7u5sOP2l8dvzFPvgt0lodcoez8ikz2887Ba945zfzY9ZJB5N1zdh8d+ZuVxm6xyJqU52HAuHL8JJbB/jE/wBPYd7qSJZXlrnysiWyUO+YIk5gcB73T7XELZfzoyDiz96Z9dMSvV9JwxWa6jG2LeWzzG6/i+o0gbWr3VeW4jPjg1y+i0gsvUd9H30nZmdNp8Is/IMpmadw3PtPuR6L1KQINIRBVlvUMekPwaiE/BPAVHCvn1jzZZEVYbC+/fma+er8L39tpCCN9Yl/WrNoF0ZGy+FKP/ChnO5RFmvtl3s7j3pf5Xx/Iv11vPbTdujSsCDSCQFAftfu7mw/9ds6knJE9L7lC2Tkb5Qj5/uMNk4zcIM4vL1btcZYUTmRNyku7yvEb6pJBKatXRUARSBcC7pgj3Ie90+1xC2X86Mg408cz/rdWxh7kl7EtaLyK6zcC6lPXQQQqK+hGSZxocS8WqSRfhTvImlatCMSJgE7Q40RTaRkE/GyNSjxsndr3KGSHxRaqxLmwSrybT8J2fslrx4Xd+5WReKlHwmH0NF0RiBsBv77nxtvhsH4reZFvLk/k4STO5V/iJZ+dV+qRMpJXwnpVBBSB7kXAS95lTPBKAxJe8V5xdl577IlKX/LZ6PvVY+fR+wQhINvZ7S3uYK+i3T1BnCorikBTCOgEvSn4tLAXAn62RiUetk7te9Cww2ILVeLcOiTezSdhO7/ktePC7v3KSLzUI+EwepquCMSNgF/fc+PtcFi/lbzIt+S1sqZciXP5l3jJh3SJk3qkjMRLWK+KgCLQvQh4ybuMCV5pQMIr3ivOzmuPPVHpSz4bfb967Dx6nxwEqibVjBZ3awqjmtyT85CUk1gQsHp3LPRA5DD2X2F/IfsfO56D6roZAZwd+8DO4zztoovt5fvZ1qncw+4pzpXZYaSv5cNlUB6DNNu5eRFGPuRHOdtJGniK6sr8R6+3HtpRedB8ikAQAkF9FLIgfdLNB1lbyhNvyJqXXKGs2CL+0i2vGTp+Moh4KKe7/PFBw6rImpQX/svx46o8SbxeFQFFoPsQcMccaWHYO90et1DGj46MM8OsbOaKytiD/DK2BY1Xcf1GQH3qOoiATMTdFXRZWe8ga1q1IhAnAnFP0L/AzP2ZPSbpm7Cf6ngOqutmBHB2DFqbv3rIpBq76FAQB02tsL38FVYQh/sLFq4j2D2Fghg7DAVy4/l8K7S1I83LvrpbdgLnB12vvOApqivzH73eemhH5UHzKQJBCIT1UemTbj7YPL9q0QaCDXQ/uYJNYsgkJOZZ1oIMufTLe/2zg8SqH4zMiQxL+VHbw5OYhiqIC3qemqYIdAsC7pgj44C804PGExm3gIUfHRln8jzufPmg0fc9xqzVG8r21P3Gq7h+I3TLs0ptO2Qijk6A33by8060u6e2Ycq4IlCLgHTt2tjGQy9w0c+x/2njJDpWMpXan/Gl2X6xueFOoenyYYfte/AXFA5Kc8uG5a0HizBabno9tNOQN6qWyQS2JZVy3AiObh90w0LTjY9iQ1jK+uXFiyOKHXW3bqGr1/YhoLLcPqx7pSZXrqOG/cYT+zeMjaEf3SA6fmVANyjNrjeJ9yrH5aey4cxvEw0NU/+/f5iy0zemDZ/7Jj/YAg18/iOUmTYliY9OeVIEahCIKsu1aq9rSDQU6OdStzRUUgvVjUCQTVHuAHXTi7OA+8K1w/Y96gwKB6XZZYHFvctvpHuW30xDhQ3UnxtHu8/cn/acdWBDNpij1hsnZkpLEYiKgMi+ly1zV/bdvmxPrKU+ySNXiccCxV3LbqRxuQk0eWAKvTq4mjYU1hm5kjy4Sjm5Spoblni9KgKKQDoRkLEHGtOhYA1nuLG1HKvjMva4cg8za8+++gT9YOHZ9AxfD97sGDp887eyqdUdqmOHFxouHQnXM4ZJGdC3773CXjxoXMIQsLW4gzVsdecJOs6md/ZXb8JwUnZSj0DcE3ScOz+J/ZdSj0zCG4AvwbcvrbXX/dDLZbvh2OLVrfa5vR5LoTjCE/Nb6Jw7TmdzT6Pnza99+rd01t7fpt1mvoFfzHF3dS9ONE4RaD0CXrKPWnEmM07Z95OrDP8MUrlq/XPWGhSBpCHgNfaE/e7wGkeuefpS0vdz0p5u8vnBxyGSLe5QEgcHU2tQhSLxJlL/KQLpR6DSw5tqyLe4tHgYxT2D/Q3sv2vFSzpHqYsDAXwJDrL56X4pjqPOpNLI8eT7t4v+r2ZyDl4xWf/doh/r5DypD075agiBdsm+ylVDj0cLKQJdi0AjY4+OI13bHdrfMLZ3XnViA10m6noGvQqN3nQHAnEsK+7mQHFfJbyzE6/BmBHws9/pFx9z9Ykih+1zXg7b6dQpAt2GgJ+M+8U32n6Vq0aR03KKQHci4DfG+MUDBR1HurMvtL1VosEdFWcr64vY4g43Yk3eyzH6XxFINQJxTNAPTTUCKWYeZ7+wvcx1vWjXc/PJ29DjrzzgQkFbcLw6RaDbEGiX7KtcdVvP0fYoAs0h0MjYo+NIc5hr6QoC9jb2ygp6hq/mYKOuoGs36TIE4tjibkMCu+cb2RGV+4l8RZq6mBDAWbAgm59I7xWHM25v3/af+GRsrYoQhN+27an8YXXsR4xewUbb2X0ItEv2Ra5ylKMF0/egA+Yeaa4Iq1x1X7/SFikCYQg0MvbIOCLv5yxlzThy4Nyj6OQFp+v7OQx0TR9FwJ6EOyvoUBKnThHoJgRqZzTNtwwSsin75Q4p2ER/kX0cK/YO6diCqTPPBIUZtywZNmfRsb0MX7ZdbaqxodMEIUyQbSVtbtgmjZc5zqyJc8MS716BBbRN48w5trVj5RyTiEa1uOOHiH2O3w279XdbOKoZiAS2O3Vy3AiG9ci+K0NuOKh+1LN+ZJAm9I2rZls3vIHG5weqGpurCT43bn2FIl4TpYbk3KcKjQ5AQGU5ABxNqhuBqGOPLffyfn505UI6csu30cwJc6r12vmqkRFu3HeyG45AIlVZVI75rbFqDQ1+8Qew8Unjvv4Z8/wGv3kxlZYsp74PvZ1yO26VqmeqzPYmAlFleXQm1BxO+FGMyT48VtA3sBeHAyLHsHcn7ZKu1wYR4IdstLXvPw/W7coOLynEJ8XhxXwva1iHEjecQ8NWN6x2e02ckRfa2KPkdduHNu/O2tr3mn1QNQkfAhrBAnxAQ36QGZlqJXqjCHQAgaiy34xMSbPuXZZlWVjtmFSS1OCrW//R899F79/xk+ZjWiNyHlybpioCikA7ENhtVpH2nzdqcxof7eB+8vB36OrFvx7zni+/n8tmT/Eh/Zt3nxX6eyCoHfqODkKne9Oqq+Ry7hxNlXtdQe/eB9+jLYtrJgftDEF7qpH2BfZnJxjnnlh5ayf+mCBjcu6aPxs107Qfr1L3GZbwFd3LVNpo3vaYSsMHDtd8HRiEoMRpwso0OsH/+AdVXGNDu1upclxBvFmZalYW3PqxtfX7h11Jz6x5gr56xxn8whh9ZbRbztvdKTtZn8pyJ9HvrrpFpr92x6dph+m70tRxm9ArG16mR1fcR5/b+xu0+UZb08eveysV+c+VaSnr/3sg2ju+2XEprU9E5ZiouHwFDX31/4jGj6NxZ/+LeZSD5/2CSk89T30fPJ5yu2yf1serfPcQAlFlOa4z6Icytoexx4/6t7N/o+UP4PvN2Sd5cs7sqYsbAWxrDzZ/Vp6co96kmGJpxIxM3LgpPUUgDgSalalmZcGtf8fpu9GsiXPNMRR7co62qknEOJ640lAEWouAyHSBCvTQirvppiXXmivCly26iGZPnEeQczhXpqVss7Lf7LjUWoSUeksREE3tYlqNK8vICrqt4b2lTChxRaA9CMS1xf2GCrvz+fos+9Glkfa0Q2tJKAL1mFepJ28rm+tnLsYvvpW8KG1FoBkEmpUpvz7vF+/yateP1TY4O87OryYRbTT0XhFIJgJh8ityDu5dmQ4rG7XFfuOPX3xUupov4QjINnaxgQ52KxP06vb3hDdB2VMEoiIQxwr667ky8TiU9DorLPFyjcqX5usSBHDm3Mt5mT+rJ68Xzbji/MzU+cXHVa/SUQTiRqBZmfLr837xLv92/dgKC2fH2fm9xgQ7Xe8VAUWg8wiEya/IOTh1ZTqsbNTW+Y0/fvFR6Wq+hCNQMbNWXTUHu/nKNEYm7wlvgrKnCERFII4J+n1c2b3s5Yp7Px+VL83XBQjgDHqw+bPhaitxPi04b3tMpeF8m5qvqz4WvUkxAs3KVLOy4Nb/yIp7adnaJca6As6n2g5hNd1mI6L3ikDyEHBlWjiE/J647Sn04trnCXIO58p0UNl6ZL/ZcUl41msKEZBJuLXFXVbQ2V5fChukLCsC/gjU/kryzxeUsoWViMNH32D/dfa3VuL34+un2X+O/RWVuCReJjNTq9nR5Mm4VRcHAtC2Cq2tUBY3WNhAA7lxtBtrW/fT4v7YK/fTolceor5cPw0XhsyZNq+8cfDmRwM8p8F8nR//ccRHVWIRR10x01A5tgAV+WvU/GCzsuDWfwxrcX/fjp+I1SSi1Vy99UBAZdkDFI1qGAFXpm2Tpn955nLCO9zvPY+yT61+lB7mSfzTry7ifAO+vweCGGx2XAqindQ0lWOiwuNP0/APf0OZTWfQwGdPMY9q6Ge/p+I9j1D+LYdS/pC9kvr4lC9FoIpAVFmOY4JerZRv7mD/X+z/xN52MLP2JfZ72JE+97CT9dlKXthUP4F90MT+EE7/O3vXoSxsr0d1Pf/DHl+4ochFnB2275HuhqWMXO10fPEOsileT17Xhrpd1r734jEsXXjHNYxnO2833kcdQBLY9tTIcbN9LGp/HpuvwEpCsp4yGTVvhrU057KwoFl2Ipde5aGSpHZcGWsHXcoLPb3Gh4DKcnxY9gqlsXJc+9vAlVfkh+IhKIYVhzxYRZdxQsY7uY7mq/19IPFh17johNWTlHSVY/7d+fCTNHzh7ygzbxYNnPFB82iGf/knKtz5IOWPPYjyh+2blMelfCgCvghEleXR0dSXVF0JOH++2KME4nbyiPeKmsiRC9n/mP1lXhl84mBf4VUrTe2uW2CE3eKLtJ8NcpT1S+OONoa00Fo7vIYOnncMmy0bYjvKGyw7yuPoDXP7jY3yqHmxCr/HrAN8baqH8Sj1RLW9bH9QAG03PKbRGqEI1IEA+mOQXISRqqc/25Nj0M1msrxDxFsmF69+jC548H+MIjfbZvk9y2+mId4Bs93U19MRW5zIK+A3GwsNUPqEc6U4noKdLsvXLaVz7/2PMTaO7fbID3Y7zv5hb8frvSKgCLQXgbCxBenYESdjwvY8JrzJjAk3eo4J1z/3Rzpo3tG0aGWBtp+ep9uWDtNPH1xv/R4Yz78H+szvgXpa6r6T3XA9tDRvShAoVraxeyiJI9XinpKHqGxGRWDs7CpqSe9893D0g+xPYz9UydLP1wvZ78x+90pc1As+ykZdQZ/KeVdFJeyRLzUrbx68NxWFr99BNsgXTN+DPnD1IWxIBStfZYcv42ft/W2zPc3+cS20vn7HZ+lnx95Md75QoDOvf61GrT863VcPmUT7zOnnF/2NFCXv3nP6TF7XfnKOcvTTY66nB1++O9De+r3Lbw1Ij2Z/VdreC9eoX/gSiEXi5RgrP5icB8lF0I9NkbFG7AmH1b311FfYjvFx5rG6Nsuj2DHfZcY+9N4/Hkgj/AfnN06YRP3XFgRUltsCc1dUEmVsweRcxp6wMeHMvb9Fu8zY3/wOgAK3p1YV6Kzr13j8HtiIfw/06YfwgF6kcswr6Pc9SsM/uYoyW82jgU+cZNAavuyvVLjpHsodvh/1HXNgAIKapAgkA4GoshyHkji7xR/lwJHsn2f/14rHPeKQ1koHJXUvsP8L+/0jVDTAefBjXvxGEcp0ZZYw+6QT+ibSDtN3rWm7a+NUEoXWkfPfTv25vFk5x1cW2yGMFXVMQl5Y+xxFyduXzRoFNK4NVfA1Pj8x1N46vva7Zf3aYPOq94lHIHVyjH6P/h8kF0Goi4w10p/D6p49cbaxY+xls9wrTvgUWernM6VHzX+HRBuZw/l3+yNeNVFvFIFaBFIny7Xspz8UNLaMz000coxdaDL2hI0J9/GH8QH+HXA7r5rPmcQf03nl3HvcW6+T8/R3H2lB6+S4oiQuU7OCrlrcBXi9dhcCcU/QcQZ9K/afZ39/xf97JQ5prXAvMFFM/t9W8c/x9Xr2Yav1Z3Ge1ZbHh4SedWH2SW3bpgKSa+NU4kFr9sTNTNDPLqnE97MyuHrySh1yFb7C+Mf2XC/n1wavvBqXSARSKcfS/11E/eLdfGH93c1vh/3qkHjIlJdcecXZdEWWRJ4lTeIlrFdFwAeBVMqyT1tSG+03tmw0MMW0yU4PGxOgGBZucKQ8LZcxxkRa//zirSx6mx4EWibHpYqZtarmdmBSsYNOouE9PTgpp4pAIAJxT9BR2Vr2P2J/RsVfUInjS0vcY0z1fPZ3s7+F/amV6+l8DXLncCLeOOLnBWXu9rQw+6S2bVPBwrVxKvGg9SKvjMP52SWV+CHW1F5PXqlDrsJXGP/9rD3ey/m1wSuvxiUSgVTKsfR/F1G/eDdfWH9389thvzokHjLlJVdecTZdkSWRZ0mTeAnrVRHwQSCVsuzTltRG+40tawaxnkFG54Q0LmxMgDZ3uIF8+TSljDFSXq5+8ZKu11Qh0Do5lkm4bWZNVtNl8p4qqJRZRcAfgTgm6G9h8n2VKnAf5P05iTcFq/XbhJAc5PRXLb8mJH/XJuPcWZAN8nXDa+nRFThBMOpcG6eSIrSuXfxbVio1wjbFx/E51FqHMOJxHnZTXmmPkneYlYPMnjjPnGm1qYGv9SNrA/kfKQ7T7jP3H1PWrw02fb1PPAKpk2P0+zC5CEJdZAz913ZR+nNY3S+ufdHYMfayWe4VJ/VL3UOFQbpm8aUSbWSuHhvH1YJ604sIpE6Wu+0hBY0t6wtr+Z1d+1shbEzYdeZ+bF51xJwvX/pagd6/83hn1IKeCvweGG9+D3Qbnj3antbJsdg6l1VzBjgj96okrke7W/c2u/YXXmPthFrF2eyhNb2iYtGTEPY4jdrl8cwyJhJlTmB/xZiU4AicQ8eE+8TgbDWpOIves3bQoZkVmtK97CUDJb80VnZQAyICQmvt8Gusxf1oX43RKBs1r2hxv3vZTQ3xKPV4tc+rDWMa1WMRUZVYJBCWVMgx+qOfJvUo/bGZ/hxU95OrHqYLH/w6YVu6bbMciqGwXbWssfkE3/EAq+f/e+9/mvJYOcfkHNrdo7QpgX2pK1hSWe6Kx9i2RoSNLXb6s68+RScv+BRrcT/B2D+/5KFzjX1zW/YXvnQ7vX7G3vTYirIW91uWxKPFvW2AJKQilWM2f3vDnTRy5d8pu/tO1P++sjLTkb/dTiN/uIGyey6g/pOOTcjTUjYUAX8Eosry2NmVP812pUziimT1+16+x1b5v7Nfyf5Z9tg+M5f9B9jDfYr9YvYPscd+qtPYf5L9EeyvYx/VpeKHfdTGeOXD13EogREXFrZtnbp57TShZ1/t/Fi1s7VSB4WD0kDfrdcO23WW8w5zvbK5w6tsbbpb3m5Pr91HHUASiEtq5Disr4dh6/bXQtHbvrlrs9wvH2TUlifUX84L+R0dN5AHK+a2uTTsUoGsueUlPqwtmt46BFSWW4dtWimPHTvCfhtgbBkdB0TOg+hIHmBkjzmNjHuNlEnrs/HjW+WYf8Ndx5PxP95Aub12pr73HGOgGvnHXTRyxd8ou9sO1P/+t/jBp/GKQGIQiCrLo7+64mEdE2RvbVzR6e/JWTEhF/etys0lfD2Z/absN2cvDmbcvskek/Z17O9nfzh7mwYHe9vhq3eYLXN78g607B/lQWleyNr57ck5+Aiy/2znLfNQ+w3J5gm0sLInts23mLwtfZC/5mOVD6VgWk3ScK5ObDWzcJiV+6B0rzZpnCIQJwJhfT2sLlvGkLds33yYNcSPtTH8k4e/Q1cv/jV52TaHfgYcAcFK99NsB/26564yNs8PmHsU7TpjX7Na7iVHkJ+bllzD1hq8y9vxkDl1ioAi0HkEGvktgLEFu9hkHDh2/nvovTt+3Pc3xZLXnqbz7vtv3kmzyJxZl3cvWl/vuFf+zeA9rum40vn+1FYOqmfQrc241S3uQRt428qlVqYIxIJA3L+aMDnH+e8b2F/PHkrb1rNPg0vNylu9YOIrd5Cd891mtscOOL6CN2P/2W63X5vULrqNUuP3Ub/wNV5Dy0p2rRwHIVaWrWG2rT7WxvA5h0yibaaupE9edzydd9jl9MyaJ+ird5xRNZUEulgRP2vvb9NmG23FdtDfSrBv/PNjbyRsTxWbx1K/5LVtnkuclC9WTjtJfLvGGOFRr6MIqCyPYtHrd37vzSA5xUp4PbbP7XGk2XEgaFz76iG9ZTtd5Zho+OobqfCXWyl3wO7UdyLW4XhV/bb7aeQ311B2p62p/zQYc1KnCCQbgaiyHIeSOBsJSMw17PdhfyX7V9jfxP5s9m9ir64DCGClDV++xXapsCC2i+1VaUlrxRVfzpux/2zz5NcmtYtuo6T3vYJAWba8bQz/lG2uz564qbFPPmviXKPDwW8sgCJG2DaGLXPYNA8aN2yb5zKWSHnBXeLbNcZIvXpVBBSBsQj4vTeD5BSya48DYbbPoeclrnEgaFzDTiF3NX5sizWmqxAQTe2WFveqTXRZXe+qBmtjehmBuCfomIx/hf0R7Ddmfyj7J9h/jj0m7uo6hIBtu9Rmod02iv3snfrF27y6915tCrPLKu1Vu+gumhpOOwJ+MiTxYp/cS27QdpENyFDUvJLPLW9jKXTtOL1XBBSBziAQJv9eXNllor5jJZ/Qa3QckPFL6MjVL17S9dqFCMgkXLa1o4kyWVct7l34wHu7SXFP0IHmduw/zP4n7H/H/s3s/8Aeyt7UdQgBP9um7bZR7Gfv1C8+CC6vNoXZZZX2ql30IGQ1LY0I+MmQxIt9ci+5QXtFNiBDUfNKPre8jZ/QteP0XhFQBDqDQJj8e3Fll4n6jpV8Qq/RcUDGL6EjV794SddrFyIgk3CZlKOJlcl6SVbXu7DZ2qTeRCDuCfoShvE29kdVrkfzdRP2MJX2v+zVdQABnDsLsnOOM2btcDhP1oz9Z5tHvzapXXQbJb3vFQTKsuVtY/j9O4+jFetX0Jqh1bRy/UvG9Bl0NSyYvgcdMPdIc0UYJtGWrV1Cx7ECqMM2P54KbL84aNywbZ7jDCvKv7j2eWNHXXCX+HaNMVKvXhUBRWAsAl7vzTzlWeZPotN3P9toW3dLQQP7KQvOoIPmHm3GhunjZtLKDeVxBPJtO5H3uMaBoHFNbafbyPfIfWUSXt3WjmbLZF1W13sECm1m9yNQO7o23977mMQO7O9hf33FY9s7tKsn3XW1ciloQq3HljkeVq2ZlFozLHaamzfoQYOPsfafx9Mb5vZVbSXjR4RoqHbrsdO82nTitqeU7S4zE3f52ExnBQ1V++tqF937aUVVYuFduqOxqZZjt7+7YRtZWxYQX5atcG3H+ME9Uhyigfz4Krn1I2tpXG4CFUqFGusNqP+ldUs9bZvf8PzVdP79XzEr72Lv3LajjhUziYfMqesMAirLncG907W644OE7ffmG+a8iY7aEvom+g27kkd4RxgqJG2TipLHpoPt62V5x/v3IHpi1cP0fw9+3RybaXYciDquCc/delU5ZiVxv/wTFe58kPLHHkz5w6Dqik34PbaYhs+/lDKbzqCBz57SrY9f29VFCESV5Vb8asLZ84PYH1zxO/EVE3eYPft39kl1qf5hHwVUebFK3qAf//LyfWTlffS+HT9RndzvP+cIevNWJ9WYXMH2NzGjEvZDHHTxVbxPvnoyM+uGN7ASmh8ZM1CgJT/qf/bIebTjtF1pj1kH0Ln3fJ6WrVtSUw9obSiso/H5idKkmo8KbvvccD14VCvokZuoA0gC4UitHIvMiSmjILnyyvuhnT9HW07ZqUZxEmTt6dUP0wUP/g/hHKltZs2rHkywJa9f/euG17LMTah+UEMfENlSmUqeRKgsJ++ZtJojr/HBfkeLnEo+ec/fzR+1vcaFnz7y3THv52W8W2bGhDljPuhBqZzQl3bK+CDheq8Yx2yFcG64XnppzK9yTDT0s99T8Z5HKH/8oZQ/eC/zGAtPPEvD3/8VZWZOo4EzT0vjo1WeewyBqLLcigm6QD2dbw5hfzz797DHdnrLeCGHkuVS+8M+bhjxMoVZla/d8Wn63mFXVM0yYRtsmOml3Wbuxy/SPk+W8NKGubev3/FZOpK1RL97+4/Qs689Sf9x04eowH/isE3uzL2/RZtvtDV94roT6HN7f8Pcw/wTtM3CjAvqgR1m8AjN7VBIs3rDSkMCttC3nLxdzVd/oa3XaAhEHUCiUWtrrlTKscicn0kzW65EjvzywqY5VrywUn7P8purZtJgOu37h11ZlWfIkjjIXJB5JJhU+959X6QVG5YTjpH8297fZBlsj3lG4VGvjSGgstwYbmktFTY+iNzKmOO+591xQd7FeP/CbJr9fn52zZO0DX8UvOThc0nOnOv7tzU9R+WYJ+iXXEnFhY9Rnk2s5dnUGlxx8RIa+u7PKTN9Yxr4d6i/UqcIJBuBqLIc9xn0ExmW77C/n/0y9j9gP4n9p9mXpYlv1CUbATGrgomvbZYpiuklv8k5WiwmXoZpmBa/+hhN7N+ILn7o2zWTc+TDD4TLFl1kTLWAB7mHeRekYVs66sHkAxP7h1bcTTctuZYeWHGn8Rc88DWdnANIdalBQGTO/nEM5u3+Lo0ROfLLK9tRcY3LPBJMqk3u39jIGmSuLIN5YUmvioAikBAEwsYHjDVwMua473m7GRhj7Pcv0uy4+/gj+bTxM8yHO33/2sjpfUsQkHPm1g5M7simqpKktaRiJaoItB+BuCfoP+QmzGH/I/a7sZ/JXibtC/leXUoQwHZYMZMiJlbEpJKE3aZEMaMiZV3afrSQT+hKGQmrqTQXNQ2nGQGRDbcN0t/t+Kh57XwiP3acTVPqkXySJvEi/4iXOMmjV0VAEUgOAmEyLpwin8h7WBnJh7Ii/4OFDYaUV5rUoVdFIDYERoplUjVm1iobc0XDe2yVKSFFoLMIxD1Bx4T87ezPY/9AQNPO5DScVVeXUARw/lS2rOEeTkwqSdhlPYoZFSnr0vajhXxCV8pIWE2luahpOM0IiGy4bZD+bsdHzWvnE/mx42yaUo/kkzSJF/lHvMRJHr0qAopAchAIk3HhFPlE3sPKSD6UFfkfyI0zpLzSpA69KgKxIVBZJc/YK+gyWVcza7HBrISSgUDcE/Sorfp/nHFa1Myar70I4GwaFMrgrCnMLkFpG86dXbP4UoJppSDTSyPFYV9mcTZOyj6y4t4a2nYh1AVt7DDVAh7kHmWQBn5QD87aImy70fT2mI6z69Z7RaBRBETm/PvzqFzZcmTX5/Z9N1+YzEGu/MwjeZlUA8/qFAFFIFkIuHIv3Lnjg4w57nte8uOKMvb7143blXXB2GOGW4dNS+8VgWYRqG5jz1vHq/KVFXTd4t4svFo+YQjUzm7ax9warmoX9k+1r8rQmlKpXCq0VQ1mEO2u+DJ++BZvpbuX3cjnTi8imGURLe6NmCgTulBCN2/SfMK5dmiOtWmJqbSfP/I92mHaLlUt7svZ3JNoeGclC2oqrcFnG6VYVCUWUWi1OU9q5Vhkw5YFu7/bOEbN6+Y7Zv67aqwyYKsqVsOkHj8zaQtfup1uXHINYcUMSqb2nHVgjRZ3mze9TxYCKsvJeh7t4MaVe1vG8e4UJ/lG3/O172IZF2BR5U+Lf10ZK07hd/KB9NSqR2jrjXciSdty8rYEBXHbT329jg0CcIxXlWOiwXN/SqVnX6C+fzqRcgvKOztLq9bQ4BdZ3RWvqo/7+mdiRFxJKQKtQSCqLI+O1K3hw4+qTtD9kElQPL6wi0IZfJUX2+Rg0U4rh4eN4jZh302X+HLeUbphYayU24rnXLphfNn16n10BKIOINEpti1naifoQMjt327/t1F0+z60tkOBk8gs8nrHjXCuspIooSf1eNWfYe3vongO+d08QkOvyURAZTmZz6XVXLnjgy23dppfPPhDGlbFveTfTbNpoqwbRpy6xhFQOeYJ+jcvptKS5dT34XdQbof5BszSmrU0+IXvmfuBb35WPw413sW0ZJsQiCrL1j6RNnGm1aQCAXxZxyq32ETdgr+On7zgdPN1HA1A2gtrn6P+XD9vex+iTSduVl3pdu2V2w126eLcm22fFXntCYY9OXfTELY/GnilI06dIpAWBOy+D57d/m+3w+372UyW7uKdLiKztmxB2zJWwKG3AUdDsAJ+7dO/o8dfub8mzq0/l8n70uSXjM2O3isCikCCEHDHB5FtvINh7lRsn8MaCnbtQEncMfPfbXbYPLX6UbbYcA/HLTLjw0Hzjjbv/j8/cxld8tC5tNnkrarvbTRZaHqNPTpOJKhTpJ0VUQQn29rRHvse59DtcNrbq/z3NAKd+oWlK+gJ7nb48o0XuGtnGXbQf3rM9fTgy3ePScNXdtteKlbyxF65TDL86KJsOa/aVU5Kt4j6hS8p/Fp8pHoF3WpHXbdYzcJHM1dmRbZgx/y9fzyQRvjPlVWxbezKoMprXY8gsZlVlhP7aNrOmMi0l+3zLO+U+f5hV9Iza56gr95xhtmNIwwGjxn78dhzq+/YI3bXhZZeG0NA5ZhX0M/+EZVWrKL+T76XsvPnGiBLQ8M0eOa3zf3AOZ+izEB/YwBrKUWgTQhEleVOKYlrEwxaTSMI4Mu7bT9ZaMBe6vj8RM802zaqa69cyvvRRVl8wZcv/JJfr4qAIhANAciOl8yKbMGOOfQ9wLmyKnGuDKq8Grj0nyLQNQiITHvZPsd7e9bEueZdjDHCdsFjRh9/0L+5ZkKPsjL26HvdRlLvm0FgVElcRTEciIkWd9zLCjvu1SkCKUegUxP0Gxm39SnHrqvZ97KJKrZOvdIAhthGlXwStoEKK2vn1XtFQBGIjkCYbHnZMRdZRS0qr9Gx1pyKQFoRwDghcm+PGV5xdhtlfJB8SJO4oYo9dDu/ne7Ga1gRaAgBmYDb29izvBFY9gKrJveGYNVCyUQgjgk6tpRG9YLCMXzzggT0mjwEvGyiiq1TrzS0QGyjSj4J260LK2vn1XtFQBGIjkCYbHnZMRdZRS0qr9Gx1pyKQFoRwDghcm+PGV5xdhtlfJB8SJM46LbwcpLulaZxikDdCMgE3Vo15+3Co6voagu9bki1QHIRiGOCvoqb90qIlzzJRUI5qyKAc2pir7wayTewl7p+ZK1nGs6o2fZSEYaJFmiHFudHdzSv2lUWrPSqCNSDAM6ge8msyJZrx9yWVdQj+UBHnMqrIKFXRaA7EBCZ9rJ9/siKe2nZ2iXmvY3xwHYI+48Zw0bxpFeZ8m+A0THFpqn3ikDdCFQm6Bl7BR1E2MQaXEkm8Cak/xSBdCNQOwo31paD6yh2Qx152521J5VL+YEMrazQCO1lkxllvNL2mHUAnXvP58m1V27XEUTXfAm1M+t9xxCIqsSiYwz6V9yzchwkWzc8fzWdf/9XKnaMTzVa3MV+MVa5xN6xK4NBNN28/o9EUzqJgMpyJ9FPXt0i04+uXEjv3fHj5l1+2aKLzHb1Y+a/y2hx93q/w/KD35ghNL1+L+g4EU8fUDkm2vDpr8NkAA3818coM3lSFdgNn/8O0boN1P+5Uyk7e5NqvN4oAklEIKosxzFBT2L7G+GpK3/Y44s5FMOIc8MS73XFapqt4EVsJSNvUFo5vdZ+uU3f5cGlZefV+84gEHUA6Qx3gbV2nRy78iJhV24QxipWrc3iYY4Za8d8bL5aWbcRlvokzq1X4vWaTARUlpP5XMK4cuXODYeV90oXGnJFHvu+HC7wpVTzu8F7bKkdM1w6Ok4Azfhcr8txibevD372GwbQgS99kjITx1fB3QA76GwPvf/TH6Ts3FnVeL1RBJKIQFRZHp25xduKCUxuc/auvYP7461GqQUhgK/aMJfWiG1SlIXZJmhnhQIYnDGDuRT5ir7jtF3NPXc0w4KYUhN+3LDE42p/MEDY/giAsDpFQBEoI+Alwx/a+XO09cY7Gfn0km0bOy859JI3rziho/IqSOhVEWgPAl5yjyMseP/KO7deTmyaz736FB282TF02ObH01ZTdqAlaxbTnElbGtr2Bz6pw2t8cON0nBC09NoSBGwFcO4WdwnrFveWQK9EO4NA3CvoM7gZF7E/2qc5lm0Enxydi+6qlTd8zfayZY6VM9fesQt5UFmxdf6J606gf9v7m2bS7r6oXXoaTh8CUb/wJbBlXSPHXnIotoqfXfNkgN3h/fijV18CH42y1AkEVJY7gXrjdXrJPahFeXf71RpEU97pz615St/nfgAmIL7X5bjEW9gHsZWd3cDXP00ZS1Hc4DkXUOmlV6j/Y++m7DZYG1SnCCQXgaiyHIeSOBuFczmwMft92MOM2lHsP8h+Efu3sFfXJgTwNTvILnLQpDqoLM6qzZ44j2BH1bWb3KamaTWKQE8g4CWHYqs4WLZ1ct4THUQb2ZUIeMk9GtqMXfEgmvJOx465oN8FXQm2Nio9CNgr6Fln6tJffueVhlUhYXoeqHIahkDcW9zfyBUez/4u9kX2z7D/C/tX2Z/F/o/s1bUJAdvGqV2l2C6149z7sLKwhXrXizBnr04RUARahYArh2KD2I2X+qPItuTVqyKgCCQTgVbIdxjNQR9b5slESLnqOQRk+zpvZ+cVyNrm91WmMjpBr8VFQ6lGwPkM1XRbJjKF5RUqML2GLe9wD7Df3dzpv7YhYNs4tSuNYps0rCxsoUahY9er94qAIlAfAq4cig1iN16oqkwKEnpVBNKLQCvkO4zmgI8t8/SiqJx3EwJVE2rW1nZpX0Yn6AKFXrsIgbgn6I8xNttX8FnI14+wn8v+o+xfYK+uTQjgzFmQXWRoWPVzUjZHOVowfQ86YO6R5oqw2EJ9fMX9dPKC01kDLDS+qlMEFIG4EYBsQYZtOcQ5VNgqblS24+ZR6SkCikC8CMj7F7JuO4QbtSuOseTDrzuTdp6+J9t0GP3ZB5ryTocS2KDfBTYveq8ItB0B2eIuCuFsBioT9NLwsB2r94pAqhGofQM035T3MQnsNbmY/R7sr2E/jf0Q+5PZ/5p9mDuIM3yWPcpvyv4E9lewD3KHcOK32C9g/xz7L7O/mH09LpXKpfAyx/kycbZpE2ht9bNnOmaLkBCoXFF2Q2Edjc9jU0TZrR9ZSwO58fSP56+hfTY9uCbNrhe5bb7sezetTFn/Jw2BqEosksY389NROa6nr4/N623eqFAaYbkbV4UaW1H7swORZBt1QL2UrZnZrbdKWG+6EgGV5fQ91ijvbvedizAm3LWyPnZMWbF+OV3y8Lm0fN1SMzmHZvinVj1iLEMUS0WnfO3vi/Qh2T0c97ocF59fRkPfuoRoyiQa94WP1TzYoUuupOLCxyh/wmGUPxBTB3WKQHIRiCrLozO7eNryM4vM3Xy/Bfsd2D/L/mX2URxmhFh9/zH7yyIUmM95cLb9h+zfy/4w9heyx4r9tey71tlmU/afcwS9eauTakwvHT3/XfSO7f6J9pqNbx5lZ17i7vkdSXSuD758t6eJtoPnHW0mB66Jpz1mHUDn3vN5WrauvMKHFz9co6beHHY0qAgkGgFbHnHeE1tK/UwjuXkhq+/f8ZOecgU5+snD36GrF/+6hiZWvFzZfnLVw3TBg/9Dbv1e5fklkWg8lTlFoFcRgGzu7iHfIrMYP6DUzX0H22NF0Jhy+u5nm3O8+D2QzWRp5oQ5Rgnd3ctvMspf3fFD6u3V56HtTgAClTPotvb2Kle6xb0Khd50DwJx/0L7T4bmG+zXORCN5zBWxb/oxIcFS5whbAX9a5znWPY7W8R+xffQJn+UFRd229GVtzDm3HSsgokZNWyB/fmxN9LCl24fY3oJaV8+4ELaduMFNSvtLj07bNOG5lhx+DoPE23Y9v6Bqw+hAv+JQ5qYa/n4dW81L/ugvGGm3oSuXjuDAP8gi3tsaFdDOiLHYTKDybRoSHbzium0Z9Y8QV+94wwjOwKWK1dF1r0pcrjbzFFzatjCes/ym8fIf3D5UZ6kPr12HwIqy931TDGpxuT8nDtO9x0rPnndiXTeYZeT35gi799nXl1EP3noXPrYrv8ZmlfGr+5CMz2t6XU5Lj7xLA19/1eUmTmNBs48rebBDV96LRVuXUj5I/c3viZRA4pAwhCIKsujh5HiacAXmMwkD1ITOA5prXD7MdG/OoSxco74IDfAifgxL36joMxJS7PNphw1/x3UnxvwNKuGSfTFD3078uQc7bRp2+0WMy8T+iYaM2tumphrgSmosLxqos1GT++bQCARchwmM/aPWzevmE6DTNgfxIAJwrZcSVxZfkbNqWFbq5/pNf/ycW+gauIpalFFgM0bMwjyPsY1Ve/kdj1AjCVhso7fBLMmzjWr4V5jirx///rsFfwLoRgpb7vap/WkHoGWyHGpUCwD46Ekjqpn0HGkS50i0B0IxD1Bx6rb6JLrKEa78O3K0WCsd7OZ2jKHIsJ4wWPl3s+dxQmrLf+8X8akxovZlNkTNzMsStjltxHTS2G0xNyTXZfUI2lu2CuvHaf3ikADCCRGjsNkxm6bnVfkxY6z83rJkcTZ+Zotb9PSe0WgAwgkRpY70Pa6qgyT9ai/CYZYn0XU8acuBjVzLyPQGjkeqUy+PZXEVT5Wq5m1Xu53Xdf2uCboMKmGCTgm549X7hGGxyQYttB/wz5J7hxmZorl5yWJuSi8iNmUF9dCLx6Z86le5RoxvSS0XXpCS8w92elumhv2ymvH6b0i0AACiZHjMJmx22bnFVmy4+y8XnIkcXa+ZsvbtPReEegAAomR5Q60va4qw2Q96m+CflY+GXX8qYtBzdzLCLRGjmUF3WOCnumv7AYbUi3uvdzxuq3tcU3QP8XAnMEeK+jYyn665T/K9wew/zj7VrgXmegshzDCr7Jf78TbwcFKHuSDX2MnJv0e51jF1NI1iy+locJgNWzzjjOoZdMs0Qcum7YXrXXDa+nRFffZSeZcrJhreWTFvSaMev3yNmoupqZSDSgCRImQ4zCZwblRcW5eyAtMp0EmIK+2Q9iWK6R5ybRLU2gElx/lSfLrVRHoIAKJkOUOtj9S1RhL5N1vF7BlHb8JgsYU+U2w+8z9zbs8PK+OFTbWeh+IQGvkuLKCnvGYoOsW98DnoYkpRSCuCfol3P6L2R/K/vvsERb/S76/lX2rHGhDc7vt3sSBVtZp19WRe5xjhcZWKHvZeupOdM3Tv62Gt5/6ehqXm0C4Ih358tnR86phDNu0vWiNz0+gf9v7m4a+W88vHv0+bTt152q9QXntc7lhPGm6IpBkBMJkxu7rbl6sYv35mctor1kHGblxZQ7xf3nmctYzMc5Xpl2atlz6l9cz6EnuU8qbIuCFAMYSeff7jRX5XH/gmCK/CXDFuxzjD+6h6NWlWc6rY4XXs9C4NiIgK+ieZ9B1i3sbn4RW1SYEMi2oZ2umeQp7XP+V/XL2R7N/lv1D7MMclMxtU8l0L1+xMv939tguDxrnsJ/L/gPs4eazf5D999j/mP0b2X+HPTS7X8s+qpvMGVezo8mTcZsOh5Uz/DgXh6/r9mRgpDhc1+Rc6OAaRHtsWm09Nh9j89byaNep98lAIKqWyWRwW8NFR+W4nr7u5oUmdpwScuUZK2O2beMgmXZpQg7Hllf5q+kxXVx4+KcAAEAASURBVB5QWe7OB2y/Y9FCL1nHeADnjin2bwR7zLDvUc6tA3HqOoNAr8vxyK330cilf6bszttQ/6kn1jyEkTseoJFfXU3ZHbai/g+/vSZNA4pA0hCIKstxraBL+w/mmwfY78MeEiQa3Xfh+/9mH8XtyZkwMYeH+xZ73H8RAXabst/c3JX/LeYLJuNYNV/I/tPsT2Nfz+Scs6fT2S9etMB+8ZbD0VfOXQSCaI9Nq63H5mNs3tEPCm6dGlYE0oxAPX3dzYtJuBsHObIn58AmaDdMtPIqf2nuY8q7IgAE7HeshN2xAuOB15hgI2in2/dC086r94pAxxCo2EEnjy3umaod9OhHOTvWDq1YEYiIQNy/1L7K9X6ePSbV9pnuv3H4E+yjuOs5U9DK/skeRFBmN494jVIEFAFFQBFQBBQBRUARUAQUgbQiMFTeDZLpq10MMs1RM2tpfarKdwACca+gv47rutyjPmxz38QjXqMUAUVAEVAEFAFFQBFQBBQBRUAR8ESgNFxZHZfVcjuXTNrVzJqNit6nHIG4J+irGA9sQXcdVreXuJEaVgQUAUVAEVAEFAFFQBFQBBQBRcAXAZl8949dQdct7r6oaUKKEYh7gv4rxuJr7GezL7EH/f3Zf4P9T9irUwQUAUVAEVAEFAFFQBFQBBQBRSAaAjJB91xBL5/WLVW2wUcjqLkUgWQjEPcE/f9xcx9l/xx7KIh7mP2N7G9h/2X26hQBRUARUAQUAUVAEVAEFAFFQBGIhsBQeYu75xn0cf1lGoND0WhpLkUgBQjErSQO0vEh9l9kj/PoE9lDA/sT7NUpAoqAIqAIKAKKgCKgCCgCioAiEBmB6hn0/rHTlsz4cWU6PEEvsb30TC7utcfIbGpGRSA2BMb29OZJ/xOTOJ39thVSi/h6LvsLK2G9KAKKgCKgCCgCioAioAgoAoqAIhCOQNAW9/EDo+U3DPLS4PjRsN4pAilFIO4JOlbOz2D/Xfa3VjDZj6/fZg/b5f9ZidOLIqAIKAKKgCKgCCgCioAioAgoAsEIBJhZy+RyRAOsPG5wmErrNlBGJ+jBWGpqKhCIe4L+z9xqbHH/pdX6q/j+fvaYtOsE3QJGbxUBRUARUAQUAUVAEVAEFAFFwB+Bkqyge2hxN6WwzZ0n6LRhgz8RTVEEUoRA3Ac1+BMW3eXR/rs5Lu6PAR7VaJQioAgoAoqAIqAIKAKKgCKgCHQNAkF20LmRcg69tJ63uKtTBLoAgbgn6D9lTLCK7roPc8TP3UgNKwKKgCKgCCgCioAioAgoAoqAIuCLQGUFvWrz3M0o59B5i7s6RaAbEGjFqjaUxB3B/rYKQPvwFefPf8L+W5U4XHBWXZ0ioAgoAoqAIqAIKAKKgCKgCCgCngiUKmbWqA8bdcc6rKCXOFpX0MdiozHpRCDuCfrODMM9FSi2rlxf5is80sRBjtQpAoqAIqAIKAKKgCKgCCgCioAi4I9A9Qy6z7RFVtDX6wq6P4iakiYEfHp6w004tOGSWlARUAQUAUVAEVAEFAFFQBFQBBQBGwE5g+6jJE7PoNtg6X03IBD3GfRuwETboAgoAoqAIqAIKAKKgCKgCCgCHUagVOJNt1Uza97ripkJrMUdbu368lX/KwIpR0An6Cl/gMq+IqAIKAKKgCKgCCgCioAi0JUIFIp8uLxyMtbnDDpNmWSaXlq9pish0Eb1HgI6Qe+9Z64tVgQUAUVAEVAEFAFFQBFQBJKPgGxvB6d9PivoU6eYdpReeTX57VEOFYEICOgEPQJImkURUAQUAUVAEVAEFAFFQBFQBNqMgGhwz2aIct7TlszUyYap0srVVCryirs6RSDlCHh/ikp5o5R9RUARUAQUAUVAEVAEFAFFQBFINwKlwaFyAwb6KZPhSbqHy2yyMdEAm2AbHKbSshWU2XSGR67ujSqtWkMj195EhcefIdiKz+68LeUP35cy4wa6t9Fd3jLvT1Fd3mhtniKgCCgCioAioAgoAoqAIqAIJByB9ZUJesBkM5PNUnbebNOQ4rMvJLxB8bJX5A8Sg9/+CRVuf4CIt/iXlq+kwt9up8Gv/R8Vn14ab2VKrW0I6AS9bVBrRYqAIqAIKAKKgCKgCCgCioAiEBWB0uCgyRq2GpzZfFOTr/RM70xKsbtg+MLfEa1Za3YN9H3kndT3gbdQZjrvKFj9Gg398NdUWPRMVKg1X4IQ0Al6gh5GHKyUCoUaMm64JlEDioAioAgkBAF3rHLDCWFT2ehSBNz+5oa7tNnaLEUg+QhskBX0/kBes1vNM+nFRc8G5uumxJFrbqLSilVEfAa//5/fRbntt6TcrjtQ/2dOpux2W7J5umEavuhyKr74cjc1uyfaomfQu+gxw1Zk8dHFNPLXW6n0wsv8NW0TPoOyH2V32tr33E4XNV+boggoAilFQMeulD64LmFb+1+XPEhtRlciUNoQbQU9u/VmRKxIDhPWIiuLy04ra3bvSlC4UdBYX7jpXtO8vrcfQZlJE6pNzfB5/b7TTqSh8y+l0pPPmVX2/k9/kDLjK/biqzn1JqkI6Ap6Up9MnXzha3/x4Sdp+MeXUekZPn/DX81wRRjxuhpQJ6CaXRFQBNqCgI5dbYFZK/FBQPufDzAarQgkBYH15Qk68aQzyGELfGazyjb3p54PytoVaSN/vpmIf/vjw0R2h/lj2pTJ56n/g8dThj9UQLv98GV/HZNHI5KLgE7Qk/ts6uIsk8uZlXMqOcU4PPLX2wjp6hQBRUARSBoCOnYl7Yn0Fj/a/3rreWtr04dAad16w3Rm4vhQ5rPzZpk8xRdeCs2b5gylteupcNfDpgn5Yw703SWLVfW+9x1HnIGKdz9MhfsfT3Oze4p3naB30ePGtnYvV9KzJ16waJwioAgkBAEduxLyIHqUDe1/PfrgtdnpQIAno8ZFmKBn5pTNq5WWLq9pG2yjy1b5moSUBgr38OScV88zc2dSdn757L1fU7JbzqXcG/cxycNX/o1KYlfer4DGJwIBnaAn4jHEwwTOnHu5zGzveK+8GqcIKAKKQLsR0LGr3YhrfTYC2v9sNPReEUgWAlgthou0gj5npslbXDq6gg5N50PfuJgGv3x+1yhLK9zBJtXY5fZ+nbmG/cu/aT+ijTcyZtgKf78jLLumJwABnaAn4CHEwQLO0UEhHGUcahzOH76vnkF3YNGgIqAIJAMBHbuS8Rx6lQvtf7365LXdqUGgji3u1QUpNjsmE/viY0+T2Um6bgMVbrkvNc32Y7T4/DIqLeEdAnx0Nbf7Tn7ZauIz/X3U95ZDTdzI9XdWsanJpIFEIZDkCfrHGamn2W9gfzv7vdn7uUM4AaevXT/br0C3xeMcHbS19516ImW2mENQpoErwkaLu55B77ZHru1RBLoCAR27uuIxprYR2v9S++iU8R5BoLRmXbmlEyeEthjay2nKJJOv9PIr5lq0trsXF6dfeZysnmd33ibSrgIBLbvL9pTBDgPeUTDyj7skWq8JRSCpZtbexXh9i/1H2WNy/in217Lfnj1/NvJ1SH/VSg3Ka2XrjtsMK4GAJseBBdtUG4TVAcSLM2GdrAscelUEFIEWI+COOW4Y1UcZu1rMppLvYQTC+p9Xn+1huLTpikBbESitWmPqy2CLdgSXnTGNiqtfo9JLPEHnhSr7PDom7TCraP8ujkAyMVlKIyNkzp8zR1G3twvzaDO2ug9fciUVbryb8ofuTdB8ry6ZCCR1gn4Gw3UB+4sqsGGifiz7U9l/tRLndcGEfJVXQq/EYTVAnNp2FST0qggoAp1AoJ4xyB67wKsb7gT/WmfvICD9zfTZp5fSyO//zj/sXyKcT8fxMbMTzfrY3TvIaEsVgc4hgPPjJHbQKyvjYdxkNplK9MSzVHxpJeEXMeS46gaHiXirO0VQOFctk6Cb4oNPlPlnLLLbb1k3Z9nXbUeZmdOotHwla4F/iPIH7F43DS3QHgSSuMUdhg73YG8b7CtWwnzIOtDhcMkL7P/Cfv/AnF2eiC/+ahe9yx+yNk8RSDACOgYl+OEoa54IVPvseT+nEk/SibUdl555gYZ/fJl5nyJdnSKgCLQPgdIrlU2x4/jYZsTV3sxMnqCzwwp6iW2owwa4cfnyAlY1XI5N1f/CHQ8afnN77UyZbP1TuEw2Q7n9y5Pyws33mt0EqQKgh5it/+m2HhyoHIcULXOqQtjvTDkm5Vhlf1vFP8fX69kHfRrCvo7Jlo+2d4YLpMFhNWDkr7eWT+XbDKtddBsNvU8/Al0tx2l+PDoGpfnpdYT3jsuy9tmOPHettLsQiFWOS8tWGHQyvG09qjMr6Jy5xCvopRcqJ115e3xm7ixDIq0TdGz1Lz622LQBE/RGXW6vBaynqo+AbZF3GqhLJgJJnKA3gtRjXOh89nezv4X9qZXr6Xz1c2dxAj6riU+/5ginpWrb1QFEg92IQNfLcZofmo5BaX56bec9EbKsfbbtz10r7C4EYpXj0vLKBH3W9MgoyWQe582LS8rb27OsHC0zDWtyPHGXFfXIFJOREVvSecmbMlvNI5yzb9RhJ4Jofzc0GyWk5VqKQBIn6C9zi7GPrPypa7T5CL84Ggy9u4NzjGpLG5v9HI6aYvl5Y7OkO0Ztu6b7+Sn3kRDoejmOhEJCM+kYlNAHk0y2EiHL2meT2TmUq9QgEKscFysr6Nl6JujTN4bmUdZWPswrzk8Z4KC9PDMVP/l5jivb5k0oHf+gG6Nw5wOG2XqVw3m1MLcnr6KzK97/GJX4KI+65CGQxAk6a4QwK+GHWXCBT4RvteLCbnflDC8EZBrktFctvyYgb+qSSsUi5d/yRj4skKXs1ptRdrcdzZX4/InaRU/d41SG/RHoajn2b3byU3BeF8q1aNSIRJlpDusYlPzn1wEOOy7L6LN9J76JsttsVv6BLyBonxUk9KoIhCEQqxxXt7jXM0Hns+aZaeXJePHh8gQ9O2cGZSZPNLyX2EZ62lxp8ZKyVnq2Z55jc2nNusyWc8sY4SPGQ6x4Tl3iEEiqFneYWLuEPQz1YSX8U+whWaLVHV/o5rL/AHs4pONgBu//oHHsT2PPs1M6gn1POfzAwDk6KI/IzZ9L2XNOp0xFMQaAKEEbJmyke2ijlbICmBuWeEOnUo/EBeWVPHpVBBSB3kEA4xA0X/edeiLrw7iNSi++TJnZrBH7pGMpy1sNkS6u3vHDzY8wnBdNr7x2PuGh2Wu76mmWz14t7/d87HjTL/iHfP/H3sNmmtawJvfrqbRiNeVPOIyyc3kFrok+26u4a7sVgUYRwEJTadlKUzwzC+qpojtscy+tWFUtYOx/8yo0XBon6CO33294x+Tc2Ho3ocb/GdOSu+9EBdZVVbj7YcrxIl5crjRSKGM/NESZKazea6OJnnOOuOrrVjpJnaD/mgGfwf6L7KEY7j72R7EXxXGb8v3m7MX188032WPSvo49evLh7P/OvmecbdIoM21j6nvfcUahBJTF4VydbS7GBcUu6+Z1J/P15HXr0bAioAj0DgLmR8AO82lgwTbVRpvx4+EnjRLLsLGmWsi6ccef3AG7Uf7Yg42Wba+xrrhkOY1c/tcxY6A7rllV1H3r8mSPtXHWUzdjWsAg4Pl8TjqOsptsTMVHF9f2xcPYpNqCranEdpT73nuc+WHZbJ/Vx6AIKAL1I2Am2Gz3m/rylJleXhGPSiWzOU8dHi2vntOEcWQUx8nKuVyjEutwvtLa9VS891HDRW6/XWPjJrdHeYKOMbD02jrKTJrQFO0if4THO9iYgrO3zbNJu+z28ym36/aU3XFr/tCJTdHqwhBIMkrnMfNbsB9gvw/729mLO5lvDpEAX/+HPX4BjmcPTRKHsu+tyTmvIFXNqj37IuWPOZC3rTxpzMPATEyQuRisIFTLxpiXn4E6RUAR6HEE3FXHqGONF2xjxqrhEcIPlqCxLsM/Dko8JgaNgV51RY0bw5Oa5ooKXVvyeT6f55ZRlrU6e/bFi9ikGr870W9wLXEfC+pfoK9OEVAE4kdAFDZmeHt7vSbFctth+lB2Wb6HeTGs5MKVXk3XFvfCnWxajT9UZLCLZwusT8bjcK4/M4/Ve/FOhQKfRW/U4QPmyHW309A3LqbiPY+Ydy126tLkSeUjbvjAcM/DPB+5nAa/8iMa+fsdbP5uQ6PV9Uy5JE/Qe+YhxNFQ/AgWs2pZaHhkJRkj193KI5FDncPYbmr/aLbL1uRuMm8NLQ0oAopAzyNQz1jjBZZbPspYh7EQ+arOY1yrpjVw4/JUJRFzPVW6elMXAl7PJ7f/bpThVTl5Z9YQxHO77jbzDi3yFlmTL+K7tIaOBhQBRaApBErLoDOa53h8NKpel5nPv4N335EyM6aWdaGATuUMOg0OUYl9GlypwJNntlcOl3vDrrFvFc/tuoOhXVzY2ATdTM4v+yuN/PEGM9HH7qP+f30/DXzlX2ncf32MBviYbf8nTqLcQXsQYYWeFfTh6NDgF39Aw1yuuLx8hMEwof9qEEjqFvcaJjUQDQH52mi+WnGRatgpjrOgrmtVXrceDSsCikBvI1DPWOOFVE15fKFnVxNnFaqOdZV8klSNl4gmr6H1N0lfizeHgPt8Mry1Hc6Nl1qkf2ByHiWflNOrIqAIxIdAkY9mwmUbmaCznqX+9725lhms6kKmeVcMzqHHcZa7toL4Q8V7Hymf5+YdPWIaLc5aslA494cb2B76cw1tcy/wyrn5gMAbFPKsYNP9iJBhpXbGLBx/JMdRNJx3L/zjLqOTpnDTPQSf5WNwuQN25+tW5Z0OcTYwxbR0BT3FD89lvWoe5tXXTFI17GT0+hrZqrxO1RpUBBSBHkegnrHGC6qa8lHHuko+oec1BkpaI9caniwCcddjkdbbOhBwn0/p5bLyKDdeSMpzw/Z2uLB8Uk6vioAiEB8C1Q9lDUzQvbiAPpCMfKxNwTl0KMkb+cstpin5Q/ZuyQcF7DAz29xhxu2Bx71g840r3PcojfzpH2X+3no45bEzyUMBtRDAB8/8vq+n/s+eQn0feadRIgsrLzgDP3zh78qr6pdfR8WnnifsHOh1pxP0LukBOAcnJo3QubE1L8/KbqKYOLLL1sCBL2KH78uCMnrGrp68NbQ0oAgoAj2PQLPjh1s+yliHsRD5qs5jXKumNXDj8lQlEXM9Vbp6UxcCXs8HKz6YfMs7s4Ygntth+5p3KH68mnwR36U1dDSgCCgCDSOArdOlV1ab8rLjpWFidsEUnUMv3Hh32bQaK7nL7R+fcjgbDtzndpFt7tEn6KVVa2j40msNqdwhe1H+wN1dsr5hTOJz229J/ae9jfrP+hDlDt6TNYixujH+kI42D533Cxr8/Hdo6ILfmvPqxedfpFKRzx71mONXkboKApP5upodTZ6M2/Q50TRbeGQxn9mZbr5mQQlOjYkjnnDD9JH7lUvK1pMX9UBxBeXzlNtxvifd9KGoHAMB7h9pHRtSL8fd3gPrGWu8sHDL4zxx/tiDKlrcLXNulbGu+NyLrMX9ulEzbz5joFddUeNcnrACi4+bXmNtVJpx5VNZ5q3s/GMf78Iir5xjFQeT7ixrMM5CEdzTS8vm1F54qWwGkCfnOEeJfpPdbDYVHnuGf0xu4du/0jtUxtXDlE47EOg1OS6tH6TBf/9fA+3AOZ+KbfV46KIrqMgrxfkTecWXt1Un1eHD8tDXLzIK1/LvOJLy++3SMlaLL79CQ1+5gM8SZGjgvz4eqs0d4+kwT56x8p3hMbL/X97XtGb2Es8lio89TQU+C2/ssvPzr3E8Vme325JyO29D2Z23NeN4TXqKAlFlOa0/wlvxKDr2wx5f+KHIRlxQOCgN5etNlzqjlG00r11O79OBQNQBJIGt6Zgcx4FFmPzGUUe9NFrBkxdN8BU0Dtp811PeK69dj023mft21VMvjyrLZcTs52PfI9UOy71cJR1Xu9/Y6UhTpwi0EoFek+MifzAzE9Tx42jc2f8SG7TDv/uLOTOdO3w/6mNrR0l00HA+9N1flD8qb70Z9f/zu1t+NnvwmxdTiU2S5t95lNmGHoQLtMoP//JPvDiXo/5Pn0zQBh+nw9b+0tLlfC7+2bJ/8jmiweHRKrhPYEdB/tB9KIOV95S5qLKsSuI6/GDNl33XDisPHFh5Gf7ZH6i0kreqV8JgdYzN1koaP/DyKoEPrcJjbOdw2Qq2+zrVd1XH/vGButww4uCCeAYf6hQBRaB+BJIoV63gSWjiqz1WMzPzZpuVyvJun1sj2SsfMzZls2aFs/AI273FuWGmm9txq/JYZ338xFMZU7b+R+VZwqXrhj0LaWRbEKj2ucXPswnSg6nIu79g5QRK4nC+XN6xxaeXUIZ3hBGbHhq5+kZWYHRvTbrNrD5fGw29VwTiRQBbqOEybA4xTpepbHGnNWVdTXHSjoNWaeVqGrrkSjM5J9Y633/SsS2fnIPvHCuLG+EJutHmzufE/Ry03w//sXLu/Mj9Y5+co16Y1DO/C/i3AfHZe3wMLT2zlLBrt3D3Q0TcNwpsjapw60LqO/6NlNtzgR+7qY7XM+gdfHzodJ52WH9ctsMKW+aw3zt80eX89WjIPy9v3QujlZ0xjQpXXW/soqNO5G/EBdbTBN1GeNEyikC3IJBEuWoFTzbNwpV/p5HLrqPspjNCx7ag52zTLN5yHxX56z6uwxhHdUwKgq4n0qr9g9+juf12Lfc1tnVeeuYFs30UV9NXYPucFUgN/e9Pjd1z5DXaniVd+1JP9BdtZDIQqE7Qp8Y7QcekFw5a3JPmCg8uIrOSzcdriFeJ+z/0dspMxabA1rvs67c3lRQXPUMltlvu5wrX32nOimemTWHTaXx2vA0OH0OzW21GfXyUbeDzH6G+k99KmZnTiJjP4V/8kYbYl4asFfY28NSOKnSC3g6UfepApwuzw2rs/LI9x8y4Af+8FbvmZvXI1aPAYbHpamwBI+zYQfdhzzM6kOcm6HpWppGKQI8gkES5agVPLs1Qe9QRxhSXZrXLNDnWVenoTaoRkP6RhV1kVvqGlXMKek9yvpp3JlqvfSnVfUCZTx8CpVWvGqYzU+KdoMsKeunV5EzQobF8+Kq/84dCXozjs9eZzTflreMfpOzcWW17cFme8Gb4Yznx9vLCQ0941ltavcYobUMi9L6IGUrPzC2KxOp67vXbsSb4Uyl/1AG83J6h4l0P0dD5vyEcDegmpxP0Dj/NMDusxqZ5VFu/FZMwbpPEVEXVPrqHHXS3TFA4lOegwpqmCCgCnggkUa5awZNNU7Tz2nE2ONWxy470uG+2vAdJjeoiBEz/iPoe5XzVflcpAyiqcV2EizZFEUgsAtUt7vGuIGcStoJutozz7h6zMs0PAxrN+z9xEmV5hbrdLrdrZRX9vsc8qx65+iaz6yizxRzK7lrW/O6ZsQ2RmVyW8ke8gc/nv4uIFzBLi5fQ0Pd/Fbj63wa2Yq1CJ+ixwlk/sVD7qrDfG9XWL5+79HJi07VKp0mbkqE8ezGhcYqAIhCIQBLlqhU82TSj2qMOBI4TbZp23urYZ0fqfc8hYPpH1Pco56v2m0oZAFaN6zn0tMGKQPsRwGotXPxn0CeVG7NmXcdNd0EZ2vDPfm+O3cAaUt8H3mLOVGdY+VonXJbPocMVFz1NpXW1q9FFPp9euPMBk953/KFjLEGZhA78y26zOfV//D1ErFsASu6GeBcCrHR0g9MJegefIoQz/5Y3GtMGNWywqYP8Ww41ApLhLS7FZ18gfGXztdnK5nxwzg5KkWAmIctaH7O77WiuhK9MQovNIeQO2oP63ndcU2fQw/ioaYsGFAFFIBQByG/S5KoVPFVpDvRTH2/hy71pPzMWNdP2Kk137MM4WhkbQx+AZuhaBKR/QAFcafVrbON8P16m4m2SB+5B+RMOM+cos9ttQX1sdqk0wnL41jdSns84FjkvTZlUfo9qX+ra/qENSyYCcgadYlYSRxtNKDeYf3/TOv+z1u1AZYSVrRVZ94XRhv7Rd1Cuw6vS2ZnTyx8iecu9MXVWAQFKNkd4Cz6O+mR5lT275dx2wBO5juzcmdT/kXfySno/r6Q/b86ld4PddFW5PdoFsI+mLXbQ8YMB5+LElTYMmnPhhZvvZdMBbNOXf1TizLk4yW800bKiGj9b5UiHMrmasvyDw/4aJ7RA276vJxzGhxctxKlLDwJRzUAksEVtk+O42x5FruKu06U3Zkyo2I/2G3OkvJSTqx2P+5rxrqKgsiYuoB6ciavJ61UecfyjItPfJ1UTxlXiDwFeliW8+LTrECJR80n+JF57SZa9npd5JnxuUd6N5j2JvmKtUtnl5F6uKG8UEPGk3u4jdnoSn7vy1F0I9JQc8/tg8KxzzXbq/rNOIyg5jtNt+I/vGgVj/Z85hbJz+Nx1Bxw+GA599+dm0tv3/jdTjhfVkuBGrr2Z4GFJqv+0txmWCjzvGL7wd/xhk82qnflPRpdHEnh1eSiwWbbh8y/l3wL8ofW4gyn/xn3cLIkIR5Vl7z3RiWhCdzJhfoR7mEKDwoU+7lCjP9LHmoAxX694dXxgwTZVcMzk/o83EE2aSHk+u1Jke4FQPIczd9jWh5Wpek22FfiLXm7B1oEm3bI7zPfkwzVL4/XjuMq83igCikAVAcjKGLniF027ZMgdm/JvfxPl9lhgVhDdMQdMD//h+lEzVCefQFk+22ebgcwdwB8bj2WTVuajoseYZJc/4fCxbccEm11x5as08gs2OcljWl00LfOUhlDln9tOe5y0sY6az6at951DwH1e1b7CyqBM3+R3I5QIoU8X2exozXuSV9Xxnhz50w28OsTK5PD+4+2SWd51VmRlVdmNJ/v2Y7vPdK71WrMi0EUIsKI0qmjljltJHFCCojhoKi9rcm//BB0f94Z/fU15RZpNhCVlcg5szDZ3nqAXH3uax0t+DvzRe+T31yPJ7MCFos2kuhxvdy/xrqiR3/6Zx/J/UBZn5XnOlFanW9zb+OQglL5m1SomXILSaWiIBvnLHxQhFNlERIGVIgx+/jusXOIuyvPKu29ZnnBHNtmGyTlPvn1pVfiUlQRs06/y8bc7as3WVPK2EWKtShFINQIiV9IINyzxcV/HjE288ya3yw5mHMAYM/S9X9LQT39vrghjW17VDNXzPJGZNL52zOAzYMakFeeDCSsvk1bV8jBjBdNWbOMU24qH+Ewe6jP18BiS5S2OpeeWGZNXddH0MLM2pp38I7BqZssar6Lmi/s5KL3GEBjzvKz+V+2bF19R7dNj+iSbXcM7D/1r+OLLTf/OTCz36SwrikN/H1PGo381xr2WUgQUARsB0eBOLIP2rig7TzP3oiiOOmRqrXD7A1RatoIX1iaYM+fNtCXuslnWUZWZNd2sQmObe+G2hWVe+Vlgd2/SXW6/XSi7+078Zb/Ev1muSqQ5vagY6gQ9KlIx5MOPbT+zagX+cRqUbkyj8bZ3c/aDt/9k+QvgyFV/M50w1FTRdbeZLSmRTLZxXmz98zXZ5pg9gskD4aMGIjVLUwOHBhSBJCPgjj01Ywq/6LAzp3jvI+aKF59thir/lkPGjF1mrIli0mqreWVYMF5gnOIzv8STdNRn6sF4w8ovwU9DNN3xKmAMts1PunhUn52Oa1UoknTjPi/pK6WRkWrfzL1hN9OX/N7B1T5tmVmT9zLONnqaZnP6V5IwUV4UgbQiIOfP41YQV8VDLDpYSiCraS2+wXGZkb/cYmrBDld8CEyaE2VxI/c8TCPXsOZ2dvkj9qcM22ZPusOOpr53HFH+yMC7p4Z/zrvv+DdLGp1O0Nv81PzMARH/kIDzS6+aeMHAIoMLb/mEi2yqyKOsIWD9q9bjowWxmm6XqfBhRZlbr7xuHg0rAopAMhCwx556xpTMjKmmAXZ5d4xyW1gdGypjGdKD4gw/zrhXF00rcw2fdrxjfjJqPouE3nYQgZrnVekrmQnlH5RIq6dPV/ti5b3s9yO6mq+D7daqFYFuQ6DVE/SqLfQOrKAXbr/ffISG8rvcG3ZJ5KPLVbS5l3ibO/FRAKyoJ5VXLwAzUELLij6JP+4XH3+GCv+40ytb4uN0gt7mR+RnDggmFuD80qsmXvDFr/LVT/JGNlXkUdZtfrWeMJNtVkHhw4oyt1VaboKGFQFFIHEI2HJcz5hSeukV0xa7vDtGuY2tjg3WCkZQnOHHGffqomllruHTjnfMT0bNZ5HQ2w4iUPO8Kn1FTAUhrZ4+Xe2Llfcyzqt6uWo+r0SNUwQUgYYQqJpYm7JRQ+XDClUn6LzC2k5njoTecJepMn8YK4OujC/t5CFKXWZcm8r6dnm3LlyeLVxgl1KaXJY/KsAiB5zRlv88H5NLmdMJehsfGM7J+ZkTyu04n4LSjbkgVppUZBMCxafYr1hVNhfDevih/R12//xoYyBAflOOy0OxXFBemJoxJttcHf8cds0WhfLMbVanCCgCyUbAleN6xpSRq64fM3a5Y1RN6zGOWGOSSfOLg5k0HtvAT0M0HTNrbjurfDljW9R81fJ601EE3OclfQU/gCWtcEvE9yS/I6V/ynuZNgzx13OniU6fcVI1qAgoAg0iMLqCDqMs8TuZoLf7DHrxgUVUWrmacLY+t9fO8TcsLorYEi7bwnkXUm7bLeKi3FY6uX35PPrrtuVJUtnevLHG0VYOmqtMJ+jN4VdXaXyBgqbYvlNPpAxrFzQmgPiKMOLD0qkf2zZOoMzmm9LI1TcaTbOmLHfC4hPP+NNmjbTIj3J9p5xg6vXlg/MWWMOtb3qFT2l4GM9p++om7dKrItBLCIyRY95BU1j4mP84gHHi1oVGw2tm3iwqvra+Ni9rfkU6tGF7jnd2eRkDveJ4vCmuWkNZvGj5B03hMR7n6qHZ4Hg1Bg+YaxM+HZq91E+S2tYxz8vqf9W+yVseffv0KeV3MPos3rHoY1g1x3uwyKvxvn1O+0JSu4TylWYE2HICXOvOoE809Mta3M1tW/6NVFbPc2/YtSXK7+JqROFvt/M2/DVlcus2UPG5F+Mi3VY65jz6O48yx4JLy1fSyJWstytFzv0mnCLWY2e1pfaT8RVfJqv2PVpRT7ievGG0m6VlP4EwWnZevU8+AjywpXVsaKkcJ//JNcehlxyDooxduEceODcO4WbKt4KmzaNhuvKvGT79aNr0k3TfS7Ic9FztNPsez8oOy71cJR1X+9nb6UhTpwi0EoFekuPBcy4gHJ3q/9i7Kcums/5/e2cCJ0dR7/Gamd0NN0EIcghsEm4EAoT7yCIS5ExA5BRYjoCIKHi8BwiPyKHoQ40QQEVIOIKiAuGh3MiQcAqBSJAbskkwCQmBQDiyx8y836+3O9TOzsz27PbMdPf8/p/Pb7qqu7q66ttT3VVd3VVBWxYjqHf8/AZjMPDyoMu/W5WpTLNt803HVbc6c4kPuugMk7DGXwk6fwOJL4tXwTswqwp7nflQOjdnvvNwvOnYgwYSbU33zeA79M7f3u6kgZ2UKfaq19D8luXuD59rmNB6OHT+/KyJDdc1DUeONs50BmgH2Td98ijmd+KZu9Bk56LA4PuK5BaYDq3AnOpOb7zbvvLicvbFIEicHzCH+V35TR5fcy8U1jsn3r7F/N56LssJa+8ntwiIQHgI5Jdjg1kaOP1U9r0PnBGw+bp5cp21nOtGZu4Ck3tnofMKurcuf/98P3Nazrpe107rumVT8xunt0+v8G4+e8yNXWAe9V77eRFqGQoCPD/8z+RQyezCYEzZGS+bxAZDVtxvmUjnP4XelOwbc5wZS3KdGZPcfBPnfpzFPTKBT7wM3gqxz7Xt9jJaaJ23TUsREIH+EXDKL96acgwDqVXCEvy+mnVkfO7pvOZehcZy12PdA5WldtwqtI3z3MefYprJqU7jnK+Gp/bd1XTioQKvo9nRezizQVXifFQ6zhSu79mWnTEl9bOm88/3m+TG65lEhcY3CDIvesU9SJoF4uJT9l5zimP+8s4rJznrud2PrYhn4hSTwTefiSFf8D0364p9ccwcjm2KzP3rJx0KIwIiUB8EVlw3MN9z5u5H8XDvIWfJ+aB5TUuuP8R03flIj3V+r2d+CNrH7zWPujVnuZ+4SoWp1nFKpUHbgiHgncuOCTeb7JMzjWnvcO559v3WuR/jXpiZ+g/3P/2P7vsx5jrnnMvsPWKYIP/LweROsYhAHRBAI9FwFiF2Xg2u0DfoKOferA7ZIrMQBUk6i+/Osy++7kSZGrVzkFEHFhfHnupA45zfyCcwRWojXg1PNW+Ah5fN+B49azKP4LX3CFvDQfsYdo5yVPrO2+6NxNRraqBX+A/Hp+xF510tYw5VOx5vjteuR55Cd0BeBuC35/PlVnvfHqELhO2xXR4REIG6JdDndcOdn9wBVIFrSZ/Hx7U1CKvWcYJIq+IoTaDUufTmNC96P37kaaeHKMl50Mu4N5dOkbaKgAiUQ8AZRI07rLma84ZLOfuWEzaBB8y03ILF5ezWr7CZaRi5HW/2sLGbxBs9YbMcppPsvPluk8MA1Bwbq/FUjJPlzs/eMHp3J7mZf84y2UVLwpZ03+lJNKRM4zcP7Z56DW9PZdw3GnxHUIOAaqBXAXqP+Vmt45U7h+qKePzOB2wfq8hTwnLTYEUppwiIQMwJrLjm5OXTu254vRDc7K3LCzogb1/HH1Dk1s7VOo51SDkrRKDYuTTunObFtq/4/+L+usJdoTQqWhEQgcIEvAZ64gtrFg4Q0Fq+AUbjN9eVNA42mXkac5/DUqNGVvJQ/Yqbszp13jjVZF96E9OroBHbOsb53MeLLDlsI3zSNszpRe+66xHnEyFvW9SWPaZeu3cazn24B79TA70K/7Ae87Naxyt3DtUV8fidD9g+Fr7dLGTlpqFQHFonAiIQTwIrrjl52fOuG97c0tzsrcsLOiBvX8cfUOTWztU6jnVIOStEoNi5NO6cw8W2r/j/4v66wl2hNCpaERCBwgSq1UBPDN/ISUAWsxblMCBapaxr+gzns1K+Xp3ccmilDtOveJ3B8n6Db8xffdvpWW487esmhbGt8q1hzH7O4HbZ19qc79Hzt0fJ33Pqtb85006HNf1qoFf4zPA7tqJzjufN0VsqKXY83hyvDfvh1ZP8sbbh11zlpUhqmwiIgB8C9jWnR3jvGuPOT+5s89b5HFOjR3xFPH0eP6BjVes4RbKp1QESKHUuvTnNi96P99vNZJcsNVnOg17GvTnA5CsqEah7ArklmCcc5gzkVkEa/JTFYI5vfpPMASMrYeydzkx/3om6AdeXsEyOw+/N+alPxy9vMjmMaG/w1lDTmUebFL83L2DJIWuZhv27X3XvvONBk138foFQ0VjFc8Dv6/kJBade67wVjXR8Yx9GC3MD/SwAa4OWQxydYBeolLVgI0sChmU0eFfDtEI1N34T53dO8VKJ7RFP3jzoxeZU9+LrsS+mTSg0/7oXVksREAERIIG+rhucU9rgO/RKzQ/e1/G5PQir1nGCSKviKE3Az7kseD+250HHNDzO7CYB/b9Kp1hbRUAEbALed85JDIRcSUukkia149bOIbruSZscBk8O2jIcqPKz5RjUGTOfbLd50NGXHR9HyM+88rbpwCCZXfdOx4BVmJUFjfJBPzjJJJs3LBlfCg8tE8PwUKO903TecKfhiO9RNX5f39R6OHozG5wBQbv+9lgos4J+j1Da0UjVzdC3IDbOz4G+AW0BLYLybShWvAT9FvoDhPcxzAToYOgByI9xuMgPYWaNNegM1vhk365Q5vv9Hi1/v778drzlhLX3k7v+CPidpzGEZCpajkOY34onqdB1gwcN4nrmJ/GFjm8f208cfsJU6zh+0hJkmHosy32dy1Lb87cFeS4Ulwj0l0A9lGM2INsvutqYT5ebpu+j0YjpDitpbGS2cz509KInv7yZ8/11AlNu0rLzMI3owiUmudUwk1htlbKTwW/POZ8789Jw9NdMw67blR1HUDs4U0tiLvCuBx43OczH7hjy1DhmX5PEQwr2Kvux3IfLTDteiTeYBi+Bc9N0+jf6xcbPsaoRJvP8y04POo/VcMgo0/CVXatxWPL2BTysPejfByX8s80k6GWIDXU+rjkFKmTcPhv6AfQKNBH6K3QuFArLr1Dm+/0mMn+/vvx2vOWEtfeTWwREoH4JFLpuFFpXKULVOla1jlMpTor3cwJ9nctS2/O3fR6rXCIgAhUlsOwTp0HrTLG2bmV70JkPNrybTh7rDI6WfekN04WpF/m6cyd61Dt+fYvp/OO9pv3Kyc6nL+Xmu+vBJ528cDyL1Mgvl7t7IOGdHnO8vt8x8Y+m83d/7m6co9eYg9UNOv80k9ppG9+NcyaIc4c3nXGUMeiBzmFwvY6rp5hsFUbBDwRGgUj4BgUb5jT2ojvjBRQIV6tVYWygNwHGTtDDFhR+IEB/90cQ1gbXyfV2eK5mz3mx8NwuEwEREAEREAEREAEREAERqDGB7ML3nBQk1l7TJDBXeTWMo5Q3HseXbY3JPP6804OfefSf3YdeaZAxGDTSmTcbvft+LTtngck88bwTvGHMV/C2WXWbWk7D/M25puPaP5nO6243OYyrwRHaU3vvZAZdeDp6zpGmlVfym50e4TgSetPZxxmz1homt/gD50FGF17l5zGjaOw15+v7NI5S33nf9NDkpSGEQDncOD8uzJ/7gP4ti6R3vSLh+brrytBnBfZDyTOUZ6t7Di1FQAQiQ0DlODKnSgkVgZIEVJZL4tFGEYgEgX6XYw6ATEtsxCp99Sw1YktnNO+uvz6I1kK7821y47EHOt9l8xV4NnCzeB2aPc59mTNt2ZR78I485j1HvKktmvvaJbDt7P3ndGld/3jG5OYu6I4XY2mkdt/eeX07MTiYZk5y3bXNoHNOcB5ccBR8csvMeNk0HvFVk8Ro9VGzhgP3dj7Z63rgCZN56Cln8LjGow7o90OMoPIfxgZ6UHnrK57zEeDivgJpuwiIQKgJqByH+vQocSLgm4DKsm9UCigCoSXQ73KcRa8vLbnpJlXPXMNu25vkZpuY3LyFTsPca8xyRgcOqNZ5z2POd+qJQXzJt7DlMLNJ56Spxpl+FI3hxiNHFw4Y8NocvnNnAznz+AynV9uJnj3m+O7dGT0+oIa5nezE6quaxnFHmsy050wXe53xEKPjVzc5x2SPdLLC89jbaRmom5+ENxywpzOafdcdD5ksBsBtxwMO54HD1sPL+gxgoGmx9/f1obq9QxXc/Pfze/MjoanW8W6CezA0xlrnOafBwfdJzvFWYHkyNAFa01pnOws95XunUoPE2QeWWwTCTsDvIBYhyIfKcQhOgpIQXgIqy+E9N0qZCPglEPdynMOr5O2XYJxn9AI3nT/OcGqvMBgb3R2/uNHkMAVjClOlNR68T8FkMf0dt9xjcm/NMwav5zedeYxJbrJ+wbBBrMy1d5gsBn7LzHzVZGe9jvezM93R4tX11F47mIa9djRsRFfDch98ZDr/71GnYescL5lwBp9z0oC3IdgAjorx84TOW3Eecb5pyU03NqmWnTGHPQYLRL6CML9lOYw96B0AMAPiSOxTXRj8gIN+Dv5WyJ7CyoPyNuwPP9cXs3ZsoGQiIALRJaByHN1zp5SLgE1AZdmmIbcIRJNAv8px12PPOY3zBKb7CkvjnPgTmEq0AaOdd954l+G36UlMNZbCyO6eZd//0GSf+7fpeuzZ7tfjBzWaxlOOCLRx7szTjZHTOSBbFj27OTQis3wQgNmhPEusP8SkdtvOpHbZ1pTq5ffCB7nknPVNJ40x2bfnmS68Ip59rc1h0gEuCXyzntxmU5PEq/7JL6GxvjL7VMJrfKjShGnnuh5+2mTwn+RbHc6bHchjivlAgz2B1/gTeEOg0g8egnkcEDzroxHlTdAZEEdrYM84hg50vkHnt+g/gzhp34kQbSj0EnQNdCP0FegqiCM/PAD5MX6vXrFp1vwkQGFEICwE/D7hC0t6rXSoHFsw5BQBlWX9B0Qg+gTiWo5zmSxG0E47jSGepcaTDzepbTcL1QnjAGidU/7ufIdu2GpaA99yf4qhrTiIHEeedy2xwbqm8cRDDb/R7sty6PHmq+EYkcx5MMFv1h03eOTa8YwD38Ln+D08poJjDzXfLMi3xNqDTRKvYKdGYqo0Nn5D0lPNhwhdePU9++IbzlzrPdKN1+0Ta6zW3buPxrqTZqQ719lpUjtsZVKY7i4sxocvmekzTOaZWcYs53Mny/CpAz+DSKyBtxRWXaV7UEMObMgHOvvuUnL6Ob9lOYw96CRwOzQEugTiaBEzoa9BbJzT1oc2dlzdP7OxYGP819D3II40cRr0AFSWffQRCoJMBESADd1lEO4a0TOV4+idM6W4YgRUliuGVhGLQNUIxLMco2HaMH+R4Wuymb13MB0bY5CxMNbDD9zDpHJZk3rhVXTlsWoEw+vvOTYu0eua3XErk/3ycNPOedT9pB/7NnmjxXfHVvI3h3hzGN0+t8EQk0MPbnYo+ijXGYwufrefdZmbppKxVGnjYDRaDxtlzGh8i/7aHJN46x2TxPzrCXwGwDnUc1SBpHSsuZrJbvzFAltqtKoBbPcdacye25vE2/8xSUxZl5i/2CQWvW8S+MQg9+4SR/mp+2y7TfFApSt/te33VZbdM2vvV7du9sizYS8TARHoJsDxG6L2xErlWP9eEehNQGW5NxOtEYGoEVA5jtoZU3pFoDCBPsuyGuifgyOLDaByH0Nx3gI27L/Uj32xS92YOPk/1WFhFcUe9P6WY/9np++QYTl/fafUfwjlyT+rWoYsdp5UloM9K8U4B3uU6sWm/FSPdblHss/NfOxcqPOx3DirGd7vPdnOZ7n18GrmJ8hjKc9B0gxvXIXOcxTvyeElXCRlfFWBF0wuZcUJiFNxNvlbxCqfSLT8cTx/ylM0/oNxPE9hJB83zspPGP9l3WmK27kpRrpe8mnnX3m2acTX3a/zzM8+ZCIgAiIgAiIgAiIgAiIgAiIgAiIgAjUmoAZ6jU+ADi8CIiACIiACIiACIiACIiACIiACJJAShkAIcDLCNPT5pISBRBu7SMTJ/ykVK/+swhgyjudPeQrjP613muJ4nnrnsvZr4sZZ+an9f6pYCuJ2buo9n3b+6+XcKs9qJ9r/AblFQAREQAREQAREQAREQAREQAREQAREQAREQAREQAREQAREQAREQAREQAREQAREQAREQAREQAREQAREQAREQAREQAREQAREQAREQAREQAREQAREQAREQAREQAREoOoEzsMRORf6hKofORoH3BDJvBVaAn0GzYJGQrKeBDho46XQbIic3oIughKQLPwEzkcSn4WWQYugqdAWUJTtTCT+RegjV09heSAUF4vDtXs8TgbvP7ZejcsJClk+4ljGPcRxKAtxqmvUU33gLPwJ26Dl0DPQLlCcbR9k7h5oPsTr9lgo7hbna2excxf3+lOxfIdm/c5ICRtU/4LUQO99WtbCqjZoEsSL7lBoNDQckvUkcAG870EHQ83QkRAbe9+FZOEncD+S2AptA20P/R2aA60KRdUORcIPgjaDNocuhzog5jHqFpdr93iciJeg9SytA7cseAJxLOOkFIeyELe6Rr3UB47G/68dOhnaGvo99AG0LhRX40Puy6DDoXppoMf12lnqPxrn+lOpfIdi22pIxevQV6E0pAY6IOTZFfBPz1snb2ECf8PqG/I23QE/3z6QRY/AECSZN18+LY+TvY/MnBrxDMXp2j0e52JmxM9HVJMfhzIel7IQt7pGvdQH2GM+0boAJOH+D3SetS7OznppoOefwzhcO/Pz5Mfvu/7EgiDrP4FrsOvfoYf7H0Xs9zwMOXwO+gvE135fgMZBst4EnsSq/SD2VNLYC7sXdB89ssgRWNNNMS/IcbAUMnEMxDcC+Kp7lC1u126+4TAfehuaAm0MySpPIA5lPC5lIW51jXqoDzShiO4E2XXorOvfvfLFV0eoIYE4XDvLwRen+lM5+a5JWFZUZ0EruUdPY6kedBeGtVgON/VTaAfodIjfV58EyXoS4AMz9gLwBtXpLvndjix6BHgu2QPyePSS3ivF22LNx1AXtBTiK+9Rtrhdu/m65Deg7aADIFbs+WnF6pCscgTiUMbjVBbiVteoh/rABiie7EHOb4z/AuvYs14PVo896HG4dvr9b8at/uQ33zULtxGO/C7ECpFnaTjUQPdofL7sgJMVRtuugifqPXB2foJys7I0D+KShfoEaAmkhxmAEDG7Dultg74UsXQXSm4TVm4KsafjZ9BiiN8KRtHq4do9GCfmQ+jUKJ6gCKU56mU8bmUhbnWNeqgPqIFeP9+g25f2qF877bz05Y5T/amvvIZi+1ikgk+92KPkiX72fNLPVxlk3QTYk/OHPBhnws9vjGQ9CbBx/p2eq8yF8L+at07ecBPg93Q8l0PDncx+p+5h7Pm7fu9d2x3r5dr9LDDzYYqsMgTiUMbjVhbiVteoh/oAGy+sM/O/aNtN8Nxtr4ixu9560ONw7RzI39F3/alhIEep430fQd7Zw2nbJHjYkPo5lLE31Ln7CeR/izwGm8PPm6msJ4FV4OXNyjb+l/g6kCz8BBJI4tUQR2ZtgWZDcTT+HwdFNGP1cO3moF984+GWiJ6jMCc7TmU8bmUhbnWNeqgP8K2HGdB+0FS34PP+Qj8bcrL4EIjTtXMgZyXK9aeB5Lum+6Zx9Ak1TUE4D74zksXvqS+AWGk8DvoEOh6S9SQwGd53oIOhZogNPb5OzIc+svATuBZJXAqNgtaztDLcUTX2wu4DNUN8KEk/3xTaH4qLpZGRKF+7r0T6+Z9rhvaAHoJ43RgCyYIlEMcybhNKwxPVshC3usZknIt6qA8cjXwuh06CtoL4dtYH0BehuBofoo5wlcPyXNe9MZZxtbhfOwudt3qoPxXKd+jWpZGiqN7YKg3zEByAA+rxIvwKNA6S9SawOlbxPzQH+gx6C7oM4mtgsvAT4I22kFrDn/SiKbwBW9qgdmgRxNez4tQ4R3ZMGorytftPSP98iOeIFXr6h0Oy4AkUKt9c1xr8oWoSYxpHjXJZiFNdo57qA9/B/471Hl7DnoF2heJsLchcoWvJ5BhnulB+43TtLHTq6qH+VCjfWicCIiACIiACIiACIiACIiACIiACIiACIiACIiACIiACIiACIiACIiACIiACIiACIiACIiACIiACIiACIiACIiACIiACIiACIiACIiACIiACIiACIiACIiACIiACIiACIiACIiACIiACIiACIiACIiACIiACIiACIiACIiACIiACIiACIiACIiACIiACIiACIiACIiACIiACIiACIiACIiACIiACIiACIiACIiACIiACIiACIiACIiACIiACIiACIiACIiACIiACIiACIiACIiACIjBQApMRwVSfkaQRboLPsJUO1oID5KDBlT6Q4heBCBKYjDT7LdflZK8VgZf2scN4bJ/ZR5hmbGf5HdFHOG0WgXoi0ILM+r2vtSJsX2URQapmbTjSOVU7mg4kAtEg0IJk+i3T5eaI8Y4tsVMztvm5z6YRbgIk80Eg6SOMgohAvRBII6O6eNTL2VY+w0zgdiRu8zITOBnhp5a5j4KLQJQJtCLxS6OcgRJpj3PeSmRbm+qcQBj/9+vjnNxXxnlpQdhKPSwoIxnRDtoQ7eQr9SIgAiIgAjEk8BnyRMlEQAREQAREQARqR2Bh7Q5dv0dWD3r9nPsjkdVZECu9S6CHoVUh2mnQK9By6FXo25BnzXDwSdgx0JMQw7wEjYI8S8FxAzQbYvyvQd+DgrJBiOhK6D/QJ9AzUAvkWSsc7EU4AGI+Pobuh/jUzzM+jLoKYrj3oJ9CN0Fej9tkuJknppv5pZohz3aC4znoU4gctoBkIlBrAlEp14cAFMserxW0ERDL2BX0uPYHLG913a1YMrxt58HzLrQM4vVmJciz8XC0J38/AAALxUlEQVScBI2BvPLbArdnw+B4FGL5/Re0OyQTgVoTSCMBE119iCXvTZdCCYhW6t7Xgu2ToDUh7z8/Hm7aCRDvVywrrFzfBq0LBWUsZ89DrA+8DV0M2R0+TA/rFXdBLHNvQIdBttHP9awzsD5yIsT9BkMt0CSoUN6w2qwC3Qgxf3Oh0yGZCISBQBqJCHOZ5rVlMcS6g2cz4VjgebDcC2qHWM5oLJdjHVf3zy5YvACx/PM6swPkWTMcj7qeD7DkvpNdPxdJ6BfQ+xCvTeMhmQjULQE2VDuhc6FmaFuIjfDVoOOh+dAR0FB3yQb8SRCtGWIBmwd9HdoKuh76CFobojVCP4FGQoyDcbIhfRTk2WQ4pnqePpZpbJ9gheHxnoD2hoZDP4R4YdgMorVCHdBDENOwI/QyNAXy7MdwMF+HQ1tC10GsEHlpYkWADe/fQ+u5SmHZAjH/T0OjoK2haRDTIxOBWhKIUrlm+cpALJ+070GsJLBcefYGHKzU01qhpXS4xmsJy/ypEB+OXQbxGjQTovFaxtfi74O88tsEdzPE8ssHdwdDm0N/gdqgBkgmArUkkMbB2cjk/Y7/6+Mh3jvHQbTrId5rCt37+P9mOeJ9zPvPsxzQToEOhIZBu0G8t90LedYCB8vFYG9FiWUrttllkWnhMU+CGP/+0GzoYsgzxj0POhbaFPoNxHx+AaKxnsB79v9CzPcx0DsQ92OaSuWtDdt5L2cdhnGfB/HawnhkIlBrAmkkIOxl+g6kcaILai0s2RhnGWfdmMb68uOOq/uH5XKs6+c1ZhE0BdoGOgR6C2KYERDrzUe4ft5veW3i/Z+WhnjtuBjaDOJDuSzEa4hMBOqSABusLDybFMj9m1jHm6htF8LDGzqtGeK+/w151gAHb77/5a0osGTh/6u1fjLcUy1/KWcaGye4ATbGsgvawPV7i4fh+KnracWSaRzu+rngzXuh5af7h5afF5E5kJ2mNPzeceF0rAW/jHs/x9f9c5C7biVrnZwiUG0CUSvXMwDIK4N3wX0BxIoBb/gbQixnvGnTWqGldLjG69E1nsddPo3lTGvdZLjt8sxNzRDjPRXybGs4uG5Lb4WWIlAjAmkclw+TE9bxr3DX+b332eXEiqaHcyR8/M+zrNFaIPoHQ31ZKwLYx+C99/y8nb4J/3xrHeO+1PKvCjfXfc1dxzzOct3e4jI47DS1wm8f1wvXBsctngdLsuObNd+y1skpArUikMaBw16mz0YaX3IBjcHyaWgq5JWhh+C+HPKM5XKs6zkdy/eglVw/F9yPYUbQA2uB7LLMdbQ0NJ0Oy/4J9xWWX06XQFIk6oLAv5DLRyDeENl7NA7iUzPeNIdDN0AfW7rQXY/FCntqhau7wfwc/OxN9+wsOFgBXwwxLhZiVjAGatsighT0OmSncRT8TLtnn8LBp3ieLYBjXdfDp3dfhHgh8CwDB9Pr1160AjJumhd/t0+/IlBdAlEr148BTwvECvXe0J0Qe7b3glieWcF/AypkvNY8k7fBviblberlVfnthUQrQkLgaaSDlVnP+L/mgyq/9z5vP3u5Ezz3QHOhZRDLHi2Ie/L2iOd/IPt+fD3860OrQJ7ZZY5vBXwEeffMLeB+1gvoLu37c96mXl47brJbCHlx9wqsFSJQZQJhL9O8HmwNDYF47027asGyEdrD9WPRy3gvZvlbbm3p772YUSyAVHYtmJ6TPaGy+BNgY3R/iIVuNHQ2dDl0KEQbB+VXfrmPX+PraVdCP4BYUFkh+BG0KzRQ4xN/pmUnd2nHxwqCZ52ew13yps2GQFBmx+9VpvSAKyi6iqc/BKJWrtPI5CkQK/gsT69CaagF4gNDrxEBZ+Cm8hs4UkVYYQJ+7335yeCD9wdcHY8lH5qzYc51TdBAjem6GOIDtnyzK+12mWM43jeDumdWMu78PMkvAkERCEuZnoUM8RvwUa5+jCUfcvFN2Z0hNtKfhCphKrs+qaqB7hNUDILx5viEq0uwnAPtCc2HhkFToFK2GzZOcwPwf8MG80TXz3hYmK91/VzYvdvW6rKdL2AP9qDzCdv0svfu3uFDLN6FeOHx8sA4d4RmQp51wMH1MhGICoEolWuW39WhcyGvMZ6G+zyIDfRfQsWMPe184HezFYDXJNtUfm0ackeFQP6DbP6v34D83PsK/ee3xL5rQyxX8yDayO5FIL/PIxb2gL85gNhew74H5e3P+7NthfJmb5dbBMJKIOxlmvUG3o/HQNtAj0OfQoOgM6DnoE+gQsZ78QnQStByN0ChezE3qT7tAurPItmfnbRP5AjwYnEBxJs0n6QfAQ2BWNAuhs6HvgttDm0LnQx9H7LtLHgOh3jzvwZihfpGiMbKBOM+AGIcl0L5N1us6pe9jr348IAVc6Z7KLQLxDQfDPm1qxGQ+/CCxMrFbyDmgRcqz9rgIKtmaB1I5QMQZKElELVy/QFIvggdD6Uh2jRoR4jXDa/RDmcvY3k9BeK1iWF/ArFiYVsbPNtBLN8sv+wFkIlA2AnwnvwriP/bY6GzIf7f/dz72hCOvXL7QfzP8xXzuRAbt4xnGHQYdBEUlF2CiE6EWHdgGeQrr8dAl0F+7XcIyLrEzyGW56OgVojm3ZPb4M7PG7fLRCDsBKJQptOAyOsNO6k+hrLQNIj351L34tuwnWX0eoivyfNB2w8h2+bAwzCHQGxrsBzLREAEChDgDfR+aBHEJ16vQd+BPDsODj6tb4feh1g4D4dozRALGgvyMxDD/BvaF/JsEByToKUQK+HXQj+D7N7pyfBPhfxYGoEmWAFZ0f4JNBtixWM+dCfEhwm0VojHtm0sPEy3Z+z1ZyP9Q4h5ZMXgz9AfIc9YUXgK4pNE7tsMtUB0D4Y8GwGHt91bp6UIVJtA1Mo1+UyAWHZYOfdsJhwLPI+7bMVyad66C+BfDC2DJkMsw9zXM1YEHoS4ncdogZohukdAng2Gw9vurdNSBGpBII2DXgNdB3n3psvhTkC0vu59DMN934P4nx4P0Xi/ng3xfv8kdChkl4MW18+y0Je1IsDSvEAHwP8ExHsl0826wTjIMx5rrOdxl4yj1VrHBwd8uM80PgqdCXE/9sx5Vihvbdh4jhfAXc7EcnzeOnlFoBYE0jho2Ms0uYyAWN6uoMc1liuuY/m2jevGWit2g5tlju0Bth3YecYwjNMzPhTkfZ0N/8kQLQ1NoMOyqXBPtvxyioAI+CTQjHD5Bc/nrqEOlkTqXoMuDXUqlTgRqAyBZkQbx3JdGVqKVQQqQyCNaPMrrJU5Uvhj/TGSOC/8yVQKRaAkgTS2qkyXRKSNfgiwV1EmAvVAYBNkcjT0GDQI4hsEQ6HbIJkIiIAIiIAIiED1CHwbh3oWWgLtCf0ImgjJREAERKDuCbAXUSYC1STAb3P4vUsxcXsljK/ZtEKsEPDVPL4e/1XoFUgmAiIwMAK1KtcDS7X2FgERuA8Iit2P+VlJpWwzRHw39DLE12F/CY2HZCIgAgMjUKsyPbBUa+8eBLzvnHqslEcEKkiAb200l4i/Ddu6SmzXJhEQgfARULkO3zlRikTAD4ENEWjlIgE5XgslEwERiA4BlenonCulVAREQAREQAREQAREQAREQAREQAREQAREQAREQAREQAREQAREQAREQAREQAREQAREQAREQAREQAREQAREQAREQAREQAREQAREQAREQAREQAREQAREQAREQAREQAREQAREQAREQAREQAREQAREQAREQAREQAREQAREQAREQAREQAREQAREQAREQAREQAREQAREQAREQAREQAREQAREQAREQAREQAREQAREQAREQAREQAREQAREQAREQAREQAREQAREQAREQAREQAREQAREQAREQAREQAREQAREQAREQAREQAREQAREQAREQAREQAREQAREQAREQAREQAREQAREQAREQAREQAREQAREQAREQAREQAREQAREQAREQAREQAREQAREQAREQAREQAREQAREQAREQAREQAREQAREQAREQAREQAREQAREoF8E/h8BaAOX51HG3gAAAABJRU5ErkJggg==\" width=\"1000\">"
      ],
      "text/plain": [
       "<IPython.core.display.HTML object>"
      ]
     },
     "metadata": {},
     "output_type": "display_data"
    }
   ],
   "source": [
    "iris = sns.load_dataset(\"iris\")\n",
    "g = sns.pairplot(iris, hue=\"species\", palette=\"husl\", diag_kind=\"kde\")"
   ]
  },
  {
   "cell_type": "code",
   "execution_count": 107,
   "metadata": {},
   "outputs": [
    {
     "ename": "AssertionError",
     "evalue": "Argument must be a Numpy array",
     "output_type": "error",
     "traceback": [
      "\u001b[0;31m---------------------------------------------------------------------------\u001b[0m",
      "\u001b[0;31mAssertionError\u001b[0m                            Traceback (most recent call last)",
      "\u001b[0;32m<ipython-input-107-ff816148703d>\u001b[0m in \u001b[0;36m<module>\u001b[0;34m()\u001b[0m\n\u001b[1;32m      5\u001b[0m \u001b[0;34m\u001b[0m\u001b[0m\n\u001b[1;32m      6\u001b[0m \u001b[0;34m\u001b[0m\u001b[0m\n\u001b[0;32m----> 7\u001b[0;31m \u001b[0mpointsToVTK\u001b[0m\u001b[0;34m(\u001b[0m\u001b[0;34m\"./iris\"\u001b[0m\u001b[0;34m,\u001b[0m \u001b[0mx\u001b[0m\u001b[0;34m,\u001b[0m \u001b[0my\u001b[0m\u001b[0;34m,\u001b[0m \u001b[0mz\u001b[0m\u001b[0;34m,\u001b[0m \u001b[0mdata\u001b[0m \u001b[0;34m=\u001b[0m \u001b[0;34m{\u001b[0m\u001b[0;34m\"species\"\u001b[0m \u001b[0;34m:\u001b[0m \u001b[0miris\u001b[0m\u001b[0;34m[\u001b[0m\u001b[0;34m\"species\"\u001b[0m\u001b[0;34m]\u001b[0m\u001b[0;34m}\u001b[0m\u001b[0;34m)\u001b[0m\u001b[0;34m\u001b[0m\u001b[0m\n\u001b[0m",
      "\u001b[0;32m~/miniconda3/envs/DSFP/lib/python3.6/site-packages/pyevtk/hl.py\u001b[0m in \u001b[0;36mpointsToVTK\u001b[0;34m(path, x, y, z, data)\u001b[0m\n\u001b[1;32m    232\u001b[0m     \u001b[0mw\u001b[0m\u001b[0;34m.\u001b[0m\u001b[0mcloseElement\u001b[0m\u001b[0;34m(\u001b[0m\u001b[0;34m\"Cells\"\u001b[0m\u001b[0;34m)\u001b[0m\u001b[0;34m\u001b[0m\u001b[0m\n\u001b[1;32m    233\u001b[0m \u001b[0;34m\u001b[0m\u001b[0m\n\u001b[0;32m--> 234\u001b[0;31m     \u001b[0m_addDataToFile\u001b[0m\u001b[0;34m(\u001b[0m\u001b[0mw\u001b[0m\u001b[0;34m,\u001b[0m \u001b[0mcellData\u001b[0m \u001b[0;34m=\u001b[0m \u001b[0;32mNone\u001b[0m\u001b[0;34m,\u001b[0m \u001b[0mpointData\u001b[0m \u001b[0;34m=\u001b[0m \u001b[0mdata\u001b[0m\u001b[0;34m)\u001b[0m\u001b[0;34m\u001b[0m\u001b[0m\n\u001b[0m\u001b[1;32m    235\u001b[0m \u001b[0;34m\u001b[0m\u001b[0m\n\u001b[1;32m    236\u001b[0m     \u001b[0mw\u001b[0m\u001b[0;34m.\u001b[0m\u001b[0mclosePiece\u001b[0m\u001b[0;34m(\u001b[0m\u001b[0;34m)\u001b[0m\u001b[0;34m\u001b[0m\u001b[0m\n",
      "\u001b[0;32m~/miniconda3/envs/DSFP/lib/python3.6/site-packages/pyevtk/hl.py\u001b[0m in \u001b[0;36m_addDataToFile\u001b[0;34m(vtkFile, cellData, pointData)\u001b[0m\n\u001b[1;32m     42\u001b[0m         \u001b[0;32mfor\u001b[0m \u001b[0mkey\u001b[0m \u001b[0;32min\u001b[0m \u001b[0mkeys\u001b[0m\u001b[0;34m:\u001b[0m\u001b[0;34m\u001b[0m\u001b[0m\n\u001b[1;32m     43\u001b[0m             \u001b[0mdata\u001b[0m \u001b[0;34m=\u001b[0m \u001b[0mpointData\u001b[0m\u001b[0;34m[\u001b[0m\u001b[0mkey\u001b[0m\u001b[0;34m]\u001b[0m\u001b[0;34m\u001b[0m\u001b[0m\n\u001b[0;32m---> 44\u001b[0;31m             \u001b[0mvtkFile\u001b[0m\u001b[0;34m.\u001b[0m\u001b[0maddData\u001b[0m\u001b[0;34m(\u001b[0m\u001b[0mkey\u001b[0m\u001b[0;34m,\u001b[0m \u001b[0mdata\u001b[0m\u001b[0;34m)\u001b[0m\u001b[0;34m\u001b[0m\u001b[0m\n\u001b[0m\u001b[1;32m     45\u001b[0m         \u001b[0mvtkFile\u001b[0m\u001b[0;34m.\u001b[0m\u001b[0mcloseData\u001b[0m\u001b[0;34m(\u001b[0m\u001b[0;34m\"Point\"\u001b[0m\u001b[0;34m)\u001b[0m\u001b[0;34m\u001b[0m\u001b[0m\n\u001b[1;32m     46\u001b[0m \u001b[0;34m\u001b[0m\u001b[0m\n",
      "\u001b[0;32m~/miniconda3/envs/DSFP/lib/python3.6/site-packages/pyevtk/vtk.py\u001b[0m in \u001b[0;36maddData\u001b[0;34m(self, name, data)\u001b[0m\n\u001b[1;32m    386\u001b[0m                 \u001b[0;32massert\u001b[0m \u001b[0;32mFalse\u001b[0m\u001b[0;34m,\u001b[0m \u001b[0;34m\"Bad array shape: \"\u001b[0m \u001b[0;34m+\u001b[0m \u001b[0mstr\u001b[0m\u001b[0;34m(\u001b[0m\u001b[0mdata\u001b[0m\u001b[0;34m.\u001b[0m\u001b[0mshape\u001b[0m\u001b[0;34m)\u001b[0m\u001b[0;34m\u001b[0m\u001b[0m\n\u001b[1;32m    387\u001b[0m         \u001b[0;32melse\u001b[0m\u001b[0;34m:\u001b[0m\u001b[0;34m\u001b[0m\u001b[0m\n\u001b[0;32m--> 388\u001b[0;31m             \u001b[0;32massert\u001b[0m \u001b[0;32mFalse\u001b[0m\u001b[0;34m,\u001b[0m \u001b[0;34m\"Argument must be a Numpy array\"\u001b[0m\u001b[0;34m\u001b[0m\u001b[0m\n\u001b[0m\u001b[1;32m    389\u001b[0m \u001b[0;34m\u001b[0m\u001b[0m\n\u001b[1;32m    390\u001b[0m     \u001b[0;32mdef\u001b[0m \u001b[0mappendHeader\u001b[0m\u001b[0;34m(\u001b[0m\u001b[0mself\u001b[0m\u001b[0;34m,\u001b[0m \u001b[0mdtype\u001b[0m\u001b[0;34m,\u001b[0m \u001b[0mnelem\u001b[0m\u001b[0;34m,\u001b[0m \u001b[0mncomp\u001b[0m\u001b[0;34m)\u001b[0m\u001b[0;34m:\u001b[0m\u001b[0;34m\u001b[0m\u001b[0m\n",
      "\u001b[0;31mAssertionError\u001b[0m: Argument must be a Numpy array"
     ]
    }
   ],
   "source": [
    "\n",
    "x = iris[\"petal_length\"]\n",
    "y = iris[\"petal_width\"]\n",
    "z = iris[\"sepal_length\"]\n",
    "\n",
    "\n",
    "\n",
    "pointsToVTK(\"./iris\", x, y, z, data = {\"species\" : iris[\"species\"]})"
   ]
  },
  {
   "cell_type": "code",
   "execution_count": 108,
   "metadata": {},
   "outputs": [
    {
     "data": {
      "text/plain": [
       "0         setosa\n",
       "1         setosa\n",
       "2         setosa\n",
       "3         setosa\n",
       "4         setosa\n",
       "5         setosa\n",
       "6         setosa\n",
       "7         setosa\n",
       "8         setosa\n",
       "9         setosa\n",
       "10        setosa\n",
       "11        setosa\n",
       "12        setosa\n",
       "13        setosa\n",
       "14        setosa\n",
       "15        setosa\n",
       "16        setosa\n",
       "17        setosa\n",
       "18        setosa\n",
       "19        setosa\n",
       "20        setosa\n",
       "21        setosa\n",
       "22        setosa\n",
       "23        setosa\n",
       "24        setosa\n",
       "25        setosa\n",
       "26        setosa\n",
       "27        setosa\n",
       "28        setosa\n",
       "29        setosa\n",
       "         ...    \n",
       "120    virginica\n",
       "121    virginica\n",
       "122    virginica\n",
       "123    virginica\n",
       "124    virginica\n",
       "125    virginica\n",
       "126    virginica\n",
       "127    virginica\n",
       "128    virginica\n",
       "129    virginica\n",
       "130    virginica\n",
       "131    virginica\n",
       "132    virginica\n",
       "133    virginica\n",
       "134    virginica\n",
       "135    virginica\n",
       "136    virginica\n",
       "137    virginica\n",
       "138    virginica\n",
       "139    virginica\n",
       "140    virginica\n",
       "141    virginica\n",
       "142    virginica\n",
       "143    virginica\n",
       "144    virginica\n",
       "145    virginica\n",
       "146    virginica\n",
       "147    virginica\n",
       "148    virginica\n",
       "149    virginica\n",
       "Name: species, Length: 150, dtype: object"
      ]
     },
     "execution_count": 108,
     "metadata": {},
     "output_type": "execute_result"
    }
   ],
   "source": [
    "iris[\"species\"]"
   ]
  },
  {
   "cell_type": "markdown",
   "metadata": {},
   "source": []
  },
  {
   "cell_type": "markdown",
   "metadata": {},
   "source": []
  },
  {
   "cell_type": "markdown",
   "metadata": {},
   "source": [
    "\n",
    "We will use the interactive version of ParaView to start (and we will use the python scripting tools later). \n",
    "\n",
    "As a starting place we are going to use 3D densitity and temperature data from ... simulations, which can be downloaded here: .\n",
    "\n",
    "## Problem 1\n",
    "\n",
    "**Problem 1a**\n",
    "\n",
    "Using the File >> Open option, open the Density.vtk and Temperature.vtk files.\n",
    "\n",
    "**Problem 1b**\n",
    "\n",
    "Select the \"eye\" next to Density to \"turn on\" that data.\n",
    "\n",
    "**Problem 1c**\n",
    "\n",
    "Change the representation to Volume. Move around the cube to get a sense of the data.\n",
    "\n",
    "**Problem 1d**\n",
    "\n",
    "Select the eye for Temperature, and change the representation to Volume. Again, explore the cube.\n",
    "\n",
    "**Problem 1e**\n",
    "\n",
    "Change the colorbar for the Temperature. \n",
    "\n",
    "In the properties tab, under the Coloring header, select the choose presets folder (this is the folder with heart over it). \n",
    "\n",
    "Using your previous knowledge of visualization, select a terrible colorbar.\n",
    "\n",
    "Replace the terrible colorbar with a useful colorbar.\n",
    "\n",
    "**Problem 1f**\n",
    "\n",
    "Change the colorbar for the Density.\n",
    "\n",
    "**Problem 1g**\n",
    "\n",
    "Turn on both the Temperature and Density. Can you see both volume renditions? If not, adjust the color schemes for each.\n",
    "\n",
    "\n",
    "## Problem 2) Slicing the rendition\n",
    "\n",
    "**Problem 2a**\n",
    "\n",
    "Select the density data. Then slice the data using the tool in the top bar. When happy with the slice that you have selected, click \"apply\".\n",
    "\n",
    "*Note* - you can adjust the position of the slice by dragging the outline, and you can adjust the angle of the slice with the arrow.\n",
    "\n",
    "**Problem 2b**\n",
    "\n",
    "Hide the density and temperature data, and examine the slice. If you are unhappy with your previous selection, adjust it.\n",
    "\n",
    "**Problem 2c**\n",
    "\n",
    "Add a contour to the slice. This can be done using the contour buttom (multiple concentric half-spheres).\n",
    "\n",
    "Set the range for the contours from -2 to 2.5, and choose 6 steps for the contours. If you need to, adjust the color of the contours so they are visible relative to the \n",
    "\n",
    "**Problem 2d**\n",
    "\n",
    "Add a clip to the temperature data. This can be done using the clip buttom (between the slice and contour buttons).\n",
    "\n",
    "Adjust the position of the clip to match that of the density contour.\n",
    "\n",
    "*Note* - you may need to slide the position of the clip slightly so that the contours remain visible.\n",
    "\n",
    "\n"
   ]
  },
  {
   "cell_type": "code",
   "execution_count": null,
   "metadata": {
    "collapsed": true
   },
   "outputs": [],
   "source": []
  }
 ],
 "metadata": {
  "celltoolbar": "Slideshow",
  "kernelspec": {
   "display_name": "Python 3",
   "language": "python",
   "name": "python3"
  },
  "language_info": {
   "codemirror_mode": {
    "name": "ipython",
    "version": 3
   },
   "file_extension": ".py",
   "mimetype": "text/x-python",
   "name": "python",
   "nbconvert_exporter": "python",
   "pygments_lexer": "ipython3",
   "version": "3.6.2"
  }
 },
 "nbformat": 4,
 "nbformat_minor": 2
}
