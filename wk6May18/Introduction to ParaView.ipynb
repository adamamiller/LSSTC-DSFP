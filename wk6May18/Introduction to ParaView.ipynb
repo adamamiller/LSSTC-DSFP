{
 "cells": [
  {
   "cell_type": "markdown",
   "metadata": {
    "slideshow": {
     "slide_type": "skip"
    }
   },
   "source": [
    "First and foremost, you should have already installed ParaView on your machine. If not, you can [download the package](https://www.paraview.org/download/) from [paraview.org](https://www.paraview.org)."
   ]
  },
  {
   "cell_type": "markdown",
   "metadata": {
    "slideshow": {
     "slide_type": "slide"
    }
   },
   "source": [
    "ParaView is an open source platform that was specifically designed for data analysis and visualization. Briefly, ParaView is interesting (for us) because: \n",
    "\n",
    "  1. General purpose and can easily be used on laptop or HPC\n",
    "  2. Naturally utilizes multiple processors for handling large data sets (in particular 3D)\n",
    "  3. Includes a scripting interface (via Python)"
   ]
  },
  {
   "cell_type": "markdown",
   "metadata": {
    "slideshow": {
     "slide_type": "slide"
    }
   },
   "source": [
    "Ultimately, we want to turn data (images, measurements, spectra, etc) into some rendering to represent the data in a way that provides insight or better understanding [for all viz, not just ParaView].\n",
    "\n",
    "ParaView uses VTK, the Visualization Toolkit (more on this later)."
   ]
  },
  {
   "cell_type": "markdown",
   "metadata": {
    "slideshow": {
     "slide_type": "slide"
    }
   },
   "source": [
    "VTK uses a basic data-flow paradigm, in which data flows through the system while being transformed at each step [via modules known as algorithms]. Algorithms have input ports to take data, and output ports to produce output:\n",
    "\n",
    "  * Sources do not have input ports, but have outputs [i.e. to get data into the system, e.g., reading a file]\n",
    "  * Sinks convert input into graphics such that they can be rendered \n",
    "  * Filters are intermediate algorithms, that convert input into output"
   ]
  },
  {
   "cell_type": "markdown",
   "metadata": {
    "slideshow": {
     "slide_type": "slide"
    }
   },
   "source": [
    "Connecting sources, sinks, and filters can create arbitrarily complicated visual renderings. \n",
    "\n",
    "<img style=\"display: block; margin-left: auto; margin-right: auto\" src=\"./Day2_images/pv_visualization_model.png\" align=\"middle\">\n",
    "\n",
    "<div align=\"right\"> <font size=\"-3\">(credit: ParaView Guide) </font></div>"
   ]
  },
  {
   "cell_type": "markdown",
   "metadata": {
    "slideshow": {
     "slide_type": "slide"
    }
   },
   "source": [
    "Following this brief introduction, we will start the visual exploration with ParaView. "
   ]
  },
  {
   "cell_type": "markdown",
   "metadata": {
    "slideshow": {
     "slide_type": "slide"
    }
   },
   "source": [
    "## Problem 1) Creating an Interactive Sphere\n",
    "\n",
    "We will begin by creating a simple 3D object (a sphere). While there is nothing spectacular about a sphere, I'll note that it is not particularly easy to represent a(n interactive) sphere in `matplotlib`."
   ]
  },
  {
   "cell_type": "markdown",
   "metadata": {
    "slideshow": {
     "slide_type": "slide"
    }
   },
   "source": [
    "**Problem 1a**\n",
    "\n",
    "Open paraview. \n",
    "\n",
    "Create a sphere. [*Sources $\\rightarrow$ Sphere*]"
   ]
  },
  {
   "cell_type": "markdown",
   "metadata": {
    "slideshow": {
     "slide_type": "slide"
    }
   },
   "source": [
    "At this stage you will notice that nothing is yet visible in the layout panel. However, a few things have happened.\n",
    "\n",
    "There is now a pipeline module in the pipeline browser (upper left panel). Properties of the sphere can be adjusted in the properties panel (lower left). Finally, the *Apply* button in the properties panel is now active."
   ]
  },
  {
   "cell_type": "markdown",
   "metadata": {
    "slideshow": {
     "slide_type": "slide"
    }
   },
   "source": [
    "While this is not the case for this particular data set, because data ingestion and manipulation can be highly time consuming, ParaView allows you to perform those operations prior to rendering the data. \n",
    "\n",
    "The *Apply* allows you to accept those changes before proceeding. "
   ]
  },
  {
   "cell_type": "markdown",
   "metadata": {
    "slideshow": {
     "slide_type": "slide"
    }
   },
   "source": [
    "**Problem 1b**\n",
    "\n",
    "Render the sphere [click *Apply*].\n",
    "\n",
    "Use your mouse to inspect, rotate, and examine the sphere."
   ]
  },
  {
   "cell_type": "markdown",
   "metadata": {
    "slideshow": {
     "slide_type": "slide"
    }
   },
   "source": [
    "**Problem 1c**\n",
    "\n",
    "Adjust the center of the sphere to the position [0,0,1], and adjust the radius to 1. "
   ]
  },
  {
   "cell_type": "markdown",
   "metadata": {
    "slideshow": {
     "slide_type": "slide"
    }
   },
   "source": [
    "**Problem 1d**\n",
    "\n",
    "Make the sphere appear more \"spherical\" by adjusting theta resolution to 100. "
   ]
  },
  {
   "cell_type": "markdown",
   "metadata": {
    "slideshow": {
     "slide_type": "slide"
    }
   },
   "source": [
    "There are a variety of filters that can be applied to the data (in the *Filters* menu). The available filters are dependent on the data type provided to ParaView.\n",
    "\n",
    "**Problem 1e**\n",
    "\n",
    "Shrink the size of the mesh cells on the surface of the sphere. [*Filters* $\\rightarrow$ *Alphabetical*  $\\rightarrow$ *Shrink*]\n",
    "\n",
    "Can you see the shrunken mesh cells?"
   ]
  },
  {
   "cell_type": "markdown",
   "metadata": {
    "slideshow": {
     "slide_type": "slide"
    }
   },
   "source": [
    "## Problem 2) "
   ]
  },
  {
   "cell_type": "markdown",
   "metadata": {},
   "source": []
  },
  {
   "cell_type": "markdown",
   "metadata": {},
   "source": []
  },
  {
   "cell_type": "markdown",
   "metadata": {},
   "source": []
  },
  {
   "cell_type": "markdown",
   "metadata": {},
   "source": []
  },
  {
   "cell_type": "markdown",
   "metadata": {},
   "source": []
  },
  {
   "cell_type": "markdown",
   "metadata": {},
   "source": []
  },
  {
   "cell_type": "markdown",
   "metadata": {},
   "source": []
  },
  {
   "cell_type": "markdown",
   "metadata": {},
   "source": []
  },
  {
   "cell_type": "markdown",
   "metadata": {},
   "source": []
  },
  {
   "cell_type": "markdown",
   "metadata": {},
   "source": []
  },
  {
   "cell_type": "markdown",
   "metadata": {},
   "source": []
  },
  {
   "cell_type": "markdown",
   "metadata": {},
   "source": []
  },
  {
   "cell_type": "markdown",
   "metadata": {},
   "source": []
  },
  {
   "cell_type": "markdown",
   "metadata": {},
   "source": []
  },
  {
   "cell_type": "markdown",
   "metadata": {},
   "source": []
  },
  {
   "cell_type": "markdown",
   "metadata": {},
   "source": []
  },
  {
   "cell_type": "markdown",
   "metadata": {},
   "source": [
    "\n",
    "We will use the interactive version of ParaView to start (and we will use the python scripting tools later). \n",
    "\n",
    "As a starting place we are going to use 3D densitity and temperature data from ... simulations, which can be downloaded here: .\n",
    "\n",
    "## Problem 1\n",
    "\n",
    "**Problem 1a**\n",
    "\n",
    "Using the File >> Open option, open the Density.vtk and Temperature.vtk files.\n",
    "\n",
    "**Problem 1b**\n",
    "\n",
    "Select the \"eye\" next to Density to \"turn on\" that data.\n",
    "\n",
    "**Problem 1c**\n",
    "\n",
    "Change the representation to Volume. Move around the cube to get a sense of the data.\n",
    "\n",
    "**Problem 1d**\n",
    "\n",
    "Select the eye for Temperature, and change the representation to Volume. Again, explore the cube.\n",
    "\n",
    "**Problem 1e**\n",
    "\n",
    "Change the colorbar for the Temperature. \n",
    "\n",
    "In the properties tab, under the Coloring header, select the choose presets folder (this is the folder with heart over it). \n",
    "\n",
    "Using your previous knowledge of visualization, select a terrible colorbar.\n",
    "\n",
    "Replace the terrible colorbar with a useful colorbar.\n",
    "\n",
    "**Problem 1f**\n",
    "\n",
    "Change the colorbar for the Density.\n",
    "\n",
    "**Problem 1g**\n",
    "\n",
    "Turn on both the Temperature and Density. Can you see both volume renditions? If not, adjust the color schemes for each.\n",
    "\n",
    "\n",
    "## Problem 2) Slicing the rendition\n",
    "\n",
    "**Problem 2a**\n",
    "\n",
    "Select the density data. Then slice the data using the tool in the top bar. When happy with the slice that you have selected, click \"apply\".\n",
    "\n",
    "*Note* - you can adjust the position of the slice by dragging the outline, and you can adjust the angle of the slice with the arrow.\n",
    "\n",
    "**Problem 2b**\n",
    "\n",
    "Hide the density and temperature data, and examine the slice. If you are unhappy with your previous selection, adjust it.\n",
    "\n",
    "**Problem 2c**\n",
    "\n",
    "Add a contour to the slice. This can be done using the contour buttom (multiple concentric half-spheres).\n",
    "\n",
    "Set the range for the contours from -2 to 2.5, and choose 6 steps for the contours. If you need to, adjust the color of the contours so they are visible relative to the \n",
    "\n",
    "**Problem 2d**\n",
    "\n",
    "Add a clip to the temperature data. This can be done using the clip buttom (between the slice and contour buttons).\n",
    "\n",
    "Adjust the position of the clip to match that of the density contour.\n",
    "\n",
    "*Note* - you may need to slide the position of the clip slightly so that the contours remain visible.\n",
    "\n",
    "\n"
   ]
  },
  {
   "cell_type": "code",
   "execution_count": null,
   "metadata": {
    "collapsed": true
   },
   "outputs": [],
   "source": []
  }
 ],
 "metadata": {
  "celltoolbar": "Slideshow",
  "kernelspec": {
   "display_name": "Python 3",
   "language": "python",
   "name": "python3"
  },
  "language_info": {
   "codemirror_mode": {
    "name": "ipython",
    "version": 3
   },
   "file_extension": ".py",
   "mimetype": "text/x-python",
   "name": "python",
   "nbconvert_exporter": "python",
   "pygments_lexer": "ipython3",
   "version": "3.6.2"
  }
 },
 "nbformat": 4,
 "nbformat_minor": 2
}
