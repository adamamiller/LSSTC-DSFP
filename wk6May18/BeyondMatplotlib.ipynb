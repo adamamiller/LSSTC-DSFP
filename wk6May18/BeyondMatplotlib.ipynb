{
 "cells": [
  {
   "cell_type": "markdown",
   "metadata": {
    "slideshow": {
     "slide_type": "slide"
    }
   },
   "source": [
    "# Beyond Matplotlib: Building an Interactive/3D Representation of Your Data\n",
    "\n",
    "**version 0.1**\n",
    "\n",
    "***\n",
    "By AA Miller (Northwestern CIERA/Adler Planetarium)"
   ]
  },
  {
   "cell_type": "markdown",
   "metadata": {
    "slideshow": {
     "slide_type": "slide"
    }
   },
   "source": [
    "As was previously mentioned, we are now going to have an extended period of time to build some new representation *for your own data*. However, before we dive into that I want to share a few thoughts for your consideration."
   ]
  },
  {
   "cell_type": "markdown",
   "metadata": {
    "slideshow": {
     "slide_type": "slide"
    }
   },
   "source": [
    "## Data Tell a Story"
   ]
  },
  {
   "cell_type": "markdown",
   "metadata": {
    "slideshow": {
     "slide_type": "slide"
    }
   },
   "source": [
    "We design and build experiments for a large variety of reasons, and after the collection of the observations we then process that information to perform some kind of inference. "
   ]
  },
  {
   "cell_type": "markdown",
   "metadata": {
    "slideshow": {
     "slide_type": "slide"
    }
   },
   "source": [
    "Then, at the very very end of all of this, we make plots. These plots are designed to communicate our findings, and thus..."
   ]
  },
  {
   "cell_type": "markdown",
   "metadata": {
    "slideshow": {
     "slide_type": "slide"
    }
   },
   "source": [
    "**Data Tell a Story**"
   ]
  },
  {
   "cell_type": "markdown",
   "metadata": {
    "slideshow": {
     "slide_type": "slide"
    }
   },
   "source": [
    "We have spent a considerable amount of time throughout the DSFP talking about visualization, with a focus on things like `viridis` or what shapes to use while plotting or the harmful effects of pie charts...\n",
    "\n",
    "And (with our thumb on the scale) we create or find examples where these choices really really make a difference in the final product. "
   ]
  },
  {
   "cell_type": "markdown",
   "metadata": {
    "slideshow": {
     "slide_type": "slide"
    }
   },
   "source": [
    "We do this, however, not to create something that is \"cool\" but to create a better means of communication, or \"telling a story.\" So if you are spending 7 hours trying to decide on exactly the right color for your scatter plot (and I have done this), it should be in service of this goal: to tell a story."
   ]
  },
  {
   "cell_type": "markdown",
   "metadata": {
    "slideshow": {
     "slide_type": "slide"
    }
   },
   "source": [
    "**Break Out Problem 1**\n",
    "\n",
    "What story is being told by this Figure?\n",
    "\n",
    "<img style=\"display: block; margin-left: auto; margin-right: auto\" src=\"./Day4_images/example_story.png\" align=\"middle\">\n",
    "\n",
    "*spend a few minutes discussing with your partner*\n",
    "\n",
    "\n",
    "<div align=\"right\"> <font size=\"-3\">(credit: Tachibana & Miller 2018) </font></div>\n"
   ]
  },
  {
   "cell_type": "markdown",
   "metadata": {
    "slideshow": {
     "slide_type": "slide"
    }
   },
   "source": [
    "**Solution to Break Out Problem 1**\n",
    "\n",
    "*Write your solution here*"
   ]
  },
  {
   "cell_type": "markdown",
   "metadata": {
    "slideshow": {
     "slide_type": "slide"
    }
   },
   "source": [
    "## Problem 1) Beyond Matplotlib"
   ]
  },
  {
   "cell_type": "markdown",
   "metadata": {
    "slideshow": {
     "slide_type": "slide"
    }
   },
   "source": [
    "Your charge for today is to build a visualization of your own data using one of the three new tools that we have learned about this week (ParaView, Bokeh, Glue). \n",
    "\n",
    "In building this visualization we ask that you maximize the following objective function: \"story telling content in my data representation.\""
   ]
  },
  {
   "cell_type": "markdown",
   "metadata": {
    "slideshow": {
     "slide_type": "slide"
    }
   },
   "source": [
    "You should work on your own (the point is to develop something that supports *your* research). \n",
    "\n",
    "At the end of the day, we want to tell a story (and not solely focus on making someone say \"cool\"). As you will typically not be present to guide a viewer through your visualizations, to the extent that is possible, the visualization itself should be the \"storyteller\", rather than it relying heavily on you to narrate it. "
   ]
  },
  {
   "cell_type": "markdown",
   "metadata": {
    "slideshow": {
     "slide_type": "slide"
    }
   },
   "source": [
    "Boundary Condition 1: work on your own.\n",
    "\n",
    "Boundary Condition 2: use ParaView, `bokeh`, or `glue`.\n",
    "\n",
    "If you are planning to break either boundary condition you must obtain prior approval from either myself or Lucianne."
   ]
  },
  {
   "cell_type": "markdown",
   "metadata": {
    "slideshow": {
     "slide_type": "slide"
    }
   },
   "source": [
    "**Share backs**\n",
    "\n",
    "At 5:30 (sharp) you will have 45 sec to share your presentation. \n",
    "\n",
    "**10 sec** where you are silent and everyone has to dechipher the story\n",
    "\n",
    "**30 sec** where you get to tell the story"
   ]
  }
 ],
 "metadata": {
  "celltoolbar": "Slideshow",
  "kernelspec": {
   "display_name": "Python 3",
   "language": "python",
   "name": "python3"
  },
  "language_info": {
   "codemirror_mode": {
    "name": "ipython",
    "version": 3
   },
   "file_extension": ".py",
   "mimetype": "text/x-python",
   "name": "python",
   "nbconvert_exporter": "python",
   "pygments_lexer": "ipython3",
   "version": "3.6.5"
  },
  "livereveal": {
   "height": 768,
   "scroll": true,
   "start_slideshow_at": "selected",
   "theme": "solarized",
   "width": 1024
  }
 },
 "nbformat": 4,
 "nbformat_minor": 2
}
