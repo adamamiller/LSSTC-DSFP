{
 "cells": [
  {
   "cell_type": "code",
   "execution_count": 5,
   "metadata": {
    "collapsed": true,
    "slideshow": {
     "slide_type": "skip"
    }
   },
   "outputs": [],
   "source": [
    "import numpy as np\n",
    "import matplotlib.pyplot as plt\n",
    "%matplotlib notebook"
   ]
  },
  {
   "cell_type": "markdown",
   "metadata": {
    "slideshow": {
     "slide_type": "skip"
    }
   },
   "source": [
    "First and foremost, you should have already installed ParaView on your machine. If not, you can [download the package](https://www.paraview.org/download/) from [paraview.org](https://www.paraview.org)."
   ]
  },
  {
   "cell_type": "markdown",
   "metadata": {
    "slideshow": {
     "slide_type": "slide"
    }
   },
   "source": [
    "# An Introduction to ParaView\n",
    "\n",
    "**version 0.1**\n",
    "\n",
    "***\n",
    "\n",
    "Adam A Miller (Northwestern CIERA/Adler Planetarium)\n",
    "01 May 2018"
   ]
  },
  {
   "cell_type": "markdown",
   "metadata": {
    "slideshow": {
     "slide_type": "slide"
    }
   },
   "source": [
    "Our data do not live in 2 dimensions... \n",
    "\n",
    "[As the third grade version of me would say, *\"Ummmm, Mr. Miller? Duh!\"*]"
   ]
  },
  {
   "cell_type": "markdown",
   "metadata": {
    "slideshow": {
     "slide_type": "slide"
    }
   },
   "source": [
    "And yet, a fundamental limitation we that consisently place upon ourselves is to insist that we represent the data in 2D when communicating with the public and our colleagues. \n",
    "\n",
    "In a sense, we are doing science with 1 arm tied behind our backs..."
   ]
  },
  {
   "cell_type": "markdown",
   "metadata": {
    "slideshow": {
     "slide_type": "slide"
    }
   },
   "source": [
    "Our data also do not live in 3 dimensions.\n",
    "\n",
    "But I can think of a distinct advantage to moving to 3D representations: our spatial representation of the Universe can be fully described in 3 dimensions. \n",
    "\n",
    "Thus, if we want to describe the positions of stars in a cluster (*Gaia*?), or show variations in density within a Giant Molecular Cloud, or examine the surface of a minor planet or asteroid, these tasks are all acomplished much better in 3D."
   ]
  },
  {
   "cell_type": "markdown",
   "metadata": {
    "slideshow": {
     "slide_type": "subslide"
    }
   },
   "source": [
    "(ignoring special relativity for now...)"
   ]
  },
  {
   "cell_type": "markdown",
   "metadata": {
    "slideshow": {
     "slide_type": "slide"
    }
   },
   "source": [
    "Why interactive?\n",
    "\n",
    "It would not be unreasonable to take the following stance: the heavy lifting in exploring a data set should be done by the researchers. In this sense, \"final\" plots or renditions can be presented to an audience via a slide or paper that summarize all of the salient features."
   ]
  },
  {
   "cell_type": "markdown",
   "metadata": {
    "slideshow": {
     "slide_type": "slide"
    }
   },
   "source": [
    "What if, however, you wish to enable science, or discovery, for amatuers (e.g., the [Zooniverse](https://www.zooniverse.org/), or even in the classroom (see James's talk from yesterday)? \n",
    "\n",
    "It is unfair to ask this audience to calculate integrals, or to develop even a small fraction of the domain expertise that you and your colleagues (PhDs and PhD candidates) have. Interactivity provides a natural way for this audience to explore the data."
   ]
  },
  {
   "cell_type": "markdown",
   "metadata": {
    "slideshow": {
     "slide_type": "slide"
    }
   },
   "source": [
    "Furthermore, it may even *help you* in your quest for discovery and understaning."
   ]
  },
  {
   "cell_type": "markdown",
   "metadata": {
    "slideshow": {
     "slide_type": "slide"
    }
   },
   "source": [
    "So, today –– [ParaView](https://www.paraview.org/)"
   ]
  },
  {
   "cell_type": "markdown",
   "metadata": {
    "slideshow": {
     "slide_type": "slide"
    }
   },
   "source": [
    "ParaView is an open source platform that was specifically designed for data analysis and visualization. Briefly, ParaView is interesting (for us) for several reasons: \n",
    "\n",
    "  1. General purpose and can easily be used on laptop or HPC\n",
    "  2. Naturally utilizes multiple processors for handling large data sets (in particular 3D)\n",
    "  3. Includes a scripting interface (via Python)"
   ]
  },
  {
   "cell_type": "markdown",
   "metadata": {
    "slideshow": {
     "slide_type": "slide"
    }
   },
   "source": [
    "Ultimately, we want to turn data (images, measurements, spectra, etc) into some rendering to represent the data in a way that provides insight or better understanding [for all viz, not just ParaView].\n",
    "\n",
    "ParaView takes VTK, the Visualization Toolkit, data as an input (later you will create some VTK files)."
   ]
  },
  {
   "cell_type": "markdown",
   "metadata": {
    "slideshow": {
     "slide_type": "slide"
    }
   },
   "source": [
    "VTK uses a basic data-flow paradigm, in which data flows through the system while being transformed at each step [via modules known as algorithms]. Algorithms have input ports to take data, and output ports to produce output:\n",
    "\n",
    "  * Sources do not have input ports, but have outputs [i.e. to get data into the system, e.g., reading a file]\n",
    "  * Sinks convert input into graphics such that they can be rendered \n",
    "  * Filters are intermediate algorithms, that convert input into output"
   ]
  },
  {
   "cell_type": "markdown",
   "metadata": {
    "slideshow": {
     "slide_type": "slide"
    }
   },
   "source": [
    "Connecting sources, sinks, and filters can create arbitrarily complicated visual renderings. \n",
    "\n",
    "<img style=\"display: block; margin-left: auto; margin-right: auto\" src=\"./Day2_images/pv_visualization_model.png\" align=\"middle\">\n",
    "\n",
    "<div align=\"right\"> <font size=\"-3\">(credit: ParaView Guide) </font></div>"
   ]
  },
  {
   "cell_type": "markdown",
   "metadata": {
    "slideshow": {
     "slide_type": "slide"
    }
   },
   "source": [
    "Following this brief introduction, we will start the visual exploration with ParaView. "
   ]
  },
  {
   "cell_type": "markdown",
   "metadata": {
    "slideshow": {
     "slide_type": "slide"
    }
   },
   "source": [
    "## Problem 1) Creating an Interactive Sphere\n",
    "\n",
    "We will begin by creating a simple 3D object (a sphere). While there is nothing spectacular about a sphere, I'll note that it is not particularly easy to represent a(n interactive) sphere in `matplotlib`."
   ]
  },
  {
   "cell_type": "markdown",
   "metadata": {
    "slideshow": {
     "slide_type": "slide"
    }
   },
   "source": [
    "**Problem 1a**\n",
    "\n",
    "Open paraview. \n",
    "\n",
    "Create a sphere. [*Sources $\\rightarrow$ Sphere*]"
   ]
  },
  {
   "cell_type": "markdown",
   "metadata": {
    "slideshow": {
     "slide_type": "slide"
    }
   },
   "source": [
    "At this stage you will notice that nothing is yet visible in the layout panel. However, a few things have happened.\n",
    "\n",
    "There is now a pipeline module in the pipeline browser (upper left panel). Properties of the sphere can be adjusted in the properties panel (lower left). Finally, the *Apply* button in the properties panel is now active."
   ]
  },
  {
   "cell_type": "markdown",
   "metadata": {
    "slideshow": {
     "slide_type": "slide"
    }
   },
   "source": [
    "While this is not the case for this particular data set, because data ingestion and manipulation can be highly time consuming, ParaView allows you to perform those operations prior to rendering the data. \n",
    "\n",
    "The *Apply* button allows you to accept those changes before proceeding. "
   ]
  },
  {
   "cell_type": "markdown",
   "metadata": {
    "slideshow": {
     "slide_type": "slide"
    }
   },
   "source": [
    "**Problem 1b**\n",
    "\n",
    "Render the sphere [click *Apply*].\n",
    "\n",
    "Use your mouse to inspect, rotate, and examine the sphere."
   ]
  },
  {
   "cell_type": "markdown",
   "metadata": {
    "slideshow": {
     "slide_type": "slide"
    }
   },
   "source": [
    "**Problem 1c**\n",
    "\n",
    "Adjust the center of the sphere to the position [0,0,1], and adjust the radius to 1. "
   ]
  },
  {
   "cell_type": "markdown",
   "metadata": {
    "slideshow": {
     "slide_type": "slide"
    }
   },
   "source": [
    "**Problem 1d**\n",
    "\n",
    "Make the sphere appear more \"spherical\" by adjusting theta resolution to 100. "
   ]
  },
  {
   "cell_type": "markdown",
   "metadata": {
    "slideshow": {
     "slide_type": "slide"
    }
   },
   "source": [
    "There are a variety of filters that can be applied to the data (in the *Filters* menu). The available filters are dependent on the data type provided to ParaView.\n",
    "\n",
    "**Problem 1e**\n",
    "\n",
    "Shrink the size of the mesh cells on the surface of the sphere. [*Filters* $\\rightarrow$ *Alphabetical*  $\\rightarrow$ *Shrink*]\n",
    "\n",
    "Can you see the shrunken mesh cells?"
   ]
  },
  {
   "cell_type": "markdown",
   "metadata": {
    "slideshow": {
     "slide_type": "slide"
    }
   },
   "source": [
    "## Problem 2) Python Scripting a Sphere\n",
    "\n",
    "ParaView provides a python scripting interface. The package, `pvpython`, makes it possible to script up everything that one might want to do with paraview, using `python` (!). \n",
    "\n",
    "The ability to script these tasks is hugely important for reproducibility (and more advanced versions of automated analysis). "
   ]
  },
  {
   "cell_type": "markdown",
   "metadata": {
    "slideshow": {
     "slide_type": "slide"
    }
   },
   "source": [
    "Unfortunately, (as far as I can tell) `pvpython` is only compatible with `python` version 2.x, and it will not run within our DSFP conda environment. Forunately, ParaView ships with an internal `python` interpreter, so we are going to use that for now."
   ]
  },
  {
   "cell_type": "markdown",
   "metadata": {
    "slideshow": {
     "slide_type": "slide"
    }
   },
   "source": [
    "**Problem 2a**\n",
    "\n",
    "Open the `python` interpreter. [*View $\\rightarrow$ Python Shell*]\n",
    "\n",
    "This will open a `python` (likely v2.7.10) instance just below the layout panel."
   ]
  },
  {
   "cell_type": "markdown",
   "metadata": {
    "slideshow": {
     "slide_type": "slide"
    }
   },
   "source": [
    "Unfortunately, at this stage there are many panels, and not a lot of room to inspect the visualization. Ideally a lot of this work would be done on larger screens, but we will for now work with what we have.\n",
    "\n",
    "[If space is really at a premium on your screen, you can remove the pipeline browser and properties window as everything will be scripted for the remainder of this problem.]"
   ]
  },
  {
   "cell_type": "markdown",
   "metadata": {
    "slideshow": {
     "slide_type": "slide"
    }
   },
   "source": [
    "Before we proceed - remove the previously created sphere from the layout panel. [Click on Shrink, then click the *delete* button in the properties tab. Click on Sphere1, then click the *delete* button in the properties tab.]"
   ]
  },
  {
   "cell_type": "markdown",
   "metadata": {
    "slideshow": {
     "slide_type": "slide"
    }
   },
   "source": [
    "**Problem 2b**\n",
    "\n",
    "Create the sphere data source using the `python` interpreter.\n",
    "\n",
    "    Sphere()"
   ]
  },
  {
   "cell_type": "markdown",
   "metadata": {
    "slideshow": {
     "slide_type": "slide"
    }
   },
   "source": [
    "As before, we have created an active source in the pipeline. However, the sphere has not been rendered.\n",
    "\n",
    "**Problem 2c**\n",
    "\n",
    "Show the active source. \n",
    "\n",
    "    Show()      # prepare the display\n",
    "    Render()    # render the visualization"
   ]
  },
  {
   "cell_type": "markdown",
   "metadata": {
    "slideshow": {
     "slide_type": "slide"
    }
   },
   "source": [
    "**Problem 2d**\n",
    "\n",
    "Adjust the properties of the sphere to match those in **Problem 1**.\n",
    "\n",
    "    SetProperties(Radius=1.0)\n",
    "    SetProperties(Center=[0,0,1])"
   ]
  },
  {
   "cell_type": "markdown",
   "metadata": {
    "slideshow": {
     "slide_type": "slide"
    }
   },
   "source": [
    "In addition to `SetProperties` for the data, you can also use `SetDisplayProperties` to adjust the geometric represenation of the data."
   ]
  },
  {
   "cell_type": "markdown",
   "metadata": {
    "slideshow": {
     "slide_type": "slide"
    }
   },
   "source": [
    "**Problem 2e**\n",
    "\n",
    "Set the opacity of the sphere to 0.2.\n",
    "\n",
    "    SetDisplayProperties(0.2)"
   ]
  },
  {
   "cell_type": "markdown",
   "metadata": {
    "slideshow": {
     "slide_type": "slide"
    }
   },
   "source": [
    "As before, we can also create filters via `pvpython`. Again, we will shrink the size of the mesh cells on the sphere."
   ]
  },
  {
   "cell_type": "markdown",
   "metadata": {
    "slideshow": {
     "slide_type": "slide"
    }
   },
   "source": [
    "**Problem 2f**\n",
    "\n",
    "Shrink the mesh cells on the surface of the sphere (using only python commands).\n",
    "\n",
    "    Shrink()\n",
    "\n",
    "*Hint* - don't forget to render the object."
   ]
  },
  {
   "cell_type": "markdown",
   "metadata": {
    "slideshow": {
     "slide_type": "slide"
    }
   },
   "source": [
    "Does this look like the rendering that we created previously?\n",
    "\n",
    "When scripting ParaView, the input data set is not automatically hidden after creating a new output. Instead, these actions must be done explicitly. There are a few different ways to handle this (below is an example that leverages an object oriented approach – meaning you need to start over to follow this)."
   ]
  },
  {
   "cell_type": "markdown",
   "metadata": {
    "slideshow": {
     "slide_type": "slide"
    }
   },
   "source": [
    "**Problem 2g**\n",
    "\n",
    "Using python remove the sphere instance from the rendition of the sphere.\n",
    "\n",
    "    sphereInstance = Sphere()\n",
    "    sphereInstance.Radius = 1.0\n",
    "    sphereInstance.Center[2] = 1.0\n",
    "    print sphereInstance.Center\n",
    "\n",
    "    sphereDisplay = Show(sphereInstance) \n",
    "    view = Render () \n",
    "    sphereDisplay.Opacity = 0.7\n",
    "\n",
    "    Render(view)\n",
    "\n",
    "    shrinkInstance = Shrink(Input=sphereInstance , ShrinkFactor=1.0)\n",
    "    print shrinkInstance.ShrinkFactor\n",
    "    Hide(sphereInstance)\n",
    "    shrinkDisplay = Show(shrinkInstance) \n",
    "    Render()"
   ]
  },
  {
   "cell_type": "markdown",
   "metadata": {
    "slideshow": {
     "slide_type": "slide"
    }
   },
   "source": [
    "## Problem 3) Scripting An Interactive Sphere\n",
    "\n",
    "Finally, it is possible to capture the commands executed via the GUI as a python script. In this way it is easy to reproduce an interactive session."
   ]
  },
  {
   "cell_type": "markdown",
   "metadata": {
    "slideshow": {
     "slide_type": "slide"
    }
   },
   "source": [
    "**Problem 3a**\n",
    "\n",
    "Trace your interactive commands [*Tools $\\rightarrow$ Start Trace*]"
   ]
  },
  {
   "cell_type": "markdown",
   "metadata": {
    "slideshow": {
     "slide_type": "slide"
    }
   },
   "source": [
    "**Problem 3b**\n",
    "\n",
    "Recrete a sphere following the steps from **Problem 1**.\n",
    "\n",
    "How does your trace compare to the script that you developed in **Problem 2**?"
   ]
  },
  {
   "cell_type": "markdown",
   "metadata": {
    "slideshow": {
     "slide_type": "slide"
    }
   },
   "source": [
    "**Break Out Problem**\n",
    "\n",
    "Of the 3 modes covered in Problems 1, 2, and 3 - which is to be preferred?\n",
    "\n",
    "[*spend a few minutes discussing with your neighbor*]"
   ]
  },
  {
   "cell_type": "markdown",
   "metadata": {
    "slideshow": {
     "slide_type": "slide"
    }
   },
   "source": [
    "## Problem 4) Getting Data Into ParaView"
   ]
  },
  {
   "cell_type": "markdown",
   "metadata": {
    "slideshow": {
     "slide_type": "slide"
    }
   },
   "source": [
    "Spheres are all well and good, but what we truly care about is visualizing our astronomical data.\n",
    "\n",
    "Unfortunately, this is not as simple as `plot(x,y)` or even `plot(x,y,z)` as you might expect for something designed to play nicely with `python`."
   ]
  },
  {
   "cell_type": "markdown",
   "metadata": {
    "slideshow": {
     "slide_type": "slide"
    }
   },
   "source": [
    "Instead, we need to package the data as [Visualization Toolkit](https://www.vtk.org), or vtk, files.\n",
    "\n",
    "Even more unfortunately, vtk are binary files that are known to be somewhat challenging to work with.\n",
    "\n",
    "Nevertheless, many of the most common/powerful 3D rendering programs (ParaView, Mayavi, etc), utilize vtk data."
   ]
  },
  {
   "cell_type": "markdown",
   "metadata": {
    "slideshow": {
     "slide_type": "subslide"
    }
   },
   "source": [
    "If I am being completely honest – and I always try to be completely honest – I don't know a lot about vtk, or why it's an especially useful format for these programs. \n",
    "\n",
    "Nevertheless, I will try to provide you with some insight (i.e. repeat what other people have said) on the vtk format."
   ]
  },
  {
   "cell_type": "markdown",
   "metadata": {
    "slideshow": {
     "slide_type": "slide"
    }
   },
   "source": [
    "Briefly, the vtk representation of data requires the specification of a geometry or topology, and then the data set properties are specified within the chosen geometry. vtk can handle points or cells data in five different formats: structured points, structured grid, rectilinear grid, unstructured grid, and polygonal data."
   ]
  },
  {
   "cell_type": "markdown",
   "metadata": {
    "slideshow": {
     "slide_type": "slide"
    }
   },
   "source": [
    "Structured points is the most simple format, wherein only the mesh dimensions (nx, ny, nz), mesh origin (x0, y0, z0), and cell dimensions (dx, dy, dz) are specified.\n",
    "\n",
    "<img style=\"display: block; margin-left: auto; margin-right: auto\" src=\"./Day2_images/Structured_points.png\" align=\"middle\">\n",
    "\n",
    "<div align=\"right\"> <font size=\"-3\">(credit: https://www.vtk.org/Wiki/VTK/Writing_VTK_files_using_python) </font></div>"
   ]
  },
  {
   "cell_type": "markdown",
   "metadata": {
    "slideshow": {
     "slide_type": "slide"
    }
   },
   "source": [
    "Rectilinear grid is also regularly spaced, but the spacing is not uniform. Thus, nodes must be specified along the given axes Ox, Oy, and Oz. \n",
    "\n",
    "<img style=\"display: block; margin-left: auto; margin-right: auto\" src=\"./Day2_images/Rectilinear_grid.png\" align=\"middle\">\n",
    "\n",
    "<div align=\"right\"> <font size=\"-3\">(credit: https://www.vtk.org/Wiki/VTK/Writing_VTK_files_using_python) </font></div>"
   ]
  },
  {
   "cell_type": "markdown",
   "metadata": {
    "slideshow": {
     "slide_type": "slide"
    }
   },
   "source": [
    "Structured grid is not regular or uniform. Thus, the nodes for every point within the mesh must be specified.\n",
    "\n",
    "<img style=\"display: block; margin-left: auto; margin-right: auto\" src=\"./Day2_images/Structured_grid.png\" align=\"middle\">\n",
    "\n",
    "<div align=\"right\"> <font size=\"-3\">(credit: https://www.vtk.org/Wiki/VTK/Writing_VTK_files_using_python) </font></div>"
   ]
  },
  {
   "cell_type": "markdown",
   "metadata": {
    "slideshow": {
     "slide_type": "slide"
    }
   },
   "source": [
    "Unstructured grid is a structured grid, but it can handle cell data (not just point data).\n",
    "\n",
    "Polygonal data is the most complicated (and thus provides a great deal of representational freedom), but we are going to ignore this for now."
   ]
  },
  {
   "cell_type": "markdown",
   "metadata": {
    "slideshow": {
     "slide_type": "slide"
    }
   },
   "source": [
    "As I mentioned previously, formatting data as vtk files is a bit of a pain. Fortuantely, there is a python package `pyevtk` that makes the process relatively painless."
   ]
  },
  {
   "cell_type": "markdown",
   "metadata": {
    "slideshow": {
     "slide_type": "skip"
    }
   },
   "source": [
    "You should have already installed `pyevtk`, but if not you can run: \n",
    "\n",
    "    pip install pyevtk"
   ]
  },
  {
   "cell_type": "code",
   "execution_count": 14,
   "metadata": {
    "collapsed": true,
    "slideshow": {
     "slide_type": "slide"
    }
   },
   "outputs": [],
   "source": [
    "from pyevtk.hl import gridToVTK, pointsToVTK"
   ]
  },
  {
   "cell_type": "markdown",
   "metadata": {
    "slideshow": {
     "slide_type": "slide"
    }
   },
   "source": [
    "We will start with a relatively straightforward example of creating a collection of points in 3 dimentions\n",
    "\n",
    "**Problem 4a**\n",
    "\n",
    "Create 3 arrays, `x, y, z`, of 500 points each that consist of random draws from independent gaussian distributions with mean 0 and standard deviation 20.\n",
    "\n",
    "Evalute the temperature and density on the grid provided below.\n",
    "\n",
    "$$T = 2.4/x + 0.04y^2 + 5/z$$\n",
    "$$\\rho = 1.11x^2 + 3.1y + 0.6z^2$$"
   ]
  },
  {
   "cell_type": "code",
   "execution_count": 21,
   "metadata": {
    "collapsed": true,
    "slideshow": {
     "slide_type": "slide"
    }
   },
   "outputs": [],
   "source": [
    "np.random.seed(23)\n",
    "\n",
    "x = np.random.normal(0,20,size=500)\n",
    "y = np.random.normal(0,20,size=500)\n",
    "z = np.random.normal(0,20,size=500)\n",
    "\n",
    "temp = 2.4/x + 0.04*y**2 + 5/z\n",
    "pressure = 1.11*x**2 + 3.1*y + 0.6*z**2"
   ]
  },
  {
   "cell_type": "markdown",
   "metadata": {
    "slideshow": {
     "slide_type": "slide"
    }
   },
   "source": [
    "**Problem 4b**\n",
    "\n",
    "Execute the cell below to create a .vtu file that can be read by ParaView.\n",
    "\n",
    "Open the file in ParaView. Represent the pressure data as *Point Gaussian*, and change the color to match that of the data.\n",
    "\n",
    "From the ParaView render, how would you describe the pressure of the system? What about the temperature?"
   ]
  },
  {
   "cell_type": "code",
   "execution_count": 20,
   "metadata": {
    "slideshow": {
     "slide_type": "slide"
    }
   },
   "outputs": [
    {
     "data": {
      "text/plain": [
       "'/Users/adamamiller/astronomy/LSST/DSFP/LSSTC-DSFP/wk6May18/points.vtu'"
      ]
     },
     "execution_count": 20,
     "metadata": {},
     "output_type": "execute_result"
    }
   ],
   "source": [
    "pointsToVTK(\"./points\", x, y, z, data = {\"temp\" : temp, \"pressure\" : pressure})"
   ]
  },
  {
   "cell_type": "markdown",
   "metadata": {
    "slideshow": {
     "slide_type": "slide"
    }
   },
   "source": [
    "I can already think of a few ways in which this representation would be useful (especially now that there is Gaia data available), but the real power of ParaView comes via the volume renderings (which require \"cell\" data as opposed to \"point\" data). \n",
    "\n",
    "We will start with random data on a structured grid. Recall that this means we need to specify the mesh dimensions and cell widths before evaluating data on the grid. [A more interesting example follows]"
   ]
  },
  {
   "cell_type": "code",
   "execution_count": 23,
   "metadata": {
    "collapsed": true,
    "slideshow": {
     "slide_type": "slide"
    }
   },
   "outputs": [],
   "source": [
    "nx, ny, nz = 6, 6, 2           # number of cells\n",
    "lx, ly, lz = 1.0, 1.0, 1.0     # length on each size\n",
    "dx, dy, dz = lx/nx, ly/ny, lz/nz       # size of the cells\n",
    "ncells = nx * ny * nz          # total number of cells\n",
    "npoints = (nx + 1) * (ny + 1) * (nz + 1)     # points defined by boundaries, hence n + 1"
   ]
  },
  {
   "cell_type": "markdown",
   "metadata": {
    "slideshow": {
     "slide_type": "slide"
    }
   },
   "source": [
    "From here we can establish the coordinates of the cell and the point data."
   ]
  },
  {
   "cell_type": "code",
   "execution_count": 38,
   "metadata": {
    "collapsed": true,
    "slideshow": {
     "slide_type": "slide"
    }
   },
   "outputs": [],
   "source": [
    "x = np.arange(0, lx + 0.1*dx, dx, dtype='float64') \n",
    "y = np.arange(0, ly + 0.1*dy, dy, dtype='float64') \n",
    "z = np.arange(0, lz + 0.1*dz, dz, dtype='float64') "
   ]
  },
  {
   "cell_type": "markdown",
   "metadata": {
    "slideshow": {
     "slide_type": "slide"
    }
   },
   "source": [
    "**Problem 4c**\n",
    "\n",
    "Assign random values for the pressure and tempurature and export the data to a file called structure.vtr.\n",
    "\n",
    "Open structure.vtr in ParaView. Represent the data as a surface with edges, and color the pressure data.\n",
    "\n",
    "*Note* - pay attention to the shape of the pressure and temperature data."
   ]
  },
  {
   "cell_type": "code",
   "execution_count": 39,
   "metadata": {
    "slideshow": {
     "slide_type": "slide"
    }
   },
   "outputs": [
    {
     "data": {
      "text/plain": [
       "'/Users/adamamiller/astronomy/LSST/DSFP/LSSTC-DSFP/wk6May18/structured.vtr'"
      ]
     },
     "execution_count": 39,
     "metadata": {},
     "output_type": "execute_result"
    }
   ],
   "source": [
    "pressure = np.random.rand(ncells).reshape( (nx, ny, nz)) \n",
    "\n",
    "temp = np.random.rand(npoints).reshape( (nx + 1, ny + 1, nz + 1)) \n",
    "\n",
    "gridToVTK(\"./structured\", x, y, z, cellData = {\"pressure\" : pressure}, pointData = {\"temp\" : temp})"
   ]
  },
  {
   "cell_type": "markdown",
   "metadata": {
    "slideshow": {
     "slide_type": "slide"
    }
   },
   "source": [
    "Now we will create a slightly more complicated volume rendition of the pressure and temperature.\n",
    "\n",
    "**Problem 4d**\n",
    "\n",
    "Create a grid with 25 cells on a side and equal size cells of length = 0.4. Create cell data for the pressure and point data for the temparture according to the functions given below.\n",
    "\n",
    "$$\\rho = \\left(\\cos(x) + \\cos(y) + \\cos(z)\\right)e^{-(x + y + z)^2/5}$$\n",
    "$$T = x + y + z$$\n",
    "\n",
    "*Hint* - avoid writing any loops for this problem."
   ]
  },
  {
   "cell_type": "code",
   "execution_count": 98,
   "metadata": {
    "collapsed": true,
    "slideshow": {
     "slide_type": "slide"
    }
   },
   "outputs": [],
   "source": [
    "nx, ny, nz = 25, 25, 25           # number of cells\n",
    "lx, ly, lz = 10, 10, 10     # length on each size\n",
    "dx, dy, dz = lx/nx, ly/ny, lz/nz       # size of the cells\n",
    "\n",
    "x = np.arange(-lx/2, lx/2 + 0.1*dx, dx, dtype='float64') \n",
    "y = np.arange(-ly/2, ly/2 + 0.1*dy, dy, dtype='float64') \n",
    "z = np.arange(-lz/2, lz/2 + 0.1*dz, dz, dtype='float64')\n",
    "\n",
    "xp, yp, zp = np.meshgrid(x[:-1] + np.diff(x)/2,\n",
    "                         y[:-1] + np.diff(y)/2,\n",
    "                         z[:-1] + np.diff(z)/2,\n",
    "                         indexing='ij')\n",
    "xt, yt, zt = np.meshgrid(x,y,z,\n",
    "                         indexing='ij')\n",
    "\n",
    "pressure = (np.cos(xp) + np.cos(yp) + np.cos(zp))*np.exp(-(xp + yp + zp)**2/5)"
   ]
  },
  {
   "cell_type": "markdown",
   "metadata": {
    "slideshow": {
     "slide_type": "slide"
    }
   },
   "source": [
    "**Problem 4e**\n",
    "\n",
    "Create a vtk file with the pressure and temperature data. Open the resuling file in ParaView.\n",
    "\n",
    "Examine the volume rendering of the data. Does the visualization make sense given the input data?\n",
    "\n",
    "*Hint* - the x, y, and z coordinates should all be specified as 3d arrays."
   ]
  },
  {
   "cell_type": "code",
   "execution_count": 99,
   "metadata": {
    "slideshow": {
     "slide_type": "slide"
    }
   },
   "outputs": [
    {
     "data": {
      "text/plain": [
       "'/Users/adamamiller/astronomy/LSST/DSFP/LSSTC-DSFP/wk6May18/structured.vts'"
      ]
     },
     "execution_count": 99,
     "metadata": {},
     "output_type": "execute_result"
    }
   ],
   "source": [
    "gridToVTK(\"./structured\", xt, yt, zt, cellData = {\"pressure\" : pressure}, pointData = {\"temp\" : temp})"
   ]
  },
  {
   "cell_type": "markdown",
   "metadata": {
    "slideshow": {
     "slide_type": "slide"
    }
   },
   "source": [
    "For simplicity, we have focused on the most ordered methods of producing vtk files. As we have demonstrated, `pyevtk` provides a simple interface to convert `NumPy` arrays into vtk binary files. "
   ]
  },
  {
   "cell_type": "markdown",
   "metadata": {
    "slideshow": {
     "slide_type": "slide"
    }
   },
   "source": [
    "## Problem 5) Example Data Analysis - K means"
   ]
  },
  {
   "cell_type": "markdown",
   "metadata": {
    "slideshow": {
     "slide_type": "slide"
    }
   },
   "source": [
    "In addition to 3D rendering, ParaView provies utilities for performing (light) statistical analysis on data sets.\n",
    "\n",
    "As a demonstration of this we will revisit one of our commonly used data sets (the famous Iris machine learning data).\n",
    "\n",
    "Load the iris data into a `pandas` `DataFrame` via seaborn."
   ]
  },
  {
   "cell_type": "code",
   "execution_count": 157,
   "metadata": {
    "collapsed": true,
    "slideshow": {
     "slide_type": "slide"
    }
   },
   "outputs": [],
   "source": [
    "import seaborn as sns\n",
    "iris = sns.load_dataset(\"iris\")"
   ]
  },
  {
   "cell_type": "markdown",
   "metadata": {
    "slideshow": {
     "slide_type": "slide"
    }
   },
   "source": [
    "**Problem 5a**\n",
    "\n",
    "As a point of comparison, quickly visualize this data in 2D.  \n",
    "\n",
    "*Hint* - [`seaborn`](https://seaborn.pydata.org/index.html) makes this easy and possible with a single line of code."
   ]
  },
  {
   "cell_type": "code",
   "execution_count": 156,
   "metadata": {
    "slideshow": {
     "slide_type": "slide"
    }
   },
   "outputs": [
    {
     "data": {
      "application/javascript": [
       "/* Put everything inside the global mpl namespace */\n",
       "window.mpl = {};\n",
       "\n",
       "\n",
       "mpl.get_websocket_type = function() {\n",
       "    if (typeof(WebSocket) !== 'undefined') {\n",
       "        return WebSocket;\n",
       "    } else if (typeof(MozWebSocket) !== 'undefined') {\n",
       "        return MozWebSocket;\n",
       "    } else {\n",
       "        alert('Your browser does not have WebSocket support.' +\n",
       "              'Please try Chrome, Safari or Firefox ≥ 6. ' +\n",
       "              'Firefox 4 and 5 are also supported but you ' +\n",
       "              'have to enable WebSockets in about:config.');\n",
       "    };\n",
       "}\n",
       "\n",
       "mpl.figure = function(figure_id, websocket, ondownload, parent_element) {\n",
       "    this.id = figure_id;\n",
       "\n",
       "    this.ws = websocket;\n",
       "\n",
       "    this.supports_binary = (this.ws.binaryType != undefined);\n",
       "\n",
       "    if (!this.supports_binary) {\n",
       "        var warnings = document.getElementById(\"mpl-warnings\");\n",
       "        if (warnings) {\n",
       "            warnings.style.display = 'block';\n",
       "            warnings.textContent = (\n",
       "                \"This browser does not support binary websocket messages. \" +\n",
       "                    \"Performance may be slow.\");\n",
       "        }\n",
       "    }\n",
       "\n",
       "    this.imageObj = new Image();\n",
       "\n",
       "    this.context = undefined;\n",
       "    this.message = undefined;\n",
       "    this.canvas = undefined;\n",
       "    this.rubberband_canvas = undefined;\n",
       "    this.rubberband_context = undefined;\n",
       "    this.format_dropdown = undefined;\n",
       "\n",
       "    this.image_mode = 'full';\n",
       "\n",
       "    this.root = $('<div/>');\n",
       "    this._root_extra_style(this.root)\n",
       "    this.root.attr('style', 'display: inline-block');\n",
       "\n",
       "    $(parent_element).append(this.root);\n",
       "\n",
       "    this._init_header(this);\n",
       "    this._init_canvas(this);\n",
       "    this._init_toolbar(this);\n",
       "\n",
       "    var fig = this;\n",
       "\n",
       "    this.waiting = false;\n",
       "\n",
       "    this.ws.onopen =  function () {\n",
       "            fig.send_message(\"supports_binary\", {value: fig.supports_binary});\n",
       "            fig.send_message(\"send_image_mode\", {});\n",
       "            if (mpl.ratio != 1) {\n",
       "                fig.send_message(\"set_dpi_ratio\", {'dpi_ratio': mpl.ratio});\n",
       "            }\n",
       "            fig.send_message(\"refresh\", {});\n",
       "        }\n",
       "\n",
       "    this.imageObj.onload = function() {\n",
       "            if (fig.image_mode == 'full') {\n",
       "                // Full images could contain transparency (where diff images\n",
       "                // almost always do), so we need to clear the canvas so that\n",
       "                // there is no ghosting.\n",
       "                fig.context.clearRect(0, 0, fig.canvas.width, fig.canvas.height);\n",
       "            }\n",
       "            fig.context.drawImage(fig.imageObj, 0, 0);\n",
       "        };\n",
       "\n",
       "    this.imageObj.onunload = function() {\n",
       "        this.ws.close();\n",
       "    }\n",
       "\n",
       "    this.ws.onmessage = this._make_on_message_function(this);\n",
       "\n",
       "    this.ondownload = ondownload;\n",
       "}\n",
       "\n",
       "mpl.figure.prototype._init_header = function() {\n",
       "    var titlebar = $(\n",
       "        '<div class=\"ui-dialog-titlebar ui-widget-header ui-corner-all ' +\n",
       "        'ui-helper-clearfix\"/>');\n",
       "    var titletext = $(\n",
       "        '<div class=\"ui-dialog-title\" style=\"width: 100%; ' +\n",
       "        'text-align: center; padding: 3px;\"/>');\n",
       "    titlebar.append(titletext)\n",
       "    this.root.append(titlebar);\n",
       "    this.header = titletext[0];\n",
       "}\n",
       "\n",
       "\n",
       "\n",
       "mpl.figure.prototype._canvas_extra_style = function(canvas_div) {\n",
       "\n",
       "}\n",
       "\n",
       "\n",
       "mpl.figure.prototype._root_extra_style = function(canvas_div) {\n",
       "\n",
       "}\n",
       "\n",
       "mpl.figure.prototype._init_canvas = function() {\n",
       "    var fig = this;\n",
       "\n",
       "    var canvas_div = $('<div/>');\n",
       "\n",
       "    canvas_div.attr('style', 'position: relative; clear: both; outline: 0');\n",
       "\n",
       "    function canvas_keyboard_event(event) {\n",
       "        return fig.key_event(event, event['data']);\n",
       "    }\n",
       "\n",
       "    canvas_div.keydown('key_press', canvas_keyboard_event);\n",
       "    canvas_div.keyup('key_release', canvas_keyboard_event);\n",
       "    this.canvas_div = canvas_div\n",
       "    this._canvas_extra_style(canvas_div)\n",
       "    this.root.append(canvas_div);\n",
       "\n",
       "    var canvas = $('<canvas/>');\n",
       "    canvas.addClass('mpl-canvas');\n",
       "    canvas.attr('style', \"left: 0; top: 0; z-index: 0; outline: 0\")\n",
       "\n",
       "    this.canvas = canvas[0];\n",
       "    this.context = canvas[0].getContext(\"2d\");\n",
       "\n",
       "    var backingStore = this.context.backingStorePixelRatio ||\n",
       "\tthis.context.webkitBackingStorePixelRatio ||\n",
       "\tthis.context.mozBackingStorePixelRatio ||\n",
       "\tthis.context.msBackingStorePixelRatio ||\n",
       "\tthis.context.oBackingStorePixelRatio ||\n",
       "\tthis.context.backingStorePixelRatio || 1;\n",
       "\n",
       "    mpl.ratio = (window.devicePixelRatio || 1) / backingStore;\n",
       "\n",
       "    var rubberband = $('<canvas/>');\n",
       "    rubberband.attr('style', \"position: absolute; left: 0; top: 0; z-index: 1;\")\n",
       "\n",
       "    var pass_mouse_events = true;\n",
       "\n",
       "    canvas_div.resizable({\n",
       "        start: function(event, ui) {\n",
       "            pass_mouse_events = false;\n",
       "        },\n",
       "        resize: function(event, ui) {\n",
       "            fig.request_resize(ui.size.width, ui.size.height);\n",
       "        },\n",
       "        stop: function(event, ui) {\n",
       "            pass_mouse_events = true;\n",
       "            fig.request_resize(ui.size.width, ui.size.height);\n",
       "        },\n",
       "    });\n",
       "\n",
       "    function mouse_event_fn(event) {\n",
       "        if (pass_mouse_events)\n",
       "            return fig.mouse_event(event, event['data']);\n",
       "    }\n",
       "\n",
       "    rubberband.mousedown('button_press', mouse_event_fn);\n",
       "    rubberband.mouseup('button_release', mouse_event_fn);\n",
       "    // Throttle sequential mouse events to 1 every 20ms.\n",
       "    rubberband.mousemove('motion_notify', mouse_event_fn);\n",
       "\n",
       "    rubberband.mouseenter('figure_enter', mouse_event_fn);\n",
       "    rubberband.mouseleave('figure_leave', mouse_event_fn);\n",
       "\n",
       "    canvas_div.on(\"wheel\", function (event) {\n",
       "        event = event.originalEvent;\n",
       "        event['data'] = 'scroll'\n",
       "        if (event.deltaY < 0) {\n",
       "            event.step = 1;\n",
       "        } else {\n",
       "            event.step = -1;\n",
       "        }\n",
       "        mouse_event_fn(event);\n",
       "    });\n",
       "\n",
       "    canvas_div.append(canvas);\n",
       "    canvas_div.append(rubberband);\n",
       "\n",
       "    this.rubberband = rubberband;\n",
       "    this.rubberband_canvas = rubberband[0];\n",
       "    this.rubberband_context = rubberband[0].getContext(\"2d\");\n",
       "    this.rubberband_context.strokeStyle = \"#000000\";\n",
       "\n",
       "    this._resize_canvas = function(width, height) {\n",
       "        // Keep the size of the canvas, canvas container, and rubber band\n",
       "        // canvas in synch.\n",
       "        canvas_div.css('width', width)\n",
       "        canvas_div.css('height', height)\n",
       "\n",
       "        canvas.attr('width', width * mpl.ratio);\n",
       "        canvas.attr('height', height * mpl.ratio);\n",
       "        canvas.attr('style', 'width: ' + width + 'px; height: ' + height + 'px;');\n",
       "\n",
       "        rubberband.attr('width', width);\n",
       "        rubberband.attr('height', height);\n",
       "    }\n",
       "\n",
       "    // Set the figure to an initial 600x600px, this will subsequently be updated\n",
       "    // upon first draw.\n",
       "    this._resize_canvas(600, 600);\n",
       "\n",
       "    // Disable right mouse context menu.\n",
       "    $(this.rubberband_canvas).bind(\"contextmenu\",function(e){\n",
       "        return false;\n",
       "    });\n",
       "\n",
       "    function set_focus () {\n",
       "        canvas.focus();\n",
       "        canvas_div.focus();\n",
       "    }\n",
       "\n",
       "    window.setTimeout(set_focus, 100);\n",
       "}\n",
       "\n",
       "mpl.figure.prototype._init_toolbar = function() {\n",
       "    var fig = this;\n",
       "\n",
       "    var nav_element = $('<div/>')\n",
       "    nav_element.attr('style', 'width: 100%');\n",
       "    this.root.append(nav_element);\n",
       "\n",
       "    // Define a callback function for later on.\n",
       "    function toolbar_event(event) {\n",
       "        return fig.toolbar_button_onclick(event['data']);\n",
       "    }\n",
       "    function toolbar_mouse_event(event) {\n",
       "        return fig.toolbar_button_onmouseover(event['data']);\n",
       "    }\n",
       "\n",
       "    for(var toolbar_ind in mpl.toolbar_items) {\n",
       "        var name = mpl.toolbar_items[toolbar_ind][0];\n",
       "        var tooltip = mpl.toolbar_items[toolbar_ind][1];\n",
       "        var image = mpl.toolbar_items[toolbar_ind][2];\n",
       "        var method_name = mpl.toolbar_items[toolbar_ind][3];\n",
       "\n",
       "        if (!name) {\n",
       "            // put a spacer in here.\n",
       "            continue;\n",
       "        }\n",
       "        var button = $('<button/>');\n",
       "        button.addClass('ui-button ui-widget ui-state-default ui-corner-all ' +\n",
       "                        'ui-button-icon-only');\n",
       "        button.attr('role', 'button');\n",
       "        button.attr('aria-disabled', 'false');\n",
       "        button.click(method_name, toolbar_event);\n",
       "        button.mouseover(tooltip, toolbar_mouse_event);\n",
       "\n",
       "        var icon_img = $('<span/>');\n",
       "        icon_img.addClass('ui-button-icon-primary ui-icon');\n",
       "        icon_img.addClass(image);\n",
       "        icon_img.addClass('ui-corner-all');\n",
       "\n",
       "        var tooltip_span = $('<span/>');\n",
       "        tooltip_span.addClass('ui-button-text');\n",
       "        tooltip_span.html(tooltip);\n",
       "\n",
       "        button.append(icon_img);\n",
       "        button.append(tooltip_span);\n",
       "\n",
       "        nav_element.append(button);\n",
       "    }\n",
       "\n",
       "    var fmt_picker_span = $('<span/>');\n",
       "\n",
       "    var fmt_picker = $('<select/>');\n",
       "    fmt_picker.addClass('mpl-toolbar-option ui-widget ui-widget-content');\n",
       "    fmt_picker_span.append(fmt_picker);\n",
       "    nav_element.append(fmt_picker_span);\n",
       "    this.format_dropdown = fmt_picker[0];\n",
       "\n",
       "    for (var ind in mpl.extensions) {\n",
       "        var fmt = mpl.extensions[ind];\n",
       "        var option = $(\n",
       "            '<option/>', {selected: fmt === mpl.default_extension}).html(fmt);\n",
       "        fmt_picker.append(option)\n",
       "    }\n",
       "\n",
       "    // Add hover states to the ui-buttons\n",
       "    $( \".ui-button\" ).hover(\n",
       "        function() { $(this).addClass(\"ui-state-hover\");},\n",
       "        function() { $(this).removeClass(\"ui-state-hover\");}\n",
       "    );\n",
       "\n",
       "    var status_bar = $('<span class=\"mpl-message\"/>');\n",
       "    nav_element.append(status_bar);\n",
       "    this.message = status_bar[0];\n",
       "}\n",
       "\n",
       "mpl.figure.prototype.request_resize = function(x_pixels, y_pixels) {\n",
       "    // Request matplotlib to resize the figure. Matplotlib will then trigger a resize in the client,\n",
       "    // which will in turn request a refresh of the image.\n",
       "    this.send_message('resize', {'width': x_pixels, 'height': y_pixels});\n",
       "}\n",
       "\n",
       "mpl.figure.prototype.send_message = function(type, properties) {\n",
       "    properties['type'] = type;\n",
       "    properties['figure_id'] = this.id;\n",
       "    this.ws.send(JSON.stringify(properties));\n",
       "}\n",
       "\n",
       "mpl.figure.prototype.send_draw_message = function() {\n",
       "    if (!this.waiting) {\n",
       "        this.waiting = true;\n",
       "        this.ws.send(JSON.stringify({type: \"draw\", figure_id: this.id}));\n",
       "    }\n",
       "}\n",
       "\n",
       "\n",
       "mpl.figure.prototype.handle_save = function(fig, msg) {\n",
       "    var format_dropdown = fig.format_dropdown;\n",
       "    var format = format_dropdown.options[format_dropdown.selectedIndex].value;\n",
       "    fig.ondownload(fig, format);\n",
       "}\n",
       "\n",
       "\n",
       "mpl.figure.prototype.handle_resize = function(fig, msg) {\n",
       "    var size = msg['size'];\n",
       "    if (size[0] != fig.canvas.width || size[1] != fig.canvas.height) {\n",
       "        fig._resize_canvas(size[0], size[1]);\n",
       "        fig.send_message(\"refresh\", {});\n",
       "    };\n",
       "}\n",
       "\n",
       "mpl.figure.prototype.handle_rubberband = function(fig, msg) {\n",
       "    var x0 = msg['x0'] / mpl.ratio;\n",
       "    var y0 = (fig.canvas.height - msg['y0']) / mpl.ratio;\n",
       "    var x1 = msg['x1'] / mpl.ratio;\n",
       "    var y1 = (fig.canvas.height - msg['y1']) / mpl.ratio;\n",
       "    x0 = Math.floor(x0) + 0.5;\n",
       "    y0 = Math.floor(y0) + 0.5;\n",
       "    x1 = Math.floor(x1) + 0.5;\n",
       "    y1 = Math.floor(y1) + 0.5;\n",
       "    var min_x = Math.min(x0, x1);\n",
       "    var min_y = Math.min(y0, y1);\n",
       "    var width = Math.abs(x1 - x0);\n",
       "    var height = Math.abs(y1 - y0);\n",
       "\n",
       "    fig.rubberband_context.clearRect(\n",
       "        0, 0, fig.canvas.width, fig.canvas.height);\n",
       "\n",
       "    fig.rubberband_context.strokeRect(min_x, min_y, width, height);\n",
       "}\n",
       "\n",
       "mpl.figure.prototype.handle_figure_label = function(fig, msg) {\n",
       "    // Updates the figure title.\n",
       "    fig.header.textContent = msg['label'];\n",
       "}\n",
       "\n",
       "mpl.figure.prototype.handle_cursor = function(fig, msg) {\n",
       "    var cursor = msg['cursor'];\n",
       "    switch(cursor)\n",
       "    {\n",
       "    case 0:\n",
       "        cursor = 'pointer';\n",
       "        break;\n",
       "    case 1:\n",
       "        cursor = 'default';\n",
       "        break;\n",
       "    case 2:\n",
       "        cursor = 'crosshair';\n",
       "        break;\n",
       "    case 3:\n",
       "        cursor = 'move';\n",
       "        break;\n",
       "    }\n",
       "    fig.rubberband_canvas.style.cursor = cursor;\n",
       "}\n",
       "\n",
       "mpl.figure.prototype.handle_message = function(fig, msg) {\n",
       "    fig.message.textContent = msg['message'];\n",
       "}\n",
       "\n",
       "mpl.figure.prototype.handle_draw = function(fig, msg) {\n",
       "    // Request the server to send over a new figure.\n",
       "    fig.send_draw_message();\n",
       "}\n",
       "\n",
       "mpl.figure.prototype.handle_image_mode = function(fig, msg) {\n",
       "    fig.image_mode = msg['mode'];\n",
       "}\n",
       "\n",
       "mpl.figure.prototype.updated_canvas_event = function() {\n",
       "    // Called whenever the canvas gets updated.\n",
       "    this.send_message(\"ack\", {});\n",
       "}\n",
       "\n",
       "// A function to construct a web socket function for onmessage handling.\n",
       "// Called in the figure constructor.\n",
       "mpl.figure.prototype._make_on_message_function = function(fig) {\n",
       "    return function socket_on_message(evt) {\n",
       "        if (evt.data instanceof Blob) {\n",
       "            /* FIXME: We get \"Resource interpreted as Image but\n",
       "             * transferred with MIME type text/plain:\" errors on\n",
       "             * Chrome.  But how to set the MIME type?  It doesn't seem\n",
       "             * to be part of the websocket stream */\n",
       "            evt.data.type = \"image/png\";\n",
       "\n",
       "            /* Free the memory for the previous frames */\n",
       "            if (fig.imageObj.src) {\n",
       "                (window.URL || window.webkitURL).revokeObjectURL(\n",
       "                    fig.imageObj.src);\n",
       "            }\n",
       "\n",
       "            fig.imageObj.src = (window.URL || window.webkitURL).createObjectURL(\n",
       "                evt.data);\n",
       "            fig.updated_canvas_event();\n",
       "            fig.waiting = false;\n",
       "            return;\n",
       "        }\n",
       "        else if (typeof evt.data === 'string' && evt.data.slice(0, 21) == \"data:image/png;base64\") {\n",
       "            fig.imageObj.src = evt.data;\n",
       "            fig.updated_canvas_event();\n",
       "            fig.waiting = false;\n",
       "            return;\n",
       "        }\n",
       "\n",
       "        var msg = JSON.parse(evt.data);\n",
       "        var msg_type = msg['type'];\n",
       "\n",
       "        // Call the  \"handle_{type}\" callback, which takes\n",
       "        // the figure and JSON message as its only arguments.\n",
       "        try {\n",
       "            var callback = fig[\"handle_\" + msg_type];\n",
       "        } catch (e) {\n",
       "            console.log(\"No handler for the '\" + msg_type + \"' message type: \", msg);\n",
       "            return;\n",
       "        }\n",
       "\n",
       "        if (callback) {\n",
       "            try {\n",
       "                // console.log(\"Handling '\" + msg_type + \"' message: \", msg);\n",
       "                callback(fig, msg);\n",
       "            } catch (e) {\n",
       "                console.log(\"Exception inside the 'handler_\" + msg_type + \"' callback:\", e, e.stack, msg);\n",
       "            }\n",
       "        }\n",
       "    };\n",
       "}\n",
       "\n",
       "// from http://stackoverflow.com/questions/1114465/getting-mouse-location-in-canvas\n",
       "mpl.findpos = function(e) {\n",
       "    //this section is from http://www.quirksmode.org/js/events_properties.html\n",
       "    var targ;\n",
       "    if (!e)\n",
       "        e = window.event;\n",
       "    if (e.target)\n",
       "        targ = e.target;\n",
       "    else if (e.srcElement)\n",
       "        targ = e.srcElement;\n",
       "    if (targ.nodeType == 3) // defeat Safari bug\n",
       "        targ = targ.parentNode;\n",
       "\n",
       "    // jQuery normalizes the pageX and pageY\n",
       "    // pageX,Y are the mouse positions relative to the document\n",
       "    // offset() returns the position of the element relative to the document\n",
       "    var x = e.pageX - $(targ).offset().left;\n",
       "    var y = e.pageY - $(targ).offset().top;\n",
       "\n",
       "    return {\"x\": x, \"y\": y};\n",
       "};\n",
       "\n",
       "/*\n",
       " * return a copy of an object with only non-object keys\n",
       " * we need this to avoid circular references\n",
       " * http://stackoverflow.com/a/24161582/3208463\n",
       " */\n",
       "function simpleKeys (original) {\n",
       "  return Object.keys(original).reduce(function (obj, key) {\n",
       "    if (typeof original[key] !== 'object')\n",
       "        obj[key] = original[key]\n",
       "    return obj;\n",
       "  }, {});\n",
       "}\n",
       "\n",
       "mpl.figure.prototype.mouse_event = function(event, name) {\n",
       "    var canvas_pos = mpl.findpos(event)\n",
       "\n",
       "    if (name === 'button_press')\n",
       "    {\n",
       "        this.canvas.focus();\n",
       "        this.canvas_div.focus();\n",
       "    }\n",
       "\n",
       "    var x = canvas_pos.x * mpl.ratio;\n",
       "    var y = canvas_pos.y * mpl.ratio;\n",
       "\n",
       "    this.send_message(name, {x: x, y: y, button: event.button,\n",
       "                             step: event.step,\n",
       "                             guiEvent: simpleKeys(event)});\n",
       "\n",
       "    /* This prevents the web browser from automatically changing to\n",
       "     * the text insertion cursor when the button is pressed.  We want\n",
       "     * to control all of the cursor setting manually through the\n",
       "     * 'cursor' event from matplotlib */\n",
       "    event.preventDefault();\n",
       "    return false;\n",
       "}\n",
       "\n",
       "mpl.figure.prototype._key_event_extra = function(event, name) {\n",
       "    // Handle any extra behaviour associated with a key event\n",
       "}\n",
       "\n",
       "mpl.figure.prototype.key_event = function(event, name) {\n",
       "\n",
       "    // Prevent repeat events\n",
       "    if (name == 'key_press')\n",
       "    {\n",
       "        if (event.which === this._key)\n",
       "            return;\n",
       "        else\n",
       "            this._key = event.which;\n",
       "    }\n",
       "    if (name == 'key_release')\n",
       "        this._key = null;\n",
       "\n",
       "    var value = '';\n",
       "    if (event.ctrlKey && event.which != 17)\n",
       "        value += \"ctrl+\";\n",
       "    if (event.altKey && event.which != 18)\n",
       "        value += \"alt+\";\n",
       "    if (event.shiftKey && event.which != 16)\n",
       "        value += \"shift+\";\n",
       "\n",
       "    value += 'k';\n",
       "    value += event.which.toString();\n",
       "\n",
       "    this._key_event_extra(event, name);\n",
       "\n",
       "    this.send_message(name, {key: value,\n",
       "                             guiEvent: simpleKeys(event)});\n",
       "    return false;\n",
       "}\n",
       "\n",
       "mpl.figure.prototype.toolbar_button_onclick = function(name) {\n",
       "    if (name == 'download') {\n",
       "        this.handle_save(this, null);\n",
       "    } else {\n",
       "        this.send_message(\"toolbar_button\", {name: name});\n",
       "    }\n",
       "};\n",
       "\n",
       "mpl.figure.prototype.toolbar_button_onmouseover = function(tooltip) {\n",
       "    this.message.textContent = tooltip;\n",
       "};\n",
       "mpl.toolbar_items = [[\"Home\", \"Reset original view\", \"fa fa-home icon-home\", \"home\"], [\"Back\", \"Back to  previous view\", \"fa fa-arrow-left icon-arrow-left\", \"back\"], [\"Forward\", \"Forward to next view\", \"fa fa-arrow-right icon-arrow-right\", \"forward\"], [\"\", \"\", \"\", \"\"], [\"Pan\", \"Pan axes with left mouse, zoom with right\", \"fa fa-arrows icon-move\", \"pan\"], [\"Zoom\", \"Zoom to rectangle\", \"fa fa-square-o icon-check-empty\", \"zoom\"], [\"\", \"\", \"\", \"\"], [\"Download\", \"Download plot\", \"fa fa-floppy-o icon-save\", \"download\"]];\n",
       "\n",
       "mpl.extensions = [\"eps\", \"jpeg\", \"pdf\", \"png\", \"ps\", \"raw\", \"svg\", \"tif\"];\n",
       "\n",
       "mpl.default_extension = \"png\";var comm_websocket_adapter = function(comm) {\n",
       "    // Create a \"websocket\"-like object which calls the given IPython comm\n",
       "    // object with the appropriate methods. Currently this is a non binary\n",
       "    // socket, so there is still some room for performance tuning.\n",
       "    var ws = {};\n",
       "\n",
       "    ws.close = function() {\n",
       "        comm.close()\n",
       "    };\n",
       "    ws.send = function(m) {\n",
       "        //console.log('sending', m);\n",
       "        comm.send(m);\n",
       "    };\n",
       "    // Register the callback with on_msg.\n",
       "    comm.on_msg(function(msg) {\n",
       "        //console.log('receiving', msg['content']['data'], msg);\n",
       "        // Pass the mpl event to the overriden (by mpl) onmessage function.\n",
       "        ws.onmessage(msg['content']['data'])\n",
       "    });\n",
       "    return ws;\n",
       "}\n",
       "\n",
       "mpl.mpl_figure_comm = function(comm, msg) {\n",
       "    // This is the function which gets called when the mpl process\n",
       "    // starts-up an IPython Comm through the \"matplotlib\" channel.\n",
       "\n",
       "    var id = msg.content.data.id;\n",
       "    // Get hold of the div created by the display call when the Comm\n",
       "    // socket was opened in Python.\n",
       "    var element = $(\"#\" + id);\n",
       "    var ws_proxy = comm_websocket_adapter(comm)\n",
       "\n",
       "    function ondownload(figure, format) {\n",
       "        window.open(figure.imageObj.src);\n",
       "    }\n",
       "\n",
       "    var fig = new mpl.figure(id, ws_proxy,\n",
       "                           ondownload,\n",
       "                           element.get(0));\n",
       "\n",
       "    // Call onopen now - mpl needs it, as it is assuming we've passed it a real\n",
       "    // web socket which is closed, not our websocket->open comm proxy.\n",
       "    ws_proxy.onopen();\n",
       "\n",
       "    fig.parent_element = element.get(0);\n",
       "    fig.cell_info = mpl.find_output_cell(\"<div id='\" + id + \"'></div>\");\n",
       "    if (!fig.cell_info) {\n",
       "        console.error(\"Failed to find cell for figure\", id, fig);\n",
       "        return;\n",
       "    }\n",
       "\n",
       "    var output_index = fig.cell_info[2]\n",
       "    var cell = fig.cell_info[0];\n",
       "\n",
       "};\n",
       "\n",
       "mpl.figure.prototype.handle_close = function(fig, msg) {\n",
       "    var width = fig.canvas.width/mpl.ratio\n",
       "    fig.root.unbind('remove')\n",
       "\n",
       "    // Update the output cell to use the data from the current canvas.\n",
       "    fig.push_to_output();\n",
       "    var dataURL = fig.canvas.toDataURL();\n",
       "    // Re-enable the keyboard manager in IPython - without this line, in FF,\n",
       "    // the notebook keyboard shortcuts fail.\n",
       "    IPython.keyboard_manager.enable()\n",
       "    $(fig.parent_element).html('<img src=\"' + dataURL + '\" width=\"' + width + '\">');\n",
       "    fig.close_ws(fig, msg);\n",
       "}\n",
       "\n",
       "mpl.figure.prototype.close_ws = function(fig, msg){\n",
       "    fig.send_message('closing', msg);\n",
       "    // fig.ws.close()\n",
       "}\n",
       "\n",
       "mpl.figure.prototype.push_to_output = function(remove_interactive) {\n",
       "    // Turn the data on the canvas into data in the output cell.\n",
       "    var width = this.canvas.width/mpl.ratio\n",
       "    var dataURL = this.canvas.toDataURL();\n",
       "    this.cell_info[1]['text/html'] = '<img src=\"' + dataURL + '\" width=\"' + width + '\">';\n",
       "}\n",
       "\n",
       "mpl.figure.prototype.updated_canvas_event = function() {\n",
       "    // Tell IPython that the notebook contents must change.\n",
       "    IPython.notebook.set_dirty(true);\n",
       "    this.send_message(\"ack\", {});\n",
       "    var fig = this;\n",
       "    // Wait a second, then push the new image to the DOM so\n",
       "    // that it is saved nicely (might be nice to debounce this).\n",
       "    setTimeout(function () { fig.push_to_output() }, 1000);\n",
       "}\n",
       "\n",
       "mpl.figure.prototype._init_toolbar = function() {\n",
       "    var fig = this;\n",
       "\n",
       "    var nav_element = $('<div/>')\n",
       "    nav_element.attr('style', 'width: 100%');\n",
       "    this.root.append(nav_element);\n",
       "\n",
       "    // Define a callback function for later on.\n",
       "    function toolbar_event(event) {\n",
       "        return fig.toolbar_button_onclick(event['data']);\n",
       "    }\n",
       "    function toolbar_mouse_event(event) {\n",
       "        return fig.toolbar_button_onmouseover(event['data']);\n",
       "    }\n",
       "\n",
       "    for(var toolbar_ind in mpl.toolbar_items){\n",
       "        var name = mpl.toolbar_items[toolbar_ind][0];\n",
       "        var tooltip = mpl.toolbar_items[toolbar_ind][1];\n",
       "        var image = mpl.toolbar_items[toolbar_ind][2];\n",
       "        var method_name = mpl.toolbar_items[toolbar_ind][3];\n",
       "\n",
       "        if (!name) { continue; };\n",
       "\n",
       "        var button = $('<button class=\"btn btn-default\" href=\"#\" title=\"' + name + '\"><i class=\"fa ' + image + ' fa-lg\"></i></button>');\n",
       "        button.click(method_name, toolbar_event);\n",
       "        button.mouseover(tooltip, toolbar_mouse_event);\n",
       "        nav_element.append(button);\n",
       "    }\n",
       "\n",
       "    // Add the status bar.\n",
       "    var status_bar = $('<span class=\"mpl-message\" style=\"text-align:right; float: right;\"/>');\n",
       "    nav_element.append(status_bar);\n",
       "    this.message = status_bar[0];\n",
       "\n",
       "    // Add the close button to the window.\n",
       "    var buttongrp = $('<div class=\"btn-group inline pull-right\"></div>');\n",
       "    var button = $('<button class=\"btn btn-mini btn-primary\" href=\"#\" title=\"Stop Interaction\"><i class=\"fa fa-power-off icon-remove icon-large\"></i></button>');\n",
       "    button.click(function (evt) { fig.handle_close(fig, {}); } );\n",
       "    button.mouseover('Stop Interaction', toolbar_mouse_event);\n",
       "    buttongrp.append(button);\n",
       "    var titlebar = this.root.find($('.ui-dialog-titlebar'));\n",
       "    titlebar.prepend(buttongrp);\n",
       "}\n",
       "\n",
       "mpl.figure.prototype._root_extra_style = function(el){\n",
       "    var fig = this\n",
       "    el.on(\"remove\", function(){\n",
       "\tfig.close_ws(fig, {});\n",
       "    });\n",
       "}\n",
       "\n",
       "mpl.figure.prototype._canvas_extra_style = function(el){\n",
       "    // this is important to make the div 'focusable\n",
       "    el.attr('tabindex', 0)\n",
       "    // reach out to IPython and tell the keyboard manager to turn it's self\n",
       "    // off when our div gets focus\n",
       "\n",
       "    // location in version 3\n",
       "    if (IPython.notebook.keyboard_manager) {\n",
       "        IPython.notebook.keyboard_manager.register_events(el);\n",
       "    }\n",
       "    else {\n",
       "        // location in version 2\n",
       "        IPython.keyboard_manager.register_events(el);\n",
       "    }\n",
       "\n",
       "}\n",
       "\n",
       "mpl.figure.prototype._key_event_extra = function(event, name) {\n",
       "    var manager = IPython.notebook.keyboard_manager;\n",
       "    if (!manager)\n",
       "        manager = IPython.keyboard_manager;\n",
       "\n",
       "    // Check for shift+enter\n",
       "    if (event.shiftKey && event.which == 13) {\n",
       "        this.canvas_div.blur();\n",
       "        // select the cell after this one\n",
       "        var index = IPython.notebook.find_cell_index(this.cell_info[0]);\n",
       "        IPython.notebook.select(index + 1);\n",
       "    }\n",
       "}\n",
       "\n",
       "mpl.figure.prototype.handle_save = function(fig, msg) {\n",
       "    fig.ondownload(fig, null);\n",
       "}\n",
       "\n",
       "\n",
       "mpl.find_output_cell = function(html_output) {\n",
       "    // Return the cell and output element which can be found *uniquely* in the notebook.\n",
       "    // Note - this is a bit hacky, but it is done because the \"notebook_saving.Notebook\"\n",
       "    // IPython event is triggered only after the cells have been serialised, which for\n",
       "    // our purposes (turning an active figure into a static one), is too late.\n",
       "    var cells = IPython.notebook.get_cells();\n",
       "    var ncells = cells.length;\n",
       "    for (var i=0; i<ncells; i++) {\n",
       "        var cell = cells[i];\n",
       "        if (cell.cell_type === 'code'){\n",
       "            for (var j=0; j<cell.output_area.outputs.length; j++) {\n",
       "                var data = cell.output_area.outputs[j];\n",
       "                if (data.data) {\n",
       "                    // IPython >= 3 moved mimebundle to data attribute of output\n",
       "                    data = data.data;\n",
       "                }\n",
       "                if (data['text/html'] == html_output) {\n",
       "                    return [cell, data, j];\n",
       "                }\n",
       "            }\n",
       "        }\n",
       "    }\n",
       "}\n",
       "\n",
       "// Register the function which deals with the matplotlib target/channel.\n",
       "// The kernel may be null if the page has been refreshed.\n",
       "if (IPython.notebook.kernel != null) {\n",
       "    IPython.notebook.kernel.comm_manager.register_target('matplotlib', mpl.mpl_figure_comm);\n",
       "}\n"
      ],
      "text/plain": [
       "<IPython.core.display.Javascript object>"
      ]
     },
     "metadata": {},
     "output_type": "display_data"
    },
    {
     "data": {
      "text/html": [
       "<img src=\"data:image/png;base64,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\" width=\"1000\">"
      ],
      "text/plain": [
       "<IPython.core.display.HTML object>"
      ]
     },
     "metadata": {},
     "output_type": "display_data"
    }
   ],
   "source": [
    "g = sns.PairGrid(iris, hue=\"species\", hue_kws={\"cmap\": [\"Blues\", \"Oranges\", \"Greens\"]})\n",
    "g = g.map_diag(plt.hist, lw=3)\n",
    "g = g.map_lower(sns.kdeplot, lw=1)\n",
    "g = g.map_upper(plt.scatter)"
   ]
  },
  {
   "cell_type": "markdown",
   "metadata": {
    "slideshow": {
     "slide_type": "slide"
    }
   },
   "source": [
    "As you can see: the iris data feature 3 classes in a four dimentional data set. We will now prepare this data for visualization in ParaView."
   ]
  },
  {
   "cell_type": "markdown",
   "metadata": {
    "slideshow": {
     "slide_type": "slide"
    }
   },
   "source": [
    "**Problem 5b**\n",
    "\n",
    "Select 3 of the variables to serve as the (x, y, z) spatial coordinates for the data set. Note - the specific selection does not particularly matter, though 2 features are clearly better than the others."
   ]
  },
  {
   "cell_type": "code",
   "execution_count": 158,
   "metadata": {
    "collapsed": true,
    "slideshow": {
     "slide_type": "slide"
    }
   },
   "outputs": [],
   "source": [
    "x = np.array(iris[\"petal_length\"])\n",
    "y = np.array(iris[\"petal_width\"])\n",
    "z = np.array(iris[\"sepal_length\"])"
   ]
  },
  {
   "cell_type": "markdown",
   "metadata": {
    "slideshow": {
     "slide_type": "slide"
    }
   },
   "source": [
    "**Problem 5c** \n",
    "\n",
    "Export the iris data as a vtk file for ParaView. Include both the species *and* the four features as data for the vtk file. Finally, be sure to randomize the order of the data prior to writing the vtk file.\n",
    "\n",
    "*Hint 1* - convert the species to a numerical representation.\n",
    "\n",
    "*Hint 2* - you may find [`np.random.choice`](https://docs.scipy.org/doc/numpy/reference/generated/numpy.random.choice.html) helpful."
   ]
  },
  {
   "cell_type": "code",
   "execution_count": 159,
   "metadata": {
    "slideshow": {
     "slide_type": "slide"
    }
   },
   "outputs": [
    {
     "data": {
      "text/plain": [
       "'/Users/adamamiller/astronomy/LSST/DSFP/LSSTC-DSFP/wk6May18/iris.vtu'"
      ]
     },
     "execution_count": 159,
     "metadata": {},
     "output_type": "execute_result"
    }
   ],
   "source": [
    "species = np.array(iris[\"species\"].map({\"setosa\":1, \n",
    "                                        \"versicolor\":2,\n",
    "                                        \"virginica\":3}))\n",
    "petal_width = np.array(iris[\"petal_width\"])\n",
    "petal_length = np.array(iris[\"petal_length\"])\n",
    "sepal_width = np.array(iris[\"sepal_width\"])\n",
    "sepal_length = np.array(iris[\"sepal_length\"])\n",
    "\n",
    "shuffle = np.random.choice(range(len(x)), size=len(x), replace=False)\n",
    "\n",
    "\n",
    "pointsToVTK(\"./iris\", x[shuffle], y[shuffle], z[shuffle], \n",
    "            data = {\"species\" : species[shuffle], \n",
    "                    \"sepal_length\": sepal_length[shuffle], \n",
    "                    \"sepal_width\": sepal_width[shuffle],\n",
    "                    \"petal_length\": petal_length[shuffle],\n",
    "                    \"petal_width\": petal_width[shuffle]})"
   ]
  },
  {
   "cell_type": "markdown",
   "metadata": {
    "slideshow": {
     "slide_type": "slide"
    }
   },
   "source": [
    "**Problem 5d**\n",
    "\n",
    "Open the iris data in ParaView. Represent the points as point gaussians, and color the points based on their species."
   ]
  },
  {
   "cell_type": "markdown",
   "metadata": {
    "slideshow": {
     "slide_type": "slide"
    }
   },
   "source": [
    "Rotating the data on the screen - it is possible to get a better sense of the distance between versicolor and virginica classes. \n",
    "\n",
    "Now we will attempt to cluster the data."
   ]
  },
  {
   "cell_type": "markdown",
   "metadata": {
    "slideshow": {
     "slide_type": "slide"
    }
   },
   "source": [
    "**Problem 5e**\n",
    "\n",
    "Create a K means statistical filter for the data. [*Filters $\\rightarrow$ Statistics $\\rightarrow$ K means*]\n",
    "\n",
    "Remove species from the variable of interest (we don't want to cluster on the correct answer). Increase the training fraction to 0.5, and reduce the tolerance to 0. Then select *Apply*.\n",
    "\n",
    "Turn on the rendering of the Assessed Data (and turn off iris.vtu). Now color the data via ClosestId(0). \n",
    "\n",
    "How do your clusters compare to the correct answer? Can you improve on this initial attempt at clustering?"
   ]
  },
  {
   "cell_type": "markdown",
   "metadata": {
    "slideshow": {
     "slide_type": "slide"
    }
   },
   "source": [
    "**Solution to 5e**\n",
    "\n",
    "The clusters in this case look a little ridiculous. That is because we fixed $k = 5$. If we instead fit for 3 clusters, we find clusters that better resemble the true classifications, however there are still a number of misidentifications."
   ]
  },
  {
   "cell_type": "markdown",
   "metadata": {
    "slideshow": {
     "slide_type": "slide"
    }
   },
   "source": [
    "**Break Out Problem**\n",
    "\n",
    "Which visualization technique is to be preferred: `seaborn` or ParaView? \n",
    "\n",
    "[*spend a few minutes discussing with your neighbor*]"
   ]
  },
  {
   "cell_type": "markdown",
   "metadata": {
    "slideshow": {
     "slide_type": "slide"
    }
   },
   "source": [
    "**Problem 5f**\n",
    "\n",
    "Click the *+* symbol next to Layout #1. Select *Plot Matrix View*. Be sure that all 5 data values are selected, then click *Apply*. \n",
    "\n",
    "Now which method do you prefer?"
   ]
  },
  {
   "cell_type": "markdown",
   "metadata": {
    "slideshow": {
     "slide_type": "slide"
    }
   },
   "source": [
    "## Problem 6) Rendering Basic Astronomical Data"
   ]
  },
  {
   "cell_type": "markdown",
   "metadata": {
    "slideshow": {
     "slide_type": "slide"
    }
   },
   "source": [
    "If you have not already, download the files Density.vtk and Temperature.vtk from the [data repo](https://northwestern.box.com/s/6pzxkp11l9ffn33kahlvu8y9tf8tp0li). These data were generated as part of a cosmological simulation run by Pascal Paschos at Northwestern University.\n",
    "\n",
    "Note, you'll need to unpack the tarball\n",
    "\n",
    "    tar -zxvf pv_vtk.tar.gz"
   ]
  },
  {
   "cell_type": "markdown",
   "metadata": {
    "slideshow": {
     "slide_type": "slide"
    }
   },
   "source": [
    "**Problem 6a**\n",
    "\n",
    "Open the Density.vtk and Temperature.vtk files in ParaView.\n",
    "\n",
    "Select the \"eye\" next to Density to render the density information."
   ]
  },
  {
   "cell_type": "markdown",
   "metadata": {
    "slideshow": {
     "slide_type": "slide"
    }
   },
   "source": [
    "**Problem 6b**\n",
    "\n",
    "Change the representation to Volume. The structure in this data is more complicated than our previous examples, take a moment to explore the contents of the data cube."
   ]
  },
  {
   "cell_type": "markdown",
   "metadata": {
    "slideshow": {
     "slide_type": "slide"
    }
   },
   "source": [
    "**Problem 6c**\n",
    "\n",
    "Turn off the Density render, and turn on the Temperature render. Again, change the represenation to Volume. \n",
    "\n",
    "How does the density data compare to the temperature data?"
   ]
  },
  {
   "cell_type": "markdown",
   "metadata": {
    "slideshow": {
     "slide_type": "slide"
    }
   },
   "source": [
    "**Problem 6d**\n",
    "\n",
    "Change the colorbar for the Temperature. \n",
    "\n",
    "In the properties tab, under the Coloring header, select the choose presets folder (this is the folder with heart over it). \n",
    "\n",
    "Using your previous knowledge of visualization, select a terrible colorbar.\n",
    "\n",
    "Replace the terrible colorbar with a useful colorbar."
   ]
  },
  {
   "cell_type": "markdown",
   "metadata": {
    "slideshow": {
     "slide_type": "slide"
    }
   },
   "source": [
    "**Problem 6e**\n",
    "\n",
    "Change the colorbar for the Density data."
   ]
  },
  {
   "cell_type": "markdown",
   "metadata": {
    "slideshow": {
     "slide_type": "slide"
    }
   },
   "source": [
    "**Problem 6f**\n",
    "\n",
    "Render both the Temperature and Density data. \n",
    "\n",
    "Can you see both volume renditions? If not, adjust the color schemes for each until you can.\n",
    "\n"
   ]
  },
  {
   "cell_type": "markdown",
   "metadata": {
    "slideshow": {
     "slide_type": "slide"
    }
   },
   "source": [
    "## Problem 7) Slicing the Data Cube"
   ]
  },
  {
   "cell_type": "markdown",
   "metadata": {
    "slideshow": {
     "slide_type": "slide"
    }
   },
   "source": [
    "**Problem 7a**\n",
    "\n",
    "Select the density data. Then slice the data using the tool in the top bar. When happy with the slice that you have selected, click \"apply\".\n",
    "\n",
    "*Note* - you can adjust the position of the slice by dragging the outline, and you can adjust the angle of the slice with the arrow."
   ]
  },
  {
   "cell_type": "markdown",
   "metadata": {
    "slideshow": {
     "slide_type": "slide"
    }
   },
   "source": [
    "**Problem 7b**\n",
    "\n",
    "Hide the density and temperature data, and examine the slice. If you are unhappy with your previous selection, adjust it."
   ]
  },
  {
   "cell_type": "markdown",
   "metadata": {
    "slideshow": {
     "slide_type": "slide"
    }
   },
   "source": [
    "**Problem 7c**\n",
    "\n",
    "Add a contour to the slice. This can be done using the contour button (multiple concentric half-spheres).\n",
    "\n",
    "Set the range for the contours from -2 to 2.5, and choose 6 steps for the contours. If you need to, adjust the color of the contours so they are visible relative to the background colors."
   ]
  },
  {
   "cell_type": "markdown",
   "metadata": {
    "slideshow": {
     "slide_type": "slide"
    }
   },
   "source": [
    "**Problem 7d**\n",
    "\n",
    "Add a clip to the temperature data. This can be done using the clip button (between the slice and contour buttons).\n",
    "\n",
    "Adjust the position of the clip to match that of the density contour.\n",
    "\n",
    "*Note* - you may need to slide the position of the clip slightly so that the contours remain visible."
   ]
  },
  {
   "cell_type": "markdown",
   "metadata": {
    "slideshow": {
     "slide_type": "slide"
    }
   },
   "source": [
    "**Problem 7e**\n",
    "\n",
    "Rotate the slice + clip to an angle of your choosing. Then save your rendering of the data to a png file.\n",
    "\n",
    "**Warning** - in some instances on my machine this lead to ParaView crashing, be sure you have everything set up as you would like prior to exporting to png."
   ]
  },
  {
   "cell_type": "markdown",
   "metadata": {
    "slideshow": {
     "slide_type": "slide"
    }
   },
   "source": [
    "Finally, in closing, I will note that it is possible in ParaView to export your rendering to `x3dom`, which is a format accepted by AAS journals to include interactive 3d plots in publications."
   ]
  },
  {
   "cell_type": "markdown",
   "metadata": {
    "slideshow": {
     "slide_type": "slide"
    }
   },
   "source": [
    "## Challenge Problem"
   ]
  },
  {
   "cell_type": "markdown",
   "metadata": {
    "slideshow": {
     "slide_type": "slide"
    }
   },
   "source": [
    "Convert the data that your brought with you to the DSFP into a ParaView readable vtk format. "
   ]
  }
 ],
 "metadata": {
  "celltoolbar": "Slideshow",
  "kernelspec": {
   "display_name": "Python 3",
   "language": "python",
   "name": "python3"
  },
  "language_info": {
   "codemirror_mode": {
    "name": "ipython",
    "version": 3
   },
   "file_extension": ".py",
   "mimetype": "text/x-python",
   "name": "python",
   "nbconvert_exporter": "python",
   "pygments_lexer": "ipython3",
   "version": "3.6.2"
  },
  "livereveal": {
   "height": 768,
   "scroll": true,
   "start_slideshow_at": "selected",
   "theme": "solarized",
   "width": 1024
  }
 },
 "nbformat": 4,
 "nbformat_minor": 2
}
