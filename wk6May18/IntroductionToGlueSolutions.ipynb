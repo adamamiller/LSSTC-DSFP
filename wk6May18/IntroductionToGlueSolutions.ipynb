{
 "cells": [
  {
   "cell_type": "markdown",
   "metadata": {
    "slideshow": {
     "slide_type": "slide"
    }
   },
   "source": [
    "# Introduction to Glue-Viz\n",
    "\n",
    "**version 0.1**\n",
    "\n",
    "***\n",
    "By AA Miller (Northwestern CIERA/Adler Planetarium)\n",
    "03 May 2018"
   ]
  },
  {
   "cell_type": "markdown",
   "metadata": {
    "slideshow": {
     "slide_type": "slide"
    }
   },
   "source": [
    "## Introduction"
   ]
  },
  {
   "cell_type": "markdown",
   "metadata": {
    "slideshow": {
     "slide_type": "slide"
    }
   },
   "source": [
    "[All of my slides from Tuesday morning]"
   ]
  },
  {
   "cell_type": "markdown",
   "metadata": {
    "slideshow": {
     "slide_type": "slide"
    }
   },
   "source": [
    "... that is all"
   ]
  },
  {
   "cell_type": "markdown",
   "metadata": {
    "slideshow": {
     "slide_type": "slide"
    }
   },
   "source": [
    "## Glue\n",
    "\n",
    "As a point of review, on Tuesday we learned about ParaView. I'd summarize the major strength of ParaView as providing an interface to create really nice 3D representations of data (and we barely scratched the surface of the most complex renderings that you can create). \n",
    "\n",
    "On Wednesday, we learned about `bokeh`. I would summarize the major strengths of `bokeh` as being the ability to create linked plots, as well as the relative ease of getting the output from bokeh into a server and on the web.  "
   ]
  },
  {
   "cell_type": "markdown",
   "metadata": {
    "slideshow": {
     "slide_type": "slide"
    }
   },
   "source": [
    "Today we are going to learn about [`glue`](http://glueviz.org), which is a pure python library that designed to explore the relationships between related datasets. `glue` is actually developed by astronomers (in collaboration with medical imaging researchers), so a lot of the functionality is designed with *our* needs in mind.\n",
    "\n",
    "(though note - it is created as a general purpose tool. But, if there is something that you'd like to see in `glue` that does not exist, then you can reach out and maybe they will develop it) "
   ]
  },
  {
   "cell_type": "markdown",
   "metadata": {
    "slideshow": {
     "slide_type": "slide"
    }
   },
   "source": [
    "`glue` includes elements that we have already explored this week. In particular, `glue`, due to the medical imaging connection, provides nice functionality for visualizing 3D data sets. Additionally, given the large collection of heterogenous catalogs in astronomy, `glue` is designed to make linking between data sets very straightforward."
   ]
  },
  {
   "cell_type": "markdown",
   "metadata": {
    "slideshow": {
     "slide_type": "subslide"
    }
   },
   "source": [
    "You should have already installed `glue`, but if not\n",
    "\n",
    "    conda install -c glue glue\n",
    "   \n",
    "Furthermore, our first example will use the data included in this tarball: https://northwestern.box.com/s/uiwq47ir8r4h6njlxv6njtx174wdeoox"
   ]
  },
  {
   "cell_type": "markdown",
   "metadata": {
    "slideshow": {
     "slide_type": "slide"
    }
   },
   "source": [
    "## Problem 1) Using Glue"
   ]
  },
  {
   "cell_type": "markdown",
   "metadata": {
    "slideshow": {
     "slide_type": "slide"
    }
   },
   "source": [
    "**Problem 1a** \n",
    "\n",
    "Open `glue`. The standard way to do this is to launch the program from the command line: `glue`."
   ]
  },
  {
   "cell_type": "markdown",
   "metadata": {
    "slideshow": {
     "slide_type": "slide"
    }
   },
   "source": [
    "At this stage you will notice 4 primary windows within the application: \n",
    "\n",
    "  * upper left ––– data collection (lists all the open data, as well as the selected subsets)\n",
    "  * middle left ––– viewer layers (shows the different layers, and allows control over which are displayed)\n",
    "  * lower left ––– viewer options (includes global options for the active viewer)\n",
    "  * right ––– visualization canvas (this is where the data renderings are actually shown)"
   ]
  },
  {
   "cell_type": "markdown",
   "metadata": {
    "slideshow": {
     "slide_type": "slide"
    }
   },
   "source": [
    "**Problem 1b** \n",
    "\n",
    "Open the w5 fits image in `glue`. \n",
    "\n",
    "As a quick note - this image is from the [*WISE*](https://www.nasa.gov/mission_pages/WISE/main/index.html) satellite and it is showing the [Westerhout 5 (W5)](https://en.wikipedia.org/wiki/Westerhout_5) star forming region.\n",
    "\n",
    "*Hint* - you can drag and drop, or select the file path in [*File $\\rightarrow$ Open Data Set.*]"
   ]
  },
  {
   "cell_type": "markdown",
   "metadata": {
    "slideshow": {
     "slide_type": "slide"
    }
   },
   "source": [
    "**Problem 1c**\n",
    "\n",
    "Render the image, by dragging the w5 entry in the data collection window to the visualization canvas. \n",
    "\n",
    "The will pop up a drop down menu asking what type of render you would like. Select the best option.\n",
    "\n",
    "*Hint* - you may want to resize the window within the visualization canvas."
   ]
  },
  {
   "cell_type": "markdown",
   "metadata": {
    "slideshow": {
     "slide_type": "slide"
    }
   },
   "source": [
    "As previously noted, one of the great strengths of `glue` is the ability to drill down on subsets of linked data. \n",
    "\n",
    "At the top of the 2D image window there are 5 different methods for selecting subsets of the data. From left to right they include: rectangular selection, vertical selection, horizontal selection, circular selection, and finally freeform selection [this has similar functionality to `bokeh`'s lasso.]."
   ]
  },
  {
   "cell_type": "markdown",
   "metadata": {
    "slideshow": {
     "slide_type": "slide"
    }
   },
   "source": [
    "**Problem 1d**\n",
    "\n",
    "Use the horizontal selection tool to select the subset of the data near the center of the image (this is done via drag and click). \n",
    "\n",
    "Then, use the vertical selection tool to select the subset of the data near the center of the image."
   ]
  },
  {
   "cell_type": "markdown",
   "metadata": {
    "slideshow": {
     "slide_type": "slide"
    }
   },
   "source": [
    "Notice that there are now 2 subsets in the data collection panel, as well as additional entries in the view layers panels.\n",
    "\n",
    "**Problem 1e**\n",
    "\n",
    "Adjust the color of subset 1 to be \"DSFP blue\" and adjust the transparency bar to its maximum (i.e. minimize the transparency of the selection.\n",
    "\n",
    "Adjust the color of subset 2 to be \"DSFP light grey\" and make this selection more transparent."
   ]
  },
  {
   "cell_type": "markdown",
   "metadata": {
    "slideshow": {
     "slide_type": "slide"
    }
   },
   "source": [
    "At this point, it is a little difficult to see the emission under the selected subsets. \n",
    "\n",
    "**Problem 1f**\n",
    "\n",
    "Select the w5 data in the data collection, and adjust the data scaling to match the optimal choice for astronomical images.\n",
    "\n",
    "*Hint* - think back to Zolt's lecture.\n",
    "\n",
    "[You may want to adjust the colorbar and range of the data being displayed. Be sure the subset panels can still be seen after making these changes.]"
   ]
  },
  {
   "cell_type": "markdown",
   "metadata": {
    "slideshow": {
     "slide_type": "slide"
    }
   },
   "source": [
    "There is a bright knot of emission in the northwest portion of the nebula, we will now focus on that.\n",
    "\n",
    "**Problem 1g**\n",
    "\n",
    "Adjust the subset selections to be centered on the bright emission knot in the northwest portion of the nebula. This can be done by selecting the subset in the data collection and then holding *cntl* while dragging the mouse over a new region to redefine the subset."
   ]
  },
  {
   "cell_type": "markdown",
   "metadata": {
    "slideshow": {
     "slide_type": "slide"
    }
   },
   "source": [
    "**Problem 1h**\n",
    "\n",
    "Create a histogram of the brightness data in the fits image [drag the w5 data from the data collection into the visualization canvas and select the appropriate option from the drop down menu]."
   ]
  },
  {
   "cell_type": "markdown",
   "metadata": {
    "slideshow": {
     "slide_type": "slide"
    }
   },
   "source": [
    "Notice that you now have histograms in 3 different colors. This is because the data linking in `glue` is (in some cases) automatic. By creating the histrogram for the data, you have also automatically created a histogram for the two subsets of the data. \n",
    "\n",
    "You will also notice that the histogram, as currently constructed, is not particularly informative."
   ]
  },
  {
   "cell_type": "markdown",
   "metadata": {
    "slideshow": {
     "slide_type": "slide"
    }
   },
   "source": [
    "**Problem 1i**\n",
    "\n",
    "Update the range of the histogram to extend to a maximum value of 1000. Increase the number of bins to 25. Finally, normalize the histogram. \n",
    "\n",
    "Does the resulting histogram make sense? "
   ]
  },
  {
   "cell_type": "markdown",
   "metadata": {
    "slideshow": {
     "slide_type": "slide"
    }
   },
   "source": [
    "The current histograms are strongly polluted by background pixels. We can improve this with the selection tools.\n",
    "\n",
    "**Problem 1j**\n",
    "\n",
    "Select the pixels in the bright knot by changing the selection mode to \"remove\" (5th option). Then select the horizontal selection tool in the histogram plot. Drag and click to select the region with pixel values less than 500 to remove those from the selection.\n",
    "\n",
    "How do the histograms look now? Does the resulting image layers/histrogram make sense?\n",
    "\n",
    "*Note* - don't forget to return to the default selection mode after you have done this. "
   ]
  },
  {
   "cell_type": "markdown",
   "metadata": {
    "slideshow": {
     "slide_type": "slide"
    }
   },
   "source": [
    "## Problem 2) Linking Data Sets\n",
    "\n",
    "So far we have only employed automatic linking via data subsets. This has some utility (for instance, I could imagine teaching non-experts about source detection using the steps we just covered regarding the removal of faint pixels), but the real power of `glue` is in linking heterogeneous data sets. "
   ]
  },
  {
   "cell_type": "markdown",
   "metadata": {
    "slideshow": {
     "slide_type": "slide"
    }
   },
   "source": [
    "**Problem 2a**\n",
    "\n",
    "Open the second data file from the tarball `w5_psc.vot`. \n",
    "\n",
    "*Aside* - this VO table file includes sources in the W5 region that were detected by the [*Spitzer*](http://www.spitzer.caltech.edu/) space telescope. One reason for comparing *WISE* to *Spitzer* is that *WISE* covers the entire sky, while *Spitzer* offers higher resolution and greater depth, so it has more complete catalogs in the areas that it has observed."
   ]
  },
  {
   "cell_type": "markdown",
   "metadata": {
    "slideshow": {
     "slide_type": "slide"
    }
   },
   "source": [
    "Given that the catalog and image are heterogeneous, linking will not be automatic (as it was for the subsets created in problem 1). \n",
    "\n",
    "**Problem 2b**\n",
    "\n",
    "Link the data sets by selecting the *Link Data* option in the top of the menu bar.\n",
    "\n",
    "Select an appropriate component from the image and catalog data, and then link those components by clicking on the *glue* button."
   ]
  },
  {
   "cell_type": "markdown",
   "metadata": {
    "slideshow": {
     "slide_type": "slide"
    }
   },
   "source": [
    "Get it? Link the things by \"glueing\" them together, using `glue`. \n",
    "\n",
    ".\n",
    "\n",
    ".\n",
    "\n",
    ".\n",
    "\n",
    "Get it? "
   ]
  },
  {
   "cell_type": "markdown",
   "metadata": {
    "slideshow": {
     "slide_type": "slide"
    }
   },
   "source": [
    "No seriously, \n",
    "\n",
    "**Do you get it?**"
   ]
  },
  {
   "cell_type": "markdown",
   "metadata": {
    "slideshow": {
     "slide_type": "slide"
    }
   },
   "source": [
    "Be sure that you glue both of the relevant variables that connect these two data sets."
   ]
  },
  {
   "cell_type": "markdown",
   "metadata": {
    "slideshow": {
     "slide_type": "slide"
    }
   },
   "source": [
    "Hold on, now it's about to get real. \n",
    "\n",
    "With the catalog and image now linked, subsets selected in either space (e.g., the bright emission knot selected in Problem 1) will automatically be reflected in the other space."
   ]
  },
  {
   "cell_type": "markdown",
   "metadata": {
    "slideshow": {
     "slide_type": "slide"
    }
   },
   "source": [
    "**Problem 2c**\n",
    "\n",
    "Create a scatter plot of the the catalog data by dragging `w5_psc.vot` into the visualization canvas.\n",
    "\n",
    "For the scatter plot show the [4.5] - [5.8] vs. [3.6] color magnitude diagram."
   ]
  },
  {
   "cell_type": "markdown",
   "metadata": {
    "slideshow": {
     "slide_type": "slide"
    }
   },
   "source": [
    "**Problem 2d** \n",
    "\n",
    "Remove the previously created subsets. In the 2D image, choose the circular selection tool and highlight a small region centered on the bright know in the northwest portion of the nebula. \n",
    "\n",
    "What do you notice when you make this selection?"
   ]
  },
  {
   "cell_type": "markdown",
   "metadata": {
    "slideshow": {
     "slide_type": "slide"
    }
   },
   "source": [
    "**Problem 2e**\n",
    "\n",
    "Show the individual *Spitzer* point sources on the image by selecting the subset in the data collection and dragging it onto the 2D image. \n",
    "\n",
    "Look at the overlap of the sources relative to the bright knot - does this make sense?"
   ]
  },
  {
   "cell_type": "markdown",
   "metadata": {
    "slideshow": {
     "slide_type": "slide"
    }
   },
   "source": [
    "**Problem 2f**\n",
    "\n",
    "Adjust the plot of the subset of points to provide a linear colormap for the data. \n",
    "\n",
    "Color the points by their [3.6] magnitude? Does the image make sense?"
   ]
  },
  {
   "cell_type": "markdown",
   "metadata": {
    "slideshow": {
     "slide_type": "slide"
    }
   },
   "source": [
    "What about the reverse? Can we select interesting sources in CMD space and highlight their spatial positions in the cluster? \n",
    "\n",
    "This could be useful, for example, to identify the location of the youngest stars within the W5 star-forming region."
   ]
  },
  {
   "cell_type": "markdown",
   "metadata": {
    "slideshow": {
     "slide_type": "slide"
    }
   },
   "source": [
    "**Problem 2g**\n",
    "\n",
    "Select the *Spitzer* point source catalog in the data collection. Then, using the rectangular selection tool in the CMD, choose all the red sources with [4.5] - [5.8] > 1 mag. \n",
    "\n",
    "What can you say about the positions of the red sources relative to the 12 micron emission? "
   ]
  },
  {
   "cell_type": "markdown",
   "metadata": {
    "slideshow": {
     "slide_type": "slide"
    }
   },
   "source": [
    "## Problem 3) Reproducibility\n",
    "\n",
    "Hopefully at this point it is clear that `glue` can be very powerful in the way that it allows linking across image and catalog data. \n",
    "\n",
    "However, everything we have done has been in an interactive mode that may be hard to reproduce. "
   ]
  },
  {
   "cell_type": "markdown",
   "metadata": {
    "slideshow": {
     "slide_type": "slide"
    }
   },
   "source": [
    "Fortunately, `glue` provides multiple different ways to save your work.\n",
    "\n",
    "You can either save your entire session, save specific plots from your session, or save subsets created via the various selection tools from your session."
   ]
  },
  {
   "cell_type": "markdown",
   "metadata": {
    "slideshow": {
     "slide_type": "slide"
    }
   },
   "source": [
    "## Problem 4) Easy (?) False Color Images"
   ]
  },
  {
   "cell_type": "markdown",
   "metadata": {
    "slideshow": {
     "slide_type": "subslide"
    }
   },
   "source": [
    "You should have already unpacked a tarball with 5 fits images: https://northwestern.box.com/s/hmitigmvcfi2tuzlgt1psatebkyrk0e3"
   ]
  },
  {
   "cell_type": "markdown",
   "metadata": {
    "slideshow": {
     "slide_type": "slide"
    }
   },
   "source": [
    "**Problem 4a**\n",
    "\n",
    "Open each of the 5 fits files (named g, r, i, z, y) in glue. \n",
    "\n",
    "*Note* - as you open each image after the first you will be prompted to \"merge\" the data. Select no on that option for now."
   ]
  },
  {
   "cell_type": "markdown",
   "metadata": {
    "slideshow": {
     "slide_type": "slide"
    }
   },
   "source": [
    "**Problem 4b**\n",
    "\n",
    "Create a 2D image of the g-band data."
   ]
  },
  {
   "cell_type": "markdown",
   "metadata": {
    "slideshow": {
     "slide_type": "slide"
    }
   },
   "source": [
    "**Problem 4c**\n",
    "\n",
    "Drag and drop the data from each of the other filters on to the g band image."
   ]
  },
  {
   "cell_type": "markdown",
   "metadata": {
    "slideshow": {
     "slide_type": "slide"
    }
   },
   "source": [
    "**Problem 4d**\n",
    "\n",
    "Change the color option from colorbar to \"one color per channel\". Then select 3 layers for the 2D image, assigning RGB to one of each of the layers."
   ]
  },
  {
   "cell_type": "markdown",
   "metadata": {
    "slideshow": {
     "slide_type": "slide"
    }
   },
   "source": [
    "**Problem 4e**\n",
    "\n",
    "Adjust the scalings (and colors if necessary) to create a nice false color image of the galaxy."
   ]
  },
  {
   "cell_type": "markdown",
   "metadata": {
    "slideshow": {
     "slide_type": "slide"
    }
   },
   "source": [
    "## Problem 5) 3D scatter plots in glue"
   ]
  },
  {
   "cell_type": "markdown",
   "metadata": {
    "slideshow": {
     "slide_type": "slide"
    }
   },
   "source": [
    "### Warning 1\n",
    "\n",
    "3D viewing in `glue` is relatively new, and as such it does not provide the full range of functionality that is eventually expected within the package.\n",
    "\n",
    "[Read the docs](http://docs.glueviz.org/en/latest/gui_guide/3d_viewers.html) for caveats regarding the use of the 3D viewer."
   ]
  },
  {
   "cell_type": "markdown",
   "metadata": {
    "slideshow": {
     "slide_type": "subslide"
    }
   },
   "source": [
    "### Warning 2\n",
    "\n",
    "There is a very very good chance that you may have a non-working version of `glue` on your machine if you have not updated your `anaconda` software since session 4. At this point, please proceed carefully to make sure you have the correct install for 3D rendering in `glue`.\n",
    "\n",
    "As a first test, please try:\n",
    "\n",
    "    conda list glue\n",
    "\n",
    "If that returns something like this: \n",
    "\n",
    "    # Name                    Version                   Build  Channel\n",
    "    glue-core                 0.13.2                   py36_0    glueviz\n",
    "    glue-vispy-viewers        0.10                     py36_1    glueviz\n",
    "    glueviz                   0.13.2                        0    glueviz\n",
    "\n",
    "Namely, `glue-core` and `glueviz` versions 0.13.x **AND** `glue-vispy-viewers` version 0.10 –– then you are safe and ready to proceed."
   ]
  },
  {
   "cell_type": "markdown",
   "metadata": {
    "slideshow": {
     "slide_type": "subslide"
    }
   },
   "source": [
    "Alternatively, if you have something like this: \n",
    "\n",
    "    # Name                    Version                   Build  Channel\n",
    "    glue-core                 0.12.5                   py36_0    glueviz\n",
    "    glue-vispy-viewers        0.10                     py36_1    glueviz\n",
    "    glueviz                   0.13.0                        0    glueviz\n",
    "\n",
    "Or, any combination of `glue-core` or `glueviz` <= 0.12.x **AND** `glue-vispy-viewers` version 0.10 –– then 3D viewing is likely not going to be supported in your installation. \n",
    "\n",
    "The easiest way to address right now is to roll back your `glueviz` packages: \n",
    "\n",
    "    conda install -c glueviz glueviz=0.12.4\n",
    "    conda install -c glueviz glueviz=0.12.4\n",
    "    conda install -c glueviz glue-vispy-viewers=0.9\n",
    "    \n",
    "If you are unsure about any of this, please raise your hand and I'll stop by to make sure everything is set up correctly."
   ]
  },
  {
   "cell_type": "markdown",
   "metadata": {
    "slideshow": {
     "slide_type": "slide"
    }
   },
   "source": [
    "As an example of a 3D scatter plot in `glue`, we will create a fits table using the training data from the feature engineering then render the data."
   ]
  },
  {
   "cell_type": "markdown",
   "metadata": {
    "slideshow": {
     "slide_type": "slide"
    }
   },
   "source": [
    "**Problem 5a** \n",
    "\n",
    "Create `astropy.io.fits` columns for each of the 3 data arrays.\n",
    "\n",
    "*Hint* - `fits.Column` takes `name`, `format`, and `array` as optional arguments. For `format` \"D\" = double precision, and \"J\" = integer. You'll want to pass `np.array`s to the `array` argument. "
   ]
  },
  {
   "cell_type": "code",
   "execution_count": 1,
   "metadata": {
    "collapsed": true,
    "slideshow": {
     "slide_type": "slide"
    }
   },
   "outputs": [],
   "source": [
    "import pandas as pd\n",
    "from astropy.io import fits\n",
    "import numpy as np\n",
    "\n",
    "train_df = pd.read_csv(\"training_sources.csv\")\n",
    "\n",
    "col1 = fits.Column(name=\"mean\", format=\"D\", array=np.array(train_df[\"mean\"]))\n",
    "col2 = fits.Column(name=\"nobs\", format=\"J\", array=np.array(train_df[\"nobs\"]))\n",
    "col3 = fits.Column(name=\"duration\", format=\"J\", array=np.array(train_df[\"duration\"]))"
   ]
  },
  {
   "cell_type": "markdown",
   "metadata": {
    "slideshow": {
     "slide_type": "slide"
    }
   },
   "source": [
    "**Problem 5b**\n",
    "\n",
    "Merge the columns into a `fits` hdu object."
   ]
  },
  {
   "cell_type": "code",
   "execution_count": 2,
   "metadata": {
    "collapsed": true,
    "slideshow": {
     "slide_type": "slide"
    }
   },
   "outputs": [],
   "source": [
    "hdu = fits.BinTableHDU.from_columns([col1, col2, col3])"
   ]
  },
  {
   "cell_type": "markdown",
   "metadata": {
    "slideshow": {
     "slide_type": "slide"
    }
   },
   "source": [
    "**Problem 5c**\n",
    "\n",
    "Write the hdu object to a fits file."
   ]
  },
  {
   "cell_type": "code",
   "execution_count": 3,
   "metadata": {
    "collapsed": true,
    "slideshow": {
     "slide_type": "slide"
    }
   },
   "outputs": [],
   "source": [
    "hdu.writeto(\"training_set.fits\")"
   ]
  },
  {
   "cell_type": "markdown",
   "metadata": {
    "slideshow": {
     "slide_type": "slide"
    }
   },
   "source": [
    "**Problem 5d** \n",
    "\n",
    "Open the fits file in `glue`. \n",
    "\n",
    "Drag the file to the canvas, and select 3D scatter plot.\n",
    "\n",
    "Zoom, rotate, adjust the rendering to get a sense of how this 3d scatter plot compares to ParaView."
   ]
  },
  {
   "cell_type": "markdown",
   "metadata": {
    "slideshow": {
     "slide_type": "slide"
    }
   },
   "source": [
    "**Problem 5e** \n",
    "\n",
    "Adjust the size of the points and color the data via the value of the mean. Choose a colorbar that makes it easier to see the variation in the data. "
   ]
  },
  {
   "cell_type": "markdown",
   "metadata": {
    "slideshow": {
     "slide_type": "slide"
    }
   },
   "source": [
    "**Problem 5f**\n",
    "\n",
    "Identify the predominant axis in the data. Adjust its stretch value to 10.\n",
    "\n",
    "Change the limits on duration to extend from 2000 to 2500.\n",
    "\n",
    "Do these changes help or harm your visualization?"
   ]
  },
  {
   "cell_type": "markdown",
   "metadata": {
    "slideshow": {
     "slide_type": "slide"
    }
   },
   "source": [
    "**Problem 5g**\n",
    "\n",
    "Create a new fits table including more informative features from Tuesday's lecture, as well as the class information for each source. \n",
    "\n",
    "Open the fits table in `glue` and create a 3D scatterplot highlighting 3 very useful features with the points colored by the classification of each star."
   ]
  },
  {
   "cell_type": "markdown",
   "metadata": {
    "slideshow": {
     "slide_type": "slide"
    }
   },
   "source": [
    "**Problem 5h**\n",
    "\n",
    "Use the circle selection tool to create a subset of the data. Generate a histogram of that subset showing a variable that is not displayed in the 3D render. "
   ]
  },
  {
   "cell_type": "markdown",
   "metadata": {
    "slideshow": {
     "slide_type": "slide"
    }
   },
   "source": [
    "## Problem 6) 3D volume renderings"
   ]
  },
  {
   "cell_type": "markdown",
   "metadata": {
    "slideshow": {
     "slide_type": "subslide"
    }
   },
   "source": [
    "You should have already downloaded the [astropy fits cube for L1448](https://northwestern.box.com/s/plr126cuuag8dqff0qk2wugeoqyw37t7), which includes $^{13}$CO data. "
   ]
  },
  {
   "cell_type": "markdown",
   "metadata": {
    "slideshow": {
     "slide_type": "slide"
    }
   },
   "source": [
    "**Problem 6a**\n",
    "\n",
    "Open the `l1448_13co.fits` file in glue. \n",
    "\n",
    "Adjust the scaling parameters and rotate the cube to get a sense of the data."
   ]
  },
  {
   "cell_type": "markdown",
   "metadata": {
    "slideshow": {
     "slide_type": "slide"
    }
   },
   "source": [
    "**Problem 6b**\n",
    "\n",
    "Create a 1D histogram of the same data. Use the horizontal select tool to select the brightest pixels with `PRIMARY` > 1.5. \n",
    "\n",
    "How does this change the appearance of the data cube?"
   ]
  },
  {
   "cell_type": "markdown",
   "metadata": {
    "slideshow": {
     "slide_type": "slide"
    }
   },
   "source": [
    "**Problem 6c** \n",
    "\n",
    "Click the start/stop rotation button. \n",
    "\n",
    "Preeeeeeeeeeeeeeety."
   ]
  },
  {
   "cell_type": "markdown",
   "metadata": {
    "slideshow": {
     "slide_type": "slide"
    }
   },
   "source": [
    "**Problem 6d**\n",
    "\n",
    "Record a movie as you move around the cube. Press the camera button, choose a location to save the movie. At that point you will see a red button which means you are recording –– select this button to stop the recording. \n",
    "\n",
    "The movie file that this generates is an animated gif. Open it in a browser to see the output.\n",
    "\n",
    "*Note* - I could not get the record and rotation button (**6c**) to work simultaneously."
   ]
  },
  {
   "cell_type": "markdown",
   "metadata": {
    "slideshow": {
     "slide_type": "slide"
    }
   },
   "source": [
    "Finally - unfortunately, I do not have the table data to make a link here, but if you did, you could then select information within the data cube and highlight it in the table, in much the same way we did in Problem **2**."
   ]
  },
  {
   "cell_type": "markdown",
   "metadata": {
    "slideshow": {
     "slide_type": "slide"
    }
   },
   "source": [
    "## Problem 7) Python Scripting\n",
    "\n",
    "Like the other tools introduced this week `glue` supports python scripting. \n",
    "\n",
    "The easiest way to launch this is to click on the *IPython Terminal* button at the top of the `glue` window. \n",
    "\n",
    "This launches an `IPython` instace, from which you can perform several operations, so [read the docs](http://docs.glueviz.org/en/latest/python_guide/data_tutorial.html). Here we will re-create some of the operations from **Problem 2** using the command line. "
   ]
  },
  {
   "cell_type": "markdown",
   "metadata": {
    "slideshow": {
     "slide_type": "slide"
    }
   },
   "source": [
    "If nesssary, reload the W5 data (both fits and image).\n",
    "\n",
    "**Problem 7a**\n",
    "\n",
    "Launch the *IPython Terminal* in `glue` and examine the data collection:\n",
    "\n",
    "    dc"
   ]
  },
  {
   "cell_type": "markdown",
   "metadata": {
    "slideshow": {
     "slide_type": "slide"
    }
   },
   "source": [
    "The data collection is effectively a list. We will focus on the catalog data.\n",
    "\n",
    "**Problem 7b**\n",
    "\n",
    "Select the catalog data by creating a variable `psc_cat` which is equal to the second list entry in `dc`.\n",
    "\n",
    "Examine the contents of `psc_cat`\n",
    "\n",
    "    psc_cat.components"
   ]
  },
  {
   "cell_type": "markdown",
   "metadata": {
    "slideshow": {
     "slide_type": "slide"
    }
   },
   "source": [
    "You can now manipulate `psc_cat` in the same way that you would a dictionary. This also means that `np` style indexing can be performed on the data.\n",
    "\n",
    "**Problem 7c** \n",
    "\n",
    "To test this, print out the \"Hmag\" values from the catalog."
   ]
  },
  {
   "cell_type": "markdown",
   "metadata": {
    "slideshow": {
     "slide_type": "slide"
    }
   },
   "source": [
    "Now that we have the data in `python` we can combine multiple attributes within the same data set.\n",
    "\n",
    "**Problem 7d**\n",
    "\n",
    "Create an array that is equal to the [3.6] - [4.5] color. Add this array to the `psc_cat`.\n",
    "\n",
    "*Hint* - this is handled in exactly the same way as it would be for a ditionary."
   ]
  },
  {
   "cell_type": "markdown",
   "metadata": {
    "slideshow": {
     "slide_type": "slide"
    }
   },
   "source": [
    "**Problem 7e**\n",
    "\n",
    "Create a new subset of the data where the [3.6] - [4.5] color is > 1.2.\n",
    "\n",
    "    state = psc_cat.id[\"__3.6__-__4.5__\"] > 1.2\n",
    "    label = \"[3.6] - [4.5] > 1.2\"\n",
    "    subset_group = dc.new_subset_group(label, state)"
   ]
  },
  {
   "cell_type": "markdown",
   "metadata": {
    "slideshow": {
     "slide_type": "slide"
    }
   },
   "source": [
    "You should now see a new subset in the data collection panel. In this way it is possible to create precise selections based on the parameters in the catalog. Or to create new variables within the catalog. \n",
    "\n",
    "There is more functionality for adjusting the subsets within `IPython`, to learn more about those details [read the docs](http://docs.glueviz.org/en/latest/python_guide/data_tutorial.html)"
   ]
  }
 ],
 "metadata": {
  "celltoolbar": "Slideshow",
  "kernelspec": {
   "display_name": "Python 3",
   "language": "python",
   "name": "python3"
  },
  "language_info": {
   "codemirror_mode": {
    "name": "ipython",
    "version": 3
   },
   "file_extension": ".py",
   "mimetype": "text/x-python",
   "name": "python",
   "nbconvert_exporter": "python",
   "pygments_lexer": "ipython3",
   "version": "3.6.5"
  },
  "livereveal": {
   "height": 768,
   "scroll": true,
   "start_slideshow_at": "selected",
   "theme": "solarized",
   "width": 1024
  }
 },
 "nbformat": 4,
 "nbformat_minor": 2
}
