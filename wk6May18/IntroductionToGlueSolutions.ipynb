{
 "cells": [
  {
   "cell_type": "markdown",
   "metadata": {
    "slideshow": {
     "slide_type": "slide"
    }
   },
   "source": [
    "# Introduction to Glue-Viz\n",
    "\n",
    "**version 0.1**\n",
    "\n",
    "***\n",
    "By AA Miller (Northwestern CIERA/Adler Planetarium)\n",
    "03 May 2018"
   ]
  },
  {
   "cell_type": "markdown",
   "metadata": {
    "slideshow": {
     "slide_type": "slide"
    }
   },
   "source": [
    "## Introduction"
   ]
  },
  {
   "cell_type": "markdown",
   "metadata": {
    "slideshow": {
     "slide_type": "slide"
    }
   },
   "source": [
    "[All of my slides from Tuesday morning]"
   ]
  },
  {
   "cell_type": "markdown",
   "metadata": {
    "slideshow": {
     "slide_type": "slide"
    }
   },
   "source": [
    "... that is all"
   ]
  },
  {
   "cell_type": "markdown",
   "metadata": {
    "slideshow": {
     "slide_type": "slide"
    }
   },
   "source": [
    "## Glue\n",
    "\n",
    "As a point of review, on Tuesday we learned about ParaView. I'd summarize the major strength of ParaView as providing an interface to create really nice 3D representations of data (and we barely scratched the surface of the most complex renderings that you can create). \n",
    "\n",
    "On Wednesday, we learned about `bokeh`. I would summarize the major strengths of `bokeh` as being the ability to create linked plots, as well as the relative ease of getting the output from bokeh into a server and on the web.  "
   ]
  },
  {
   "cell_type": "markdown",
   "metadata": {
    "slideshow": {
     "slide_type": "slide"
    }
   },
   "source": [
    "Today we are going to learn about [`glue`](http://glueviz.org), which is a pure python library that designed to explore the relationships between related datasets. `glue` is actually developed by astronomers (in collaboration with medical imaging researchers), so a lot of the functionality is designed with *our* needs in mind.\n",
    "\n",
    "(though note - it is created as a general purpose tool. But, if there is something that you'd like to see in `glue` that does not exist, then you can reach out and maybe they will develop it) "
   ]
  },
  {
   "cell_type": "markdown",
   "metadata": {
    "slideshow": {
     "slide_type": "slide"
    }
   },
   "source": [
    "`glue` includes elements that we have already explored this week. In particular, `glue`, due to the medical imaging connection, provides nice functionality for visualizing 3D data sets. Additionally, given the large collection of heterogenous catalogs in astronomy, `glue` is designed to make linking between data sets very straightforward."
   ]
  },
  {
   "cell_type": "markdown",
   "metadata": {
    "slideshow": {
     "slide_type": "subslide"
    }
   },
   "source": [
    "You should have already installed `glue`, but if not\n",
    "\n",
    "    conda install -c glue glue\n",
    "   \n",
    "Furthermore, our first example will use the data included in this tarball: https://northwestern.box.com/s/uiwq47ir8r4h6njlxv6njtx174wdeoox"
   ]
  },
  {
   "cell_type": "markdown",
   "metadata": {
    "slideshow": {
     "slide_type": "slide"
    }
   },
   "source": [
    "## Problem 1) Using Glue"
   ]
  },
  {
   "cell_type": "markdown",
   "metadata": {
    "slideshow": {
     "slide_type": "slide"
    }
   },
   "source": [
    "**Problem 1a** \n",
    "\n",
    "Open `glue`. The standard way to do this is to launch the program from the command line: `glue`."
   ]
  },
  {
   "cell_type": "markdown",
   "metadata": {
    "slideshow": {
     "slide_type": "slide"
    }
   },
   "source": [
    "At this stage you will notice 4 primary windows within the application: \n",
    "\n",
    "  * upper left ––– data collection (lists all the open data, as well as the selected subsets)\n",
    "  * middle left ––– viewer layers (shows the different layers, and allows control over which are displayed)\n",
    "  * lower left ––– viewer options (includes global options for the active viewer)\n",
    "  * right ––– visualization canvas (this is where the data renderings are actually shown)"
   ]
  },
  {
   "cell_type": "markdown",
   "metadata": {
    "slideshow": {
     "slide_type": "slide"
    }
   },
   "source": [
    "**Problem 1b** \n",
    "\n",
    "Open the w5 fits image in `glue`. \n",
    "\n",
    "As a quick note - this image is from the [*WISE*](https://www.nasa.gov/mission_pages/WISE/main/index.html) satellite and it is showing the [Westerhout 5 (W5)](https://en.wikipedia.org/wiki/Westerhout_5) star forming region.\n",
    "\n",
    "*Hint* - you can drag and drop, or select the file path in [*File $\\rightarrow$ Open Data Set.*]"
   ]
  },
  {
   "cell_type": "markdown",
   "metadata": {
    "slideshow": {
     "slide_type": "slide"
    }
   },
   "source": [
    "**Problem 1c**\n",
    "\n",
    "Render the image, by dragging the w5 entry in the data collection window to the visualization canvas. \n",
    "\n",
    "The will pop up a drop down menu asking what type of render you would like. Select the best option.\n",
    "\n",
    "*Hint* - you may want to resize the window within the visualization canvas."
   ]
  },
  {
   "cell_type": "markdown",
   "metadata": {
    "slideshow": {
     "slide_type": "slide"
    }
   },
   "source": [
    "As previously noted, one of the great strengths of `glue` is the ability to drill down on subsets of linked data. \n",
    "\n",
    "At the top of the 2D image window there are 5 different methods for selecting subsets of the data. From left to right they include: rectangular selection, vertical selection, horizontal selection, circular selection, and finally freeform selection [this has similar functionality to `bokeh`'s lasso.]."
   ]
  },
  {
   "cell_type": "markdown",
   "metadata": {
    "slideshow": {
     "slide_type": "slide"
    }
   },
   "source": [
    "**Problem 1d**\n",
    "\n",
    "Use the horizontal selection tool to select the subset of the data near the center of the image (this is done via drag and click). \n",
    "\n",
    "Then, use the vertical selection tool to select the subset of the data near the center of the image."
   ]
  },
  {
   "cell_type": "markdown",
   "metadata": {
    "slideshow": {
     "slide_type": "slide"
    }
   },
   "source": [
    "Notice that there are now 2 subsets in the data collection panel, as well as additional entries in the view layers panels.\n",
    "\n",
    "**Problem 1e**\n",
    "\n",
    "Adjust the color of subset 1 to be \"DSFP blue\" and adjust the transparency bar to its maximum (i.e. minimize the transparency of the selection.\n",
    "\n",
    "Adjust the color of subset 2 to be \"DSFP light grey\" and make this selection more transparent."
   ]
  },
  {
   "cell_type": "markdown",
   "metadata": {
    "slideshow": {
     "slide_type": "slide"
    }
   },
   "source": [
    "At this point, it is a little difficult to see the emission under the selected subsets. \n",
    "\n",
    "**Problem 1f**\n",
    "\n",
    "Select the w5 data in the data collection, and adjust the data scaling to match the optimal choice for astronomical images.\n",
    "\n",
    "*Hint* - think back to Zolt's lecture.\n",
    "\n",
    "[You may want to adjust the colorbar and range of the data being displayed. Be sure the subset panels can still be seen after making these changes.]"
   ]
  },
  {
   "cell_type": "markdown",
   "metadata": {
    "slideshow": {
     "slide_type": "slide"
    }
   },
   "source": [
    "There is a bright knot of emission in the northwest portion of the nebula, we will now focus on that.\n",
    "\n",
    "**Problem 1g**\n",
    "\n",
    "Adjust the subset selections to be centered on the bright emission knot in the northwest portion of the nebula. This can be done by selecting the subset in the data collection and then holding *cntl* while dragging the mouse over a new region to redefine the subset."
   ]
  },
  {
   "cell_type": "markdown",
   "metadata": {
    "slideshow": {
     "slide_type": "slide"
    }
   },
   "source": [
    "**Problem 1h**\n",
    "\n",
    "Create a histogram of the brightness data in the fits image [drag the w5 data from the data collection into the visualization canvas and select the appropriate option from the drop down menu]."
   ]
  },
  {
   "cell_type": "markdown",
   "metadata": {
    "slideshow": {
     "slide_type": "slide"
    }
   },
   "source": [
    "Notice that you now have histograms in 3 different colors. This is because the data linking in `glue` is (in some cases) automatic. By creating the histrogram for the data, you have also automatically created a histogram for the two subsets of the data. \n",
    "\n",
    "You will also notice that the histogram, as currently constructed, is not particularly informative."
   ]
  },
  {
   "cell_type": "markdown",
   "metadata": {
    "slideshow": {
     "slide_type": "slide"
    }
   },
   "source": [
    "**Problem 1i**\n",
    "\n",
    "Update the range of the histogram to extend to a maximum value of 1000. Increase the number of bins to 25. Finally, normalize the histogram. \n",
    "\n",
    "Does the resulting histogram make sense? "
   ]
  },
  {
   "cell_type": "markdown",
   "metadata": {
    "slideshow": {
     "slide_type": "slide"
    }
   },
   "source": [
    "The current histograms are strongly polluted by background pixels. We can improve this with the selection tools.\n",
    "\n",
    "**Problem 1j**\n",
    "\n",
    "Select the pixels in the bright knot by changing the selection mode to \"remove\" (5th option). Then select the horizontal selection tool in the histogram plot. Drag and click to select the region with pixel values less than 500 to remove those from the selection.\n",
    "\n",
    "How do the histograms look now? Does the resulting image layers/histrogram make sense?\n",
    "\n",
    "*Note* - don't forget to return to the default selection mode after you have done this. "
   ]
  },
  {
   "cell_type": "markdown",
   "metadata": {
    "slideshow": {
     "slide_type": "slide"
    }
   },
   "source": [
    "## Problem 2) Linking Data Sets\n",
    "\n",
    "So far we have only employed automatic linking via data subsets. This has some utility (for instance, I could imagine teaching non-experts about source detection using the steps we just covered regarding the removal of faint pixels), but the real power of `glue` is in linking heterogeneous data sets. "
   ]
  },
  {
   "cell_type": "markdown",
   "metadata": {
    "slideshow": {
     "slide_type": "slide"
    }
   },
   "source": [
    "**Problem 2a**\n",
    "\n",
    "Open the second data file from the tarball `w5_psc.vot`. \n",
    "\n",
    "*Aside* - this VO table file includes sources in the W5 region that were detected by the [*Spitzer*](http://www.spitzer.caltech.edu/) space telescope. One reason for comparing *WISE* to *Spitzer* is that *WISE* covers the entire sky, while *Spitzer* offers higher resolution and greater depth, so it has more complete catalogs in the areas that it has observed."
   ]
  },
  {
   "cell_type": "markdown",
   "metadata": {
    "slideshow": {
     "slide_type": "slide"
    }
   },
   "source": [
    "Given that the catalog and image are heterogeneous in "
   ]
  },
  {
   "cell_type": "markdown",
   "metadata": {},
   "source": []
  },
  {
   "cell_type": "markdown",
   "metadata": {},
   "source": []
  },
  {
   "cell_type": "markdown",
   "metadata": {},
   "source": []
  },
  {
   "cell_type": "markdown",
   "metadata": {},
   "source": []
  },
  {
   "cell_type": "markdown",
   "metadata": {},
   "source": []
  },
  {
   "cell_type": "markdown",
   "metadata": {},
   "source": []
  },
  {
   "cell_type": "markdown",
   "metadata": {},
   "source": []
  },
  {
   "cell_type": "markdown",
   "metadata": {},
   "source": []
  }
 ],
 "metadata": {
  "celltoolbar": "Slideshow",
  "kernelspec": {
   "display_name": "Python 3",
   "language": "python",
   "name": "python3"
  },
  "language_info": {
   "codemirror_mode": {
    "name": "ipython",
    "version": 3
   },
   "file_extension": ".py",
   "mimetype": "text/x-python",
   "name": "python",
   "nbconvert_exporter": "python",
   "pygments_lexer": "ipython3",
   "version": "3.6.2"
  },
  "livereveal": {
   "height": 768,
   "scroll": true,
   "start_slideshow_at": "selected",
   "theme": "solarized",
   "width": 1024
  }
 },
 "nbformat": 4,
 "nbformat_minor": 2
}
