{
 "cells": [
  {
   "cell_type": "markdown",
   "metadata": {},
   "source": [
    "# Galaxy photometry\n",
    "\n",
    "**Version 0.1**\n",
    "\n",
    "Today our goal is to compute the 1D radial profile of a simulated galaxy. While many software packages exist to do this, we will build this same functionality from scratch. Following this, we will be able to fit a radial profile to a galaxy image and measure its size. In practice, this problem is more complicated, but this example is, nevertheless, instructive.\n",
    "\n",
    "* * *\n",
    "\n",
    "By M Alpaslan (NYU) & AA Miller (CIERA/Northwestern & Adler)"
   ]
  },
  {
   "cell_type": "code",
   "execution_count": null,
   "metadata": {
    "collapsed": true
   },
   "outputs": [],
   "source": [
    "import numpy as np\n",
    "import matplotlib.pyplot as plt\n",
    "from astropy.io import fits\n",
    "\n",
    "%matplotlib notebook"
   ]
  },
  {
   "cell_type": "markdown",
   "metadata": {},
   "source": [
    "## Problem 1) Visualize the Galaxy Image Data\n",
    "\n",
    "The simulated galaxy for today's problem comes from the [Illustris Simulation](http://www.illustris-project.org), which is a large cosmological simulation of galaxy formation.\n",
    "\n",
    "Download the fits image for our simulated galaxy: https://northwestern.box.com/s/a8qp2afv6ed9r36v0y0vyc3vf82s1bw0\n",
    "\n",
    "(*Note* - The Illustris team has made simulated images of many different galaxies [available](http://www.illustris-project.org/galaxy_obs/).)"
   ]
  },
  {
   "cell_type": "markdown",
   "metadata": {},
   "source": [
    "**Problem 1a**\n",
    "\n",
    "Using your favorite tool, display an image of the galaxy using a logarithmic stretch. Do you notice anything unusual about the image?"
   ]
  },
  {
   "cell_type": "code",
   "execution_count": null,
   "metadata": {},
   "outputs": [],
   "source": [
    "gal_im = fits.getdata( # complete\n",
    "\n",
    "# complete\n",
    "# complete\n",
    "\n",
    "plt.colorbar()\n",
    "plt.tight_layout()"
   ]
  },
  {
   "cell_type": "markdown",
   "metadata": {},
   "source": [
    "**Problem 1b** \n",
    "\n",
    "Plot a histogram of the $\\log$ of the pixel values in the simulated image.\n",
    "\n",
    "*Hint* - you will likely want more than the `matplotlib` default number of bins."
   ]
  },
  {
   "cell_type": "code",
   "execution_count": null,
   "metadata": {},
   "outputs": [],
   "source": [
    "plt.hist( # complete\n",
    "plt.yscale(\"log\")"
   ]
  },
  {
   "cell_type": "markdown",
   "metadata": {},
   "source": [
    "**Problem 1c** \n",
    "\n",
    "Informed by your histogram, replace any highly discrepant pixels within the image with the median pixel value for the image.\n",
    "\n",
    "*Hint* - plot the results to confirm this operation occurred as expected.\n",
    "\n",
    "*Note* - this procedure is strongly discouraged with real data: if weird things are happening in an image there is a reason, and it is best to understand the origins of the peculiarities. For our current purposes, this step will simplify our analysis."
   ]
  },
  {
   "cell_type": "code",
   "execution_count": null,
   "metadata": {},
   "outputs": [],
   "source": [
    "unusual_pix = # complete\n",
    "gal_median_filt = # complete\n",
    "\n",
    "# complete\n",
    "# complete\n",
    "\n",
    "plt.tight_layout()"
   ]
  },
  {
   "cell_type": "markdown",
   "metadata": {},
   "source": [
    "## Problem 2) Measuring Radial Intensities\n",
    "\n",
    "Before we can measure the radial profile of this galaxy, we need to compute the flux intensity at a given radius. By convention, this is done by computing the mean flux along an ellipse centered on the galaxy (where the \"radius\" in this case is the semi-major axis).\n",
    "\n",
    "An ellipse with arbitrary centroid and rotation angle can be described as \n",
    "\n",
    "$$ \\frac{((x-h)\\cos{\\theta} - (y-k)\\sin{\\theta})^2}{a^2} + \\frac{((x-h)\\sin{\\theta} + (y-k)\\cos{\\theta})^2}{b^2} = 1,$$\n",
    "\n",
    "where $h, k, a, b, \\theta$ are the x centroid, y centroid, semi-major axis, semi-minor axes, and the rotation angle of the elipse, respectively.\n",
    "\n",
    "This can be re-written as (it's worth checking this on the board or scratch paper):\n",
    "\n",
    "$$\\left(\\frac{\\sin^2{\\theta}}{a^2} + \\frac{\\cos^2{\\theta}}{b^2}\\right)y^2 + \\left(-2\\frac{((x-h)\\cos{\\theta} + k\\sin{\\theta})\\sin{\\theta}}{a^2} + 2\\frac{((x-h)\\sin{\\theta} - k\\cos{\\theta})\\cos{\\theta}}{b^2}\\right)y + \\left(\\frac{((x-h)\\cos{\\theta} + k\\sin{\\theta})^2}{a^2} + \\frac{((x-h)\\sin{\\theta} - k\\cos{\\theta})^2}{b^2} - 1\\right) = 0$$"
   ]
  },
  {
   "cell_type": "markdown",
   "metadata": {},
   "source": [
    "**Problem 2a**\n",
    "\n",
    "Write a function to solve for $y$ given $x$ and the ellipse parameters.\n",
    "\n",
    "*Hint* - the function [`np.roots`](https://docs.scipy.org/doc/numpy-1.13.0/reference/generated/numpy.roots.html) may be helpful."
   ]
  },
  {
   "cell_type": "code",
   "execution_count": null,
   "metadata": {
    "collapsed": true
   },
   "outputs": [],
   "source": [
    "def y_ellipse(x, h, k, a, b, theta):\n",
    "    \n",
    "    # complete\n",
    "    # complete\n",
    "\n",
    "    # complete\n",
    "    # complete\n",
    "    # complete\n",
    "    # complete\n",
    "\n",
    "    return # complete"
   ]
  },
  {
   "cell_type": "markdown",
   "metadata": {},
   "source": [
    "**Problem 2b**\n",
    "\n",
    "Plot an elipse using your equation with $h = 0$, $k = 0$, $a = 4$, $b = 2$, and $\\theta = \\pi/6$.\n",
    "\n",
    "*Hint* - most of this code has been provided for you."
   ]
  },
  {
   "cell_type": "code",
   "execution_count": null,
   "metadata": {
    "scrolled": false
   },
   "outputs": [],
   "source": [
    "x_grid = np.linspace(-3.605, 3.605, 1000)\n",
    "y_vals = np.vstack((np.empty_like(x_grid), np.empty_like(x_grid)))\n",
    "for x_num, x in enumerate(x_grid):\n",
    "    roots = y_ellipse( # complete\n",
    "\n",
    "    y_vals[:,x_num] = np.sort(roots)\n",
    "    \n",
    "plt.plot(np.append(x_grid, x_grid[::-1]), np.append(y_vals[0], y_vals[1][::-1]))\n",
    "plt.xlim(-4, 4)\n",
    "plt.ylim(-4, 4)"
   ]
  },
  {
   "cell_type": "markdown",
   "metadata": {},
   "source": [
    "**Problem 2c**\n",
    "\n",
    "Write a function to measure the average flux of every pixel in the image that is intersected by an ellipse with parameters $k, h, a, b, \\theta$.\n",
    "\n",
    "*Hint* - `np.floor()` will be useful for selecting the correct pixel.\n",
    "\n",
    "*Hint 2* - brute force is not elegant, but it is sufficient as long as you throw away imaginary solutions."
   ]
  },
  {
   "cell_type": "code",
   "execution_count": null,
   "metadata": {
    "collapsed": true
   },
   "outputs": [],
   "source": [
    "def mean_radial_flux(im_data, h, k, a, b, theta):\n",
    "    \n",
    "    # complete\n",
    "    # complete\n",
    "\n",
    "    # complete\n",
    "    # complete\n",
    "    # complete\n",
    "    # complete\n",
    "\n",
    "    return # complete"
   ]
  },
  {
   "cell_type": "markdown",
   "metadata": {},
   "source": [
    "For this and the remaining problems, assume that the galaxy is centered at (x, y) = (128, 138), that the ellipticity (1 - b/a) is fixed at 0.3, and that $\\theta = 0.8377$. [In principle we could ask you to determine each of these values, but that is outside the scope of the current problem.]\n",
    "\n",
    "**Problem 2d** \n",
    "\n",
    "Measure the mean \"radial\" flux of the galaxy at $a = 5$ and $a = 20$. Do these answers make sense? "
   ]
  },
  {
   "cell_type": "code",
   "execution_count": null,
   "metadata": {},
   "outputs": [],
   "source": [
    "a5_flux = # complete\n",
    "a20_flux = # complete\n",
    "\n",
    "print(\"The mean flux at 5 pixels is {:.6f}\".format( # complete\n",
    "print(\"The mean flux at 20 pixels is {:.6f}\".format( # complete"
   ]
  },
  {
   "cell_type": "markdown",
   "metadata": {},
   "source": [
    "**Problem 2e**\n",
    "\n",
    "Plot the \"mean radial profile\" of the galaxy.\n",
    "\n",
    "*Hint* - when choosing a grid of radii to measure, recall that the function does not make sub-pixel estimates of the flux. "
   ]
  },
  {
   "cell_type": "code",
   "execution_count": null,
   "metadata": {},
   "outputs": [],
   "source": [
    "r_grid = # complete\n",
    "mean_rad_prof = # complete\n",
    "for # complete\n",
    "\n",
    "plt.plot( # complete"
   ]
  },
  {
   "cell_type": "markdown",
   "metadata": {},
   "source": [
    "## Problem 3) Sersic Profile\n",
    "\n",
    "The Sersic profile for galaxies can be written as: \n",
    "\n",
    "$$\\ln I(R) = \\ln I_0 - kR^{1/n},$$\n",
    "\n",
    "where $I$ is the intensity (or flux), $I_0$ is the intensity at $R = 0$, $k$ is a normalization constant, and $n$ is the \"Sersic index\", which describes the curvature of the light profile.\n",
    "\n",
    "We will now use a non-linear optimization routine from `scipy.optimize` to determine the value of the Sersic index."
   ]
  },
  {
   "cell_type": "markdown",
   "metadata": {},
   "source": [
    "**Problem 3a**\n",
    "\n",
    "Create a function `squared_error()` that calculates the sum of the squared difference between $\\ln I(R)$ and $\\ln I_0 - kR^{1/n}$.\n",
    "\n",
    "*Hint* - the 3 unknown parameters ($I_0$, $k$, and $n$) should be passed to the function as a single tuple called `params`."
   ]
  },
  {
   "cell_type": "code",
   "execution_count": null,
   "metadata": {
    "collapsed": true
   },
   "outputs": [],
   "source": [
    "def squared_error( # complete\n",
    "    \n",
    "    # complete\n",
    "    # complete\n",
    "    # complete"
   ]
  },
  {
   "cell_type": "markdown",
   "metadata": {},
   "source": [
    "**Problem 3b**\n",
    "\n",
    "Using the `L-BFGS-B` method of `scipy.optimize.minimize()`, determine the value of the Sersic index.\n",
    "\n",
    "*Hint* - you will want to provide a reasonable first guess along with bounds for the minimization function."
   ]
  },
  {
   "cell_type": "code",
   "execution_count": null,
   "metadata": {},
   "outputs": [],
   "source": [
    "from scipy.optimize import minimize\n",
    "res = minimize( # complete\n",
    "                # complete\n",
    "                # complete\n",
    "\n",
    "print(\"The Sersic index is {:.3f}\".format( # complete"
   ]
  },
  {
   "cell_type": "markdown",
   "metadata": {},
   "source": [
    "## Challenge Problem\n",
    "\n",
    "The image that we have been working with reflects the full sensitivity of the Illustris simulation. Ground based images are observed through the atmosphere. Convolve the image with a PSF (assume a circular gaussian with FWHM = 12 pixels) and re-measure the Sersic index. How does your answer compare?"
   ]
  },
  {
   "cell_type": "code",
   "execution_count": null,
   "metadata": {
    "collapsed": true
   },
   "outputs": [],
   "source": [
    "# complete"
   ]
  }
 ],
 "metadata": {
  "kernelspec": {
   "display_name": "Python 3",
   "language": "python",
   "name": "python3"
  },
  "language_info": {
   "codemirror_mode": {
    "name": "ipython",
    "version": 3
   },
   "file_extension": ".py",
   "mimetype": "text/x-python",
   "name": "python",
   "nbconvert_exporter": "python",
   "pygments_lexer": "ipython3",
   "version": "3.6.2"
  }
 },
 "nbformat": 4,
 "nbformat_minor": 2
}
