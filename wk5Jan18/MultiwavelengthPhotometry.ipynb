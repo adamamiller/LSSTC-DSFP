{
 "cells": [
  {
   "cell_type": "markdown",
   "metadata": {},
   "source": [
    "# Matched wavelength photometry\n",
    "\n",
    "**Version 0.1**\n",
    "\n",
    "For today's problem, we will perform matched-aperture photometry in 3 bands on multiple galaxies within a rich galaxy cluster. Ultimately, we will be looking for trends in galaxy colors and other properties as a function of cluster radius.\n",
    "\n",
    "Note - we will use `astropy` for these tasks, though the use of [`Source Extractor`](https://www.astromatic.net/software/sextractor) is more standard within the galaxy community.\n",
    "\n",
    "\n",
    "* * *\n",
    "\n",
    "By M Alpaslan (NYU) & AA Miller (CIERA/Northwestern & Adler)"
   ]
  },
  {
   "cell_type": "markdown",
   "metadata": {},
   "source": [
    "## Problem 0) Install photutils\n",
    "\n",
    "If you have not already done so, install the [`photutils`](http://photutils.readthedocs.io/en/stable/index.html) package from the `astropy` conda channel *within your DSFP environment*. You will also need the [`scikit-image`](http://scikit-image.org) package.\n",
    "\n",
    "    conda install -c astropy photutils\n",
    "    conda install scikit-image"
   ]
  },
  {
   "cell_type": "code",
   "execution_count": null,
   "metadata": {
    "collapsed": true
   },
   "outputs": [],
   "source": [
    "import numpy as np\n",
    "import pandas as pd\n",
    "import astropy\n",
    "from astropy.io import fits\n",
    "from photutils.aperture import CircularAperture, CircularAnnulus, EllipticalAperture, EllipticalAnnulus\n",
    "from photutils.segmentation import detect_sources, source_properties\n",
    "from photutils.detection import detect_threshold\n",
    "from photutils.centroids import centroid_com\n",
    "from photutils import aperture_photometry\n",
    "from photutils.utils import calc_total_error\n",
    "import matplotlib.pyplot as plt\n",
    "\n",
    "%matplotlib notebook"
   ]
  },
  {
   "cell_type": "markdown",
   "metadata": {},
   "source": [
    "## Problem 1) Download and Examine the Data\n",
    "\n",
    "The images for this exercise can be downloaded from here: https://northwestern.box.com/s/x6nzuqtdys3jo1nufvswkx62o44ifa11. Be sure to place the images in the same directory as this notebook (but do not add them to your git repo!).\n",
    "\n",
    "Before we dive in, here is some background information on the images we will be analyzing: the imaging data and the group information all come from the [Galaxy And Mass Assembly (GAMA) survey](http://gama-psi.icrar.org/); and more specifically, its [panchromatic data release](https://arxiv.org/abs/1508.02076). \n",
    "\n",
    "Many of the difficult steps associated with multiband galaxy photometry have already been done for you: GAMA constructs large mosaics of co-added FITS images in 20 bands to measure photometry. The images we will use today are from the g, r, and i mosaics that I (MA) built $\\sim$7 years ago. They are built from SDSS observations in those bands, and have all been convolved to a seeing of approximately 2”, background subtracted, and renormalized to a common zeropoint of 30 magnitudes. The group catalogue was done by Aaron Robotham (see https://arxiv.org/abs/1106.1994).\n",
    "\n",
    "In the downloaded directory there are g, r, and i images of 36 galaxies that all belong to the same cluster. These image cutouts have been centered on the galaxy position, are $\\sim$80.7\" on a side, and have a pixel scale of 0.339\"/pix.\n"
   ]
  },
  {
   "cell_type": "markdown",
   "metadata": {},
   "source": [
    "To begin we will focus on a single galaxy, before eventually working on the entire cluster. \n",
    "\n",
    "**Problem 1a**\n",
    "\n",
    "Display the $r$-band image of the galaxy 85698. Use a asinh stretch."
   ]
  },
  {
   "cell_type": "code",
   "execution_count": null,
   "metadata": {},
   "outputs": [],
   "source": [
    "r_filename = \"galaxy_images/85698_sdss_r.fits\"\n",
    "r_data = fits.getdata( # complete\n",
    "\n",
    "plt.imshow( # complete\n",
    "\n",
    "plt.colorbar()\n",
    "plt.tight_layout()"
   ]
  },
  {
   "cell_type": "markdown",
   "metadata": {},
   "source": [
    "**Problem 1b**\n",
    "\n",
    "Roughly how many sources are present in the image?\n",
    "\n",
    "*Hint* - an exact count is not required here."
   ]
  },
  {
   "cell_type": "markdown",
   "metadata": {},
   "source": [
    "**Solution 1b**\n",
    "\n",
    "*Write your answer here*"
   ]
  },
  {
   "cell_type": "markdown",
   "metadata": {
    "collapsed": true
   },
   "source": [
    "## Problem 2) Source Detection\n",
    "\n",
    "Prior to measuring any properties of sources in the image, we must first determine the number of sources present in the image. Source detection is challenging, and there are many different thresholding approaches. \n",
    "\n",
    "Today, we will streamline this step in order to spend more time focusing on the issues associated with matching photometric measurements across different images. We will use the [`detect_sources`](http://photutils.readthedocs.io/en/stable/api/photutils.segmentation.detect_sources.html#photutils.segmentation.detect_sources) function in `photutils` to identify objects in our image."
   ]
  },
  {
   "cell_type": "markdown",
   "metadata": {},
   "source": [
    "The simplest model assumes that the background is constant over the entire image. Once the background is determined, it can be subtracted from the image to determine high significance \"peaks\" corresponding to sources. After this week, we have learned that the background isn't so simple, nevertheless we will use the [`detect_threshold`](http://photutils.readthedocs.io/en/stable/api/photutils.detection.detect_threshold.html#photutils.detection.detect_threshold) convenience function to estimate *a constant* background for our images. `detect_threshold` produces a \"detection image\" that can be used to estimate the significance of the flux detected in any individual pixel.\n",
    "\n",
    "**Problem 2a** \n",
    "\n",
    "Create a detection threshold image using the `detect_threshold` function, set the `snr` parameter to 3."
   ]
  },
  {
   "cell_type": "code",
   "execution_count": null,
   "metadata": {
    "collapsed": true
   },
   "outputs": [],
   "source": [
    "threshold = detect_threshold( # complete"
   ]
  },
  {
   "cell_type": "markdown",
   "metadata": {},
   "source": [
    "**Problem 2b**\n",
    "\n",
    "Develop better intuition for the detection image by plotting it side-by-side with the actual image of the field.\n",
    "\n",
    "Do you notice anything interesting about the threshold image?"
   ]
  },
  {
   "cell_type": "code",
   "execution_count": null,
   "metadata": {},
   "outputs": [],
   "source": [
    "fig, (ax1, ax2) = plt.subplots(1, 2, figsize=(7,4))\n",
    "\n",
    "ax1.imshow( # complete\n",
    "ax2.imshow( # complete\n",
    "fig.tight_layout()"
   ]
  },
  {
   "cell_type": "markdown",
   "metadata": {},
   "source": [
    "Following this measurement of the background, we can find sources using the `detect_sources` function. Briefly, this function uses image segmentation to define and assign pixels to sources, which are defined as objects with $N$ connected pixels that are $s$ times brighter than the background (we already set $s = 3$). [Read the docs](http://photutils.readthedocs.io/en/stable/api/photutils.segmentation.detect_sources.html#photutils.segmentation.detect_sources) for further details.\n",
    "\n",
    "**Problem 2c**\n",
    "\n",
    "Generate a segmentation image using `detect_sources`. Keep only sources with $N = 7$ pixels, which is keyword arg `npixels` in detect_sources.\n",
    "\n",
    "*If you have extra time* Come back to this problem and see how changing $N$ affects your results."
   ]
  },
  {
   "cell_type": "code",
   "execution_count": null,
   "metadata": {
    "collapsed": true
   },
   "outputs": [],
   "source": [
    "segm = detect_sources( # complete"
   ]
  },
  {
   "cell_type": "markdown",
   "metadata": {},
   "source": [
    "**Problem 2d**\n",
    "\n",
    "Plot the segmentation image side-by-side with the actual image of the field.\n",
    "\n",
    "Are you concerned or happy with the results?\n",
    "\n",
    "*Hint* - no stretch should be applied to the segmentation image."
   ]
  },
  {
   "cell_type": "code",
   "execution_count": null,
   "metadata": {},
   "outputs": [],
   "source": [
    "fig, (ax1, ax2) = plt.subplots(1, 2, figsize=(7,4))\n",
    "\n",
    "ax1.imshow(# complete\n",
    "ax2.imshow(# complete\n",
    "fig.tight_layout()"
   ]
  },
  {
   "cell_type": "markdown",
   "metadata": {},
   "source": [
    "## Problem 3) Source Centroids and Shapes\n",
    "\n",
    "Now that we have defined all of the sources in the image, we must determine the centroid for each source (in order to ultimately make some form of photometric measurement). As Dora mentioned earlier in the week, there are many ways to determine the centroid of a given source (e.g., fitting a model, finding the max of the marginalized 1-d distribution, etc). Today we will use the [`centroid_com`](http://photutils.readthedocs.io/en/stable/api/photutils.centroids.centroid_com.html#photutils.centroids.centroid_com) function, which calculates the \"center of mass\" of the 2d image moments to determine the source centroids.\n",
    "\n",
    "To measure the centroid we want to isolate the source in question, thus we have generated a convenience function to return the extent of each source from its corresponding segmentation image."
   ]
  },
  {
   "cell_type": "code",
   "execution_count": null,
   "metadata": {
    "collapsed": true
   },
   "outputs": [],
   "source": [
    "def get_source_extent(segm_data, source_num):\n",
    "    \"\"\"\n",
    "    Determine extent of sources for centroid measurements\n",
    "    \n",
    "    Parameters\n",
    "    ----------\n",
    "    segm_data : array-like\n",
    "        Segementation image produced by photutils.segmentation.detect_sources\n",
    "    \n",
    "    source_num : int\n",
    "        The source number from the segmentation image\n",
    "        \n",
    "    Returns\n",
    "    -------\n",
    "    source_extent : list\n",
    "        The minimum y, maximum y, minimum x, and maximum x pixel values \n",
    "        over which a source is detected\n",
    "    \"\"\"\n",
    "    source_pix = np.where(segm_data == source_num)\n",
    "    source_extent = [np.min(source_pix[0]), np.max(source_pix[0]), \n",
    "                     np.min(source_pix[1]), np.max(source_pix[1])]\n",
    "\n",
    "    return source_extent"
   ]
  },
  {
   "cell_type": "markdown",
   "metadata": {},
   "source": [
    "**Problem 3a** \n",
    "\n",
    "Measure the centroid for each source detected in the image using the `centroid_com` function.\n",
    "\n",
    "*Hint* - you'll want to start with a subset of pixels containing the source.\n",
    "\n",
    "*Hint 2* - centroids are measured relative to the provided data, you'll need to convert back to \"global\" pixel values. "
   ]
  },
  {
   "cell_type": "code",
   "execution_count": null,
   "metadata": {
    "collapsed": true
   },
   "outputs": [],
   "source": [
    "xcentroid = np.zeros_like(np.unique(segm.data)[1:], dtype=\"float\")\n",
    "ycentroid = np.zeros_like(np.unique(segm.data)[1:], dtype=\"float\")\n",
    "\n",
    "for source_num in np.unique(segm.data)[1:]:\n",
    "    source_extent = get_source_extent( # complete\n",
    "    xc, yc = centroid_com( # complete\n",
    "    xcentroid[source_num-1], ycentroid[source_num-1] = # complete"
   ]
  },
  {
   "cell_type": "markdown",
   "metadata": {
    "collapsed": true
   },
   "source": [
    "**Problem 3b**\n",
    "\n",
    "Overplot the derived centroids on the image data as a sanity check for your methodology."
   ]
  },
  {
   "cell_type": "code",
   "execution_count": null,
   "metadata": {},
   "outputs": [],
   "source": [
    "fig, ax1 = plt.subplots()\n",
    "\n",
    "ax1.imshow( # complete\n",
    "ax1.plot( # complete\n",
    "fig.tight_layout()"
   ]
  },
  {
   "cell_type": "markdown",
   "metadata": {},
   "source": [
    "With an estimate of the centroid of every source in hand, we now need to determine the ellipse that best describes the galaxies in order to measure their flux. Fortunately, this can be done using the [`source_properties`](http://photutils.readthedocs.io/en/stable/api/photutils.segmentation.source_properties.html#photutils.segmentation.source_properties) function within [`photutils.morphology`](http://photutils.readthedocs.io/en/stable/morphology.html) package.\n",
    "\n",
    "Briefly, `source_properties` takes both the data array, and the segmentation image as inputs, and then calculates properties for every source. The list of properties is long (see the attributes list), and for now we only care about the semi-major and semi-minor axes as well as the orientation of the source, all of which are needed to measure the flux in an elliptical aperture [this is a lot easier than trying to fit concentric ellipses, no?].\n",
    "\n",
    "**Problem 3c**\n",
    "\n",
    "Using `source_properties` to determine $a$, $b$, and the orientation of each source."
   ]
  },
  {
   "cell_type": "code",
   "execution_count": null,
   "metadata": {
    "collapsed": true
   },
   "outputs": [],
   "source": [
    "cat = source_properties( # complete\n",
    "tbl = cat.to_table(columns=['id', 'semimajor_axis_sigma','semiminor_axis_sigma', 'orientation'])"
   ]
  },
  {
   "cell_type": "markdown",
   "metadata": {},
   "source": [
    "## Problem 4) Photometry\n",
    "\n",
    "We now have all the necessary information to measure the flux in elliptical apertures. The [`EllipticalAperture`](http://photutils.readthedocs.io/en/stable/api/photutils.EllipticalAperture.html#) function in `photutils` defines apertures on an image based on input centroids, $a$, $b$, and orientation values. \n",
    "\n",
    "**Problem 4a**\n",
    "\n",
    "Define apertures for the sources that are detected in the image.\n",
    "\n",
    "*Note* - the `semimajor_axis_sigma` reported by `source_properties()` is the \"The 1-sigma standard deviation along the semimajor axis of the 2D Gaussian function that has the same second-order central moments as the source\" [according to the docs](http://photutils.readthedocs.io/en/stable/api/photutils.segmentation.SourceProperties.html#photutils.segmentation.SourceProperties.semimajor_axis_sigma). Thus, be sure to multiple $a$ and $b$ by a factor of 3 in order to capture $\\sim$3$\\sigma$ of the source flux.\n",
    "\n",
    "*Note to the note* - this isn't well motivated, but for the sake of argument assume that this adjustment creates a reasonable aperture."
   ]
  },
  {
   "cell_type": "code",
   "execution_count": null,
   "metadata": {
    "collapsed": true
   },
   "outputs": [],
   "source": [
    "positions = # complete\n",
    "\n",
    "apertures = [EllipticalAperture( # complete\n",
    "             # complete\n",
    "             # complete\n",
    "             # complete"
   ]
  },
  {
   "cell_type": "markdown",
   "metadata": {},
   "source": [
    "**Problem 4b** \n",
    "\n",
    "Overplot your apertures on the sources that have been detected.\n",
    "\n",
    "*Hint* - each aperture object has a [`plot()`](http://photutils.readthedocs.io/en/stable/api/photutils.EllipticalAperture.html#photutils.EllipticalAperture.plot) attribute that can be used to show the aperture for each source."
   ]
  },
  {
   "cell_type": "code",
   "execution_count": null,
   "metadata": {},
   "outputs": [],
   "source": [
    "fig, ax1 = plt.subplots()\n",
    "\n",
    "ax1.imshow( # complete\n",
    "# complete\n",
    "# complete\n",
    "fig.tight_layout()"
   ]
  },
  {
   "cell_type": "markdown",
   "metadata": {},
   "source": [
    "With apertures now defined, we can *finally* measure the flux of each source. The [`aperture_photometry`](http://photutils.readthedocs.io/en/stable/api/photutils.aperture_photometry.html#photutils.aperture_photometry) function returns the flux (actually counts) in an image for the provided apertures. It takes the image, apertures, and bakground image as arguments.\n",
    "\n",
    "*Note* - the background has already been subtracted from these images so we currently do not have an estimate of the **full** background for these sources.\n",
    "\n",
    "We will create a background image that is approximately correct (we know this because we know the properties of the SDSS survey and detector). In this case what we are doing is not only incorrect, it's entirely made up and should not be repeated in your own work. Nevertheless, this (bad) approximation is necessary to produce uncertainty estimates.\n",
    "\n",
    "Execute the cell below to create an uncertainty image to use with the `aperture_photometry` function."
   ]
  },
  {
   "cell_type": "code",
   "execution_count": null,
   "metadata": {
    "collapsed": true
   },
   "outputs": [],
   "source": [
    "bkg = np.random.normal(100, 35, r_data.shape)\n",
    "uncertainty_img = calc_total_error(r_data, bkg - np.mean(bkg), 1)"
   ]
  },
  {
   "cell_type": "markdown",
   "metadata": {},
   "source": [
    "**Problem 4c**\n",
    "\n",
    "Measure the counts and uncertainty detected from each source within the apertures defined in 4a. \n",
    "\n",
    "*Hint* - you will need to loop over each aperture as `aperture_photometry` does not take multiple apertures of different shapes as a single argument. "
   ]
  },
  {
   "cell_type": "code",
   "execution_count": null,
   "metadata": {
    "collapsed": true
   },
   "outputs": [],
   "source": [
    "source_cnts = # complete\n",
    "source_cnts_unc = # complete\n",
    "for source_num, ap in enumerate(apertures):\n",
    "    phot = # complete\n",
    "    source_cnts[source_num] = # complete\n",
    "    source_cnts_unc[source_num] = # complete"
   ]
  },
  {
   "cell_type": "markdown",
   "metadata": {},
   "source": [
    "The images have been normalized to a zero point of 30. Thus, we can convert from counts to magnitudes via the following equation: \n",
    "\n",
    "$$m = 30 - 2.5 \\log (\\mathrm{counts}).$$\n",
    "\n",
    "Recall from Dora's talk that the uncertainty of the magnitude measurements can be calculated as: \n",
    "\n",
    "$$\\frac{2.5}{\\ln(10)} \\frac{\\sigma_\\mathrm{counts}}{\\mathrm{counts}}.$$\n",
    "\n",
    "**Problem 4d**\n",
    "\n",
    "Calculate the magnitude of each source in the image."
   ]
  },
  {
   "cell_type": "code",
   "execution_count": null,
   "metadata": {},
   "outputs": [],
   "source": [
    "source_mag = # complete\n",
    "source_mag_unc = # complete\n",
    "\n",
    "for source_num, (mag, mag_unc) in enumerate(zip(source_mag, source_mag_unc)):\n",
    "    print(\"Source {:d} has m = {:.3f} +/- {:.3f} mag\".format( # complete"
   ]
  },
  {
   "cell_type": "markdown",
   "metadata": {},
   "source": [
    "That's it! You've measured the magnitude for every source in the image.\n",
    "\n",
    "As previously noted, the images provided for this dataset are centered are galaxies within a cluster, and ultimately, these galaxies are all that we care about. For this first image, that means we care about the galaxy centered at $(x,y) \\approx (118, 118)$. \n",
    "\n",
    "**Problem 4e**\n",
    "\n",
    "What is the magnitude of the galaxy we care about for this image? [We will need this moving forward]"
   ]
  },
  {
   "cell_type": "code",
   "execution_count": null,
   "metadata": {},
   "outputs": [],
   "source": [
    "# complete"
   ]
  },
  {
   "cell_type": "markdown",
   "metadata": {},
   "source": [
    "## Problem 5) Multiwavelength Photometry\n",
    "\n",
    "Ultimately we want to measure colors for these galaxies. We now know the $r$-band magnitude for galaxy 85698, we need to measure the $g$ and $i$ band magnitudes as well. \n",
    "\n",
    "**Problem 5a** Using the various pieces described above, write a function to measure the magnitude of the galaxy at the center of the image. You should create a new background image for every field. \n",
    "\n",
    "*Hint* - creating an actual function is essential as we will eventually run this on every image. \n",
    "\n",
    "*Hint 2* - `source_properties` directly measures source centroids, use this it will be faster."
   ]
  },
  {
   "cell_type": "code",
   "execution_count": null,
   "metadata": {
    "collapsed": true
   },
   "outputs": [],
   "source": [
    "def cluster_galaxy_photometry(data):\n",
    "    '''\n",
    "    Determine the magnitude of the galaxy at the center of the image\n",
    "    \n",
    "    Parameters\n",
    "    ----------\n",
    "    data : array-like\n",
    "        Background subtracted 2D image centered on the galaxy\n",
    "        of interest\n",
    "    \n",
    "    Returns\n",
    "    -------\n",
    "    mag : float\n",
    "        Magnitude of the galaxy\n",
    "    \n",
    "    mag_unc : float\n",
    "        Uncertainty of the magnitude measurement\n",
    "    '''\n",
    "\n",
    "    # complete\n",
    "    # complete\n",
    "    # complete\n",
    "    # complete\n",
    "    # complete\n",
    "    # complete\n",
    "    # complete\n",
    "    # complete\n",
    "    # complete\n",
    "    # complete\n",
    "    # complete\n",
    "    # complete\n",
    "    # complete\n",
    "    \n",
    "    \n",
    "    return mag, mag_unc"
   ]
  },
  {
   "cell_type": "markdown",
   "metadata": {},
   "source": [
    "**Problem 5b**\n",
    "\n",
    "Confirm that the function calculates the same $r$-band mag that was calculated in **Problem 4**."
   ]
  },
  {
   "cell_type": "code",
   "execution_count": null,
   "metadata": {},
   "outputs": [],
   "source": [
    "# complete\n",
    "\n",
    "print(\"\"\"Previously, we found m = {:.3f} mag. \n",
    "This new function finds m = {:.3f} mag.\"\"\".format( # complete"
   ]
  },
  {
   "cell_type": "markdown",
   "metadata": {},
   "source": [
    "**Problem 5c** \n",
    "\n",
    "Use this new function to calculate the galaxy magnitude in the $g$ and the $i$ band, and determine the $g - r$ and $r - i$ colors of the galaxy."
   ]
  },
  {
   "cell_type": "code",
   "execution_count": null,
   "metadata": {},
   "outputs": [],
   "source": [
    "g_data = fits.getdata( # complete\n",
    "i_data = fits.getdata( # complete\n",
    "\n",
    "# complete\n",
    "# complete\n",
    "# complete\n",
    "print(\"\"\"The g-r color = {:.3f} +/- {:.3f} mag.\n",
    "The r-i color = {:.3f} +/- {:.3f} mag\"\"\".format(g_mag - r_mag, np.hypot(g_mag_unc, r_mag_unc), \n",
    "                                                r_mag - i_mag, np.hypot(r_mag_unc, i_mag_unc)))"
   ]
  },
  {
   "cell_type": "markdown",
   "metadata": {},
   "source": [
    "But wait!\n",
    "\n",
    "**Problem 5d**\n",
    "\n",
    "Was this calculation \"fair\"?\n",
    "\n",
    "*Hint* - this is a relatively red galaxy."
   ]
  },
  {
   "cell_type": "markdown",
   "metadata": {},
   "source": [
    "**Solution 5d**\n",
    "\n",
    "This calculation was not \"fair\" because identical apertures were not used in all 3 filters. "
   ]
  },
  {
   "cell_type": "markdown",
   "metadata": {},
   "source": [
    "**Problem 5e** \n",
    "\n",
    "[Assuming your calculation was not fair] Calculate the $g - r$ and $r - i$ colors of the galaxy in a consistent fashion.\n",
    "\n",
    "*Hint* - split your initial function into two functions, one to determine an aperture and another to measure photometry. Use the $r$-band image (where the signal-to-noise ratio of the data is highest) to define the aperture for all 3 images."
   ]
  },
  {
   "cell_type": "code",
   "execution_count": null,
   "metadata": {
    "collapsed": true
   },
   "outputs": [],
   "source": [
    "def cluster_galaxy_aperture(data):\n",
    "# complete\n",
    "# complete\n",
    "# complete\n",
    "# complete\n",
    "# complete\n",
    "# complete\n",
    "# complete\n",
    "# complete\n",
    "# complete\n",
    "# complete\n",
    "# complete\n",
    "    return aperture\n",
    "\n",
    "def cluster_galaxy_phot(data, aperture):\n",
    "# complete\n",
    "# complete\n",
    "# complete\n",
    "# complete\n",
    "# complete\n",
    "    return mag, mag_unc"
   ]
  },
  {
   "cell_type": "code",
   "execution_count": null,
   "metadata": {},
   "outputs": [],
   "source": [
    "r_ap = # complete\n",
    "\n",
    "# complete\n",
    "# complete\n",
    "# complete\n",
    "\n",
    "print(\"\"\"The g-r color = {:.3f} +/- {:.3f} mag.\n",
    "The r-i color = {:.3f} +/- {:.3f} mag\"\"\".format(g_mag - r_mag, np.hypot(g_mag_unc, r_mag_unc), \n",
    "                                                r_mag - i_mag, np.hypot(r_mag_unc, i_mag_unc)))"
   ]
  },
  {
   "cell_type": "markdown",
   "metadata": {},
   "source": [
    "## Challenge Problem) Colors as a Function of Radius\n",
    "\n",
    "Each of the provided FITS images corresponds to a single galaxy in the galaxy cluster. Measure the colors for each galaxy, and plot these colors as a function of cluster radius.\n",
    "\n",
    "*Hint* - the file `galsAngSep.txt` has the galaxy names and separation from the center of the cluster."
   ]
  },
  {
   "cell_type": "code",
   "execution_count": null,
   "metadata": {
    "collapsed": true
   },
   "outputs": [],
   "source": []
  }
 ],
 "metadata": {
  "celltoolbar": "Slideshow",
  "kernelspec": {
   "display_name": "Python 3",
   "language": "python",
   "name": "python3"
  },
  "language_info": {
   "codemirror_mode": {
    "name": "ipython",
    "version": 3
   },
   "file_extension": ".py",
   "mimetype": "text/x-python",
   "name": "python",
   "nbconvert_exporter": "python",
   "pygments_lexer": "ipython3",
   "version": "3.6.2"
  },
  "livereveal": {
   "height": 768,
   "scroll": true,
   "start_slideshow_at": "selected",
   "theme": "solarized",
   "width": 1024
  }
 },
 "nbformat": 4,
 "nbformat_minor": 2
}
