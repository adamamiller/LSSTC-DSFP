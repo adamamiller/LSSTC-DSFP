{
 "cells": [
  {
   "cell_type": "markdown",
   "metadata": {
    "slideshow": {
     "slide_type": "slide"
    }
   },
   "source": [
    "<h1 align=\"center\"> Photons != Science, <br>and the Challenges of Turning the Former into the Later</h1>\n",
    "\n",
    "<br>\n",
    "\n",
    "<div align=\"center\">\n",
    "<font size=\"+10\"> Adam A Miller </font>\n",
    "<br>\n",
    "(CIERA/Northwestern/Adler)\n",
    "<br>\n",
    "<br>\n",
    "LSSTC DSFP Session 5, 22 Jan 2018</div>"
   ]
  },
  {
   "cell_type": "markdown",
   "metadata": {
    "slideshow": {
     "slide_type": "slide"
    }
   },
   "source": [
    "When most people imagine LSST, the envision this: \n",
    "\n",
    "<img src=\"images/2015-SL_LSST_LSSTIllus.jpg\" align=\"middle\">\n",
    "\n",
    "<!-- <P ALIGN=RIGHT>(credit: Kavli foundation)</P> -->\n",
    "\n",
    "<div align=\"right\"> <font size=\"-3\">(credit: Kavli foundation) </font></div>"
   ]
  },
  {
   "cell_type": "markdown",
   "metadata": {
    "slideshow": {
     "slide_type": "slide"
    }
   },
   "source": [
    "However, for most people LSST will really look like this: \n",
    "\n",
    "<img src=\"images/ps1_casjobs.png\" align=\"middle\">\n",
    "\n",
    "<div align=\"right\"> <font size=\"-3\">(credit: PS1 casjobs) </font></div>"
   ]
  },
  {
   "cell_type": "markdown",
   "metadata": {
    "slideshow": {
     "slide_type": "slide"
    }
   },
   "source": [
    "A straw person might argue:\n"
   ]
  }
 ],
 "metadata": {
  "celltoolbar": "Slideshow",
  "kernelspec": {
   "display_name": "Python 3",
   "language": "python",
   "name": "python3"
  },
  "language_info": {
   "codemirror_mode": {
    "name": "ipython",
    "version": 3
   },
   "file_extension": ".py",
   "mimetype": "text/x-python",
   "name": "python",
   "nbconvert_exporter": "python",
   "pygments_lexer": "ipython3",
   "version": "3.6.2"
  },
  "livereveal": {
   "height": 768,
   "scroll": true,
   "start_slideshow_at": "selected",
   "theme": "solarized",
   "width": 1024
  }
 },
 "nbformat": 4,
 "nbformat_minor": 2
}
