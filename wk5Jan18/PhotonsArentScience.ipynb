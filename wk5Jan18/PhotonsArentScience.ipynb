{
 "cells": [
  {
   "cell_type": "markdown",
   "metadata": {
    "slideshow": {
     "slide_type": "slide"
    }
   },
   "source": [
    "<h1 align=\"center\"> Photons != Science, <br>and the Challenges of Turning the Former into the Later</h1>\n",
    "\n",
    "<br>\n",
    "\n",
    "<div align=\"center\">\n",
    "<font size=\"+10\"> Adam A Miller </font>\n",
    "<br>\n",
    "(CIERA/Northwestern/Adler)\n",
    "<br>\n",
    "<br>\n",
    "LSSTC DSFP Session 5, 22 Jan 2018</div>"
   ]
  },
  {
   "cell_type": "markdown",
   "metadata": {
    "slideshow": {
     "slide_type": "slide"
    }
   },
   "source": [
    "## Introduction\n",
    "\n",
    "<br><br><br><br><br>\n",
    "\n",
    "\n",
    "\n"
   ]
  },
  {
   "cell_type": "markdown",
   "metadata": {
    "slideshow": {
     "slide_type": "slide"
    }
   },
   "source": [
    "When most people imagine LSST, they envision this: \n",
    "\n",
    "<img style=\"display: block; margin-left: auto; margin-right: auto\" src=\"images/2015-SL_LSST_LSSTIllus.jpg\" align=\"middle\">\n",
    "\n",
    "<div align=\"right\"> <font size=\"-3\">(credit: Kavli foundation) </font></div>"
   ]
  },
  {
   "cell_type": "markdown",
   "metadata": {
    "slideshow": {
     "slide_type": "slide"
    }
   },
   "source": [
    "However, for most people LSST will really look like this: \n",
    "\n",
    "<img style=\"display: block; margin-left: auto; margin-right: auto\" src=\"images/ps1_casjobs.png\">\n",
    "\n",
    "<div align=\"right\"> <font size=\"-3\">(credit: PS1 casjobs) </font></div>"
   ]
  },
  {
   "cell_type": "markdown",
   "metadata": {
    "slideshow": {
     "slide_type": "slide"
    }
   },
   "source": [
    "Given where our field is headed, a straw person might argue that only 2 skills are necessary for success in the LSST era:\n",
    "\n",
    "  - Programming skills (Python, SQL, etc) \n",
    "  - Statistical knowledge (machine learning, Bayes, etc)"
   ]
  },
  {
   "cell_type": "markdown",
   "metadata": {
    "slideshow": {
     "slide_type": "subslide"
    }
   },
   "source": [
    "This strawperson may, in fact, not exist in nature, but if you looked hard enough I bet you could find someone that would argue the validity of this statement. "
   ]
  },
  {
   "cell_type": "markdown",
   "metadata": {
    "slideshow": {
     "slide_type": "slide"
    }
   },
   "source": [
    "Indeed, these are precisely the skills that we are hoping to teach you at the DSFP. \n",
    "\n",
    "Once you master them, you will all be fully practicioning data scientists."
   ]
  },
  {
   "cell_type": "markdown",
   "metadata": {
    "slideshow": {
     "slide_type": "slide"
    }
   },
   "source": [
    "But! This conclusion is missing a key ingredient: \n",
    "\n",
    "<img style=\"display: block; margin-left: auto; margin-right: auto\" src=\"images/Data_Science_VD.png\">\n",
    "\n",
    "<div align=\"right\"> <font size=\"-3\">(credit: Drew Conway) </font></div>"
   ]
  },
  {
   "cell_type": "markdown",
   "metadata": {
    "slideshow": {
     "slide_type": "slide"
    }
   },
   "source": [
    "**Domain Knowledge is essential for the data science practitioner.** \n",
    "\n",
    "To \"prove\" this is the case, let's consider some conclusions that would be derived from the LSST database without a working knowledge of astronomy (and importantly the LSST detectors):"
   ]
  },
  {
   "cell_type": "markdown",
   "metadata": {
    "slideshow": {
     "slide_type": "slide"
    }
   },
   "source": [
    "### Incorrect Conclusion #1\n",
    "\n",
    "There are no galaxies fainter than $r \\approx 27.5 \\, \\mathrm{mag}$.\n",
    "\n",
    "[Perhaps this signals the edge of the universe...]"
   ]
  },
  {
   "cell_type": "markdown",
   "metadata": {
    "slideshow": {
     "slide_type": "slide"
    }
   },
   "source": [
    "This apparent conclusion is due to the inverse-square law for flux \n",
    "\n",
    "$$f \\propto r^{-2},$$\n",
    "\n",
    "combined with the sensitivity limit of the LSST detector. Fainter galaxies do exist, but they are either too distant or intrinsically dim to be detected by LSST."
   ]
  },
  {
   "cell_type": "markdown",
   "metadata": {
    "slideshow": {
     "slide_type": "slide"
    }
   },
   "source": [
    "### Incorrect Conclusion #2\n",
    "\n",
    "Two stars cannot be closer than $\\sim$0.35 arcsec in the sky.\n",
    "\n",
    "[Perhaps there is some repulsive force between stars that keeps them separated...]"
   ]
  },
  {
   "cell_type": "markdown",
   "metadata": {
    "slideshow": {
     "slide_type": "slide"
    }
   },
   "source": [
    "This apparent conclusion reflects the typical seeing at Cerro Pachon ($\\sim$0.7 arcsec), meaning many close stars will not be resolved."
   ]
  },
  {
   "cell_type": "markdown",
   "metadata": {
    "slideshow": {
     "slide_type": "slide"
    }
   },
   "source": [
    "### Incorrect Conclusion #3\n",
    "\n",
    "The Universe emits more light in the $r$-band than the $y$-band ($\\sum r_\\mathrm{flux} > \\sum y_\\mathrm{flux}$).\n",
    "\n",
    "[Red is the color of the Chicago Bulls, who had the greatest basketball player ever, Michael Jordan, so perhaps the Universe is trying to confirm something we already know...] "
   ]
  },
  {
   "cell_type": "markdown",
   "metadata": {
    "slideshow": {
     "slide_type": "slide"
    }
   },
   "source": [
    "This apparent conclusion is a bit more subtle than the previous two, and there are multiple factors contributing to this incorrect assertion.\\* LSST will be far more sensitive in the $r$-band than the $y$-band (lower sky backgrounds and higher detector efficiency are the primary reasons). Thus, many red sources ($m_r - m_y > 0$) will only be detected in the $r$-band. \n",
    "\n",
    "\n",
    "\\* - Note - I am pretty sure this is incorrect, but feel free to convince me otherwise if I am wrong."
   ]
  },
  {
   "cell_type": "markdown",
   "metadata": {
    "slideshow": {
     "slide_type": "slide"
    }
   },
   "source": [
    "### Upshot\n",
    "\n",
    "Domain knowledge (of both astrophysics *and* the full telescope system) will be an essential ingredient for success once LSST comes online. LSST will push the boundaries for the 3 Vs (volume, variety, and velocity) of data science for astronomy. Success in this era will require substantial working knowledge of both \"hacking\" and \"stats/mathematical analysis\", but progress will be impeded without a corresponding expertise in how the data were acquired and why the Universe produced those data in the first place."
   ]
  },
  {
   "cell_type": "markdown",
   "metadata": {
    "slideshow": {
     "slide_type": "slide"
    }
   },
   "source": [
    "## Telescopes\n",
    "\n",
    "<br><br><br><br><br>\n",
    "\n",
    "\n",
    "\n",
    "\n"
   ]
  },
  {
   "cell_type": "markdown",
   "metadata": {
    "slideshow": {
     "slide_type": "slide"
    }
   },
   "source": [
    "Here's a true story..."
   ]
  },
  {
   "cell_type": "markdown",
   "metadata": {
    "slideshow": {
     "slide_type": "slide"
    }
   },
   "source": [
    "The Imaginery Telescope has a diameter of 1 AU and it detects *all* wavelengths of the EM spectrum with 100% efficiency. It is revolutionary in it's design, and, as you might imagine, it will serve as a complete game changer for the field of astronomy."
   ]
  },
  {
   "cell_type": "markdown",
   "metadata": {
    "slideshow": {
     "slide_type": "slide"
    }
   },
   "source": [
    "Fundamentally, the thing we care about is measuring fluxes (and positions - those these two are related).\n",
    "\n",
    "In principle, measuring a flux is straight forward: count the number of photons per unit energy per unit time and you're done. \n",
    "\n",
    "If you want to be more sensitive to faint fluxes increase the size of your telescope (this is why the Imaginery Telescope is so powerful...)"
   ]
  },
  {
   "cell_type": "markdown",
   "metadata": {
    "slideshow": {
     "slide_type": "slide"
    }
   },
   "source": [
    "In practice, things are not this simple: \n",
    "  -  telescope's optical elements are not 100% efficient <br>\n",
    "      (we *can* measure inefficiencies and correct them $\\rightarrow$ complicates the uncertainties beyond Poisson)\n",
    "  -  our detectors introduce noise to our measurements <br>\n",
    "  -  detectors eventually stop counting photons <br>\n",
    "      (saturation)"
   ]
  },
  {
   "cell_type": "markdown",
   "metadata": {
    "slideshow": {
     "slide_type": "slide"
    }
   },
   "source": [
    "In practice, things are not this simple (con't): \n",
    "  -  measuring the absolute position of a photon is impossible <br>\n",
    "      (Heisenberg)\n",
    "  -  further complicated by pixelated detectors  <br>\n",
    "  -  <br>\n",
    "      ()\n",
    " "
   ]
  },
  {
   "cell_type": "markdown",
   "metadata": {
    "slideshow": {
     "slide_type": "slide"
    }
   },
   "source": [
    "In summary, we have taken something straightforward — counting — and, out of necessity, have made it far more complicated. We control all the elements of the system, however, and a variety of different measurements can correct for these issues (though this results in more challenging uncertainty estimates)."
   ]
  },
  {
   "cell_type": "markdown",
   "metadata": {
    "slideshow": {
     "slide_type": "slide"
    }
   },
   "source": [
    "There is an important element that we cannot control:\n",
    "\n",
    "<img style=\"display: block; margin-left: auto; margin-right: auto\" src=\"images/clouds.png\" width=\"600\">\n"
   ]
  },
  {
   "cell_type": "markdown",
   "metadata": {
    "slideshow": {
     "slide_type": "slide"
    }
   },
   "source": [
    "Calibration is a *nightmare*.\n",
    "\n"
   ]
  }
 ],
 "metadata": {
  "celltoolbar": "Slideshow",
  "kernelspec": {
   "display_name": "Python 3",
   "language": "python",
   "name": "python3"
  },
  "language_info": {
   "codemirror_mode": {
    "name": "ipython",
    "version": 3
   },
   "file_extension": ".py",
   "mimetype": "text/x-python",
   "name": "python",
   "nbconvert_exporter": "python",
   "pygments_lexer": "ipython3",
   "version": "3.6.2"
  },
  "livereveal": {
   "height": 768,
   "scroll": true,
   "start_slideshow_at": "selected",
   "theme": "solarized",
   "width": 1024
  }
 },
 "nbformat": 4,
 "nbformat_minor": 2
}
