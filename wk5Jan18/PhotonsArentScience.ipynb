{
 "cells": [
  {
   "cell_type": "markdown",
   "metadata": {
    "slideshow": {
     "slide_type": "slide"
    }
   },
   "source": [
    "<h1 align=\"center\"> Photons != Science, <br>and the Challenges of Turning the Former into the Later</h1>\n",
    "\n",
    "<br>\n",
    "\n",
    "<div align=\"center\">\n",
    "<font size=\"+10\"> Adam A Miller </font>\n",
    "<br>\n",
    "(CIERA/Northwestern/Adler)\n",
    "<br>\n",
    "<br>\n",
    "LSSTC DSFP Session 5, 22 Jan 2018</div>"
   ]
  },
  {
   "cell_type": "markdown",
   "metadata": {
    "slideshow": {
     "slide_type": "slide"
    }
   },
   "source": [
    "## Introduction"
   ]
  },
  {
   "cell_type": "markdown",
   "metadata": {
    "slideshow": {
     "slide_type": "slide"
    }
   },
   "source": [
    "When most people imagine LSST, they envision this: \n",
    "\n",
    "<img style=\"display: block; margin-left: auto; margin-right: auto\" src=\"images/2015-SL_LSST_LSSTIllus.jpg\" align=\"middle\">\n",
    "\n",
    "<div align=\"right\"> <font size=\"-3\">(credit: Kavli foundation) </font></div>"
   ]
  },
  {
   "cell_type": "markdown",
   "metadata": {
    "slideshow": {
     "slide_type": "slide"
    }
   },
   "source": [
    "However, for most people LSST will really look like this: \n",
    "\n",
    "<img style=\"display: block; margin-left: auto; margin-right: auto\" src=\"images/ps1_casjobs.png\">\n",
    "\n",
    "<div align=\"right\"> <font size=\"-3\">(credit: PS1 casjobs) </font></div>"
   ]
  },
  {
   "cell_type": "markdown",
   "metadata": {
    "slideshow": {
     "slide_type": "slide"
    }
   },
   "source": [
    "Given where our field is headed, a straw person might argue that only 2 skills are necessary for success in the LSST era:\n",
    "\n",
    "  - Programming skills (Python, SQL, etc) \n",
    "  - Statistical knowledge (machine learning, Bayes, etc)"
   ]
  },
  {
   "cell_type": "markdown",
   "metadata": {
    "slideshow": {
     "slide_type": "subslide"
    }
   },
   "source": [
    "This strawperson may, in fact, not exist in nature, but if you looked hard enough I bet you could find someone that would argue the validity of this statement. "
   ]
  },
  {
   "cell_type": "markdown",
   "metadata": {
    "slideshow": {
     "slide_type": "slide"
    }
   },
   "source": [
    "Indeed, these are precisely the skills that we are hoping to teach you at the DSFP. \n",
    "\n",
    "Once you master them, you will all be fully practicioning data scientists."
   ]
  },
  {
   "cell_type": "markdown",
   "metadata": {
    "slideshow": {
     "slide_type": "slide"
    }
   },
   "source": [
    "But! This conclusion is missing a key ingredient: \n",
    "\n",
    "<img style=\"display: block; margin-left: auto; margin-right: auto\" src=\"images/Data_Science_VD.png\">\n",
    "\n",
    "<div align=\"right\"> <font size=\"-3\">(credit: Drew Conway) </font></div>"
   ]
  },
  {
   "cell_type": "markdown",
   "metadata": {
    "slideshow": {
     "slide_type": "slide"
    }
   },
   "source": [
    "**Domain Knowledge is essential for the data science practitioner.** \n",
    "\n",
    "To \"prove\" this is the case, let's consider some conclusions that would be derived from the LSST database without a working knowledge of astronomy (and importantly the LSST detectors):"
   ]
  },
  {
   "cell_type": "markdown",
   "metadata": {
    "slideshow": {
     "slide_type": "slide"
    }
   },
   "source": [
    "### Incorrect Conclusion #1\n",
    "\n",
    "The universe ends at $r \\approx 27.5 \\, \\mathrm{mag}$."
   ]
  },
  {
   "cell_type": "markdown",
   "metadata": {
    "slideshow": {
     "slide_type": "slide"
    }
   },
   "source": [
    "This apparent conclusion is due to the inverse-square law for flux \n",
    "\n",
    "$$f \\propto r^{-2},$$\n",
    "\n",
    "combined with the sensitivity limit of the LSST detector. Fainter galaxies do exist, but they are either too distant or intrinsically dim to be detected by LSST."
   ]
  },
  {
   "cell_type": "markdown",
   "metadata": {
    "slideshow": {
     "slide_type": "slide"
    }
   },
   "source": [
    "### Incorrect Conclusion #2\n",
    "\n",
    "The are very few blue (meaning $u_\\mathrm{flux} > r_\\mathrm{flux}$) galaxies in the universe. "
   ]
  },
  {
   "cell_type": "code",
   "execution_count": null,
   "metadata": {
    "collapsed": true,
    "slideshow": {
     "slide_type": "slide"
    }
   },
   "outputs": [],
   "source": []
  }
 ],
 "metadata": {
  "celltoolbar": "Slideshow",
  "kernelspec": {
   "display_name": "Python 3",
   "language": "python",
   "name": "python3"
  },
  "language_info": {
   "codemirror_mode": {
    "name": "ipython",
    "version": 3
   },
   "file_extension": ".py",
   "mimetype": "text/x-python",
   "name": "python",
   "nbconvert_exporter": "python",
   "pygments_lexer": "ipython3",
   "version": "3.6.2"
  },
  "livereveal": {
   "height": 768,
   "scroll": true,
   "start_slideshow_at": "selected",
   "theme": "solarized",
   "width": 1024
  }
 },
 "nbformat": 4,
 "nbformat_minor": 2
}
