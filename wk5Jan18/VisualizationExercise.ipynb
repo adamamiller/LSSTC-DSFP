{
 "cells": [
  {
   "cell_type": "markdown",
   "metadata": {
    "slideshow": {
     "slide_type": "slide"
    }
   },
   "source": [
    "# Visualizing Optical Images\n",
    "\n",
    "For the following $\\sim$90 min, you are being tasked (in groups) to visualize optical images. The goal of this exercise is to both manage your work as a group, and to make conscious visualization choices to generate a nice-looking image."
   ]
  },
  {
   "cell_type": "markdown",
   "metadata": {
    "slideshow": {
     "slide_type": "slide"
    }
   },
   "source": [
    "## Step 1: Managing time and defining work flow\n",
    "Here you will decide what tasks each person in the group should work on. Your VERY FIRST step is to decide how much time should be spent on defining tasks and assignments. Beyond that, the specific tasks and workflow are up to you!"
   ]
  },
  {
   "cell_type": "markdown",
   "metadata": {
    "slideshow": {
     "slide_type": "slide"
    }
   },
   "source": [
    "## Step 2: Image visualization\n",
    "Load the data for your image and, implementing the workflow from step 1, work as a team to generate a visualization to share at the end of the exercise [upload to Slack].\n",
    "\n",
    "*Hint* - you can download images from the [PS1 image server](http://ps1images.stsci.edu/cgi-bin/ps1cutouts)\n",
    "\n"
   ]
  },
  {
   "cell_type": "markdown",
   "metadata": {
    "slideshow": {
     "slide_type": "slide"
    }
   },
   "source": [
    "### An important caveat\n",
    "\n",
    "Visualization examples from S5 were made by professionals. \n",
    "\n",
    "At the end of this exercise, you should be able to articulate what visualization decisions you made and why— as usual, we are primarily concerned with process, so don’t worry if your final product isn’t perfect (if you want, you could always work on it more on your own, or during tomorrow’s hack time!)"
   ]
  },
  {
   "cell_type": "markdown",
   "metadata": {
    "slideshow": {
     "slide_type": "slide"
    }
   },
   "source": [
    "|Group 1|Group 2|Group 3|Group 4|Group 5|Group 6|Group 7|Group 8|\n",
    "|:-------|:-------|:-------|:-------|:-------|:-------|:-------|:-------|\n",
    "|       |       |       |       |       |       |       |       |\n",
    "|       |       |       |       |       |       |       |       |\n",
    "|       |       |       |       |       |       |       |       |\n",
    "|       |       |       |       |       |       |       |       |\n",
    "|   M57    |   NGC 2419    |   M97 (owl nebula)    |    SDSS J1038+4849   |   Arp 221    |    Horsehead   |   M87    |    NGC 1275   |\n",
    "|RA: 18h 53m 35.079s  |RA: 07h 38m 08.51s    |RA: 11h 14m 47.734s |RA: 10h 38m 43.58s |RA: 14h 03m 25s |RA: 05h 40m 59.0 |RA: 12h 30m 49.42338s |RA: 03h 19m 48.1s |\n",
    "|Dec: +33° 01′ 45.03″ |Dec: +38° 52′ 54.9″     |Dec: +55° 01′ 08.50″ |Dec: +48° 49' 17.7\" |Dec: −06° 03′ 00″ |Dec: −02° 27′ 30.0 |Dec: +12° 23′ 28.0439″ |Dec: +41° 30′ 42″ |"
   ]
  }
 ],
 "metadata": {
  "celltoolbar": "Slideshow",
  "kernelspec": {
   "display_name": "Python 3",
   "language": "python",
   "name": "python3"
  },
  "language_info": {
   "codemirror_mode": {
    "name": "ipython",
    "version": 3
   },
   "file_extension": ".py",
   "mimetype": "text/x-python",
   "name": "python",
   "nbconvert_exporter": "python",
   "pygments_lexer": "ipython3",
   "version": "3.6.2"
  },
  "livereveal": {
   "height": 768,
   "scroll": true,
   "start_slideshow_at": "selected",
   "theme": "solarized",
   "width": 1024
  }
 },
 "nbformat": 4,
 "nbformat_minor": 2
}
