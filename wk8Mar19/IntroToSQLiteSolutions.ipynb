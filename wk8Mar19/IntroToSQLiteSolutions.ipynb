{
 "cells": [
  {
   "cell_type": "markdown",
   "metadata": {
    "slideshow": {
     "slide_type": "slide"
    }
   },
   "source": [
    "# Introduction to SQLite &\n",
    "Selecting Sources from the Sloan Digital Sky Survey\n",
    "========\n",
    "\n",
    "#### Version 0.1\n",
    "\n",
    "***\n",
    "By AA Miller 2019 Mar 25\n",
    "\n"
   ]
  },
  {
   "cell_type": "markdown",
   "metadata": {
    "slideshow": {
     "slide_type": "subslide"
    }
   },
   "source": [
    "As noted earlier, there will be full lectures on databases over the remainder of this week.\n",
    "\n",
    "This notebook provides a quick introduction to [`SQLite`](https://sqlite.org/index.html) a lightweight implementation of a Structured Query Language (SQL) database. One of the incredibly nice things about `SQLite` is the low overhead needed to set up a database (as you will see in a minute). We will take advantage of this low overhead to build a database later in the week."
   ]
  },
  {
   "cell_type": "code",
   "execution_count": 2,
   "metadata": {
    "slideshow": {
     "slide_type": "skip"
    }
   },
   "outputs": [
    {
     "name": "stderr",
     "output_type": "stream",
     "text": [
      "/Users/adamamiller/miniconda3/envs/py35/lib/python3.5/site-packages/astroquery/sdss/__init__.py:29: UserWarning: Experimental: SDSS has not yet been refactored to have its API match the rest of astroquery (but it's nearly there).\n",
      "  warnings.warn(\"Experimental: SDSS has not yet been refactored to have its API \"\n"
     ]
    }
   ],
   "source": [
    "import matplotlib.pyplot as plt\n",
    "%matplotlib notebook"
   ]
  },
  {
   "cell_type": "markdown",
   "metadata": {
    "slideshow": {
     "slide_type": "slide"
    }
   },
   "source": [
    "At the most basic level - databases *store your bytes*, and later *return those bytes* (or a subset of them) when queried. \n",
    "\n",
    "They provide a highly efficient means for filtering your bytes (there are many different strategies that the user can employ). "
   ]
  },
  {
   "cell_type": "markdown",
   "metadata": {
    "slideshow": {
     "slide_type": "subslide"
    }
   },
   "source": [
    "The backend for most databases is the **Structured Query Language** or SQL, which is a standard declarative language. \n",
    "\n",
    "There are many different libraries that implement SQL: MySQL, PostgreSQL, Greenplum, Microsoft SQL server, IBM DB2, Oracle Database, etc. "
   ]
  },
  {
   "cell_type": "markdown",
   "metadata": {
    "slideshow": {
     "slide_type": "slide"
    }
   },
   "source": [
    "## Problem 1) Basic SQL Operations with SQLite\n",
    "\n",
    "The most basic implementation is [`SQLite`](https://www.sqlite.org) a self-contained, SQL database engine. We will discuss `SQLite` further later in the week, but in brief - it is a nice stand alone package that works really well for small problems (such as the example that we are about to encounter). "
   ]
  },
  {
   "cell_type": "code",
   "execution_count": 3,
   "metadata": {
    "collapsed": true,
    "slideshow": {
     "slide_type": "subslide"
    }
   },
   "outputs": [],
   "source": [
    "import sqlite3"
   ]
  },
  {
   "cell_type": "markdown",
   "metadata": {
    "slideshow": {
     "slide_type": "subslide"
    }
   },
   "source": [
    "Without diving too much into the weeds (we'll investigate this further later this week), we need to establish a [`connection`](https://docs.python.org/2/library/sqlite3.html#sqlite3.Connection) to the database. From the `connection` we create a [`cursor`](https://docs.python.org/2/library/sqlite3.html#sqlite3.Connection), which allows us to actually interact with the database. "
   ]
  },
  {
   "cell_type": "code",
   "execution_count": 4,
   "metadata": {
    "collapsed": true,
    "slideshow": {
     "slide_type": "subslide"
    }
   },
   "outputs": [],
   "source": [
    "conn = sqlite3.connect(\"intro.db\")\n",
    "cur = conn.cursor()"
   ]
  },
  {
   "cell_type": "markdown",
   "metadata": {
    "slideshow": {
     "slide_type": "subslide"
    }
   },
   "source": [
    "And just like that - we have now created a new database `intro.db`, with which we can \"store bytes\" or later \"retrieve bytes\" once we have added some data to the database. \n",
    "\n",
    "*Aside* - note that unlike many SQL libraries, `SQLite` does not require a server and creates an actual database file on your hard drive. This improves portability, but also creates some downsides as well."
   ]
  },
  {
   "cell_type": "markdown",
   "metadata": {
    "slideshow": {
     "slide_type": "slide"
    }
   },
   "source": [
    "Now we need to create a table and insert some data. We will interact with the database via the [`execute()`](https://docs.python.org/2/library/sqlite3.html#sqlite3.Cursor.execute) method for the `cursor` object.\n",
    "\n",
    "Recall that creating a table requires a specification of the table name, the columns in the table, and the data type for each column. Here's an example where I create a table to store info on my pets:\n",
    "\n",
    "    cur.execute(\"\"\"create table PetInfo(\n",
    "                                        Name text, \n",
    "                                        Species text,\n",
    "                                        Age tinyint,\n",
    "                                        FavoriteFood text\n",
    "                                        )\"\"\")"
   ]
  },
  {
   "cell_type": "markdown",
   "metadata": {
    "slideshow": {
     "slide_type": "subslide"
    }
   },
   "source": [
    "**Problem 1a**\n",
    "\n",
    "Create a new table in the database called `DSFPstudents` with columns `Name`, `Institution`, and `Year`, where `Year` is the year in graduate school."
   ]
  },
  {
   "cell_type": "code",
   "execution_count": null,
   "metadata": {
    "collapsed": true,
    "slideshow": {
     "slide_type": "subslide"
    }
   },
   "outputs": [],
   "source": [
    "cur.execute( # complete"
   ]
  },
  {
   "cell_type": "code",
   "execution_count": 10,
   "metadata": {
    "slideshow": {
     "slide_type": "subslide"
    }
   },
   "outputs": [
    {
     "data": {
      "text/plain": [
       "<sqlite3.Cursor at 0x10f537ea0>"
      ]
     },
     "execution_count": 10,
     "metadata": {},
     "output_type": "execute_result"
    }
   ],
   "source": [
    "cur.execute(\"\"\"create table DSFPstudents(\n",
    "                                    Name text, \n",
    "                                    Institution text,\n",
    "                                    Year tinyint\n",
    "                                    )\"\"\")"
   ]
  },
  {
   "cell_type": "markdown",
   "metadata": {
    "slideshow": {
     "slide_type": "slide"
    }
   },
   "source": [
    "Once a table is created, we can use the database to store bytes. If I were to populate my `PetInfo` table I would do the following:\n",
    "\n",
    "    cur.execute(\"\"\"insert into PetInfo(Name, Species, Age, FavoriteFood) \n",
    "                                values (\"Rocky\", \"Dog\", 12, \"Bo-Nana\")\"\"\")\n",
    "    cur.execute(\"\"\"insert into PetInfo(Name, Species, Age, FavoriteFood) \n",
    "                                values (\"100 Emoji-Flames Emoji\", \"Red Panda\", 2, \"bamboo leaves\")\"\"\")\n",
    "\n",
    "*Note* - column names do not need to be explicitly specified, but for clarity this is always preferred."
   ]
  },
  {
   "cell_type": "markdown",
   "metadata": {
    "slideshow": {
     "slide_type": "subslide"
    }
   },
   "source": [
    "**Problem 1b**\n",
    "\n",
    "Insert data for yourself, and the two people sitting next to you into the database."
   ]
  },
  {
   "cell_type": "code",
   "execution_count": null,
   "metadata": {
    "collapsed": true,
    "slideshow": {
     "slide_type": "subslide"
    }
   },
   "outputs": [],
   "source": [
    "cur.execute( # complete"
   ]
  },
  {
   "cell_type": "code",
   "execution_count": 12,
   "metadata": {
    "slideshow": {
     "slide_type": "subslide"
    }
   },
   "outputs": [
    {
     "data": {
      "text/plain": [
       "<sqlite3.Cursor at 0x10f537ea0>"
      ]
     },
     "execution_count": 12,
     "metadata": {},
     "output_type": "execute_result"
    }
   ],
   "source": [
    "cur.execute(\"\"\"insert into DSFPstudents(Name, Institution, Year) \n",
    "                            values (\"Adam Miller\", \"Northwestern\", 10)\"\"\")\n",
    "cur.execute(\"\"\"insert into DSFPstudents(Name, Institution, Year) \n",
    "                            values (\"Lucianne Walkowicz\", \"Adler\", 13)\"\"\")"
   ]
  },
  {
   "cell_type": "markdown",
   "metadata": {
    "slideshow": {
     "slide_type": "slide"
    }
   },
   "source": [
    "Now that we have bytes in the database, we can retrieve those bytes with one (or several) queries. There are 3 basic building blocks to a query:\n",
    "\n",
    "    SELECT...\n",
    "    FROM...\n",
    "    WHERE...\n",
    "    \n",
    "Where `SELECT` specifies the information we want to retrieve from the database, `FROM` specifies the tables being queried in the database, and `WHERE` specifies the conditions for the query. "
   ]
  },
  {
   "cell_type": "markdown",
   "metadata": {
    "slideshow": {
     "slide_type": "subslide"
    }
   },
   "source": [
    "**Problem 1c**\n",
    "\n",
    "Select the institutions for all students in the `DSFPstudents` table who have been in grad school for more than 2 years.\n",
    "\n",
    "*Hint* - to display the results of your query run `cur.fetchall()`."
   ]
  },
  {
   "cell_type": "code",
   "execution_count": null,
   "metadata": {
    "collapsed": true,
    "slideshow": {
     "slide_type": "subslide"
    }
   },
   "outputs": [],
   "source": [
    "cur.execute( # complete\n",
    "cur.fetchall()"
   ]
  },
  {
   "cell_type": "code",
   "execution_count": 13,
   "metadata": {
    "slideshow": {
     "slide_type": "subslide"
    }
   },
   "outputs": [
    {
     "data": {
      "text/plain": [
       "[('Northwestern',), ('Adler',)]"
      ]
     },
     "execution_count": 13,
     "metadata": {},
     "output_type": "execute_result"
    }
   ],
   "source": [
    "cur.execute(\"\"\"select Institution from DSFPstudents where year > 2\"\"\")\n",
    "cur.fetchall()"
   ]
  },
  {
   "cell_type": "markdown",
   "metadata": {
    "slideshow": {
     "slide_type": "slide"
    }
   },
   "source": [
    "In closing this brief introduction to databases, note that good databases follow the 4 ACID properties:\n",
    "\n",
    "1. Atomicity\n",
    "2. Consistency\n",
    "3. Isolation\n",
    "4. Durability"
   ]
  },
  {
   "cell_type": "markdown",
   "metadata": {
    "slideshow": {
     "slide_type": "subslide"
    }
   },
   "source": [
    "In closing this brief introduction to databases, note that good databases follow the 4 ACID properties:\n",
    "\n",
    "1. Atomicity - all parts of transaction succeed, or rollback state of database\n",
    "2. Consistency\n",
    "3. Isolation\n",
    "4. Durability"
   ]
  },
  {
   "cell_type": "markdown",
   "metadata": {
    "slideshow": {
     "slide_type": "subslide"
    }
   },
   "source": [
    "In closing this brief introduction to databases, note that good databases follow the 4 ACID properties:\n",
    "\n",
    "1. Atomicity - all parts of transaction succeed, or rollback state of database\n",
    "2. Consistency - data always meets validation rules\n",
    "3. Isolation\n",
    "4. Durability"
   ]
  },
  {
   "cell_type": "markdown",
   "metadata": {
    "slideshow": {
     "slide_type": "subslide"
    }
   },
   "source": [
    "In closing this brief introduction to databases, note that good databases follow the 4 ACID properties:\n",
    "\n",
    "1. Atomicity - all parts of transaction succeed, or rollback state of database\n",
    "2. Consistency - data always meets validation rules\n",
    "3. Isolation - no interference across transactions (even if concurrent)\n",
    "4. Durability"
   ]
  },
  {
   "cell_type": "markdown",
   "metadata": {
    "slideshow": {
     "slide_type": "subslide"
    }
   },
   "source": [
    "In closing this brief introduction to databases, note that good databases follow the 4 ACID properties:\n",
    "\n",
    "1. Atomicity - all parts of transaction succeed, or rollback state of database\n",
    "2. Consistency - data always meets validation rules\n",
    "3. Isolation - no interference across transactions (even if concurrent)\n",
    "4. Durability - a committed transaction remains committed (even if there's a power outage, etc)"
   ]
  },
  {
   "cell_type": "markdown",
   "metadata": {
    "slideshow": {
     "slide_type": "slide"
    }
   },
   "source": [
    "## Problem 2) Complex Queries with SDSS\n",
    "\n",
    "Above we looked at the most basic operations possible with a database (recall - databases are unnecessary, and possibly cumbersome, with small data sets). A typical database consists of many tables, and these tables may be joined together to unlock complex questions for the data. \n",
    "\n",
    "As a reminder on (some of) this functionality, we are now going to go through some problems using the SDSS database. The full [SDSS schema](http://skyserver.sdss.org/dr13/en/help/browser/browser.aspx) explains all of the tables, columns, views and functions for querying the database. We will keep things relatively simple in that regard."
   ]
  },
  {
   "cell_type": "code",
   "execution_count": 16,
   "metadata": {
    "collapsed": true,
    "slideshow": {
     "slide_type": "subslide"
    }
   },
   "outputs": [],
   "source": [
    "# you may need to run conda install -c astropy astroquery\n",
    "\n",
    "from astroquery.sdss import SDSS"
   ]
  },
  {
   "cell_type": "markdown",
   "metadata": {
    "slideshow": {
     "slide_type": "subslide"
    }
   },
   "source": [
    "[`astroquery`](http://astroquery.readthedocs.io/en/latest/) enables seemless connections to the SDSS database via the Python shell."
   ]
  },
  {
   "cell_type": "markdown",
   "metadata": {
    "slideshow": {
     "slide_type": "slide"
    }
   },
   "source": [
    "**Problem 2a**\n",
    "\n",
    "Select 20 random sources from the [`PhotoObjAll`](https://skyserver.sdss.org/dr13/en/help/docs/tabledesc.aspx?name=PhotoObjAll) table and return all columns in the table. \n",
    "\n",
    "*Hint* - while this would normally be accomplished by starting the query `select limit 20 ...`, SDSS CasJobs uses Microsoft's SQL Server, which adopts `select top 20 ...` to accomplish an identical result."
   ]
  },
  {
   "cell_type": "code",
   "execution_count": null,
   "metadata": {
    "collapsed": true,
    "slideshow": {
     "slide_type": "subslide"
    }
   },
   "outputs": [],
   "source": [
    "SDSS.query_sql( # complete"
   ]
  },
  {
   "cell_type": "code",
   "execution_count": 19,
   "metadata": {
    "slideshow": {
     "slide_type": "subslide"
    }
   },
   "outputs": [
    {
     "data": {
      "text/html": [
       "&lt;Table length=10&gt;\n",
       "<table id=\"table4554140976\" class=\"table-striped table-bordered table-condensed\">\n",
       "<thead><tr><th>objID</th><th>skyVersion</th><th>run</th><th>rerun</th><th>camcol</th><th>field</th><th>obj</th><th>mode</th><th>nChild</th><th>type</th><th>clean</th><th>probPSF</th><th>insideMask</th><th>flags</th><th>rowc</th><th>rowcErr</th><th>colc</th><th>colcErr</th><th>rowv</th><th>rowvErr</th><th>colv</th><th>colvErr</th><th>rowc_u</th><th>rowc_g</th><th>rowc_r</th><th>rowc_i</th><th>rowc_z</th><th>rowcErr_u</th><th>rowcErr_g</th><th>rowcErr_r</th><th>rowcErr_i</th><th>rowcErr_z</th><th>colc_u</th><th>colc_g</th><th>colc_r</th><th>colc_i</th><th>colc_z</th><th>colcErr_u</th><th>colcErr_g</th><th>colcErr_r</th><th>colcErr_i</th><th>colcErr_z</th><th>sky_u</th><th>sky_g</th><th>sky_r</th><th>sky_i</th><th>sky_z</th><th>skyIvar_u</th><th>skyIvar_g</th><th>skyIvar_r</th><th>skyIvar_i</th><th>skyIvar_z</th><th>psfMag_u</th><th>psfMag_g</th><th>psfMag_r</th><th>psfMag_i</th><th>psfMag_z</th><th>psfMagErr_u</th><th>psfMagErr_g</th><th>psfMagErr_r</th><th>psfMagErr_i</th><th>psfMagErr_z</th><th>fiberMag_u</th><th>fiberMag_g</th><th>fiberMag_r</th><th>fiberMag_i</th><th>fiberMag_z</th><th>fiberMagErr_u</th><th>fiberMagErr_g</th><th>fiberMagErr_r</th><th>fiberMagErr_i</th><th>fiberMagErr_z</th><th>fiber2Mag_u</th><th>fiber2Mag_g</th><th>fiber2Mag_r</th><th>fiber2Mag_i</th><th>fiber2Mag_z</th><th>fiber2MagErr_u</th><th>fiber2MagErr_g</th><th>fiber2MagErr_r</th><th>fiber2MagErr_i</th><th>fiber2MagErr_z</th><th>petroMag_u</th><th>petroMag_g</th><th>petroMag_r</th><th>petroMag_i</th><th>petroMag_z</th><th>petroMagErr_u</th><th>petroMagErr_g</th><th>petroMagErr_r</th><th>petroMagErr_i</th><th>petroMagErr_z</th><th>psfFlux_u</th><th>psfFlux_g</th><th>psfFlux_r</th><th>psfFlux_i</th><th>psfFlux_z</th><th>psfFluxIvar_u</th><th>psfFluxIvar_g</th><th>psfFluxIvar_r</th><th>psfFluxIvar_i</th><th>psfFluxIvar_z</th><th>fiberFlux_u</th><th>fiberFlux_g</th><th>fiberFlux_r</th><th>fiberFlux_i</th><th>fiberFlux_z</th><th>fiberFluxIvar_u</th><th>fiberFluxIvar_g</th><th>fiberFluxIvar_r</th><th>fiberFluxIvar_i</th><th>fiberFluxIvar_z</th><th>fiber2Flux_u</th><th>fiber2Flux_g</th><th>fiber2Flux_r</th><th>fiber2Flux_i</th><th>fiber2Flux_z</th><th>fiber2FluxIvar_u</th><th>fiber2FluxIvar_g</th><th>fiber2FluxIvar_r</th><th>fiber2FluxIvar_i</th><th>fiber2FluxIvar_z</th><th>petroFlux_u</th><th>petroFlux_g</th><th>petroFlux_r</th><th>petroFlux_i</th><th>petroFlux_z</th><th>petroFluxIvar_u</th><th>petroFluxIvar_g</th><th>petroFluxIvar_r</th><th>petroFluxIvar_i</th><th>petroFluxIvar_z</th><th>petroRad_u</th><th>petroRad_g</th><th>petroRad_r</th><th>petroRad_i</th><th>petroRad_z</th><th>petroRadErr_u</th><th>petroRadErr_g</th><th>petroRadErr_r</th><th>petroRadErr_i</th><th>petroRadErr_z</th><th>petroR50_u</th><th>petroR50_g</th><th>petroR50_r</th><th>petroR50_i</th><th>petroR50_z</th><th>petroR50Err_u</th><th>petroR50Err_g</th><th>petroR50Err_r</th><th>petroR50Err_i</th><th>petroR50Err_z</th><th>petroR90_u</th><th>petroR90_g</th><th>petroR90_r</th><th>petroR90_i</th><th>petroR90_z</th><th>petroR90Err_u</th><th>petroR90Err_g</th><th>petroR90Err_r</th><th>petroR90Err_i</th><th>petroR90Err_z</th><th>q_u</th><th>q_g</th><th>q_r</th><th>q_i</th><th>q_z</th><th>qErr_u</th><th>qErr_g</th><th>qErr_r</th><th>qErr_i</th><th>qErr_z</th><th>u_u</th><th>u_g</th><th>u_r</th><th>u_i</th><th>u_z</th><th>uErr_u</th><th>uErr_g</th><th>uErr_r</th><th>uErr_i</th><th>uErr_z</th><th>mE1_u</th><th>mE1_g</th><th>mE1_r</th><th>mE1_i</th><th>mE1_z</th><th>mE2_u</th><th>mE2_g</th><th>mE2_r</th><th>mE2_i</th><th>mE2_z</th><th>mE1E1Err_u</th><th>mE1E1Err_g</th><th>mE1E1Err_r</th><th>mE1E1Err_i</th><th>mE1E1Err_z</th><th>mE1E2Err_u</th><th>mE1E2Err_g</th><th>mE1E2Err_r</th><th>mE1E2Err_i</th><th>mE1E2Err_z</th><th>mE2E2Err_u</th><th>mE2E2Err_g</th><th>mE2E2Err_r</th><th>mE2E2Err_i</th><th>mE2E2Err_z</th><th>mRrCc_u</th><th>mRrCc_g</th><th>mRrCc_r</th><th>mRrCc_i</th><th>mRrCc_z</th><th>mRrCcErr_u</th><th>mRrCcErr_g</th><th>mRrCcErr_r</th><th>mRrCcErr_i</th><th>mRrCcErr_z</th><th>mCr4_u</th><th>mCr4_g</th><th>mCr4_r</th><th>mCr4_i</th><th>mCr4_z</th><th>mE1PSF_u</th><th>mE1PSF_g</th><th>mE1PSF_r</th><th>mE1PSF_i</th><th>mE1PSF_z</th><th>mE2PSF_u</th><th>mE2PSF_g</th><th>mE2PSF_r</th><th>mE2PSF_i</th><th>mE2PSF_z</th><th>mRrCcPSF_u</th><th>mRrCcPSF_g</th><th>mRrCcPSF_r</th><th>mRrCcPSF_i</th><th>mRrCcPSF_z</th><th>mCr4PSF_u</th><th>mCr4PSF_g</th><th>mCr4PSF_r</th><th>mCr4PSF_i</th><th>mCr4PSF_z</th><th>deVRad_u</th><th>deVRad_g</th><th>deVRad_r</th><th>deVRad_i</th><th>deVRad_z</th><th>deVRadErr_u</th><th>deVRadErr_g</th><th>deVRadErr_r</th><th>deVRadErr_i</th><th>deVRadErr_z</th><th>deVAB_u</th><th>deVAB_g</th><th>deVAB_r</th><th>deVAB_i</th><th>deVAB_z</th><th>deVABErr_u</th><th>deVABErr_g</th><th>deVABErr_r</th><th>deVABErr_i</th><th>deVABErr_z</th><th>deVPhi_u</th><th>deVPhi_g</th><th>deVPhi_r</th><th>deVPhi_i</th><th>deVPhi_z</th><th>deVMag_u</th><th>deVMag_g</th><th>deVMag_r</th><th>deVMag_i</th><th>deVMag_z</th><th>deVMagErr_u</th><th>deVMagErr_g</th><th>deVMagErr_r</th><th>deVMagErr_i</th><th>deVMagErr_z</th><th>deVFlux_u</th><th>deVFlux_g</th><th>deVFlux_r</th><th>deVFlux_i</th><th>deVFlux_z</th><th>deVFluxIvar_u</th><th>deVFluxIvar_g</th><th>deVFluxIvar_r</th><th>deVFluxIvar_i</th><th>deVFluxIvar_z</th><th>expRad_u</th><th>expRad_g</th><th>expRad_r</th><th>expRad_i</th><th>expRad_z</th><th>expRadErr_u</th><th>expRadErr_g</th><th>expRadErr_r</th><th>expRadErr_i</th><th>expRadErr_z</th><th>expAB_u</th><th>expAB_g</th><th>expAB_r</th><th>expAB_i</th><th>expAB_z</th><th>expABErr_u</th><th>expABErr_g</th><th>expABErr_r</th><th>expABErr_i</th><th>expABErr_z</th><th>expPhi_u</th><th>expPhi_g</th><th>expPhi_r</th><th>expPhi_i</th><th>expPhi_z</th><th>expMag_u</th><th>expMag_g</th><th>expMag_r</th><th>expMag_i</th><th>expMag_z</th><th>expMagErr_u</th><th>expMagErr_g</th><th>expMagErr_r</th><th>expMagErr_i</th><th>expMagErr_z</th><th>modelMag_u</th><th>modelMag_g</th><th>modelMag_r</th><th>modelMag_i</th><th>modelMag_z</th><th>modelMagErr_u</th><th>modelMagErr_g</th><th>modelMagErr_r</th><th>modelMagErr_i</th><th>modelMagErr_z</th><th>cModelMag_u</th><th>cModelMag_g</th><th>cModelMag_r</th><th>cModelMag_i</th><th>cModelMag_z</th><th>cModelMagErr_u</th><th>cModelMagErr_g</th><th>cModelMagErr_r</th><th>cModelMagErr_i</th><th>cModelMagErr_z</th><th>expFlux_u</th><th>expFlux_g</th><th>expFlux_r</th><th>expFlux_i</th><th>expFlux_z</th><th>expFluxIvar_u</th><th>expFluxIvar_g</th><th>expFluxIvar_r</th><th>expFluxIvar_i</th><th>expFluxIvar_z</th><th>modelFlux_u</th><th>modelFlux_g</th><th>modelFlux_r</th><th>modelFlux_i</th><th>modelFlux_z</th><th>modelFluxIvar_u</th><th>modelFluxIvar_g</th><th>modelFluxIvar_r</th><th>modelFluxIvar_i</th><th>modelFluxIvar_z</th><th>cModelFlux_u</th><th>cModelFlux_g</th><th>cModelFlux_r</th><th>cModelFlux_i</th><th>cModelFlux_z</th><th>cModelFluxIvar_u</th><th>cModelFluxIvar_g</th><th>cModelFluxIvar_r</th><th>cModelFluxIvar_i</th><th>cModelFluxIvar_z</th><th>aperFlux7_u</th><th>aperFlux7_g</th><th>aperFlux7_r</th><th>aperFlux7_i</th><th>aperFlux7_z</th><th>aperFlux7Ivar_u</th><th>aperFlux7Ivar_g</th><th>aperFlux7Ivar_r</th><th>aperFlux7Ivar_i</th><th>aperFlux7Ivar_z</th><th>lnLStar_u</th><th>lnLStar_g</th><th>lnLStar_r</th><th>lnLStar_i</th><th>lnLStar_z</th><th>lnLExp_u</th><th>lnLExp_g</th><th>lnLExp_r</th><th>lnLExp_i</th><th>lnLExp_z</th><th>lnLDeV_u</th><th>lnLDeV_g</th><th>lnLDeV_r</th><th>lnLDeV_i</th><th>lnLDeV_z</th><th>fracDeV_u</th><th>fracDeV_g</th><th>fracDeV_r</th><th>fracDeV_i</th><th>fracDeV_z</th><th>flags_u</th><th>flags_g</th><th>flags_r</th><th>flags_i</th><th>flags_z</th><th>type_u</th><th>type_g</th><th>type_r</th><th>type_i</th><th>type_z</th><th>probPSF_u</th><th>probPSF_g</th><th>probPSF_r</th><th>probPSF_i</th><th>probPSF_z</th><th>ra</th><th>dec</th><th>cx</th><th>cy</th><th>cz</th><th>raErr</th><th>decErr</th><th>b</th><th>l</th><th>offsetRa_u</th><th>offsetRa_g</th><th>offsetRa_r</th><th>offsetRa_i</th><th>offsetRa_z</th><th>offsetDec_u</th><th>offsetDec_g</th><th>offsetDec_r</th><th>offsetDec_i</th><th>offsetDec_z</th><th>extinction_u</th><th>extinction_g</th><th>extinction_r</th><th>extinction_i</th><th>extinction_z</th><th>psffwhm_u</th><th>psffwhm_g</th><th>psffwhm_r</th><th>psffwhm_i</th><th>psffwhm_z</th><th>mjd</th><th>airmass_u</th><th>airmass_g</th><th>airmass_r</th><th>airmass_i</th><th>airmass_z</th><th>phioffset_u</th><th>phioffset_g</th><th>phioffset_r</th><th>phioffset_i</th><th>phioffset_z</th><th>nProf_u</th><th>nProf_g</th><th>nProf_r</th><th>nProf_i</th><th>nProf_z</th><th>loadVersion</th><th>htmID</th><th>fieldID</th><th>parentID</th><th>specObjID</th><th>u</th><th>g</th><th>r</th><th>i</th><th>z</th><th>err_u</th><th>err_g</th><th>err_r</th><th>err_i</th><th>err_z</th><th>dered_u</th><th>dered_g</th><th>dered_r</th><th>dered_i</th><th>dered_z</th><th>cloudCam_u</th><th>cloudCam_g</th><th>cloudCam_r</th><th>cloudCam_i</th><th>cloudCam_z</th><th>resolveStatus</th><th>thingId</th><th>balkanId</th><th>nObserve</th><th>nDetect</th><th>nEdge</th><th>score</th><th>calibStatus_u</th><th>calibStatus_g</th><th>calibStatus_r</th><th>calibStatus_i</th><th>calibStatus_z</th><th>nMgyPerCount_u</th><th>nMgyPerCount_g</th><th>nMgyPerCount_r</th><th>nMgyPerCount_i</th><th>nMgyPerCount_z</th><th>TAI_u</th><th>TAI_g</th><th>TAI_r</th><th>TAI_i</th><th>TAI_z</th></tr></thead>\n",
       "<thead><tr><th>int64</th><th>int64</th><th>int64</th><th>int64</th><th>int64</th><th>int64</th><th>int64</th><th>int64</th><th>int64</th><th>int64</th><th>int64</th><th>int64</th><th>int64</th><th>int64</th><th>float64</th><th>float64</th><th>float64</th><th>float64</th><th>float64</th><th>float64</th><th>float64</th><th>float64</th><th>float64</th><th>float64</th><th>float64</th><th>float64</th><th>float64</th><th>float64</th><th>float64</th><th>float64</th><th>float64</th><th>float64</th><th>float64</th><th>float64</th><th>float64</th><th>float64</th><th>float64</th><th>float64</th><th>float64</th><th>float64</th><th>float64</th><th>float64</th><th>float64</th><th>float64</th><th>float64</th><th>float64</th><th>float64</th><th>float64</th><th>float64</th><th>float64</th><th>float64</th><th>float64</th><th>float64</th><th>float64</th><th>float64</th><th>float64</th><th>float64</th><th>float64</th><th>float64</th><th>float64</th><th>float64</th><th>float64</th><th>float64</th><th>float64</th><th>float64</th><th>float64</th><th>float64</th><th>float64</th><th>float64</th><th>float64</th><th>float64</th><th>float64</th><th>float64</th><th>float64</th><th>float64</th><th>float64</th><th>float64</th><th>float64</th><th>float64</th><th>float64</th><th>float64</th><th>float64</th><th>float64</th><th>float64</th><th>float64</th><th>float64</th><th>float64</th><th>float64</th><th>float64</th><th>float64</th><th>float64</th><th>float64</th><th>float64</th><th>float64</th><th>float64</th><th>float64</th><th>float64</th><th>float64</th><th>float64</th><th>float64</th><th>float64</th><th>float64</th><th>float64</th><th>float64</th><th>float64</th><th>float64</th><th>float64</th><th>float64</th><th>float64</th><th>float64</th><th>float64</th><th>float64</th><th>float64</th><th>float64</th><th>float64</th><th>float64</th><th>float64</th><th>float64</th><th>float64</th><th>float64</th><th>float64</th><th>float64</th><th>float64</th><th>float64</th><th>float64</th><th>float64</th><th>float64</th><th>float64</th><th>float64</th><th>float64</th><th>float64</th><th>float64</th><th>float64</th><th>float64</th><th>float64</th><th>float64</th><th>float64</th><th>float64</th><th>float64</th><th>float64</th><th>float64</th><th>float64</th><th>float64</th><th>float64</th><th>float64</th><th>float64</th><th>float64</th><th>float64</th><th>float64</th><th>float64</th><th>float64</th><th>float64</th><th>float64</th><th>float64</th><th>float64</th><th>float64</th><th>float64</th><th>float64</th><th>float64</th><th>float64</th><th>float64</th><th>float64</th><th>float64</th><th>float64</th><th>float64</th><th>float64</th><th>float64</th><th>float64</th><th>float64</th><th>float64</th><th>float64</th><th>float64</th><th>float64</th><th>float64</th><th>float64</th><th>float64</th><th>float64</th><th>float64</th><th>float64</th><th>float64</th><th>float64</th><th>float64</th><th>float64</th><th>float64</th><th>float64</th><th>float64</th><th>float64</th><th>float64</th><th>float64</th><th>float64</th><th>float64</th><th>float64</th><th>float64</th><th>float64</th><th>float64</th><th>float64</th><th>float64</th><th>float64</th><th>float64</th><th>float64</th><th>float64</th><th>float64</th><th>float64</th><th>float64</th><th>float64</th><th>float64</th><th>float64</th><th>float64</th><th>float64</th><th>float64</th><th>float64</th><th>float64</th><th>float64</th><th>float64</th><th>float64</th><th>float64</th><th>float64</th><th>float64</th><th>float64</th><th>float64</th><th>float64</th><th>float64</th><th>float64</th><th>float64</th><th>float64</th><th>float64</th><th>float64</th><th>float64</th><th>float64</th><th>float64</th><th>float64</th><th>float64</th><th>float64</th><th>float64</th><th>float64</th><th>float64</th><th>float64</th><th>float64</th><th>float64</th><th>float64</th><th>float64</th><th>float64</th><th>float64</th><th>float64</th><th>float64</th><th>float64</th><th>float64</th><th>float64</th><th>float64</th><th>float64</th><th>float64</th><th>float64</th><th>float64</th><th>float64</th><th>float64</th><th>float64</th><th>float64</th><th>float64</th><th>float64</th><th>float64</th><th>float64</th><th>float64</th><th>float64</th><th>float64</th><th>float64</th><th>float64</th><th>float64</th><th>float64</th><th>float64</th><th>float64</th><th>float64</th><th>float64</th><th>float64</th><th>float64</th><th>float64</th><th>float64</th><th>float64</th><th>float64</th><th>float64</th><th>float64</th><th>float64</th><th>float64</th><th>float64</th><th>float64</th><th>float64</th><th>float64</th><th>float64</th><th>float64</th><th>float64</th><th>float64</th><th>float64</th><th>float64</th><th>float64</th><th>float64</th><th>float64</th><th>float64</th><th>float64</th><th>float64</th><th>float64</th><th>float64</th><th>float64</th><th>float64</th><th>float64</th><th>float64</th><th>float64</th><th>float64</th><th>float64</th><th>float64</th><th>float64</th><th>float64</th><th>float64</th><th>float64</th><th>float64</th><th>float64</th><th>float64</th><th>float64</th><th>float64</th><th>float64</th><th>float64</th><th>float64</th><th>float64</th><th>float64</th><th>float64</th><th>float64</th><th>float64</th><th>float64</th><th>float64</th><th>float64</th><th>float64</th><th>float64</th><th>float64</th><th>float64</th><th>float64</th><th>float64</th><th>float64</th><th>float64</th><th>float64</th><th>float64</th><th>float64</th><th>float64</th><th>float64</th><th>float64</th><th>float64</th><th>float64</th><th>float64</th><th>float64</th><th>float64</th><th>float64</th><th>float64</th><th>float64</th><th>float64</th><th>float64</th><th>float64</th><th>float64</th><th>float64</th><th>float64</th><th>float64</th><th>float64</th><th>float64</th><th>float64</th><th>float64</th><th>float64</th><th>float64</th><th>float64</th><th>float64</th><th>float64</th><th>float64</th><th>float64</th><th>float64</th><th>float64</th><th>float64</th><th>float64</th><th>float64</th><th>float64</th><th>float64</th><th>float64</th><th>float64</th><th>float64</th><th>float64</th><th>float64</th><th>float64</th><th>float64</th><th>float64</th><th>float64</th><th>float64</th><th>float64</th><th>float64</th><th>float64</th><th>float64</th><th>float64</th><th>float64</th><th>float64</th><th>float64</th><th>float64</th><th>float64</th><th>float64</th><th>float64</th><th>float64</th><th>float64</th><th>float64</th><th>float64</th><th>float64</th><th>int64</th><th>int64</th><th>int64</th><th>int64</th><th>int64</th><th>int64</th><th>int64</th><th>int64</th><th>int64</th><th>int64</th><th>int64</th><th>int64</th><th>int64</th><th>int64</th><th>int64</th><th>float64</th><th>float64</th><th>float64</th><th>float64</th><th>float64</th><th>float64</th><th>float64</th><th>float64</th><th>float64</th><th>float64</th><th>float64</th><th>float64</th><th>float64</th><th>float64</th><th>float64</th><th>float64</th><th>float64</th><th>float64</th><th>float64</th><th>float64</th><th>float64</th><th>float64</th><th>float64</th><th>float64</th><th>float64</th><th>float64</th><th>float64</th><th>float64</th><th>float64</th><th>int64</th><th>float64</th><th>float64</th><th>float64</th><th>float64</th><th>float64</th><th>float64</th><th>float64</th><th>float64</th><th>float64</th><th>float64</th><th>int64</th><th>int64</th><th>int64</th><th>int64</th><th>int64</th><th>int64</th><th>int64</th><th>int64</th><th>int64</th><th>int64</th><th>float64</th><th>float64</th><th>float64</th><th>float64</th><th>float64</th><th>float64</th><th>float64</th><th>float64</th><th>float64</th><th>float64</th><th>float64</th><th>float64</th><th>float64</th><th>float64</th><th>float64</th><th>int64</th><th>int64</th><th>int64</th><th>int64</th><th>int64</th><th>int64</th><th>int64</th><th>int64</th><th>int64</th><th>int64</th><th>int64</th><th>float64</th><th>int64</th><th>int64</th><th>int64</th><th>int64</th><th>int64</th><th>float64</th><th>float64</th><th>float64</th><th>float64</th><th>float64</th><th>float64</th><th>float64</th><th>float64</th><th>float64</th><th>float64</th></tr></thead>\n",
       "<tr><td>1237645876861272065</td><td>2</td><td>94</td><td>301</td><td>1</td><td>11</td><td>1</td><td>3</td><td>4</td><td>3</td><td>0</td><td>0</td><td>0</td><td>488262955569166</td><td>55.68903</td><td>1.008007</td><td>1909.373</td><td>1.006504</td><td>-9999.0</td><td>-9999.0</td><td>-9999.0</td><td>-9999.0</td><td>62.32717</td><td>69.62091</td><td>55.62588</td><td>59.49052</td><td>65.05569</td><td>1.0</td><td>1.0</td><td>1.0</td><td>1.0</td><td>1.0</td><td>1911.868</td><td>1914.038</td><td>1909.323</td><td>1906.61</td><td>1908.747</td><td>1.0</td><td>1.0</td><td>1.0</td><td>1.0</td><td>1.0</td><td>1.849332</td><td>2.145367</td><td>5.566107</td><td>11.99078</td><td>39.44223</td><td>115867.5</td><td>68460.27</td><td>44214.59</td><td>5288.569</td><td>5439.57</td><td>10.92937</td><td>9.64887</td><td>14.39184</td><td>9.321719</td><td>11.04931</td><td>0.0003566266</td><td>9.074066e-05</td><td>0.0177245</td><td>9.235229e-05</td><td>0.0005119445</td><td>11.12259</td><td>9.72988</td><td>14.29362</td><td>9.403087</td><td>12.3764</td><td>0.002127928</td><td>0.0008055534</td><td>27019.44</td><td>0.0003174021</td><td>0.002770447</td><td>11.16461</td><td>9.736721</td><td>15.14795</td><td>9.410827</td><td>13.30025</td><td>0.001505912</td><td>272.1881</td><td>0.03865255</td><td>435.4204</td><td>77140.93</td><td>10.91462</td><td>9.638378</td><td>12.01457</td><td>9.305475</td><td>11.00483</td><td>0.0008732768</td><td>0.0006218462</td><td>0.006846347</td><td>0.001136372</td><td>0.00262344</td><td>42486.44</td><td>138182.2</td><td>1750.916</td><td>186772.3</td><td>38043.0</td><td>0.005134766</td><td>0.007497914</td><td>0.001223968</td><td>0.003962127</td><td>0.003107802</td><td>35560.32</td><td>128247.2</td><td>1916.682</td><td>173286.8</td><td>11205.73</td><td>0.0002058749</td><td>0.0001104496</td><td>4.395371e-16</td><td>0.000389671</td><td>0.00122312</td><td>34210.1</td><td>127441.7</td><td>872.6114</td><td>172055.8</td><td>4785.186</td><td>0.0004441614</td><td>9.796861e-16</td><td>0.001036217</td><td>2.100353e-16</td><td>8.651298e-18</td><td>43067.9</td><td>139524.0</td><td>15637.64</td><td>189587.6</td><td>39634.18</td><td>0.0008333691</td><td>0.0001565975</td><td>0.0001028462</td><td>2.539732e-05</td><td>0.0001090352</td><td>3.629447</td><td>5.922055</td><td>5.980066</td><td>6.801979</td><td>3.372201</td><td>0.04710729</td><td>0.1170539</td><td>0.2169582</td><td>0.2451555</td><td>0.03627123</td><td>2.144221</td><td>3.184354</td><td>3.073734</td><td>3.183596</td><td>1.940912</td><td>0.004792058</td><td>0.01382501</td><td>0.01362745</td><td>0.0251263</td><td>0.002913274</td><td>5.621005</td><td>7.493662</td><td>7.682547</td><td>8.625511</td><td>4.700827</td><td>0.1097054</td><td>0.1576602</td><td>0.1579892</td><td>0.260599</td><td>0.05281986</td><td>0.1375261</td><td>0.1720496</td><td>0.1475463</td><td>0.144426</td><td>0.006615272</td><td>0.000519612</td><td>0.0002215169</td><td>0.0002073577</td><td>0.0002302332</td><td>0.0003291701</td><td>-0.0234536</td><td>-0.002324058</td><td>-0.01744305</td><td>-0.01851548</td><td>-0.005630946</td><td>0.0005103351</td><td>0.0002152384</td><td>0.0002030475</td><td>0.0002256533</td><td>0.0003291661</td><td>0.1336379</td><td>0.3728415</td><td>0.3301354</td><td>0.3204986</td><td>0.08828475</td><td>-0.05147791</td><td>-0.01094185</td><td>-0.05974403</td><td>-0.04611106</td><td>0.0139268</td><td>-1000.0</td><td>6.424013e-05</td><td>8.481451e-05</td><td>0.0001299837</td><td>-1000.0</td><td>-1000.0</td><td>4.421963e-06</td><td>1.261892e-05</td><td>1.66817e-05</td><td>-1000.0</td><td>-1000.0</td><td>6.922796e-05</td><td>8.96917e-05</td><td>0.0001370763</td><td>-1000.0</td><td>20.48311</td><td>88.56664</td><td>80.39035</td><td>81.54523</td><td>17.78692</td><td>-1000.0</td><td>0.007052985</td><td>0.008074704</td><td>0.01241958</td><td>-1000.0</td><td>0.4773651</td><td>1.938883</td><td>1.928816</td><td>1.960666</td><td>0.5622626</td><td>0.0566095</td><td>0.04525974</td><td>0.007930175</td><td>0.1324188</td><td>0.02255016</td><td>-0.05276328</td><td>-0.009676965</td><td>-0.0326623</td><td>-0.08726448</td><td>-0.04511428</td><td>5.987153</td><td>6.244921</td><td>5.461177</td><td>5.659697</td><td>5.826593</td><td>2.056303</td><td>2.07466</td><td>2.060937</td><td>2.090088</td><td>2.085905</td><td>2.883899</td><td>6.373082</td><td>6.38238</td><td>9.891645</td><td>2.329132</td><td>0.03767792</td><td>0.07457294</td><td>0.0789595</td><td>0.1385519</td><td>0.02266056</td><td>0.8252335</td><td>0.7747796</td><td>0.8152227</td><td>0.8463345</td><td>0.8660927</td><td>0.008789557</td><td>0.009793019</td><td>0.01134522</td><td>0.01288104</td><td>0.009673044</td><td>167.515</td><td>178.7627</td><td>155.7975</td><td>164.9705</td><td>166.5663</td><td>13.12109</td><td>12.65137</td><td>12.45295</td><td>11.75519</td><td>11.79332</td><td>0.006536965</td><td>0.006068467</td><td>0.006787619</td><td>0.006303111</td><td>0.00701148</td><td>5643.729</td><td>8698.688</td><td>10442.86</td><td>19857.57</td><td>19172.18</td><td>0.0008660921</td><td>0.0004230416</td><td>0.0002346255</td><td>7.524657e-05</td><td>6.523586e-05</td><td>2.682473</td><td>4.695416</td><td>4.622423</td><td>4.998532</td><td>2.109998</td><td>0.03335935</td><td>0.02811395</td><td>0.02712046</td><td>0.04487925</td><td>0.01701242</td><td>0.9348708</td><td>0.779025</td><td>0.8164603</td><td>0.8710622</td><td>0.9999523</td><td>0.008778935</td><td>0.005693307</td><td>0.006242694</td><td>0.007796</td><td>0.008888426</td><td>167.3981</td><td>178.5604</td><td>156.0326</td><td>164.6681</td><td>164.4815</td><td>12.97015</td><td>12.47353</td><td>12.22712</td><td>11.90001</td><td>11.43371</td><td>0.007949658</td><td>0.006196486</td><td>0.006874545</td><td>0.006600708</td><td>0.008144873</td><td>11.06542</td><td>9.672378</td><td>12.45294</td><td>9.322809</td><td>12.25885</td><td>0.0008050828</td><td>0.0003830564</td><td>0.006787618</td><td>0.0005462957</td><td>0.008134956</td><td>13.07936</td><td>12.57809</td><td>12.34195</td><td>11.81598</td><td>11.65377</td><td>0.007033931</td><td>0.006149475</td><td>0.006874185</td><td>0.006429149</td><td>0.007713149</td><td>6485.458</td><td>10246.8</td><td>12857.34</td><td>17377.82</td><td>26700.3</td><td>0.0004434763</td><td>0.0002924023</td><td>0.0001508892</td><td>8.959359e-05</td><td>2.492572e-05</td><td>37482.81</td><td>135222.5</td><td>10442.95</td><td>186584.8</td><td>12487.01</td><td>0.001294503</td><td>0.0004393645</td><td>0.0002346214</td><td>0.0001134595</td><td>0.0001142408</td><td>5864.836</td><td>9306.003</td><td>11566.99</td><td>18776.28</td><td>21801.73</td><td>0.0006926927</td><td>0.0003599533</td><td>0.0001864513</td><td>8.089518e-05</td><td>4.168725e-05</td><td>42486.44</td><td>138182.2</td><td>13883.85</td><td>186772.3</td><td>38043.0</td><td>3.435339e-05</td><td>1.585304e-05</td><td>1.014333e-05</td><td>1.183173e-05</td><td>5.633831e-06</td><td>-11772.29</td><td>-13732.43</td><td>-10161.51</td><td>-11668.18</td><td>-9334.092</td><td>-5388.929</td><td>-2357.314</td><td>-1536.536</td><td>-2000.688</td><td>-4139.626</td><td>-957.7337</td><td>-1709.401</td><td>-1219.707</td><td>-713.7246</td><td>-1062.898</td><td>0.7373171</td><td>0.6077074</td><td>0.5344208</td><td>0.5639518</td><td>0.6507025</td><td>585639751273844738</td><td>581136701403828262</td><td>4675948563529734</td><td>576632551483805702</td><td>585639750736973826</td><td>3</td><td>3</td><td>3</td><td>3</td><td>3</td><td>0</td><td>0</td><td>0</td><td>0</td><td>0</td><td>336.438801475</td><td>-0.834257466887</td><td>0.916536475463</td><td>-0.399685995269</td><td>-0.014560025117</td><td>0.399039788651</td><td>0.39844470516</td><td>-46.279281444</td><td>63.7346936823</td><td>-0.01021787</td><td>0.02428235</td><td>-0.02498654</td><td>-0.09338244</td><td>-0.1369183</td><td>-0.3991456</td><td>0.02853472</td><td>-0.01996101</td><td>-0.434521</td><td>-0.3352074</td><td>0.3411053</td><td>0.250982</td><td>0.1820331</td><td>0.1380302</td><td>0.09786512</td><td>1.612689</td><td>1.647384</td><td>1.540417</td><td>1.568649</td><td>1.591149</td><td>51075</td><td>1.200801</td><td>1.200893</td><td>1.20084</td><td>1.200805</td><td>1.200831</td><td>0.006145624</td><td>0.006145623</td><td>0.006145624</td><td>0.006145627</td><td>0.006145629</td><td>14</td><td>15</td><td>15</td><td>14</td><td>14</td><td>0</td><td>12748477821828</td><td>1237645876861272064</td><td>0</td><td>0</td><td>11.06542</td><td>9.672378</td><td>12.45294</td><td>9.322809</td><td>12.25885</td><td>0.0008050828</td><td>0.0003830564</td><td>0.006787618</td><td>0.0005462957</td><td>0.008134956</td><td>10.72432</td><td>9.421398</td><td>12.27091</td><td>9.18478</td><td>12.16099</td><td>0</td><td>0</td><td>0</td><td>0</td><td>0</td><td>8</td><td>-1</td><td>-1</td><td>0</td><td>0</td><td>0</td><td>0.7847437</td><td>1</td><td>1</td><td>1</td><td>1</td><td>1</td><td>0.007364357</td><td>0.003194894</td><td>0.004769823</td><td>0.006900075</td><td>0.03399847</td><td>4412900267.36</td><td>4412900410.83</td><td>4412900123.9</td><td>4412900195.65</td><td>4412900339.07</td></tr>\n",
       "<tr><td>1237645876861272066</td><td>2</td><td>94</td><td>301</td><td>1</td><td>11</td><td>2</td><td>4</td><td>0</td><td>3</td><td>0</td><td>0</td><td>0</td><td>483787532537878</td><td>55.47013</td><td>1.008237</td><td>1909.46</td><td>1.007598</td><td>-9999.0</td><td>-9999.0</td><td>-9999.0</td><td>-9999.0</td><td>62.32717</td><td>69.35994</td><td>55.40488</td><td>59.48737</td><td>65.05182</td><td>1.0</td><td>1.0</td><td>1.0</td><td>1.0</td><td>1.0</td><td>1911.868</td><td>1914.033</td><td>1909.304</td><td>1906.576</td><td>1908.747</td><td>1.0</td><td>1.0</td><td>1.0</td><td>1.0</td><td>1.0</td><td>1.850335</td><td>3.958898</td><td>7.01621</td><td>11.99078</td><td>40.65082</td><td>13394.59</td><td>0.09706311</td><td>0.07264109</td><td>5288.569</td><td>0.1244277</td><td>10.92945</td><td>9.659317</td><td>14.39169</td><td>9.321781</td><td>11.06106</td><td>0.0003566412</td><td>0.0001600496</td><td>0.04118082</td><td>9.235495e-05</td><td>0.0006669782</td><td>14.07186</td><td>14.55493</td><td>14.29404</td><td>14.1217</td><td>12.3738</td><td>0.03225189</td><td>1.085736</td><td>27029.75</td><td>0.02452501</td><td>0.002894724</td><td>14.99789</td><td>15.38512</td><td>15.14742</td><td>14.98038</td><td>13.30037</td><td>0.05172348</td><td>1.085736</td><td>0.1184933</td><td>73575.3</td><td>77149.47</td><td>10.91843</td><td>9.657109</td><td>12.1495</td><td>9.311124</td><td>11.04555</td><td>0.0006088417</td><td>0.0002264314</td><td>0.003000811</td><td>0.0006036511</td><td>0.001102843</td><td>42483.51</td><td>136859.0</td><td>1751.158</td><td>186761.7</td><td>37633.61</td><td>0.00513505</td><td>0.002456931</td><td>0.0002266773</td><td>0.003962351</td><td>0.001870999</td><td>2351.01</td><td>1506.703</td><td>1915.951</td><td>2245.537</td><td>11232.63</td><td>0.0002050357</td><td>4.404988e-07</td><td>4.395371e-16</td><td>0.0003886778</td><td>0.001114991</td><td>1001.945</td><td>701.3796</td><td>873.0362</td><td>1018.23</td><td>4784.656</td><td>0.0004389196</td><td>2.032796e-06</td><td>0.000110153</td><td>2.100353e-16</td><td>8.651298e-18</td><td>42916.93</td><td>137137.5</td><td>13810.15</td><td>188603.8</td><td>38175.18</td><td>0.001726563</td><td>0.001222539</td><td>0.0006863956</td><td>9.094437e-05</td><td>0.0006650575</td><td>3.63814</td><td>5.121081</td><td>5.163815</td><td>6.495249</td><td>3.36257</td><td>0.05218539</td><td>0.06027121</td><td>0.106134</td><td>0.2386256</td><td>0.04188031</td><td>2.126377</td><td>2.840787</td><td>2.835824</td><td>3.065464</td><td>1.882829</td><td>0.003312418</td><td>0.004654588</td><td>0.004728576</td><td>0.01198341</td><td>0.001056824</td><td>5.187965</td><td>5.188041</td><td>5.62612</td><td>7.467595</td><td>4.096688</td><td>0.06426354</td><td>0.03870806</td><td>0.04627322</td><td>0.1202127</td><td>0.01388076</td><td>0.1383039</td><td>0.1817622</td><td>0.156649</td><td>0.1463362</td><td>0.007268286</td><td>0.0005252874</td><td>0.0009398632</td><td>0.0008370537</td><td>0.0002359449</td><td>0.000385259</td><td>-0.02289512</td><td>-0.005755376</td><td>-0.02061155</td><td>-0.021601</td><td>-0.001547955</td><td>0.0005157892</td><td>0.0009103012</td><td>0.0008175868</td><td>0.0002311568</td><td>0.0003852396</td><td>0.1336379</td><td>0.3750821</td><td>0.3224909</td><td>0.3205957</td><td>0.08827204</td><td>-0.05147791</td><td>-0.0198824</td><td>-0.05406168</td><td>-0.0451838</td><td>0.01409255</td><td>-1000.0</td><td>8.923117e-05</td><td>9.576193e-05</td><td>0.0001300173</td><td>-1000.0</td><td>-1000.0</td><td>8.312628e-06</td><td>1.335803e-05</td><td>1.652047e-05</td><td>-1000.0</td><td>-1000.0</td><td>9.623986e-05</td><td>0.0001010191</td><td>0.0001371224</td><td>-1000.0</td><td>20.48311</td><td>79.09538</td><td>77.06931</td><td>81.57804</td><td>17.78125</td><td>-1000.0</td><td>0.008774031</td><td>0.008668832</td><td>0.01242842</td><td>-1000.0</td><td>0.4773651</td><td>1.844011</td><td>1.864981</td><td>1.958234</td><td>0.5625287</td><td>0.0566095</td><td>0.04525974</td><td>0.007930175</td><td>0.1324188</td><td>0.02255016</td><td>-0.05276328</td><td>-0.009676965</td><td>-0.0326623</td><td>-0.08726448</td><td>-0.04511428</td><td>5.987153</td><td>6.244921</td><td>5.461177</td><td>5.659697</td><td>5.826593</td><td>2.056303</td><td>2.07466</td><td>2.060937</td><td>2.090088</td><td>2.085905</td><td>2.872501</td><td>3.296397</td><td>3.62784</td><td>8.47053</td><td>1.770579</td><td>0.03709411</td><td>0.03161298</td><td>0.05571424</td><td>0.1252497</td><td>0.01539151</td><td>0.8276951</td><td>0.5575383</td><td>0.8672477</td><td>0.96929</td><td>0.8209721</td><td>0.008814054</td><td>0.00574443</td><td>0.01250555</td><td>0.01342568</td><td>0.01019525</td><td>166.6351</td><td>163.3976</td><td>75.15765</td><td>166.4317</td><td>74.30254</td><td>13.1195</td><td>13.52634</td><td>13.0488</td><td>11.85262</td><td>12.11123</td><td>0.006536721</td><td>0.006924701</td><td>0.007053154</td><td>0.006340399</td><td>0.008456453</td><td>5651.964</td><td>3885.656</td><td>6032.26</td><td>18153.13</td><td>14305.69</td><td>0.0008636342</td><td>0.001628237</td><td>0.0006512112</td><td>8.898411e-05</td><td>8.054796e-05</td><td>2.688296</td><td>3.024011</td><td>2.94233</td><td>4.802677</td><td>2.008796</td><td>0.03350673</td><td>0.0161135</td><td>0.01823625</td><td>0.03598272</td><td>0.01298356</td><td>0.9395641</td><td>0.7500595</td><td>0.9731728</td><td>0.9210204</td><td>0.9999719</td><td>0.008911195</td><td>0.003983244</td><td>0.00860477</td><td>0.007989299</td><td>0.01331552</td><td>166.9241</td><td>163.343</td><td>77.05157</td><td>163.8346</td><td>114.9355</td><td>12.96591</td><td>12.85894</td><td>12.52328</td><td>11.95343</td><td>11.48488</td><td>0.007930071</td><td>0.007078907</td><td>0.007595744</td><td>0.006623194</td><td>0.008234852</td><td>11.0511</td><td>9.726392</td><td>13.0488</td><td>9.356862</td><td>12.68003</td><td>0.0008630905</td><td>0.0001388614</td><td>0.007053152</td><td>0.0004047953</td><td>0.01017965</td><td>13.08528</td><td>13.02686</td><td>12.85163</td><td>11.88167</td><td>11.64233</td><td>0.006940799</td><td>0.007275501</td><td>0.007570941</td><td>0.006420819</td><td>0.008485544</td><td>6510.798</td><td>7184.927</td><td>9787.832</td><td>16543.58</td><td>25471.2</td><td>0.0004422074</td><td>0.0004556921</td><td>0.0002132726</td><td>9.818713e-05</td><td>2.679404e-05</td><td>37980.59</td><td>128659.9</td><td>6032.272</td><td>180823.7</td><td>8472.041</td><td>0.001097015</td><td>0.003693167</td><td>0.0006512088</td><td>0.0002200224</td><td>0.0001584918</td><td>5832.93</td><td>6155.41</td><td>7233.513</td><td>17673.83</td><td>22032.77</td><td>0.0007192109</td><td>0.0005877719</td><td>0.0003930524</td><td>9.153908e-05</td><td>3.372492e-05</td><td>42483.51</td><td>136859.0</td><td>13281.83</td><td>186761.7</td><td>37633.61</td><td>3.743611e-05</td><td>1.78111e-05</td><td>1.036812e-05</td><td>1.086313e-05</td><td>4.331135e-06</td><td>-11767.06</td><td>-11852.33</td><td>-9677.24</td><td>-11641.71</td><td>-6579.208</td><td>-5337.753</td><td>-4034.423</td><td>-3292.263</td><td>-2065.695</td><td>-1589.305</td><td>-951.586</td><td>-3507.652</td><td>-1673.942</td><td>-858.0659</td><td>-2033.838</td><td>0.7892901</td><td>0.3120439</td><td>0.6801412</td><td>0.7022139</td><td>0.3079508</td><td>5199572895986520080</td><td>5190426608376614932</td><td>4618609093811503124</td><td>5190565696731779088</td><td>5199572895852302352</td><td>3</td><td>3</td><td>3</td><td>3</td><td>3</td><td>0</td><td>0</td><td>0</td><td>0</td><td>0</td><td>336.438777376</td><td>-0.834246499097</td><td>0.916536309904</td><td>-0.399686381893</td><td>-0.0145598337132</td><td>0.399130812959</td><td>0.398877817512</td><td>-46.2792559515</td><td>63.7346833405</td><td>0.0765402</td><td>0.007722394</td><td>-0.0257919</td><td>-0.007898715</td><td>-0.05168042</td><td>-0.4386296</td><td>-0.01284212</td><td>-0.06186683</td><td>-0.4832312</td><td>-0.3732767</td><td>0.3411124</td><td>0.2509873</td><td>0.1820369</td><td>0.1380331</td><td>0.09786717</td><td>1.612689</td><td>1.647384</td><td>1.540417</td><td>1.568649</td><td>1.591149</td><td>51075</td><td>1.200801</td><td>1.200893</td><td>1.20084</td><td>1.200805</td><td>1.200831</td><td>0.006145624</td><td>0.006145626</td><td>0.006145628</td><td>0.006145627</td><td>0.006145629</td><td>14</td><td>15</td><td>15</td><td>14</td><td>14</td><td>0</td><td>12748477821880</td><td>1237645876861272064</td><td>1237645876861272065</td><td>0</td><td>11.0511</td><td>9.726392</td><td>13.0488</td><td>9.356862</td><td>12.68003</td><td>0.0008630905</td><td>0.0001388614</td><td>0.007053152</td><td>0.0004047953</td><td>0.01017965</td><td>10.70998</td><td>9.475405</td><td>12.86676</td><td>9.218829</td><td>12.58216</td><td>0</td><td>0</td><td>0</td><td>0</td><td>0</td><td>8</td><td>-1</td><td>-1</td><td>0</td><td>0</td><td>0</td><td>0.7847437</td><td>1</td><td>1</td><td>1</td><td>1</td><td>1</td><td>0.007364357</td><td>0.003194894</td><td>0.004769823</td><td>0.006900075</td><td>0.03399847</td><td>4412900267.36</td><td>4412900410.83</td><td>4412900123.9</td><td>4412900195.65</td><td>4412900339.07</td></tr>\n",
       "<tr><td>1237645876861272067</td><td>2</td><td>94</td><td>301</td><td>1</td><td>11</td><td>3</td><td>4</td><td>0</td><td>3</td><td>0</td><td>0</td><td>0</td><td>35219000660758</td><td>63.59596</td><td>0.1416467</td><td>1882.586</td><td>0.1530706</td><td>0.01355184</td><td>0.005204086</td><td>-0.01413194</td><td>0.005396744</td><td>69.77955</td><td>77.24</td><td>63.09959</td><td>67.45815</td><td>73.30122</td><td>0.1258967</td><td>0.1687723</td><td>0.02084969</td><td>0.03836311</td><td>0.06979562</td><td>1886.387</td><td>1887.359</td><td>1882.961</td><td>1881.508</td><td>1882.756</td><td>0.1508247</td><td>0.1641827</td><td>0.01774949</td><td>0.04146835</td><td>0.06795515</td><td>1.848462</td><td>11.31206</td><td>20.51052</td><td>11.98899</td><td>82.47786</td><td>115976.6</td><td>0.0006793361</td><td>0.0003283599</td><td>5290.147</td><td>1.940258e-05</td><td>24.62788</td><td>18.07689</td><td>17.75375</td><td>17.35176</td><td>17.52602</td><td>1.370706</td><td>0.7564269</td><td>0.7415935</td><td>0.01594354</td><td>2.6002</td><td>19.35716</td><td>18.19521</td><td>17.80477</td><td>17.4363</td><td>17.6905</td><td>0.02595395</td><td>0.7699915</td><td>0.7466277</td><td>0.005944509</td><td>2.785566</td><td>20.20478</td><td>18.98934</td><td>18.53391</td><td>18.17444</td><td>18.35374</td><td>0.03794942</td><td>1.068671</td><td>0.9513107</td><td>0.007878768</td><td>3.298563</td><td>16.64646</td><td>13.71453</td><td>13.96181</td><td>14.73027</td><td>14.28762</td><td>0.8907953</td><td>0.3646035</td><td>0.5063848</td><td>0.7947064</td><td>2.591959</td><td>0.001753557</td><td>58.78172</td><td>79.15884</td><td>114.6292</td><td>97.62661</td><td>8.002521</td><td>0.0005962466</td><td>0.0003420691</td><td>0.3529267</td><td>1.828937e-05</td><td>18.0763</td><td>52.71278</td><td>75.52532</td><td>106.0425</td><td>83.90111</td><td>5.354495</td><td>0.0007155497</td><td>0.0003707242</td><td>2.96655</td><td>2.157502e-05</td><td>8.27875</td><td>25.3663</td><td>38.58632</td><td>53.73033</td><td>45.53942</td><td>11.92922</td><td>0.001604073</td><td>0.0008748233</td><td>6.577691</td><td>5.218737e-05</td><td>219.4899</td><td>3267.295</td><td>2601.804</td><td>1282.013</td><td>1927.305</td><td>3.083636e-05</td><td>8.306735e-07</td><td>6.791069e-07</td><td>1.135664e-06</td><td>4.723798e-08</td><td>258.2726</td><td>19.72316</td><td>14.39407</td><td>3.960417</td><td>50.7484</td><td>-1000.0</td><td>10.33176</td><td>7.934906</td><td>0.02992271</td><td>22.92968</td><td>22.25758</td><td>10.2526</td><td>7.702373</td><td>20.18445</td><td>7.512981</td><td>4.9531</td><td>2.669705</td><td>2.968237</td><td>12.35881</td><td>-1000.0</td><td>27.0699</td><td>18.1615</td><td>18.06417</td><td>27.23339</td><td>17.84365</td><td>-1000.0</td><td>-1000.0</td><td>-1000.0</td><td>-1000.0</td><td>-1000.0</td><td>-0.1039678</td><td>0.1934605</td><td>0.0639915</td><td>0.04549108</td><td>-0.009746577</td><td>0.6080539</td><td>0.1165495</td><td>0.1816938</td><td>0.005423712</td><td>0.9971305</td><td>-0.4430175</td><td>-0.04209923</td><td>-0.04068516</td><td>0.02104806</td><td>-0.04933337</td><td>0.7099043</td><td>0.1126171</td><td>0.1812536</td><td>0.00541492</td><td>0.9994594</td><td>0.1973648</td><td>-9999.0</td><td>0.2448151</td><td>-0.104959</td><td>-0.05102057</td><td>0.7180313</td><td>-9999.0</td><td>0.3394355</td><td>0.01349388</td><td>0.09450022</td><td>-1000.0</td><td>-9999.0</td><td>0.002300093</td><td>0.003930748</td><td>0.01848026</td><td>-1000.0</td><td>-9999.0</td><td>-0.000683855</td><td>0.0001487506</td><td>0.001284881</td><td>-1000.0</td><td>-9999.0</td><td>0.002231438</td><td>0.00395222</td><td>0.01842155</td><td>14.60042</td><td>-9999.0</td><td>452.5277</td><td>43.45354</td><td>420.1009</td><td>-1000.0</td><td>-9999.0</td><td>1.216925</td><td>0.1736722</td><td>7.829086</td><td>-0.1056664</td><td>-9999.0</td><td>1.979804</td><td>1.909065</td><td>2.089378</td><td>0.0566095</td><td>0.04525974</td><td>0.007930175</td><td>0.1324188</td><td>0.02255016</td><td>-0.05276328</td><td>-0.009676965</td><td>-0.0326623</td><td>-0.08726448</td><td>-0.04511428</td><td>5.987153</td><td>6.244921</td><td>5.461177</td><td>5.659697</td><td>5.826593</td><td>2.056303</td><td>2.07466</td><td>2.060937</td><td>2.090088</td><td>2.085905</td><td>29.65729</td><td>29.66611</td><td>29.657</td><td>3.513162</td><td>28.9546</td><td>2.937253</td><td>0.1187249</td><td>0.4848375</td><td>0.0613919</td><td>1.394647</td><td>0.4553719</td><td>0.8281087</td><td>0.8406208</td><td>0.9847257</td><td>0.9999985</td><td>0.5386294</td><td>0.008257907</td><td>0.01014435</td><td>0.01708111</td><td>0.01608893</td><td>157.8575</td><td>161.2172</td><td>16.86968</td><td>62.3182</td><td>60.07584</td><td>19.71465</td><td>13.63243</td><td>13.47322</td><td>15.64151</td><td>13.39437</td><td>0.3226437</td><td>0.0031025</td><td>0.002991507</td><td>0.004193085</td><td>0.01119904</td><td>13.00439</td><td>3523.948</td><td>4080.472</td><td>553.8523</td><td>4387.847</td><td>0.06693006</td><td>0.009862028</td><td>0.0079113</td><td>0.2185714</td><td>0.0004881841</td><td>59.30689</td><td>12.51357</td><td>8.388789</td><td>2.004931</td><td>8.211412</td><td>24.642</td><td>0.07766502</td><td>0.05049668</td><td>0.01936498</td><td>0.212169</td><td>0.4477697</td><td>0.7755212</td><td>0.9137278</td><td>0.9499707</td><td>0.9276604</td><td>0.3125167</td><td>0.005863988</td><td>0.008147216</td><td>0.01157487</td><td>0.03203933</td><td>159.485</td><td>165.8087</td><td>45.12141</td><td>70.67863</td><td>63.27227</td><td>17.07374</td><td>13.86534</td><td>14.17228</td><td>15.89982</td><td>14.23906</td><td>0.1326221</td><td>0.002807888</td><td>0.002854255</td><td>0.003980632</td><td>0.01079594</td><td>20.43744</td><td>14.29981</td><td>14.17228</td><td>15.55754</td><td>14.21933</td><td>0.3942777</td><td>0.002973732</td><td>0.002854256</td><td>0.007072087</td><td>0.01080392</td><td>19.71465</td><td>13.86158</td><td>14.17228</td><td>15.64151</td><td>14.23906</td><td>0.3226437</td><td>0.00281589</td><td>0.002854255</td><td>0.004193085</td><td>0.01079594</td><td>148.0819</td><td>2843.56</td><td>2143.317</td><td>436.5868</td><td>2015.472</td><td>0.003056407</td><td>0.01849116</td><td>0.03149851</td><td>0.390304</td><td>0.002489857</td><td>6.680869</td><td>1905.797</td><td>2143.321</td><td>598.3881</td><td>2052.42</td><td>0.1695962</td><td>0.0367022</td><td>0.0314984</td><td>0.06582448</td><td>0.002397473</td><td>13.00439</td><td>2853.445</td><td>2143.317</td><td>553.8523</td><td>2015.472</td><td>0.06693006</td><td>0.01825906</td><td>0.03149851</td><td>0.2185714</td><td>0.002489857</td><td>0.7485684</td><td>1013.809</td><td>1220.26</td><td>416.9023</td><td>939.4576</td><td>177.5718</td><td>0.0004543085</td><td>0.0002134865</td><td>0.0282327</td><td>0.0002589148</td><td>-36.35352</td><td>-79028.59</td><td>-70675.34</td><td>-22168.04</td><td>-4587.264</td><td>-15.01355</td><td>-11959.04</td><td>-10683.46</td><td>-2574.801</td><td>-528.9827</td><td>-34.18461</td><td>-25464.52</td><td>-17159.89</td><td>-6230.23</td><td>-875.4959</td><td>1.0</td><td>0.01452804</td><td>0.0</td><td>1.0</td><td>0.0</td><td>9007199406167313</td><td>18015223428808724</td><td>4504424680914964</td><td>275297763344</td><td>275163283984</td><td>3</td><td>3</td><td>3</td><td>3</td><td>3</td><td>0</td><td>0</td><td>0</td><td>0</td><td>0</td><td>336.439672899</td><td>-0.837214972952</td><td>0.916541864135</td><td>-0.399671754478</td><td>-0.0146116378444</td><td>0.0560736630582</td><td>0.0605960536041</td><td>-46.2818539722</td><td>63.7322347065</td><td>-0.1980266</td><td>-0.09110503</td><td>-0.1965859</td><td>-0.07074645</td><td>-0.00190623</td><td>0.1510203</td><td>0.1141064</td><td>0.1483429</td><td>0.2375771</td><td>0.009424041</td><td>0.3412722</td><td>0.2511049</td><td>0.1821222</td><td>0.1380977</td><td>0.09791302</td><td>1.612689</td><td>1.647384</td><td>1.540417</td><td>1.568649</td><td>1.591149</td><td>51075</td><td>1.200841</td><td>1.200933</td><td>1.200881</td><td>1.200844</td><td>1.200871</td><td>0.00614553</td><td>0.006145526</td><td>0.00614553</td><td>0.006145526</td><td>0.006145523</td><td>15</td><td>15</td><td>15</td><td>15</td><td>15</td><td>0</td><td>12748477771931</td><td>1237645876861272064</td><td>1237645876861272065</td><td>0</td><td>20.43744</td><td>14.29981</td><td>14.17228</td><td>15.55754</td><td>14.21933</td><td>0.3942777</td><td>0.002973732</td><td>0.002854256</td><td>0.007072087</td><td>0.01080392</td><td>20.09617</td><td>14.0487</td><td>13.99016</td><td>15.41945</td><td>14.12142</td><td>0</td><td>0</td><td>0</td><td>0</td><td>0</td><td>8</td><td>-1</td><td>-1</td><td>0</td><td>0</td><td>0</td><td>0.7847437</td><td>1</td><td>1</td><td>1</td><td>1</td><td>1</td><td>0.007360895</td><td>0.003194505</td><td>0.004770896</td><td>0.006899046</td><td>0.03399558</td><td>4412900267.56</td><td>4412900411.03</td><td>4412900124.1</td><td>4412900195.86</td><td>4412900339.29</td></tr>\n",
       "<tr><td>1237645876861272068</td><td>2</td><td>94</td><td>301</td><td>1</td><td>11</td><td>4</td><td>4</td><td>0</td><td>6</td><td>0</td><td>1</td><td>0</td><td>72374322375037718</td><td>23.17957</td><td>0.06664403</td><td>1874.838</td><td>0.06603852</td><td>0.0</td><td>-9999.0</td><td>0.0</td><td>-9999.0</td><td>29.69317</td><td>36.90906</td><td>23.17957</td><td>27.06241</td><td>32.71784</td><td>0.1466629</td><td>0.1504487</td><td>0.06664403</td><td>0.1514963</td><td>0.1459003</td><td>1878.377</td><td>1879.525</td><td>1874.838</td><td>1873.279</td><td>1875.121</td><td>0.1735362</td><td>0.151545</td><td>0.06603852</td><td>0.157353</td><td>0.1627721</td><td>2.853267</td><td>3.784218</td><td>5.566958</td><td>11.9891</td><td>39.45669</td><td>2.725649</td><td>0.6115628</td><td>44201.05</td><td>5290.05</td><td>5435.583</td><td>22.61775</td><td>25.16426</td><td>21.04861</td><td>20.78307</td><td>21.48653</td><td>0.7448401</td><td>8.485237</td><td>0.06119134</td><td>0.1008104</td><td>0.5870531</td><td>21.12244</td><td>19.61684</td><td>19.53762</td><td>19.14435</td><td>19.98313</td><td>0.1827955</td><td>0.09576647</td><td>0.02185186</td><td>0.02369498</td><td>0.1964343</td><td>21.87056</td><td>20.38641</td><td>20.26324</td><td>19.98233</td><td>20.72492</td><td>0.2333247</td><td>0.131109</td><td>0.02876954</td><td>0.03424258</td><td>0.277569</td><td>23.2447</td><td>25.10446</td><td>21.88994</td><td>21.59731</td><td>21.88836</td><td>1.075463</td><td>6.161555</td><td>0.09785284</td><td>0.1251373</td><td>0.5684859</td><td>0.8753784</td><td>-0.008269283</td><td>3.802989</td><td>4.854857</td><td>2.327926</td><td>2.515513</td><td>0.5042664</td><td>21.68166</td><td>4.894445</td><td>0.4495001</td><td>3.551006</td><td>14.23135</td><td>15.30827</td><td>21.99025</td><td>10.10269</td><td>2.7805</td><td>0.6345415</td><td>10.53205</td><td>4.340695</td><td>0.2930341</td><td>1.774586</td><td>7.004308</td><td>7.845163</td><td>10.1609</td><td>5.022202</td><td>6.708932</td><td>1.396905</td><td>23.11918</td><td>9.72538</td><td>0.5581505</td><td>0.4647239</td><td>0.001647136</td><td>1.745772</td><td>2.282452</td><td>1.444784</td><td>3.462315</td><td>0.9582671</td><td>39.64565</td><td>14.09938</td><td>0.8526856</td><td>0.5821559</td><td>2.969271</td><td>0.5648978</td><td>0.5837139</td><td>3.745568</td><td>0.3373594</td><td>-1000.0</td><td>0.0284605</td><td>0.03837101</td><td>3.509832</td><td>0.2856772</td><td>0.3687699</td><td>0.2625963</td><td>0.2818784</td><td>0.3183337</td><td>-1000.0</td><td>-1000.0</td><td>0.01562261</td><td>0.02068723</td><td>0.1818067</td><td>0.4716928</td><td>1.120023</td><td>0.4551589</td><td>0.4702754</td><td>0.5317295</td><td>-1000.0</td><td>-1000.0</td><td>0.0529903</td><td>0.06818597</td><td>-1000.0</td><td>0.05701445</td><td>-0.4237211</td><td>0.01005156</td><td>0.01195611</td><td>-0.07725427</td><td>0.4110017</td><td>-9999.0</td><td>0.0342593</td><td>0.0428951</td><td>0.2890736</td><td>-0.1015354</td><td>-1.663693</td><td>0.1513856</td><td>-0.03362193</td><td>-0.09365359</td><td>0.4138741</td><td>-9999.0</td><td>0.0350321</td><td>0.04293742</td><td>0.2898732</td><td>0.02732195</td><td>-0.3061124</td><td>0.01765408</td><td>0.04835159</td><td>3.471295</td><td>-0.7800171</td><td>-1.386142</td><td>0.4419883</td><td>-0.005829379</td><td>2.277256</td><td>0.02400941</td><td>-1000.0</td><td>0.003997466</td><td>0.09802911</td><td>-1000.0</td><td>0.003506328</td><td>-1000.0</td><td>-0.0003531669</td><td>0.001647706</td><td>-1000.0</td><td>0.0150297</td><td>-1000.0</td><td>0.003586369</td><td>0.09814223</td><td>-1000.0</td><td>0.8961622</td><td>-375.1094</td><td>0.9034643</td><td>1.001401</td><td>0.2607262</td><td>0.03444293</td><td>-1000.0</td><td>0.004028216</td><td>0.09851313</td><td>-1000.0</td><td>1.965851</td><td>8.380136</td><td>1.63431</td><td>1.330951</td><td>1.493961</td><td>0.0566095</td><td>0.04525974</td><td>0.007930175</td><td>0.1324188</td><td>0.02255016</td><td>-0.05276328</td><td>-0.009676965</td><td>-0.0326623</td><td>-0.08726448</td><td>-0.04511428</td><td>5.987153</td><td>6.244921</td><td>5.461177</td><td>5.659697</td><td>5.826593</td><td>2.056303</td><td>2.07466</td><td>2.060937</td><td>2.090088</td><td>2.085905</td><td>0.001910662</td><td>29.66034</td><td>0.001967655</td><td>0.0001028154</td><td>3.241978</td><td>5.606774</td><td>2.747957</td><td>1.102052</td><td>0.1032848</td><td>17.45348</td><td>0.1302617</td><td>0.3822713</td><td>0.05167414</td><td>0.2941826</td><td>0.467286</td><td>0.419034</td><td>0.2092901</td><td>29.28445</td><td>178.722</td><td>2.254002</td><td>134.0704</td><td>87.76256</td><td>45.11191</td><td>90.37666</td><td>18.91315</td><td>22.64315</td><td>19.34943</td><td>21.3114</td><td>20.91679</td><td>20.02921</td><td>0.3987353</td><td>0.1410081</td><td>0.07911237</td><td>0.09302726</td><td>0.7320102</td><td>0.8541144</td><td>18.20609</td><td>2.983583</td><td>4.29065</td><td>9.678311</td><td>9.177314</td><td>0.1788481</td><td>21.02241</td><td>7.347428</td><td>0.02294967</td><td>0.037875</td><td>59.32798</td><td>0.0001140316</td><td>0.00074584</td><td>9.193288e-06</td><td>65.70277</td><td>2.927481</td><td>0.111877</td><td>0.5189853</td><td>1.759898e-05</td><td>0.0500887</td><td>0.6885599</td><td>0.3053074</td><td>0.07370135</td><td>0.1530004</td><td>140.0341</td><td>0.3662508</td><td>93.53153</td><td>63.84426</td><td>451.4425</td><td>134.3377</td><td>63.33297</td><td>45.07291</td><td>90.35601</td><td>84.49937</td><td>22.64303</td><td>15.89897</td><td>21.31149</td><td>20.91684</td><td>21.11136</td><td>0.3988176</td><td>0.05508819</td><td>0.07911208</td><td>0.09302732</td><td>0.7031226</td><td>22.6434</td><td>24.94267</td><td>21.31148</td><td>20.91672</td><td>21.11131</td><td>0.3988404</td><td>1.037324</td><td>0.07911208</td><td>0.09304262</td><td>0.4348766</td><td>22.64303</td><td>15.89897</td><td>21.31149</td><td>20.91684</td><td>20.02921</td><td>0.3988176</td><td>0.05508819</td><td>0.07911208</td><td>0.09302732</td><td>0.7320102</td><td>0.8542111</td><td>436.9305</td><td>2.983354</td><td>4.29043</td><td>3.440572</td><td>9.171651</td><td>0.00203473</td><td>21.02577</td><td>7.348168</td><td>0.1699781</td><td>0.8539059</td><td>0.02858794</td><td>2.98336</td><td>4.290927</td><td>3.440738</td><td>9.176524</td><td>32.9804</td><td>21.02568</td><td>7.34406</td><td>0.4443113</td><td>0.8542111</td><td>436.9305</td><td>2.983354</td><td>4.29043</td><td>9.678311</td><td>9.171651</td><td>0.00203473</td><td>21.02577</td><td>7.348168</td><td>0.02294967</td><td>1.535985</td><td>0.4163358</td><td>3.14154</td><td>3.108408</td><td>2.569085</td><td>6.216181</td><td>11.26749</td><td>4.794681</td><td>0.5258988</td><td>0.05289077</td><td>-13.92117</td><td>-416.8351</td><td>-95.76134</td><td>-32.28881</td><td>-3.577883e-05</td><td>-15.37605</td><td>-236.5724</td><td>-99.04765</td><td>-34.49699</td><td>-0.0001718966</td><td>-15.37521</td><td>-393.1852</td><td>-99.0482</td><td>-34.49688</td><td>-0.0001027576</td><td>0.0</td><td>0.0</td><td>0.0</td><td>0.0</td><td>1.0</td><td>134647825</td><td>9007749153595669</td><td>76561743823798292</td><td>134647825</td><td>9007199389389329</td><td>6</td><td>3</td><td>6</td><td>6</td><td>3</td><td>1</td><td>0</td><td>1</td><td>1</td><td>0</td><td>336.435229009</td><td>-0.838062854822</td><td>0.91651066433</td><td>-0.399742754257</td><td>-0.0146264345933</td><td>0.0263823677932</td><td>0.026142664794</td><td>-46.2790031973</td><td>63.727152789</td><td>-0.06714018</td><td>-0.05863041</td><td>0.0</td><td>-0.06776045</td><td>-0.06753292</td><td>0.03233697</td><td>0.06367435</td><td>0.0</td><td>0.04217763</td><td>0.04324905</td><td>0.3429893</td><td>0.2523682</td><td>0.1830385</td><td>0.1387926</td><td>0.09840565</td><td>1.612689</td><td>1.647384</td><td>1.540417</td><td>1.568649</td><td>1.591149</td><td>51075</td><td>1.200853</td><td>1.200945</td><td>1.200893</td><td>1.200856</td><td>1.200882</td><td>0.006146088</td><td>0.006146088</td><td>0.006146086</td><td>0.006146088</td><td>0.006146088</td><td>8</td><td>8</td><td>8</td><td>8</td><td>8</td><td>0</td><td>12748477768185</td><td>1237645876861272064</td><td>1237645876861272065</td><td>0</td><td>22.6434</td><td>24.94267</td><td>21.31148</td><td>20.91672</td><td>21.11131</td><td>0.3988404</td><td>1.037324</td><td>0.07911208</td><td>0.09304262</td><td>0.4348766</td><td>22.30042</td><td>24.69031</td><td>21.12845</td><td>20.77792</td><td>21.01291</td><td>0</td><td>0</td><td>0</td><td>0</td><td>0</td><td>8</td><td>-1</td><td>-1</td><td>0</td><td>0</td><td>0</td><td>0.7847437</td><td>1</td><td>1</td><td>1</td><td>1</td><td>1</td><td>0.007359535</td><td>0.003193834</td><td>0.004770553</td><td>0.006899109</td><td>0.03401094</td><td>4412900266.5</td><td>4412900409.97</td><td>4412900123.05</td><td>4412900194.79</td><td>4412900338.22</td></tr>\n",
       "<tr><td>1237645876861272069</td><td>2</td><td>94</td><td>301</td><td>1</td><td>11</td><td>5</td><td>3</td><td>23</td><td>3</td><td>0</td><td>0</td><td>0</td><td>1046952839876620</td><td>55.69142</td><td>1.008007</td><td>1909.277</td><td>1.006504</td><td>-9999.0</td><td>-9999.0</td><td>-9999.0</td><td>-9999.0</td><td>62.36597</td><td>69.6233</td><td>55.61277</td><td>59.41459</td><td>64.98219</td><td>1.0</td><td>1.0</td><td>1.0</td><td>1.0</td><td>1.0</td><td>1911.861</td><td>1913.942</td><td>1909.19</td><td>1906.434</td><td>1908.673</td><td>1.0</td><td>1.0</td><td>1.0</td><td>1.0</td><td>1.0</td><td>1.919793</td><td>2.094904</td><td>5.558422</td><td>12.13122</td><td>39.48755</td><td>1579.849</td><td>7908.393</td><td>3680.236</td><td>1597.539</td><td>75.20565</td><td>10.93026</td><td>9.649343</td><td>14.39351</td><td>9.322447</td><td>11.05111</td><td>0.0003568392</td><td>9.076003e-05</td><td>0.01763135</td><td>9.239157e-05</td><td>0.0005127565</td><td>11.12269</td><td>9.729872</td><td>14.29499</td><td>9.403128</td><td>12.37718</td><td>0.002117031</td><td>0.0008041924</td><td>27053.5</td><td>0.0003135918</td><td>0.002742504</td><td>11.16468</td><td>9.7367</td><td>15.14958</td><td>9.410851</td><td>13.30095</td><td>0.001501904</td><td>272.191</td><td>0.03825466</td><td>435.4304</td><td>77190.23</td><td>10.91702</td><td>9.639806</td><td>12.02559</td><td>9.307714</td><td>11.00961</td><td>0.0007172226</td><td>0.0005064004</td><td>0.00604449</td><td>0.0009200504</td><td>0.002225147</td><td>42451.6</td><td>138122.0</td><td>1748.219</td><td>186647.2</td><td>37979.98</td><td>0.005137069</td><td>0.007501251</td><td>0.001240755</td><td>0.003964069</td><td>0.003108256</td><td>35556.8</td><td>128248.2</td><td>1914.269</td><td>173280.2</td><td>11197.64</td><td>0.0002080408</td><td>0.000110822</td><td>4.395371e-16</td><td>0.0003992284</td><td>0.001249974</td><td>34208.13</td><td>127444.1</td><td>871.3009</td><td>172051.9</td><td>4782.129</td><td>0.0004465864</td><td>9.796284e-16</td><td>0.001061069</td><td>2.100353e-16</td><td>8.651298e-18</td><td>42972.72</td><td>139340.6</td><td>15479.77</td><td>189196.9</td><td>39459.93</td><td>0.001240952</td><td>0.0002367582</td><td>0.0001346481</td><td>3.890426e-05</td><td>0.0001529039</td><td>3.626512</td><td>5.865285</td><td>5.924977</td><td>6.612851</td><td>3.376152</td><td>0.04721639</td><td>0.1171457</td><td>0.2062254</td><td>0.2264597</td><td>0.03578043</td><td>2.132387</td><td>3.15538</td><td>3.055404</td><td>3.14094</td><td>1.938867</td><td>0.0039045</td><td>0.01115244</td><td>0.01183371</td><td>0.01981186</td><td>0.002471271</td><td>5.386931</td><td>7.268785</td><td>7.511651</td><td>8.347478</td><td>4.625163</td><td>0.0837549</td><td>0.1248225</td><td>0.136664</td><td>0.211992</td><td>0.04243303</td><td>0.1375507</td><td>0.1724622</td><td>0.1478541</td><td>0.1448719</td><td>0.006263526</td><td>0.0005208064</td><td>0.0002222823</td><td>0.0002078873</td><td>0.0002314358</td><td>0.0003294136</td><td>-0.02397688</td><td>-0.00162618</td><td>-0.01686051</td><td>-0.01791499</td><td>-0.006170129</td><td>0.0005115176</td><td>0.0002159525</td><td>0.0002035443</td><td>0.000226799</td><td>0.0003294132</td><td>0.13372</td><td>0.3736049</td><td>0.3305463</td><td>0.3212621</td><td>0.08827689</td><td>-0.0515472</td><td>-0.01103897</td><td>-0.0597031</td><td>-0.04610793</td><td>0.01391626</td><td>-1000.0</td><td>6.434538e-05</td><td>8.494193e-05</td><td>0.0001305374</td><td>-1000.0</td><td>-1000.0</td><td>4.454847e-06</td><td>1.264333e-05</td><td>1.677672e-05</td><td>-1000.0</td><td>-1000.0</td><td>6.936427e-05</td><td>8.984035e-05</td><td>0.0001376979</td><td>-1000.0</td><td>20.48003</td><td>88.20849</td><td>80.14245</td><td>81.03261</td><td>17.78592</td><td>-1000.0</td><td>0.007042403</td><td>0.008065322</td><td>0.01240361</td><td>-1000.0</td><td>0.4774135</td><td>1.934744</td><td>1.925219</td><td>1.954374</td><td>0.5622787</td><td>0.05364532</td><td>0.04775595</td><td>0.006989957</td><td>0.1493888</td><td>0.05192978</td><td>-0.05662155</td><td>-0.01052805</td><td>-0.03375066</td><td>-0.09266223</td><td>-0.03857257</td><td>5.982237</td><td>6.241158</td><td>5.463478</td><td>5.677073</td><td>5.842392</td><td>2.054247</td><td>2.072663</td><td>2.05699</td><td>2.072808</td><td>2.068755</td><td>2.439647</td><td>5.279808</td><td>5.527382</td><td>8.4931</td><td>2.198954</td><td>0.02404509</td><td>0.06350367</td><td>0.0788151</td><td>0.128368</td><td>0.01749535</td><td>0.8208935</td><td>0.6998684</td><td>0.752641</td><td>0.7688779</td><td>0.8500103</td><td>0.007696827</td><td>0.008492201</td><td>0.01009623</td><td>0.01088099</td><td>0.009486295</td><td>169.1919</td><td>178.6332</td><td>158.1425</td><td>168.0054</td><td>168.0315</td><td>13.19427</td><td>12.87891</td><td>12.63709</td><td>11.96493</td><td>11.82333</td><td>0.006837889</td><td>0.006246508</td><td>0.006933133</td><td>0.006386207</td><td>0.007215245</td><td>5275.825</td><td>7053.979</td><td>8813.799</td><td>16369.15</td><td>18649.61</td><td>0.0009057824</td><td>0.0006071635</td><td>0.0003156918</td><td>0.0001078723</td><td>6.510392e-05</td><td>2.655643</td><td>4.176379</td><td>4.185707</td><td>4.88538</td><td>2.10687</td><td>0.03159906</td><td>0.03515916</td><td>0.03776818</td><td>0.03878028</td><td>0.02097383</td><td>0.9272634</td><td>0.8339661</td><td>0.871532</td><td>0.8648166</td><td>0.9997663</td><td>0.008306542</td><td>0.005714754</td><td>0.006542562</td><td>0.006912266</td><td>0.01396164</td><td>167.555</td><td>178.6977</td><td>159.2674</td><td>167.0513</td><td>164.494</td><td>12.98387</td><td>12.46141</td><td>12.20695</td><td>11.94459</td><td>11.43976</td><td>0.007950317</td><td>0.006237666</td><td>0.006898903</td><td>0.006527536</td><td>0.008144902</td><td>11.07512</td><td>9.662305</td><td>12.20694</td><td>9.312468</td><td>12.28303</td><td>0.0008152053</td><td>0.0004483669</td><td>0.006898903</td><td>0.0006202096</td><td>0.008458752</td><td>13.1023</td><td>12.64387</td><td>12.39441</td><td>11.95594</td><td>11.64456</td><td>0.007460112</td><td>0.006350525</td><td>0.007038347</td><td>0.00645037</td><td>0.007905446</td><td>6404.016</td><td>10361.82</td><td>13098.5</td><td>16678.75</td><td>26551.84</td><td>0.0004547524</td><td>0.0002821839</td><td>0.0001443594</td><td>9.945421e-05</td><td>2.520505e-05</td><td>37149.57</td><td>136482.9</td><td>13098.53</td><td>188370.5</td><td>12212.03</td><td>0.001285307</td><td>0.0003147931</td><td>0.0001443588</td><td>8.636667e-05</td><td>0.0001104741</td><td>5742.229</td><td>8758.924</td><td>11021.35</td><td>16505.39</td><td>21987.43</td><td>0.0006423872</td><td>0.0003810026</td><td>0.0001959014</td><td>0.0001039987</td><td>3.90164e-05</td><td>42451.6</td><td>138122.0</td><td>13842.25</td><td>186647.2</td><td>37979.98</td><td>3.408422e-05</td><td>1.571872e-05</td><td>1.012325e-05</td><td>1.188098e-05</td><td>5.786737e-06</td><td>-10746.86</td><td>-13591.94</td><td>-10086.1</td><td>-11603.79</td><td>-8710.542</td><td>-4366.761</td><td>-2417.406</td><td>-1547.95</td><td>-1634.075</td><td>-3517.501</td><td>-1113.912</td><td>-2459.897</td><td>-1668.405</td><td>-1024.432</td><td>-1104.166</td><td>0.5865903</td><td>0.4845748</td><td>0.4847827</td><td>0.5599504</td><td>0.5776107</td><td>586198028302848008</td><td>864858255247970348</td><td>292901102035042316</td><td>864858254711099404</td><td>585635077812555784</td><td>3</td><td>3</td><td>3</td><td>3</td><td>3</td><td>0</td><td>0</td><td>0</td><td>0</td><td>0</td><td>336.438801754</td><td>-0.834268569934</td><td>0.916536474818</td><td>-0.39968598969</td><td>-0.0145602188812</td><td>0.399039788651</td><td>0.39844470516</td><td>-46.2792888137</td><td>63.7346816599</td><td>0.004137615</td><td>0.02424491</td><td>-0.03111347</td><td>-0.1244067</td><td>-0.1669967</td><td>-0.3618374</td><td>0.03066561</td><td>-0.03441272</td><td>-0.4659778</td><td>-0.325023</td><td>0.3411085</td><td>0.2509844</td><td>0.1820348</td><td>0.1380315</td><td>0.09786604</td><td>1.612027</td><td>1.646887</td><td>1.540742</td><td>1.571055</td><td>1.593305</td><td>51075</td><td>1.200801</td><td>1.200893</td><td>1.20084</td><td>1.200805</td><td>1.200831</td><td>0.006145624</td><td>0.006145623</td><td>0.006145625</td><td>0.006145629</td><td>0.00614563</td><td>11</td><td>11</td><td>11</td><td>11</td><td>11</td><td>0</td><td>12748477821828</td><td>1237645876861272064</td><td>1237645876861272065</td><td>0</td><td>11.07512</td><td>9.662305</td><td>12.20694</td><td>9.312468</td><td>12.28303</td><td>0.0008152053</td><td>0.0004483669</td><td>0.006898903</td><td>0.0006202096</td><td>0.008458752</td><td>10.73401</td><td>9.411324</td><td>12.02491</td><td>9.174438</td><td>12.18517</td><td>0</td><td>0</td><td>0</td><td>0</td><td>0</td><td>8</td><td>-1</td><td>-1</td><td>0</td><td>0</td><td>0</td><td>0.7847437</td><td>1</td><td>1</td><td>1</td><td>1</td><td>1</td><td>0.007364357</td><td>0.003194988</td><td>0.004769823</td><td>0.006900075</td><td>0.03399847</td><td>4412900267.36</td><td>4412900410.83</td><td>4412900123.9</td><td>4412900195.64</td><td>4412900339.07</td></tr>\n",
       "<tr><td>1237645876861272070</td><td>2</td><td>94</td><td>301</td><td>1</td><td>11</td><td>6</td><td>4</td><td>0</td><td>3</td><td>0</td><td>0</td><td>0</td><td>483787534110740</td><td>55.64154</td><td>1.008007</td><td>1909.233</td><td>1.006505</td><td>-9999.0</td><td>-9999.0</td><td>-9999.0</td><td>-9999.0</td><td>62.36597</td><td>69.57333</td><td>55.56983</td><td>59.28795</td><td>64.98219</td><td>1.0</td><td>1.0</td><td>1.0</td><td>1.0</td><td>1.0</td><td>1911.861</td><td>1913.897</td><td>1909.159</td><td>1906.368</td><td>1908.673</td><td>1.0</td><td>1.0</td><td>1.0</td><td>1.0</td><td>1.0</td><td>1.919886</td><td>2.405131</td><td>5.844774</td><td>13.12642</td><td>39.48755</td><td>1169.433</td><td>1.49673</td><td>1.199401</td><td>0.3127023</td><td>66.48414</td><td>10.93025</td><td>9.651373</td><td>14.39458</td><td>9.326379</td><td>11.05089</td><td>0.0003568423</td><td>9.674886e-05</td><td>0.01989413</td><td>0.0001071573</td><td>0.0005127314</td><td>14.09051</td><td>14.55361</td><td>14.2884</td><td>14.13724</td><td>12.38597</td><td>0.03213203</td><td>22995.13</td><td>26889.83</td><td>0.03106274</td><td>0.002742532</td><td>15.02352</td><td>15.38503</td><td>15.14608</td><td>14.99482</td><td>13.32759</td><td>0.05168523</td><td>0.05621758</td><td>0.04718288</td><td>74559.99</td><td>79108.02</td><td>10.91816</td><td>9.645334</td><td>12.07492</td><td>9.318551</td><td>11.01317</td><td>0.0005535269</td><td>0.0002345796</td><td>0.00311234</td><td>0.0003050379</td><td>0.001696462</td><td>42452.17</td><td>137864.0</td><td>1746.501</td><td>185972.4</td><td>37987.96</td><td>0.005136843</td><td>0.006626061</td><td>0.0009764746</td><td>0.002968303</td><td>0.003107254</td><td>2310.986</td><td>1508.543</td><td>1925.921</td><td>2213.625</td><td>11107.42</td><td>0.0002137852</td><td>9.796284e-16</td><td>4.395371e-16</td><td>0.0002493223</td><td>0.001270337</td><td>978.5743</td><td>701.4357</td><td>874.1146</td><td>1004.783</td><td>4666.198</td><td>0.0004608167</td><td>0.0007581034</td><td>0.0006930153</td><td>2.100353e-16</td><td>8.651298e-18</td><td>42927.43</td><td>138632.9</td><td>14792.11</td><td>187318.0</td><td>39330.77</td><td>0.002087859</td><td>0.001114642</td><td>0.0005561783</td><td>0.0003610621</td><td>0.0002647862</td><td>3.623888</td><td>5.616478</td><td>5.601624</td><td>5.626596</td><td>3.352498</td><td>0.04649238</td><td>0.08853307</td><td>0.133759</td><td>0.1665416</td><td>0.03603999</td><td>2.127341</td><td>3.043512</td><td>2.963633</td><td>2.944434</td><td>1.925831</td><td>0.002993821</td><td>0.004989769</td><td>0.005581701</td><td>0.005674436</td><td>0.001810296</td><td>5.25538</td><td>6.393928</td><td>6.752221</td><td>6.911809</td><td>4.557647</td><td>0.06081221</td><td>0.05218175</td><td>0.06298916</td><td>0.07050715</td><td>0.03033048</td><td>0.1382458</td><td>0.1737327</td><td>0.1508989</td><td>0.1470624</td><td>0.006304604</td><td>0.0005227547</td><td>0.0003218233</td><td>0.0002961019</td><td>0.0004428732</td><td>0.0003288463</td><td>-0.02352902</td><td>-0.003242874</td><td>-0.01880237</td><td>-0.01965153</td><td>-0.00489909</td><td>0.0005133254</td><td>0.0003125317</td><td>0.0002896838</td><td>0.0004337624</td><td>0.0003288412</td><td>0.13372</td><td>0.3693368</td><td>0.3273313</td><td>0.3186926</td><td>0.08827689</td><td>-0.0515472</td><td>-0.01376492</td><td>-0.05904489</td><td>-0.0382988</td><td>0.01391626</td><td>-1000.0</td><td>6.861659e-05</td><td>8.726357e-05</td><td>0.0001384382</td><td>-1000.0</td><td>-1000.0</td><td>5.264697e-06</td><td>1.283889e-05</td><td>1.613583e-05</td><td>-1000.0</td><td>-1000.0</td><td>7.383021e-05</td><td>9.219011e-05</td><td>0.0001459466</td><td>-1000.0</td><td>20.48003</td><td>85.83325</td><td>78.81226</td><td>77.94965</td><td>17.78592</td><td>-1000.0</td><td>0.007270965</td><td>0.008120788</td><td>0.01261663</td><td>-1000.0</td><td>0.4774135</td><td>1.907782</td><td>1.907629</td><td>1.914456</td><td>0.5622787</td><td>0.05364532</td><td>0.04775595</td><td>0.006989957</td><td>0.1493888</td><td>0.05192978</td><td>-0.05662155</td><td>-0.01052805</td><td>-0.03375066</td><td>-0.09266223</td><td>-0.03857257</td><td>5.982237</td><td>6.241158</td><td>5.463478</td><td>5.677073</td><td>5.842392</td><td>2.054247</td><td>2.072663</td><td>2.05699</td><td>2.072808</td><td>2.068755</td><td>2.429679</td><td>3.28256</td><td>3.707797</td><td>4.114328</td><td>2.195392</td><td>0.02361239</td><td>0.05082642</td><td>0.05365602</td><td>0.04473338</td><td>0.01737839</td><td>0.821066</td><td>0.6802344</td><td>0.7099033</td><td>0.7398965</td><td>0.8505293</td><td>0.007680269</td><td>0.007311473</td><td>0.009281358</td><td>0.01016978</td><td>0.009513584</td><td>168.2923</td><td>2.499704</td><td>161.7965</td><td>165.4473</td><td>167.3156</td><td>13.19451</td><td>13.31838</td><td>13.07156</td><td>12.76546</td><td>11.82318</td><td>0.006845259</td><td>0.006784381</td><td>0.007439591</td><td>0.007065938</td><td>0.007217966</td><td>5274.697</td><td>4705.963</td><td>5907.104</td><td>7830.98</td><td>18652.16</td><td>0.0009042195</td><td>0.001156461</td><td>0.0006103813</td><td>0.0003850142</td><td>6.503704e-05</td><td>2.660605</td><td>3.819179</td><td>3.851785</td><td>3.899007</td><td>2.105996</td><td>0.03165897</td><td>0.01969795</td><td>0.02222319</td><td>0.02498954</td><td>0.0214945</td><td>0.928598</td><td>0.8404562</td><td>0.8722468</td><td>0.8820217</td><td>0.9997451</td><td>0.008329435</td><td>0.005149867</td><td>0.00580349</td><td>0.00621579</td><td>0.01373176</td><td>167.1933</td><td>1.541677</td><td>160.8167</td><td>162.7367</td><td>164.7173</td><td>12.97904</td><td>12.63028</td><td>12.33172</td><td>12.17797</td><td>11.43767</td><td>0.007933144</td><td>0.006307019</td><td>0.006927758</td><td>0.00673175</td><td>0.008140628</td><td>11.06308</td><td>9.673881</td><td>12.33177</td><td>9.333778</td><td>12.164</td><td>0.0008858423</td><td>0.0003899078</td><td>0.006927762</td><td>0.0004981197</td><td>0.008323545</td><td>13.15823</td><td>12.88329</td><td>12.59817</td><td>12.43937</td><td>11.76545</td><td>0.00711308</td><td>0.006668337</td><td>0.00735293</td><td>0.007057732</td><td>0.007507994</td><td>6432.585</td><td>8869.253</td><td>11676.53</td><td>13452.79</td><td>26602.98</td><td>0.0004526753</td><td>0.0003767266</td><td>0.0001801506</td><td>0.0001437368</td><td>2.513461e-05</td><td>37563.84</td><td>135035.4</td><td>11675.97</td><td>184709.2</td><td>13627.03</td><td>0.001064623</td><td>0.0004252354</td><td>0.0001801677</td><td>0.0001392529</td><td>9.162827e-05</td><td>5453.937</td><td>7025.586</td><td>9135.475</td><td>10574.33</td><td>19670.67</td><td>0.0007832728</td><td>0.0005370917</td><td>0.0002612555</td><td>0.0002116471</td><td>5.404584e-05</td><td>42452.17</td><td>137864.0</td><td>13648.12</td><td>185972.4</td><td>37987.96</td><td>3.512052e-05</td><td>1.62544e-05</td><td>1.051171e-05</td><td>1.182789e-05</td><td>5.583858e-06</td><td>-10719.88</td><td>-12796.24</td><td>-9650.954</td><td>-10622.71</td><td>-8705.927</td><td>-4299.418</td><td>-1953.404</td><td>-1219.293</td><td>-1483.21</td><td>-3503.741</td><td>-1113.793</td><td>-3950.61</td><td>-2833.76</td><td>-2672.359</td><td>-1108.129</td><td>0.8452014</td><td>0.442839</td><td>0.4404345</td><td>0.5120158</td><td>0.871898</td><td>587886877542354960</td><td>867110054306680852</td><td>295152901764845588</td><td>867110054440898580</td><td>587886877542354960</td><td>3</td><td>3</td><td>3</td><td>3</td><td>3</td><td>0</td><td>0</td><td>0</td><td>0</td><td>0</td><td>336.438796268</td><td>-0.834273210949</td><td>0.916536435471</td><td>-0.399686076966</td><td>-0.0145602998736</td><td>0.399039835467</td><td>0.398445127137</td><td>-46.279287612</td><td>63.7346714107</td><td>0.02388517</td><td>0.02421719</td><td>-0.02837113</td><td>-0.1548035</td><td>-0.1472471</td><td>-0.3451298</td><td>0.02958731</td><td>-0.02933779</td><td>-0.4747266</td><td>-0.3080547</td><td>0.3411085</td><td>0.2509844</td><td>0.1820348</td><td>0.1380315</td><td>0.09786604</td><td>1.612027</td><td>1.646887</td><td>1.540742</td><td>1.571055</td><td>1.593305</td><td>51075</td><td>1.200801</td><td>1.200893</td><td>1.20084</td><td>1.200806</td><td>1.200831</td><td>0.006145624</td><td>0.006145624</td><td>0.006145625</td><td>0.00614563</td><td>0.00614563</td><td>11</td><td>11</td><td>11</td><td>11</td><td>11</td><td>0</td><td>12748477821880</td><td>1237645876861272064</td><td>1237645876861272069</td><td>0</td><td>11.06308</td><td>9.673881</td><td>12.33177</td><td>9.333778</td><td>12.164</td><td>0.0008858423</td><td>0.0003899078</td><td>0.006927762</td><td>0.0004981197</td><td>0.008323545</td><td>10.72197</td><td>9.422896</td><td>12.14973</td><td>9.195747</td><td>12.06613</td><td>0</td><td>0</td><td>0</td><td>0</td><td>0</td><td>4098</td><td>79930204</td><td>3117257</td><td>12</td><td>12</td><td>7</td><td>0.7847437</td><td>1</td><td>1</td><td>1</td><td>1</td><td>1</td><td>0.007364357</td><td>0.003194988</td><td>0.004769823</td><td>0.006900075</td><td>0.03399847</td><td>4412900267.36</td><td>4412900410.83</td><td>4412900123.9</td><td>4412900195.64</td><td>4412900339.07</td></tr>\n",
       "<tr><td>1237645876861272071</td><td>2</td><td>94</td><td>301</td><td>1</td><td>11</td><td>7</td><td>2</td><td>0</td><td>3</td><td>0</td><td>0</td><td>0</td><td>35253361971476</td><td>63.2734</td><td>0.02021255</td><td>1882.629</td><td>0.01729023</td><td>0.004826859</td><td>0.006174988</td><td>0.001783005</td><td>0.006133607</td><td>69.77955</td><td>77.32909</td><td>63.2734</td><td>67.45833</td><td>73.42606</td><td>0.1258967</td><td>0.1340899</td><td>0.02021255</td><td>0.02375231</td><td>1.0</td><td>1886.387</td><td>1887.254</td><td>1882.629</td><td>1880.972</td><td>1882.426</td><td>0.1508247</td><td>0.1362413</td><td>0.01729023</td><td>0.02553849</td><td>1.0</td><td>1.910699</td><td>10.59088</td><td>16.32302</td><td>24.24711</td><td>39.47403</td><td>1588.213</td><td>0.0008134551</td><td>0.0004967983</td><td>0.0004334352</td><td>75.5061</td><td>24.63494</td><td>18.36828</td><td>18.00982</td><td>17.60033</td><td>22.82686</td><td>1.022882</td><td>0.893155</td><td>0.7622772</td><td>0.5859707</td><td>1.075113</td><td>19.41893</td><td>18.22169</td><td>17.82364</td><td>17.47902</td><td>17.71019</td><td>0.02216817</td><td>0.7395034</td><td>0.6245881</td><td>0.5065975</td><td>0.02043846</td><td>20.26676</td><td>19.02037</td><td>18.55103</td><td>18.21535</td><td>18.37643</td><td>0.0327183</td><td>1.022852</td><td>0.7925671</td><td>0.6457271</td><td>0.02529385</td><td>24.33637</td><td>15.27602</td><td>14.96194</td><td>14.35876</td><td>28.09313</td><td>156.7206</td><td>1.176234</td><td>0.9398327</td><td>0.6932552</td><td>1.291237</td><td>-6.822729e-05</td><td>44.94555</td><td>62.52735</td><td>91.173</td><td>8.350252e-05</td><td>14.37082</td><td>0.0007315003</td><td>0.0005188911</td><td>0.0004130071</td><td>0.4656044</td><td>17.07649</td><td>51.44258</td><td>74.22407</td><td>101.9504</td><td>82.39278</td><td>8.223845</td><td>0.0008145492</td><td>0.000548488</td><td>0.0004419159</td><td>0.41556</td><td>7.819115</td><td>24.65175</td><td>37.98265</td><td>51.74315</td><td>44.59708</td><td>17.98853</td><td>0.001853977</td><td>0.001300735</td><td>0.001055903</td><td>0.925397</td><td>0.07790292</td><td>775.5178</td><td>1035.675</td><td>1805.073</td><td>-94.55591</td><td>0.000568198</td><td>1.416699e-06</td><td>1.244229e-06</td><td>7.527876e-07</td><td>7.905933e-05</td><td>2.968651</td><td>15.43221</td><td>17.07205</td><td>17.81554</td><td>2.969081</td><td>-1000.0</td><td>7.87825</td><td>8.867175</td><td>9.048911</td><td>-1000.0</td><td>15.10511</td><td>7.03614</td><td>7.663342</td><td>8.316065</td><td>-9999.0</td><td>-1000.0</td><td>-1000.0</td><td>7.892536</td><td>5.105838</td><td>-9999.0</td><td>15.80876</td><td>14.2962</td><td>16.13007</td><td>16.04143</td><td>-9999.0</td><td>-1000.0</td><td>-1000.0</td><td>-1000.0</td><td>-1000.0</td><td>-9999.0</td><td>-0.4669539</td><td>-0.04480723</td><td>-0.03635759</td><td>-0.1068286</td><td>-0.551858</td><td>14.07011</td><td>0.3937682</td><td>0.3975325</td><td>0.2448313</td><td>-9999.0</td><td>-0.04068973</td><td>-0.03413632</td><td>-0.007340946</td><td>0.002947554</td><td>-0.01963436</td><td>11.76046</td><td>0.3934377</td><td>0.3970294</td><td>0.2420862</td><td>-9999.0</td><td>-9999.0</td><td>-0.2242272</td><td>-0.1646118</td><td>-0.3527684</td><td>-9999.0</td><td>-9999.0</td><td>-0.2931529</td><td>0.06656615</td><td>0.03789814</td><td>-9999.0</td><td>-9999.0</td><td>0.005000378</td><td>0.00556562</td><td>0.004313657</td><td>-9999.0</td><td>-9999.0</td><td>-0.001315515</td><td>0.0005906579</td><td>0.0005330376</td><td>-9999.0</td><td>-9999.0</td><td>0.004905601</td><td>0.005630079</td><td>0.004606721</td><td>-9999.0</td><td>-9999.0</td><td>361.1886</td><td>359.2194</td><td>506.4421</td><td>-9999.0</td><td>-9999.0</td><td>2.043564</td><td>2.087376</td><td>2.648</td><td>-9999.0</td><td>-9999.0</td><td>2.262453</td><td>2.388766</td><td>2.264077</td><td>-9999.0</td><td>0.05364532</td><td>0.04775595</td><td>0.006989957</td><td>0.1493888</td><td>0.05192978</td><td>-0.05662155</td><td>-0.01052805</td><td>-0.03375066</td><td>-0.09266223</td><td>-0.03857257</td><td>5.982237</td><td>6.241158</td><td>5.463478</td><td>5.677073</td><td>5.842392</td><td>2.054247</td><td>2.072663</td><td>2.05699</td><td>2.072808</td><td>2.068755</td><td>16.51057</td><td>28.55529</td><td>29.65836</td><td>29.67415</td><td>0.03650201</td><td>4.031321</td><td>0.535895</td><td>0.7372818</td><td>0.3241398</td><td>0.0</td><td>0.3190765</td><td>0.7270055</td><td>0.8849999</td><td>0.8669805</td><td>0.2354467</td><td>1034.722</td><td>0.01103313</td><td>0.01287139</td><td>0.01067666</td><td>0.0</td><td>89.96738</td><td>121.9196</td><td>71.48047</td><td>82.58245</td><td>68.57424</td><td>24.35513</td><td>14.45858</td><td>14.03169</td><td>13.52116</td><td>22.82691</td><td>196.0278</td><td>0.004213387</td><td>0.0038233</td><td>0.003483801</td><td>1.772665</td><td>0.07289167</td><td>1646.519</td><td>2439.621</td><td>3904.24</td><td>1.60629e-05</td><td>0.0003664539</td><td>0.02449358</td><td>0.01354962</td><td>0.006371902</td><td>0.1712663</td><td>16.70266</td><td>8.167445</td><td>7.695286</td><td>9.972886</td><td>0.03630454</td><td>0.2155958</td><td>0.08064568</td><td>0.07473551</td><td>0.09972459</td><td>0.0</td><td>0.3325358</td><td>0.735745</td><td>0.8651711</td><td>0.7272505</td><td>0.2517064</td><td>319.6749</td><td>0.008818766</td><td>0.01031777</td><td>0.008076899</td><td>0.0</td><td>89.9673</td><td>116.7277</td><td>70.82124</td><td>85.25857</td><td>68.15373</td><td>23.70657</td><td>15.25327</td><td>14.98932</td><td>14.26538</td><td>22.82691</td><td>227.7808</td><td>0.004086946</td><td>0.003848467</td><td>0.003455729</td><td>1.770843</td><td>23.95197</td><td>14.35423</td><td>14.0317</td><td>13.51161</td><td>26.1125</td><td>17.07396</td><td>0.004254921</td><td>0.003823301</td><td>0.003484939</td><td>2.036433</td><td>24.35513</td><td>15.19132</td><td>14.50776</td><td>14.00838</td><td>22.82691</td><td>196.0278</td><td>0.004220914</td><td>0.004188993</td><td>0.003673859</td><td>1.770843</td><td>0.2695821</td><td>791.9406</td><td>1009.884</td><td>1967.202</td><td>1.609674e-05</td><td>0.0001503915</td><td>0.1125293</td><td>0.07804226</td><td>0.02550772</td><td>0.1716188</td><td>0.1878984</td><td>1812.626</td><td>2439.612</td><td>3938.743</td><td>-15.22091</td><td>0.03556294</td><td>0.01981751</td><td>0.01354972</td><td>0.006256666</td><td>0.001215459</td><td>0.07289167</td><td>838.438</td><td>1573.608</td><td>2492.573</td><td>1.609674e-05</td><td>0.0003664539</td><td>0.09412257</td><td>0.02712917</td><td>0.01405749</td><td>0.1716188</td><td>3.755199e-05</td><td>409.1405</td><td>494.9523</td><td>784.7552</td><td>0.0001734302</td><td>0.0</td><td>0.006788508</td><td>0.008243843</td><td>0.00592411</td><td>0.0</td><td>0.0</td><td>-29740.86</td><td>-31615.32</td><td>-40587.06</td><td>-3.701003e-06</td><td>0.0</td><td>-1092.285</td><td>-2025.489</td><td>-1519.675</td><td>-1.745396e-05</td><td>0.0</td><td>-3153.884</td><td>-1505.894</td><td>-2303.37</td><td>-1.745396e-05</td><td>1.0</td><td>0.05440969</td><td>0.3942847</td><td>0.2712241</td><td>0.0</td><td>9007199397777681</td><td>275148345364</td><td>4503874909933588</td><td>275282563092</td><td>9007199666213168</td><td>3</td><td>3</td><td>3</td><td>3</td><td>6</td><td>0</td><td>0</td><td>0</td><td>0</td><td>1</td><td>336.43963735</td><td>-0.837205499341</td><td>0.916541618374</td><td>-0.399672324109</td><td>-0.0146114725163</td><td>0.00800154091685</td><td>0.00684468055654</td><td>-46.2818206899</td><td>63.7322120351</td><td>-0.07005031</td><td>0.07216261</td><td>0.0</td><td>0.05728288</td><td>0.1756306</td><td>0.1169153</td><td>0.03825085</td><td>0.0</td><td>0.00487935</td><td>-0.1506727</td><td>0.3412715</td><td>0.2511043</td><td>0.1821218</td><td>0.1380974</td><td>0.0979128</td><td>1.612027</td><td>1.646887</td><td>1.540742</td><td>1.571055</td><td>1.593305</td><td>51075</td><td>1.200841</td><td>1.200934</td><td>1.200881</td><td>1.200844</td><td>1.200871</td><td>0.00614553</td><td>0.006145525</td><td>0.006145528</td><td>0.006145526</td><td>0.006145522</td><td>11</td><td>11</td><td>11</td><td>11</td><td>11</td><td>0</td><td>12748477771960</td><td>1237645876861272064</td><td>1237645876861272069</td><td>0</td><td>23.95197</td><td>14.35423</td><td>14.0317</td><td>13.51161</td><td>26.1125</td><td>17.07396</td><td>0.004254921</td><td>0.003823301</td><td>0.003484939</td><td>2.036433</td><td>23.61069</td><td>14.10312</td><td>13.84958</td><td>13.37351</td><td>26.01459</td><td>0</td><td>0</td><td>0</td><td>0</td><td>0</td><td>1025</td><td>79930230</td><td>3117273</td><td>13</td><td>13</td><td>15</td><td>0.7847437</td><td>1</td><td>1</td><td>1</td><td>1</td><td>1</td><td>0.007360895</td><td>0.003194505</td><td>0.004770896</td><td>0.006899043</td><td>0.03399558</td><td>4412900267.56</td><td>4412900411.04</td><td>4412900124.11</td><td>4412900195.86</td><td>4412900339.29</td></tr>\n",
       "<tr><td>1237645876861272072</td><td>2</td><td>94</td><td>301</td><td>1</td><td>11</td><td>8</td><td>4</td><td>0</td><td>6</td><td>0</td><td>1</td><td>0</td><td>387097082859796</td><td>68.48569</td><td>1.0</td><td>1925.37</td><td>1.0</td><td>0.0</td><td>-9999.0</td><td>0.0</td><td>-9999.0</td><td>75.10842</td><td>82.4999</td><td>68.48569</td><td>71.90909</td><td>78.16785</td><td>0.1249984</td><td>1.0</td><td>1.0</td><td>0.9965475</td><td>0.1241027</td><td>1928.818</td><td>1929.5</td><td>1925.37</td><td>1923.375</td><td>1925.592</td><td>0.1503518</td><td>1.0</td><td>1.0</td><td>0.8624199</td><td>0.1377884</td><td>4.681712</td><td>13.55667</td><td>12.59266</td><td>28.10003</td><td>46.63563</td><td>0.8247072</td><td>0.0006189392</td><td>0.1311928</td><td>0.00033139</td><td>0.08872692</td><td>24.63494</td><td>20.44439</td><td>24.80194</td><td>18.67212</td><td>22.82686</td><td>4.748651</td><td>7.392368</td><td>12.88863</td><td>1.829509</td><td>2.890414</td><td>19.40607</td><td>18.49581</td><td>18.33728</td><td>17.86559</td><td>18.33005</td><td>0.0728518</td><td>1.094222</td><td>0.07191622</td><td>0.8621113</td><td>0.09507925</td><td>20.32755</td><td>19.45321</td><td>19.21387</td><td>18.75971</td><td>19.26822</td><td>0.1121875</td><td>1.757719</td><td>0.1072491</td><td>1.300732</td><td>0.1481317</td><td>24.63453</td><td>17.79182</td><td>24.80194</td><td>15.90139</td><td>22.82679</td><td>18.8039</td><td>2.379489</td><td>52.32038</td><td>0.5703893</td><td>11.20813</td><td>-6.829224e-05</td><td>6.639946</td><td>2.239848e-05</td><td>33.97363</td><td>8.351276e-05</td><td>0.6667947</td><td>0.0004889149</td><td>0.1232005</td><td>0.0003051034</td><td>0.06441769</td><td>17.27994</td><td>39.96434</td><td>46.24724</td><td>71.41006</td><td>46.54466</td><td>0.7436519</td><td>0.0006164301</td><td>0.1065643</td><td>0.0003110227</td><td>0.06013101</td><td>7.39309</td><td>16.54641</td><td>20.62696</td><td>31.34027</td><td>19.59264</td><td>1.711138</td><td>0.001393447</td><td>0.2408418</td><td>0.0007092679</td><td>0.1391541</td><td>3.758774e-05</td><td>76.43118</td><td>2.43378e-05</td><td>435.9556</td><td>0.0001734515</td><td>0.04252424</td><td>3.563999e-05</td><td>0.007476258</td><td>1.906431e-05</td><td>0.004284096</td><td>2.968651</td><td>27.91516</td><td>2.969025</td><td>18.28833</td><td>2.969081</td><td>-1000.0</td><td>-1000.0</td><td>-1000.0</td><td>9.310202</td><td>-1000.0</td><td>3.92231</td><td>3.695516</td><td>3.922803</td><td>3.888588</td><td>3.922879</td><td>-1000.0</td><td>-1000.0</td><td>-1000.0</td><td>1.192975</td><td>-1000.0</td><td>4.295094</td><td>5.463131</td><td>4.295635</td><td>5.545901</td><td>4.295717</td><td>-1000.0</td><td>-1000.0</td><td>-1000.0</td><td>-1000.0</td><td>-1000.0</td><td>0.3283838</td><td>-0.1542486</td><td>0.3283838</td><td>-0.1244557</td><td>0.3283838</td><td>-9999.0</td><td>2.390343</td><td>-9999.0</td><td>0.6187996</td><td>-9999.0</td><td>-0.1326109</td><td>-0.032167</td><td>-0.1326109</td><td>-0.03801986</td><td>-0.1326109</td><td>-9999.0</td><td>2.337838</td><td>-9999.0</td><td>0.6103123</td><td>-9999.0</td><td>-9999.0</td><td>-0.1006868</td><td>-9999.0</td><td>-0.1713952</td><td>-9999.0</td><td>-9999.0</td><td>-0.01402619</td><td>-9999.0</td><td>-0.1857086</td><td>-9999.0</td><td>-9999.0</td><td>-1000.0</td><td>-9999.0</td><td>0.006212635</td><td>-9999.0</td><td>-9999.0</td><td>-1000.0</td><td>-9999.0</td><td>-0.001125034</td><td>-9999.0</td><td>-9999.0</td><td>-1000.0</td><td>-9999.0</td><td>0.006196255</td><td>-9999.0</td><td>-9999.0</td><td>24.01037</td><td>-9999.0</td><td>742.4338</td><td>-9999.0</td><td>-9999.0</td><td>-1000.0</td><td>-9999.0</td><td>4.90937</td><td>-9999.0</td><td>-9999.0</td><td>0.4535364</td><td>-9999.0</td><td>2.059695</td><td>-9999.0</td><td>0.05364532</td><td>0.04775595</td><td>0.006989957</td><td>0.1493888</td><td>0.05192978</td><td>-0.05662155</td><td>-0.01052805</td><td>-0.03375066</td><td>-0.09266223</td><td>-0.03857257</td><td>5.982237</td><td>6.241158</td><td>5.463478</td><td>5.677073</td><td>5.842392</td><td>2.054247</td><td>2.072663</td><td>2.05699</td><td>2.072808</td><td>2.068755</td><td>4.450689</td><td>29.66646</td><td>4.456873</td><td>5.08536</td><td>4.446076</td><td>0.0</td><td>0.7343107</td><td>0.0</td><td>0.271439</td><td>29.35674</td><td>0.5207341</td><td>0.7595254</td><td>0.5215572</td><td>0.9997146</td><td>0.5215703</td><td>0.0</td><td>0.0445148</td><td>0.0</td><td>0.03785049</td><td>2289.738</td><td>0.02516573</td><td>75.19418</td><td>0.02501686</td><td>105.4674</td><td>0.02576578</td><td>24.63815</td><td>15.94385</td><td>24.80611</td><td>16.06886</td><td>22.83501</td><td>273.6658</td><td>0.01762903</td><td>181.4119</td><td>0.0143768</td><td>64.787</td><td>-0.0008946019</td><td>419.2379</td><td>-0.0008990963</td><td>373.642</td><td>-0.01102785</td><td>0.0002007645</td><td>0.02158094</td><td>0.0006218543</td><td>0.04085191</td><td>0.000128211</td><td>3.92231</td><td>11.39378</td><td>3.525708</td><td>10.35848</td><td>3.851923</td><td>0.0</td><td>0.4311358</td><td>0.0</td><td>0.1378761</td><td>0.0</td><td>0.4769422</td><td>0.61792</td><td>0.4684777</td><td>0.7999393</td><td>0.5559789</td><td>0.0</td><td>0.03025527</td><td>0.0</td><td>0.01553625</td><td>0.0</td><td>50.90056</td><td>70.21587</td><td>18.86892</td><td>107.5184</td><td>16.13937</td><td>24.6347</td><td>16.45857</td><td>24.80208</td><td>14.47992</td><td>22.82694</td><td>235.3849</td><td>0.01622554</td><td>166.7479</td><td>0.008292304</td><td>68.52302</td><td>24.63474</td><td>18.32345</td><td>24.80208</td><td>16.56057</td><td>22.82695</td><td>4.914669</td><td>0.0270639</td><td>4.311047</td><td>0.01608259</td><td>3.66274</td><td>24.6347</td><td>16.45857</td><td>24.80208</td><td>14.57438</td><td>22.82694</td><td>235.3849</td><td>0.01622554</td><td>166.7479</td><td>0.008624839</td><td>68.52302</td><td>-4.690158e-06</td><td>260.9595</td><td>-7.921096e-06</td><td>1614.475</td><td>-2.637334e-05</td><td>0.0002713786</td><td>0.06575122</td><td>0.0007360468</td><td>0.006577117</td><td>0.0001146178</td><td>-1.399546e-05</td><td>46.84001</td><td>-7.921098e-06</td><td>237.5601</td><td>-4.519428e-05</td><td>0.6225066</td><td>0.7335465</td><td>1.101186</td><td>0.08075859</td><td>0.04011557</td><td>-4.690158e-06</td><td>260.9595</td><td>-7.921096e-06</td><td>1479.949</td><td>-2.637334e-05</td><td>0.0002713786</td><td>0.06575122</td><td>0.0007360468</td><td>0.007235238</td><td>0.0001146178</td><td>3.758774e-05</td><td>99.49335</td><td>2.43378e-05</td><td>597.4233</td><td>0.0001734515</td><td>0.0</td><td>0.01536098</td><td>0.0</td><td>0.002329582</td><td>0.0</td><td>0.0</td><td>-2185.554</td><td>0.0</td><td>-8720.516</td><td>0.0</td><td>0.0</td><td>-168.9368</td><td>0.0</td><td>-727.8599</td><td>0.0</td><td>0.0</td><td>-490.0223</td><td>0.0</td><td>-6397.525</td><td>0.0</td><td>0.0</td><td>0.0</td><td>0.0</td><td>0.1084154</td><td>0.0</td><td>9007199397777681</td><td>9077568269358389</td><td>13510799295156532</td><td>70643892523029</td><td>9007199397777681</td><td>3</td><td>3</td><td>6</td><td>3</td><td>6</td><td>0</td><td>0</td><td>1</td><td>0</td><td>1</td><td>336.440207689</td><td>-0.832504704758</td><td>0.916546692559</td><td>-0.399663678389</td><td>-0.0145294368828</td><td>0.395869940519</td><td>0.395869940519</td><td>-46.2792265421</td><td>63.7379439062</td><td>-0.01321946</td><td>0.05765389</td><td>0.0</td><td>-0.2408837</td><td>-0.0137457</td><td>0.006279098</td><td>-0.1595458</td><td>0.0</td><td>-0.1232155</td><td>0.01781595</td><td>0.3403343</td><td>0.2504147</td><td>0.1816216</td><td>0.1377182</td><td>0.09764391</td><td>1.612027</td><td>1.646887</td><td>1.540742</td><td>1.571055</td><td>1.593305</td><td>51075</td><td>1.200776</td><td>1.200869</td><td>1.200816</td><td>1.200779</td><td>1.200805</td><td>0.006145441</td><td>0.006145439</td><td>0.006145441</td><td>0.00614545</td><td>0.006145441</td><td>9</td><td>10</td><td>9</td><td>11</td><td>9</td><td>0</td><td>12748477818659</td><td>1237645876861272064</td><td>1237645876861272069</td><td>0</td><td>24.63474</td><td>18.32345</td><td>24.80208</td><td>16.56057</td><td>22.82695</td><td>4.914669</td><td>0.0270639</td><td>4.311047</td><td>0.01608259</td><td>3.66274</td><td>24.2944</td><td>18.07304</td><td>24.62046</td><td>16.42285</td><td>22.72931</td><td>0</td><td>0</td><td>0</td><td>0</td><td>0</td><td>513</td><td>76284073</td><td>3117269</td><td>12</td><td>2</td><td>0</td><td>0.7847437</td><td>1</td><td>1</td><td>1</td><td>1</td><td>1</td><td>0.007367902</td><td>0.003195124</td><td>0.004770665</td><td>0.006901836</td><td>0.03399975</td><td>4412900267.7</td><td>4412900411.17</td><td>4412900124.24</td><td>4412900195.97</td><td>4412900339.42</td></tr>\n",
       "<tr><td>1237645876861272073</td><td>2</td><td>94</td><td>301</td><td>1</td><td>11</td><td>9</td><td>4</td><td>0</td><td>6</td><td>0</td><td>1</td><td>0</td><td>387097082859868</td><td>29.61255</td><td>1.008237</td><td>1935.817</td><td>1.007607</td><td>0.0</td><td>-9999.0</td><td>0.0</td><td>-9999.0</td><td>37.21352</td><td>43.50147</td><td>30.57186</td><td>37.68137</td><td>40.28638</td><td>0.1947643</td><td>1.0</td><td>0.1500609</td><td>0.2331847</td><td>0.1941907</td><td>1938.441</td><td>1940.399</td><td>1935.057</td><td>1929.598</td><td>1935.228</td><td>0.203421</td><td>1.0</td><td>0.1376494</td><td>0.2740317</td><td>0.1943194</td><td>2.859879</td><td>4.406874</td><td>8.489958</td><td>15.64159</td><td>42.12035</td><td>5.088649</td><td>1.570286</td><td>0.6892357</td><td>0.1545794</td><td>0.254759</td><td>24.63505</td><td>25.12721</td><td>24.80303</td><td>20.31241</td><td>22.8473</td><td>2.18313</td><td>5.35678</td><td>5.700055</td><td>0.4676362</td><td>1.913314</td><td>20.46638</td><td>19.41836</td><td>19.20569</td><td>18.89424</td><td>19.19845</td><td>0.09380848</td><td>0.05090082</td><td>0.06060575</td><td>0.09877862</td><td>0.106674</td><td>21.21004</td><td>20.15889</td><td>19.97142</td><td>19.73713</td><td>19.86256</td><td>0.1262419</td><td>0.06759902</td><td>0.08382164</td><td>0.1460562</td><td>0.1477387</td><td>24.24853</td><td>26.96791</td><td>25.96395</td><td>18.99455</td><td>25.3826</td><td>6.271323</td><td>5.557762</td><td>10.95946</td><td>0.3557744</td><td>1.077877</td><td>-9.500464e-05</td><td>-0.002124161</td><td>-0.0002163341</td><td>7.495228</td><td>-0.02777978</td><td>3.15481</td><td>1.267756</td><td>0.6298943</td><td>0.09573306</td><td>0.1469602</td><td>6.50499</td><td>17.0861</td><td>20.78308</td><td>27.68769</td><td>20.89664</td><td>3.159856</td><td>1.55835</td><td>0.7429219</td><td>0.1575709</td><td>0.236051</td><td>3.274846</td><td>8.637686</td><td>10.26537</td><td>12.73679</td><td>11.30122</td><td>6.846945</td><td>3.456085</td><td>1.591293</td><td>0.3403623</td><td>0.4157423</td><td>0.1016968</td><td>-0.4798678</td><td>-0.308743</td><td>25.244</td><td>-7.719101</td><td>0.3377536</td><td>0.1452891</td><td>0.06417996</td><td>0.01461149</td><td>0.01642474</td><td>2.968651</td><td>2.969271</td><td>2.969025</td><td>6.179385</td><td>2.969081</td><td>-1000.0</td><td>-1000.0</td><td>-1000.0</td><td>3.378883</td><td>-1000.0</td><td>4.481425</td><td>-9999.0</td><td>-9999.0</td><td>2.300097</td><td>-9999.0</td><td>-1000.0</td><td>-9999.0</td><td>-9999.0</td><td>0.5102775</td><td>-9999.0</td><td>4.56711</td><td>-9999.0</td><td>-9999.0</td><td>3.771697</td><td>-9999.0</td><td>-1000.0</td><td>-9999.0</td><td>-9999.0</td><td>-1000.0</td><td>-9999.0</td><td>-0.2938983</td><td>-0.6903822</td><td>-0.8609884</td><td>0.06192409</td><td>-1.058606</td><td>-9999.0</td><td>-9999.0</td><td>-9999.0</td><td>0.2124027</td><td>-9999.0</td><td>-2.415091</td><td>0.700151</td><td>1.625285</td><td>-0.2201783</td><td>-0.5105911</td><td>-9999.0</td><td>-9999.0</td><td>-9999.0</td><td>0.2216133</td><td>-9999.0</td><td>-9999.0</td><td>-9999.0</td><td>-9999.0</td><td>0.3371865</td><td>-9999.0</td><td>-9999.0</td><td>-9999.0</td><td>-9999.0</td><td>-0.5436755</td><td>-9999.0</td><td>-9999.0</td><td>-9999.0</td><td>-9999.0</td><td>0.05344739</td><td>-9999.0</td><td>-9999.0</td><td>-9999.0</td><td>-9999.0</td><td>0.02430747</td><td>-9999.0</td><td>-9999.0</td><td>-9999.0</td><td>-9999.0</td><td>0.04764855</td><td>-9999.0</td><td>-9999.0</td><td>-9999.0</td><td>-9999.0</td><td>65.64757</td><td>-9999.0</td><td>-9999.0</td><td>-9999.0</td><td>-9999.0</td><td>5.117347</td><td>-9999.0</td><td>-9999.0</td><td>-9999.0</td><td>-9999.0</td><td>2.335198</td><td>-9999.0</td><td>0.05364532</td><td>0.04775595</td><td>0.006989957</td><td>0.1493888</td><td>0.05192978</td><td>-0.05662155</td><td>-0.01052805</td><td>-0.03375066</td><td>-0.09266223</td><td>-0.03857257</td><td>5.982237</td><td>6.241158</td><td>5.463478</td><td>5.677073</td><td>5.842392</td><td>2.054247</td><td>2.072663</td><td>2.05699</td><td>2.072808</td><td>2.068755</td><td>4.742402</td><td>18.60031</td><td>0.1521724</td><td>11.59283</td><td>8.661889</td><td>641.7332</td><td>0.00370581</td><td>0.0</td><td>2.625785</td><td>97.10102</td><td>0.05</td><td>0.9997926</td><td>0.1031607</td><td>0.3507839</td><td>0.9997766</td><td>20.83248</td><td>6.80838</td><td>0.0</td><td>0.07286844</td><td>2.195537</td><td>58.12743</td><td>16.90593</td><td>135.8165</td><td>165.0892</td><td>162.6162</td><td>24.25812</td><td>28.21009</td><td>24.80906</td><td>17.96751</td><td>25.42343</td><td>23.42095</td><td>8.615547</td><td>4.457663</td><td>0.04138212</td><td>3.460812</td><td>0.09906966</td><td>-1.552634</td><td>-0.001549427</td><td>65.01165</td><td>-8.020197</td><td>0.02436117</td><td>0.006500493</td><td>1.029896</td><td>0.1628649</td><td>0.001479721</td><td>4.711646</td><td>9.922873</td><td>12.74373</td><td>3.899481</td><td>15.3599</td><td>429.0363</td><td>448.4537</td><td>0.0</td><td>0.4262732</td><td>315.5218</td><td>0.05</td><td>0.9998591</td><td>0.05</td><td>0.4264181</td><td>0.99975</td><td>22.62298</td><td>6.79085</td><td>0.0</td><td>0.07103038</td><td>4.233331</td><td>58.47964</td><td>55.68027</td><td>131.9567</td><td>164.048</td><td>162.6714</td><td>24.03423</td><td>28.67908</td><td>23.48038</td><td>18.62251</td><td>27.76139</td><td>23.48041</td><td>6.999793</td><td>14.44998</td><td>0.04142416</td><td>2.17546</td><td>21.94527</td><td>28.67869</td><td>27.40914</td><td>17.60045</td><td>26.94797</td><td>3.482253</td><td>1.371993</td><td>3.401956</td><td>0.05742899</td><td>0.8364414</td><td>24.03423</td><td>28.21009</td><td>24.80906</td><td>17.96751</td><td>25.42343</td><td>23.48041</td><td>8.615547</td><td>4.457663</td><td>0.04138212</td><td>3.460812</td><td>0.1628651</td><td>-2.396105</td><td>0.3698441</td><td>35.56189</td><td>-69.65773</td><td>0.02037784</td><td>0.004166993</td><td>0.0290437</td><td>0.543159</td><td>5.131116e-05</td><td>1.655078</td><td>-2.395245</td><td>-1.313521</td><td>91.16296</td><td>-32.91787</td><td>0.03450134</td><td>0.1085424</td><td>0.05712883</td><td>0.04300734</td><td>0.001551805</td><td>0.1628651</td><td>-1.552634</td><td>-0.001549427</td><td>65.01165</td><td>-8.020197</td><td>0.02037784</td><td>0.006500494</td><td>1.029896</td><td>0.1628649</td><td>0.001479721</td><td>-48950.86</td><td>-21208.02</td><td>-31678.07</td><td>32.18118</td><td>-225747.0</td><td>0.0</td><td>0.0</td><td>0.0</td><td>0.1569911</td><td>0.0</td><td>0.0</td><td>-2.14273e-14</td><td>-5.251355e-14</td><td>-134.2379</td><td>-2.206888e-07</td><td>0.0</td><td>-3.774758e-15</td><td>-2.27407e-12</td><td>-4.040738</td><td>-2.559312e-08</td><td>0.0</td><td>-1.099121e-13</td><td>-3.60123e-12</td><td>-3.740378</td><td>-9.372419e-07</td><td>0.0</td><td>1.0</td><td>1.0</td><td>1.0</td><td>1.0</td><td>9007199397744921</td><td>13510799295123772</td><td>9007199399317789</td><td>70643892523037</td><td>9007199397744921</td><td>3</td><td>6</td><td>6</td><td>3</td><td>6</td><td>0</td><td>1</td><td>1</td><td>0</td><td>1</td><td>336.435932363</td><td>-0.831355436212</td><td>0.916517134648</td><td>-0.399732185063</td><td>-0.0145093804771</td><td>0.399130812959</td><td>0.398881400413</td><td>-46.2752175275</td><td>63.7352281802</td><td>0.3785821</td><td>0.007106426</td><td>0.3799416</td><td>1.595325</td><td>0.3780544</td><td>-0.3153617</td><td>0.01704307</td><td>-0.3009016</td><td>-1.795908</td><td>-0.303756</td><td>0.3416221</td><td>0.2513623</td><td>0.1823089</td><td>0.1382393</td><td>0.09801339</td><td>1.612027</td><td>1.646887</td><td>1.540742</td><td>1.571055</td><td>1.593305</td><td>51075</td><td>1.200761</td><td>1.200852</td><td>1.200801</td><td>1.20077</td><td>1.20079</td><td>0.006145963</td><td>0.006145976</td><td>0.006145963</td><td>0.006145922</td><td>0.006145963</td><td>6</td><td>6</td><td>6</td><td>9</td><td>6</td><td>0</td><td>12748477823967</td><td>1237645876861272064</td><td>1237645876861272069</td><td>0</td><td>21.94527</td><td>28.67869</td><td>27.40914</td><td>17.60045</td><td>26.94797</td><td>3.482253</td><td>1.371993</td><td>3.401956</td><td>0.05742899</td><td>0.8364414</td><td>21.60365</td><td>28.42733</td><td>27.22683</td><td>17.46221</td><td>26.84996</td><td>0</td><td>0</td><td>0</td><td>0</td><td>0</td><td>2</td><td>-1</td><td>3117269</td><td>0</td><td>0</td><td>0</td><td>0.7847437</td><td>1</td><td>1</td><td>1</td><td>1</td><td>1</td><td>0.007372871</td><td>0.003194225</td><td>0.004771225</td><td>0.006902662</td><td>0.03400028</td><td>4412900266.7</td><td>4412900410.15</td><td>4412900123.25</td><td>4412900195.07</td><td>4412900338.42</td></tr>\n",
       "<tr><td>1237645876861272074</td><td>2</td><td>94</td><td>301</td><td>1</td><td>11</td><td>10</td><td>4</td><td>0</td><td>3</td><td>0</td><td>0</td><td>0</td><td>105656499441684</td><td>89.5371</td><td>0.05603687</td><td>1941.272</td><td>0.07130989</td><td>-0.004832306</td><td>0.004902716</td><td>0.006626511</td><td>0.005031874</td><td>95.89616</td><td>103.2674</td><td>89.5371</td><td>93.24215</td><td>99.1107</td><td>0.2681735</td><td>0.04633658</td><td>0.05603687</td><td>0.1538856</td><td>0.4201239</td><td>1943.037</td><td>1946.033</td><td>1941.272</td><td>1939.498</td><td>1940.559</td><td>0.4532151</td><td>0.05059629</td><td>0.07130989</td><td>0.1543151</td><td>0.7272028</td><td>2.009735</td><td>3.004146</td><td>5.931065</td><td>14.87239</td><td>39.65913</td><td>21.34525</td><td>3.284654</td><td>2.595114</td><td>4.665724</td><td>2.731292</td><td>21.23888</td><td>20.13473</td><td>19.81188</td><td>22.5068</td><td>20.13626</td><td>0.1272801</td><td>0.07955039</td><td>0.06371531</td><td>0.6256933</td><td>0.1985876</td><td>21.18682</td><td>19.76663</td><td>19.75867</td><td>19.35933</td><td>20.23443</td><td>0.1196106</td><td>0.05284452</td><td>0.05982777</td><td>0.03542909</td><td>0.2099058</td><td>22.02021</td><td>20.50311</td><td>20.46603</td><td>20.1741</td><td>20.90928</td><td>0.1710794</td><td>0.06957279</td><td>0.07667351</td><td>0.05052878</td><td>0.2558167</td><td>21.01323</td><td>20.254</td><td>19.67395</td><td>22.85718</td><td>20.10933</td><td>0.2182293</td><td>0.1825286</td><td>0.1225007</td><td>1.949471</td><td>0.4154401</td><td>3.188708</td><td>8.832051</td><td>11.89065</td><td>0.9611573</td><td>8.75846</td><td>7.1017</td><td>2.387044</td><td>2.052925</td><td>2.858398</td><td>0.3788453</td><td>3.345922</td><td>12.39728</td><td>12.48794</td><td>18.03946</td><td>7.99007</td><td>7.308817</td><td>2.746025</td><td>2.111062</td><td>2.884752</td><td>0.4051796</td><td>1.54307</td><td>6.290266</td><td>6.507895</td><td>8.514612</td><td>4.20147</td><td>16.37619</td><td>6.150017</td><td>4.7281</td><td>6.357196</td><td>0.9077976</td><td>3.927883</td><td>7.913078</td><td>13.50163</td><td>0.6746395</td><td>8.981469</td><td>1.596261</td><td>0.5647698</td><td>0.4307862</td><td>0.5304609</td><td>0.0824331</td><td>1.962407</td><td>1.509408</td><td>1.660612</td><td>1.246419</td><td>1.828183</td><td>1.094655</td><td>0.03971469</td><td>0.03483658</td><td>1.154606</td><td>0.4284356</td><td>1.092832</td><td>0.8290603</td><td>0.9624667</td><td>0.6864639</td><td>0.9308816</td><td>0.1222216</td><td>0.08908773</td><td>0.07038277</td><td>-1000.0</td><td>0.2466835</td><td>1.775218</td><td>1.374641</td><td>1.493312</td><td>1.101864</td><td>1.708461</td><td>-1000.0</td><td>-1000.0</td><td>-1000.0</td><td>-1000.0</td><td>-1000.0</td><td>0.07078072</td><td>0.04279279</td><td>0.0740367</td><td>-0.05899167</td><td>0.1200584</td><td>0.08587806</td><td>0.06114386</td><td>0.04197061</td><td>0.7236799</td><td>0.1575159</td><td>0.1404724</td><td>0.03835432</td><td>0.1619222</td><td>-0.06375989</td><td>0.1699577</td><td>0.08712088</td><td>0.06112192</td><td>0.04282288</td><td>0.7241004</td><td>0.1597162</td><td>0.1949068</td><td>0.1168432</td><td>0.1581201</td><td>-0.06295791</td><td>0.2721993</td><td>0.1199434</td><td>0.0717277</td><td>0.4035078</td><td>-0.1625968</td><td>0.3469023</td><td>0.1504003</td><td>0.03416862</td><td>0.02808479</td><td>0.7917554</td><td>0.276644</td><td>-0.02344554</td><td>-0.003149617</td><td>-0.007184371</td><td>-0.08026656</td><td>-0.08834552</td><td>0.1522341</td><td>0.03431566</td><td>0.02602431</td><td>0.7827721</td><td>0.2696463</td><td>11.49271</td><td>6.887376</td><td>9.362399</td><td>4.147821</td><td>8.448763</td><td>1.844417</td><td>0.2408415</td><td>0.2991527</td><td>3.348394</td><td>2.804792</td><td>1.737498</td><td>1.832664</td><td>1.795024</td><td>1.789809</td><td>1.773108</td><td>0.05364532</td><td>0.04775595</td><td>0.006989957</td><td>0.1493888</td><td>0.05192978</td><td>-0.05662155</td><td>-0.01052805</td><td>-0.03375066</td><td>-0.09266223</td><td>-0.03857257</td><td>5.982237</td><td>6.241158</td><td>5.463478</td><td>5.677073</td><td>5.842392</td><td>2.054247</td><td>2.072663</td><td>2.05699</td><td>2.072808</td><td>2.068755</td><td>0.7253697</td><td>0.1739878</td><td>0.6536277</td><td>0.2862917</td><td>0.4753579</td><td>0.8177692</td><td>0.150018</td><td>0.1038533</td><td>12.79706</td><td>2.039816</td><td>0.4338837</td><td>0.09798203</td><td>0.05</td><td>0.4846879</td><td>0.05</td><td>1.049922</td><td>13.49118</td><td>0.0</td><td>28.03021</td><td>0.0</td><td>12.40625</td><td>15.29589</td><td>34.35518</td><td>132.7949</td><td>21.22627</td><td>20.87161</td><td>20.10534</td><td>19.50395</td><td>22.44388</td><td>19.94461</td><td>0.1846367</td><td>0.02375962</td><td>0.02126989</td><td>2.953265</td><td>0.6165729</td><td>4.47644</td><td>9.074497</td><td>15.79044</td><td>1.02228</td><td>10.4714</td><td>1.718901</td><td>25.34859</td><td>10.44791</td><td>0.1150623</td><td>0.02772556</td><td>0.8249956</td><td>0.2816876</td><td>0.815664</td><td>0.2945375</td><td>0.6695402</td><td>0.750326</td><td>0.1090642</td><td>0.06798472</td><td>10.48687</td><td>2.407118</td><td>0.5500039</td><td>0.1542434</td><td>0.05</td><td>0.3332547</td><td>0.05</td><td>0.900038</td><td>7.065426</td><td>0.0</td><td>27.63594</td><td>0.0</td><td>11.77147</td><td>15.72415</td><td>34.6111</td><td>123.2784</td><td>20.69989</td><td>20.88223</td><td>20.10024</td><td>19.50682</td><td>22.48558</td><td>19.93633</td><td>0.207008</td><td>0.02375273</td><td>0.02100921</td><td>3.186442</td><td>0.6440717</td><td>20.97985</td><td>19.98682</td><td>19.50676</td><td>22.39589</td><td>19.89058</td><td>0.100062</td><td>0.02446198</td><td>0.02100921</td><td>0.4633207</td><td>0.1829411</td><td>20.88223</td><td>20.10534</td><td>19.50682</td><td>22.44388</td><td>19.93633</td><td>0.207008</td><td>0.02375962</td><td>0.02100921</td><td>2.953265</td><td>0.6440717</td><td>4.432783</td><td>9.117228</td><td>15.74882</td><td>0.981401</td><td>10.55232</td><td>1.394415</td><td>25.1262</td><td>10.76546</td><td>0.106247</td><td>0.02502789</td><td>4.050823</td><td>10.12135</td><td>15.7497</td><td>1.071196</td><td>11.01086</td><td>7.140907</td><td>19.22433</td><td>10.76425</td><td>4.300051</td><td>0.2853695</td><td>4.432783</td><td>9.074497</td><td>15.74882</td><td>1.02228</td><td>10.55232</td><td>1.394415</td><td>25.34859</td><td>10.76546</td><td>0.1150623</td><td>0.02502789</td><td>3.908003</td><td>7.899349</td><td>13.48084</td><td>0.6686426</td><td>8.699432</td><td>0.0</td><td>0.0</td><td>0.0</td><td>0.0</td><td>0.0</td><td>-0.002718371</td><td>-1.468201</td><td>-150.6461</td><td>0.0</td><td>-2.553513e-15</td><td>-1.226547e-07</td><td>-0.8341792</td><td>-30.77875</td><td>0.0</td><td>0.0</td><td>-4.916711e-06</td><td>-0.9623448</td><td>-56.53794</td><td>0.0</td><td>-1.110223e-16</td><td>0.0</td><td>1.0</td><td>0.0</td><td>1.0</td><td>0.0</td><td>70643924107281</td><td>70369047773205</td><td>4503874808872980</td><td>35557397</td><td>70643924107281</td><td>3</td><td>6</td><td>3</td><td>6</td><td>3</td><td>0</td><td>1</td><td>0</td><td>1</td><td>0</td><td>336.442521658</td><td>-0.830764124822</td><td>0.916563236962</td><td>-0.399626838278</td><td>-0.014499061232</td><td>0.0221833140448</td><td>0.0282294431654</td><td>-46.2798732804</td><td>63.7420272727</td><td>-0.1150767</td><td>-0.05400543</td><td>0.0</td><td>-0.1260903</td><td>-0.05794528</td><td>-0.6268526</td><td>0.120437</td><td>0.0</td><td>-0.02744835</td><td>-0.3305728</td><td>0.3392629</td><td>0.2496264</td><td>0.1810499</td><td>0.1372847</td><td>0.09733654</td><td>1.612027</td><td>1.646887</td><td>1.540742</td><td>1.571055</td><td>1.593305</td><td>51075</td><td>1.200754</td><td>1.200843</td><td>1.200791</td><td>1.200755</td><td>1.200782</td><td>0.006145149</td><td>0.006145146</td><td>0.006145144</td><td>0.006145149</td><td>0.006145147</td><td>8</td><td>8</td><td>8</td><td>8</td><td>9</td><td>0</td><td>12748477787161</td><td>1237645876861272064</td><td>1237645876861272069</td><td>0</td><td>20.97985</td><td>19.98682</td><td>19.50676</td><td>22.39589</td><td>19.89058</td><td>0.100062</td><td>0.02446198</td><td>0.02100921</td><td>0.4633207</td><td>0.1829411</td><td>20.64058</td><td>19.73719</td><td>19.32571</td><td>22.25861</td><td>19.79324</td><td>0</td><td>0</td><td>0</td><td>0</td><td>0</td><td>513</td><td>76284074</td><td>3117269</td><td>12</td><td>1</td><td>0</td><td>0.7847437</td><td>1</td><td>1</td><td>1</td><td>1</td><td>1</td><td>0.007375597</td><td>0.003195337</td><td>0.004771572</td><td>0.006904277</td><td>0.03400048</td><td>4412900268.25</td><td>4412900411.72</td><td>4412900124.8</td><td>4412900196.54</td><td>4412900339.97</td></tr>\n",
       "</table>"
      ],
      "text/plain": [
       "<Table length=10>\n",
       "       objID        skyVersion  run  ...     TAI_i         TAI_z    \n",
       "       int64          int64    int64 ...    float64       float64   \n",
       "------------------- ---------- ----- ... ------------- -------------\n",
       "1237645876861272065          2    94 ... 4412900195.65 4412900339.07\n",
       "1237645876861272066          2    94 ... 4412900195.65 4412900339.07\n",
       "1237645876861272067          2    94 ... 4412900195.86 4412900339.29\n",
       "1237645876861272068          2    94 ... 4412900194.79 4412900338.22\n",
       "1237645876861272069          2    94 ... 4412900195.64 4412900339.07\n",
       "1237645876861272070          2    94 ... 4412900195.64 4412900339.07\n",
       "1237645876861272071          2    94 ... 4412900195.86 4412900339.29\n",
       "1237645876861272072          2    94 ... 4412900195.97 4412900339.42\n",
       "1237645876861272073          2    94 ... 4412900195.07 4412900338.42\n",
       "1237645876861272074          2    94 ... 4412900196.54 4412900339.97"
      ]
     },
     "execution_count": 19,
     "metadata": {},
     "output_type": "execute_result"
    }
   ],
   "source": [
    "SDSS.query_sql(\"\"\"select top 20 * from PhotoObjAll\"\"\")"
   ]
  },
  {
   "cell_type": "markdown",
   "metadata": {
    "slideshow": {
     "slide_type": "subslide"
    }
   },
   "source": [
    "That's more columns than we will likely ever need. Instead, let's focus on `objID`, a unique identifier, `cModelMag_u`, `cModelMag_g`, `cModelMag_r`, `cModelMag_i`, and `cModelMag_z`, the source magnitude in $u', g', r', i', z'$, respectively."
   ]
  },
  {
   "cell_type": "markdown",
   "metadata": {
    "slideshow": {
     "slide_type": "slide"
    }
   },
   "source": [
    "We will now introduce the concept of joining two tables. \n",
    "\n",
    "The most common operation is known as an `inner join` (which is often referred to as just `join`). An `inner join` returns records that have matching sources in both tables in the join. \n",
    "\n",
    "Less, but nevertheless still powerful, is the `outer join`. An outer join returns *all* records in either table, with `NULL` values for columns in a table in which the record does not exist.\n",
    "\n",
    "Specialized versions of the `outer join` include the `left join` and `right join`, whereby *all* records in either the left or right table, respectively, are returned along with their counterparts. "
   ]
  },
  {
   "cell_type": "markdown",
   "metadata": {
    "slideshow": {
     "slide_type": "subslide"
    }
   },
   "source": [
    "**Problem 2b**\n",
    "\n",
    "Select `objid` and $u'g'r'i'z'$ from `PhotoObjAll` and the corresponding `class` from [`specObjAll`](https://skyserver.sdss.org/dr13/en/help/docs/tabledesc.aspx?name=SpecObjAll) for 20 random sources. \n",
    "\n",
    "There are multiple columns you could use to join the tables, in this case match `objid` to `bestobjid` from `specObjAll` and use an `inner join`."
   ]
  },
  {
   "cell_type": "code",
   "execution_count": null,
   "metadata": {
    "collapsed": true,
    "slideshow": {
     "slide_type": "subslide"
    }
   },
   "outputs": [],
   "source": [
    "SDSS.query_sql( # complete"
   ]
  },
  {
   "cell_type": "code",
   "execution_count": 20,
   "metadata": {
    "slideshow": {
     "slide_type": "subslide"
    }
   },
   "outputs": [
    {
     "data": {
      "text/html": [
       "&lt;Table length=20&gt;\n",
       "<table id=\"table4554340392\" class=\"table-striped table-bordered table-condensed\">\n",
       "<thead><tr><th>objid</th><th>cModelMag_u</th><th>cModelMag_g</th><th>cModelMag_r</th><th>cModelMag_i</th><th>cModelMag_z</th><th>class</th></tr></thead>\n",
       "<thead><tr><th>int64</th><th>float64</th><th>float64</th><th>float64</th><th>float64</th><th>float64</th><th>bytes6</th></tr></thead>\n",
       "<tr><td>1237645879551000764</td><td>20.18099</td><td>20.7678</td><td>19.37491</td><td>18.44864</td><td>18.55745</td><td>GALAXY</td></tr>\n",
       "<tr><td>1237645879551066262</td><td>19.52121</td><td>18.12321</td><td>17.48715</td><td>17.12531</td><td>16.96935</td><td>GALAXY</td></tr>\n",
       "<tr><td>1237645879562862699</td><td>20.13848</td><td>19.28518</td><td>19.03111</td><td>18.94487</td><td>18.73979</td><td>STAR</td></tr>\n",
       "<tr><td>1237645879562928144</td><td>22.76108</td><td>20.03992</td><td>18.60326</td><td>18.08318</td><td>17.80411</td><td>GALAXY</td></tr>\n",
       "<tr><td>1237645879562928258</td><td>21.18919</td><td>20.25929</td><td>19.24559</td><td>18.79132</td><td>18.41072</td><td>GALAXY</td></tr>\n",
       "<tr><td>1237645879562928805</td><td>21.55341</td><td>22.13135</td><td>21.31751</td><td>19.50049</td><td>18.87878</td><td>GALAXY</td></tr>\n",
       "<tr><td>1237645879573873373</td><td>19.90373</td><td>21.73595</td><td>20.20402</td><td>19.485</td><td>19.05127</td><td>GALAXY</td></tr>\n",
       "<tr><td>1237645879577477252</td><td>21.55177</td><td>18.92065</td><td>17.75269</td><td>17.26517</td><td>16.88253</td><td>GALAXY</td></tr>\n",
       "<tr><td>1237645879577477252</td><td>21.55177</td><td>18.92065</td><td>17.75269</td><td>17.26517</td><td>16.88253</td><td>GALAXY</td></tr>\n",
       "<tr><td>1237645879577477252</td><td>21.55177</td><td>18.92065</td><td>17.75269</td><td>17.26517</td><td>16.88253</td><td>GALAXY</td></tr>\n",
       "<tr><td>1237645879577739681</td><td>22.43139</td><td>21.333</td><td>19.74873</td><td>19.03568</td><td>18.71565</td><td>GALAXY</td></tr>\n",
       "<tr><td>1237645879577936138</td><td>19.47102</td><td>18.25684</td><td>17.63962</td><td>17.25253</td><td>17.03179</td><td>GALAXY</td></tr>\n",
       "<tr><td>1237645879577936138</td><td>19.47102</td><td>18.25684</td><td>17.63962</td><td>17.25253</td><td>17.03179</td><td>GALAXY</td></tr>\n",
       "<tr><td>1237645879577936138</td><td>19.47102</td><td>18.25684</td><td>17.63962</td><td>17.25253</td><td>17.03179</td><td>GALAXY</td></tr>\n",
       "<tr><td>1237645879578460255</td><td>19.0773</td><td>17.78239</td><td>17.06256</td><td>16.67323</td><td>16.34688</td><td>GALAXY</td></tr>\n",
       "<tr><td>1237645879578460255</td><td>19.0773</td><td>17.78239</td><td>17.06256</td><td>16.67323</td><td>16.34688</td><td>GALAXY</td></tr>\n",
       "<tr><td>1237645879578460255</td><td>19.0773</td><td>17.78239</td><td>17.06256</td><td>16.67323</td><td>16.34688</td><td>QSO</td></tr>\n",
       "<tr><td>1237645879578460271</td><td>19.06524</td><td>17.44923</td><td>16.80538</td><td>16.41014</td><td>16.17271</td><td>GALAXY</td></tr>\n",
       "<tr><td>1237645879578460271</td><td>19.06524</td><td>17.44923</td><td>16.80538</td><td>16.41014</td><td>16.17271</td><td>GALAXY</td></tr>\n",
       "<tr><td>1237645879578460271</td><td>19.06524</td><td>17.44923</td><td>16.80538</td><td>16.41014</td><td>16.17271</td><td>GALAXY</td></tr>\n",
       "</table>"
      ],
      "text/plain": [
       "<Table length=20>\n",
       "       objid        cModelMag_u cModelMag_g ... cModelMag_i cModelMag_z class \n",
       "       int64          float64     float64   ...   float64     float64   bytes6\n",
       "------------------- ----------- ----------- ... ----------- ----------- ------\n",
       "1237645879551000764    20.18099     20.7678 ...    18.44864    18.55745 GALAXY\n",
       "1237645879551066262    19.52121    18.12321 ...    17.12531    16.96935 GALAXY\n",
       "1237645879562862699    20.13848    19.28518 ...    18.94487    18.73979   STAR\n",
       "1237645879562928144    22.76108    20.03992 ...    18.08318    17.80411 GALAXY\n",
       "1237645879562928258    21.18919    20.25929 ...    18.79132    18.41072 GALAXY\n",
       "1237645879562928805    21.55341    22.13135 ...    19.50049    18.87878 GALAXY\n",
       "1237645879573873373    19.90373    21.73595 ...      19.485    19.05127 GALAXY\n",
       "1237645879577477252    21.55177    18.92065 ...    17.26517    16.88253 GALAXY\n",
       "1237645879577477252    21.55177    18.92065 ...    17.26517    16.88253 GALAXY\n",
       "1237645879577477252    21.55177    18.92065 ...    17.26517    16.88253 GALAXY\n",
       "1237645879577739681    22.43139      21.333 ...    19.03568    18.71565 GALAXY\n",
       "1237645879577936138    19.47102    18.25684 ...    17.25253    17.03179 GALAXY\n",
       "1237645879577936138    19.47102    18.25684 ...    17.25253    17.03179 GALAXY\n",
       "1237645879577936138    19.47102    18.25684 ...    17.25253    17.03179 GALAXY\n",
       "1237645879578460255     19.0773    17.78239 ...    16.67323    16.34688 GALAXY\n",
       "1237645879578460255     19.0773    17.78239 ...    16.67323    16.34688 GALAXY\n",
       "1237645879578460255     19.0773    17.78239 ...    16.67323    16.34688    QSO\n",
       "1237645879578460271    19.06524    17.44923 ...    16.41014    16.17271 GALAXY\n",
       "1237645879578460271    19.06524    17.44923 ...    16.41014    16.17271 GALAXY\n",
       "1237645879578460271    19.06524    17.44923 ...    16.41014    16.17271 GALAXY"
      ]
     },
     "execution_count": 20,
     "metadata": {},
     "output_type": "execute_result"
    }
   ],
   "source": [
    "SDSS.query_sql(\"\"\"select top 20 objid, cModelMag_u, cModelMag_g, cModelMag_r, cModelMag_i, cModelMag_z, \n",
    "                         class\n",
    "                  from photoobjall p \n",
    "                      inner join specobjall s on p.objid = s.bestobjid\"\"\")"
   ]
  },
  {
   "cell_type": "markdown",
   "metadata": {
    "slideshow": {
     "slide_type": "slide"
    }
   },
   "source": [
    "**Problem 2c**\n",
    "\n",
    "Perform an identical query to the one above, but this time use a `left outer join` (or `left join`).\n",
    "\n",
    "How do your results compare to the previous query?"
   ]
  },
  {
   "cell_type": "code",
   "execution_count": 21,
   "metadata": {
    "slideshow": {
     "slide_type": "subslide"
    }
   },
   "outputs": [
    {
     "data": {
      "text/html": [
       "&lt;Table length=20&gt;\n",
       "<table id=\"table4554404584\" class=\"table-striped table-bordered table-condensed\">\n",
       "<thead><tr><th>objid</th><th>cModelMag_u</th><th>cModelMag_g</th><th>cModelMag_r</th><th>cModelMag_i</th><th>cModelMag_z</th><th>class</th></tr></thead>\n",
       "<thead><tr><th>int64</th><th>float64</th><th>float64</th><th>float64</th><th>float64</th><th>float64</th><th>bool</th></tr></thead>\n",
       "<tr><td>1237645876861272065</td><td>13.07936</td><td>12.57809</td><td>12.34195</td><td>11.81598</td><td>11.65377</td><td>False</td></tr>\n",
       "<tr><td>1237645876861272066</td><td>13.08528</td><td>13.02686</td><td>12.85163</td><td>11.88167</td><td>11.64233</td><td>False</td></tr>\n",
       "<tr><td>1237645876861272067</td><td>19.71465</td><td>13.86158</td><td>14.17228</td><td>15.64151</td><td>14.23906</td><td>False</td></tr>\n",
       "<tr><td>1237645876861272068</td><td>22.64303</td><td>15.89897</td><td>21.31149</td><td>20.91684</td><td>20.02921</td><td>False</td></tr>\n",
       "<tr><td>1237645876861272069</td><td>13.1023</td><td>12.64387</td><td>12.39441</td><td>11.95594</td><td>11.64456</td><td>False</td></tr>\n",
       "<tr><td>1237645876861272070</td><td>13.15823</td><td>12.88329</td><td>12.59817</td><td>12.43937</td><td>11.76545</td><td>False</td></tr>\n",
       "<tr><td>1237645876861272071</td><td>24.35513</td><td>15.19132</td><td>14.50776</td><td>14.00838</td><td>22.82691</td><td>False</td></tr>\n",
       "<tr><td>1237645876861272072</td><td>24.6347</td><td>16.45857</td><td>24.80208</td><td>14.57438</td><td>22.82694</td><td>False</td></tr>\n",
       "<tr><td>1237645876861272073</td><td>24.03423</td><td>28.21009</td><td>24.80906</td><td>17.96751</td><td>25.42343</td><td>False</td></tr>\n",
       "<tr><td>1237645876861272074</td><td>20.88223</td><td>20.10534</td><td>19.50682</td><td>22.44388</td><td>19.93633</td><td>False</td></tr>\n",
       "<tr><td>1237645876861272075</td><td>21.53707</td><td>23.26117</td><td>21.26394</td><td>20.76826</td><td>21.62034</td><td>False</td></tr>\n",
       "<tr><td>1237645876861272076</td><td>24.09932</td><td>19.10898</td><td>19.86965</td><td>20.65488</td><td>20.19429</td><td>False</td></tr>\n",
       "<tr><td>1237645876861272077</td><td>23.32896</td><td>21.97084</td><td>20.96941</td><td>21.50256</td><td>22.0869</td><td>False</td></tr>\n",
       "<tr><td>1237645876861272078</td><td>21.75072</td><td>25.317</td><td>25.03305</td><td>21.29368</td><td>20.90678</td><td>False</td></tr>\n",
       "<tr><td>1237645876861272079</td><td>21.01455</td><td>21.02536</td><td>20.20798</td><td>20.00317</td><td>20.60809</td><td>False</td></tr>\n",
       "<tr><td>1237645876861272080</td><td>24.82506</td><td>25.67902</td><td>24.97711</td><td>21.81718</td><td>23.40933</td><td>False</td></tr>\n",
       "<tr><td>1237645876861272081</td><td>25.27782</td><td>20.01487</td><td>22.41701</td><td>22.9371</td><td>20.26106</td><td>False</td></tr>\n",
       "<tr><td>1237645876861272082</td><td>21.59291</td><td>26.45511</td><td>26.22618</td><td>25.29605</td><td>22.35419</td><td>False</td></tr>\n",
       "<tr><td>1237645876861272083</td><td>24.52592</td><td>22.72625</td><td>25.41825</td><td>24.94383</td><td>23.09492</td><td>False</td></tr>\n",
       "<tr><td>1237645876861272084</td><td>21.69425</td><td>23.23384</td><td>23.29937</td><td>20.47627</td><td>22.40297</td><td>False</td></tr>\n",
       "</table>"
      ],
      "text/plain": [
       "<Table length=20>\n",
       "       objid        cModelMag_u cModelMag_g ... cModelMag_i cModelMag_z class\n",
       "       int64          float64     float64   ...   float64     float64    bool\n",
       "------------------- ----------- ----------- ... ----------- ----------- -----\n",
       "1237645876861272065    13.07936    12.57809 ...    11.81598    11.65377 False\n",
       "1237645876861272066    13.08528    13.02686 ...    11.88167    11.64233 False\n",
       "1237645876861272067    19.71465    13.86158 ...    15.64151    14.23906 False\n",
       "1237645876861272068    22.64303    15.89897 ...    20.91684    20.02921 False\n",
       "1237645876861272069     13.1023    12.64387 ...    11.95594    11.64456 False\n",
       "1237645876861272070    13.15823    12.88329 ...    12.43937    11.76545 False\n",
       "1237645876861272071    24.35513    15.19132 ...    14.00838    22.82691 False\n",
       "1237645876861272072     24.6347    16.45857 ...    14.57438    22.82694 False\n",
       "1237645876861272073    24.03423    28.21009 ...    17.96751    25.42343 False\n",
       "1237645876861272074    20.88223    20.10534 ...    22.44388    19.93633 False\n",
       "1237645876861272075    21.53707    23.26117 ...    20.76826    21.62034 False\n",
       "1237645876861272076    24.09932    19.10898 ...    20.65488    20.19429 False\n",
       "1237645876861272077    23.32896    21.97084 ...    21.50256     22.0869 False\n",
       "1237645876861272078    21.75072      25.317 ...    21.29368    20.90678 False\n",
       "1237645876861272079    21.01455    21.02536 ...    20.00317    20.60809 False\n",
       "1237645876861272080    24.82506    25.67902 ...    21.81718    23.40933 False\n",
       "1237645876861272081    25.27782    20.01487 ...     22.9371    20.26106 False\n",
       "1237645876861272082    21.59291    26.45511 ...    25.29605    22.35419 False\n",
       "1237645876861272083    24.52592    22.72625 ...    24.94383    23.09492 False\n",
       "1237645876861272084    21.69425    23.23384 ...    20.47627    22.40297 False"
      ]
     },
     "execution_count": 21,
     "metadata": {},
     "output_type": "execute_result"
    }
   ],
   "source": [
    "SDSS.query_sql(\"\"\"select top 20 objid, cModelMag_u, cModelMag_g, cModelMag_r, cModelMag_i, cModelMag_z, \n",
    "                         class\n",
    "                  from photoobjall p \n",
    "                      left outer join specobjall s on p.objid = s.bestobjid\"\"\")"
   ]
  },
  {
   "cell_type": "markdown",
   "metadata": {
    "slideshow": {
     "slide_type": "subslide"
    }
   },
   "source": [
    "**Problem 2d**\n",
    "\n",
    "This time use a `right outer join` (or `right join`).\n",
    "\n",
    "How do your results compare to the previous query?"
   ]
  },
  {
   "cell_type": "code",
   "execution_count": 37,
   "metadata": {
    "slideshow": {
     "slide_type": "subslide"
    }
   },
   "outputs": [
    {
     "data": {
      "text/html": [
       "&lt;Table length=20&gt;\n",
       "<table id=\"table4554123304\" class=\"table-striped table-bordered table-condensed\">\n",
       "<thead><tr><th>objid</th><th>cModelMag_u</th><th>cModelMag_g</th><th>cModelMag_r</th><th>cModelMag_i</th><th>cModelMag_z</th><th>class</th></tr></thead>\n",
       "<thead><tr><th>bool</th><th>bool</th><th>bool</th><th>bool</th><th>bool</th><th>bool</th><th>bytes6</th></tr></thead>\n",
       "<tr><td>False</td><td>False</td><td>False</td><td>False</td><td>False</td><td>False</td><td>GALAXY</td></tr>\n",
       "<tr><td>False</td><td>False</td><td>False</td><td>False</td><td>False</td><td>False</td><td>GALAXY</td></tr>\n",
       "<tr><td>False</td><td>False</td><td>False</td><td>False</td><td>False</td><td>False</td><td>GALAXY</td></tr>\n",
       "<tr><td>False</td><td>False</td><td>False</td><td>False</td><td>False</td><td>False</td><td>GALAXY</td></tr>\n",
       "<tr><td>False</td><td>False</td><td>False</td><td>False</td><td>False</td><td>False</td><td>GALAXY</td></tr>\n",
       "<tr><td>False</td><td>False</td><td>False</td><td>False</td><td>False</td><td>False</td><td>GALAXY</td></tr>\n",
       "<tr><td>False</td><td>False</td><td>False</td><td>False</td><td>False</td><td>False</td><td>GALAXY</td></tr>\n",
       "<tr><td>False</td><td>False</td><td>False</td><td>False</td><td>False</td><td>False</td><td>GALAXY</td></tr>\n",
       "<tr><td>False</td><td>False</td><td>False</td><td>False</td><td>False</td><td>False</td><td>GALAXY</td></tr>\n",
       "<tr><td>False</td><td>False</td><td>False</td><td>False</td><td>False</td><td>False</td><td>GALAXY</td></tr>\n",
       "<tr><td>False</td><td>False</td><td>False</td><td>False</td><td>False</td><td>False</td><td>GALAXY</td></tr>\n",
       "<tr><td>False</td><td>False</td><td>False</td><td>False</td><td>False</td><td>False</td><td>GALAXY</td></tr>\n",
       "<tr><td>False</td><td>False</td><td>False</td><td>False</td><td>False</td><td>False</td><td>GALAXY</td></tr>\n",
       "<tr><td>False</td><td>False</td><td>False</td><td>False</td><td>False</td><td>False</td><td>GALAXY</td></tr>\n",
       "<tr><td>False</td><td>False</td><td>False</td><td>False</td><td>False</td><td>False</td><td>GALAXY</td></tr>\n",
       "<tr><td>False</td><td>False</td><td>False</td><td>False</td><td>False</td><td>False</td><td>GALAXY</td></tr>\n",
       "<tr><td>False</td><td>False</td><td>False</td><td>False</td><td>False</td><td>False</td><td>GALAXY</td></tr>\n",
       "<tr><td>False</td><td>False</td><td>False</td><td>False</td><td>False</td><td>False</td><td>GALAXY</td></tr>\n",
       "<tr><td>False</td><td>False</td><td>False</td><td>False</td><td>False</td><td>False</td><td>GALAXY</td></tr>\n",
       "<tr><td>False</td><td>False</td><td>False</td><td>False</td><td>False</td><td>False</td><td>GALAXY</td></tr>\n",
       "</table>"
      ],
      "text/plain": [
       "<Table length=20>\n",
       "objid cModelMag_u cModelMag_g cModelMag_r cModelMag_i cModelMag_z class \n",
       " bool     bool        bool        bool        bool        bool    bytes6\n",
       "----- ----------- ----------- ----------- ----------- ----------- ------\n",
       "False       False       False       False       False       False GALAXY\n",
       "False       False       False       False       False       False GALAXY\n",
       "False       False       False       False       False       False GALAXY\n",
       "False       False       False       False       False       False GALAXY\n",
       "False       False       False       False       False       False GALAXY\n",
       "False       False       False       False       False       False GALAXY\n",
       "False       False       False       False       False       False GALAXY\n",
       "False       False       False       False       False       False GALAXY\n",
       "False       False       False       False       False       False GALAXY\n",
       "False       False       False       False       False       False GALAXY\n",
       "False       False       False       False       False       False GALAXY\n",
       "False       False       False       False       False       False GALAXY\n",
       "False       False       False       False       False       False GALAXY\n",
       "False       False       False       False       False       False GALAXY\n",
       "False       False       False       False       False       False GALAXY\n",
       "False       False       False       False       False       False GALAXY\n",
       "False       False       False       False       False       False GALAXY\n",
       "False       False       False       False       False       False GALAXY\n",
       "False       False       False       False       False       False GALAXY\n",
       "False       False       False       False       False       False GALAXY"
      ]
     },
     "execution_count": 37,
     "metadata": {},
     "output_type": "execute_result"
    }
   ],
   "source": [
    "SDSS.query_sql(\"\"\"select top 20 objid, cModelMag_u, cModelMag_g, cModelMag_r, cModelMag_i, cModelMag_z, \n",
    "                         class\n",
    "                  from photoobjall p \n",
    "                      right outer join specobjall s on s.bestobjid = p.objid\n",
    "                \"\"\")"
   ]
  },
  {
   "cell_type": "markdown",
   "metadata": {
    "slideshow": {
     "slide_type": "slide"
    }
   },
   "source": [
    "## Challenge Problem\n",
    "\n",
    "To close the notebook we will perform a nested query. In brief, the idea is to join the results of one query with a separate query.\n",
    "\n",
    "Here, we are going to attempt to identify bright AGN that don't have SDSS spectra. To do so we will need the `photoObjAll` table, the `specObjAll` table, and the `rosat` table, which includes all cross matches between SDSS sources and X-ray sources detected by the [Rosat satellite](https://heasarc.gsfc.nasa.gov/docs/rosat/rosat3.html).\n",
    "\n",
    "Create a nested query that selects all *Rosat* sources that don't have SDSS spectra with `cModelFlux_u + cModelFlux_g + cModelFlux_r + cModelFlux_i + cModelFlux_z > 10000` (this flux contraint ensures the source is bright without making any cuts on color) and `type = 3`, this last constraint means the source is extended in SDSS images. \n",
    "\n",
    "*Hint* - you may run into timeout issues in which case you should run the query on CasJobs."
   ]
  },
  {
   "cell_type": "code",
   "execution_count": 42,
   "metadata": {
    "slideshow": {
     "slide_type": "subslide"
    }
   },
   "outputs": [
    {
     "name": "stderr",
     "output_type": "stream",
     "text": [
      "ERROR:root:An unexpected error occurred while tokenizing input\n",
      "The following traceback may be corrupted or invalid\n",
      "The error message is: ('EOF in multi-line string', (1, 16))\n",
      "\n"
     ]
    },
    {
     "ename": "ReadTimeout",
     "evalue": "HTTPConnectionPool(host='skyserver.sdss.org', port=80): Read timed out. (read timeout=60)",
     "output_type": "error",
     "traceback": [
      "\u001b[0;31m---------------------------------------------------------------------------\u001b[0m",
      "\u001b[0;31mtimeout\u001b[0m                                   Traceback (most recent call last)",
      "\u001b[0;32m/Users/adamamiller/miniconda3/envs/py35/lib/python3.5/site-packages/requests/packages/urllib3/connectionpool.py\u001b[0m in \u001b[0;36m_make_request\u001b[0;34m(self, conn, method, url, timeout, chunked, **httplib_request_kw)\u001b[0m\n\u001b[1;32m    385\u001b[0m                     \u001b[0;31m# otherwise it looks like a programming error was the cause.\u001b[0m\u001b[0;34m\u001b[0m\u001b[0;34m\u001b[0m\u001b[0m\n\u001b[0;32m--> 386\u001b[0;31m                     \u001b[0msix\u001b[0m\u001b[0;34m.\u001b[0m\u001b[0mraise_from\u001b[0m\u001b[0;34m(\u001b[0m\u001b[0me\u001b[0m\u001b[0;34m,\u001b[0m \u001b[0;32mNone\u001b[0m\u001b[0;34m)\u001b[0m\u001b[0;34m\u001b[0m\u001b[0m\n\u001b[0m\u001b[1;32m    387\u001b[0m         \u001b[0;32mexcept\u001b[0m \u001b[0;34m(\u001b[0m\u001b[0mSocketTimeout\u001b[0m\u001b[0;34m,\u001b[0m \u001b[0mBaseSSLError\u001b[0m\u001b[0;34m,\u001b[0m \u001b[0mSocketError\u001b[0m\u001b[0;34m)\u001b[0m \u001b[0;32mas\u001b[0m \u001b[0me\u001b[0m\u001b[0;34m:\u001b[0m\u001b[0;34m\u001b[0m\u001b[0m\n",
      "\u001b[0;32m/Users/adamamiller/miniconda3/envs/py35/lib/python3.5/site-packages/requests/packages/urllib3/packages/six.py\u001b[0m in \u001b[0;36mraise_from\u001b[0;34m(value, from_value)\u001b[0m\n",
      "\u001b[0;32m/Users/adamamiller/miniconda3/envs/py35/lib/python3.5/site-packages/requests/packages/urllib3/connectionpool.py\u001b[0m in \u001b[0;36m_make_request\u001b[0;34m(self, conn, method, url, timeout, chunked, **httplib_request_kw)\u001b[0m\n\u001b[1;32m    381\u001b[0m                 \u001b[0;32mtry\u001b[0m\u001b[0;34m:\u001b[0m\u001b[0;34m\u001b[0m\u001b[0m\n\u001b[0;32m--> 382\u001b[0;31m                     \u001b[0mhttplib_response\u001b[0m \u001b[0;34m=\u001b[0m \u001b[0mconn\u001b[0m\u001b[0;34m.\u001b[0m\u001b[0mgetresponse\u001b[0m\u001b[0;34m(\u001b[0m\u001b[0;34m)\u001b[0m\u001b[0;34m\u001b[0m\u001b[0m\n\u001b[0m\u001b[1;32m    383\u001b[0m                 \u001b[0;32mexcept\u001b[0m \u001b[0mException\u001b[0m \u001b[0;32mas\u001b[0m \u001b[0me\u001b[0m\u001b[0;34m:\u001b[0m\u001b[0;34m\u001b[0m\u001b[0m\n",
      "\u001b[0;32m/Users/adamamiller/miniconda3/envs/py35/lib/python3.5/http/client.py\u001b[0m in \u001b[0;36mgetresponse\u001b[0;34m(self)\u001b[0m\n\u001b[1;32m   1196\u001b[0m             \u001b[0;32mtry\u001b[0m\u001b[0;34m:\u001b[0m\u001b[0;34m\u001b[0m\u001b[0m\n\u001b[0;32m-> 1197\u001b[0;31m                 \u001b[0mresponse\u001b[0m\u001b[0;34m.\u001b[0m\u001b[0mbegin\u001b[0m\u001b[0;34m(\u001b[0m\u001b[0;34m)\u001b[0m\u001b[0;34m\u001b[0m\u001b[0m\n\u001b[0m\u001b[1;32m   1198\u001b[0m             \u001b[0;32mexcept\u001b[0m \u001b[0mConnectionError\u001b[0m\u001b[0;34m:\u001b[0m\u001b[0;34m\u001b[0m\u001b[0m\n",
      "\u001b[0;32m/Users/adamamiller/miniconda3/envs/py35/lib/python3.5/http/client.py\u001b[0m in \u001b[0;36mbegin\u001b[0;34m(self)\u001b[0m\n\u001b[1;32m    296\u001b[0m         \u001b[0;32mwhile\u001b[0m \u001b[0;32mTrue\u001b[0m\u001b[0;34m:\u001b[0m\u001b[0;34m\u001b[0m\u001b[0m\n\u001b[0;32m--> 297\u001b[0;31m             \u001b[0mversion\u001b[0m\u001b[0;34m,\u001b[0m \u001b[0mstatus\u001b[0m\u001b[0;34m,\u001b[0m \u001b[0mreason\u001b[0m \u001b[0;34m=\u001b[0m \u001b[0mself\u001b[0m\u001b[0;34m.\u001b[0m\u001b[0m_read_status\u001b[0m\u001b[0;34m(\u001b[0m\u001b[0;34m)\u001b[0m\u001b[0;34m\u001b[0m\u001b[0m\n\u001b[0m\u001b[1;32m    298\u001b[0m             \u001b[0;32mif\u001b[0m \u001b[0mstatus\u001b[0m \u001b[0;34m!=\u001b[0m \u001b[0mCONTINUE\u001b[0m\u001b[0;34m:\u001b[0m\u001b[0;34m\u001b[0m\u001b[0m\n",
      "\u001b[0;32m/Users/adamamiller/miniconda3/envs/py35/lib/python3.5/http/client.py\u001b[0m in \u001b[0;36m_read_status\u001b[0;34m(self)\u001b[0m\n\u001b[1;32m    257\u001b[0m     \u001b[0;32mdef\u001b[0m \u001b[0m_read_status\u001b[0m\u001b[0;34m(\u001b[0m\u001b[0mself\u001b[0m\u001b[0;34m)\u001b[0m\u001b[0;34m:\u001b[0m\u001b[0;34m\u001b[0m\u001b[0m\n\u001b[0;32m--> 258\u001b[0;31m         \u001b[0mline\u001b[0m \u001b[0;34m=\u001b[0m \u001b[0mstr\u001b[0m\u001b[0;34m(\u001b[0m\u001b[0mself\u001b[0m\u001b[0;34m.\u001b[0m\u001b[0mfp\u001b[0m\u001b[0;34m.\u001b[0m\u001b[0mreadline\u001b[0m\u001b[0;34m(\u001b[0m\u001b[0m_MAXLINE\u001b[0m \u001b[0;34m+\u001b[0m \u001b[0;36m1\u001b[0m\u001b[0;34m)\u001b[0m\u001b[0;34m,\u001b[0m \u001b[0;34m\"iso-8859-1\"\u001b[0m\u001b[0;34m)\u001b[0m\u001b[0;34m\u001b[0m\u001b[0m\n\u001b[0m\u001b[1;32m    259\u001b[0m         \u001b[0;32mif\u001b[0m \u001b[0mlen\u001b[0m\u001b[0;34m(\u001b[0m\u001b[0mline\u001b[0m\u001b[0;34m)\u001b[0m \u001b[0;34m>\u001b[0m \u001b[0m_MAXLINE\u001b[0m\u001b[0;34m:\u001b[0m\u001b[0;34m\u001b[0m\u001b[0m\n",
      "\u001b[0;32m/Users/adamamiller/miniconda3/envs/py35/lib/python3.5/socket.py\u001b[0m in \u001b[0;36mreadinto\u001b[0;34m(self, b)\u001b[0m\n\u001b[1;32m    574\u001b[0m             \u001b[0;32mtry\u001b[0m\u001b[0;34m:\u001b[0m\u001b[0;34m\u001b[0m\u001b[0m\n\u001b[0;32m--> 575\u001b[0;31m                 \u001b[0;32mreturn\u001b[0m \u001b[0mself\u001b[0m\u001b[0;34m.\u001b[0m\u001b[0m_sock\u001b[0m\u001b[0;34m.\u001b[0m\u001b[0mrecv_into\u001b[0m\u001b[0;34m(\u001b[0m\u001b[0mb\u001b[0m\u001b[0;34m)\u001b[0m\u001b[0;34m\u001b[0m\u001b[0m\n\u001b[0m\u001b[1;32m    576\u001b[0m             \u001b[0;32mexcept\u001b[0m \u001b[0mtimeout\u001b[0m\u001b[0;34m:\u001b[0m\u001b[0;34m\u001b[0m\u001b[0m\n",
      "\u001b[0;31mtimeout\u001b[0m: timed out",
      "\nDuring handling of the above exception, another exception occurred:\n",
      "\u001b[0;31mReadTimeoutError\u001b[0m                          Traceback (most recent call last)",
      "\u001b[0;32m/Users/adamamiller/miniconda3/envs/py35/lib/python3.5/site-packages/requests/adapters.py\u001b[0m in \u001b[0;36msend\u001b[0;34m(self, request, stream, timeout, verify, cert, proxies)\u001b[0m\n\u001b[1;32m    422\u001b[0m                     \u001b[0mretries\u001b[0m\u001b[0;34m=\u001b[0m\u001b[0mself\u001b[0m\u001b[0;34m.\u001b[0m\u001b[0mmax_retries\u001b[0m\u001b[0;34m,\u001b[0m\u001b[0;34m\u001b[0m\u001b[0m\n\u001b[0;32m--> 423\u001b[0;31m                     \u001b[0mtimeout\u001b[0m\u001b[0;34m=\u001b[0m\u001b[0mtimeout\u001b[0m\u001b[0;34m\u001b[0m\u001b[0m\n\u001b[0m\u001b[1;32m    424\u001b[0m                 )\n",
      "\u001b[0;32m/Users/adamamiller/miniconda3/envs/py35/lib/python3.5/site-packages/requests/packages/urllib3/connectionpool.py\u001b[0m in \u001b[0;36murlopen\u001b[0;34m(self, method, url, body, headers, retries, redirect, assert_same_host, timeout, pool_timeout, release_conn, chunked, body_pos, **response_kw)\u001b[0m\n\u001b[1;32m    648\u001b[0m             retries = retries.increment(method, url, error=e, _pool=self,\n\u001b[0;32m--> 649\u001b[0;31m                                         _stacktrace=sys.exc_info()[2])\n\u001b[0m\u001b[1;32m    650\u001b[0m             \u001b[0mretries\u001b[0m\u001b[0;34m.\u001b[0m\u001b[0msleep\u001b[0m\u001b[0;34m(\u001b[0m\u001b[0;34m)\u001b[0m\u001b[0;34m\u001b[0m\u001b[0m\n",
      "\u001b[0;32m/Users/adamamiller/miniconda3/envs/py35/lib/python3.5/site-packages/requests/packages/urllib3/util/retry.py\u001b[0m in \u001b[0;36mincrement\u001b[0;34m(self, method, url, response, error, _pool, _stacktrace)\u001b[0m\n\u001b[1;32m    346\u001b[0m             \u001b[0;32mif\u001b[0m \u001b[0mread\u001b[0m \u001b[0;32mis\u001b[0m \u001b[0;32mFalse\u001b[0m \u001b[0;32mor\u001b[0m \u001b[0;32mnot\u001b[0m \u001b[0mself\u001b[0m\u001b[0;34m.\u001b[0m\u001b[0m_is_method_retryable\u001b[0m\u001b[0;34m(\u001b[0m\u001b[0mmethod\u001b[0m\u001b[0;34m)\u001b[0m\u001b[0;34m:\u001b[0m\u001b[0;34m\u001b[0m\u001b[0m\n\u001b[0;32m--> 347\u001b[0;31m                 \u001b[0;32mraise\u001b[0m \u001b[0msix\u001b[0m\u001b[0;34m.\u001b[0m\u001b[0mreraise\u001b[0m\u001b[0;34m(\u001b[0m\u001b[0mtype\u001b[0m\u001b[0;34m(\u001b[0m\u001b[0merror\u001b[0m\u001b[0;34m)\u001b[0m\u001b[0;34m,\u001b[0m \u001b[0merror\u001b[0m\u001b[0;34m,\u001b[0m \u001b[0m_stacktrace\u001b[0m\u001b[0;34m)\u001b[0m\u001b[0;34m\u001b[0m\u001b[0m\n\u001b[0m\u001b[1;32m    348\u001b[0m             \u001b[0;32melif\u001b[0m \u001b[0mread\u001b[0m \u001b[0;32mis\u001b[0m \u001b[0;32mnot\u001b[0m \u001b[0;32mNone\u001b[0m\u001b[0;34m:\u001b[0m\u001b[0;34m\u001b[0m\u001b[0m\n",
      "\u001b[0;32m/Users/adamamiller/miniconda3/envs/py35/lib/python3.5/site-packages/requests/packages/urllib3/packages/six.py\u001b[0m in \u001b[0;36mreraise\u001b[0;34m(tp, value, tb)\u001b[0m\n\u001b[1;32m    685\u001b[0m             \u001b[0;32mraise\u001b[0m \u001b[0mvalue\u001b[0m\u001b[0;34m.\u001b[0m\u001b[0mwith_traceback\u001b[0m\u001b[0;34m(\u001b[0m\u001b[0mtb\u001b[0m\u001b[0;34m)\u001b[0m\u001b[0;34m\u001b[0m\u001b[0m\n\u001b[0;32m--> 686\u001b[0;31m         \u001b[0;32mraise\u001b[0m \u001b[0mvalue\u001b[0m\u001b[0;34m\u001b[0m\u001b[0m\n\u001b[0m\u001b[1;32m    687\u001b[0m \u001b[0;34m\u001b[0m\u001b[0m\n",
      "\u001b[0;32m/Users/adamamiller/miniconda3/envs/py35/lib/python3.5/site-packages/requests/packages/urllib3/connectionpool.py\u001b[0m in \u001b[0;36murlopen\u001b[0;34m(self, method, url, body, headers, retries, redirect, assert_same_host, timeout, pool_timeout, release_conn, chunked, body_pos, **response_kw)\u001b[0m\n\u001b[1;32m    599\u001b[0m                                                   \u001b[0mbody\u001b[0m\u001b[0;34m=\u001b[0m\u001b[0mbody\u001b[0m\u001b[0;34m,\u001b[0m \u001b[0mheaders\u001b[0m\u001b[0;34m=\u001b[0m\u001b[0mheaders\u001b[0m\u001b[0;34m,\u001b[0m\u001b[0;34m\u001b[0m\u001b[0m\n\u001b[0;32m--> 600\u001b[0;31m                                                   chunked=chunked)\n\u001b[0m\u001b[1;32m    601\u001b[0m \u001b[0;34m\u001b[0m\u001b[0m\n",
      "\u001b[0;32m/Users/adamamiller/miniconda3/envs/py35/lib/python3.5/site-packages/requests/packages/urllib3/connectionpool.py\u001b[0m in \u001b[0;36m_make_request\u001b[0;34m(self, conn, method, url, timeout, chunked, **httplib_request_kw)\u001b[0m\n\u001b[1;32m    387\u001b[0m         \u001b[0;32mexcept\u001b[0m \u001b[0;34m(\u001b[0m\u001b[0mSocketTimeout\u001b[0m\u001b[0;34m,\u001b[0m \u001b[0mBaseSSLError\u001b[0m\u001b[0;34m,\u001b[0m \u001b[0mSocketError\u001b[0m\u001b[0;34m)\u001b[0m \u001b[0;32mas\u001b[0m \u001b[0me\u001b[0m\u001b[0;34m:\u001b[0m\u001b[0;34m\u001b[0m\u001b[0m\n\u001b[0;32m--> 388\u001b[0;31m             \u001b[0mself\u001b[0m\u001b[0;34m.\u001b[0m\u001b[0m_raise_timeout\u001b[0m\u001b[0;34m(\u001b[0m\u001b[0merr\u001b[0m\u001b[0;34m=\u001b[0m\u001b[0me\u001b[0m\u001b[0;34m,\u001b[0m \u001b[0murl\u001b[0m\u001b[0;34m=\u001b[0m\u001b[0murl\u001b[0m\u001b[0;34m,\u001b[0m \u001b[0mtimeout_value\u001b[0m\u001b[0;34m=\u001b[0m\u001b[0mread_timeout\u001b[0m\u001b[0;34m)\u001b[0m\u001b[0;34m\u001b[0m\u001b[0m\n\u001b[0m\u001b[1;32m    389\u001b[0m             \u001b[0;32mraise\u001b[0m\u001b[0;34m\u001b[0m\u001b[0m\n",
      "\u001b[0;32m/Users/adamamiller/miniconda3/envs/py35/lib/python3.5/site-packages/requests/packages/urllib3/connectionpool.py\u001b[0m in \u001b[0;36m_raise_timeout\u001b[0;34m(self, err, url, timeout_value)\u001b[0m\n\u001b[1;32m    307\u001b[0m         \u001b[0;32mif\u001b[0m \u001b[0misinstance\u001b[0m\u001b[0;34m(\u001b[0m\u001b[0merr\u001b[0m\u001b[0;34m,\u001b[0m \u001b[0mSocketTimeout\u001b[0m\u001b[0;34m)\u001b[0m\u001b[0;34m:\u001b[0m\u001b[0;34m\u001b[0m\u001b[0m\n\u001b[0;32m--> 308\u001b[0;31m             \u001b[0;32mraise\u001b[0m \u001b[0mReadTimeoutError\u001b[0m\u001b[0;34m(\u001b[0m\u001b[0mself\u001b[0m\u001b[0;34m,\u001b[0m \u001b[0murl\u001b[0m\u001b[0;34m,\u001b[0m \u001b[0;34m\"Read timed out. (read timeout=%s)\"\u001b[0m \u001b[0;34m%\u001b[0m \u001b[0mtimeout_value\u001b[0m\u001b[0;34m)\u001b[0m\u001b[0;34m\u001b[0m\u001b[0m\n\u001b[0m\u001b[1;32m    309\u001b[0m \u001b[0;34m\u001b[0m\u001b[0m\n",
      "\u001b[0;31mReadTimeoutError\u001b[0m: HTTPConnectionPool(host='skyserver.sdss.org', port=80): Read timed out. (read timeout=60)",
      "\nDuring handling of the above exception, another exception occurred:\n",
      "\u001b[0;31mReadTimeout\u001b[0m                               Traceback (most recent call last)",
      "\u001b[0;32m<ipython-input-42-3a7f290631ae>\u001b[0m in \u001b[0;36m<module>\u001b[0;34m()\u001b[0m\n\u001b[1;32m      7\u001b[0m   \u001b[0mleft\u001b[0m \u001b[0mjoin\u001b[0m \u001b[0mspecobjall\u001b[0m \u001b[0mp\u001b[0m \u001b[0mon\u001b[0m \u001b[0mrm\u001b[0m\u001b[0;34m.\u001b[0m\u001b[0mobjid\u001b[0m \u001b[0;34m=\u001b[0m \u001b[0mp\u001b[0m\u001b[0;34m.\u001b[0m\u001b[0mbestobjid\u001b[0m\u001b[0;34m\u001b[0m\u001b[0m\n\u001b[1;32m      8\u001b[0m   \u001b[0mwhere\u001b[0m \u001b[0mp\u001b[0m\u001b[0;34m.\u001b[0m\u001b[0mbestobjid\u001b[0m \u001b[0;32mis\u001b[0m \u001b[0mnull\u001b[0m\u001b[0;34m\u001b[0m\u001b[0m\n\u001b[0;32m----> 9\u001b[0;31m                 \"\"\")\n\u001b[0m",
      "\u001b[0;32m/Users/adamamiller/miniconda3/envs/py35/lib/python3.5/site-packages/astroquery/utils/class_or_instance.py\u001b[0m in \u001b[0;36mf\u001b[0;34m(*args, **kwds)\u001b[0m\n\u001b[1;32m     23\u001b[0m         \u001b[0;32mdef\u001b[0m \u001b[0mf\u001b[0m\u001b[0;34m(\u001b[0m\u001b[0;34m*\u001b[0m\u001b[0margs\u001b[0m\u001b[0;34m,\u001b[0m \u001b[0;34m**\u001b[0m\u001b[0mkwds\u001b[0m\u001b[0;34m)\u001b[0m\u001b[0;34m:\u001b[0m\u001b[0;34m\u001b[0m\u001b[0m\n\u001b[1;32m     24\u001b[0m             \u001b[0;32mif\u001b[0m \u001b[0mobj\u001b[0m \u001b[0;32mis\u001b[0m \u001b[0;32mnot\u001b[0m \u001b[0;32mNone\u001b[0m\u001b[0;34m:\u001b[0m\u001b[0;34m\u001b[0m\u001b[0m\n\u001b[0;32m---> 25\u001b[0;31m                 \u001b[0;32mreturn\u001b[0m \u001b[0mself\u001b[0m\u001b[0;34m.\u001b[0m\u001b[0mfn\u001b[0m\u001b[0;34m(\u001b[0m\u001b[0mobj\u001b[0m\u001b[0;34m,\u001b[0m \u001b[0;34m*\u001b[0m\u001b[0margs\u001b[0m\u001b[0;34m,\u001b[0m \u001b[0;34m**\u001b[0m\u001b[0mkwds\u001b[0m\u001b[0;34m)\u001b[0m\u001b[0;34m\u001b[0m\u001b[0m\n\u001b[0m\u001b[1;32m     26\u001b[0m             \u001b[0;32melse\u001b[0m\u001b[0;34m:\u001b[0m\u001b[0;34m\u001b[0m\u001b[0m\n\u001b[1;32m     27\u001b[0m                 \u001b[0;32mreturn\u001b[0m \u001b[0mself\u001b[0m\u001b[0;34m.\u001b[0m\u001b[0mfn\u001b[0m\u001b[0;34m(\u001b[0m\u001b[0mcls\u001b[0m\u001b[0;34m,\u001b[0m \u001b[0;34m*\u001b[0m\u001b[0margs\u001b[0m\u001b[0;34m,\u001b[0m \u001b[0;34m**\u001b[0m\u001b[0mkwds\u001b[0m\u001b[0;34m)\u001b[0m\u001b[0;34m\u001b[0m\u001b[0m\n",
      "\u001b[0;32m/Users/adamamiller/miniconda3/envs/py35/lib/python3.5/site-packages/astroquery/utils/process_asyncs.py\u001b[0m in \u001b[0;36mnewmethod\u001b[0;34m(self, *args, **kwargs)\u001b[0m\n\u001b[1;32m     24\u001b[0m             \u001b[0mverbose\u001b[0m \u001b[0;34m=\u001b[0m \u001b[0mkwargs\u001b[0m\u001b[0;34m.\u001b[0m\u001b[0mpop\u001b[0m\u001b[0;34m(\u001b[0m\u001b[0;34m'verbose'\u001b[0m\u001b[0;34m,\u001b[0m \u001b[0;32mFalse\u001b[0m\u001b[0;34m)\u001b[0m\u001b[0;34m\u001b[0m\u001b[0m\n\u001b[1;32m     25\u001b[0m \u001b[0;34m\u001b[0m\u001b[0m\n\u001b[0;32m---> 26\u001b[0;31m             \u001b[0mresponse\u001b[0m \u001b[0;34m=\u001b[0m \u001b[0mgetattr\u001b[0m\u001b[0;34m(\u001b[0m\u001b[0mself\u001b[0m\u001b[0;34m,\u001b[0m \u001b[0masync_method_name\u001b[0m\u001b[0;34m)\u001b[0m\u001b[0;34m(\u001b[0m\u001b[0;34m*\u001b[0m\u001b[0margs\u001b[0m\u001b[0;34m,\u001b[0m \u001b[0;34m**\u001b[0m\u001b[0mkwargs\u001b[0m\u001b[0;34m)\u001b[0m\u001b[0;34m\u001b[0m\u001b[0m\n\u001b[0m\u001b[1;32m     27\u001b[0m             \u001b[0;32mif\u001b[0m \u001b[0mkwargs\u001b[0m\u001b[0;34m.\u001b[0m\u001b[0mget\u001b[0m\u001b[0;34m(\u001b[0m\u001b[0;34m'get_query_payload'\u001b[0m\u001b[0;34m)\u001b[0m \u001b[0;32mor\u001b[0m \u001b[0mkwargs\u001b[0m\u001b[0;34m.\u001b[0m\u001b[0mget\u001b[0m\u001b[0;34m(\u001b[0m\u001b[0;34m'field_help'\u001b[0m\u001b[0;34m)\u001b[0m\u001b[0;34m:\u001b[0m\u001b[0;34m\u001b[0m\u001b[0m\n\u001b[1;32m     28\u001b[0m                 \u001b[0;32mreturn\u001b[0m \u001b[0mresponse\u001b[0m\u001b[0;34m\u001b[0m\u001b[0m\n",
      "\u001b[0;32m/Users/adamamiller/miniconda3/envs/py35/lib/python3.5/site-packages/astroquery/sdss/core.py\u001b[0m in \u001b[0;36mquery_sql_async\u001b[0;34m(self, sql_query, timeout, data_release, cache, **kwargs)\u001b[0m\n\u001b[1;32m    473\u001b[0m         \u001b[0murl\u001b[0m \u001b[0;34m=\u001b[0m \u001b[0mself\u001b[0m\u001b[0;34m.\u001b[0m\u001b[0m_get_query_url\u001b[0m\u001b[0;34m(\u001b[0m\u001b[0mdata_release\u001b[0m\u001b[0;34m)\u001b[0m\u001b[0;34m\u001b[0m\u001b[0m\n\u001b[1;32m    474\u001b[0m         response = self._request(\"GET\", url, params=request_payload,\n\u001b[0;32m--> 475\u001b[0;31m                                  timeout=timeout, cache=cache)\n\u001b[0m\u001b[1;32m    476\u001b[0m         \u001b[0;32mreturn\u001b[0m \u001b[0mresponse\u001b[0m\u001b[0;34m\u001b[0m\u001b[0m\n\u001b[1;32m    477\u001b[0m \u001b[0;34m\u001b[0m\u001b[0m\n",
      "\u001b[0;32m/Users/adamamiller/miniconda3/envs/py35/lib/python3.5/site-packages/astroquery/query.py\u001b[0m in \u001b[0;36m_request\u001b[0;34m(self, method, url, params, data, headers, files, save, savedir, timeout, cache, stream, auth, continuation)\u001b[0m\n\u001b[1;32m    195\u001b[0m                                              \u001b[0mself\u001b[0m\u001b[0;34m.\u001b[0m\u001b[0mcache_location\u001b[0m\u001b[0;34m,\u001b[0m\u001b[0;34m\u001b[0m\u001b[0m\n\u001b[1;32m    196\u001b[0m                                              \u001b[0mstream\u001b[0m\u001b[0;34m=\u001b[0m\u001b[0mstream\u001b[0m\u001b[0;34m,\u001b[0m\u001b[0;34m\u001b[0m\u001b[0m\n\u001b[0;32m--> 197\u001b[0;31m                                              auth=auth)\n\u001b[0m\u001b[1;32m    198\u001b[0m                     \u001b[0mto_cache\u001b[0m\u001b[0;34m(\u001b[0m\u001b[0mresponse\u001b[0m\u001b[0;34m,\u001b[0m \u001b[0mquery\u001b[0m\u001b[0;34m.\u001b[0m\u001b[0mrequest_file\u001b[0m\u001b[0;34m(\u001b[0m\u001b[0mself\u001b[0m\u001b[0;34m.\u001b[0m\u001b[0mcache_location\u001b[0m\u001b[0;34m)\u001b[0m\u001b[0;34m)\u001b[0m\u001b[0;34m\u001b[0m\u001b[0m\n\u001b[1;32m    199\u001b[0m             \u001b[0mself\u001b[0m\u001b[0;34m.\u001b[0m\u001b[0m_last_query\u001b[0m \u001b[0;34m=\u001b[0m \u001b[0mquery\u001b[0m\u001b[0;34m\u001b[0m\u001b[0m\n",
      "\u001b[0;32m/Users/adamamiller/miniconda3/envs/py35/lib/python3.5/site-packages/astroquery/query.py\u001b[0m in \u001b[0;36mrequest\u001b[0;34m(self, session, cache_location, stream, auth)\u001b[0m\n\u001b[1;32m     58\u001b[0m                                \u001b[0mdata\u001b[0m\u001b[0;34m=\u001b[0m\u001b[0mself\u001b[0m\u001b[0;34m.\u001b[0m\u001b[0mdata\u001b[0m\u001b[0;34m,\u001b[0m \u001b[0mheaders\u001b[0m\u001b[0;34m=\u001b[0m\u001b[0mself\u001b[0m\u001b[0;34m.\u001b[0m\u001b[0mheaders\u001b[0m\u001b[0;34m,\u001b[0m\u001b[0;34m\u001b[0m\u001b[0m\n\u001b[1;32m     59\u001b[0m                                \u001b[0mfiles\u001b[0m\u001b[0;34m=\u001b[0m\u001b[0mself\u001b[0m\u001b[0;34m.\u001b[0m\u001b[0mfiles\u001b[0m\u001b[0;34m,\u001b[0m \u001b[0mtimeout\u001b[0m\u001b[0;34m=\u001b[0m\u001b[0mself\u001b[0m\u001b[0;34m.\u001b[0m\u001b[0mtimeout\u001b[0m\u001b[0;34m,\u001b[0m\u001b[0;34m\u001b[0m\u001b[0m\n\u001b[0;32m---> 60\u001b[0;31m                                stream=stream, auth=auth)\n\u001b[0m\u001b[1;32m     61\u001b[0m \u001b[0;34m\u001b[0m\u001b[0m\n\u001b[1;32m     62\u001b[0m     \u001b[0;32mdef\u001b[0m \u001b[0mhash\u001b[0m\u001b[0;34m(\u001b[0m\u001b[0mself\u001b[0m\u001b[0;34m)\u001b[0m\u001b[0;34m:\u001b[0m\u001b[0;34m\u001b[0m\u001b[0m\n",
      "\u001b[0;32m/Users/adamamiller/miniconda3/envs/py35/lib/python3.5/site-packages/requests/sessions.py\u001b[0m in \u001b[0;36mrequest\u001b[0;34m(self, method, url, params, data, headers, cookies, files, auth, timeout, allow_redirects, proxies, hooks, stream, verify, cert, json)\u001b[0m\n\u001b[1;32m    486\u001b[0m         }\n\u001b[1;32m    487\u001b[0m         \u001b[0msend_kwargs\u001b[0m\u001b[0;34m.\u001b[0m\u001b[0mupdate\u001b[0m\u001b[0;34m(\u001b[0m\u001b[0msettings\u001b[0m\u001b[0;34m)\u001b[0m\u001b[0;34m\u001b[0m\u001b[0m\n\u001b[0;32m--> 488\u001b[0;31m         \u001b[0mresp\u001b[0m \u001b[0;34m=\u001b[0m \u001b[0mself\u001b[0m\u001b[0;34m.\u001b[0m\u001b[0msend\u001b[0m\u001b[0;34m(\u001b[0m\u001b[0mprep\u001b[0m\u001b[0;34m,\u001b[0m \u001b[0;34m**\u001b[0m\u001b[0msend_kwargs\u001b[0m\u001b[0;34m)\u001b[0m\u001b[0;34m\u001b[0m\u001b[0m\n\u001b[0m\u001b[1;32m    489\u001b[0m \u001b[0;34m\u001b[0m\u001b[0m\n\u001b[1;32m    490\u001b[0m         \u001b[0;32mreturn\u001b[0m \u001b[0mresp\u001b[0m\u001b[0;34m\u001b[0m\u001b[0m\n",
      "\u001b[0;32m/Users/adamamiller/miniconda3/envs/py35/lib/python3.5/site-packages/requests/sessions.py\u001b[0m in \u001b[0;36msend\u001b[0;34m(self, request, **kwargs)\u001b[0m\n\u001b[1;32m    607\u001b[0m \u001b[0;34m\u001b[0m\u001b[0m\n\u001b[1;32m    608\u001b[0m         \u001b[0;31m# Send the request\u001b[0m\u001b[0;34m\u001b[0m\u001b[0;34m\u001b[0m\u001b[0m\n\u001b[0;32m--> 609\u001b[0;31m         \u001b[0mr\u001b[0m \u001b[0;34m=\u001b[0m \u001b[0madapter\u001b[0m\u001b[0;34m.\u001b[0m\u001b[0msend\u001b[0m\u001b[0;34m(\u001b[0m\u001b[0mrequest\u001b[0m\u001b[0;34m,\u001b[0m \u001b[0;34m**\u001b[0m\u001b[0mkwargs\u001b[0m\u001b[0;34m)\u001b[0m\u001b[0;34m\u001b[0m\u001b[0m\n\u001b[0m\u001b[1;32m    610\u001b[0m \u001b[0;34m\u001b[0m\u001b[0m\n\u001b[1;32m    611\u001b[0m         \u001b[0;31m# Total elapsed time of the request (approximately)\u001b[0m\u001b[0;34m\u001b[0m\u001b[0;34m\u001b[0m\u001b[0m\n",
      "\u001b[0;32m/Users/adamamiller/miniconda3/envs/py35/lib/python3.5/site-packages/requests/adapters.py\u001b[0m in \u001b[0;36msend\u001b[0;34m(self, request, stream, timeout, verify, cert, proxies)\u001b[0m\n\u001b[1;32m    497\u001b[0m                 \u001b[0;32mraise\u001b[0m \u001b[0mSSLError\u001b[0m\u001b[0;34m(\u001b[0m\u001b[0me\u001b[0m\u001b[0;34m,\u001b[0m \u001b[0mrequest\u001b[0m\u001b[0;34m=\u001b[0m\u001b[0mrequest\u001b[0m\u001b[0;34m)\u001b[0m\u001b[0;34m\u001b[0m\u001b[0m\n\u001b[1;32m    498\u001b[0m             \u001b[0;32melif\u001b[0m \u001b[0misinstance\u001b[0m\u001b[0;34m(\u001b[0m\u001b[0me\u001b[0m\u001b[0;34m,\u001b[0m \u001b[0mReadTimeoutError\u001b[0m\u001b[0;34m)\u001b[0m\u001b[0;34m:\u001b[0m\u001b[0;34m\u001b[0m\u001b[0m\n\u001b[0;32m--> 499\u001b[0;31m                 \u001b[0;32mraise\u001b[0m \u001b[0mReadTimeout\u001b[0m\u001b[0;34m(\u001b[0m\u001b[0me\u001b[0m\u001b[0;34m,\u001b[0m \u001b[0mrequest\u001b[0m\u001b[0;34m=\u001b[0m\u001b[0mrequest\u001b[0m\u001b[0;34m)\u001b[0m\u001b[0;34m\u001b[0m\u001b[0m\n\u001b[0m\u001b[1;32m    500\u001b[0m             \u001b[0;32melse\u001b[0m\u001b[0;34m:\u001b[0m\u001b[0;34m\u001b[0m\u001b[0m\n\u001b[1;32m    501\u001b[0m                 \u001b[0;32mraise\u001b[0m\u001b[0;34m\u001b[0m\u001b[0m\n",
      "\u001b[0;31mReadTimeout\u001b[0m: HTTPConnectionPool(host='skyserver.sdss.org', port=80): Read timed out. (read timeout=60)"
     ]
    }
   ],
   "source": [
    "SDSS.query_sql(\"\"\"select rm.*\n",
    "from \n",
    "(select r.objid, r.sourcename, r.ra, r.dec, r.cps, r.hr1, r.hr2, cModelMag_u, cModelMag_g, cModelMag_r, cModelMag_i, cModelMag_z\n",
    "from photoobjall p join rosat r on p.objid = r.objid\n",
    "  where (cModelFlux_u + cModelFlux_g + cModelFlux_r + cModelFlux_i + cModelFlux_z > 10000)\n",
    "    and p.type = 3) as rm\n",
    "  left join specobjall p on rm.objid = p.bestobjid\n",
    "  where p.bestobjid is null \n",
    "                \"\"\")"
   ]
  },
  {
   "cell_type": "code",
   "execution_count": null,
   "metadata": {
    "collapsed": true
   },
   "outputs": [],
   "source": []
  }
 ],
 "metadata": {
  "celltoolbar": "Slideshow",
  "kernelspec": {
   "display_name": "Python 3",
   "language": "python",
   "name": "python3"
  },
  "language_info": {
   "codemirror_mode": {
    "name": "ipython",
    "version": 3
   },
   "file_extension": ".py",
   "mimetype": "text/x-python",
   "name": "python",
   "nbconvert_exporter": "python",
   "pygments_lexer": "ipython3",
   "version": "3.6.7"
  }
 },
 "nbformat": 4,
 "nbformat_minor": 2
}
