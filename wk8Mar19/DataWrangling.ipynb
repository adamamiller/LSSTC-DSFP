{
 "cells": [
  {
   "cell_type": "code",
   "execution_count": 2,
   "metadata": {
    "slideshow": {
     "slide_type": "skip"
    }
   },
   "outputs": [],
   "source": [
    "import numpy as np\n",
    "import pandas as pd\n",
    "import matplotlib.pyplot as plt\n",
    "\n",
    "%matplotlib notebook"
   ]
  },
  {
   "cell_type": "markdown",
   "metadata": {
    "slideshow": {
     "slide_type": "slide"
    }
   },
   "source": [
    "# Wranglin' –– Corraling Unruly Data\n",
    "One bit at a time\n",
    "=====\n",
    "\n",
    "**Version 0.1**\n",
    "\n",
    "By AA Miller 2019 Mar 26"
   ]
  },
  {
   "cell_type": "markdown",
   "metadata": {
    "slideshow": {
     "slide_type": "slide"
    }
   },
   "source": [
    "Webster's Dictionary$^\\ast$ defines wrangler as:\n",
    "\n",
    "**wrangler** noun\n",
    "\n",
    "wran·gler | raŋ-g(ə-)lər\n",
    "\n",
    "(short for horse-wrangler, probably partial translation of Mexican Spanish caballerango groom): a ranch hand who takes care of the saddle horses broadly : cowboy "
   ]
  },
  {
   "cell_type": "markdown",
   "metadata": {
    "slideshow": {
     "slide_type": "subslide"
    }
   },
   "source": [
    "$^\\ast$actually https://www.merriam-webster.com/dictionary/ - Webster's didn't define wrangler in the way I wanted"
   ]
  },
  {
   "cell_type": "markdown",
   "metadata": {
    "slideshow": {
     "slide_type": "slide"
    }
   },
   "source": [
    "How then, as astronomers, are we all like cowhands?\n",
    "\n",
    "Data are often like horses in that: they all differ, rarely conform to a single standard set of behavior, and they love to eat hay.$^\\dagger$"
   ]
  },
  {
   "cell_type": "markdown",
   "metadata": {
    "slideshow": {
     "slide_type": "subslide"
    }
   },
   "source": [
    "$^\\dagger$I made that last one up."
   ]
  },
  {
   "cell_type": "markdown",
   "metadata": {
    "slideshow": {
     "slide_type": "slide"
    }
   },
   "source": [
    "Thus, in our efforts to better understand the Universe, we must often manipulate, coax, and, in some cases, force our data to \"behave.\" This involves a variety of tasks, such as: gathering, cleaning, matching, restructuring, transforming, filtering, combining, merging, verifying, and fixing data."
   ]
  },
  {
   "cell_type": "markdown",
   "metadata": {
    "slideshow": {
     "slide_type": "slide"
    }
   },
   "source": [
    "Here is a brief and unfortunate truth, there isn't a single person in the entire world that would organize data in *exactly* the same way that you would.\n",
    "\n",
    "As a result, you may find that data that are useful to you are not organized in an optimal fashion for use in your workflow/software.\n",
    "\n",
    "Hence: the need to wrangle."
   ]
  },
  {
   "cell_type": "markdown",
   "metadata": {
    "slideshow": {
     "slide_type": "slide"
    }
   },
   "source": [
    "There is one important and significant way in which our lives as astronomers are much better than the average data scientist: even though our data are \"worthless,\" virtually all of it is numbers.\n",
    "\n",
    "Furthermore, I contend that most astronomical data can easily be organized into a simple tabular structure."
   ]
  },
  {
   "cell_type": "markdown",
   "metadata": {
    "slideshow": {
     "slide_type": "subslide"
    }
   },
   "source": [
    "Yesterday we joked that you could write a 10 page text document describing every individual galaxy in a galaxy cluster with 5000 members, but no one would ever do that."
   ]
  },
  {
   "cell_type": "markdown",
   "metadata": {
    "slideshow": {
     "slide_type": "slide"
    }
   },
   "source": [
    "Nevertheless, as you will see during the exercises, even with relatively simple, small numerical data sets there is a need for wrangling.\n",
    "\n",
    "And wrangling brings up a lot of issues..."
   ]
  },
  {
   "cell_type": "markdown",
   "metadata": {
    "slideshow": {
     "slide_type": "slide"
    }
   },
   "source": [
    "Consider the following data set that contains the street names for my best friends from childhood:\n",
    "\n",
    "    ['Ewing', 'Isabella', 'Reese', 'Isabella', \n",
    "     'Thayer', 'Reese', 'Reese', 'Ewing', 'Reece']\n",
    "\n",
    "Do you notice anything interesting?"
   ]
  },
  {
   "cell_type": "markdown",
   "metadata": {
    "slideshow": {
     "slide_type": "slide"
    }
   },
   "source": [
    "Either my hometown has a street named \"Reese\"  and a street named \"Reece\", or the last entry was input incorrectly. \n",
    "\n",
    "If the later is true, then we have to raise the question of: what should we do?"
   ]
  },
  {
   "cell_type": "markdown",
   "metadata": {
    "slideshow": {
     "slide_type": "slide"
    }
   },
   "source": [
    "For this particular data set, it would be possible to create a verification procedure to test for similar errors.\n",
    "\n",
    "1. Collect the names of every street in the city (from post office?)\n",
    "2. Confirm every instance in the data set has a counterpart.\n",
    "\n",
    "For any instances where this isn't the case, one could then intervene with a correction. "
   ]
  },
  {
   "cell_type": "markdown",
   "metadata": {
    "slideshow": {
     "slide_type": "slide"
    }
   },
   "source": [
    "This particular verification catches this street name error, but it doesn't correct for the possibility that the person doing the data entry may have been reading addresses really quickly and the third \"Reese\" entry should have actually said \"Lawndale.\"\n",
    "\n",
    "(verification is really hard)"
   ]
  },
  {
   "cell_type": "markdown",
   "metadata": {
    "slideshow": {
     "slide_type": "slide"
    }
   },
   "source": [
    "This also raises a question about data provenance. \n",
    "\n",
    "Data provenance is a historical record of the data and its origins."
   ]
  },
  {
   "cell_type": "markdown",
   "metadata": {
    "slideshow": {
     "slide_type": "slide"
    }
   },
   "source": [
    "If you are making \"corrections\" to the data, then each and every one of those corrections should be reported (this is similar to the idea of logging from yesterday's databases talk). Ideally, these reports would live with the data so others could understand how things have changed.\n",
    "\n",
    "If you did change \"Reece\" to \"Reese\", anyone working with the data should be able to confirm those changes."
   ]
  },
  {
   "cell_type": "markdown",
   "metadata": {
    "slideshow": {
     "slide_type": "slide"
    }
   },
   "source": [
    "Suppose now you wanted to use the same street name data set to estimate which street I lived on while growing up. \n",
    "\n",
    "One way to mathematically approach this problem would be to convert the streets in the data set to GPS coordinates, and then to perform a KDE of the PDF for the coordinates of where I lived. \n",
    "\n",
    "This too is a form of wrangling, because the data you have (street names) are not the data you need (coordinates). "
   ]
  },
  {
   "cell_type": "markdown",
   "metadata": {
    "slideshow": {
     "slide_type": "slide"
    }
   },
   "source": [
    "Why harp on this? \n",
    "\n",
    "In practice, data scientists (including astronomers) spend an unreasonable amount of time manipulating and quality checking data (some indsutry experts estimate that up to 80% of their time is spent warnglin').\n",
    "\n",
    "Today, we will work through several examples that require wrangling, while, hopefully, building some strategies to minimize the amount of time you spend on these tasks in the future."
   ]
  },
  {
   "cell_type": "markdown",
   "metadata": {
    "slideshow": {
     "slide_type": "slide"
    }
   },
   "source": [
    "For completeness, I will mention that there is a famous canonical paper about [data wrangling](http://vis.stanford.edu/files/2011-Wrangler-CHI.pdf), which introduces the [`Wrangler`](http://vis.stanford.edu/wrangler/), a tool specifically designed to take heterogeneous (text) data, and provide a set of suggested operations/manipulations to  create a homogenous table amenable to standard statistical analysis. \n",
    "\n",
    "One extremely nice property of the `Wrangler` is that it records every operation performed on the data, ensuring high-fidelity reporting on the data provenance. We should do a better job of this in astronomy."
   ]
  },
  {
   "cell_type": "markdown",
   "metadata": {
    "slideshow": {
     "slide_type": "slide"
    }
   },
   "source": [
    "Today, we are going to focus on `python` solutions to some specific astronomical data sets.\n",
    "\n",
    "Hopefully you learn some tricks to make your work easier in the future."
   ]
  },
  {
   "cell_type": "markdown",
   "metadata": {
    "slideshow": {
     "slide_type": "slide"
    }
   },
   "source": [
    "## Problem 1) The Sins of Our Predecessors"
   ]
  },
  {
   "cell_type": "markdown",
   "metadata": {
    "slideshow": {
     "slide_type": "slide"
    }
   },
   "source": [
    "If at any point in your career you need to access archival infrared data, you will likely need to retrieve that information from the [NASA IPAC InfRed Science Archive](https://irsa.ipac.caltech.edu). IRSA houses the data for every major NASA IR mission, and several ground-based missions as well (e.g., 2MASS, IRTF). Whether you are sudying brown dwarfs, explosive transients, solar system objects, star-formation, galaxy evolution, Milky Way dust and the resulting extinction of extragalactic observations, or quasars (and much more) the IR plays a critical role."
   ]
  },
  {
   "cell_type": "markdown",
   "metadata": {
    "slideshow": {
     "slide_type": "subslide"
    }
   },
   "source": [
    "Given the importance of IR observations, it stands to reason that IRSA would provide data in a simple to read format for modern machines, such as comma separated values or FITS binary tables...\n",
    "\n",
    "Right?..."
   ]
  },
  {
   "cell_type": "markdown",
   "metadata": {
    "slideshow": {
     "slide_type": "subslide"
    }
   },
   "source": [
    "**Right?...**"
   ]
  },
  {
   "cell_type": "markdown",
   "metadata": {
    "slideshow": {
     "slide_type": "subslide"
    }
   },
   "source": [
    "In fact, IRSA has created their own standard for storing data in a text file. If you haven't already, please download [irsa_catalog_WISE_iPTF14jg_search_results.tbl](https://northwestern.box.com/s/9lnpqwcmmke2f5wqptk2q1409kfydc2i), a file that is written in the standard IRSA format."
   ]
  },
  {
   "cell_type": "markdown",
   "metadata": {
    "slideshow": {
     "slide_type": "skip"
    }
   },
   "source": [
    "*shameless plug alert!* iPTF14jg is a [really strange star](https://arxiv.org/pdf/1901.10693.pdf) that exhibited a large outburst that we still don't totally understand. The associated data file includes [NEOWISE](https://neowise.ipac.caltech.edu/) observations of the mid-IR evolution of this outburst."
   ]
  },
  {
   "cell_type": "markdown",
   "metadata": {
    "slideshow": {
     "slide_type": "slide"
    }
   },
   "source": [
    "**Problem 1a**\n",
    "\n",
    "Using `pandas` read the data in the IRSA table file into a `DataFrame` object.\n",
    "\n",
    "*Hint 1* - you absolutely should look at the text file to develop a strategy to accomplish this goal.\n",
    "\n",
    "*Hint 2* - you may want to manipulate the text file so that it can more easily be read by `pandas`. **If you do this** be sure to copy the file to another name as you will want to leave the original intact. "
   ]
  },
  {
   "cell_type": "code",
   "execution_count": 5,
   "metadata": {
    "slideshow": {
     "slide_type": "subslide"
    }
   },
   "outputs": [
    {
     "data": {
      "text/html": [
       "<div>\n",
       "<style scoped>\n",
       "    .dataframe tbody tr th:only-of-type {\n",
       "        vertical-align: middle;\n",
       "    }\n",
       "\n",
       "    .dataframe tbody tr th {\n",
       "        vertical-align: top;\n",
       "    }\n",
       "\n",
       "    .dataframe thead th {\n",
       "        text-align: right;\n",
       "    }\n",
       "</style>\n",
       "<table border=\"1\" class=\"dataframe\">\n",
       "  <thead>\n",
       "    <tr style=\"text-align: right;\">\n",
       "      <th></th>\n",
       "      <th>ra</th>\n",
       "      <th>dec</th>\n",
       "      <th>sigra</th>\n",
       "      <th>sigdec</th>\n",
       "      <th>sigradec</th>\n",
       "      <th>w1mpro</th>\n",
       "      <th>w1sigmpro</th>\n",
       "      <th>w1snr</th>\n",
       "      <th>w1rchi2</th>\n",
       "      <th>w2mpro</th>\n",
       "      <th>...</th>\n",
       "      <th>w4sigmpro_allwise</th>\n",
       "      <th>tmass_key</th>\n",
       "      <th>j_m_2mass</th>\n",
       "      <th>j_msig_2mass</th>\n",
       "      <th>h_m_2mass</th>\n",
       "      <th>h_msig_2mass</th>\n",
       "      <th>k_m_2mass</th>\n",
       "      <th>k_msig_2mass</th>\n",
       "      <th>dist</th>\n",
       "      <th>angle</th>\n",
       "    </tr>\n",
       "  </thead>\n",
       "  <tbody>\n",
       "    <tr>\n",
       "      <th>0</th>\n",
       "      <td>40.125566</td>\n",
       "      <td>60.879306</td>\n",
       "      <td>0.0947</td>\n",
       "      <td>0.0936</td>\n",
       "      <td>-0.0337</td>\n",
       "      <td>13.251</td>\n",
       "      <td>0.038</td>\n",
       "      <td>28.8</td>\n",
       "      <td>0.8767</td>\n",
       "      <td>12.735</td>\n",
       "      <td>...</td>\n",
       "      <td>NaN</td>\n",
       "      <td>NaN</td>\n",
       "      <td>NaN</td>\n",
       "      <td>NaN</td>\n",
       "      <td>NaN</td>\n",
       "      <td>NaN</td>\n",
       "      <td>NaN</td>\n",
       "      <td>NaN</td>\n",
       "      <td>0.028668</td>\n",
       "      <td>242.330013</td>\n",
       "    </tr>\n",
       "    <tr>\n",
       "      <th>1</th>\n",
       "      <td>40.125574</td>\n",
       "      <td>60.879297</td>\n",
       "      <td>0.0925</td>\n",
       "      <td>0.0874</td>\n",
       "      <td>-0.0397</td>\n",
       "      <td>13.241</td>\n",
       "      <td>0.036</td>\n",
       "      <td>30.0</td>\n",
       "      <td>1.2610</td>\n",
       "      <td>12.629</td>\n",
       "      <td>...</td>\n",
       "      <td>NaN</td>\n",
       "      <td>NaN</td>\n",
       "      <td>NaN</td>\n",
       "      <td>NaN</td>\n",
       "      <td>NaN</td>\n",
       "      <td>NaN</td>\n",
       "      <td>NaN</td>\n",
       "      <td>NaN</td>\n",
       "      <td>0.048011</td>\n",
       "      <td>192.659014</td>\n",
       "    </tr>\n",
       "    <tr>\n",
       "      <th>2</th>\n",
       "      <td>40.125623</td>\n",
       "      <td>60.879318</td>\n",
       "      <td>0.0808</td>\n",
       "      <td>0.0794</td>\n",
       "      <td>0.0098</td>\n",
       "      <td>12.753</td>\n",
       "      <td>0.039</td>\n",
       "      <td>27.8</td>\n",
       "      <td>0.7640</td>\n",
       "      <td>11.901</td>\n",
       "      <td>...</td>\n",
       "      <td>NaN</td>\n",
       "      <td>NaN</td>\n",
       "      <td>NaN</td>\n",
       "      <td>NaN</td>\n",
       "      <td>NaN</td>\n",
       "      <td>NaN</td>\n",
       "      <td>NaN</td>\n",
       "      <td>NaN</td>\n",
       "      <td>0.079498</td>\n",
       "      <td>69.867298</td>\n",
       "    </tr>\n",
       "    <tr>\n",
       "      <th>3</th>\n",
       "      <td>40.125553</td>\n",
       "      <td>60.879286</td>\n",
       "      <td>0.0663</td>\n",
       "      <td>0.0608</td>\n",
       "      <td>-0.0156</td>\n",
       "      <td>12.774</td>\n",
       "      <td>0.028</td>\n",
       "      <td>38.6</td>\n",
       "      <td>1.3610</td>\n",
       "      <td>11.935</td>\n",
       "      <td>...</td>\n",
       "      <td>NaN</td>\n",
       "      <td>NaN</td>\n",
       "      <td>NaN</td>\n",
       "      <td>NaN</td>\n",
       "      <td>NaN</td>\n",
       "      <td>NaN</td>\n",
       "      <td>NaN</td>\n",
       "      <td>NaN</td>\n",
       "      <td>0.097389</td>\n",
       "      <td>209.287467</td>\n",
       "    </tr>\n",
       "    <tr>\n",
       "      <th>4</th>\n",
       "      <td>40.125572</td>\n",
       "      <td>60.879280</td>\n",
       "      <td>0.0645</td>\n",
       "      <td>0.0599</td>\n",
       "      <td>-0.0223</td>\n",
       "      <td>12.840</td>\n",
       "      <td>0.028</td>\n",
       "      <td>38.7</td>\n",
       "      <td>1.5550</td>\n",
       "      <td>11.897</td>\n",
       "      <td>...</td>\n",
       "      <td>NaN</td>\n",
       "      <td>NaN</td>\n",
       "      <td>NaN</td>\n",
       "      <td>NaN</td>\n",
       "      <td>NaN</td>\n",
       "      <td>NaN</td>\n",
       "      <td>NaN</td>\n",
       "      <td>NaN</td>\n",
       "      <td>0.107707</td>\n",
       "      <td>187.006050</td>\n",
       "    </tr>\n",
       "  </tbody>\n",
       "</table>\n",
       "<p>5 rows × 37 columns</p>\n",
       "</div>"
      ],
      "text/plain": [
       "          ra        dec   sigra  sigdec  sigradec  w1mpro  w1sigmpro  w1snr  \\\n",
       "0  40.125566  60.879306  0.0947  0.0936   -0.0337  13.251      0.038   28.8   \n",
       "1  40.125574  60.879297  0.0925  0.0874   -0.0397  13.241      0.036   30.0   \n",
       "2  40.125623  60.879318  0.0808  0.0794    0.0098  12.753      0.039   27.8   \n",
       "3  40.125553  60.879286  0.0663  0.0608   -0.0156  12.774      0.028   38.6   \n",
       "4  40.125572  60.879280  0.0645  0.0599   -0.0223  12.840      0.028   38.7   \n",
       "\n",
       "   w1rchi2  w2mpro     ...      w4sigmpro_allwise  tmass_key  j_m_2mass  \\\n",
       "0   0.8767  12.735     ...                    NaN        NaN        NaN   \n",
       "1   1.2610  12.629     ...                    NaN        NaN        NaN   \n",
       "2   0.7640  11.901     ...                    NaN        NaN        NaN   \n",
       "3   1.3610  11.935     ...                    NaN        NaN        NaN   \n",
       "4   1.5550  11.897     ...                    NaN        NaN        NaN   \n",
       "\n",
       "   j_msig_2mass  h_m_2mass h_msig_2mass k_m_2mass  k_msig_2mass      dist  \\\n",
       "0           NaN        NaN          NaN       NaN           NaN  0.028668   \n",
       "1           NaN        NaN          NaN       NaN           NaN  0.048011   \n",
       "2           NaN        NaN          NaN       NaN           NaN  0.079498   \n",
       "3           NaN        NaN          NaN       NaN           NaN  0.097389   \n",
       "4           NaN        NaN          NaN       NaN           NaN  0.107707   \n",
       "\n",
       "        angle  \n",
       "0  242.330013  \n",
       "1  192.659014  \n",
       "2   69.867298  \n",
       "3  209.287467  \n",
       "4  187.006050  \n",
       "\n",
       "[5 rows x 37 columns]"
      ]
     },
     "execution_count": 5,
     "metadata": {},
     "output_type": "execute_result"
    }
   ],
   "source": [
    "# Solution 1 - pure python solution with pandas\n",
    "\n",
    "with open('irsa_catalog_WISE_iPTF14jg_search_results.tbl') as f:\n",
    "    ll = f.readlines()\n",
    "    for linenum, l in enumerate(ll):\n",
    "        if l[0] == '|':\n",
    "            header = l.replace('|', ',').replace(' ', '')\n",
    "            header = list(header[1:-2].split(','))\n",
    "            break\n",
    "            \n",
    "irsa_tbl = pd.read_csv(\"irsa_catalog_WISE_iPTF14jg_search_results.tbl\", \n",
    "            skiprows=linenum+4, delim_whitespace=True, \n",
    "            header=None, names=header)\n",
    "irsa_tbl.head(5)"
   ]
  },
  {
   "cell_type": "markdown",
   "metadata": {
    "slideshow": {
     "slide_type": "subslide"
    }
   },
   "source": [
    "That pure python solution is a bit annoying as it requires a for loop with a break, and specific knowledge about how IRSA tables handler data headers (hence the use of `linenum + 4` for `skiprows`). Alternatively, one could  manipulate the data file to read in the data."
   ]
  },
  {
   "cell_type": "code",
   "execution_count": 6,
   "metadata": {
    "slideshow": {
     "slide_type": "subslide"
    }
   },
   "outputs": [
    {
     "data": {
      "text/html": [
       "<div>\n",
       "<style scoped>\n",
       "    .dataframe tbody tr th:only-of-type {\n",
       "        vertical-align: middle;\n",
       "    }\n",
       "\n",
       "    .dataframe tbody tr th {\n",
       "        vertical-align: top;\n",
       "    }\n",
       "\n",
       "    .dataframe thead th {\n",
       "        text-align: right;\n",
       "    }\n",
       "</style>\n",
       "<table border=\"1\" class=\"dataframe\">\n",
       "  <thead>\n",
       "    <tr style=\"text-align: right;\">\n",
       "      <th></th>\n",
       "      <th>ra</th>\n",
       "      <th>dec</th>\n",
       "      <th>sigra</th>\n",
       "      <th>sigdec</th>\n",
       "      <th>sigradec</th>\n",
       "      <th>w1mpro</th>\n",
       "      <th>w1sigmpro</th>\n",
       "      <th>w1snr</th>\n",
       "      <th>w1rchi2</th>\n",
       "      <th>w2mpro</th>\n",
       "      <th>...</th>\n",
       "      <th>w4sigmpro_allwise</th>\n",
       "      <th>tmass_key</th>\n",
       "      <th>j_m_2mass</th>\n",
       "      <th>j_msig_2mass</th>\n",
       "      <th>h_m_2mass</th>\n",
       "      <th>h_msig_2mass</th>\n",
       "      <th>k_m_2mass</th>\n",
       "      <th>k_msig_2mass</th>\n",
       "      <th>dist</th>\n",
       "      <th>angle</th>\n",
       "    </tr>\n",
       "  </thead>\n",
       "  <tbody>\n",
       "    <tr>\n",
       "      <th>0</th>\n",
       "      <td>40.125566</td>\n",
       "      <td>60.879306</td>\n",
       "      <td>0.0947</td>\n",
       "      <td>0.0936</td>\n",
       "      <td>-0.0337</td>\n",
       "      <td>13.251</td>\n",
       "      <td>0.038</td>\n",
       "      <td>28.8</td>\n",
       "      <td>0.8767</td>\n",
       "      <td>12.735</td>\n",
       "      <td>...</td>\n",
       "      <td>NaN</td>\n",
       "      <td>NaN</td>\n",
       "      <td>NaN</td>\n",
       "      <td>NaN</td>\n",
       "      <td>NaN</td>\n",
       "      <td>NaN</td>\n",
       "      <td>NaN</td>\n",
       "      <td>NaN</td>\n",
       "      <td>0.028668</td>\n",
       "      <td>242.330013</td>\n",
       "    </tr>\n",
       "    <tr>\n",
       "      <th>1</th>\n",
       "      <td>40.125574</td>\n",
       "      <td>60.879297</td>\n",
       "      <td>0.0925</td>\n",
       "      <td>0.0874</td>\n",
       "      <td>-0.0397</td>\n",
       "      <td>13.241</td>\n",
       "      <td>0.036</td>\n",
       "      <td>30.0</td>\n",
       "      <td>1.2610</td>\n",
       "      <td>12.629</td>\n",
       "      <td>...</td>\n",
       "      <td>NaN</td>\n",
       "      <td>NaN</td>\n",
       "      <td>NaN</td>\n",
       "      <td>NaN</td>\n",
       "      <td>NaN</td>\n",
       "      <td>NaN</td>\n",
       "      <td>NaN</td>\n",
       "      <td>NaN</td>\n",
       "      <td>0.048011</td>\n",
       "      <td>192.659014</td>\n",
       "    </tr>\n",
       "    <tr>\n",
       "      <th>2</th>\n",
       "      <td>40.125623</td>\n",
       "      <td>60.879318</td>\n",
       "      <td>0.0808</td>\n",
       "      <td>0.0794</td>\n",
       "      <td>0.0098</td>\n",
       "      <td>12.753</td>\n",
       "      <td>0.039</td>\n",
       "      <td>27.8</td>\n",
       "      <td>0.7640</td>\n",
       "      <td>11.901</td>\n",
       "      <td>...</td>\n",
       "      <td>NaN</td>\n",
       "      <td>NaN</td>\n",
       "      <td>NaN</td>\n",
       "      <td>NaN</td>\n",
       "      <td>NaN</td>\n",
       "      <td>NaN</td>\n",
       "      <td>NaN</td>\n",
       "      <td>NaN</td>\n",
       "      <td>0.079498</td>\n",
       "      <td>69.867298</td>\n",
       "    </tr>\n",
       "    <tr>\n",
       "      <th>3</th>\n",
       "      <td>40.125553</td>\n",
       "      <td>60.879286</td>\n",
       "      <td>0.0663</td>\n",
       "      <td>0.0608</td>\n",
       "      <td>-0.0156</td>\n",
       "      <td>12.774</td>\n",
       "      <td>0.028</td>\n",
       "      <td>38.6</td>\n",
       "      <td>1.3610</td>\n",
       "      <td>11.935</td>\n",
       "      <td>...</td>\n",
       "      <td>NaN</td>\n",
       "      <td>NaN</td>\n",
       "      <td>NaN</td>\n",
       "      <td>NaN</td>\n",
       "      <td>NaN</td>\n",
       "      <td>NaN</td>\n",
       "      <td>NaN</td>\n",
       "      <td>NaN</td>\n",
       "      <td>0.097389</td>\n",
       "      <td>209.287467</td>\n",
       "    </tr>\n",
       "    <tr>\n",
       "      <th>4</th>\n",
       "      <td>40.125572</td>\n",
       "      <td>60.879280</td>\n",
       "      <td>0.0645</td>\n",
       "      <td>0.0599</td>\n",
       "      <td>-0.0223</td>\n",
       "      <td>12.840</td>\n",
       "      <td>0.028</td>\n",
       "      <td>38.7</td>\n",
       "      <td>1.5550</td>\n",
       "      <td>11.897</td>\n",
       "      <td>...</td>\n",
       "      <td>NaN</td>\n",
       "      <td>NaN</td>\n",
       "      <td>NaN</td>\n",
       "      <td>NaN</td>\n",
       "      <td>NaN</td>\n",
       "      <td>NaN</td>\n",
       "      <td>NaN</td>\n",
       "      <td>NaN</td>\n",
       "      <td>0.107707</td>\n",
       "      <td>187.006050</td>\n",
       "    </tr>\n",
       "  </tbody>\n",
       "</table>\n",
       "<p>5 rows × 37 columns</p>\n",
       "</div>"
      ],
      "text/plain": [
       "          ra        dec   sigra  sigdec  sigradec  w1mpro  w1sigmpro  w1snr  \\\n",
       "0  40.125566  60.879306  0.0947  0.0936   -0.0337  13.251      0.038   28.8   \n",
       "1  40.125574  60.879297  0.0925  0.0874   -0.0397  13.241      0.036   30.0   \n",
       "2  40.125623  60.879318  0.0808  0.0794    0.0098  12.753      0.039   27.8   \n",
       "3  40.125553  60.879286  0.0663  0.0608   -0.0156  12.774      0.028   38.6   \n",
       "4  40.125572  60.879280  0.0645  0.0599   -0.0223  12.840      0.028   38.7   \n",
       "\n",
       "   w1rchi2  w2mpro     ...      w4sigmpro_allwise  tmass_key  j_m_2mass  \\\n",
       "0   0.8767  12.735     ...                    NaN        NaN        NaN   \n",
       "1   1.2610  12.629     ...                    NaN        NaN        NaN   \n",
       "2   0.7640  11.901     ...                    NaN        NaN        NaN   \n",
       "3   1.3610  11.935     ...                    NaN        NaN        NaN   \n",
       "4   1.5550  11.897     ...                    NaN        NaN        NaN   \n",
       "\n",
       "   j_msig_2mass  h_m_2mass h_msig_2mass k_m_2mass  k_msig_2mass      dist  \\\n",
       "0           NaN        NaN          NaN       NaN           NaN  0.028668   \n",
       "1           NaN        NaN          NaN       NaN           NaN  0.048011   \n",
       "2           NaN        NaN          NaN       NaN           NaN  0.079498   \n",
       "3           NaN        NaN          NaN       NaN           NaN  0.097389   \n",
       "4           NaN        NaN          NaN       NaN           NaN  0.107707   \n",
       "\n",
       "        angle  \n",
       "0  242.330013  \n",
       "1  192.659014  \n",
       "2   69.867298  \n",
       "3  209.287467  \n",
       "4  187.006050  \n",
       "\n",
       "[5 rows x 37 columns]"
      ]
     },
     "execution_count": 6,
     "metadata": {},
     "output_type": "execute_result"
    }
   ],
   "source": [
    "# solution 2 - edit the text file\n",
    "# !cp irsa_catalog_WISE_iPTF14jg_search_results.tbl tmp.tbl\n",
    "### delete lines 1-89, and 90-92\n",
    "### replace whitespace with commas (may require multiple operations)\n",
    "### replace '|' with commas\n",
    "### replace ',,' with single commas\n",
    "### replace ',\\n,' with '\\n'\n",
    "### delete the comma at the very beginning and very end of the file\n",
    "\n",
    "tedit_tbl = pd.read_csv('tmp.tbl')\n",
    "tedit_tbl.head(5)"
   ]
  },
  {
   "cell_type": "markdown",
   "metadata": {
    "slideshow": {
     "slide_type": "subslide"
    }
   },
   "source": [
    "That truly wasn't all that better - as it required a bunch of clicks/text editor edits. (There are programs such as `sed` and `awk` that could be used to execute all the necessary edits from the command line, but that too is cumbersome and somewhat like the initial all `python` solution). \n",
    "\n",
    "If astronomers are creating data in a \"standard\" format, then it ought to be easy for other astronomers to access that data."
   ]
  },
  {
   "cell_type": "markdown",
   "metadata": {
    "slideshow": {
     "slide_type": "subslide"
    }
   },
   "source": [
    "Fortunately, in this particular case, there is an easy solution - [`astropy Tables`](http://docs.astropy.org/en/stable/table/). \n",
    "\n",
    "IRSA tables are so commonly used throughout the community, that the folks at `astropy` have created a convenience method for all of us to read in tables created in that particular (unusual?) format."
   ]
  },
  {
   "cell_type": "markdown",
   "metadata": {
    "slideshow": {
     "slide_type": "slide"
    }
   },
   "source": [
    "**Problem 1b**\n",
    "\n",
    "Use [`Table.read()`](http://docs.astropy.org/en/stable/api/astropy.table.Table.html#astropy.table.Table.read) to read in `irsa_catalog_WISE_iPTF14jg_search_results.tbl` to an `astropy Table` object."
   ]
  },
  {
   "cell_type": "code",
   "execution_count": 28,
   "metadata": {
    "slideshow": {
     "slide_type": "subslide"
    }
   },
   "outputs": [
    {
     "data": {
      "text/html": [
       "<i>Table masked=True length=137</i>\n",
       "<table id=\"table90365541680\" class=\"table-striped table-bordered table-condensed\">\n",
       "<thead><tr><th>ra</th><th>dec</th><th>sigra</th><th>sigdec</th><th>sigradec</th><th>w1mpro</th><th>w1sigmpro</th><th>w1snr</th><th>w1rchi2</th><th>w2mpro</th><th>w2sigmpro</th><th>w2snr</th><th>w2rchi2</th><th>nb</th><th>na</th><th>cc_flags</th><th>ph_qual</th><th>qual_frame</th><th>mjd</th><th>allwise_cntr</th><th>w1mpro_allwise</th><th>w1sigmpro_allwise</th><th>w2mpro_allwise</th><th>w2sigmpro_allwise</th><th>w3mpro_allwise</th><th>w3sigmpro_allwise</th><th>w4mpro_allwise</th><th>w4sigmpro_allwise</th><th>tmass_key</th><th>j_m_2mass</th><th>j_msig_2mass</th><th>h_m_2mass</th><th>h_msig_2mass</th><th>k_m_2mass</th><th>k_msig_2mass</th><th>dist</th><th>angle</th></tr></thead>\n",
       "<thead><tr><th>deg</th><th>deg</th><th>arcsec</th><th>arcsec</th><th>arcsec</th><th>mag</th><th>mag</th><th></th><th></th><th>mag</th><th>mag</th><th></th><th></th><th></th><th></th><th></th><th></th><th></th><th>mjdate</th><th></th><th>mag</th><th>mag</th><th>mag</th><th>mag</th><th>mag</th><th>mag</th><th>mag</th><th>mag</th><th></th><th>mag</th><th>mag</th><th>mag</th><th>mag</th><th>mag</th><th>mag</th><th>arcsec</th><th>deg</th></tr></thead>\n",
       "<thead><tr><th>float64</th><th>float64</th><th>float64</th><th>float64</th><th>float64</th><th>float64</th><th>float64</th><th>float64</th><th>float64</th><th>float64</th><th>float64</th><th>float64</th><th>float64</th><th>int64</th><th>int64</th><th>str4</th><th>str2</th><th>int64</th><th>float64</th><th>int64</th><th>float64</th><th>float64</th><th>float64</th><th>float64</th><th>float64</th><th>float64</th><th>float64</th><th>float64</th><th>int64</th><th>float64</th><th>float64</th><th>float64</th><th>float64</th><th>float64</th><th>float64</th><th>float64</th><th>float64</th></tr></thead>\n",
       "<tr><td>40.1255655</td><td>60.8793063</td><td>0.0947</td><td>0.0936</td><td>-0.0337</td><td>13.251</td><td>0.038</td><td>28.8</td><td>0.8767</td><td>12.735</td><td>0.058</td><td>18.6</td><td>0.7135</td><td>1</td><td>0</td><td>0000</td><td>AA</td><td>10</td><td>57621.23501414</td><td>--</td><td>--</td><td>--</td><td>--</td><td>--</td><td>--</td><td>--</td><td>--</td><td>--</td><td>--</td><td>--</td><td>--</td><td>--</td><td>--</td><td>--</td><td>--</td><td>0.028668</td><td>242.330013</td></tr>\n",
       "<tr><td>40.125574</td><td>60.879297</td><td>0.0925</td><td>0.0874</td><td>-0.0397</td><td>13.241</td><td>0.036</td><td>30.0</td><td>1.261</td><td>12.629</td><td>0.051</td><td>21.2</td><td>1.121</td><td>1</td><td>0</td><td>0000</td><td>AA</td><td>5</td><td>57621.62810604</td><td>--</td><td>--</td><td>--</td><td>--</td><td>--</td><td>--</td><td>--</td><td>--</td><td>--</td><td>--</td><td>--</td><td>--</td><td>--</td><td>--</td><td>--</td><td>--</td><td>0.048011</td><td>192.659014</td></tr>\n",
       "<tr><td>40.1256226</td><td>60.8793176</td><td>0.0808</td><td>0.0794</td><td>0.0098</td><td>12.753</td><td>0.039</td><td>27.8</td><td>0.764</td><td>11.901</td><td>0.034</td><td>32.0</td><td>1.059</td><td>1</td><td>0</td><td>0000</td><td>AA</td><td>10</td><td>57063.79830186</td><td>--</td><td>--</td><td>--</td><td>--</td><td>--</td><td>--</td><td>--</td><td>--</td><td>--</td><td>--</td><td>--</td><td>--</td><td>--</td><td>--</td><td>--</td><td>--</td><td>0.079498</td><td>69.867298</td></tr>\n",
       "<tr><td>40.1255528</td><td>60.8792864</td><td>0.0663</td><td>0.0608</td><td>-0.0156</td><td>12.774</td><td>0.028</td><td>38.6</td><td>1.361</td><td>11.935</td><td>0.037</td><td>29.3</td><td>0.7133</td><td>1</td><td>0</td><td>0000</td><td>AA</td><td>10</td><td>57256.77485551</td><td>--</td><td>--</td><td>--</td><td>--</td><td>--</td><td>--</td><td>--</td><td>--</td><td>--</td><td>--</td><td>--</td><td>--</td><td>--</td><td>--</td><td>--</td><td>--</td><td>0.097389</td><td>209.287467</td></tr>\n",
       "<tr><td>40.1255725</td><td>60.8792803</td><td>0.0645</td><td>0.0599</td><td>-0.0223</td><td>12.84</td><td>0.028</td><td>38.7</td><td>1.555</td><td>11.897</td><td>0.031</td><td>35.1</td><td>1.045</td><td>1</td><td>0</td><td>0000</td><td>AA</td><td>5</td><td>57257.10275142</td><td>--</td><td>--</td><td>--</td><td>--</td><td>--</td><td>--</td><td>--</td><td>--</td><td>--</td><td>--</td><td>--</td><td>--</td><td>--</td><td>--</td><td>--</td><td>--</td><td>0.107707</td><td>187.00605</td></tr>\n",
       "<tr><td>40.1255736</td><td>60.8792799</td><td>0.1164</td><td>0.1059</td><td>-0.039</td><td>13.587</td><td>0.041</td><td>26.4</td><td>1.647</td><td>13.145</td><td>0.076</td><td>14.3</td><td>1.03</td><td>1</td><td>0</td><td>0000</td><td>AA</td><td>5</td><td>57987.97028435</td><td>--</td><td>--</td><td>--</td><td>--</td><td>--</td><td>--</td><td>--</td><td>--</td><td>--</td><td>--</td><td>--</td><td>--</td><td>--</td><td>--</td><td>--</td><td>--</td><td>0.108928</td><td>185.907602</td></tr>\n",
       "<tr><td>40.1255644</td><td>60.8792744</td><td>0.0856</td><td>0.086</td><td>-0.031</td><td>13.198</td><td>0.035</td><td>31.2</td><td>1.725</td><td>12.644</td><td>0.05</td><td>21.7</td><td>0.7308</td><td>1</td><td>0</td><td>0000</td><td>AA</td><td>5</td><td>57620.84192211</td><td>--</td><td>--</td><td>--</td><td>--</td><td>--</td><td>--</td><td>--</td><td>--</td><td>--</td><td>--</td><td>--</td><td>--</td><td>--</td><td>--</td><td>--</td><td>--</td><td>0.131052</td><td>192.038104</td></tr>\n",
       "<tr><td>40.1255517</td><td>60.8792713</td><td>0.0679</td><td>0.0685</td><td>-0.0218</td><td>12.807</td><td>0.028</td><td>38.8</td><td>1.466</td><td>11.989</td><td>0.038</td><td>28.3</td><td>0.7736</td><td>1</td><td>0</td><td>0000</td><td>AA</td><td>10</td><td>57256.64356978</td><td>--</td><td>--</td><td>--</td><td>--</td><td>--</td><td>--</td><td>--</td><td>--</td><td>--</td><td>--</td><td>--</td><td>--</td><td>--</td><td>--</td><td>--</td><td>--</td><td>0.147884</td><td>199.589209</td></tr>\n",
       "<tr><td>40.1255718</td><td>60.8792687</td><td>0.1224</td><td>0.1104</td><td>-0.0547</td><td>13.496</td><td>0.044</td><td>24.6</td><td>0.9767</td><td>12.739</td><td>0.064</td><td>17.1</td><td>1.444</td><td>1</td><td>0</td><td>0000</td><td>AA</td><td>10</td><td>57787.46478715</td><td>--</td><td>--</td><td>--</td><td>--</td><td>--</td><td>--</td><td>--</td><td>--</td><td>--</td><td>--</td><td>--</td><td>--</td><td>--</td><td>--</td><td>--</td><td>--</td><td>0.149378</td><td>185.518975</td></tr>\n",
       "<tr><td>...</td><td>...</td><td>...</td><td>...</td><td>...</td><td>...</td><td>...</td><td>...</td><td>...</td><td>...</td><td>...</td><td>...</td><td>...</td><td>...</td><td>...</td><td>...</td><td>...</td><td>...</td><td>...</td><td>...</td><td>...</td><td>...</td><td>...</td><td>...</td><td>...</td><td>...</td><td>...</td><td>...</td><td>...</td><td>...</td><td>...</td><td>...</td><td>...</td><td>...</td><td>...</td><td>...</td><td>...</td></tr>\n",
       "<tr><td>40.1253863</td><td>60.8792324</td><td>0.1362</td><td>0.12</td><td>-0.0418</td><td>13.803</td><td>0.049</td><td>22.3</td><td>0.7825</td><td>13.145</td><td>0.071</td><td>15.2</td><td>0.8457</td><td>1</td><td>0</td><td>0000</td><td>AA</td><td>5</td><td>57988.16676654</td><td>--</td><td>--</td><td>--</td><td>--</td><td>--</td><td>--</td><td>--</td><td>--</td><td>--</td><td>--</td><td>--</td><td>--</td><td>--</td><td>--</td><td>--</td><td>--</td><td>0.439544</td><td>230.53831</td></tr>\n",
       "<tr><td>40.1254017</td><td>60.8792188</td><td>0.1756</td><td>0.1349</td><td>-0.0354</td><td>13.417</td><td>0.08</td><td>13.5</td><td>1.913</td><td>12.771</td><td>0.072</td><td>15.2</td><td>0.4021</td><td>1</td><td>0</td><td>0000</td><td>AA</td><td>10</td><td>57790.47736456</td><td>--</td><td>--</td><td>--</td><td>--</td><td>--</td><td>--</td><td>--</td><td>--</td><td>--</td><td>--</td><td>--</td><td>--</td><td>--</td><td>--</td><td>--</td><td>--</td><td>0.453174</td><td>223.574167</td></tr>\n",
       "<tr><td>40.1254504</td><td>60.8791953</td><td>0.065</td><td>0.0627</td><td>-0.0236</td><td>12.829</td><td>0.031</td><td>35.0</td><td>2.803</td><td>11.903</td><td>0.037</td><td>29.2</td><td>1.251</td><td>1</td><td>0</td><td>0000</td><td>AA</td><td>5</td><td>57423.45964858</td><td>--</td><td>--</td><td>--</td><td>--</td><td>--</td><td>--</td><td>--</td><td>--</td><td>--</td><td>--</td><td>--</td><td>--</td><td>--</td><td>--</td><td>--</td><td>--</td><td>0.471232</td><td>208.805123</td></tr>\n",
       "<tr><td>40.1254195</td><td>60.879191</td><td>0.0736</td><td>0.0604</td><td>-0.0255</td><td>12.777</td><td>0.027</td><td>39.9</td><td>0.8821</td><td>11.964</td><td>0.033</td><td>33.1</td><td>0.8097</td><td>1</td><td>0</td><td>0000</td><td>AA</td><td>10</td><td>57063.99542123</td><td>--</td><td>--</td><td>--</td><td>--</td><td>--</td><td>--</td><td>--</td><td>--</td><td>--</td><td>--</td><td>--</td><td>--</td><td>--</td><td>--</td><td>--</td><td>--</td><td>0.512441</td><td>213.279623</td></tr>\n",
       "<tr><td>40.1253594</td><td>60.8792163</td><td>0.0631</td><td>0.0675</td><td>-0.0093</td><td>12.791</td><td>0.03</td><td>36.6</td><td>1.13</td><td>11.972</td><td>0.039</td><td>27.5</td><td>0.6409</td><td>1</td><td>0</td><td>0000</td><td>AA</td><td>10</td><td>57422.73853115</td><td>--</td><td>--</td><td>--</td><td>--</td><td>--</td><td>--</td><td>--</td><td>--</td><td>--</td><td>--</td><td>--</td><td>--</td><td>--</td><td>--</td><td>--</td><td>--</td><td>0.512985</td><td>228.885562</td></tr>\n",
       "<tr><td>40.1252771</td><td>60.8793411</td><td>0.115</td><td>0.1078</td><td>-0.0397</td><td>13.511</td><td>0.041</td><td>26.2</td><td>1.299</td><td>12.668</td><td>0.061</td><td>17.8</td><td>0.6642</td><td>1</td><td>0</td><td>0000</td><td>AA</td><td>5</td><td>57790.01894558</td><td>--</td><td>--</td><td>--</td><td>--</td><td>--</td><td>--</td><td>--</td><td>--</td><td>--</td><td>--</td><td>--</td><td>--</td><td>--</td><td>--</td><td>--</td><td>--</td><td>0.542346</td><td>281.913746</td></tr>\n",
       "<tr><td>40.1253172</td><td>60.8792186</td><td>0.1035</td><td>0.1091</td><td>-0.0272</td><td>13.328</td><td>0.038</td><td>28.6</td><td>1.868</td><td>12.893</td><td>0.091</td><td>11.9</td><td>1.075</td><td>1</td><td>0</td><td>0000</td><td>AA</td><td>5</td><td>57790.21542903</td><td>--</td><td>--</td><td>--</td><td>--</td><td>--</td><td>--</td><td>--</td><td>--</td><td>--</td><td>--</td><td>--</td><td>--</td><td>--</td><td>--</td><td>--</td><td>--</td><td>0.565899</td><td>234.448038</td></tr>\n",
       "<tr><td>40.1256247</td><td>60.8791518</td><td>0.1463</td><td>0.1293</td><td>-0.0575</td><td>13.734</td><td>0.048</td><td>22.9</td><td>0.9954</td><td>13.257</td><td>0.122</td><td>8.9</td><td>0.5377</td><td>1</td><td>0</td><td>0000</td><td>AB</td><td>5</td><td>57988.36312131</td><td>--</td><td>--</td><td>--</td><td>--</td><td>--</td><td>--</td><td>--</td><td>--</td><td>--</td><td>--</td><td>--</td><td>--</td><td>--</td><td>--</td><td>--</td><td>--</td><td>0.574875</td><td>172.170603</td></tr>\n",
       "<tr><td>40.1252789</td><td>60.8792352</td><td>0.1174</td><td>0.1057</td><td>-0.0497</td><td>13.36</td><td>0.049</td><td>22.3</td><td>0.7856</td><td>12.729</td><td>0.06</td><td>18.1</td><td>0.7291</td><td>1</td><td>0</td><td>0000</td><td>AA</td><td>5</td><td>57787.33375567</td><td>--</td><td>--</td><td>--</td><td>--</td><td>--</td><td>--</td><td>--</td><td>--</td><td>--</td><td>--</td><td>--</td><td>--</td><td>--</td><td>--</td><td>--</td><td>--</td><td>0.59227</td><td>242.957045</td></tr>\n",
       "<tr><td>40.1260438</td><td>60.8791845</td><td>0.1911</td><td>0.1661</td><td>-0.0549</td><td>14.036</td><td>0.07</td><td>15.4</td><td>4.369</td><td>13.472</td><td>0.094</td><td>11.6</td><td>1.701</td><td>1</td><td>0</td><td>0000</td><td>AA</td><td>0</td><td>57988.49402461</td><td>--</td><td>--</td><td>--</td><td>--</td><td>--</td><td>--</td><td>--</td><td>--</td><td>--</td><td>--</td><td>--</td><td>--</td><td>--</td><td>--</td><td>--</td><td>--</td><td>0.929713</td><td>119.074968</td></tr>\n",
       "</table>"
      ],
      "text/plain": [
       "<Table masked=True length=137>\n",
       "    ra        dec      sigra   sigdec ... k_msig_2mass   dist     angle   \n",
       "   deg        deg      arcsec  arcsec ...     mag       arcsec     deg    \n",
       " float64    float64   float64 float64 ...   float64    float64   float64  \n",
       "---------- ---------- ------- ------- ... ------------ -------- ----------\n",
       "40.1255655 60.8793063  0.0947  0.0936 ...           -- 0.028668 242.330013\n",
       " 40.125574  60.879297  0.0925  0.0874 ...           -- 0.048011 192.659014\n",
       "40.1256226 60.8793176  0.0808  0.0794 ...           -- 0.079498  69.867298\n",
       "40.1255528 60.8792864  0.0663  0.0608 ...           -- 0.097389 209.287467\n",
       "40.1255725 60.8792803  0.0645  0.0599 ...           -- 0.107707  187.00605\n",
       "40.1255736 60.8792799  0.1164  0.1059 ...           -- 0.108928 185.907602\n",
       "40.1255644 60.8792744  0.0856   0.086 ...           -- 0.131052 192.038104\n",
       "40.1255517 60.8792713  0.0679  0.0685 ...           -- 0.147884 199.589209\n",
       "40.1255718 60.8792687  0.1224  0.1104 ...           -- 0.149378 185.518975\n",
       "       ...        ...     ...     ... ...          ...      ...        ...\n",
       "40.1253863 60.8792324  0.1362    0.12 ...           -- 0.439544  230.53831\n",
       "40.1254017 60.8792188  0.1756  0.1349 ...           -- 0.453174 223.574167\n",
       "40.1254504 60.8791953   0.065  0.0627 ...           -- 0.471232 208.805123\n",
       "40.1254195  60.879191  0.0736  0.0604 ...           -- 0.512441 213.279623\n",
       "40.1253594 60.8792163  0.0631  0.0675 ...           -- 0.512985 228.885562\n",
       "40.1252771 60.8793411   0.115  0.1078 ...           -- 0.542346 281.913746\n",
       "40.1253172 60.8792186  0.1035  0.1091 ...           -- 0.565899 234.448038\n",
       "40.1256247 60.8791518  0.1463  0.1293 ...           -- 0.574875 172.170603\n",
       "40.1252789 60.8792352  0.1174  0.1057 ...           --  0.59227 242.957045\n",
       "40.1260438 60.8791845  0.1911  0.1661 ...           -- 0.929713 119.074968"
      ]
     },
     "execution_count": 28,
     "metadata": {},
     "output_type": "execute_result"
    }
   ],
   "source": [
    "from astropy.table import Table\n",
    "\n",
    "Table.read('irsa_catalog_WISE_iPTF14jg_search_results.tbl', format='ipac')"
   ]
  },
  {
   "cell_type": "markdown",
   "metadata": {
    "slideshow": {
     "slide_type": "subslide"
    }
   },
   "source": [
    "A benefit to using this method, as opposed to `pandas`, is that data typing and data units are naturally read from the IRSA table and included with the associated columns. Thus, if you are uncertain if some brightness measurement is in magnitudes or Janskys, the `astropy Table` can report on that information.\n",
    "\n",
    "Unfortunately, `astropy` does *not* know about every strange formating decision that every astronomer has made at some point in their lives (as we are about to see...) "
   ]
  },
  {
   "cell_type": "markdown",
   "metadata": {
    "slideshow": {
     "slide_type": "slide"
    }
   },
   "source": [
    "## Problem 2) The Sins of Our Journals"
   ]
  },
  {
   "cell_type": "markdown",
   "metadata": {
    "slideshow": {
     "slide_type": "slide"
    }
   },
   "source": [
    "Unlike IRSA/IPAC, which uses a weird but nevertheless consistent format for data tables, data retrieved from Journal articles essentially follows no rules. In principle, tables in Journal articles are supposed to be provided in a machine readable format. In practice, as we are about to see, this is far from the case.\n",
    "\n",
    "For this particular wrangling case study we will focus on supernova light curves, a simple thing to report: time, filter, brightness, uncertainty on that brightness, that the community has nevertheless managed to mangle into some truly wild and difficult to parse forms."
   ]
  },
  {
   "cell_type": "markdown",
   "metadata": {
    "slideshow": {
     "slide_type": "skip"
    }
   },
   "source": [
    "(Sorry for the heavy emphasis on time-domain examples - I'm pulling straight from my own life today, but the issues described here are not perfectly addressed by any subfield within the astro umbrella)"
   ]
  },
  {
   "cell_type": "markdown",
   "metadata": {
    "slideshow": {
     "slide_type": "slide"
    }
   },
   "source": [
    "Here is the LaTeX-formatted version of Table 4 from [Miller et al. 2011](https://iopscience.iop.org/article/10.1088/0004-637X/730/2/80/meta):\n",
    "\n",
    "<img style=\"display: block; margin-left: auto; margin-right: auto\" src=\"images/Miller11_tbl4.png\" align=\\\"middle\">"
   ]
  },
  {
   "cell_type": "markdown",
   "metadata": {
    "slideshow": {
     "slide_type": "subslide"
    }
   },
   "source": [
    "That is a very simple table to interpret, no?\n",
    "\n",
    "Have a look at the [\"machine-readible\" file](https://northwestern.box.com/s/o9nxkr3o79xunfo2o7r8nnas2sskncrc) that ApJ provides for readers that might want to evaluate these photometric measurements."
   ]
  },
  {
   "cell_type": "markdown",
   "metadata": {
    "slideshow": {
     "slide_type": "slide"
    }
   },
   "source": [
    "**Problem 2a** \n",
    "\n",
    "Download the ApJ version of [Table 4](https://northwestern.box.com/s/o9nxkr3o79xunfo2o7r8nnas2sskncrc) from Miller et al. 2011 and read that table into either a `pandas DataFrame` or an `astropy Table`."
   ]
  },
  {
   "cell_type": "code",
   "execution_count": 38,
   "metadata": {
    "slideshow": {
     "slide_type": "subslide"
    }
   },
   "outputs": [
    {
     "name": "stdout",
     "output_type": "stream",
     "text": [
      "       t_mid      J  J_unc     H  H_unc     K  K_unc\n",
      "0  55466.137  10.04   0.03  9.14   0.03  8.65   0.03\n",
      "1  55468.145   9.99   0.03  9.06   0.04  8.64   0.04\n",
      "2  55469.148  10.04   0.03  9.07   0.03  8.70   0.03\n",
      "3  55479.109  10.11   0.03  9.11   0.03  8.63   0.04\n",
      "4  55504.164  10.20   0.03  9.24   0.03  8.74   0.03\n",
      "5  55513.195  10.29   0.03  9.34   0.03  8.79   0.03\n",
      "6  55518.168  10.32   0.03  9.34   0.04  8.84   0.03\n",
      "7  55527.117  10.35   0.03  9.40   0.03  8.89   0.03\n",
      "8  55531.145  10.40   0.03  9.44   0.03  8.97   0.03\n",
      "9  55543.066  10.45   0.03  9.48   0.04  9.06   0.04\n"
     ]
    }
   ],
   "source": [
    "# pure python solution with pandas\n",
    "\n",
    "tbl4 = pd.read_csv('Miller_et_al2011_table4.txt', \n",
    "                   skiprows=5, delim_whitespace=True,\n",
    "                   skipfooter=3, engine='python',\n",
    "                   names=['t_mid', 'J', 'Jdum', 'J_unc', \n",
    "                                   'H', 'Hdum', 'H_unc',\n",
    "                                   'K', 'Kdum', 'K_unc'])\n",
    "tbl4.drop(columns=['Jdum', 'Hdum', 'Kdum'], inplace=True)\n",
    "\n",
    "print(tbl4)"
   ]
  },
  {
   "cell_type": "markdown",
   "metadata": {
    "slideshow": {
     "slide_type": "slide"
    }
   },
   "source": [
    "That wasn't too terrible. But what if we consider a more typical light curve table, where there are loads of missing data, such as Table 2 from [Foley et al. 2009]():\n",
    "\n",
    "<img style=\"display: block; margin-left: auto; margin-right: auto\" src=\"images/Foley09_tbl2.png\" align=\\\"middle\">"
   ]
  },
  {
   "cell_type": "markdown",
   "metadata": {
    "slideshow": {
     "slide_type": "subslide"
    }
   },
   "source": [
    "Again, this table is straightforward to read, and it isn't hard to imagine how one could construct a machine-readable csv or other file from this information. But alas, this is not what is available from ApJ. So, we will need to figure out how to deal with both the missing data, \"...\", and the weird convention that many astronomers use where the uncertainties are (a) not reported in their own column, and (b) are not provided in the same units as the measurement itself. I can understand the former, but the later is somewhat baffling..."
   ]
  },
  {
   "cell_type": "markdown",
   "metadata": {
    "slideshow": {
     "slide_type": "slide"
    }
   },
   "source": [
    "**Problem 2b** \n",
    "\n",
    "Download the ApJ version of [Table 2](https://northwestern.box.com/s/imo8sc0rudfwaa4iaa9qr2rvcwtgvieb) from Foley et al. 2009 and read that table into either a `pandas DataFrame` or an `astropy Table`."
   ]
  },
  {
   "cell_type": "code",
   "execution_count": 48,
   "metadata": {
    "slideshow": {
     "slide_type": "subslide"
    }
   },
   "outputs": [
    {
     "data": {
      "text/html": [
       "<div>\n",
       "<style scoped>\n",
       "    .dataframe tbody tr th:only-of-type {\n",
       "        vertical-align: middle;\n",
       "    }\n",
       "\n",
       "    .dataframe tbody tr th {\n",
       "        vertical-align: top;\n",
       "    }\n",
       "\n",
       "    .dataframe thead th {\n",
       "        text-align: right;\n",
       "    }\n",
       "</style>\n",
       "<table border=\"1\" class=\"dataframe\">\n",
       "  <thead>\n",
       "    <tr style=\"text-align: right;\">\n",
       "      <th></th>\n",
       "      <th>JD</th>\n",
       "      <th>Bmag</th>\n",
       "      <th>Bmag_unc</th>\n",
       "      <th>Vmag</th>\n",
       "      <th>Vmag_unc</th>\n",
       "      <th>Rmag</th>\n",
       "      <th>Rmag_unc</th>\n",
       "      <th>Imag</th>\n",
       "      <th>Imag_unc</th>\n",
       "      <th>Unfiltmag</th>\n",
       "      <th>Unfiltmag_unc</th>\n",
       "      <th>Telescope</th>\n",
       "    </tr>\n",
       "  </thead>\n",
       "  <tbody>\n",
       "    <tr>\n",
       "      <th>0</th>\n",
       "      <td>2454764.80</td>\n",
       "      <td>-999.000</td>\n",
       "      <td>-999.000</td>\n",
       "      <td>-999.000</td>\n",
       "      <td>-999.000</td>\n",
       "      <td>-999.000</td>\n",
       "      <td>-999.000</td>\n",
       "      <td>-999.000</td>\n",
       "      <td>-999.000</td>\n",
       "      <td>19.500</td>\n",
       "      <td>-999.000</td>\n",
       "      <td>KAIT</td>\n",
       "    </tr>\n",
       "    <tr>\n",
       "      <th>1</th>\n",
       "      <td>2454778.69</td>\n",
       "      <td>-999.000</td>\n",
       "      <td>-999.000</td>\n",
       "      <td>-999.000</td>\n",
       "      <td>-999.000</td>\n",
       "      <td>-999.000</td>\n",
       "      <td>-999.000</td>\n",
       "      <td>-999.000</td>\n",
       "      <td>-999.000</td>\n",
       "      <td>18.069</td>\n",
       "      <td>0.092</td>\n",
       "      <td>KAIT</td>\n",
       "    </tr>\n",
       "    <tr>\n",
       "      <th>2</th>\n",
       "      <td>2454781.76</td>\n",
       "      <td>18.340</td>\n",
       "      <td>0.084</td>\n",
       "      <td>17.828</td>\n",
       "      <td>0.037</td>\n",
       "      <td>-999.000</td>\n",
       "      <td>-999.000</td>\n",
       "      <td>-999.000</td>\n",
       "      <td>-999.000</td>\n",
       "      <td>-999.000</td>\n",
       "      <td>-999.000</td>\n",
       "      <td>KAIT</td>\n",
       "    </tr>\n",
       "    <tr>\n",
       "      <th>3</th>\n",
       "      <td>2454783.74</td>\n",
       "      <td>18.229</td>\n",
       "      <td>0.062</td>\n",
       "      <td>17.718</td>\n",
       "      <td>0.042</td>\n",
       "      <td>17.509</td>\n",
       "      <td>0.041</td>\n",
       "      <td>17.377</td>\n",
       "      <td>0.054</td>\n",
       "      <td>-999.000</td>\n",
       "      <td>-999.000</td>\n",
       "      <td>KAIT</td>\n",
       "    </tr>\n",
       "    <tr>\n",
       "      <th>4</th>\n",
       "      <td>2454784.64</td>\n",
       "      <td>-999.000</td>\n",
       "      <td>-999.000</td>\n",
       "      <td>-999.000</td>\n",
       "      <td>-999.000</td>\n",
       "      <td>-999.000</td>\n",
       "      <td>-999.000</td>\n",
       "      <td>-999.000</td>\n",
       "      <td>-999.000</td>\n",
       "      <td>17.736</td>\n",
       "      <td>0.091</td>\n",
       "      <td>KAIT</td>\n",
       "    </tr>\n",
       "    <tr>\n",
       "      <th>5</th>\n",
       "      <td>2454784.71</td>\n",
       "      <td>18.230</td>\n",
       "      <td>0.030</td>\n",
       "      <td>17.635</td>\n",
       "      <td>0.030</td>\n",
       "      <td>17.570</td>\n",
       "      <td>0.030</td>\n",
       "      <td>17.392</td>\n",
       "      <td>0.030</td>\n",
       "      <td>-999.000</td>\n",
       "      <td>-999.000</td>\n",
       "      <td>Nickel</td>\n",
       "    </tr>\n",
       "    <tr>\n",
       "      <th>6</th>\n",
       "      <td>2454785.67</td>\n",
       "      <td>18.385</td>\n",
       "      <td>0.030</td>\n",
       "      <td>17.660</td>\n",
       "      <td>0.027</td>\n",
       "      <td>17.610</td>\n",
       "      <td>0.023</td>\n",
       "      <td>17.425</td>\n",
       "      <td>0.034</td>\n",
       "      <td>17.683</td>\n",
       "      <td>0.038</td>\n",
       "      <td>KAIT</td>\n",
       "    </tr>\n",
       "    <tr>\n",
       "      <th>7</th>\n",
       "      <td>2454786.80</td>\n",
       "      <td>18.415</td>\n",
       "      <td>0.030</td>\n",
       "      <td>17.710</td>\n",
       "      <td>0.030</td>\n",
       "      <td>17.544</td>\n",
       "      <td>0.030</td>\n",
       "      <td>17.358</td>\n",
       "      <td>0.030</td>\n",
       "      <td>-999.000</td>\n",
       "      <td>-999.000</td>\n",
       "      <td>Nickel</td>\n",
       "    </tr>\n",
       "    <tr>\n",
       "      <th>8</th>\n",
       "      <td>2454787.67</td>\n",
       "      <td>18.596</td>\n",
       "      <td>0.030</td>\n",
       "      <td>17.762</td>\n",
       "      <td>0.030</td>\n",
       "      <td>17.552</td>\n",
       "      <td>0.030</td>\n",
       "      <td>17.376</td>\n",
       "      <td>0.030</td>\n",
       "      <td>-999.000</td>\n",
       "      <td>-999.000</td>\n",
       "      <td>KAIT</td>\n",
       "    </tr>\n",
       "    <tr>\n",
       "      <th>9</th>\n",
       "      <td>2454789.68</td>\n",
       "      <td>18.904</td>\n",
       "      <td>0.030</td>\n",
       "      <td>17.827</td>\n",
       "      <td>0.014</td>\n",
       "      <td>17.573</td>\n",
       "      <td>0.011</td>\n",
       "      <td>17.353</td>\n",
       "      <td>0.030</td>\n",
       "      <td>17.732</td>\n",
       "      <td>0.028</td>\n",
       "      <td>KAIT</td>\n",
       "    </tr>\n",
       "    <tr>\n",
       "      <th>10</th>\n",
       "      <td>2454790.71</td>\n",
       "      <td>18.969</td>\n",
       "      <td>0.030</td>\n",
       "      <td>17.871</td>\n",
       "      <td>0.030</td>\n",
       "      <td>17.560</td>\n",
       "      <td>0.030</td>\n",
       "      <td>17.278</td>\n",
       "      <td>0.030</td>\n",
       "      <td>-999.000</td>\n",
       "      <td>-999.000</td>\n",
       "      <td>Nickel</td>\n",
       "    </tr>\n",
       "    <tr>\n",
       "      <th>11</th>\n",
       "      <td>2454792.70</td>\n",
       "      <td>19.563</td>\n",
       "      <td>0.054</td>\n",
       "      <td>18.127</td>\n",
       "      <td>0.022</td>\n",
       "      <td>17.689</td>\n",
       "      <td>0.016</td>\n",
       "      <td>17.443</td>\n",
       "      <td>0.030</td>\n",
       "      <td>-999.000</td>\n",
       "      <td>-999.000</td>\n",
       "      <td>KAIT</td>\n",
       "    </tr>\n",
       "    <tr>\n",
       "      <th>12</th>\n",
       "      <td>2454794.68</td>\n",
       "      <td>19.789</td>\n",
       "      <td>0.072</td>\n",
       "      <td>18.377</td>\n",
       "      <td>0.032</td>\n",
       "      <td>17.904</td>\n",
       "      <td>0.025</td>\n",
       "      <td>17.541</td>\n",
       "      <td>0.037</td>\n",
       "      <td>-999.000</td>\n",
       "      <td>-999.000</td>\n",
       "      <td>KAIT</td>\n",
       "    </tr>\n",
       "    <tr>\n",
       "      <th>13</th>\n",
       "      <td>2454795.78</td>\n",
       "      <td>20.297</td>\n",
       "      <td>0.216</td>\n",
       "      <td>-999.000</td>\n",
       "      <td>-999.000</td>\n",
       "      <td>-999.000</td>\n",
       "      <td>-999.000</td>\n",
       "      <td>-999.000</td>\n",
       "      <td>-999.000</td>\n",
       "      <td>18.009</td>\n",
       "      <td>0.103</td>\n",
       "      <td>KAIT</td>\n",
       "    </tr>\n",
       "    <tr>\n",
       "      <th>14</th>\n",
       "      <td>2454798.65</td>\n",
       "      <td>20.390</td>\n",
       "      <td>0.123</td>\n",
       "      <td>18.791</td>\n",
       "      <td>0.033</td>\n",
       "      <td>18.308</td>\n",
       "      <td>0.022</td>\n",
       "      <td>17.876</td>\n",
       "      <td>0.039</td>\n",
       "      <td>18.388</td>\n",
       "      <td>0.022</td>\n",
       "      <td>KAIT</td>\n",
       "    </tr>\n",
       "    <tr>\n",
       "      <th>15</th>\n",
       "      <td>2454799.66</td>\n",
       "      <td>-999.000</td>\n",
       "      <td>-999.000</td>\n",
       "      <td>18.921</td>\n",
       "      <td>0.046</td>\n",
       "      <td>18.343</td>\n",
       "      <td>0.029</td>\n",
       "      <td>17.919</td>\n",
       "      <td>0.050</td>\n",
       "      <td>18.468</td>\n",
       "      <td>0.040</td>\n",
       "      <td>KAIT</td>\n",
       "    </tr>\n",
       "    <tr>\n",
       "      <th>16</th>\n",
       "      <td>2454800.67</td>\n",
       "      <td>-999.000</td>\n",
       "      <td>-999.000</td>\n",
       "      <td>18.942</td>\n",
       "      <td>0.035</td>\n",
       "      <td>18.347</td>\n",
       "      <td>0.029</td>\n",
       "      <td>17.892</td>\n",
       "      <td>0.033</td>\n",
       "      <td>18.482</td>\n",
       "      <td>0.027</td>\n",
       "      <td>KAIT</td>\n",
       "    </tr>\n",
       "    <tr>\n",
       "      <th>17</th>\n",
       "      <td>2454801.64</td>\n",
       "      <td>-999.000</td>\n",
       "      <td>-999.000</td>\n",
       "      <td>19.004</td>\n",
       "      <td>0.044</td>\n",
       "      <td>18.438</td>\n",
       "      <td>0.026</td>\n",
       "      <td>17.964</td>\n",
       "      <td>0.036</td>\n",
       "      <td>18.589</td>\n",
       "      <td>0.031</td>\n",
       "      <td>KAIT</td>\n",
       "    </tr>\n",
       "    <tr>\n",
       "      <th>18</th>\n",
       "      <td>2454802.74</td>\n",
       "      <td>-999.000</td>\n",
       "      <td>-999.000</td>\n",
       "      <td>19.064</td>\n",
       "      <td>0.082</td>\n",
       "      <td>18.472</td>\n",
       "      <td>0.037</td>\n",
       "      <td>17.921</td>\n",
       "      <td>0.030</td>\n",
       "      <td>18.635</td>\n",
       "      <td>0.026</td>\n",
       "      <td>KAIT</td>\n",
       "    </tr>\n",
       "    <tr>\n",
       "      <th>19</th>\n",
       "      <td>2454803.63</td>\n",
       "      <td>-999.000</td>\n",
       "      <td>-999.000</td>\n",
       "      <td>19.130</td>\n",
       "      <td>0.054</td>\n",
       "      <td>18.569</td>\n",
       "      <td>0.031</td>\n",
       "      <td>18.087</td>\n",
       "      <td>0.047</td>\n",
       "      <td>18.589</td>\n",
       "      <td>0.030</td>\n",
       "      <td>KAIT</td>\n",
       "    </tr>\n",
       "    <tr>\n",
       "      <th>20</th>\n",
       "      <td>2454805.63</td>\n",
       "      <td>-999.000</td>\n",
       "      <td>-999.000</td>\n",
       "      <td>19.211</td>\n",
       "      <td>0.095</td>\n",
       "      <td>18.851</td>\n",
       "      <td>0.055</td>\n",
       "      <td>18.142</td>\n",
       "      <td>0.056</td>\n",
       "      <td>18.682</td>\n",
       "      <td>0.048</td>\n",
       "      <td>KAIT</td>\n",
       "    </tr>\n",
       "    <tr>\n",
       "      <th>21</th>\n",
       "      <td>2454809.67</td>\n",
       "      <td>-999.000</td>\n",
       "      <td>-999.000</td>\n",
       "      <td>19.288</td>\n",
       "      <td>0.206</td>\n",
       "      <td>19.104</td>\n",
       "      <td>0.135</td>\n",
       "      <td>-999.000</td>\n",
       "      <td>-999.000</td>\n",
       "      <td>18.909</td>\n",
       "      <td>0.078</td>\n",
       "      <td>KAIT</td>\n",
       "    </tr>\n",
       "    <tr>\n",
       "      <th>22</th>\n",
       "      <td>2454811.61</td>\n",
       "      <td>-999.000</td>\n",
       "      <td>-999.000</td>\n",
       "      <td>19.462</td>\n",
       "      <td>0.103</td>\n",
       "      <td>19.069</td>\n",
       "      <td>0.073</td>\n",
       "      <td>18.374</td>\n",
       "      <td>0.067</td>\n",
       "      <td>19.150</td>\n",
       "      <td>0.060</td>\n",
       "      <td>KAIT</td>\n",
       "    </tr>\n",
       "    <tr>\n",
       "      <th>23</th>\n",
       "      <td>2454812.62</td>\n",
       "      <td>-999.000</td>\n",
       "      <td>-999.000</td>\n",
       "      <td>19.458</td>\n",
       "      <td>0.207</td>\n",
       "      <td>19.118</td>\n",
       "      <td>0.065</td>\n",
       "      <td>18.482</td>\n",
       "      <td>0.077</td>\n",
       "      <td>19.070</td>\n",
       "      <td>0.049</td>\n",
       "      <td>KAIT</td>\n",
       "    </tr>\n",
       "    <tr>\n",
       "      <th>24</th>\n",
       "      <td>2454831.63</td>\n",
       "      <td>21.372</td>\n",
       "      <td>0.030</td>\n",
       "      <td>20.191</td>\n",
       "      <td>0.030</td>\n",
       "      <td>19.647</td>\n",
       "      <td>0.030</td>\n",
       "      <td>18.864</td>\n",
       "      <td>0.030</td>\n",
       "      <td>-999.000</td>\n",
       "      <td>-999.000</td>\n",
       "      <td>Nickel</td>\n",
       "    </tr>\n",
       "  </tbody>\n",
       "</table>\n",
       "</div>"
      ],
      "text/plain": [
       "            JD     Bmag  Bmag_unc     Vmag  Vmag_unc     Rmag  Rmag_unc  \\\n",
       "0   2454764.80 -999.000  -999.000 -999.000  -999.000 -999.000  -999.000   \n",
       "1   2454778.69 -999.000  -999.000 -999.000  -999.000 -999.000  -999.000   \n",
       "2   2454781.76   18.340     0.084   17.828     0.037 -999.000  -999.000   \n",
       "3   2454783.74   18.229     0.062   17.718     0.042   17.509     0.041   \n",
       "4   2454784.64 -999.000  -999.000 -999.000  -999.000 -999.000  -999.000   \n",
       "5   2454784.71   18.230     0.030   17.635     0.030   17.570     0.030   \n",
       "6   2454785.67   18.385     0.030   17.660     0.027   17.610     0.023   \n",
       "7   2454786.80   18.415     0.030   17.710     0.030   17.544     0.030   \n",
       "8   2454787.67   18.596     0.030   17.762     0.030   17.552     0.030   \n",
       "9   2454789.68   18.904     0.030   17.827     0.014   17.573     0.011   \n",
       "10  2454790.71   18.969     0.030   17.871     0.030   17.560     0.030   \n",
       "11  2454792.70   19.563     0.054   18.127     0.022   17.689     0.016   \n",
       "12  2454794.68   19.789     0.072   18.377     0.032   17.904     0.025   \n",
       "13  2454795.78   20.297     0.216 -999.000  -999.000 -999.000  -999.000   \n",
       "14  2454798.65   20.390     0.123   18.791     0.033   18.308     0.022   \n",
       "15  2454799.66 -999.000  -999.000   18.921     0.046   18.343     0.029   \n",
       "16  2454800.67 -999.000  -999.000   18.942     0.035   18.347     0.029   \n",
       "17  2454801.64 -999.000  -999.000   19.004     0.044   18.438     0.026   \n",
       "18  2454802.74 -999.000  -999.000   19.064     0.082   18.472     0.037   \n",
       "19  2454803.63 -999.000  -999.000   19.130     0.054   18.569     0.031   \n",
       "20  2454805.63 -999.000  -999.000   19.211     0.095   18.851     0.055   \n",
       "21  2454809.67 -999.000  -999.000   19.288     0.206   19.104     0.135   \n",
       "22  2454811.61 -999.000  -999.000   19.462     0.103   19.069     0.073   \n",
       "23  2454812.62 -999.000  -999.000   19.458     0.207   19.118     0.065   \n",
       "24  2454831.63   21.372     0.030   20.191     0.030   19.647     0.030   \n",
       "\n",
       "       Imag  Imag_unc  Unfiltmag  Unfiltmag_unc Telescope  \n",
       "0  -999.000  -999.000     19.500       -999.000      KAIT  \n",
       "1  -999.000  -999.000     18.069          0.092      KAIT  \n",
       "2  -999.000  -999.000   -999.000       -999.000      KAIT  \n",
       "3    17.377     0.054   -999.000       -999.000      KAIT  \n",
       "4  -999.000  -999.000     17.736          0.091      KAIT  \n",
       "5    17.392     0.030   -999.000       -999.000    Nickel  \n",
       "6    17.425     0.034     17.683          0.038      KAIT  \n",
       "7    17.358     0.030   -999.000       -999.000    Nickel  \n",
       "8    17.376     0.030   -999.000       -999.000      KAIT  \n",
       "9    17.353     0.030     17.732          0.028      KAIT  \n",
       "10   17.278     0.030   -999.000       -999.000    Nickel  \n",
       "11   17.443     0.030   -999.000       -999.000      KAIT  \n",
       "12   17.541     0.037   -999.000       -999.000      KAIT  \n",
       "13 -999.000  -999.000     18.009          0.103      KAIT  \n",
       "14   17.876     0.039     18.388          0.022      KAIT  \n",
       "15   17.919     0.050     18.468          0.040      KAIT  \n",
       "16   17.892     0.033     18.482          0.027      KAIT  \n",
       "17   17.964     0.036     18.589          0.031      KAIT  \n",
       "18   17.921     0.030     18.635          0.026      KAIT  \n",
       "19   18.087     0.047     18.589          0.030      KAIT  \n",
       "20   18.142     0.056     18.682          0.048      KAIT  \n",
       "21 -999.000  -999.000     18.909          0.078      KAIT  \n",
       "22   18.374     0.067     19.150          0.060      KAIT  \n",
       "23   18.482     0.077     19.070          0.049      KAIT  \n",
       "24   18.864     0.030   -999.000       -999.000    Nickel  "
      ]
     },
     "execution_count": 48,
     "metadata": {},
     "output_type": "execute_result"
    }
   ],
   "source": [
    "# a (not terribly satisfying) pure python solution\n",
    "# read the file in, parse and write another file that plays nice with pandas\n",
    "\n",
    "with open('Foley_et_al2009_for_pd.csv','w') as fw:\n",
    "    print('JD,Bmag,Bmag_unc,Vmag,Vmag_unc,Rmag,Rmag_unc,Imag,Imag_unc,Unfiltmag,Unfiltmag_unc,Telescope',file=fw)\n",
    "    with open('Foley_et_al2009_table2.txt') as f:\n",
    "        ll = f.readlines()\n",
    "        for l in ll:\n",
    "            if l[0] == '2':\n",
    "                print_str = l.split()[0] + ','\n",
    "                for col in l.split()[1:]:\n",
    "                    if col == 'sdotsdotsdot':\n",
    "                        print_str += '-999,-999,'\n",
    "                    elif col[0] == '>':\n",
    "                        print_str += '{},-999,'.format(col[1:])\n",
    "                    elif col == 'KAIT':\n",
    "                        print_str += 'KAIT'\n",
    "                    elif col == 'Nickel':\n",
    "                        print_str += 'Nickel'\n",
    "                    elif col[0] == '(':\n",
    "                        print_str += '0.{},'.format(col[1:-1])\n",
    "                    else:\n",
    "                        print_str += '{},'.format(col)\n",
    "\n",
    "                print(print_str,file=fw)\n",
    "\n",
    "pd.read_csv('Foley_et_al2009_for_pd.csv')"
   ]
  },
  {
   "cell_type": "markdown",
   "metadata": {
    "slideshow": {
     "slide_type": "subslide"
    }
   },
   "source": [
    "Okay - there is nothing elegant about that particular solution. But it works, and wranglin' ain't pretty. \n",
    "\n",
    "It is likely that you developed a solution that looks very different from this one, and that is fine. When data are provided in an unrulely format, the most important thing is to develop some method, any method, for converting the information into a useful format. Following whatever path you used above, it should now be easy to plot the light curve of SN 2008ha."
   ]
  },
  {
   "cell_type": "markdown",
   "metadata": {
    "slideshow": {
     "slide_type": "slide"
    }
   },
   "source": [
    "## Problem 3) My Heart Will Go On\n",
    "\n",
    "Sometimes there is no difficultly whatsoever in reading in the data (as was the case in **Problems 1** and **2**), but instead the difficultly lies in wranglin' the data to be appropriate for the model that you are building.\n",
    "\n",
    "For the next problem we will work with the famous [Titanic survival](https://www.kaggle.com/c/titanic/data?) data set. If you haven't already, please [download the csv file](https://northwestern.box.com/s/hx6airvgb4mukxvztvhlzvedkq8480ug) with the relevant information."
   ]
  },
  {
   "cell_type": "markdown",
   "metadata": {
    "slideshow": {
     "slide_type": "subslide"
    }
   },
   "source": [
    "Briefly, [the Titantic](https://thefilmcricket.files.wordpress.com/2012/04/film-titanic_clar.jpg) is a [famous](https://wallpapercave.com/wp/jrF8rQK.jpg) historical ship that was thought to be unsinkable. **Spoiler alert** it hit an iceberg and sank. The data in the Titanic data set includes information about 891 passengers from the Titanic, as well as whether or not they survived. The aim of this data set is to build a machine learning model to predict which passengers survived and which did not."
   ]
  },
  {
   "cell_type": "markdown",
   "metadata": {
    "slideshow": {
     "slide_type": "subslide"
    }
   },
   "source": [
    "The features include: \n",
    "\n",
    "|Feature    | Description |\n",
    "|:---------:|:--------------------------------------:|\n",
    "|PassengerId| Running index that describes the individual passengers|\n",
    "|Pclass| A proxy for socio-economic status (1 = Upper class, 2 = Middle Class, 3 = Lower Class)|\n",
    "|Name| The passenger's name|\n",
    "|Sex | The passenger's sex|\n",
    "|Age | The passenger's age - note age's ending in 0.5 are estimated |\n",
    "|SibSp| The sum of the passenger's sibblings and spouces on board|\n",
    "|Parch| The sum of the passenger's parents and children on board|\n",
    "|Ticket| The ticket number for the passenger|\n",
    "|Fare| The price paid for the ticket by th passenger|\n",
    "|Cabin| The Cabin in which the passenger stayed|\n",
    "|Embarked| The point of Origin for the Passenger: C = Cherbourg, S = Southampton, Q = Queenstown|"
   ]
  },
  {
   "cell_type": "markdown",
   "metadata": {
    "slideshow": {
     "slide_type": "subslide"
    }
   },
   "source": [
    "And of course, we are trying to predict:\n",
    "\n",
    "|Label    | Description |\n",
    "|:---------:|:--------------------------------------:|\n",
    "|Survived| 1 = yes; 0 = no|\n"
   ]
  },
  {
   "cell_type": "markdown",
   "metadata": {
    "slideshow": {
     "slide_type": "slide"
    }
   },
   "source": [
    "**Problem 3a**\n",
    "\n",
    "Read in the Titanic training data and create the `scikit-learn` standard `X` and `y` arrays to hold the features and the labels, respectively."
   ]
  },
  {
   "cell_type": "code",
   "execution_count": 124,
   "metadata": {
    "slideshow": {
     "slide_type": "slide"
    }
   },
   "outputs": [],
   "source": [
    "titanic_df = pd.read_csv('titanic_kaggle_training_set.csv', comment='#')\n",
    "\n",
    "feat_list = list(titanic_df.columns)\n",
    "label = 'Survived'\n",
    "feat_list.remove(label)\n",
    "X = titanic_df[feat_list].values\n",
    "y = titanic_df[label]"
   ]
  },
  {
   "cell_type": "markdown",
   "metadata": {
    "slideshow": {
     "slide_type": "slide"
    }
   },
   "source": [
    "Now that we have the data in the appropriate `X` and `y` arrays, estimate the accuracy with which a [K nearest neighbors](https://scikit-learn.org/stable/modules/generated/sklearn.neighbors.KNeighborsClassifier.html) classification model can predict whether or not a passenger would survive the Titanic disaster. Use $k=10$ fold cross validation for the prediction."
   ]
  },
  {
   "cell_type": "markdown",
   "metadata": {
    "slideshow": {
     "slide_type": "subslide"
    }
   },
   "source": [
    "**Problem 3b**\n",
    "\n",
    "Train a $k=7$ nearest neighbors machine learning model on the Titanic training set."
   ]
  },
  {
   "cell_type": "code",
   "execution_count": 95,
   "metadata": {
    "slideshow": {
     "slide_type": "subslide"
    }
   },
   "outputs": [
    {
     "ename": "ValueError",
     "evalue": "could not convert string to float: 'Q'",
     "output_type": "error",
     "traceback": [
      "\u001b[0;31m---------------------------------------------------------------------------\u001b[0m",
      "\u001b[0;31mValueError\u001b[0m                                Traceback (most recent call last)",
      "\u001b[0;32m<ipython-input-95-a87f7dab2ac9>\u001b[0m in \u001b[0;36m<module>\u001b[0;34m()\u001b[0m\n\u001b[1;32m      1\u001b[0m \u001b[0;32mfrom\u001b[0m \u001b[0msklearn\u001b[0m\u001b[0;34m.\u001b[0m\u001b[0mneighbors\u001b[0m \u001b[0;32mimport\u001b[0m \u001b[0mKNeighborsClassifier\u001b[0m\u001b[0;34m\u001b[0m\u001b[0;34m\u001b[0m\u001b[0m\n\u001b[1;32m      2\u001b[0m \u001b[0mknn_clf\u001b[0m \u001b[0;34m=\u001b[0m \u001b[0mKNeighborsClassifier\u001b[0m\u001b[0;34m(\u001b[0m\u001b[0mn_neighbors\u001b[0m\u001b[0;34m=\u001b[0m\u001b[0;36m7\u001b[0m\u001b[0;34m)\u001b[0m\u001b[0;34m\u001b[0m\u001b[0;34m\u001b[0m\u001b[0m\n\u001b[0;32m----> 3\u001b[0;31m \u001b[0mknn_clf\u001b[0m\u001b[0;34m.\u001b[0m\u001b[0mfit\u001b[0m\u001b[0;34m(\u001b[0m\u001b[0mX\u001b[0m\u001b[0;34m,\u001b[0m \u001b[0my\u001b[0m\u001b[0;34m)\u001b[0m\u001b[0;34m\u001b[0m\u001b[0;34m\u001b[0m\u001b[0m\n\u001b[0m",
      "\u001b[0;32m~/miniconda3/envs/DSFP/lib/python3.6/site-packages/sklearn/neighbors/base.py\u001b[0m in \u001b[0;36mfit\u001b[0;34m(self, X, y)\u001b[0m\n\u001b[1;32m    763\u001b[0m         \"\"\"\n\u001b[1;32m    764\u001b[0m         \u001b[0;32mif\u001b[0m \u001b[0;32mnot\u001b[0m \u001b[0misinstance\u001b[0m\u001b[0;34m(\u001b[0m\u001b[0mX\u001b[0m\u001b[0;34m,\u001b[0m \u001b[0;34m(\u001b[0m\u001b[0mKDTree\u001b[0m\u001b[0;34m,\u001b[0m \u001b[0mBallTree\u001b[0m\u001b[0;34m)\u001b[0m\u001b[0;34m)\u001b[0m\u001b[0;34m:\u001b[0m\u001b[0;34m\u001b[0m\u001b[0;34m\u001b[0m\u001b[0m\n\u001b[0;32m--> 765\u001b[0;31m             \u001b[0mX\u001b[0m\u001b[0;34m,\u001b[0m \u001b[0my\u001b[0m \u001b[0;34m=\u001b[0m \u001b[0mcheck_X_y\u001b[0m\u001b[0;34m(\u001b[0m\u001b[0mX\u001b[0m\u001b[0;34m,\u001b[0m \u001b[0my\u001b[0m\u001b[0;34m,\u001b[0m \u001b[0;34m\"csr\"\u001b[0m\u001b[0;34m,\u001b[0m \u001b[0mmulti_output\u001b[0m\u001b[0;34m=\u001b[0m\u001b[0;32mTrue\u001b[0m\u001b[0;34m)\u001b[0m\u001b[0;34m\u001b[0m\u001b[0;34m\u001b[0m\u001b[0m\n\u001b[0m\u001b[1;32m    766\u001b[0m \u001b[0;34m\u001b[0m\u001b[0m\n\u001b[1;32m    767\u001b[0m         \u001b[0;32mif\u001b[0m \u001b[0my\u001b[0m\u001b[0;34m.\u001b[0m\u001b[0mndim\u001b[0m \u001b[0;34m==\u001b[0m \u001b[0;36m1\u001b[0m \u001b[0;32mor\u001b[0m \u001b[0my\u001b[0m\u001b[0;34m.\u001b[0m\u001b[0mndim\u001b[0m \u001b[0;34m==\u001b[0m \u001b[0;36m2\u001b[0m \u001b[0;32mand\u001b[0m \u001b[0my\u001b[0m\u001b[0;34m.\u001b[0m\u001b[0mshape\u001b[0m\u001b[0;34m[\u001b[0m\u001b[0;36m1\u001b[0m\u001b[0;34m]\u001b[0m \u001b[0;34m==\u001b[0m \u001b[0;36m1\u001b[0m\u001b[0;34m:\u001b[0m\u001b[0;34m\u001b[0m\u001b[0;34m\u001b[0m\u001b[0m\n",
      "\u001b[0;32m~/miniconda3/envs/DSFP/lib/python3.6/site-packages/sklearn/utils/validation.py\u001b[0m in \u001b[0;36mcheck_X_y\u001b[0;34m(X, y, accept_sparse, dtype, order, copy, force_all_finite, ensure_2d, allow_nd, multi_output, ensure_min_samples, ensure_min_features, y_numeric, warn_on_dtype, estimator)\u001b[0m\n\u001b[1;32m    571\u001b[0m     X = check_array(X, accept_sparse, dtype, order, copy, force_all_finite,\n\u001b[1;32m    572\u001b[0m                     \u001b[0mensure_2d\u001b[0m\u001b[0;34m,\u001b[0m \u001b[0mallow_nd\u001b[0m\u001b[0;34m,\u001b[0m \u001b[0mensure_min_samples\u001b[0m\u001b[0;34m,\u001b[0m\u001b[0;34m\u001b[0m\u001b[0;34m\u001b[0m\u001b[0m\n\u001b[0;32m--> 573\u001b[0;31m                     ensure_min_features, warn_on_dtype, estimator)\n\u001b[0m\u001b[1;32m    574\u001b[0m     \u001b[0;32mif\u001b[0m \u001b[0mmulti_output\u001b[0m\u001b[0;34m:\u001b[0m\u001b[0;34m\u001b[0m\u001b[0;34m\u001b[0m\u001b[0m\n\u001b[1;32m    575\u001b[0m         y = check_array(y, 'csr', force_all_finite=True, ensure_2d=False,\n",
      "\u001b[0;32m~/miniconda3/envs/DSFP/lib/python3.6/site-packages/sklearn/utils/validation.py\u001b[0m in \u001b[0;36mcheck_array\u001b[0;34m(array, accept_sparse, dtype, order, copy, force_all_finite, ensure_2d, allow_nd, ensure_min_samples, ensure_min_features, warn_on_dtype, estimator)\u001b[0m\n\u001b[1;32m    431\u001b[0m                                       force_all_finite)\n\u001b[1;32m    432\u001b[0m     \u001b[0;32melse\u001b[0m\u001b[0;34m:\u001b[0m\u001b[0;34m\u001b[0m\u001b[0;34m\u001b[0m\u001b[0m\n\u001b[0;32m--> 433\u001b[0;31m         \u001b[0marray\u001b[0m \u001b[0;34m=\u001b[0m \u001b[0mnp\u001b[0m\u001b[0;34m.\u001b[0m\u001b[0marray\u001b[0m\u001b[0;34m(\u001b[0m\u001b[0marray\u001b[0m\u001b[0;34m,\u001b[0m \u001b[0mdtype\u001b[0m\u001b[0;34m=\u001b[0m\u001b[0mdtype\u001b[0m\u001b[0;34m,\u001b[0m \u001b[0morder\u001b[0m\u001b[0;34m=\u001b[0m\u001b[0morder\u001b[0m\u001b[0;34m,\u001b[0m \u001b[0mcopy\u001b[0m\u001b[0;34m=\u001b[0m\u001b[0mcopy\u001b[0m\u001b[0;34m)\u001b[0m\u001b[0;34m\u001b[0m\u001b[0;34m\u001b[0m\u001b[0m\n\u001b[0m\u001b[1;32m    434\u001b[0m \u001b[0;34m\u001b[0m\u001b[0m\n\u001b[1;32m    435\u001b[0m         \u001b[0;32mif\u001b[0m \u001b[0mensure_2d\u001b[0m\u001b[0;34m:\u001b[0m\u001b[0;34m\u001b[0m\u001b[0;34m\u001b[0m\u001b[0m\n",
      "\u001b[0;31mValueError\u001b[0m: could not convert string to float: 'Q'"
     ]
    }
   ],
   "source": [
    "from sklearn.neighbors import KNeighborsClassifier\n",
    "knn_clf = KNeighborsClassifier(n_neighbors=7)\n",
    "knn_clf.fit(X, y)"
   ]
  },
  {
   "cell_type": "markdown",
   "metadata": {
    "slideshow": {
     "slide_type": "slide"
    }
   },
   "source": [
    "Note - that should have failed! And for good reason - recall that `kNN` models measure the Euclidean distance between all points within the feature space. So, when considering the sex of a passenger, what is the *numerical* distance between male and female? "
   ]
  },
  {
   "cell_type": "markdown",
   "metadata": {
    "slideshow": {
     "slide_type": "subslide"
    }
   },
   "source": [
    "In other words, we need to wrangle this data before we can run the machine learning model. \n",
    "\n",
    "Most of the features in this problem are non-numeric (i.e. we are dealing with categorical features), and therefore we need to figure out how to include them in the `kNN` model. "
   ]
  },
  {
   "cell_type": "markdown",
   "metadata": {
    "slideshow": {
     "slide_type": "subslide"
    }
   },
   "source": [
    "The first step when wrangling for machine learning is to figure out if anything can be thrown away. We certainly want to avoid including any uninformative features in the model. \n",
    "\n",
    "*If you haven't already, now would be a good time to create a new cell and examine the contents of the csv*"
   ]
  },
  {
   "cell_type": "code",
   "execution_count": 96,
   "metadata": {
    "slideshow": {
     "slide_type": "skip"
    }
   },
   "outputs": [
    {
     "data": {
      "text/html": [
       "<div>\n",
       "<style scoped>\n",
       "    .dataframe tbody tr th:only-of-type {\n",
       "        vertical-align: middle;\n",
       "    }\n",
       "\n",
       "    .dataframe tbody tr th {\n",
       "        vertical-align: top;\n",
       "    }\n",
       "\n",
       "    .dataframe thead th {\n",
       "        text-align: right;\n",
       "    }\n",
       "</style>\n",
       "<table border=\"1\" class=\"dataframe\">\n",
       "  <thead>\n",
       "    <tr style=\"text-align: right;\">\n",
       "      <th></th>\n",
       "      <th>PassengerId</th>\n",
       "      <th>Survived</th>\n",
       "      <th>Pclass</th>\n",
       "      <th>Name</th>\n",
       "      <th>Sex</th>\n",
       "      <th>Age</th>\n",
       "      <th>SibSp</th>\n",
       "      <th>Parch</th>\n",
       "      <th>Ticket</th>\n",
       "      <th>Fare</th>\n",
       "      <th>Cabin</th>\n",
       "      <th>Embarked</th>\n",
       "    </tr>\n",
       "  </thead>\n",
       "  <tbody>\n",
       "    <tr>\n",
       "      <th>0</th>\n",
       "      <td>1</td>\n",
       "      <td>0</td>\n",
       "      <td>3</td>\n",
       "      <td>Braund, Mr. Owen Harris</td>\n",
       "      <td>male</td>\n",
       "      <td>22.0</td>\n",
       "      <td>1</td>\n",
       "      <td>0</td>\n",
       "      <td>A/5 21171</td>\n",
       "      <td>7.2500</td>\n",
       "      <td>NaN</td>\n",
       "      <td>S</td>\n",
       "    </tr>\n",
       "    <tr>\n",
       "      <th>1</th>\n",
       "      <td>2</td>\n",
       "      <td>1</td>\n",
       "      <td>1</td>\n",
       "      <td>Cumings, Mrs. John Bradley (Florence Briggs Th...</td>\n",
       "      <td>female</td>\n",
       "      <td>38.0</td>\n",
       "      <td>1</td>\n",
       "      <td>0</td>\n",
       "      <td>PC 17599</td>\n",
       "      <td>71.2833</td>\n",
       "      <td>C85</td>\n",
       "      <td>C</td>\n",
       "    </tr>\n",
       "    <tr>\n",
       "      <th>2</th>\n",
       "      <td>3</td>\n",
       "      <td>1</td>\n",
       "      <td>3</td>\n",
       "      <td>Heikkinen, Miss. Laina</td>\n",
       "      <td>female</td>\n",
       "      <td>26.0</td>\n",
       "      <td>0</td>\n",
       "      <td>0</td>\n",
       "      <td>STON/O2. 3101282</td>\n",
       "      <td>7.9250</td>\n",
       "      <td>NaN</td>\n",
       "      <td>S</td>\n",
       "    </tr>\n",
       "    <tr>\n",
       "      <th>3</th>\n",
       "      <td>4</td>\n",
       "      <td>1</td>\n",
       "      <td>1</td>\n",
       "      <td>Futrelle, Mrs. Jacques Heath (Lily May Peel)</td>\n",
       "      <td>female</td>\n",
       "      <td>35.0</td>\n",
       "      <td>1</td>\n",
       "      <td>0</td>\n",
       "      <td>113803</td>\n",
       "      <td>53.1000</td>\n",
       "      <td>C123</td>\n",
       "      <td>S</td>\n",
       "    </tr>\n",
       "    <tr>\n",
       "      <th>4</th>\n",
       "      <td>5</td>\n",
       "      <td>0</td>\n",
       "      <td>3</td>\n",
       "      <td>Allen, Mr. William Henry</td>\n",
       "      <td>male</td>\n",
       "      <td>35.0</td>\n",
       "      <td>0</td>\n",
       "      <td>0</td>\n",
       "      <td>373450</td>\n",
       "      <td>8.0500</td>\n",
       "      <td>NaN</td>\n",
       "      <td>S</td>\n",
       "    </tr>\n",
       "    <tr>\n",
       "      <th>5</th>\n",
       "      <td>6</td>\n",
       "      <td>0</td>\n",
       "      <td>3</td>\n",
       "      <td>Moran, Mr. James</td>\n",
       "      <td>male</td>\n",
       "      <td>NaN</td>\n",
       "      <td>0</td>\n",
       "      <td>0</td>\n",
       "      <td>330877</td>\n",
       "      <td>8.4583</td>\n",
       "      <td>NaN</td>\n",
       "      <td>Q</td>\n",
       "    </tr>\n",
       "    <tr>\n",
       "      <th>6</th>\n",
       "      <td>7</td>\n",
       "      <td>0</td>\n",
       "      <td>1</td>\n",
       "      <td>McCarthy, Mr. Timothy J</td>\n",
       "      <td>male</td>\n",
       "      <td>54.0</td>\n",
       "      <td>0</td>\n",
       "      <td>0</td>\n",
       "      <td>17463</td>\n",
       "      <td>51.8625</td>\n",
       "      <td>E46</td>\n",
       "      <td>S</td>\n",
       "    </tr>\n",
       "    <tr>\n",
       "      <th>7</th>\n",
       "      <td>8</td>\n",
       "      <td>0</td>\n",
       "      <td>3</td>\n",
       "      <td>Palsson, Master. Gosta Leonard</td>\n",
       "      <td>male</td>\n",
       "      <td>2.0</td>\n",
       "      <td>3</td>\n",
       "      <td>1</td>\n",
       "      <td>349909</td>\n",
       "      <td>21.0750</td>\n",
       "      <td>NaN</td>\n",
       "      <td>S</td>\n",
       "    </tr>\n",
       "    <tr>\n",
       "      <th>8</th>\n",
       "      <td>9</td>\n",
       "      <td>1</td>\n",
       "      <td>3</td>\n",
       "      <td>Johnson, Mrs. Oscar W (Elisabeth Vilhelmina Berg)</td>\n",
       "      <td>female</td>\n",
       "      <td>27.0</td>\n",
       "      <td>0</td>\n",
       "      <td>2</td>\n",
       "      <td>347742</td>\n",
       "      <td>11.1333</td>\n",
       "      <td>NaN</td>\n",
       "      <td>S</td>\n",
       "    </tr>\n",
       "    <tr>\n",
       "      <th>9</th>\n",
       "      <td>10</td>\n",
       "      <td>1</td>\n",
       "      <td>2</td>\n",
       "      <td>Nasser, Mrs. Nicholas (Adele Achem)</td>\n",
       "      <td>female</td>\n",
       "      <td>14.0</td>\n",
       "      <td>1</td>\n",
       "      <td>0</td>\n",
       "      <td>237736</td>\n",
       "      <td>30.0708</td>\n",
       "      <td>NaN</td>\n",
       "      <td>C</td>\n",
       "    </tr>\n",
       "    <tr>\n",
       "      <th>10</th>\n",
       "      <td>11</td>\n",
       "      <td>1</td>\n",
       "      <td>3</td>\n",
       "      <td>Sandstrom, Miss. Marguerite Rut</td>\n",
       "      <td>female</td>\n",
       "      <td>4.0</td>\n",
       "      <td>1</td>\n",
       "      <td>1</td>\n",
       "      <td>PP 9549</td>\n",
       "      <td>16.7000</td>\n",
       "      <td>G6</td>\n",
       "      <td>S</td>\n",
       "    </tr>\n",
       "    <tr>\n",
       "      <th>11</th>\n",
       "      <td>12</td>\n",
       "      <td>1</td>\n",
       "      <td>1</td>\n",
       "      <td>Bonnell, Miss. Elizabeth</td>\n",
       "      <td>female</td>\n",
       "      <td>58.0</td>\n",
       "      <td>0</td>\n",
       "      <td>0</td>\n",
       "      <td>113783</td>\n",
       "      <td>26.5500</td>\n",
       "      <td>C103</td>\n",
       "      <td>S</td>\n",
       "    </tr>\n",
       "    <tr>\n",
       "      <th>12</th>\n",
       "      <td>13</td>\n",
       "      <td>0</td>\n",
       "      <td>3</td>\n",
       "      <td>Saundercock, Mr. William Henry</td>\n",
       "      <td>male</td>\n",
       "      <td>20.0</td>\n",
       "      <td>0</td>\n",
       "      <td>0</td>\n",
       "      <td>A/5. 2151</td>\n",
       "      <td>8.0500</td>\n",
       "      <td>NaN</td>\n",
       "      <td>S</td>\n",
       "    </tr>\n",
       "    <tr>\n",
       "      <th>13</th>\n",
       "      <td>14</td>\n",
       "      <td>0</td>\n",
       "      <td>3</td>\n",
       "      <td>Andersson, Mr. Anders Johan</td>\n",
       "      <td>male</td>\n",
       "      <td>39.0</td>\n",
       "      <td>1</td>\n",
       "      <td>5</td>\n",
       "      <td>347082</td>\n",
       "      <td>31.2750</td>\n",
       "      <td>NaN</td>\n",
       "      <td>S</td>\n",
       "    </tr>\n",
       "    <tr>\n",
       "      <th>14</th>\n",
       "      <td>15</td>\n",
       "      <td>0</td>\n",
       "      <td>3</td>\n",
       "      <td>Vestrom, Miss. Hulda Amanda Adolfina</td>\n",
       "      <td>female</td>\n",
       "      <td>14.0</td>\n",
       "      <td>0</td>\n",
       "      <td>0</td>\n",
       "      <td>350406</td>\n",
       "      <td>7.8542</td>\n",
       "      <td>NaN</td>\n",
       "      <td>S</td>\n",
       "    </tr>\n",
       "    <tr>\n",
       "      <th>15</th>\n",
       "      <td>16</td>\n",
       "      <td>1</td>\n",
       "      <td>2</td>\n",
       "      <td>Hewlett, Mrs. (Mary D Kingcome)</td>\n",
       "      <td>female</td>\n",
       "      <td>55.0</td>\n",
       "      <td>0</td>\n",
       "      <td>0</td>\n",
       "      <td>248706</td>\n",
       "      <td>16.0000</td>\n",
       "      <td>NaN</td>\n",
       "      <td>S</td>\n",
       "    </tr>\n",
       "    <tr>\n",
       "      <th>16</th>\n",
       "      <td>17</td>\n",
       "      <td>0</td>\n",
       "      <td>3</td>\n",
       "      <td>Rice, Master. Eugene</td>\n",
       "      <td>male</td>\n",
       "      <td>2.0</td>\n",
       "      <td>4</td>\n",
       "      <td>1</td>\n",
       "      <td>382652</td>\n",
       "      <td>29.1250</td>\n",
       "      <td>NaN</td>\n",
       "      <td>Q</td>\n",
       "    </tr>\n",
       "    <tr>\n",
       "      <th>17</th>\n",
       "      <td>18</td>\n",
       "      <td>1</td>\n",
       "      <td>2</td>\n",
       "      <td>Williams, Mr. Charles Eugene</td>\n",
       "      <td>male</td>\n",
       "      <td>NaN</td>\n",
       "      <td>0</td>\n",
       "      <td>0</td>\n",
       "      <td>244373</td>\n",
       "      <td>13.0000</td>\n",
       "      <td>NaN</td>\n",
       "      <td>S</td>\n",
       "    </tr>\n",
       "    <tr>\n",
       "      <th>18</th>\n",
       "      <td>19</td>\n",
       "      <td>0</td>\n",
       "      <td>3</td>\n",
       "      <td>Vander Planke, Mrs. Julius (Emelia Maria Vande...</td>\n",
       "      <td>female</td>\n",
       "      <td>31.0</td>\n",
       "      <td>1</td>\n",
       "      <td>0</td>\n",
       "      <td>345763</td>\n",
       "      <td>18.0000</td>\n",
       "      <td>NaN</td>\n",
       "      <td>S</td>\n",
       "    </tr>\n",
       "    <tr>\n",
       "      <th>19</th>\n",
       "      <td>20</td>\n",
       "      <td>1</td>\n",
       "      <td>3</td>\n",
       "      <td>Masselmani, Mrs. Fatima</td>\n",
       "      <td>female</td>\n",
       "      <td>NaN</td>\n",
       "      <td>0</td>\n",
       "      <td>0</td>\n",
       "      <td>2649</td>\n",
       "      <td>7.2250</td>\n",
       "      <td>NaN</td>\n",
       "      <td>C</td>\n",
       "    </tr>\n",
       "    <tr>\n",
       "      <th>20</th>\n",
       "      <td>21</td>\n",
       "      <td>0</td>\n",
       "      <td>2</td>\n",
       "      <td>Fynney, Mr. Joseph J</td>\n",
       "      <td>male</td>\n",
       "      <td>35.0</td>\n",
       "      <td>0</td>\n",
       "      <td>0</td>\n",
       "      <td>239865</td>\n",
       "      <td>26.0000</td>\n",
       "      <td>NaN</td>\n",
       "      <td>S</td>\n",
       "    </tr>\n",
       "    <tr>\n",
       "      <th>21</th>\n",
       "      <td>22</td>\n",
       "      <td>1</td>\n",
       "      <td>2</td>\n",
       "      <td>Beesley, Mr. Lawrence</td>\n",
       "      <td>male</td>\n",
       "      <td>34.0</td>\n",
       "      <td>0</td>\n",
       "      <td>0</td>\n",
       "      <td>248698</td>\n",
       "      <td>13.0000</td>\n",
       "      <td>D56</td>\n",
       "      <td>S</td>\n",
       "    </tr>\n",
       "    <tr>\n",
       "      <th>22</th>\n",
       "      <td>23</td>\n",
       "      <td>1</td>\n",
       "      <td>3</td>\n",
       "      <td>McGowan, Miss. Anna \"Annie\"</td>\n",
       "      <td>female</td>\n",
       "      <td>15.0</td>\n",
       "      <td>0</td>\n",
       "      <td>0</td>\n",
       "      <td>330923</td>\n",
       "      <td>8.0292</td>\n",
       "      <td>NaN</td>\n",
       "      <td>Q</td>\n",
       "    </tr>\n",
       "    <tr>\n",
       "      <th>23</th>\n",
       "      <td>24</td>\n",
       "      <td>1</td>\n",
       "      <td>1</td>\n",
       "      <td>Sloper, Mr. William Thompson</td>\n",
       "      <td>male</td>\n",
       "      <td>28.0</td>\n",
       "      <td>0</td>\n",
       "      <td>0</td>\n",
       "      <td>113788</td>\n",
       "      <td>35.5000</td>\n",
       "      <td>A6</td>\n",
       "      <td>S</td>\n",
       "    </tr>\n",
       "    <tr>\n",
       "      <th>24</th>\n",
       "      <td>25</td>\n",
       "      <td>0</td>\n",
       "      <td>3</td>\n",
       "      <td>Palsson, Miss. Torborg Danira</td>\n",
       "      <td>female</td>\n",
       "      <td>8.0</td>\n",
       "      <td>3</td>\n",
       "      <td>1</td>\n",
       "      <td>349909</td>\n",
       "      <td>21.0750</td>\n",
       "      <td>NaN</td>\n",
       "      <td>S</td>\n",
       "    </tr>\n",
       "    <tr>\n",
       "      <th>25</th>\n",
       "      <td>26</td>\n",
       "      <td>1</td>\n",
       "      <td>3</td>\n",
       "      <td>Asplund, Mrs. Carl Oscar (Selma Augusta Emilia...</td>\n",
       "      <td>female</td>\n",
       "      <td>38.0</td>\n",
       "      <td>1</td>\n",
       "      <td>5</td>\n",
       "      <td>347077</td>\n",
       "      <td>31.3875</td>\n",
       "      <td>NaN</td>\n",
       "      <td>S</td>\n",
       "    </tr>\n",
       "    <tr>\n",
       "      <th>26</th>\n",
       "      <td>27</td>\n",
       "      <td>0</td>\n",
       "      <td>3</td>\n",
       "      <td>Emir, Mr. Farred Chehab</td>\n",
       "      <td>male</td>\n",
       "      <td>NaN</td>\n",
       "      <td>0</td>\n",
       "      <td>0</td>\n",
       "      <td>2631</td>\n",
       "      <td>7.2250</td>\n",
       "      <td>NaN</td>\n",
       "      <td>C</td>\n",
       "    </tr>\n",
       "    <tr>\n",
       "      <th>27</th>\n",
       "      <td>28</td>\n",
       "      <td>0</td>\n",
       "      <td>1</td>\n",
       "      <td>Fortune, Mr. Charles Alexander</td>\n",
       "      <td>male</td>\n",
       "      <td>19.0</td>\n",
       "      <td>3</td>\n",
       "      <td>2</td>\n",
       "      <td>19950</td>\n",
       "      <td>263.0000</td>\n",
       "      <td>C23 C25 C27</td>\n",
       "      <td>S</td>\n",
       "    </tr>\n",
       "    <tr>\n",
       "      <th>28</th>\n",
       "      <td>29</td>\n",
       "      <td>1</td>\n",
       "      <td>3</td>\n",
       "      <td>O'Dwyer, Miss. Ellen \"Nellie\"</td>\n",
       "      <td>female</td>\n",
       "      <td>NaN</td>\n",
       "      <td>0</td>\n",
       "      <td>0</td>\n",
       "      <td>330959</td>\n",
       "      <td>7.8792</td>\n",
       "      <td>NaN</td>\n",
       "      <td>Q</td>\n",
       "    </tr>\n",
       "    <tr>\n",
       "      <th>29</th>\n",
       "      <td>30</td>\n",
       "      <td>0</td>\n",
       "      <td>3</td>\n",
       "      <td>Todoroff, Mr. Lalio</td>\n",
       "      <td>male</td>\n",
       "      <td>NaN</td>\n",
       "      <td>0</td>\n",
       "      <td>0</td>\n",
       "      <td>349216</td>\n",
       "      <td>7.8958</td>\n",
       "      <td>NaN</td>\n",
       "      <td>S</td>\n",
       "    </tr>\n",
       "    <tr>\n",
       "      <th>...</th>\n",
       "      <td>...</td>\n",
       "      <td>...</td>\n",
       "      <td>...</td>\n",
       "      <td>...</td>\n",
       "      <td>...</td>\n",
       "      <td>...</td>\n",
       "      <td>...</td>\n",
       "      <td>...</td>\n",
       "      <td>...</td>\n",
       "      <td>...</td>\n",
       "      <td>...</td>\n",
       "      <td>...</td>\n",
       "    </tr>\n",
       "    <tr>\n",
       "      <th>859</th>\n",
       "      <td>862</td>\n",
       "      <td>0</td>\n",
       "      <td>2</td>\n",
       "      <td>Giles, Mr. Frederick Edward</td>\n",
       "      <td>male</td>\n",
       "      <td>21.0</td>\n",
       "      <td>1</td>\n",
       "      <td>0</td>\n",
       "      <td>28134</td>\n",
       "      <td>11.5000</td>\n",
       "      <td>NaN</td>\n",
       "      <td>S</td>\n",
       "    </tr>\n",
       "    <tr>\n",
       "      <th>860</th>\n",
       "      <td>863</td>\n",
       "      <td>1</td>\n",
       "      <td>1</td>\n",
       "      <td>Swift, Mrs. Frederick Joel (Margaret Welles Ba...</td>\n",
       "      <td>female</td>\n",
       "      <td>48.0</td>\n",
       "      <td>0</td>\n",
       "      <td>0</td>\n",
       "      <td>17466</td>\n",
       "      <td>25.9292</td>\n",
       "      <td>D17</td>\n",
       "      <td>S</td>\n",
       "    </tr>\n",
       "    <tr>\n",
       "      <th>861</th>\n",
       "      <td>864</td>\n",
       "      <td>0</td>\n",
       "      <td>3</td>\n",
       "      <td>Sage, Miss. Dorothy Edith \"Dolly\"</td>\n",
       "      <td>female</td>\n",
       "      <td>NaN</td>\n",
       "      <td>8</td>\n",
       "      <td>2</td>\n",
       "      <td>CA. 2343</td>\n",
       "      <td>69.5500</td>\n",
       "      <td>NaN</td>\n",
       "      <td>S</td>\n",
       "    </tr>\n",
       "    <tr>\n",
       "      <th>862</th>\n",
       "      <td>865</td>\n",
       "      <td>0</td>\n",
       "      <td>2</td>\n",
       "      <td>Gill, Mr. John William</td>\n",
       "      <td>male</td>\n",
       "      <td>24.0</td>\n",
       "      <td>0</td>\n",
       "      <td>0</td>\n",
       "      <td>233866</td>\n",
       "      <td>13.0000</td>\n",
       "      <td>NaN</td>\n",
       "      <td>S</td>\n",
       "    </tr>\n",
       "    <tr>\n",
       "      <th>863</th>\n",
       "      <td>866</td>\n",
       "      <td>1</td>\n",
       "      <td>2</td>\n",
       "      <td>Bystrom, Mrs. (Karolina)</td>\n",
       "      <td>female</td>\n",
       "      <td>42.0</td>\n",
       "      <td>0</td>\n",
       "      <td>0</td>\n",
       "      <td>236852</td>\n",
       "      <td>13.0000</td>\n",
       "      <td>NaN</td>\n",
       "      <td>S</td>\n",
       "    </tr>\n",
       "    <tr>\n",
       "      <th>864</th>\n",
       "      <td>867</td>\n",
       "      <td>1</td>\n",
       "      <td>2</td>\n",
       "      <td>Duran y More, Miss. Asuncion</td>\n",
       "      <td>female</td>\n",
       "      <td>27.0</td>\n",
       "      <td>1</td>\n",
       "      <td>0</td>\n",
       "      <td>SC/PARIS 2149</td>\n",
       "      <td>13.8583</td>\n",
       "      <td>NaN</td>\n",
       "      <td>C</td>\n",
       "    </tr>\n",
       "    <tr>\n",
       "      <th>865</th>\n",
       "      <td>868</td>\n",
       "      <td>0</td>\n",
       "      <td>1</td>\n",
       "      <td>Roebling, Mr. Washington Augustus II</td>\n",
       "      <td>male</td>\n",
       "      <td>31.0</td>\n",
       "      <td>0</td>\n",
       "      <td>0</td>\n",
       "      <td>PC 17590</td>\n",
       "      <td>50.4958</td>\n",
       "      <td>A24</td>\n",
       "      <td>S</td>\n",
       "    </tr>\n",
       "    <tr>\n",
       "      <th>866</th>\n",
       "      <td>869</td>\n",
       "      <td>0</td>\n",
       "      <td>3</td>\n",
       "      <td>van Melkebeke, Mr. Philemon</td>\n",
       "      <td>male</td>\n",
       "      <td>NaN</td>\n",
       "      <td>0</td>\n",
       "      <td>0</td>\n",
       "      <td>345777</td>\n",
       "      <td>9.5000</td>\n",
       "      <td>NaN</td>\n",
       "      <td>S</td>\n",
       "    </tr>\n",
       "    <tr>\n",
       "      <th>867</th>\n",
       "      <td>870</td>\n",
       "      <td>1</td>\n",
       "      <td>3</td>\n",
       "      <td>Johnson, Master. Harold Theodor</td>\n",
       "      <td>male</td>\n",
       "      <td>4.0</td>\n",
       "      <td>1</td>\n",
       "      <td>1</td>\n",
       "      <td>347742</td>\n",
       "      <td>11.1333</td>\n",
       "      <td>NaN</td>\n",
       "      <td>S</td>\n",
       "    </tr>\n",
       "    <tr>\n",
       "      <th>868</th>\n",
       "      <td>871</td>\n",
       "      <td>0</td>\n",
       "      <td>3</td>\n",
       "      <td>Balkic, Mr. Cerin</td>\n",
       "      <td>male</td>\n",
       "      <td>26.0</td>\n",
       "      <td>0</td>\n",
       "      <td>0</td>\n",
       "      <td>349248</td>\n",
       "      <td>7.8958</td>\n",
       "      <td>NaN</td>\n",
       "      <td>S</td>\n",
       "    </tr>\n",
       "    <tr>\n",
       "      <th>869</th>\n",
       "      <td>872</td>\n",
       "      <td>1</td>\n",
       "      <td>1</td>\n",
       "      <td>Beckwith, Mrs. Richard Leonard (Sallie Monypeny)</td>\n",
       "      <td>female</td>\n",
       "      <td>47.0</td>\n",
       "      <td>1</td>\n",
       "      <td>1</td>\n",
       "      <td>11751</td>\n",
       "      <td>52.5542</td>\n",
       "      <td>D35</td>\n",
       "      <td>S</td>\n",
       "    </tr>\n",
       "    <tr>\n",
       "      <th>870</th>\n",
       "      <td>873</td>\n",
       "      <td>0</td>\n",
       "      <td>1</td>\n",
       "      <td>Carlsson, Mr. Frans Olof</td>\n",
       "      <td>male</td>\n",
       "      <td>33.0</td>\n",
       "      <td>0</td>\n",
       "      <td>0</td>\n",
       "      <td>695</td>\n",
       "      <td>5.0000</td>\n",
       "      <td>B51 B53 B55</td>\n",
       "      <td>S</td>\n",
       "    </tr>\n",
       "    <tr>\n",
       "      <th>871</th>\n",
       "      <td>874</td>\n",
       "      <td>0</td>\n",
       "      <td>3</td>\n",
       "      <td>Vander Cruyssen, Mr. Victor</td>\n",
       "      <td>male</td>\n",
       "      <td>47.0</td>\n",
       "      <td>0</td>\n",
       "      <td>0</td>\n",
       "      <td>345765</td>\n",
       "      <td>9.0000</td>\n",
       "      <td>NaN</td>\n",
       "      <td>S</td>\n",
       "    </tr>\n",
       "    <tr>\n",
       "      <th>872</th>\n",
       "      <td>875</td>\n",
       "      <td>1</td>\n",
       "      <td>2</td>\n",
       "      <td>Abelson, Mrs. Samuel (Hannah Wizosky)</td>\n",
       "      <td>female</td>\n",
       "      <td>28.0</td>\n",
       "      <td>1</td>\n",
       "      <td>0</td>\n",
       "      <td>P/PP 3381</td>\n",
       "      <td>24.0000</td>\n",
       "      <td>NaN</td>\n",
       "      <td>C</td>\n",
       "    </tr>\n",
       "    <tr>\n",
       "      <th>873</th>\n",
       "      <td>876</td>\n",
       "      <td>1</td>\n",
       "      <td>3</td>\n",
       "      <td>Najib, Miss. Adele Kiamie \"Jane\"</td>\n",
       "      <td>female</td>\n",
       "      <td>15.0</td>\n",
       "      <td>0</td>\n",
       "      <td>0</td>\n",
       "      <td>2667</td>\n",
       "      <td>7.2250</td>\n",
       "      <td>NaN</td>\n",
       "      <td>C</td>\n",
       "    </tr>\n",
       "    <tr>\n",
       "      <th>874</th>\n",
       "      <td>877</td>\n",
       "      <td>0</td>\n",
       "      <td>3</td>\n",
       "      <td>Gustafsson, Mr. Alfred Ossian</td>\n",
       "      <td>male</td>\n",
       "      <td>20.0</td>\n",
       "      <td>0</td>\n",
       "      <td>0</td>\n",
       "      <td>7534</td>\n",
       "      <td>9.8458</td>\n",
       "      <td>NaN</td>\n",
       "      <td>S</td>\n",
       "    </tr>\n",
       "    <tr>\n",
       "      <th>875</th>\n",
       "      <td>878</td>\n",
       "      <td>0</td>\n",
       "      <td>3</td>\n",
       "      <td>Petroff, Mr. Nedelio</td>\n",
       "      <td>male</td>\n",
       "      <td>19.0</td>\n",
       "      <td>0</td>\n",
       "      <td>0</td>\n",
       "      <td>349212</td>\n",
       "      <td>7.8958</td>\n",
       "      <td>NaN</td>\n",
       "      <td>S</td>\n",
       "    </tr>\n",
       "    <tr>\n",
       "      <th>876</th>\n",
       "      <td>879</td>\n",
       "      <td>0</td>\n",
       "      <td>3</td>\n",
       "      <td>Laleff, Mr. Kristo</td>\n",
       "      <td>male</td>\n",
       "      <td>NaN</td>\n",
       "      <td>0</td>\n",
       "      <td>0</td>\n",
       "      <td>349217</td>\n",
       "      <td>7.8958</td>\n",
       "      <td>NaN</td>\n",
       "      <td>S</td>\n",
       "    </tr>\n",
       "    <tr>\n",
       "      <th>877</th>\n",
       "      <td>880</td>\n",
       "      <td>1</td>\n",
       "      <td>1</td>\n",
       "      <td>Potter, Mrs. Thomas Jr (Lily Alexenia Wilson)</td>\n",
       "      <td>female</td>\n",
       "      <td>56.0</td>\n",
       "      <td>0</td>\n",
       "      <td>1</td>\n",
       "      <td>11767</td>\n",
       "      <td>83.1583</td>\n",
       "      <td>C50</td>\n",
       "      <td>C</td>\n",
       "    </tr>\n",
       "    <tr>\n",
       "      <th>878</th>\n",
       "      <td>881</td>\n",
       "      <td>1</td>\n",
       "      <td>2</td>\n",
       "      <td>Shelley, Mrs. William (Imanita Parrish Hall)</td>\n",
       "      <td>female</td>\n",
       "      <td>25.0</td>\n",
       "      <td>0</td>\n",
       "      <td>1</td>\n",
       "      <td>230433</td>\n",
       "      <td>26.0000</td>\n",
       "      <td>NaN</td>\n",
       "      <td>S</td>\n",
       "    </tr>\n",
       "    <tr>\n",
       "      <th>879</th>\n",
       "      <td>882</td>\n",
       "      <td>0</td>\n",
       "      <td>3</td>\n",
       "      <td>Markun, Mr. Johann</td>\n",
       "      <td>male</td>\n",
       "      <td>33.0</td>\n",
       "      <td>0</td>\n",
       "      <td>0</td>\n",
       "      <td>349257</td>\n",
       "      <td>7.8958</td>\n",
       "      <td>NaN</td>\n",
       "      <td>S</td>\n",
       "    </tr>\n",
       "    <tr>\n",
       "      <th>880</th>\n",
       "      <td>883</td>\n",
       "      <td>0</td>\n",
       "      <td>3</td>\n",
       "      <td>Dahlberg, Miss. Gerda Ulrika</td>\n",
       "      <td>female</td>\n",
       "      <td>22.0</td>\n",
       "      <td>0</td>\n",
       "      <td>0</td>\n",
       "      <td>7552</td>\n",
       "      <td>10.5167</td>\n",
       "      <td>NaN</td>\n",
       "      <td>S</td>\n",
       "    </tr>\n",
       "    <tr>\n",
       "      <th>881</th>\n",
       "      <td>884</td>\n",
       "      <td>0</td>\n",
       "      <td>2</td>\n",
       "      <td>Banfield, Mr. Frederick James</td>\n",
       "      <td>male</td>\n",
       "      <td>28.0</td>\n",
       "      <td>0</td>\n",
       "      <td>0</td>\n",
       "      <td>C.A./SOTON 34068</td>\n",
       "      <td>10.5000</td>\n",
       "      <td>NaN</td>\n",
       "      <td>S</td>\n",
       "    </tr>\n",
       "    <tr>\n",
       "      <th>882</th>\n",
       "      <td>885</td>\n",
       "      <td>0</td>\n",
       "      <td>3</td>\n",
       "      <td>Sutehall, Mr. Henry Jr</td>\n",
       "      <td>male</td>\n",
       "      <td>25.0</td>\n",
       "      <td>0</td>\n",
       "      <td>0</td>\n",
       "      <td>SOTON/OQ 392076</td>\n",
       "      <td>7.0500</td>\n",
       "      <td>NaN</td>\n",
       "      <td>S</td>\n",
       "    </tr>\n",
       "    <tr>\n",
       "      <th>883</th>\n",
       "      <td>886</td>\n",
       "      <td>0</td>\n",
       "      <td>3</td>\n",
       "      <td>Rice, Mrs. William (Margaret Norton)</td>\n",
       "      <td>female</td>\n",
       "      <td>39.0</td>\n",
       "      <td>0</td>\n",
       "      <td>5</td>\n",
       "      <td>382652</td>\n",
       "      <td>29.1250</td>\n",
       "      <td>NaN</td>\n",
       "      <td>Q</td>\n",
       "    </tr>\n",
       "    <tr>\n",
       "      <th>884</th>\n",
       "      <td>887</td>\n",
       "      <td>0</td>\n",
       "      <td>2</td>\n",
       "      <td>Montvila, Rev. Juozas</td>\n",
       "      <td>male</td>\n",
       "      <td>27.0</td>\n",
       "      <td>0</td>\n",
       "      <td>0</td>\n",
       "      <td>211536</td>\n",
       "      <td>13.0000</td>\n",
       "      <td>NaN</td>\n",
       "      <td>S</td>\n",
       "    </tr>\n",
       "    <tr>\n",
       "      <th>885</th>\n",
       "      <td>888</td>\n",
       "      <td>1</td>\n",
       "      <td>1</td>\n",
       "      <td>Graham, Miss. Margaret Edith</td>\n",
       "      <td>female</td>\n",
       "      <td>19.0</td>\n",
       "      <td>0</td>\n",
       "      <td>0</td>\n",
       "      <td>112053</td>\n",
       "      <td>30.0000</td>\n",
       "      <td>B42</td>\n",
       "      <td>S</td>\n",
       "    </tr>\n",
       "    <tr>\n",
       "      <th>886</th>\n",
       "      <td>889</td>\n",
       "      <td>0</td>\n",
       "      <td>3</td>\n",
       "      <td>Johnston, Miss. Catherine Helen \"Carrie\"</td>\n",
       "      <td>female</td>\n",
       "      <td>NaN</td>\n",
       "      <td>1</td>\n",
       "      <td>2</td>\n",
       "      <td>W./C. 6607</td>\n",
       "      <td>23.4500</td>\n",
       "      <td>NaN</td>\n",
       "      <td>S</td>\n",
       "    </tr>\n",
       "    <tr>\n",
       "      <th>887</th>\n",
       "      <td>890</td>\n",
       "      <td>1</td>\n",
       "      <td>1</td>\n",
       "      <td>Behr, Mr. Karl Howell</td>\n",
       "      <td>male</td>\n",
       "      <td>26.0</td>\n",
       "      <td>0</td>\n",
       "      <td>0</td>\n",
       "      <td>111369</td>\n",
       "      <td>30.0000</td>\n",
       "      <td>C148</td>\n",
       "      <td>C</td>\n",
       "    </tr>\n",
       "    <tr>\n",
       "      <th>888</th>\n",
       "      <td>891</td>\n",
       "      <td>0</td>\n",
       "      <td>3</td>\n",
       "      <td>Dooley, Mr. Patrick</td>\n",
       "      <td>male</td>\n",
       "      <td>32.0</td>\n",
       "      <td>0</td>\n",
       "      <td>0</td>\n",
       "      <td>370376</td>\n",
       "      <td>7.7500</td>\n",
       "      <td>NaN</td>\n",
       "      <td>Q</td>\n",
       "    </tr>\n",
       "  </tbody>\n",
       "</table>\n",
       "<p>889 rows × 12 columns</p>\n",
       "</div>"
      ],
      "text/plain": [
       "     PassengerId  Survived  Pclass  \\\n",
       "0              1         0       3   \n",
       "1              2         1       1   \n",
       "2              3         1       3   \n",
       "3              4         1       1   \n",
       "4              5         0       3   \n",
       "5              6         0       3   \n",
       "6              7         0       1   \n",
       "7              8         0       3   \n",
       "8              9         1       3   \n",
       "9             10         1       2   \n",
       "10            11         1       3   \n",
       "11            12         1       1   \n",
       "12            13         0       3   \n",
       "13            14         0       3   \n",
       "14            15         0       3   \n",
       "15            16         1       2   \n",
       "16            17         0       3   \n",
       "17            18         1       2   \n",
       "18            19         0       3   \n",
       "19            20         1       3   \n",
       "20            21         0       2   \n",
       "21            22         1       2   \n",
       "22            23         1       3   \n",
       "23            24         1       1   \n",
       "24            25         0       3   \n",
       "25            26         1       3   \n",
       "26            27         0       3   \n",
       "27            28         0       1   \n",
       "28            29         1       3   \n",
       "29            30         0       3   \n",
       "..           ...       ...     ...   \n",
       "859          862         0       2   \n",
       "860          863         1       1   \n",
       "861          864         0       3   \n",
       "862          865         0       2   \n",
       "863          866         1       2   \n",
       "864          867         1       2   \n",
       "865          868         0       1   \n",
       "866          869         0       3   \n",
       "867          870         1       3   \n",
       "868          871         0       3   \n",
       "869          872         1       1   \n",
       "870          873         0       1   \n",
       "871          874         0       3   \n",
       "872          875         1       2   \n",
       "873          876         1       3   \n",
       "874          877         0       3   \n",
       "875          878         0       3   \n",
       "876          879         0       3   \n",
       "877          880         1       1   \n",
       "878          881         1       2   \n",
       "879          882         0       3   \n",
       "880          883         0       3   \n",
       "881          884         0       2   \n",
       "882          885         0       3   \n",
       "883          886         0       3   \n",
       "884          887         0       2   \n",
       "885          888         1       1   \n",
       "886          889         0       3   \n",
       "887          890         1       1   \n",
       "888          891         0       3   \n",
       "\n",
       "                                                  Name     Sex   Age  SibSp  \\\n",
       "0                              Braund, Mr. Owen Harris    male  22.0      1   \n",
       "1    Cumings, Mrs. John Bradley (Florence Briggs Th...  female  38.0      1   \n",
       "2                               Heikkinen, Miss. Laina  female  26.0      0   \n",
       "3         Futrelle, Mrs. Jacques Heath (Lily May Peel)  female  35.0      1   \n",
       "4                             Allen, Mr. William Henry    male  35.0      0   \n",
       "5                                     Moran, Mr. James    male   NaN      0   \n",
       "6                              McCarthy, Mr. Timothy J    male  54.0      0   \n",
       "7                       Palsson, Master. Gosta Leonard    male   2.0      3   \n",
       "8    Johnson, Mrs. Oscar W (Elisabeth Vilhelmina Berg)  female  27.0      0   \n",
       "9                  Nasser, Mrs. Nicholas (Adele Achem)  female  14.0      1   \n",
       "10                     Sandstrom, Miss. Marguerite Rut  female   4.0      1   \n",
       "11                            Bonnell, Miss. Elizabeth  female  58.0      0   \n",
       "12                      Saundercock, Mr. William Henry    male  20.0      0   \n",
       "13                         Andersson, Mr. Anders Johan    male  39.0      1   \n",
       "14                Vestrom, Miss. Hulda Amanda Adolfina  female  14.0      0   \n",
       "15                    Hewlett, Mrs. (Mary D Kingcome)   female  55.0      0   \n",
       "16                                Rice, Master. Eugene    male   2.0      4   \n",
       "17                        Williams, Mr. Charles Eugene    male   NaN      0   \n",
       "18   Vander Planke, Mrs. Julius (Emelia Maria Vande...  female  31.0      1   \n",
       "19                             Masselmani, Mrs. Fatima  female   NaN      0   \n",
       "20                                Fynney, Mr. Joseph J    male  35.0      0   \n",
       "21                               Beesley, Mr. Lawrence    male  34.0      0   \n",
       "22                         McGowan, Miss. Anna \"Annie\"  female  15.0      0   \n",
       "23                        Sloper, Mr. William Thompson    male  28.0      0   \n",
       "24                       Palsson, Miss. Torborg Danira  female   8.0      3   \n",
       "25   Asplund, Mrs. Carl Oscar (Selma Augusta Emilia...  female  38.0      1   \n",
       "26                             Emir, Mr. Farred Chehab    male   NaN      0   \n",
       "27                      Fortune, Mr. Charles Alexander    male  19.0      3   \n",
       "28                       O'Dwyer, Miss. Ellen \"Nellie\"  female   NaN      0   \n",
       "29                                 Todoroff, Mr. Lalio    male   NaN      0   \n",
       "..                                                 ...     ...   ...    ...   \n",
       "859                        Giles, Mr. Frederick Edward    male  21.0      1   \n",
       "860  Swift, Mrs. Frederick Joel (Margaret Welles Ba...  female  48.0      0   \n",
       "861                  Sage, Miss. Dorothy Edith \"Dolly\"  female   NaN      8   \n",
       "862                             Gill, Mr. John William    male  24.0      0   \n",
       "863                           Bystrom, Mrs. (Karolina)  female  42.0      0   \n",
       "864                       Duran y More, Miss. Asuncion  female  27.0      1   \n",
       "865               Roebling, Mr. Washington Augustus II    male  31.0      0   \n",
       "866                        van Melkebeke, Mr. Philemon    male   NaN      0   \n",
       "867                    Johnson, Master. Harold Theodor    male   4.0      1   \n",
       "868                                  Balkic, Mr. Cerin    male  26.0      0   \n",
       "869   Beckwith, Mrs. Richard Leonard (Sallie Monypeny)  female  47.0      1   \n",
       "870                           Carlsson, Mr. Frans Olof    male  33.0      0   \n",
       "871                        Vander Cruyssen, Mr. Victor    male  47.0      0   \n",
       "872              Abelson, Mrs. Samuel (Hannah Wizosky)  female  28.0      1   \n",
       "873                   Najib, Miss. Adele Kiamie \"Jane\"  female  15.0      0   \n",
       "874                      Gustafsson, Mr. Alfred Ossian    male  20.0      0   \n",
       "875                               Petroff, Mr. Nedelio    male  19.0      0   \n",
       "876                                 Laleff, Mr. Kristo    male   NaN      0   \n",
       "877      Potter, Mrs. Thomas Jr (Lily Alexenia Wilson)  female  56.0      0   \n",
       "878       Shelley, Mrs. William (Imanita Parrish Hall)  female  25.0      0   \n",
       "879                                 Markun, Mr. Johann    male  33.0      0   \n",
       "880                       Dahlberg, Miss. Gerda Ulrika  female  22.0      0   \n",
       "881                      Banfield, Mr. Frederick James    male  28.0      0   \n",
       "882                             Sutehall, Mr. Henry Jr    male  25.0      0   \n",
       "883               Rice, Mrs. William (Margaret Norton)  female  39.0      0   \n",
       "884                              Montvila, Rev. Juozas    male  27.0      0   \n",
       "885                       Graham, Miss. Margaret Edith  female  19.0      0   \n",
       "886           Johnston, Miss. Catherine Helen \"Carrie\"  female   NaN      1   \n",
       "887                              Behr, Mr. Karl Howell    male  26.0      0   \n",
       "888                                Dooley, Mr. Patrick    male  32.0      0   \n",
       "\n",
       "     Parch            Ticket      Fare        Cabin Embarked  \n",
       "0        0         A/5 21171    7.2500          NaN        S  \n",
       "1        0          PC 17599   71.2833          C85        C  \n",
       "2        0  STON/O2. 3101282    7.9250          NaN        S  \n",
       "3        0            113803   53.1000         C123        S  \n",
       "4        0            373450    8.0500          NaN        S  \n",
       "5        0            330877    8.4583          NaN        Q  \n",
       "6        0             17463   51.8625          E46        S  \n",
       "7        1            349909   21.0750          NaN        S  \n",
       "8        2            347742   11.1333          NaN        S  \n",
       "9        0            237736   30.0708          NaN        C  \n",
       "10       1           PP 9549   16.7000           G6        S  \n",
       "11       0            113783   26.5500         C103        S  \n",
       "12       0         A/5. 2151    8.0500          NaN        S  \n",
       "13       5            347082   31.2750          NaN        S  \n",
       "14       0            350406    7.8542          NaN        S  \n",
       "15       0            248706   16.0000          NaN        S  \n",
       "16       1            382652   29.1250          NaN        Q  \n",
       "17       0            244373   13.0000          NaN        S  \n",
       "18       0            345763   18.0000          NaN        S  \n",
       "19       0              2649    7.2250          NaN        C  \n",
       "20       0            239865   26.0000          NaN        S  \n",
       "21       0            248698   13.0000          D56        S  \n",
       "22       0            330923    8.0292          NaN        Q  \n",
       "23       0            113788   35.5000           A6        S  \n",
       "24       1            349909   21.0750          NaN        S  \n",
       "25       5            347077   31.3875          NaN        S  \n",
       "26       0              2631    7.2250          NaN        C  \n",
       "27       2             19950  263.0000  C23 C25 C27        S  \n",
       "28       0            330959    7.8792          NaN        Q  \n",
       "29       0            349216    7.8958          NaN        S  \n",
       "..     ...               ...       ...          ...      ...  \n",
       "859      0             28134   11.5000          NaN        S  \n",
       "860      0             17466   25.9292          D17        S  \n",
       "861      2          CA. 2343   69.5500          NaN        S  \n",
       "862      0            233866   13.0000          NaN        S  \n",
       "863      0            236852   13.0000          NaN        S  \n",
       "864      0     SC/PARIS 2149   13.8583          NaN        C  \n",
       "865      0          PC 17590   50.4958          A24        S  \n",
       "866      0            345777    9.5000          NaN        S  \n",
       "867      1            347742   11.1333          NaN        S  \n",
       "868      0            349248    7.8958          NaN        S  \n",
       "869      1             11751   52.5542          D35        S  \n",
       "870      0               695    5.0000  B51 B53 B55        S  \n",
       "871      0            345765    9.0000          NaN        S  \n",
       "872      0         P/PP 3381   24.0000          NaN        C  \n",
       "873      0              2667    7.2250          NaN        C  \n",
       "874      0              7534    9.8458          NaN        S  \n",
       "875      0            349212    7.8958          NaN        S  \n",
       "876      0            349217    7.8958          NaN        S  \n",
       "877      1             11767   83.1583          C50        C  \n",
       "878      1            230433   26.0000          NaN        S  \n",
       "879      0            349257    7.8958          NaN        S  \n",
       "880      0              7552   10.5167          NaN        S  \n",
       "881      0  C.A./SOTON 34068   10.5000          NaN        S  \n",
       "882      0   SOTON/OQ 392076    7.0500          NaN        S  \n",
       "883      5            382652   29.1250          NaN        Q  \n",
       "884      0            211536   13.0000          NaN        S  \n",
       "885      0            112053   30.0000          B42        S  \n",
       "886      2        W./C. 6607   23.4500          NaN        S  \n",
       "887      0            111369   30.0000         C148        C  \n",
       "888      0            370376    7.7500          NaN        Q  \n",
       "\n",
       "[889 rows x 12 columns]"
      ]
     },
     "execution_count": 96,
     "metadata": {},
     "output_type": "execute_result"
    }
   ],
   "source": [
    "titanic_df"
   ]
  },
  {
   "cell_type": "markdown",
   "metadata": {
    "slideshow": {
     "slide_type": "subslide"
    }
   },
   "source": [
    "**Problem 3c** \n",
    "\n",
    "Are there any features that *obviously* will not help with this classification problem?\n",
    "\n",
    "*If you answer yes - ignore those features moving forward*"
   ]
  },
  {
   "cell_type": "markdown",
   "metadata": {
    "slideshow": {
     "slide_type": "subslide"
    }
   },
   "source": [
    "**Solution 3c**\n",
    "\n",
    "*write your solution here*\n",
    "\n",
    "The `Name` of the passenger will not be useful for this classification task. In particular, the useful information that might be learned from the name, such as the sex (e.g., Mr. vs. Mrs.), or the age (e.g., Mr. vs. Master), are already summarized elsewhere in the data. \n",
    "\n",
    "It is also highly likely that the `PassengerId`, which is just a running index for each person in the dataset, is unlikely to be useful when classifying this data."
   ]
  },
  {
   "cell_type": "markdown",
   "metadata": {
    "slideshow": {
     "slide_type": "slide"
    }
   },
   "source": [
    "Given that we have both categorical and numeric features, let's start with the numerical features and see how well they can predict survival on the Titanic.\n",
    "\n",
    "One note - for now we are going to exclude `Age`, because as you saw when you examined the data, there are some passengers that do not have any age information. This problem, known as \"missing data\" is one that we will deal with before the end of this problem."
   ]
  },
  {
   "cell_type": "markdown",
   "metadata": {
    "slideshow": {
     "slide_type": "subslide"
    }
   },
   "source": [
    "**Problem 3d**\n",
    "\n",
    "How accurately can the numeric features, `Pclass`, `SibSp`, `Parch`, and `Fare` predict survival on the Titanic? Use a $k = 7$ Nearest Neighbors model, and estimate the model accuracy using 10-fold cross validation. \n",
    "\n",
    "*Hint 1 - you'll want to redefine your features vector `X`*\n",
    "\n",
    "*Hint 2 - you may find [`cross_val_score`](https://scikit-learn.org/stable/modules/generated/sklearn.model_selection.cross_val_score.html) from `scikit-learn` helpful*"
   ]
  },
  {
   "cell_type": "code",
   "execution_count": 97,
   "metadata": {
    "slideshow": {
     "slide_type": "subslide"
    }
   },
   "outputs": [
    {
     "name": "stdout",
     "output_type": "stream",
     "text": [
      "The accuracy from numeric features = 68.51%\n"
     ]
    }
   ],
   "source": [
    "from sklearn.model_selection import cross_val_score\n",
    "\n",
    "X = titanic_df[['Pclass', 'SibSp', 'Parch', 'Fare']]\n",
    "\n",
    "knn_clf = KNeighborsClassifier(n_neighbors=7)\n",
    "\n",
    "cv_results = cross_val_score(knn_clf, X, y, cv=10)\n",
    "\n",
    "print('The accuracy from numeric features = {:.2f}%'.format(100*np.mean(cv_results)))"
   ]
  },
  {
   "cell_type": "markdown",
   "metadata": {
    "slideshow": {
     "slide_type": "slide"
    }
   },
   "source": [
    "An accuracy of 68% isn't particularly inspiring. But, there's a lot of important information that we are excluding. As far as the Titanic is concerned, Kate and Leo taught us that [female passengers are far more likely to survive](https://qph.fs.quoracdn.net/main-qimg-93eb36091c7eec872b891fa51dc5722b), while [male passengers are not](http://hoycinema.abc.es/Media/201602/03/titanic-kate-dicaprio--644x362.jpg). So, if we can include gender in the model then we may be able to achieve more accurate predictions. "
   ]
  },
  {
   "cell_type": "markdown",
   "metadata": {
    "slideshow": {
     "slide_type": "subslide"
    }
   },
   "source": [
    "**Problem 3e**\n",
    "\n",
    "Create a new feature called `gender` that equals 1 for male passengers and 2 for female passengers. Add this feature to your dataframe, and include it in a `kNN` model with the other numeric features. Does the inclusion of this feature improve the 10-fold CV accuracy?"
   ]
  },
  {
   "cell_type": "code",
   "execution_count": 98,
   "metadata": {
    "slideshow": {
     "slide_type": "subslide"
    }
   },
   "outputs": [
    {
     "name": "stdout",
     "output_type": "stream",
     "text": [
      "The accuracy when including gender = 77.28%\n"
     ]
    }
   ],
   "source": [
    "gender = np.ones(len(titanic_df['Sex']))\n",
    "gender[np.where(titanic_df['Sex'] == 'female')] = 2\n",
    "\n",
    "titanic_df['gender'] = gender\n",
    "\n",
    "X = titanic_df[['Pclass', 'SibSp', 'Parch', 'Fare', 'gender']]\n",
    "\n",
    "knn_clf = KNeighborsClassifier(n_neighbors=7)\n",
    "\n",
    "cv_results = cross_val_score(knn_clf, X, y, cv=10)\n",
    "\n",
    "print('The accuracy when including gender = {:.2f}%'.format(100*np.mean(cv_results)))"
   ]
  },
  {
   "cell_type": "markdown",
   "metadata": {
    "slideshow": {
     "slide_type": "slide"
    }
   },
   "source": [
    "A 14% improvement is pretty good! But, we can wrangle even more out of the gender feature. Recall that `kNN` models measure the Euclidean distance between sources, meaning the scale of each feature really matters. Given that the fare ranges from 0 up to 512.3292, the `kNN` model will see this feature as far more important than `gender`, for no other reason than the units that have been adopted. \n",
    "\n",
    "If women are far more likely to survive than men, then we want to be sure that gender is weighted at least the same as all the other features, which we can do with a minmax scaler. As a brief reminder - a minmax scaler scales all values of a feature to be between 0 and 1 by subtracting the minimum value of each feature and then dividing by the maximum minus the minimum. "
   ]
  },
  {
   "cell_type": "markdown",
   "metadata": {
    "slideshow": {
     "slide_type": "subslide"
    }
   },
   "source": [
    "**Problem 3f**\n",
    "\n",
    "Scale all the features from the previous problem using a minmax scaler and evaluate the CV accuracy of the `kNN` model.\n",
    "\n",
    "*Hint - you may find [`MinMaxScaler`](https://scikit-learn.org/stable/modules/generated/sklearn.preprocessing.MinMaxScaler.html) helpful*"
   ]
  },
  {
   "cell_type": "code",
   "execution_count": 99,
   "metadata": {
    "slideshow": {
     "slide_type": "subslide"
    }
   },
   "outputs": [
    {
     "name": "stdout",
     "output_type": "stream",
     "text": [
      "The accuracy when scaling features = 80.43%\n"
     ]
    }
   ],
   "source": [
    "from sklearn.preprocessing import MinMaxScaler\n",
    "\n",
    "scaler = MinMaxScaler()\n",
    "scaler.fit(X)\n",
    "Xminmax = scaler.transform(X)\n",
    "\n",
    "knn_clf = KNeighborsClassifier(n_neighbors=7)\n",
    "\n",
    "cv_results = cross_val_score(knn_clf, Xminmax, y, cv=10)\n",
    "\n",
    "print('The accuracy when scaling features = {:.2f}%'.format(100*np.mean(cv_results)))"
   ]
  },
  {
   "cell_type": "markdown",
   "metadata": {
    "slideshow": {
     "slide_type": "slide"
    }
   },
   "source": [
    "Scaling the features leads to further improvement!\n",
    "\n",
    "Now turn your attention to another categorical feature, `Embarked`, which includes the point of origin for each passenger and has three categories, `S`, `Q`, and `C`. We need to convert these values to a numeric representation for inclusion in the model."
   ]
  },
  {
   "cell_type": "markdown",
   "metadata": {
    "slideshow": {
     "slide_type": "subslide"
    }
   },
   "source": [
    "**Problem 3g**\n",
    "\n",
    "Convert the categorical feature `Embarked` to a numeric representation, and add it to the `titanic_df`."
   ]
  },
  {
   "cell_type": "code",
   "execution_count": 100,
   "metadata": {
    "slideshow": {
     "slide_type": "subslide"
    }
   },
   "outputs": [],
   "source": [
    "# following previous example, set C = 0, S = 1, Q = 2\n",
    "\n",
    "porigin = np.empty(len(titanic_df['Sex'])).astype(int)\n",
    "porigin[np.where(titanic_df['Embarked'] == 'C')] = 0\n",
    "porigin[np.where(titanic_df['Embarked'] == 'S')] = 1\n",
    "porigin[np.where(titanic_df['Embarked'] == 'Q')] = 2\n",
    "\n",
    "titanic_df['porigin'] = porigin"
   ]
  },
  {
   "cell_type": "markdown",
   "metadata": {
    "slideshow": {
     "slide_type": "slide"
    }
   },
   "source": [
    "But wait! Does this actually make sense?\n",
    "\n",
    "Our \"numerification\" has now introduced order where there previously was none. We are effectively telling the model that Cherbourg and Queenstown are far apart (not in distance but in terms of the similarity of the passengers that boarded the ship in each location), while each are equally close to Southampton. Is there actually any evidence to support this conclusion? "
   ]
  },
  {
   "cell_type": "markdown",
   "metadata": {
    "slideshow": {
     "slide_type": "subslide"
    }
   },
   "source": [
    "By definition categorical features do not have order (e.g., cat, dog, horse, elephant), and therefore we should not impose any when converting these features to numeric values for inclusion in our model. Instead, we should be creating a new set of binary features for every category within the feature set. Thus, `Embarked` will now need to be represented by 3 different features, where the feature `Queenstown` equals one for passengers that boarded there and zero for everyone else. "
   ]
  },
  {
   "cell_type": "markdown",
   "metadata": {
    "slideshow": {
     "slide_type": "subslide"
    }
   },
   "source": [
    "**Problem 3h**\n",
    "\n",
    "Complete the function below that will automatically create binary arrays for a categorical feature."
   ]
  },
  {
   "cell_type": "code",
   "execution_count": 53,
   "metadata": {
    "slideshow": {
     "slide_type": "subslide"
    }
   },
   "outputs": [],
   "source": [
    "def create_bin_cat_feats(feature_array):\n",
    "    categories = np.unique(feature_array)\n",
    "    feat_dict = {}\n",
    "    for cat in categories:\n",
    "        exec('{} = np.zeros(len(feature_array)).astype(int)'.format(cat))\n",
    "        exec('{0}[np.where(feature_array == \"{0}\")] = 1'.format(cat))\n",
    "        exec('feat_dict[\"{0}\"] = {0}'.format(cat))\n",
    "    \n",
    "    return feat_dict"
   ]
  },
  {
   "cell_type": "markdown",
   "metadata": {
    "slideshow": {
     "slide_type": "slide"
    }
   },
   "source": [
    "**Problem 3i**\n",
    "\n",
    "Use the `create_bin_cat_feats` function to convert the `Embarked` and `Sex`, yes we need to do this for `Sex` as well where we otherwise previously introduced order, categorical features to a numeric representation. Add these features to the `titanic_df` data frame."
   ]
  },
  {
   "cell_type": "code",
   "execution_count": 125,
   "metadata": {
    "slideshow": {
     "slide_type": "subslide"
    }
   },
   "outputs": [],
   "source": [
    "gender_dict = create_bin_cat_feats(titanic_df['Sex'])\n",
    "porigin_dict = create_bin_cat_feats(titanic_df['Embarked'])\n",
    "\n",
    "for feat in gender_dict.keys():\n",
    "    titanic_df[feat] = gender_dict[feat]\n",
    "    \n",
    "for feat in porigin_dict.keys():\n",
    "    titanic_df[feat] = porigin_dict[feat]"
   ]
  },
  {
   "cell_type": "markdown",
   "metadata": {
    "slideshow": {
     "slide_type": "slide"
    }
   },
   "source": [
    "**Problem 3j**\n",
    "\n",
    "Use the newly created `female`, `male`, `S`, `Q`, and `C` features in combination with the `Pclass`, `SibSp`, `Parch`, and `Fare` features to estimate the classification accuracy of a $k = 7$ nearest neighbors model with 10-fold cross validation.\n",
    "\n",
    "How does the addition of the point of origin feature affect the final model output?\n",
    "\n",
    "*Hint - don't forget to scale the features in the model*"
   ]
  },
  {
   "cell_type": "code",
   "execution_count": 126,
   "metadata": {
    "slideshow": {
     "slide_type": "subslide"
    }
   },
   "outputs": [
    {
     "name": "stdout",
     "output_type": "stream",
     "text": [
      "The accuracy with categorical features = 80.09%\n"
     ]
    }
   ],
   "source": [
    "from sklearn.preprocessing import MinMaxScaler\n",
    "\n",
    "X = titanic_df[['Pclass', 'SibSp', 'Parch', 'Fare', 'female', 'male', 'S', 'Q', 'C']]\n",
    "\n",
    "scaler = MinMaxScaler()\n",
    "scaler.fit(X)\n",
    "Xminmax = scaler.transform(X)\n",
    "\n",
    "knn_clf = KNeighborsClassifier(n_neighbors=7)\n",
    "\n",
    "cv_results = cross_val_score(knn_clf, Xminmax, y, cv=10)\n",
    "\n",
    "print('The accuracy with categorical features = {:.2f}%'.format(100*np.mean(cv_results)))"
   ]
  },
  {
   "cell_type": "markdown",
   "metadata": {
    "slideshow": {
     "slide_type": "slide"
    }
   },
   "source": [
    "The last thing we'd like to add to the model is the `Age` feature. Unfortunately, for 177 passengers we do not have a reported value for their age. This is a standard issue when building models known as \"missing data\" and this happens in astronomy all the time (for example, LSST is going to observe millions of L and T dwarfs that are easily detected in the $y$-band, but which do not have a detection in $u$-band)."
   ]
  },
  {
   "cell_type": "markdown",
   "metadata": {
    "slideshow": {
     "slide_type": "subslide"
    }
   },
   "source": [
    "There are several different strategies for dealing with missing data. The first and most straightforward is to simply remove observations with missing data (note - to simplify this example I already did this by removing the 2 passengers from the training set that did not have an entry for `Embarked`). \n",
    "\n",
    "This strategy is perfectly fine if only a few sources have missing information (2/891 for `Embarked` - and none of the test set sources are missing `Embarked`). If, however, a significant fraction are missing data, this strategy would remove a lot of useful data from the model."
   ]
  },
  {
   "cell_type": "markdown",
   "metadata": {
    "slideshow": {
     "slide_type": "subslide"
    }
   },
   "source": [
    "If you cannot remove the sources with missing data, then it is essential to ask the following question: \n",
    "\n",
    "Does the missing information have meaning? \n",
    "\n",
    "In the LSST L/T dwarf example, the lack of a $u$-band detection is meaningful: these stars are too faint for LSST. When this is the case, an indicator value (e.g., -999) allows the model to recognize the non-detection. "
   ]
  },
  {
   "cell_type": "markdown",
   "metadata": {
    "slideshow": {
     "slide_type": "subslide"
    }
   },
   "source": [
    "For the Titanic data, the lack of age information is not meaningful. Simply put, there are some passengers that did not have recorded ages. We will now show this to be the case. "
   ]
  },
  {
   "cell_type": "markdown",
   "metadata": {
    "slideshow": {
     "slide_type": "subslide"
    }
   },
   "source": [
    "**Problem 3k**\n",
    "\n",
    "Replace the unknown ages with a value of -999, and estimate the accuracy of the model via 10-fold cross validation."
   ]
  },
  {
   "cell_type": "code",
   "execution_count": 127,
   "metadata": {
    "slideshow": {
     "slide_type": "subslide"
    }
   },
   "outputs": [
    {
     "name": "stdout",
     "output_type": "stream",
     "text": [
      "The accuracy with -999 for missing ages = 80.42%\n"
     ]
    }
   ],
   "source": [
    "age_impute = titanic_df['Age'].copy()\n",
    "age_impute[np.isnan(age_impute)] = -999\n",
    "\n",
    "titanic_df['age_impute'] = age_impute\n",
    "\n",
    "X = titanic_df[['Pclass', 'SibSp', 'Parch', 'Fare', 'female', 'male', 'S', 'Q', 'C', 'age_impute']]\n",
    "\n",
    "scaler = MinMaxScaler()\n",
    "scaler.fit(X)\n",
    "Xminmax = scaler.transform(X)\n",
    "\n",
    "knn_clf = KNeighborsClassifier(n_neighbors=7)\n",
    "\n",
    "cv_results = cross_val_score(knn_clf, Xminmax, y, cv=10)\n",
    "\n",
    "print('The accuracy with -999 for missing ages = {:.2f}%'.format(100*np.mean(cv_results)))"
   ]
  },
  {
   "cell_type": "markdown",
   "metadata": {
    "slideshow": {
     "slide_type": "slide"
    }
   },
   "source": [
    "The accuracy of the model hasn't improved by adding the age information (even though we know children were more likely to survive than adults). \n",
    "\n",
    "Given that the missing ages don't have meaning, we need to develop alternative strategies for \"imputing\" the missing data. The most simple approach in this regard is to replace the missing values with the mean value of the feature distribution for sources that do have measurements (use the median if the distribution has significant outliers).  "
   ]
  },
  {
   "cell_type": "markdown",
   "metadata": {
    "slideshow": {
     "slide_type": "subslide"
    }
   },
   "source": [
    "**Problem 3l**\n",
    "\n",
    "Replace the unknown ages with the mean age of passengers, and estiamte the accuracy of the model via 10-fold cross validation."
   ]
  },
  {
   "cell_type": "code",
   "execution_count": 216,
   "metadata": {
    "slideshow": {
     "slide_type": "subslide"
    }
   },
   "outputs": [
    {
     "name": "stdout",
     "output_type": "stream",
     "text": [
      "The accuracy with the mean for missing ages = 80.76%\n"
     ]
    }
   ],
   "source": [
    "age_impute = titanic_df['Age'].copy().values\n",
    "age_impute[np.isnan(age_impute)] = np.mean(age_impute[np.isfinite(age_impute)])\n",
    "\n",
    "titanic_df['age_impute'] = age_impute\n",
    "\n",
    "X = titanic_df[['Pclass', 'SibSp', 'Parch', 'Fare', 'female', 'male', 'S', 'Q', 'C', 'age_impute']]\n",
    "\n",
    "scaler = MinMaxScaler()\n",
    "scaler.fit(X)\n",
    "Xminmax = scaler.transform(X)\n",
    "\n",
    "knn_clf = KNeighborsClassifier(n_neighbors=7)\n",
    "\n",
    "cv_results = cross_val_score(knn_clf, Xminmax, y, cv=10)\n",
    "\n",
    "print('The accuracy with the mean for missing ages = {:.2f}%'.format(100*np.mean(cv_results)))"
   ]
  },
  {
   "cell_type": "markdown",
   "metadata": {
    "slideshow": {
     "slide_type": "slide"
    }
   },
   "source": [
    "Using the mean age for missing values provides a marginal improvement over the models with no age information. Is there anything else we can do? Yes - we can build a machine learning model to predict the values of the missing data. So there will be a machine learning model within the final machine learning model. In order to predict ages, we will need to build a regression model. Simple algorithms include Linear or Logistic Regression, while more complex examples include `kNN` or random forest regression.\n",
    "\n",
    "I quickly tested the above four methods, and found that the `scikit-learn` [`LinearRegression`](https://scikit-learn.org/stable/modules/generated/sklearn.linear_model.LinearRegression.html#sklearn.linear_model.LinearRegression) performs best when using the model defaults."
   ]
  },
  {
   "cell_type": "markdown",
   "metadata": {
    "slideshow": {
     "slide_type": "subslide"
    }
   },
   "source": [
    "**Probem 3m**\n",
    "\n",
    "Build a `LinearRegression` model to predict a passenger's age based on the `Pclass`, `SibSp`, `Parch`, `Fare`, `female`, `male`, `S`, `Q`, `C` features. The model should be trained with passengers that have known ages. Use 10-fold cross validation to determine the performance of this model.\n",
    "\n",
    "*Hint - note that for regression models the typical metric of evaluation is the [mean squared error](https://en.wikipedia.org/wiki/Mean_squared_error), and that for consistency within the `scikit-learn` API, the [negative mean squared error is returned rather than the mean squared error](https://scikit-learn.org/stable/modules/model_evaluation.html#common-cases-predefined-values).*"
   ]
  },
  {
   "cell_type": "code",
   "execution_count": 217,
   "metadata": {
    "slideshow": {
     "slide_type": "subslide"
    }
   },
   "outputs": [
    {
     "name": "stdout",
     "output_type": "stream",
     "text": [
      "Missing ages have RMSE = 12.77\n"
     ]
    }
   ],
   "source": [
    "from sklearn.linear_model import LinearRegression\n",
    "\n",
    "has_ages = np.where(np.isfinite(titanic_df['Age']))[0]\n",
    "\n",
    "impute_X_train = titanic_df[['Pclass', 'SibSp', 'Parch', 'Fare', 'female', 'male', 'S', 'Q', 'C']].iloc[has_ages]\n",
    "impute_y_train = titanic_df['Age'].iloc[has_ages]\n",
    "\n",
    "scaler = MinMaxScaler()\n",
    "scaler.fit(impute_X_train)\n",
    "Xminmax = scaler.transform(impute_X_train)\n",
    "\n",
    "lr_age = LinearRegression().fit(Xminmax, impute_y_train)\n",
    "\n",
    "cv_results = cross_val_score(LinearRegression(), Xminmax, impute_y_train, cv=10, scoring='neg_mean_squared_error')\n",
    "\n",
    "print('Missing ages have RMSE = {:.2f}'.format(np.mean((-1*cv_results)**0.5)))"
   ]
  },
  {
   "cell_type": "markdown",
   "metadata": {
    "slideshow": {
     "slide_type": "slide"
    }
   },
   "source": [
    "**Problem 3n**\n",
    "\n",
    "Use the age regression model to predict the ages for passengers with missing data."
   ]
  },
  {
   "cell_type": "code",
   "execution_count": 218,
   "metadata": {
    "slideshow": {
     "slide_type": "subslide"
    }
   },
   "outputs": [],
   "source": [
    "missing_ages = np.where(np.isnan(titanic_df['Age']))[0]\n",
    "\n",
    "impute_X_missing = titanic_df[['Pclass', 'SibSp', 'Parch', 'Fare', 'female', 'male', 'S', 'Q', 'C']].iloc[missing_ages]\n",
    "\n",
    "X_missing_minmax = scaler.transform(impute_X_missing)\n",
    "\n",
    "age_preds = lr_age.predict(X_missing_minmax)"
   ]
  },
  {
   "cell_type": "markdown",
   "metadata": {
    "slideshow": {
     "slide_type": "slide"
    }
   },
   "source": [
    "**Problem 3o**\n",
    "\n",
    "Use the imputed age estimates to predict the passenger survival via 10-fold cross validation."
   ]
  },
  {
   "cell_type": "code",
   "execution_count": 229,
   "metadata": {
    "slideshow": {
     "slide_type": "subslide"
    }
   },
   "outputs": [
    {
     "name": "stdout",
     "output_type": "stream",
     "text": [
      "The accuracy with the mean for missing ages = 80.20%\n"
     ]
    }
   ],
   "source": [
    "age_impute = titanic_df['Age'].copy().values\n",
    "age_impute[missing_ages] = age_preds\n",
    "\n",
    "titanic_df['age_impute'] = age_impute\n",
    "\n",
    "X = titanic_df[['Pclass', 'SibSp', 'Parch', 'Fare', 'female', 'male', 'S', 'Q', 'C', 'age_impute']]\n",
    "\n",
    "scaler = MinMaxScaler()\n",
    "scaler.fit(X)\n",
    "Xminmax = scaler.transform(X)\n",
    "\n",
    "knn_clf = KNeighborsClassifier(n_neighbors=7)\n",
    "\n",
    "cv_results = cross_val_score(knn_clf, Xminmax, y, cv=10)\n",
    "\n",
    "print('The accuracy with the mean for missing ages = {:.2f}%'.format(100*np.mean(cv_results)))"
   ]
  },
  {
   "cell_type": "markdown",
   "metadata": {
    "slideshow": {
     "slide_type": "slide"
    }
   },
   "source": [
    "As far as ages are concerned, imputation of the missing data does not significantly improve the model.\n",
    "\n",
    "Which brings us to the concluding lesson in wrangling the Titanic data - not every piece of information is *useful*. This is critical to remember when building machine learning models. "
   ]
  },
  {
   "cell_type": "markdown",
   "metadata": {
    "slideshow": {
     "slide_type": "subslide"
    }
   },
   "source": [
    "(As a quick aside - it wouldn't be entirely fair to say there is no useful information in the age feature. It is clear, for example, that \"children,\" i.e. those with Age < 10, had a much higher probability of survival than adults. Perhaps the creation of a `child` feature based on age would improve the model... or using the age in combination with other features, e.g., `Age`x`Pclass` which will further highlight that 1st class passengers were more likely to survive than 3rd class passengers)"
   ]
  },
  {
   "cell_type": "markdown",
   "metadata": {
    "slideshow": {
     "slide_type": "subslide"
    }
   },
   "source": [
    "Finally - note that you can try to build a model and submit it to Kaggle to see how well you preform on blind data. \n",
    "\n",
    "https://www.kaggle.com/c/titanic - the classifications are not revealed, but from the [leaderboard](https://www.kaggle.com/c/titanic/leaderboard) it is clear that some people were able to build models that perfectly classified the blind data."
   ]
  },
  {
   "cell_type": "markdown",
   "metadata": {
    "slideshow": {
     "slide_type": "slide"
    }
   },
   "source": [
    "## Problem 4) Wrangling an astro machine learning model"
   ]
  },
  {
   "cell_type": "markdown",
   "metadata": {
    "slideshow": {
     "slide_type": "slide"
    }
   },
   "source": [
    "Now we will put together the above examples to work on an astronomical problem of great importance for LSST: photometric redshifts. As we have previously discussed, LSST will observe many, many, many, many more galaxies than we can possibly observe with spectroscopic instruments. As a result, the vast majority of the galaxies observed by LSST will not have precise redshift estimates, and instead we will need to estimate redshifts via photometry alone. "
   ]
  },
  {
   "cell_type": "markdown",
   "metadata": {
    "slideshow": {
     "slide_type": "subslide"
    }
   },
   "source": [
    "This week we have heard a lot about `SDSS CasJobs`, and for today's problem we will use 50,000 SDSS sources with spectroscopic measurements to train a machine learning model to estimate redshifts from photometry. The following query was used to generate this training set: \n",
    "\n",
    "    select top 50000 s.specObjID, s.z, s.type,\n",
    "       psfMag_u, psfMag_g, psfMag_r, psfMag_i, psfMag_z, \n",
    "       modelMag_u, modelMag_g, modelMag_r, modelMag_i, modelMag_z,\n",
    "       extinction_u, extinction_g, extinction_r, extinction_i, extinction_z,\n",
    "       w.w1mpro, w1snr, w.w2mpro, w2snr, w.w3mpro, w3snr, w.w4mpro, w4snr\n",
    "       from specphotoall s \n",
    "         join (WISE_xmatch wx  \n",
    "           join WISE_allsky w on wx.wise_cntr = w.cntr) on s.objid = wx.sdss_objid"
   ]
  },
  {
   "cell_type": "markdown",
   "metadata": {
    "slideshow": {
     "slide_type": "subslide"
    }
   },
   "source": [
    "A few notes about the data: `specObjID` is the SDSS identifier, `z` is the redshift, `type` is the photometric type (\"ps\" for point source or \"ext\" for extended), `psfMag` is the SDSS PSF mag in each filter, `modelMag` is the aperture-matched model mag in each filter, `extinction` is the SFD extinction estimate, `w?mpro` is the [WISE](https://www.nasa.gov/mission_pages/WISE/main/index.html) satellite mid-IR magnitude in the W1, W2, W3, and W4 bands, and `w?msnr` is the SNR in each of the respective filters. "
   ]
  },
  {
   "cell_type": "markdown",
   "metadata": {
    "slideshow": {
     "slide_type": "skip"
    }
   },
   "source": [
    "*quick aside* - the SDSS photometric type is reported as either 6 or 3, and, for convenience, I have converted these to 'ps' and 'ext' in the file used for the problem below."
   ]
  },
  {
   "cell_type": "markdown",
   "metadata": {
    "slideshow": {
     "slide_type": "subslide"
    }
   },
   "source": [
    "**Important note** - not every SDSS source will have detections in each of the WISE filters. If `w?msnr` < 2, then the `w?mpro` number represents an upper limit, *not* a detection (i.e., these are cases with missing data)."
   ]
  },
  {
   "cell_type": "markdown",
   "metadata": {
    "slideshow": {
     "slide_type": "slide"
    }
   },
   "source": [
    "**Problem 4a**\n",
    "\n",
    "Download and read in the [training set](https://northwestern.box.com/s/sjegm0tx62l2i8dkzqw22s4gmq1a9sg1) for the model. "
   ]
  },
  {
   "cell_type": "code",
   "execution_count": 79,
   "metadata": {
    "slideshow": {
     "slide_type": "subslide"
    }
   },
   "outputs": [
    {
     "data": {
      "text/html": [
       "<div>\n",
       "<style scoped>\n",
       "    .dataframe tbody tr th:only-of-type {\n",
       "        vertical-align: middle;\n",
       "    }\n",
       "\n",
       "    .dataframe tbody tr th {\n",
       "        vertical-align: top;\n",
       "    }\n",
       "\n",
       "    .dataframe thead th {\n",
       "        text-align: right;\n",
       "    }\n",
       "</style>\n",
       "<table border=\"1\" class=\"dataframe\">\n",
       "  <thead>\n",
       "    <tr style=\"text-align: right;\">\n",
       "      <th></th>\n",
       "      <th>specObjID</th>\n",
       "      <th>z</th>\n",
       "      <th>type</th>\n",
       "      <th>psfMag_u</th>\n",
       "      <th>psfMag_g</th>\n",
       "      <th>psfMag_r</th>\n",
       "      <th>psfMag_i</th>\n",
       "      <th>psfMag_z</th>\n",
       "      <th>modelMag_u</th>\n",
       "      <th>modelMag_g</th>\n",
       "      <th>...</th>\n",
       "      <th>extinction_i</th>\n",
       "      <th>extinction_z</th>\n",
       "      <th>w1mpro</th>\n",
       "      <th>w1snr</th>\n",
       "      <th>w2mpro</th>\n",
       "      <th>w2snr</th>\n",
       "      <th>w3mpro</th>\n",
       "      <th>w3snr</th>\n",
       "      <th>w4mpro</th>\n",
       "      <th>w4snr</th>\n",
       "    </tr>\n",
       "  </thead>\n",
       "  <tbody>\n",
       "    <tr>\n",
       "      <th>0</th>\n",
       "      <td>299567742770505728</td>\n",
       "      <td>0.071414</td>\n",
       "      <td>ext</td>\n",
       "      <td>20.88291</td>\n",
       "      <td>19.23907</td>\n",
       "      <td>18.56170</td>\n",
       "      <td>18.09715</td>\n",
       "      <td>17.76469</td>\n",
       "      <td>19.62189</td>\n",
       "      <td>18.03702</td>\n",
       "      <td>...</td>\n",
       "      <td>0.061267</td>\n",
       "      <td>0.045572</td>\n",
       "      <td>14.395</td>\n",
       "      <td>21.1</td>\n",
       "      <td>14.236</td>\n",
       "      <td>15.6</td>\n",
       "      <td>11.029</td>\n",
       "      <td>6.8</td>\n",
       "      <td>8.579</td>\n",
       "      <td>-0.9</td>\n",
       "    </tr>\n",
       "    <tr>\n",
       "      <th>1</th>\n",
       "      <td>299568017178650624</td>\n",
       "      <td>0.071380</td>\n",
       "      <td>ext</td>\n",
       "      <td>20.88291</td>\n",
       "      <td>19.23907</td>\n",
       "      <td>18.56170</td>\n",
       "      <td>18.09715</td>\n",
       "      <td>17.76469</td>\n",
       "      <td>19.62189</td>\n",
       "      <td>18.03702</td>\n",
       "      <td>...</td>\n",
       "      <td>0.061267</td>\n",
       "      <td>0.045572</td>\n",
       "      <td>14.395</td>\n",
       "      <td>21.1</td>\n",
       "      <td>14.236</td>\n",
       "      <td>15.6</td>\n",
       "      <td>11.029</td>\n",
       "      <td>6.8</td>\n",
       "      <td>8.579</td>\n",
       "      <td>-0.9</td>\n",
       "    </tr>\n",
       "    <tr>\n",
       "      <th>2</th>\n",
       "      <td>299566643258877952</td>\n",
       "      <td>0.088173</td>\n",
       "      <td>ext</td>\n",
       "      <td>20.84844</td>\n",
       "      <td>18.96040</td>\n",
       "      <td>18.08027</td>\n",
       "      <td>17.62953</td>\n",
       "      <td>17.31857</td>\n",
       "      <td>20.18508</td>\n",
       "      <td>18.26120</td>\n",
       "      <td>...</td>\n",
       "      <td>0.047582</td>\n",
       "      <td>0.035392</td>\n",
       "      <td>14.162</td>\n",
       "      <td>35.0</td>\n",
       "      <td>13.970</td>\n",
       "      <td>22.3</td>\n",
       "      <td>12.233</td>\n",
       "      <td>2.9</td>\n",
       "      <td>9.067</td>\n",
       "      <td>-0.3</td>\n",
       "    </tr>\n",
       "    <tr>\n",
       "      <th>3</th>\n",
       "      <td>299569116690278400</td>\n",
       "      <td>0.088161</td>\n",
       "      <td>ext</td>\n",
       "      <td>20.84844</td>\n",
       "      <td>18.96040</td>\n",
       "      <td>18.08027</td>\n",
       "      <td>17.62953</td>\n",
       "      <td>17.31857</td>\n",
       "      <td>20.18508</td>\n",
       "      <td>18.26120</td>\n",
       "      <td>...</td>\n",
       "      <td>0.047582</td>\n",
       "      <td>0.035392</td>\n",
       "      <td>14.162</td>\n",
       "      <td>35.0</td>\n",
       "      <td>13.970</td>\n",
       "      <td>22.3</td>\n",
       "      <td>12.233</td>\n",
       "      <td>2.9</td>\n",
       "      <td>9.067</td>\n",
       "      <td>-0.3</td>\n",
       "    </tr>\n",
       "    <tr>\n",
       "      <th>4</th>\n",
       "      <td>299568292056557568</td>\n",
       "      <td>0.066539</td>\n",
       "      <td>ext</td>\n",
       "      <td>21.28256</td>\n",
       "      <td>19.61427</td>\n",
       "      <td>18.98529</td>\n",
       "      <td>18.52956</td>\n",
       "      <td>18.26322</td>\n",
       "      <td>20.18081</td>\n",
       "      <td>18.47435</td>\n",
       "      <td>...</td>\n",
       "      <td>0.058709</td>\n",
       "      <td>0.043669</td>\n",
       "      <td>14.734</td>\n",
       "      <td>30.6</td>\n",
       "      <td>14.512</td>\n",
       "      <td>17.6</td>\n",
       "      <td>11.078</td>\n",
       "      <td>9.8</td>\n",
       "      <td>9.054</td>\n",
       "      <td>2.3</td>\n",
       "    </tr>\n",
       "  </tbody>\n",
       "</table>\n",
       "<p>5 rows × 26 columns</p>\n",
       "</div>"
      ],
      "text/plain": [
       "            specObjID         z type  psfMag_u  psfMag_g  psfMag_r  psfMag_i  \\\n",
       "0  299567742770505728  0.071414  ext  20.88291  19.23907  18.56170  18.09715   \n",
       "1  299568017178650624  0.071380  ext  20.88291  19.23907  18.56170  18.09715   \n",
       "2  299566643258877952  0.088173  ext  20.84844  18.96040  18.08027  17.62953   \n",
       "3  299569116690278400  0.088161  ext  20.84844  18.96040  18.08027  17.62953   \n",
       "4  299568292056557568  0.066539  ext  21.28256  19.61427  18.98529  18.52956   \n",
       "\n",
       "   psfMag_z  modelMag_u  modelMag_g  ...    extinction_i  extinction_z  \\\n",
       "0  17.76469    19.62189    18.03702  ...        0.061267      0.045572   \n",
       "1  17.76469    19.62189    18.03702  ...        0.061267      0.045572   \n",
       "2  17.31857    20.18508    18.26120  ...        0.047582      0.035392   \n",
       "3  17.31857    20.18508    18.26120  ...        0.047582      0.035392   \n",
       "4  18.26322    20.18081    18.47435  ...        0.058709      0.043669   \n",
       "\n",
       "   w1mpro  w1snr  w2mpro  w2snr  w3mpro  w3snr  w4mpro  w4snr  \n",
       "0  14.395   21.1  14.236   15.6  11.029    6.8   8.579   -0.9  \n",
       "1  14.395   21.1  14.236   15.6  11.029    6.8   8.579   -0.9  \n",
       "2  14.162   35.0  13.970   22.3  12.233    2.9   9.067   -0.3  \n",
       "3  14.162   35.0  13.970   22.3  12.233    2.9   9.067   -0.3  \n",
       "4  14.734   30.6  14.512   17.6  11.078    9.8   9.054    2.3  \n",
       "\n",
       "[5 rows x 26 columns]"
      ]
     },
     "execution_count": 79,
     "metadata": {},
     "output_type": "execute_result"
    }
   ],
   "source": [
    "sdss = pd.read_csv(\"DSFP_SDSS_spec_train.csv\")\n",
    "sdss[:5]"
   ]
  },
  {
   "cell_type": "markdown",
   "metadata": {
    "slideshow": {
     "slide_type": "slide"
    }
   },
   "source": [
    "**Problem 4b**\n",
    "\n",
    "Are there categorical features in the dataset? If yes, convert the categorical features for use in machine learning models.\n",
    "\n",
    "*Hint* - recall **Problem 3h** and **3i**."
   ]
  },
  {
   "cell_type": "code",
   "execution_count": 82,
   "metadata": {
    "slideshow": {
     "slide_type": "subslide"
    }
   },
   "outputs": [],
   "source": [
    "type_dict = create_bin_cat_feats(sdss['type'])\n",
    "\n",
    "\n",
    "for feat in type_dict.keys():\n",
    "    sdss[feat] = type_dict[feat]"
   ]
  },
  {
   "cell_type": "markdown",
   "metadata": {
    "slideshow": {
     "slide_type": "slide"
    }
   },
   "source": [
    "**Problem 4c**\n",
    "\n",
    "Is there missing data in the training set? If yes, how will you deal these data? \n",
    "\n",
    "*Hint* - you were already told there is missing data."
   ]
  },
  {
   "cell_type": "code",
   "execution_count": 83,
   "metadata": {
    "slideshow": {
     "slide_type": "subslide"
    }
   },
   "outputs": [
    {
     "name": "stdout",
     "output_type": "stream",
     "text": [
      "0.01% of the obs in w1 are non-detections\n",
      "1.11% of the obs in w2 are non-detections\n",
      "34.22% of the obs in w3 are non-detections\n",
      "64.98% of the obs in w4 are non-detections\n"
     ]
    }
   ],
   "source": [
    "# WISE non-detections have SNR < 2\n",
    "\n",
    "for wsnr in ['w1snr', 'w2snr', 'w3snr', 'w4snr']:\n",
    "    frac_missing = sum(sdss[wsnr] < 2)/len(sdss[wsnr])\n",
    "    print('{:.2f}% of the obs in {} are non-detections'.format(100*frac_missing, wsnr[0:2]))"
   ]
  },
  {
   "cell_type": "markdown",
   "metadata": {
    "slideshow": {
     "slide_type": "subslide"
    }
   },
   "source": [
    "Given that there are obs missing in each filter, with a substantial number missing in W3 and W4, we will create a new categorical variable for detection in each filter. We will also replace \"upper limits\" with -9.99. \n",
    "\n",
    "(Alternative strategies that could prove worthwhile include: removing W3 and W4 as they are largely missing, imputing the missing values for non-detections, or removing individual sources with non-detections. This last choice would really cut the training set). "
   ]
  },
  {
   "cell_type": "code",
   "execution_count": 86,
   "metadata": {
    "slideshow": {
     "slide_type": "subslide"
    }
   },
   "outputs": [],
   "source": [
    "for filt in ['w1', 'w2', 'w3', 'w4']:\n",
    "    det = np.ones(len(sdss)).astype(int)\n",
    "    det[np.where(sdss['{}snr'.format(filt)] < 2)] = 0\n",
    "    sdss['{}det'.format(filt)] = det\n",
    "    mag = sdss['{}mpro'.format(filt)].values\n",
    "    mag[det == 0] = -9.99\n",
    "    sdss['{}mag'.format(filt)] = mag"
   ]
  },
  {
   "cell_type": "markdown",
   "metadata": {
    "slideshow": {
     "slide_type": "slide"
    }
   },
   "source": [
    "Now that we have dealt with missing and categorical data we can construct out machine learning model. We will use a $k$ nearest neighbors regression model to determine how well we can measure photometric redshifts.\n",
    "\n",
    "The `sdss` dataframe now includes far more columns than are necessary for the model. Should any of these be excluded from the fitting? "
   ]
  },
  {
   "cell_type": "markdown",
   "metadata": {
    "slideshow": {
     "slide_type": "subslide"
    }
   },
   "source": [
    "**Problem 4d**\n",
    "\n",
    "Build a `scikit-learn` appropriate `X` and `y` array for the features and labels (i.e. redshifts) of the photo-z training set."
   ]
  },
  {
   "cell_type": "code",
   "execution_count": 90,
   "metadata": {
    "slideshow": {
     "slide_type": "subslide"
    }
   },
   "outputs": [],
   "source": [
    "X = np.array(sdss[['psfMag_u', 'psfMag_g', 'psfMag_r',\n",
    "       'psfMag_i', 'psfMag_z', 'modelMag_u', 'modelMag_g', 'modelMag_r',\n",
    "       'modelMag_i', 'modelMag_z', 'extinction_u', 'extinction_g',\n",
    "       'extinction_r', 'extinction_i', 'extinction_z','ext', 'ps',\n",
    "       'w1det', 'w1mag', 'w2det', 'w2mag', 'w3det', 'w3mag', 'w4det', 'w4mag']])\n",
    "\n",
    "y = np.array(sdss['z'])"
   ]
  },
  {
   "cell_type": "markdown",
   "metadata": {
    "slideshow": {
     "slide_type": "slide"
    }
   },
   "source": [
    "**Problem 4e**\n",
    "\n",
    "Estimate the RMSE for a [`KNeighborsRegression`](https://scikit-learn.org/stable/modules/generated/sklearn.neighbors.KNeighborsRegressor.html) via 10 fold CV.\n",
    "\n",
    "*Hint* - use [`cross_val_predict`](https://scikit-learn.org/stable/modules/generated/sklearn.model_selection.cross_val_predict.html) in this case so you can plot $z_\\mathrm{SDSS}$ vs. $z_\\mathrm{kNN}$.\n",
    "\n",
    "*Hint 2* - make the plot in a separate cell so you can adjust it without needing to re-run the CV."
   ]
  },
  {
   "cell_type": "code",
   "execution_count": 95,
   "metadata": {
    "slideshow": {
     "slide_type": "slide"
    }
   },
   "outputs": [
    {
     "name": "stdout",
     "output_type": "stream",
     "text": [
      "The RMSE = 0.21209874958474734\n"
     ]
    }
   ],
   "source": [
    "# cross validation goes here\n",
    "from sklearn.neighbors import KNeighborsRegressor\n",
    "from sklearn.model_selection import cross_val_predict\n",
    "from sklearn.metrics import mean_squared_error\n",
    "\n",
    "knn_reg = KNeighborsRegressor(n_neighbors=7)\n",
    "y_preds = cross_val_predict(knn_reg, X, y, cv=10)\n",
    "print('The RMSE = {}'.format(np.sqrt(mean_squared_error(y,y_preds))))"
   ]
  },
  {
   "cell_type": "code",
   "execution_count": 106,
   "metadata": {
    "slideshow": {
     "slide_type": "subslide"
    }
   },
   "outputs": [
    {
     "data": {
      "text/plain": [
       "Text(0,0.5,'z_kNN')"
      ]
     },
     "execution_count": 106,
     "metadata": {},
     "output_type": "execute_result"
    },
    {
     "data": {
      "image/png": "[encoded data removed]",
      "text/plain": [
       "<Figure size 432x288 with 1 Axes>"
      ]
     },
     "metadata": {},
     "output_type": "display_data"
    }
   ],
   "source": [
    "# plotting goes here\n",
    "\n",
    "fig, ax = plt.subplots()\n",
    "ax.scatter(y, y_preds, alpha=0.02)\n",
    "ax.plot([0,6],[0,6], 'Crimson')\n",
    "ax.set_xlabel('z_SDSS')\n",
    "ax.set_ylabel('z_kNN')"
   ]
  },
  {
   "cell_type": "markdown",
   "metadata": {
    "slideshow": {
     "slide_type": "slide"
    }
   },
   "source": [
    "If you made a plot of redshift vs. predictions, you likely saw that there are many sources that are far from the 1 to 1 line. These are called catastrophic outliers, and they are a serious problem for science programs that rely on photometric redshifts. "
   ]
  },
  {
   "cell_type": "markdown",
   "metadata": {
    "slideshow": {
     "slide_type": "subslide"
    }
   },
   "source": [
    "**Problem 4f**\n",
    "\n",
    "Write a function that takes input arrays `ground_truth` and `predictions` and determines the fraction of the dataset that is catastrophic outliers. For today's purposes we will say a catastrophic outlier is one where the prediction differs by 20%. "
   ]
  },
  {
   "cell_type": "code",
   "execution_count": 97,
   "metadata": {
    "slideshow": {
     "slide_type": "subslide"
    }
   },
   "outputs": [],
   "source": [
    "def catastrophic_fraction(ground_truth, predictions, threshold=0.2):\n",
    "    '''Function to calculate fraction of predictions that are catastrophic outliers\n",
    "    \n",
    "    Parameter\n",
    "    ---------\n",
    "    ground_truth : array-like\n",
    "        Correct labels for the model sources\n",
    "    \n",
    "    predictions : array-like\n",
    "        Predictions for the model sources\n",
    "    \n",
    "    threshold : float (optional, default=0.2)\n",
    "        The threshold to determine if a \"miss\" is catastrophic or not\n",
    "    \n",
    "    Returns\n",
    "    -------\n",
    "    oh_nos : float\n",
    "        Fractional number of catastrophic outliers\n",
    "    '''\n",
    "    n_outliers = len(np.where(np.abs(ground_truth - predictions)/ground_truth > threshold)[0])\n",
    "    oh_nos = n_outliers/len(ground_truth)\n",
    "    \n",
    "    return oh_nos"
   ]
  },
  {
   "cell_type": "markdown",
   "metadata": {
    "slideshow": {
     "slide_type": "slide"
    }
   },
   "source": [
    "**Problem 4g**\n",
    "\n",
    "How many catastrophic outliers did your previous predictions have? "
   ]
  },
  {
   "cell_type": "code",
   "execution_count": 98,
   "metadata": {
    "slideshow": {
     "slide_type": "subslide"
    }
   },
   "outputs": [
    {
     "name": "stderr",
     "output_type": "stream",
     "text": [
      "/Users/adamamiller/miniconda3/envs/DSFP/lib/python3.6/site-packages/ipykernel_launcher.py:20: RuntimeWarning: divide by zero encountered in true_divide\n"
     ]
    },
    {
     "data": {
      "text/plain": [
       "0.39788"
      ]
     },
     "execution_count": 98,
     "metadata": {},
     "output_type": "execute_result"
    }
   ],
   "source": [
    "catastrophic_fraction(y, y_preds)"
   ]
  },
  {
   "cell_type": "markdown",
   "metadata": {
    "slideshow": {
     "slide_type": "slide"
    }
   },
   "source": [
    "Earlier we saw that the performance of a kNN model greatly improves with feature scaling.\n",
    "\n",
    "**Problem 4h**\n",
    "\n",
    "Use a MinMax scaler to scale the features, performs 10 fold cross-validation, and estimate the catastrophic outlier fraction."
   ]
  },
  {
   "cell_type": "code",
   "execution_count": 100,
   "metadata": {
    "slideshow": {
     "slide_type": "subslide"
    }
   },
   "outputs": [
    {
     "name": "stdout",
     "output_type": "stream",
     "text": [
      "The RMSE = 0.2785871143378626\n",
      "0.6464 are catastrophic\n"
     ]
    },
    {
     "name": "stderr",
     "output_type": "stream",
     "text": [
      "/Users/adamamiller/miniconda3/envs/DSFP/lib/python3.6/site-packages/ipykernel_launcher.py:20: RuntimeWarning: divide by zero encountered in true_divide\n"
     ]
    }
   ],
   "source": [
    "scaler = MinMaxScaler()\n",
    "scaler.fit(X)\n",
    "Xminmax = scaler.transform(X)\n",
    "\n",
    "knn_reg = KNeighborsRegressor(n_neighbors=7)\n",
    "y_preds = cross_val_predict(knn_reg, Xminmax, y, cv=10)\n",
    "print('The RMSE = {}'.format(np.sqrt(mean_squared_error(y,y_preds))))\n",
    "print('{} are catastrophic'.format(catastrophic_fraction(y, y_preds)))"
   ]
  },
  {
   "cell_type": "code",
   "execution_count": 102,
   "metadata": {
    "slideshow": {
     "slide_type": "subslide"
    }
   },
   "outputs": [
    {
     "data": {
      "text/plain": [
       "Text(0,0.5,'z_kNN')"
      ]
     },
     "execution_count": 102,
     "metadata": {},
     "output_type": "execute_result"
    },
    {
     "data": {
      "image/png": "[encoded data removed]",
      "text/plain": [
       "<Figure size 432x288 with 1 Axes>"
      ]
     },
     "metadata": {},
     "output_type": "display_data"
    }
   ],
   "source": [
    "# plotting goes here\n",
    "\n",
    "fig, ax = plt.subplots()\n",
    "ax.scatter(y, y_preds, alpha=0.02)\n",
    "ax.plot([0,6],[0,6], 'Crimson')\n",
    "ax.set_xlabel('z_SDSS')\n",
    "ax.set_ylabel('z_kNN')"
   ]
  },
  {
   "cell_type": "markdown",
   "metadata": {
    "slideshow": {
     "slide_type": "slide"
    }
   },
   "source": [
    "The MinMax scaler didn't help at all!\n",
    "\n",
    "Perhaps we need a different kind of wrangling for this data set - feature engineering. (For example, does it make sense to include `extinction` as a feature, or should we instead combine the extinction with the observed magnitudes to get extinction corrected brightness measurements?)\n",
    "\n",
    "Finally - we close with a machine learning question, not a data wrangling question. Does it actually make sense to use a kNN model for datasets that have categorical features? "
   ]
  },
  {
   "cell_type": "markdown",
   "metadata": {
    "slideshow": {
     "slide_type": "slide"
    }
   },
   "source": [
    "**Problem 4i**\n",
    "\n",
    "Build a better machine learning model, possibly with the use of different features, to improve the model classification performance."
   ]
  },
  {
   "cell_type": "code",
   "execution_count": 108,
   "metadata": {
    "slideshow": {
     "slide_type": "subslide"
    }
   },
   "outputs": [
    {
     "name": "stdout",
     "output_type": "stream",
     "text": [
      "The RMSE = 0.2231823202772911\n",
      "0.32776 are catastrophic\n"
     ]
    },
    {
     "name": "stderr",
     "output_type": "stream",
     "text": [
      "/Users/adamamiller/miniconda3/envs/DSFP/lib/python3.6/site-packages/ipykernel_launcher.py:20: RuntimeWarning: divide by zero encountered in true_divide\n"
     ]
    }
   ],
   "source": [
    "from sklearn.ensemble import RandomForestRegressor\n",
    "\n",
    "for filt in ['u', 'r', 'i', 'z']:\n",
    "    sdss['psf_g-{}'.format(filt)] = sdss['psfMag_g'] - sdss['psfMag_{}'.format(filt)]\n",
    "    sdss['model_g-{}'.format(filt)] = sdss['modelMag_g'] - sdss['modelMag_{}'.format(filt)]\n",
    "\n",
    "X = np.array(sdss[['ps', 'ext', \n",
    "                   'w1det', 'w1mag', 'w2det', 'w2mag', 'w3det', 'w3mag', 'w4det', 'w4mag',\n",
    "                   'psf_g-u', 'psf_g-r', 'psf_g-i', 'psf_g-z', \n",
    "                   'model_g-u', 'model_g-r', 'model_g-i', 'model_g-z']])\n",
    "\n",
    "rf_reg = RandomForestRegressor(n_estimators=100)\n",
    "y_preds = cross_val_predict(rf_reg, X, y, cv=10)\n",
    "print('The RMSE = {}'.format(np.sqrt(mean_squared_error(y,y_preds))))\n",
    "print('{} are catastrophic'.format(catastrophic_fraction(y, y_preds)))"
   ]
  },
  {
   "cell_type": "code",
   "execution_count": 111,
   "metadata": {
    "slideshow": {
     "slide_type": "subslide"
    }
   },
   "outputs": [
    {
     "data": {
      "text/plain": [
       "Text(0,0.5,'z_kNN')"
      ]
     },
     "execution_count": 111,
     "metadata": {},
     "output_type": "execute_result"
    },
    {
     "data": {
      "image/png": "[encoded data removed]",
      "text/plain": [
       "<Figure size 576x576 with 1 Axes>"
      ]
     },
     "metadata": {},
     "output_type": "display_data"
    }
   ],
   "source": [
    "# plotting goes here\n",
    "\n",
    "fig, ax = plt.subplots(figsize=(8,8))\n",
    "ax.scatter(y, y_preds, alpha=0.02)\n",
    "ax.plot([0,6],[0,6], 'Crimson')\n",
    "ax.set_xlim(-0.1,4)\n",
    "ax.set_ylim(-0.1,4)\n",
    "ax.set_xlabel('z_SDSS')\n",
    "ax.set_ylabel('z_kNN')"
   ]
  }
 ],
 "metadata": {
  "celltoolbar": "Slideshow",
  "kernelspec": {
   "display_name": "Python 3",
   "language": "python",
   "name": "python3"
  },
  "language_info": {
   "codemirror_mode": {
    "name": "ipython",
    "version": 3
   },
   "file_extension": ".py",
   "mimetype": "text/x-python",
   "name": "python",
   "nbconvert_exporter": "python",
   "pygments_lexer": "ipython3",
   "version": "3.6.7"
  }
 },
 "nbformat": 4,
 "nbformat_minor": 2
}
