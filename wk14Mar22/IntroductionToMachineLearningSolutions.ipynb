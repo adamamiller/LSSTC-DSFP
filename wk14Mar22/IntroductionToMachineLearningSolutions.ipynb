{
 "cells": [
  {
   "cell_type": "code",
   "execution_count": 2,
   "id": "c46d490f",
   "metadata": {
    "slideshow": {
     "slide_type": "skip"
    }
   },
   "outputs": [],
   "source": [
    "import numpy as np\n",
    "import matplotlib.pyplot as plt\n",
    "\n",
    "%matplotlib notebook"
   ]
  },
  {
   "cell_type": "markdown",
   "id": "4deb0c47",
   "metadata": {
    "slideshow": {
     "slide_type": "slide"
    }
   },
   "source": [
    "# Introduction to Machine Learning\n",
    "\n",
    "\n",
    "##### Version 0.1 \n",
    "\n",
    "***\n",
    "\n",
    "By AA Miller (Northwestern/CIERA)  \n",
    "24 February 2022"
   ]
  },
  {
   "cell_type": "markdown",
   "id": "143f963e",
   "metadata": {
    "slideshow": {
     "slide_type": "slide"
    }
   },
   "source": [
    "What is machine learning? "
   ]
  },
  {
   "cell_type": "markdown",
   "id": "6a870cbc",
   "metadata": {
    "slideshow": {
     "slide_type": "slide"
    }
   },
   "source": [
    "<img style=\"display: block; margin-left: auto; margin-right: auto\" src=\"images/AI_ML_DL.jpeg\" width=\"450\" align=\"middle\">\n",
    "<div align=\"right\"> <font size=\"-3\">(credit: <a href=\"https://www.manning.com/books/deep-learning-with-python\">Deep Learning with Python, Chollet (2017)</a>) </font></div>"
   ]
  },
  {
   "cell_type": "markdown",
   "id": "914a71ba",
   "metadata": {
    "slideshow": {
     "slide_type": "slide"
    }
   },
   "source": [
    "Machine learning is a sub-field of artificial intelligence (AI)."
   ]
  },
  {
   "cell_type": "markdown",
   "id": "6d34ada2",
   "metadata": {
    "slideshow": {
     "slide_type": "subslide"
    }
   },
   "source": [
    "quick aside – for many many years I had this distinction backwards. I thought machine learning, in the form of simple learning models, such as the decision tree, was a small stride in the direction of AI – fully autonomous and *thinking* computers. This is **not correct**, AI is a very broad field, as we are about to see."
   ]
  },
  {
   "cell_type": "markdown",
   "id": "e7b5abd7",
   "metadata": {
    "slideshow": {
     "slide_type": "slide"
    }
   },
   "source": [
    "As a field, the goal of AI is to develop computers/machines that are capable of demonstrating intelligence.\n",
    "\n",
    "During the first major wave of AI development, most researchers focused on \"symbolic AI\"."
   ]
  },
  {
   "cell_type": "markdown",
   "id": "66d2d01c",
   "metadata": {
    "slideshow": {
     "slide_type": "slide"
    }
   },
   "source": [
    "Symbolic AI involves the \"hard coding\" of rules to replicate intelligence. In other words, rules are codified such that the machine knows how to repond to all possible input. \n",
    "\n",
    "For example, early versions of chess video games were build on symbolic AI."
   ]
  },
  {
   "cell_type": "markdown",
   "id": "b18c3a00",
   "metadata": {
    "slideshow": {
     "slide_type": "slide"
    }
   },
   "source": [
    "For every possible move made by the user, the computer had explicit instructions for what move it should make next.\n",
    "\n",
    "<img style=\"display: block; margin-left: auto; margin-right: auto\" src=\"images/chess.jpg\" width=\"450\" align=\"middle\">\n",
    "<div align=\"right\"> <font size=\"-3\">(credit: Microsoft) </font></div>"
   ]
  },
  {
   "cell_type": "markdown",
   "id": "a41c038e",
   "metadata": {
    "slideshow": {
     "slide_type": "subslide"
    }
   },
   "source": [
    "(Proof that I am old, I actually remember playing the chess game shown above even though most of you have never seen anything like this before)"
   ]
  },
  {
   "cell_type": "markdown",
   "id": "7a53185a",
   "metadata": {
    "slideshow": {
     "slide_type": "slide"
    }
   },
   "source": [
    "Imagine now trying to build something that replicated human intelligence with symbolic AI. \n",
    "\n",
    "A human says:  \n",
    "$~~~~$What's up? >> respond with: \"Nothing much.\"  \n",
    "$~~~~$What's up, dog? >> respond with: \"How's it hanging, daddio?\"  \n",
    "$~~~~$Whhaaaaaaaaaaz up? >> respond with: \"Hey buuuuuuuuuuudy.\"  "
   ]
  },
  {
   "cell_type": "markdown",
   "id": "3d9139c8",
   "metadata": {
    "slideshow": {
     "slide_type": "subslide"
    }
   },
   "source": [
    "(I could keep going, but you're probably sick of these...)"
   ]
  },
  {
   "cell_type": "markdown",
   "id": "f9f89b97",
   "metadata": {
    "slideshow": {
     "slide_type": "slide"
    }
   },
   "source": [
    "It is possible to imagine both (1) crafting millions of lines of code to create a fairly intelligent machine, and (2) that this machine would still never replicate \"general\" intelligence in any meaningful way. "
   ]
  },
  {
   "cell_type": "markdown",
   "id": "b01a95c8",
   "metadata": {
    "slideshow": {
     "slide_type": "slide"
    }
   },
   "source": [
    "Symbolic AI follows the standard paradigm of computer programing, a machine is (1) given a set of rules, (2) provided inputs/data, before (3) processing the inputs according to the rules in order to provide answers.\n",
    "\n",
    "There is a deterministic output for every input. "
   ]
  },
  {
   "cell_type": "markdown",
   "id": "803f7fed",
   "metadata": {
    "slideshow": {
     "slide_type": "slide"
    }
   },
   "source": [
    "Machine learning represents a significant shift from this design. In machine learning problems, the computer is presented with the inputs and the outputs, and the algorithm determines the rules. \n",
    "\n",
    "Machine learning can solve problems where the input-output relationship is not well understood. "
   ]
  },
  {
   "cell_type": "markdown",
   "id": "07143bcb",
   "metadata": {
    "slideshow": {
     "slide_type": "slide"
    }
   },
   "source": [
    "Machine learning goes beyond synbolic AI – we are explicitly asking the computer to learn relationships and rules that we cannot explicitly write down a priori.\n",
    "\n",
    "As a result, machine learning is an exceptionally powerful tool for classification. "
   ]
  },
  {
   "cell_type": "markdown",
   "id": "3f17d387",
   "metadata": {
    "slideshow": {
     "slide_type": "slide"
    }
   },
   "source": [
    "Deep learning is a new(-ish), and now totally dominant, subfield of machine learning, that emphasizes the construction of several layers of increasingly meaningful representations of the data. "
   ]
  },
  {
   "cell_type": "markdown",
   "id": "22673e4b",
   "metadata": {
    "slideshow": {
     "slide_type": "subslide"
    }
   },
   "source": [
    "(there are several lectures devoted to this later this week so forgive the incredibly short intro)"
   ]
  },
  {
   "cell_type": "markdown",
   "id": "5d1e32e9",
   "metadata": {
    "slideshow": {
     "slide_type": "slide"
    }
   },
   "source": [
    "Using the [ten hundred most common words](https://xkcd.com/simplewriter/) in the English language$^\\dagger$, I would describe machine learning as\n",
    "\n",
    "> making computers recognize information"
   ]
  },
  {
   "cell_type": "markdown",
   "id": "720513da",
   "metadata": {
    "slideshow": {
     "slide_type": "subslide"
    }
   },
   "source": [
    "$^\\dagger$ See [Up-goer five](https://xkcd.com/1133/)."
   ]
  },
  {
   "attachments": {},
   "cell_type": "markdown",
   "id": "cd86ba0d",
   "metadata": {
    "slideshow": {
     "slide_type": "slide"
    }
   },
   "source": [
    "In slightly more technical language, machine learning can be thought of as the development of extremely complex pattern recognition algorithms: \n",
    "\n",
    "<img style=\"display: block; margin-left: auto; margin-right: auto\" src=\"images/BishopBook.jpg\" width=\"350\" align=\"middle\">\n",
    "<div align=\"right\"> <font size=\"-3\">(credit: <a href=\"https://link.springer.com/book/9780387310732\">Pattern Recognition and Machine Learning, Bishop (2006)</a>) </font></div>"
   ]
  },
  {
   "cell_type": "markdown",
   "id": "3800ae65",
   "metadata": {
    "slideshow": {
     "slide_type": "slide"
    }
   },
   "source": [
    "I think it is also important to think of machine learning as an engineering task. As we said earlier, the computer learns rules to connect inputs to outputs, but we have virtually no means of understanding the rules that provide these connections."
   ]
  },
  {
   "cell_type": "markdown",
   "id": "60f2f6b7",
   "metadata": {
    "slideshow": {
     "slide_type": "slide"
    }
   },
   "source": [
    "Nevertheless, you should be excited about machine/deep learning as summarized in this image:\n",
    "\n",
    "<img style=\"display: block; margin-left: auto; margin-right: auto\" src=\"images/ImageNet.png\" width=\"550\" align=\"middle\">\n",
    "<div align=\"right\"> <font size=\"-3\">(credit: <a href=\"https://www.manning.com/books/probabilistic-deep-learning\">Probabilistic Deep Learning. Durr, Sick, Marina (2020)</a>) </font></div>"
   ]
  },
  {
   "cell_type": "markdown",
   "id": "82336cd6",
   "metadata": {
    "slideshow": {
     "slide_type": "slide"
    }
   },
   "source": [
    "As of 2015, machine learning models have surpassed humans at 2D image recognition tasks!"
   ]
  },
  {
   "cell_type": "markdown",
   "id": "280cd79f",
   "metadata": {
    "slideshow": {
     "slide_type": "slide"
    }
   },
   "source": [
    "(if this doesn't sound impressive, imagine creating symbolic AI to identify what it sees in an image. We will actually do this later this week...) "
   ]
  },
  {
   "cell_type": "markdown",
   "id": "3efbf7bd",
   "metadata": {
    "slideshow": {
     "slide_type": "slide"
    }
   },
   "source": [
    "There are tons of amazing accomplishments over the past several years: "
   ]
  },
  {
   "cell_type": "markdown",
   "id": "1567382e",
   "metadata": {
    "slideshow": {
     "slide_type": "fragment"
    }
   },
   "source": [
    "$~~~$Self-driving cars"
   ]
  },
  {
   "cell_type": "markdown",
   "id": "d6d3e3ee",
   "metadata": {
    "slideshow": {
     "slide_type": "fragment"
    }
   },
   "source": [
    "$~~~$Near-human-level speech recognition"
   ]
  },
  {
   "cell_type": "markdown",
   "id": "cc22c2ac",
   "metadata": {
    "slideshow": {
     "slide_type": "fragment"
    }
   },
   "source": [
    "$~~~$Machine translation"
   ]
  },
  {
   "cell_type": "markdown",
   "id": "abf4adbd",
   "metadata": {
    "slideshow": {
     "slide_type": "fragment"
    }
   },
   "source": [
    "$~~~$Digital assistants"
   ]
  },
  {
   "cell_type": "markdown",
   "id": "9a88317e",
   "metadata": {
    "slideshow": {
     "slide_type": "fragment"
    }
   },
   "source": [
    "$~~~$DeepMind's [AlphaGo](https://deepmind.com/research/case-studies/alphago-the-story-so-far)"
   ]
  },
  {
   "cell_type": "markdown",
   "id": "296913b0",
   "metadata": {
    "slideshow": {
     "slide_type": "slide"
    }
   },
   "source": [
    "So, did we all make a mistake in pursuing astro PhDs? Is it time to quit and devote all our energy/effort to machine learning? "
   ]
  },
  {
   "cell_type": "markdown",
   "id": "1c82b073",
   "metadata": {
    "slideshow": {
     "slide_type": "slide"
    }
   },
   "source": [
    "About those self-driving cars...\n",
    "\n",
    "<img style=\"display: block; margin-left: auto; margin-right: auto\" src=\"images/Headline.png\" width=\"650\" align=\"middle\">\n",
    "<div align=\"right\"> <font size=\"-3\">(credit: CNN) </font></div>"
   ]
  },
  {
   "cell_type": "markdown",
   "id": "0e773746",
   "metadata": {
    "slideshow": {
     "slide_type": "slide"
    }
   },
   "source": [
    "AI has undergone periods of rapid development and extreme hype before...\n",
    "\n",
    "Followed by periods of disillusionment and signficantly reduced funding (\"AI winter\")"
   ]
  },
  {
   "cell_type": "markdown",
   "id": "0b3b7deb",
   "metadata": {
    "slideshow": {
     "slide_type": "slide"
    }
   },
   "source": [
    "That being said, it is clear that Deep Learning is here to stay. \n",
    "\n",
    "Furthermore, I suspect these techniques are going to become increasingly important in astronomy, so it's important to know how they work. "
   ]
  },
  {
   "cell_type": "markdown",
   "id": "0b896f67",
   "metadata": {
    "slideshow": {
     "slide_type": "slide"
    }
   },
   "source": [
    "This session is nearly entirely devoted to understanding the how of machine learning. \n",
    "\n",
    "Before we delve into that, let's define some terminology and discuss some challenges for astronomical applications."
   ]
  },
  {
   "cell_type": "markdown",
   "id": "718f7e83",
   "metadata": {
    "slideshow": {
     "slide_type": "slide"
    }
   },
   "source": [
    "### Terminology\n",
    "\n",
    "*Features*$^\\dagger$ – measured properties of a source (numerical or categorical)  \n",
    "$~~~~$Often stored as vectors, entire data sets are a vector of vectors"
   ]
  },
  {
   "cell_type": "markdown",
   "id": "3cb70040",
   "metadata": {
    "slideshow": {
     "slide_type": "fragment"
    }
   },
   "source": [
    "*Labels*$^\\ast$ – outcomes, i.e., thing the algorithm predicts"
   ]
  },
  {
   "cell_type": "markdown",
   "id": "959acb99",
   "metadata": {
    "slideshow": {
     "slide_type": "subslide"
    }
   },
   "source": [
    "$^\\dagger$Until now, we have been referring to features as \"inputs\"\n",
    "\n",
    "$^\\ast$Similarly, these were previously called \"outputs\""
   ]
  },
  {
   "cell_type": "markdown",
   "id": "4f1008d5",
   "metadata": {
    "slideshow": {
     "slide_type": "slide"
    }
   },
   "source": [
    "Most machine learning is *supervised*. \n",
    "\n",
    "Features and labels are provided to the algorithm, and a mapping between the two is devised."
   ]
  },
  {
   "cell_type": "markdown",
   "id": "0a72d1d5",
   "metadata": {
    "slideshow": {
     "slide_type": "fragment"
    }
   },
   "source": [
    "In *unsupervised* learning, the labels are not known. "
   ]
  },
  {
   "cell_type": "markdown",
   "id": "bd870ae5",
   "metadata": {
    "slideshow": {
     "slide_type": "subslide"
    }
   },
   "source": [
    "(I sincerely hope you aren't bored, I'll be giving full talks on unsupervised and supervised learning later today...)"
   ]
  },
  {
   "cell_type": "markdown",
   "id": "ca112f03",
   "metadata": {
    "slideshow": {
     "slide_type": "slide"
    }
   },
   "source": [
    "*Training set* – subset of the data with known features and labels  \n",
    "$~~~~$(for supervised applications)"
   ]
  },
  {
   "cell_type": "markdown",
   "id": "449442cd",
   "metadata": {
    "slideshow": {
     "slide_type": "slide"
    }
   },
   "source": [
    "#### Metrics\n",
    "\n",
    "True positive (TP) = + classified as +\n",
    "\n",
    "False positive (FP) = - classified as + (type I error)\n",
    "\n",
    "True negative (TN) = - classified as -\n",
    "\n",
    "False negative (FN) = + classified as - (type II error)"
   ]
  },
  {
   "cell_type": "markdown",
   "id": "748c82ba",
   "metadata": {
    "slideshow": {
     "slide_type": "slide"
    }
   },
   "source": [
    "## Problem 1\n",
    "\n",
    "What is more detrimental when building a model: false positives or false negatives?"
   ]
  },
  {
   "cell_type": "markdown",
   "id": "2f666480",
   "metadata": {
    "slideshow": {
     "slide_type": "slide"
    }
   },
   "source": [
    "*Take a few minutes to discuss with your partner*"
   ]
  },
  {
   "cell_type": "markdown",
   "id": "06a2daa7",
   "metadata": {
    "slideshow": {
     "slide_type": "slide"
    }
   },
   "source": [
    "Ultimately, this depends on the problem at hand. If you are building a model to detect cancer, false negatives are really really bad. If you are building a model to find extremely metal poor stars, and then you obtain a 10 hr spectrum on a 10 m telescope to confirm your candidates, false positives are really really bad."
   ]
  },
  {
   "cell_type": "markdown",
   "id": "7979ff04",
   "metadata": {
    "slideshow": {
     "slide_type": "slide"
    }
   },
   "source": [
    "### Machine Learning for Astronomy\n",
    "\n",
    "The history of astronomy is a long story of classification. Essentially, point a telescope at some new location in the sky, and there is a decent chance you might find something that has never been seen before. Now, figure out how this new thing relates to all the things that you already know."
   ]
  },
  {
   "cell_type": "markdown",
   "id": "e63bc425",
   "metadata": {
    "slideshow": {
     "slide_type": "subslide"
    }
   },
   "source": [
    "Taxonomy of the cosmos ;)"
   ]
  },
  {
   "cell_type": "markdown",
   "id": "7b183c58",
   "metadata": {
    "slideshow": {
     "slide_type": "slide"
    }
   },
   "source": [
    "Aside - astronomy is (and has been) an observational/experimental led field. The typical pattern is obsservers find some weird thing, and then the theorists try to explain what is going on (there are obviously exceptions, predictions for kilonovae prior to the LIGO detection of a neutron star-neutron star merger are a recent example).\n",
    "\n",
    "This makes us very different from physics, where theory generates predictions that then lead the observations (e.g., Higgs boson, general relativity, etc.)."
   ]
  },
  {
   "cell_type": "markdown",
   "id": "5057a7a4",
   "metadata": {
    "slideshow": {
     "slide_type": "slide"
    }
   },
   "source": [
    "Machine learning is amazing, completely utterly amazing, at classification.  \n",
    "Astronomy is built on classification.  \n",
    "So...\n",
    "\n",
    "High-fives all around."
   ]
  },
  {
   "cell_type": "markdown",
   "id": "32e6db20",
   "metadata": {
    "slideshow": {
     "slide_type": "slide"
    }
   },
   "source": [
    "$~$"
   ]
  },
  {
   "cell_type": "markdown",
   "id": "a14a4591",
   "metadata": {
    "slideshow": {
     "slide_type": "slide"
    }
   },
   "source": [
    "Adam, why are you pausing?\n",
    "\n",
    "..."
   ]
  },
  {
   "cell_type": "markdown",
   "id": "1d0413c7",
   "metadata": {
    "slideshow": {
     "slide_type": "slide"
    }
   },
   "source": [
    "No seriously. "
   ]
  },
  {
   "cell_type": "markdown",
   "id": "3325aaa9",
   "metadata": {
    "slideshow": {
     "slide_type": "fragment"
    }
   },
   "source": [
    "**Why** aren't you talking?\n",
    "\n"
   ]
  },
  {
   "cell_type": "markdown",
   "id": "1cfddb21",
   "metadata": {
    "slideshow": {
     "slide_type": "fragment"
    }
   },
   "source": [
    "IS SOMETHING WRONG?"
   ]
  },
  {
   "cell_type": "markdown",
   "id": "b1873df0",
   "metadata": {
    "slideshow": {
     "slide_type": "slide"
    }
   },
   "source": [
    "While I just argued that astronomy is an observationally-led, classification-concerned discipline, ultimately, like physicists, we care about the development of a physical understanding of how the Universe works."
   ]
  },
  {
   "cell_type": "markdown",
   "id": "93fe6df9",
   "metadata": {
    "slideshow": {
     "slide_type": "slide"
    }
   },
   "source": [
    "For example, we don't care that this is classified as a blue galaxy.\n",
    "\n",
    "<img style=\"display: block; margin-left: auto; margin-right: auto\" src=\"images/m106_colombari_3568.jpg\" width=\"450\" align=\"middle\">\n",
    "<div align=\"right\"> <font size=\"-3\">(credit: R. Colombari & R. Gendler, data: NASA/ESO/NAOJ/Giovanni Paglioli) </font></div>"
   ]
  },
  {
   "cell_type": "markdown",
   "id": "334a481f",
   "metadata": {
    "slideshow": {
     "slide_type": "slide"
    }
   },
   "source": [
    "We care that blue galaxies are actively forming stars. \n",
    "\n",
    "The classification comes before the inference, but the inference is what truly teaches us about the universe."
   ]
  },
  {
   "cell_type": "markdown",
   "id": "69b27177",
   "metadata": {
    "slideshow": {
     "slide_type": "fragment"
    }
   },
   "source": [
    "Fundamentally, machine learning is not built to tell us that blue means active star formation."
   ]
  },
  {
   "cell_type": "markdown",
   "id": "56cc932a",
   "metadata": {
    "slideshow": {
     "slide_type": "slide"
    }
   },
   "source": [
    "In other words, \n",
    "\n",
    "machine learning $\\longleftrightarrow$ prediction\n",
    "\n",
    "astronomy $\\longleftrightarrow$ inference"
   ]
  },
  {
   "cell_type": "markdown",
   "id": "f6c2a050",
   "metadata": {
    "slideshow": {
     "slide_type": "slide"
    }
   },
   "source": [
    "As astronomers, we are data producers. We design experiments to try and understand the universe.\n",
    "\n",
    "Machine learners$^\\dagger$ are data consumers. They take as much, and whatever, they can get.\n",
    "\n",
    "I contend that this distinction matters."
   ]
  },
  {
   "cell_type": "markdown",
   "id": "f284b7a1",
   "metadata": {
    "slideshow": {
     "slide_type": "subslide"
    }
   },
   "source": [
    "(people that are much smarter than I are working on incorporating more elements of inference into machine learning. At first I was skeptical, but I am slowly starting to be convinced. We will hear more about this later this week.)\n",
    "\n",
    "$^\\dagger$Totally a phrase I just made up."
   ]
  },
  {
   "cell_type": "markdown",
   "id": "e76a8714",
   "metadata": {
    "slideshow": {
     "slide_type": "slide"
    }
   },
   "source": [
    "## Other Considerations for Astronomy\n",
    "\n",
    "*pssst* \n",
    "\n",
    "Our data sets are not that large. "
   ]
  },
  {
   "cell_type": "markdown",
   "id": "41efd325",
   "metadata": {
    "slideshow": {
     "slide_type": "fragment"
    }
   },
   "source": [
    "Yes, we always talk about the Vera C. Rubin Observatory and big data, but..."
   ]
  },
  {
   "cell_type": "markdown",
   "id": "88d7c1b1",
   "metadata": {
    "slideshow": {
     "slide_type": "fragment"
    }
   },
   "source": [
    "Instagram is a thing that exists"
   ]
  },
  {
   "cell_type": "markdown",
   "id": "ab45095a",
   "metadata": {
    "slideshow": {
     "slide_type": "slide"
    }
   },
   "source": [
    "Speaking of small data sets – \n",
    "\n",
    "Training sets are hard. "
   ]
  },
  {
   "cell_type": "markdown",
   "id": "b89eabca",
   "metadata": {
    "slideshow": {
     "slide_type": "slide"
    }
   },
   "source": [
    "Why is this?  \n",
    "Labels are expensive."
   ]
  },
  {
   "cell_type": "markdown",
   "id": "191a9ce6",
   "metadata": {
    "slideshow": {
     "slide_type": "slide"
    }
   },
   "source": [
    "Bias.  \n",
    "\n",
    "Pattern matching cannot inherently know about bias, and so biases in the training set will be propagated to the final model predictions. "
   ]
  },
  {
   "cell_type": "markdown",
   "id": "aed09d64",
   "metadata": {
    "slideshow": {
     "slide_type": "subslide"
    }
   },
   "source": [
    "(this has tons of VERY IMPORTANT implications for machine learning in society that I do not have time to address today)"
   ]
  },
  {
   "cell_type": "markdown",
   "id": "2be76304",
   "metadata": {
    "slideshow": {
     "slide_type": "slide"
    }
   },
   "source": [
    "Every survey is guaranteed to have a biased training set. Any new survey is likely to be observing the sky in some unique fashion, and thus probing parameter space in some new way. This new survey mode will therefore find sources that were not present in the previous survey. \n",
    "\n",
    "For example, a new survey that goes 1.5 mag deeper than the previous survey will find a lot of galaxies at higher redshifts. Furthermore, at fixed redshift, the new survey will find more intrinsically faint galaxies. These high redshift and intrinsically faint galaxies, will not have counterparts in a training set based on the previous survey, and therefore they will be classified incorrectly.\n",
    "\n",
    "\n",
    "This is known as *sample selection bias* and it is nasty. "
   ]
  },
  {
   "cell_type": "markdown",
   "id": "6793acca",
   "metadata": {
    "slideshow": {
     "slide_type": "slide"
    }
   },
   "source": [
    "## Problem 2\n",
    "\n",
    "Based on very sound theoretical reasoning, you expect to find the following in a sample of 100 stars: 60 orange stars, 30 purple stars, and 10 grey stars.\n",
    "\n",
    "Data from another survey includes 1000 orange stars, 200 purple stars, and 14 grey stars. \n",
    "\n",
    "Furthermore, 14 of the orange stars, 7 of the purple stars, and 5 of the grey stars have features that are missing. \n",
    "\n",
    "You need to build a model to classify stars as either orange, purple, or grey. What do you do?"
   ]
  },
  {
   "cell_type": "markdown",
   "id": "733a298f",
   "metadata": {
    "slideshow": {
     "slide_type": "slide"
    }
   },
   "source": [
    "*Take a few minutes to discuss with your partner*"
   ]
  },
  {
   "cell_type": "markdown",
   "id": "06dadb41",
   "metadata": {
    "slideshow": {
     "slide_type": "slide"
    }
   },
   "source": [
    "There is no correct answer here. Given what we know, I'd do the following: \n",
    "\n",
    "  1.  throw away the sources with the missing data\n",
    "  2.  fit an unsupervized clustering model to the data to identify whether classes are easily separable\n",
    "  3.  sample from the training set to create a distribution that matches the theoretical prediction\n",
    "  4.  fit the machine learning model and make final predictions"
   ]
  },
  {
   "cell_type": "markdown",
   "id": "75012173",
   "metadata": {
    "slideshow": {
     "slide_type": "slide"
    }
   },
   "source": [
    "## Conclusions\n",
    "\n",
    "Machine learning algorithms are extremely powerful  \n",
    "$~~~~~~$hard to imagine your work will not be impacted by ML"
   ]
  },
  {
   "cell_type": "markdown",
   "id": "c68fdb06",
   "metadata": {
    "slideshow": {
     "slide_type": "fragment"
    }
   },
   "source": [
    "Machine learning provides predictions; we want inference"
   ]
  },
  {
   "cell_type": "markdown",
   "id": "fe58a493",
   "metadata": {
    "slideshow": {
     "slide_type": "fragment"
    }
   },
   "source": [
    "All astronomical training sets are biased – very difficult to properly interpret (some) predictions as a result"
   ]
  }
 ],
 "metadata": {
  "celltoolbar": "Slideshow",
  "kernelspec": {
   "display_name": "Python 3 (ipykernel)",
   "language": "python",
   "name": "python3"
  },
  "language_info": {
   "codemirror_mode": {
    "name": "ipython",
    "version": 3
   },
   "file_extension": ".py",
   "mimetype": "text/x-python",
   "name": "python",
   "nbconvert_exporter": "python",
   "pygments_lexer": "ipython3",
   "version": "3.8.12"
  }
 },
 "nbformat": 4,
 "nbformat_minor": 5
}
