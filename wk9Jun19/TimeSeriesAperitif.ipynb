{
 "cells": [
  {
   "cell_type": "markdown",
   "metadata": {
    "slideshow": {
     "slide_type": "slide"
    }
   },
   "source": [
    "# Astronomical Time Series\n",
    "\n",
    "**version 0.1**\n",
    "\n",
    "***\n",
    "\n",
    "AA Miller (Northwestern CIERA/Adler Planetarium)\n",
    "30 Apr 2018"
   ]
  },
  {
   "cell_type": "markdown",
   "metadata": {
    "slideshow": {
     "slide_type": "slide"
    }
   },
   "source": [
    "Over the past $\\sim$decade the analysis of astronomical time series has become significantly more interesting. Rather generically, most times series$^\\dagger$ used to look like this: \n",
    "\n",
    "$^\\dagger$ As LSST is a photometric-only survey, we will restrict our discussion today to optical light curves."
   ]
  },
  {
   "cell_type": "markdown",
   "metadata": {
    "slideshow": {
     "slide_type": "slide"
    }
   },
   "source": [
    "<img style=\"display: block; margin-left: auto; margin-right: auto\" src=\"./images/ASAS_lc.png\" align=\"middle\">\n",
    "\n",
    "<div align=\"right\"> <font size=\"-3\">(credit: Richards et al. 2012) </font></div>"
   ]
  },
  {
   "cell_type": "markdown",
   "metadata": {
    "slideshow": {
     "slide_type": "slide"
    }
   },
   "source": [
    "What are the salient features here?\n",
    "\n",
    "  -  There are large gaps in the observations\n",
    "  -  The observations are very noisy\n",
    "  -  There are non-gaussian processes present in the data"
   ]
  },
  {
   "cell_type": "markdown",
   "metadata": {
    "slideshow": {
     "slide_type": "slide"
    }
   },
   "source": [
    "Relative to standard signal processing procedures in the statistical literature, these issues made the analysis of astronomical time-series difficult. Standard procedures assume regularly spaced observations or homoskedastic uncertainties, which is a regime that we did not have access to in astronomy. Until $\\sim$10 years ago with the launch of *CoRoT* (and later *Kepler* and now *TESS*).$^\\dagger$\n",
    "\n",
    "$^\\dagger$ X-ray observatories, and now gravitational wave observatories, also give us access to regularly sampled data."
   ]
  },
  {
   "cell_type": "markdown",
   "metadata": {
    "slideshow": {
     "slide_type": "slide"
    }
   },
   "source": [
    "These space based observatories gave us: \n",
    "\n",
    "<img style=\"display: block; margin-left: auto; margin-right: auto\" src=\"./images/13Cyg_fromAASposter1.jpg\" align=\"middle\">\n",
    "\n",
    "<div align=\"right\"> <font size=\"-3\">(credit: NASA *Kepler* Science Center) </font></div>"
   ]
  },
  {
   "cell_type": "markdown",
   "metadata": {
    "slideshow": {
     "slide_type": "slide"
    }
   },
   "source": [
    "These space-based missions provide precise (ppm accuracy) observations taken at regular intervals ($\\sim$30 min) over long intervals ($\\sim$4 yr for *Kepler*). \n",
    "\n",
    "As a result, astronomical time-series analysis falls into two different regimes: ground-based surveys and space-based planet hunting surveys. These regimes provide very different problems, which need to be addressed separately."
   ]
  },
  {
   "cell_type": "markdown",
   "metadata": {
    "slideshow": {
     "slide_type": "slide"
    }
   },
   "source": [
    "In this lecture, we will focus on issues related to ground-based surveys in deference to LSST. Speaking of LSST..."
   ]
  },
  {
   "cell_type": "markdown",
   "metadata": {
    "slideshow": {
     "slide_type": "slide"
    }
   },
   "source": [
    "In the 2010 Decadal Survey, LSST was listed as the primary objective for ground based astronomy in the 2010s...\n",
    "\n",
    "<img style=\"display: block; margin-left: auto; margin-right: auto\" src=\"./images/2015-SL_LSST_LSSTIllus.jpg\" align=\"middle\">\n",
    "\n",
    "<div align=\"right\"> <font size=\"-3\">(credit: Kavli foundation) </font></div>"
   ]
  },
  {
   "cell_type": "markdown",
   "metadata": {
    "slideshow": {
     "slide_type": "slide"
    }
   },
   "source": [
    "**Break Out Problem 1**\n",
    "\n",
    "In what ways will LSST be transformative?"
   ]
  },
  {
   "cell_type": "markdown",
   "metadata": {
    "slideshow": {
     "slide_type": "slide"
    }
   },
   "source": [
    "**Solution to Break Out 1**\n",
    "\n",
    "*Discuss with a partner then write your answer here*"
   ]
  },
  {
   "cell_type": "markdown",
   "metadata": {
    "slideshow": {
     "slide_type": "slide"
    }
   },
   "source": [
    "LSST will go really deep ($\\sim 2\\pi$ coverage to a final stack depth of $\\sim 27.5\\,\\mathrm{mag}$). This is really impressive, it's like having an all-sky survey to the depth of HST COSMOS observations. But...\n",
    "\n",
    "HSC on the 8-m Subaru telescope, already provides comparable depth over a modest area. "
   ]
  },
  {
   "cell_type": "markdown",
   "metadata": {
    "slideshow": {
     "slide_type": "slide"
    }
   },
   "source": [
    "LSST will detect millions of supernovae. But...\n",
    "\n",
    "Most of these SNe will be incredibly faint, and therefore difficult to study."
   ]
  },
  {
   "cell_type": "markdown",
   "metadata": {
    "slideshow": {
     "slide_type": "slide"
    }
   },
   "source": [
    "[Note that the following statement is loaded with personal bias]\n",
    "\n",
    "One way in which LSST is going to be exceptionally transformative is the time series of persistent objects. Everything brighter than $21\\,\\mathrm{mag}$ will have better than 1% light curves over a 10 year duration. This is completely unlike anything that has been previously done, and anything planned in the near future."
   ]
  },
  {
   "cell_type": "markdown",
   "metadata": {
    "slideshow": {
     "slide_type": "slide"
    }
   },
   "source": [
    "What does this sub-1% photometry mean?\n",
    "\n",
    "  - all hot jupiters around stars brighter than $21\\,\\mathrm{mag}$ will be found\n",
    "  - rotation periods for all asteroids brighter than $21\\,\\mathrm{mag}$ will be known\n",
    "  - the most distant stars in the MW halo will be identified"
   ]
  },
  {
   "cell_type": "markdown",
   "metadata": {
    "slideshow": {
     "slide_type": "slide"
    }
   },
   "source": [
    "**Break Out Problem 2**\n",
    "\n",
    "What information might we want to extract from light curves?"
   ]
  },
  {
   "cell_type": "markdown",
   "metadata": {
    "slideshow": {
     "slide_type": "slide"
    }
   },
   "source": [
    "**Solution to Break Out 2**\n",
    "\n",
    "Write you answer here."
   ]
  },
  {
   "cell_type": "markdown",
   "metadata": {
    "slideshow": {
     "slide_type": "slide"
    }
   },
   "source": [
    "Periodicity is the most fundamental signal in astronomical light curves. Periodic signals are always very closely related to fundamental physics (orbits, pulsations, rotation). Thus, if you can measure the period of a source, you can know something fundamental about its nature. However, given the previously mentioned challenges (observational gaps, heteroskedastic uncertainties, non-Gaussian outliers), it is very very difficult to measure periodic signals in ground-based astronomical light curves."
   ]
  },
  {
   "cell_type": "markdown",
   "metadata": {
    "slideshow": {
     "slide_type": "slide"
    }
   },
   "source": [
    "And with that, let's spend a little time discussing how we might extract periodicity from the data."
   ]
  }
 ],
 "metadata": {
  "celltoolbar": "Slideshow",
  "kernelspec": {
   "display_name": "Python 3",
   "language": "python",
   "name": "python3"
  },
  "language_info": {
   "codemirror_mode": {
    "name": "ipython",
    "version": 3
   },
   "file_extension": ".py",
   "mimetype": "text/x-python",
   "name": "python",
   "nbconvert_exporter": "python",
   "pygments_lexer": "ipython3",
   "version": "3.6.7"
  }
 },
 "nbformat": 4,
 "nbformat_minor": 2
}
