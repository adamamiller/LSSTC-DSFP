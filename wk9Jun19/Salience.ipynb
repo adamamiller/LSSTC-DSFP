{
 "cells": [
  {
   "cell_type": "code",
   "execution_count": 5,
   "metadata": {},
   "outputs": [],
   "source": [
    "import numpy as np\n",
    "import pandas as pd\n",
    "import matplotlib.pyplot as plt\n",
    "\n",
    "from sklearn.datasets import make_classification"
   ]
  },
  {
   "cell_type": "code",
   "execution_count": 6,
   "metadata": {},
   "outputs": [],
   "source": [
    "%matplotlib notebook"
   ]
  },
  {
   "cell_type": "markdown",
   "metadata": {},
   "source": [
    "# Salience: Highlighting the Most Important Features in the Data\n",
    "\n",
    "**Version 0.1**\n",
    "\n",
    "***\n",
    "By AA Miller 11 June 2019"
   ]
  },
  {
   "cell_type": "markdown",
   "metadata": {},
   "source": [
    "As we saw during the lecture, there are a nearly infinite number of parameters that can be adjusted when developing visuals for scientific communication. From something as small as - the thickness of the axes, to as critical as the choice of color (**or** choice to avoid the use of color), each of these choices will eventually affect the final interpretation of the data.   "
   ]
  },
  {
   "cell_type": "markdown",
   "metadata": {},
   "source": [
    "As you constuct visualizations today, there are three points from the lecture that I especially want to highlight:\n",
    "\n",
    "  - *Salience* –– make specific choices to highlight the most important features of the visualization  "
   ]
  },
  {
   "cell_type": "markdown",
   "metadata": {},
   "source": [
    "  - Storytelling –– figure out the story you want to tell with the data\n",
    "  \n",
    "Alternatively, ask your yourself, \"what would the newspaper headline be for this figure/presentation?\""
   ]
  },
  {
   "cell_type": "markdown",
   "metadata": {},
   "source": [
    "## Problem 1) Simple Synthetic Data\n",
    "\n",
    "We will use the [make_classification](https://scikit-learn.org/stable/modules/generated/sklearn.datasets.make_classification.html#sklearn.datasets.make_classification) function from scikit-learn to generate some data in a low dimensional data space."
   ]
  },
  {
   "cell_type": "markdown",
   "metadata": {},
   "source": [
    "**Problem 1a**\n",
    "\n",
    "Create 125 sources that live in 4 dimensions, where each source belongs to one of two classes.\n",
    "\n",
    "*Hint* –– execute the cell below."
   ]
  },
  {
   "cell_type": "code",
   "execution_count": 22,
   "metadata": {},
   "outputs": [],
   "source": [
    "np.random.seed(23)\n",
    "X, y = make_classification(n_samples=225, n_classes=2, \n",
    "                           n_features=4, n_redundant=0, n_informative=4,\n",
    "                           flip_y=0.04, weights=[0.62,0.38])"
   ]
  },
  {
   "cell_type": "markdown",
   "metadata": {},
   "source": [
    "**Problem 1b**\n",
    "\n",
    "Using the defaults in `matplotlib`, make a scatter plot of the data showing feature 1 vs. feature 2. Use different colors for the two classes (again with the `matplotlib` defaults).\n",
    "\n",
    "*Hint* –– recall that `scikit-learn` organizes feature data in a two-dimensional array, where every column corresponds to a single source and every row corresponds to a single feature. "
   ]
  },
  {
   "cell_type": "code",
   "execution_count": null,
   "metadata": {},
   "outputs": [],
   "source": [
    "fig, ax = plt.subplots()\n",
    "ax.scatter( # complete"
   ]
  },
  {
   "cell_type": "markdown",
   "metadata": {},
   "source": [
    "Now that we are familiar with the \"defaults\", we will apply several of the lessons from the lecture to create more salient visualizations.\n",
    "\n",
    "Note –– many of the following questions are a little open ended, be sure you are happy with your results, but I would suggest that you do not dwell on any single inquiry for a really long time ($\\gtrsim$15 min)."
   ]
  },
  {
   "cell_type": "markdown",
   "metadata": {},
   "source": [
    "## Problem 2) Salience –– Plotting Symbols"
   ]
  },
  {
   "cell_type": "markdown",
   "metadata": {},
   "source": [
    "**Problem 2a** \n",
    "\n",
    "Replot the data using symbols that provide strong visual boundaries between the two classes. \n",
    "\n",
    "*Hint* –– make a choice that highlights the most important feature in the data (this will be subjective)."
   ]
  },
  {
   "cell_type": "code",
   "execution_count": null,
   "metadata": {},
   "outputs": [],
   "source": [
    "fig, ax = plt.subplots()"
   ]
  },
  {
   "cell_type": "markdown",
   "metadata": {},
   "source": [
    "**Problem 2b**\n",
    "\n",
    "Replot the data, again with strong visual boundaries, but this time do not use color (if you did not use color in **2a** then use color for this problem."
   ]
  },
  {
   "cell_type": "code",
   "execution_count": null,
   "metadata": {},
   "outputs": [],
   "source": [
    "fig, ax = plt.subplots()"
   ]
  },
  {
   "cell_type": "markdown",
   "metadata": {},
   "source": [
    "**Problem 2c**\n",
    "\n",
    "Replot the data, again with strong visual boundaries, varying some new aspect of the plotting symbols to distinguish the two classes. \n",
    "\n",
    "*Hint* –– recall that you have many options at your disposal (e.g., symbol, color, size, orientation, shape, motion, etc)"
   ]
  },
  {
   "cell_type": "code",
   "execution_count": null,
   "metadata": {},
   "outputs": [],
   "source": [
    "fig, ax = plt.subplots()"
   ]
  },
  {
   "cell_type": "markdown",
   "metadata": {},
   "source": [
    "**Problem 2d**\n",
    "\n",
    "Use [www.color-blindness.com](https://www.color-blindness.com/coblis-color-blindness-simulator/) to examine how each of your choices above would appear to someone that is color blind. How do they appear in black and white? \n",
    "\n",
    "After this examination, do you want to alter any of the previous plots?"
   ]
  },
  {
   "cell_type": "code",
   "execution_count": null,
   "metadata": {},
   "outputs": [],
   "source": [
    "fig, ax = plt.subplots()"
   ]
  },
  {
   "cell_type": "markdown",
   "metadata": {},
   "source": [
    "**Problem 2e**\n",
    "\n",
    "Use the principle of enclosure to further highlight salient features in the data set."
   ]
  },
  {
   "cell_type": "code",
   "execution_count": null,
   "metadata": {},
   "outputs": [],
   "source": [
    "fig, ax = plt.subplots()"
   ]
  },
  {
   "cell_type": "markdown",
   "metadata": {},
   "source": [
    "## Problem 3) Salience - Relative magnitude"
   ]
  },
  {
   "cell_type": "markdown",
   "metadata": {},
   "source": [
    "**Problem 3a**\n",
    "\n",
    "Make a pie chart showing the relative number of sources in each class.\n",
    "\n",
    "*Hint* –– don't do this in real life."
   ]
  },
  {
   "cell_type": "code",
   "execution_count": null,
   "metadata": {},
   "outputs": [],
   "source": [
    "fig, ax = plt.subplots()"
   ]
  },
  {
   "cell_type": "markdown",
   "metadata": {},
   "source": [
    "**Problem 3b**\n",
    "\n",
    "Make a bar graph showing the relative number of sources in each class."
   ]
  },
  {
   "cell_type": "code",
   "execution_count": null,
   "metadata": {},
   "outputs": [],
   "source": [
    "fig, ax = plt.subplots()"
   ]
  },
  {
   "cell_type": "markdown",
   "metadata": {},
   "source": [
    "**Problem 3c** \n",
    "\n",
    "Plot the same bar graph with a background grid that makes it easy to rapidly judge the relative magnitude of each class (i.e. remove the y-axis labels).\n",
    "\n",
    "*Note* –– beware of introducing judgement error."
   ]
  },
  {
   "cell_type": "code",
   "execution_count": null,
   "metadata": {},
   "outputs": [],
   "source": [
    "fig, ax = plt.subplots()"
   ]
  },
  {
   "cell_type": "markdown",
   "metadata": {},
   "source": [
    "**Problem 3d**\n",
    "\n",
    "Can you adjust the grid to improve the salience of the bar graph? What thickness are you using for the grid lines? How does this compare to the axes lines? What line style? What opacity?"
   ]
  },
  {
   "cell_type": "code",
   "execution_count": null,
   "metadata": {},
   "outputs": [],
   "source": [
    "fig, ax = plt.subplots()"
   ]
  },
  {
   "cell_type": "markdown",
   "metadata": {},
   "source": [
    "## Problem 4) Salience –– Multiple dimensions"
   ]
  },
  {
   "cell_type": "markdown",
   "metadata": {},
   "source": [
    "**Problem 4a**\n",
    "\n",
    "Using a plotting element that is currently not shown (shape, size, color, symbol, etc), encode the 3rd feature on your 2d scatter plot. \n",
    "\n",
    "*Hint* –– recall that hue does a terrible job of representing relative magnitude."
   ]
  },
  {
   "cell_type": "code",
   "execution_count": null,
   "metadata": {},
   "outputs": [],
   "source": [
    "fig, ax = plt.subplots()"
   ]
  },
  {
   "cell_type": "markdown",
   "metadata": {},
   "source": [
    "**Problem 4b**\n",
    "\n",
    "Using a different plotting element that is currently not shown (shape, size, color, symbol, etc), encode the 4th, in addition to the 3rd feature, on your 2d scatter plot.\n",
    "\n",
    "How successful are each of the previous representations?"
   ]
  },
  {
   "cell_type": "code",
   "execution_count": null,
   "metadata": {},
   "outputs": [],
   "source": [
    "fig, ax = plt.subplots()"
   ]
  },
  {
   "cell_type": "markdown",
   "metadata": {},
   "source": [
    "**Problem 4c**\n",
    "\n",
    "Create a parallel coordinate plot to represent the two different classes in 4 dimensions. \n",
    "\n",
    "Is this representation more successful than the previous 2d scatter plots? Why or why not?\n",
    "\n",
    "*Hint* –– think about how you normalize the parallel axes."
   ]
  },
  {
   "cell_type": "code",
   "execution_count": null,
   "metadata": {},
   "outputs": [],
   "source": [
    "fig, ax = plt.subplots()"
   ]
  },
  {
   "cell_type": "markdown",
   "metadata": {},
   "source": [
    "**Problem 4d**\n",
    "\n",
    "Create a corner plot to represent the two different classes. \n",
    "\n",
    "Is this representation more successful than the parallel coordinate plot? Why or why not?\n",
    "\n",
    "*Hint* –– `corner` and/or `seaborn` are your friiiiiiiiiiiiiiiiiiiends."
   ]
  },
  {
   "cell_type": "code",
   "execution_count": null,
   "metadata": {},
   "outputs": [],
   "source": [
    "fig, ax = plt.subplots()"
   ]
  },
  {
   "cell_type": "markdown",
   "metadata": {},
   "source": [
    "Which of all the above representations is \"best\"? Why (think about the Gestalt and design principles that have been successfully used)?"
   ]
  },
  {
   "cell_type": "markdown",
   "metadata": {},
   "source": [
    "## Challenge Problem –– Real World"
   ]
  },
  {
   "cell_type": "markdown",
   "metadata": {},
   "source": [
    "**Challenge Problem** Use the Gestalt principles and theories of design discussed in the previous lecture to redesign your own figures or slides. \n",
    "\n",
    "Be sure to share a screen grab of the original and the improved version so we can compare at the end."
   ]
  },
  {
   "cell_type": "code",
   "execution_count": null,
   "metadata": {},
   "outputs": [],
   "source": [
    "fig, ax = plt.subplots()"
   ]
  }
 ],
 "metadata": {
  "kernelspec": {
   "display_name": "Python 3",
   "language": "python",
   "name": "python3"
  },
  "language_info": {
   "codemirror_mode": {
    "name": "ipython",
    "version": 3
   },
   "file_extension": ".py",
   "mimetype": "text/x-python",
   "name": "python",
   "nbconvert_exporter": "python",
   "pygments_lexer": "ipython3",
   "version": "3.6.7"
  }
 },
 "nbformat": 4,
 "nbformat_minor": 2
}
